{
 "metadata": {
  "name": "",
  "signature": "sha256:2c8a934008a539e4fb5661d954a81f8feec34f89445d42ccc01e0b1f09982b6f"
 },
 "nbformat": 3,
 "nbformat_minor": 0,
 "worksheets": [
  {
   "cells": [
    {
     "cell_type": "code",
     "collapsed": false,
     "input": [
      "import menpo.io as pio\n",
      "from menpo.landmark import labeller, ibug_68_trimesh\n",
      "\n",
      "images = []\n",
      "# load landmarked imarges\n",
      "for i in pio.import_images('/Users/joan/PhD/DataBases/lfpw/trainset/*.png',\n",
      "                     max_images=500):\n",
      "    i.crop_to_landmarks_proportion(0.5)\n",
      "    if i.n_channels == 3:\n",
      "        images.append(i.as_greyscale(mode='luminosity'))\n",
      "    else:\n",
      "        images.append(i)"
     ],
     "language": "python",
     "metadata": {},
     "outputs": [],
     "prompt_number": 1
    },
    {
     "cell_type": "code",
     "collapsed": false,
     "input": [
      "shapes = [i.landmarks['PTS'].lms for i in images]"
     ],
     "language": "python",
     "metadata": {},
     "outputs": [],
     "prompt_number": 2
    },
    {
     "cell_type": "code",
     "collapsed": false,
     "input": [
      "from menpo.fitmultilevel.functions import noisy_align\n",
      "from menpo.fitmultilevel.functions import mean_pointcloud\n",
      "\n",
      "reference_shape = mean_pointcloud(shapes)\n",
      "n_perturbations = 10\n",
      "\n",
      "def _perturb_shape(gt_shape):\n",
      "        return noisy_align(reference_shape, gt_shape,\n",
      "                           noise_std=0.08\n",
      "                           ).apply(reference_shape)\n",
      "\n",
      "def perturb_shapes(gt_shape):\n",
      "        return [[_perturb_shape(s) for _ in range(n_perturbations)]\n",
      "                for s in gt_shape]\n",
      "\n",
      "perturbed_shapes = perturb_shapes(shapes)"
     ],
     "language": "python",
     "metadata": {},
     "outputs": [],
     "prompt_number": 3
    },
    {
     "cell_type": "code",
     "collapsed": false,
     "input": [
      "from menpo.fitmultilevel.functions import extract_local_patches, build_sampling_grid\n",
      "from menpo.fitmultilevel.featurefunctions import compute_features, sparse_hog\n",
      "import numpy as np\n",
      "\n",
      "patch_shape = (15, 15)\n",
      "sampling_grid = build_sampling_grid(patch_shape)\n",
      "regression_features = sparse_hog\n",
      "    \n",
      "def features_patches(image, shape):\n",
      "        patches = extract_local_patches(image, shape, sampling_grid)\n",
      "        features = []\n",
      "        patch = []\n",
      "        for p in patches:\n",
      "            f = compute_features(p, regression_features).pixels.ravel()\n",
      "            features.append(f)\n",
      "            patch.append(p.as_vector())\n",
      "        return np.asarray(features), np.asarray(patch)"
     ],
     "language": "python",
     "metadata": {},
     "outputs": [],
     "prompt_number": 4
    },
    {
     "cell_type": "code",
     "collapsed": false,
     "input": [
      "features = []\n",
      "patches = []\n",
      "for sh, i in zip(perturbed_shapes, images):\n",
      "    for s in sh:\n",
      "        f, p = features_patches(i, s)\n",
      "        features.append(f)\n",
      "        patches.append(p)\n",
      "        "
     ],
     "language": "python",
     "metadata": {},
     "outputs": [],
     "prompt_number": 5
    },
    {
     "cell_type": "code",
     "collapsed": false,
     "input": [
      "delta_ps = np.asarray(features)\n",
      "features = np.asarray(patches)"
     ],
     "language": "python",
     "metadata": {},
     "outputs": [],
     "prompt_number": 6
    },
    {
     "cell_type": "code",
     "collapsed": false,
     "input": [
      "print delta_ps.shape\n",
      "print features.shape"
     ],
     "language": "python",
     "metadata": {},
     "outputs": [
      {
       "output_type": "stream",
       "stream": "stdout",
       "text": [
        "(5000, 68, 36)\n",
        "(5000, 68, 289)\n"
       ]
      }
     ],
     "prompt_number": 7
    },
    {
     "cell_type": "code",
     "collapsed": false,
     "input": [
      "T = np.asarray(delta_ps).reshape(5000*68, -1)\n",
      "X = np.asarray(features).reshape(5000*68, -1)"
     ],
     "language": "python",
     "metadata": {},
     "outputs": [],
     "prompt_number": 10
    },
    {
     "cell_type": "code",
     "collapsed": false,
     "input": [
      "print T.shape\n",
      "print X.shape"
     ],
     "language": "python",
     "metadata": {},
     "outputs": [
      {
       "output_type": "stream",
       "stream": "stdout",
       "text": [
        "(340000, 36)\n",
        "(340000, 289)\n"
       ]
      }
     ],
     "prompt_number": 11
    },
    {
     "cell_type": "code",
     "collapsed": false,
     "input": [
      "#TODO: document me\n",
      "def mlr(X, T):\n",
      "    r\"\"\"\n",
      "    Multivariate Linear Regression\n",
      "    \"\"\"\n",
      "    XX = np.dot(X.T, X)\n",
      "    XX = (XX + XX.T) / 2\n",
      "    XT = np.dot(X.T, T)\n",
      "    R = np.linalg.solve(XX, XT)\n",
      "\n",
      "    def mlr_fitting(x):\n",
      "        return np.dot(x, R)\n",
      "\n",
      "    return mlr_fitting"
     ],
     "language": "python",
     "metadata": {},
     "outputs": [],
     "prompt_number": 12
    },
    {
     "cell_type": "code",
     "collapsed": false,
     "input": [
      "learned_hogs = mlr(X, T)"
     ],
     "language": "python",
     "metadata": {},
     "outputs": [],
     "prompt_number": 13
    },
    {
     "cell_type": "code",
     "collapsed": false,
     "input": [
      "pred_T = learned_hogs(X)"
     ],
     "language": "python",
     "metadata": {},
     "outputs": [],
     "prompt_number": 14
    },
    {
     "cell_type": "code",
     "collapsed": false,
     "input": [
      "from __future__ import division\n",
      "\n",
      "1/68000 * np.sqrt(np.sum((T - pred_T) ** 2))"
     ],
     "language": "python",
     "metadata": {},
     "outputs": [
      {
       "metadata": {},
       "output_type": "pyout",
       "prompt_number": 15,
       "text": [
        "0.0040645630466244311"
       ]
      }
     ],
     "prompt_number": 15
    },
    {
     "cell_type": "code",
     "collapsed": false,
     "input": [
      "def lf(image, shape):\n",
      "        patches = extract_local_patches(image, shape, sampling_grid)\n",
      "        features = []\n",
      "        patch = []\n",
      "        for p in patches:\n",
      "            f = learned_hogs(p.as_vector())\n",
      "            features.append(f)\n",
      "        return np.asarray(features)\n",
      "\n",
      "def lf2(image, shape):\n",
      "        patches = extract_local_patches(image, shape, sampling_grid)\n",
      "        features = []\n",
      "        patch = []\n",
      "        for p in patches:\n",
      "            f = compute_features(p, regression_features).pixels.ravel()\n",
      "            features.append(f)\n",
      "        return np.asarray(features)"
     ],
     "language": "python",
     "metadata": {},
     "outputs": [],
     "prompt_number": 16
    },
    {
     "cell_type": "code",
     "collapsed": false,
     "input": [
      "import menpo.io as pio\n",
      "from menpo.landmark import labeller, ibug_68_points, ibug_68_trimesh\n",
      "\n",
      "test_images = []\n",
      "# load landmarked imarges\n",
      "for i in pio.import_images('/Users/joan/PhD/DataBases/afw/*.jpg',\n",
      "                     max_images=224):\n",
      "    i.crop_to_landmarks_proportion(0.3)\n",
      "    if i.n_channels == 3:\n",
      "        test_images.append(i.as_greyscale(mode='luminosity'))\n",
      "    else:\n",
      "        test_images.append(i)"
     ],
     "language": "python",
     "metadata": {},
     "outputs": [],
     "prompt_number": 17
    },
    {
     "cell_type": "code",
     "collapsed": false,
     "input": [
      "%timeit a = lf(test_images[0], test_images[0].landmarks['PTS'].lms)"
     ],
     "language": "python",
     "metadata": {},
     "outputs": [
      {
       "output_type": "stream",
       "stream": "stdout",
       "text": [
        "10 loops, best of 3: 28.6 ms per loop\n"
       ]
      }
     ],
     "prompt_number": 21
    },
    {
     "cell_type": "code",
     "collapsed": false,
     "input": [
      "%timeit b = lf2(test_images[0], test_images[0].landmarks['PTS'].lms)"
     ],
     "language": "python",
     "metadata": {},
     "outputs": [
      {
       "output_type": "stream",
       "stream": "stdout",
       "text": [
        "10 loops, best of 3: 95.8 ms per loop\n"
       ]
      }
     ],
     "prompt_number": 22
    },
    {
     "cell_type": "code",
     "collapsed": false,
     "input": [
      "np.sqrt(np.sum((a - b) ** 2))"
     ],
     "language": "python",
     "metadata": {},
     "outputs": [
      {
       "metadata": {},
       "output_type": "pyout",
       "prompt_number": 20,
       "text": [
        "3.8251961622835773"
       ]
      }
     ],
     "prompt_number": 20
    },
    {
     "cell_type": "code",
     "collapsed": false,
     "input": [
      "from menpo.fitmultilevel.sdm import SupervisedDescentMethodTrainer"
     ],
     "language": "python",
     "metadata": {},
     "outputs": [
      {
       "ename": "ImportError",
       "evalue": "cannot import name multivariate_normal",
       "output_type": "pyerr",
       "traceback": [
        "\u001b[0;31m---------------------------------------------------------------------------\u001b[0m\n\u001b[0;31mImportError\u001b[0m                               Traceback (most recent call last)",
        "\u001b[0;32m<ipython-input-1-f59e5c231a9a>\u001b[0m in \u001b[0;36m<module>\u001b[0;34m()\u001b[0m\n\u001b[0;32m----> 1\u001b[0;31m \u001b[0;32mfrom\u001b[0m \u001b[0mmenpo\u001b[0m\u001b[0;34m.\u001b[0m\u001b[0mfitmultilevel\u001b[0m\u001b[0;34m.\u001b[0m\u001b[0msdm\u001b[0m \u001b[0;32mimport\u001b[0m \u001b[0mSupervisedDescentMethodTrainer\u001b[0m\u001b[0;34m\u001b[0m\u001b[0m\n\u001b[0m",
        "\u001b[0;32m/Users/joan/.virtualenvs/menpo/src/menpo/menpo/fitmultilevel/sdm/__init__.py\u001b[0m in \u001b[0;36m<module>\u001b[0;34m()\u001b[0m\n\u001b[0;32m----> 1\u001b[0;31m from .base import (SupervisedDescentMethodFitter,\n\u001b[0m\u001b[1;32m      2\u001b[0m                    \u001b[0mSupervisedDescentAAMFitter\u001b[0m\u001b[0;34m,\u001b[0m\u001b[0;34m\u001b[0m\u001b[0m\n\u001b[1;32m      3\u001b[0m                    SupervisedDescentCLMFitter)\n\u001b[1;32m      4\u001b[0m from .trainer import (SupervisedDescentMethodTrainer,\n\u001b[1;32m      5\u001b[0m                       \u001b[0mSupervisedDescentAAMTrainer\u001b[0m\u001b[0;34m,\u001b[0m\u001b[0;34m\u001b[0m\u001b[0m\n",
        "\u001b[0;32m/Users/joan/.virtualenvs/menpo/src/menpo/menpo/fitmultilevel/sdm/base.py\u001b[0m in \u001b[0;36m<module>\u001b[0;34m()\u001b[0m\n\u001b[1;32m      2\u001b[0m \u001b[0;32mfrom\u001b[0m \u001b[0mmenpo\u001b[0m\u001b[0;34m.\u001b[0m\u001b[0mfitmultilevel\u001b[0m\u001b[0;34m.\u001b[0m\u001b[0mfeaturefunctions\u001b[0m \u001b[0;32mimport\u001b[0m \u001b[0mcompute_features\u001b[0m\u001b[0;34m\u001b[0m\u001b[0m\n\u001b[1;32m      3\u001b[0m \u001b[0;32mfrom\u001b[0m \u001b[0mmenpo\u001b[0m\u001b[0;34m.\u001b[0m\u001b[0mfitmultilevel\u001b[0m\u001b[0;34m.\u001b[0m\u001b[0maam\u001b[0m\u001b[0;34m.\u001b[0m\u001b[0mbase\u001b[0m \u001b[0;32mimport\u001b[0m \u001b[0mAAMFitter\u001b[0m\u001b[0;34m\u001b[0m\u001b[0m\n\u001b[0;32m----> 4\u001b[0;31m \u001b[0;32mfrom\u001b[0m \u001b[0mmenpo\u001b[0m\u001b[0;34m.\u001b[0m\u001b[0mfitmultilevel\u001b[0m\u001b[0;34m.\u001b[0m\u001b[0mclm\u001b[0m\u001b[0;34m.\u001b[0m\u001b[0mbase\u001b[0m \u001b[0;32mimport\u001b[0m \u001b[0mCLMFitter\u001b[0m\u001b[0;34m\u001b[0m\u001b[0m\n\u001b[0m\u001b[1;32m      5\u001b[0m \u001b[0;34m\u001b[0m\u001b[0m\n\u001b[1;32m      6\u001b[0m \u001b[0;34m\u001b[0m\u001b[0m\n",
        "\u001b[0;32m/Users/joan/.virtualenvs/menpo/src/menpo/menpo/fitmultilevel/clm/__init__.py\u001b[0m in \u001b[0;36m<module>\u001b[0;34m()\u001b[0m\n\u001b[0;32m----> 1\u001b[0;31m \u001b[0;32mfrom\u001b[0m \u001b[0;34m.\u001b[0m\u001b[0mbase\u001b[0m \u001b[0;32mimport\u001b[0m \u001b[0mGradientDescentCLMFitter\u001b[0m\u001b[0;34m\u001b[0m\u001b[0m\n\u001b[0m\u001b[1;32m      2\u001b[0m \u001b[0;32mfrom\u001b[0m \u001b[0;34m.\u001b[0m\u001b[0mbuilder\u001b[0m \u001b[0;32mimport\u001b[0m \u001b[0mCLMBuilder\u001b[0m\u001b[0;34m\u001b[0m\u001b[0m\n\u001b[1;32m      3\u001b[0m \u001b[0;32mfrom\u001b[0m \u001b[0;34m.\u001b[0m\u001b[0mclassifierfunctions\u001b[0m \u001b[0;32mimport\u001b[0m \u001b[0mlinear_svm_lr\u001b[0m\u001b[0;34m\u001b[0m\u001b[0m\n",
        "\u001b[0;32m/Users/joan/.virtualenvs/menpo/src/menpo/menpo/fitmultilevel/clm/base.py\u001b[0m in \u001b[0;36m<module>\u001b[0;34m()\u001b[0m\n\u001b[1;32m      3\u001b[0m \u001b[0;32mfrom\u001b[0m \u001b[0mmenpo\u001b[0m\u001b[0;34m.\u001b[0m\u001b[0mtransform\u001b[0m \u001b[0;32mimport\u001b[0m \u001b[0mAlignmentSimilarity\u001b[0m\u001b[0;34m\u001b[0m\u001b[0m\n\u001b[1;32m      4\u001b[0m \u001b[0;32mfrom\u001b[0m \u001b[0mmenpo\u001b[0m\u001b[0;34m.\u001b[0m\u001b[0mmodel\u001b[0m\u001b[0;34m.\u001b[0m\u001b[0mpdm\u001b[0m \u001b[0;32mimport\u001b[0m \u001b[0mPDM\u001b[0m\u001b[0;34m,\u001b[0m \u001b[0mOrthoPDM\u001b[0m\u001b[0;34m\u001b[0m\u001b[0m\n\u001b[0;32m----> 5\u001b[0;31m \u001b[0;32mfrom\u001b[0m \u001b[0mmenpo\u001b[0m\u001b[0;34m.\u001b[0m\u001b[0mfit\u001b[0m\u001b[0;34m.\u001b[0m\u001b[0mgradientdescent\u001b[0m \u001b[0;32mimport\u001b[0m \u001b[0mRegularizedLandmarkMeanShift\u001b[0m\u001b[0;34m\u001b[0m\u001b[0m\n\u001b[0m\u001b[1;32m      6\u001b[0m \u001b[0;32mfrom\u001b[0m \u001b[0mmenpo\u001b[0m\u001b[0;34m.\u001b[0m\u001b[0mfit\u001b[0m\u001b[0;34m.\u001b[0m\u001b[0mgradientdescent\u001b[0m\u001b[0;34m.\u001b[0m\u001b[0mresidual\u001b[0m \u001b[0;32mimport\u001b[0m \u001b[0mSSD\u001b[0m\u001b[0;34m\u001b[0m\u001b[0m\n\u001b[1;32m      7\u001b[0m \u001b[0;32mfrom\u001b[0m \u001b[0mmenpo\u001b[0m\u001b[0;34m.\u001b[0m\u001b[0mfitmultilevel\u001b[0m\u001b[0;34m.\u001b[0m\u001b[0mbase\u001b[0m \u001b[0;32mimport\u001b[0m \u001b[0mMultilevelFitter\u001b[0m\u001b[0;34m\u001b[0m\u001b[0m\n",
        "\u001b[0;32m/Users/joan/.virtualenvs/menpo/src/menpo/menpo/fit/gradientdescent/__init__.py\u001b[0m in \u001b[0;36m<module>\u001b[0;34m()\u001b[0m\n\u001b[0;32m----> 1\u001b[0;31m from .base import (ActiveShapeModel, ConvexQuadraticFitting,\n\u001b[0m\u001b[1;32m      2\u001b[0m                    RegularizedLandmarkMeanShift)\n",
        "\u001b[0;32m/Users/joan/.virtualenvs/menpo/src/menpo/menpo/fit/gradientdescent/base.py\u001b[0m in \u001b[0;36m<module>\u001b[0;34m()\u001b[0m\n\u001b[1;32m      2\u001b[0m \u001b[0;32mimport\u001b[0m \u001b[0mabc\u001b[0m\u001b[0;34m\u001b[0m\u001b[0m\n\u001b[1;32m      3\u001b[0m \u001b[0;32mimport\u001b[0m \u001b[0mnumpy\u001b[0m \u001b[0;32mas\u001b[0m \u001b[0mnp\u001b[0m\u001b[0;34m\u001b[0m\u001b[0m\n\u001b[0;32m----> 4\u001b[0;31m \u001b[0;32mfrom\u001b[0m \u001b[0mscipy\u001b[0m\u001b[0;34m.\u001b[0m\u001b[0mstats\u001b[0m \u001b[0;32mimport\u001b[0m \u001b[0mmultivariate_normal\u001b[0m\u001b[0;34m\u001b[0m\u001b[0m\n\u001b[0m\u001b[1;32m      5\u001b[0m \u001b[0;34m\u001b[0m\u001b[0m\n\u001b[1;32m      6\u001b[0m \u001b[0;32mfrom\u001b[0m \u001b[0mmenpo\u001b[0m\u001b[0;34m.\u001b[0m\u001b[0mfit\u001b[0m\u001b[0;34m.\u001b[0m\u001b[0mbase\u001b[0m \u001b[0;32mimport\u001b[0m \u001b[0mFitter\u001b[0m\u001b[0;34m\u001b[0m\u001b[0m\n",
        "\u001b[0;31mImportError\u001b[0m: cannot import name multivariate_normal"
       ]
      }
     ],
     "prompt_number": 1
    },
    {
     "cell_type": "code",
     "collapsed": false,
     "input": [],
     "language": "python",
     "metadata": {},
     "outputs": []
    }
   ],
   "metadata": {}
  }
 ]
}