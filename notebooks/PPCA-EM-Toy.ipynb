{
 "metadata": {
  "name": "",
  "signature": "sha256:12084487c3895650d14d6c31a90aaca4d9b08152e5fef81548d5fc9bc6a51e56"
 },
 "nbformat": 3,
 "nbformat_minor": 0,
 "worksheets": [
  {
   "cells": [
    {
     "cell_type": "code",
     "collapsed": false,
     "input": [
      "%matplotlib inline\n",
      "%pylab inline"
     ],
     "language": "python",
     "metadata": {},
     "outputs": [
      {
       "output_type": "stream",
       "stream": "stdout",
       "text": [
        "Populating the interactive namespace from numpy and matplotlib\n"
       ]
      }
     ],
     "prompt_number": 1
    },
    {
     "cell_type": "code",
     "collapsed": false,
     "input": [
      "from scipy.stats import multivariate_normal\n",
      "\n",
      "mvn = multivariate_normal([0, 0], np.array([[30, 15], [15, 20]]))"
     ],
     "language": "python",
     "metadata": {},
     "outputs": [],
     "prompt_number": 153
    },
    {
     "cell_type": "code",
     "collapsed": false,
     "input": [
      "data = mvn.rvs(size=100)"
     ],
     "language": "python",
     "metadata": {},
     "outputs": [],
     "prompt_number": 519
    },
    {
     "cell_type": "code",
     "collapsed": false,
     "input": [
      "scatter(data[:, 0], data[:, 1])"
     ],
     "language": "python",
     "metadata": {},
     "outputs": [
      {
       "metadata": {},
       "output_type": "pyout",
       "prompt_number": 520,
       "text": [
        "<matplotlib.collections.PathCollection at 0x7fbfb85af9d0>"
       ]
      },
      {
       "metadata": {},
       "output_type": "display_data",
       "png": "[encoded data removed]",
       "text": [
        "<matplotlib.figure.Figure at 0x7fbfb8716d90>"
       ]
      }
     ],
     "prompt_number": 520
    },
    {
     "cell_type": "code",
     "collapsed": false,
     "input": [
      "def pca(X, n_components=None):\n",
      "    \n",
      "    n_samples, n_features = X.shape\n",
      "    \n",
      "    if n_components is None:\n",
      "        if n_samples <= n_features:\n",
      "            n_components = n_samples\n",
      "        else:\n",
      "            n_components = n_features\n",
      "                \n",
      "    mean_ = np.mean(X, axis=0)\n",
      "    X -= mean_\n",
      "    \n",
      "    U, S, V = np.linalg.svd(X.T)\n",
      "        \n",
      "    return mean_, U, S"
     ],
     "language": "python",
     "metadata": {},
     "outputs": [],
     "prompt_number": 608
    },
    {
     "cell_type": "code",
     "collapsed": false,
     "input": [
      "mean, U, S = pca(data, n_components=2)"
     ],
     "language": "python",
     "metadata": {},
     "outputs": [],
     "prompt_number": 609
    },
    {
     "cell_type": "code",
     "collapsed": false,
     "input": [
      "print S\n",
      "print U\n",
      "print U.T.dot(U)"
     ],
     "language": "python",
     "metadata": {},
     "outputs": [
      {
       "output_type": "stream",
       "stream": "stdout",
       "text": [
        "[ 65.80333901  32.27621135]\n",
        "[[-0.82431848 -0.56612636]\n",
        " [-0.56612636  0.82431848]]\n",
        "[[  1.00000000e+00   1.11022302e-16]\n",
        " [  1.11022302e-16   1.00000000e+00]]\n"
       ]
      }
     ],
     "prompt_number": 610
    },
    {
     "cell_type": "code",
     "collapsed": false,
     "input": [
      "hold(True)\n",
      "scatter(data[:, 0], data[:, 1])\n",
      "plot(np.hstack((10*U[0, 0], -10*U[0, 0])), np.hstack((10*U[0, 1], -10*U[0, 1])), 'g--')\n",
      "#plot(np.hstack((10*U[1, 0], -10*U[1, 0])), np.hstack((10*U[1, 1], -10*U[1, 1])), 'r--')"
     ],
     "language": "python",
     "metadata": {},
     "outputs": [
      {
       "metadata": {},
       "output_type": "pyout",
       "prompt_number": 611,
       "text": [
        "[<matplotlib.lines.Line2D at 0x7fbfb7364250>]"
       ]
      },
      {
       "metadata": {},
       "output_type": "display_data",
       "png": "[encoded data removed]",
       "text": [
        "<matplotlib.figure.Figure at 0x7fbfb76ffc10>"
       ]
      }
     ],
     "prompt_number": 611
    },
    {
     "cell_type": "code",
     "collapsed": false,
     "input": [
      "def ppca_em1(X, n_components=None, max_iter=100, tol=1e-20, verbose=False): \n",
      "    \n",
      "    n_samples, n_features = X.shape\n",
      "    \n",
      "    if n_components is None:\n",
      "        if n_samples <= n_features:\n",
      "            n_components = n_samples\n",
      "        else:\n",
      "            n_components = n_features\n",
      "                \n",
      "    mean_ = np.mean(X, axis=0)\n",
      "    X -= mean_\n",
      "    \n",
      "    W = np.random.randn(n_components, n_features)\n",
      "    \n",
      "    for i in xrange(max_iter):\n",
      "        Z = np.linalg.solve(np.dot(W, W.T), np.dot(W, X.T))\n",
      "        \n",
      "        nW = np.linalg.solve(np.dot(Z, Z.T), np.dot(Z, X))\n",
      "        \n",
      "        e = np.linalg.norm(W - nW)\n",
      "        \n",
      "        if e < tol:\n",
      "            break\n",
      "        else:\n",
      "            W = nW\n",
      "            if verbose:\n",
      "                print 'it:', i, '\\t',\n",
      "                print 'norm:', np.round(e, decimals=4), '\\t',\n",
      "        \n",
      "    return mean_, W, Z"
     ],
     "language": "python",
     "metadata": {},
     "outputs": [],
     "prompt_number": 612
    },
    {
     "cell_type": "code",
     "collapsed": false,
     "input": [
      "mean, W, Z = ppca_em1(data, n_components=1)"
     ],
     "language": "python",
     "metadata": {},
     "outputs": [],
     "prompt_number": 623
    },
    {
     "cell_type": "code",
     "collapsed": false,
     "input": [
      "hold(True)\n",
      "scatter(data[:, 0], data[:, 1])\n",
      "plot(np.hstack((10*W[0, 0], -10*W[0, 0])), np.hstack((10*W[0, 1], -10*W[0, 1])), 'g--')\n",
      "#plot(np.hstack((10*W[1, 0], -10*W[1, 0])), np.hstack((10*W[1, 1], -10*W[1, 1])), 'r--')"
     ],
     "language": "python",
     "metadata": {},
     "outputs": [
      {
       "metadata": {},
       "output_type": "pyout",
       "prompt_number": 624,
       "text": [
        "[<matplotlib.lines.Line2D at 0x7fbfb70c15d0>]"
       ]
      },
      {
       "metadata": {},
       "output_type": "display_data",
       "png": "[encoded data removed]",
       "text": [
        "<matplotlib.figure.Figure at 0x7fbfb7152d50>"
       ]
      }
     ],
     "prompt_number": 624
    },
    {
     "cell_type": "code",
     "collapsed": false,
     "input": [
      "U, S, V = np.linalg.svd(W.dot(W.T))"
     ],
     "language": "python",
     "metadata": {},
     "outputs": [],
     "prompt_number": 625
    },
    {
     "cell_type": "code",
     "collapsed": false,
     "input": [
      "Up = W.T.dot(np.linalg.inv(V)).dot(np.diag((S**-0.5)))"
     ],
     "language": "python",
     "metadata": {},
     "outputs": [],
     "prompt_number": 626
    },
    {
     "cell_type": "code",
     "collapsed": false,
     "input": [
      "print S\n",
      "print Up\n",
      "print Up.T.dot(Up)"
     ],
     "language": "python",
     "metadata": {},
     "outputs": [
      {
       "output_type": "stream",
       "stream": "stdout",
       "text": [
        "[ 0.92796492]\n",
        "[[-0.82431848]\n",
        " [-0.56612636]]\n",
        "[[ 1.]]\n"
       ]
      }
     ],
     "prompt_number": 627
    },
    {
     "cell_type": "code",
     "collapsed": false,
     "input": [
      "hold(True)\n",
      "scatter(data[:, 0], data[:, 1])\n",
      "plot(np.hstack((10*Up[0, 0], -10*Up[0, 0])), np.hstack((10*Up[1, 0], -10*Up[1, 0])), 'g--')\n",
      "#plot(np.hstack((10*Up[1, 0], -10*Up[1, 0])), np.hstack((10*Up[1, 1], -10*Up[1, 1])), 'r--')"
     ],
     "language": "python",
     "metadata": {},
     "outputs": [
      {
       "metadata": {},
       "output_type": "pyout",
       "prompt_number": 628,
       "text": [
        "[<matplotlib.lines.Line2D at 0x7fbfb6f9c150>]"
       ]
      },
      {
       "metadata": {},
       "output_type": "display_data",
       "png": "[encoded data removed]",
       "text": [
        "<matplotlib.figure.Figure at 0x7fbfb70249d0>"
       ]
      }
     ],
     "prompt_number": 628
    },
    {
     "cell_type": "code",
     "collapsed": false,
     "input": [
      "def ppca_em2(X, n_components=None, sigma2=1, max_iter=200, tol=1e-20, verbose=False): \n",
      "    \n",
      "    n_samples, n_features = X.shape\n",
      "    \n",
      "    if n_components is None:\n",
      "        if n_samples <= n_features:\n",
      "            n_components = n_samples\n",
      "        else:\n",
      "            n_components = n_features\n",
      "                \n",
      "    mean_ = np.mean(X, axis=0)\n",
      "    X -= mean_\n",
      "    \n",
      "    I = np.eye(n_components)\n",
      "    X2 = np.sum(np.sum(X**2, axis=1))\n",
      "    t = n_samples * n_features\n",
      "    \n",
      "    W = np.random.randn(n_components, n_features)\n",
      "    \n",
      "    for i in xrange(max_iter):\n",
      "        inv_M = np.linalg.inv(np.dot(W, W.T) + sigma2 * I)\n",
      "        Z = inv_M.dot(np.dot(W, X.T))\n",
      "        \n",
      "        \n",
      "        ZZ = sigma2 * inv_M + np.dot(Z, Z.T)\n",
      "        nW = np.linalg.solve(ZZ, np.dot(Z, X))\n",
      "\n",
      "        sigma2 = ((X2 - \n",
      "                   2 * np.sum(np.sum(Z.T.dot(nW) * X, axis=1)) +\n",
      "                   np.trace(ZZ.dot(np.dot(nW, nW.T)))) \n",
      "                  / t)\n",
      "        \n",
      "        e = np.linalg.norm(W - nW)\n",
      "        \n",
      "        if e < tol:\n",
      "            break\n",
      "        else:\n",
      "            W = nW\n",
      "            if verbose:\n",
      "                print 'it:', i, '\\t',\n",
      "                print 'norm:', np.round(e, decimals=4), '\\t',\n",
      "                print 'sigma:', np.round(sigma2, decimals=4), '\\t'\n",
      "\n",
      "    return mean_, W, Z, sigma2"
     ],
     "language": "python",
     "metadata": {},
     "outputs": [],
     "prompt_number": 629
    },
    {
     "cell_type": "code",
     "collapsed": false,
     "input": [
      "mean, W, Z, sigma2 = ppca_em2(data, n_components=1, max_iter=100, sigma2=10, tol=1e-20, verbose=False)"
     ],
     "language": "python",
     "metadata": {},
     "outputs": [],
     "prompt_number": 637
    },
    {
     "cell_type": "code",
     "collapsed": false,
     "input": [
      "hold(True)\n",
      "scatter(data[:, 0], data[:, 1])\n",
      "plot(np.hstack((10*W[0, 0], -10*W[0, 0])), np.hstack((10*W[0, 1], -10*W[0, 1])), 'g--')\n",
      "#plot(np.hstack((10*W[1, 0], -10*W[1, 0])), np.hstack((10*W[1, 1], -10*W[1, 1])), 'r--')"
     ],
     "language": "python",
     "metadata": {},
     "outputs": [
      {
       "metadata": {},
       "output_type": "pyout",
       "prompt_number": 639,
       "text": [
        "[<matplotlib.lines.Line2D at 0x7fbfb6b05d10>]"
       ]
      },
      {
       "metadata": {},
       "output_type": "display_data",
       "png": "[encoded data removed]",
       "text": [
        "<matplotlib.figure.Figure at 0x7fbfb6c0c750>"
       ]
      }
     ],
     "prompt_number": 639
    },
    {
     "cell_type": "code",
     "collapsed": false,
     "input": [
      "U, S, V = np.linalg.svd(W.dot(W.T))"
     ],
     "language": "python",
     "metadata": {},
     "outputs": [],
     "prompt_number": 643
    },
    {
     "cell_type": "code",
     "collapsed": false,
     "input": [
      "Up = W.T.dot(np.linalg.inv(V)).dot(np.diag((S**-0.5)))"
     ],
     "language": "python",
     "metadata": {},
     "outputs": [],
     "prompt_number": 644
    },
    {
     "cell_type": "code",
     "collapsed": false,
     "input": [
      "print S\n",
      "print sigma2\n",
      "print Up\n",
      "print Up.T.dot(Up)"
     ],
     "language": "python",
     "metadata": {},
     "outputs": [
      {
       "output_type": "stream",
       "stream": "stdout",
       "text": [
        "[ 1055.13085194]\n",
        "5.23504324497\n",
        "[[ 0.82431848]\n",
        " [ 0.56612636]]\n",
        "[[ 1.]]\n"
       ]
      }
     ],
     "prompt_number": 645
    },
    {
     "cell_type": "code",
     "collapsed": false,
     "input": [
      "hold(True)\n",
      "scatter(data[:, 0], data[:, 1])\n",
      "plot(np.hstack((10*Up[0, 0], -10*Up[0, 0])), np.hstack((10*Up[1, 0], -10*Up[1, 0])), 'g--')\n",
      "#plot(np.hstack((10*Up[1, 0], -10*Up[1, 0])), np.hstack((10*Up[1, 1], -10*Up[1, 1])), 'r--')"
     ],
     "language": "python",
     "metadata": {},
     "outputs": [
      {
       "metadata": {},
       "output_type": "pyout",
       "prompt_number": 646,
       "text": [
        "[<matplotlib.lines.Line2D at 0x7fbfb6a471d0>]"
       ]
      },
      {
       "metadata": {},
       "output_type": "display_data",
       "png": "[encoded data removed]",
       "text": [
        "<matplotlib.figure.Figure at 0x7fbfb6b48a90>"
       ]
      }
     ],
     "prompt_number": 646
    },
    {
     "cell_type": "code",
     "collapsed": false,
     "input": [],
     "language": "python",
     "metadata": {},
     "outputs": [],
     "prompt_number": 605
    },
    {
     "cell_type": "code",
     "collapsed": false,
     "input": [],
     "language": "python",
     "metadata": {},
     "outputs": []
    }
   ],
   "metadata": {}
  }
 ]
}