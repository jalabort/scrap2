{
 "metadata": {
  "name": ""
 },
 "nbformat": 3,
 "nbformat_minor": 0,
 "worksheets": [
  {
   "cells": [
    {
     "cell_type": "code",
     "collapsed": false,
     "input": [
      "import pylab as pl\n",
      "import numpy as np\n",
      "from sklearn import datasets, linear_model\n",
      "\n",
      "# Load the diabetes dataset\n",
      "diabetes = datasets.load_diabetes()\n",
      "\n",
      "\n",
      "# Use only one feature\n",
      "diabetes_X = diabetes.data[:, np.newaxis]\n",
      "diabetes_X_temp = diabetes_X[:, :, 2]\n",
      "\n",
      "# Split the data into training/testing sets\n",
      "diabetes_X_train = diabetes_X_temp[:-20]\n",
      "diabetes_X_test = diabetes_X_temp[-20:]\n",
      "\n",
      "# Split the targets into training/testing sets\n",
      "diabetes_y_train = diabetes.target[:-20]\n",
      "diabetes_y_test = diabetes.target[-20:]\n",
      "\n",
      "# Create linear regression object\n",
      "regr = linear_model.LinearRegression()\n",
      "\n",
      "# Train the model using the training sets\n",
      "regr.fit(diabetes_X_train, diabetes_y_train)\n",
      "\n",
      "# The coefficients\n",
      "print('Coefficients: \\n', regr.coef_)\n",
      "# The mean square error\n",
      "print(\"Residual sum of squares: %.2f\"\n",
      "      % np.mean((regr.predict(diabetes_X_test) - diabetes_y_test) ** 2))\n",
      "# Explained variance score: 1 is perfect prediction\n",
      "print('Variance score: %.2f' % regr.score(diabetes_X_test, diabetes_y_test))\n",
      "\n",
      "# Plot outputs\n",
      "pl.scatter(diabetes_X_test, diabetes_y_test,  color='black')\n",
      "pl.plot(diabetes_X_test, regr.predict(diabetes_X_test), color='blue',\n",
      "        linewidth=3)\n",
      "\n",
      "pl.xticks(())\n",
      "pl.yticks(())\n",
      "\n",
      "pl.show()"
     ],
     "language": "python",
     "metadata": {},
     "outputs": [
      {
       "output_type": "stream",
       "stream": "stdout",
       "text": [
        "('Coefficients: \\n', array([ 938.23786125]))\n",
        "Residual sum of squares: 2548.07\n",
        "Variance score: 0.47\n"
       ]
      },
      {
       "metadata": {},
       "output_type": "display_data",
       "png": "[encoded data removed]",
       "text": [
        "<matplotlib.figure.Figure at 0x11141a310>"
       ]
      }
     ],
     "prompt_number": 1
    },
    {
     "cell_type": "code",
     "collapsed": false,
     "input": [
      "from pybug.activeappearancemodel.regression import linear_regression\n",
      "\n",
      "w, cov = linear_regression(a, diabetes_y_train[...,None])"
     ],
     "language": "python",
     "metadata": {},
     "outputs": [],
     "prompt_number": 27
    },
    {
     "cell_type": "code",
     "collapsed": false,
     "input": [
      "y = np.dot(b, w)"
     ],
     "language": "python",
     "metadata": {},
     "outputs": [],
     "prompt_number": 32
    },
    {
     "cell_type": "code",
     "collapsed": false,
     "input": [
      "b = np.hstack((diabetes_X_test,np.ones((20,1))))"
     ],
     "language": "python",
     "metadata": {},
     "outputs": [],
     "prompt_number": 31
    },
    {
     "cell_type": "code",
     "collapsed": false,
     "input": [
      "y"
     ],
     "language": "python",
     "metadata": {},
     "outputs": [
      {
       "metadata": {},
       "output_type": "pyout",
       "prompt_number": 33,
       "text": [
        "array([[ 225.9732401 ],\n",
        "       [ 115.74763374],\n",
        "       [ 163.27610621],\n",
        "       [ 114.73638965],\n",
        "       [ 120.80385422],\n",
        "       [ 158.21988574],\n",
        "       [ 236.08568105],\n",
        "       [ 121.81509832],\n",
        "       [  99.56772822],\n",
        "       [ 123.83758651],\n",
        "       [ 204.73711411],\n",
        "       [  96.53399594],\n",
        "       [ 154.17490936],\n",
        "       [ 130.91629517],\n",
        "       [  83.3878227 ],\n",
        "       [ 171.36605897],\n",
        "       [ 137.99500384],\n",
        "       [ 137.99500384],\n",
        "       [ 189.56845268],\n",
        "       [  84.3990668 ]])"
       ]
      }
     ],
     "prompt_number": 33
    },
    {
     "cell_type": "code",
     "collapsed": false,
     "input": [
      "regr.predict(diabetes_X_test)"
     ],
     "language": "python",
     "metadata": {},
     "outputs": [
      {
       "metadata": {},
       "output_type": "pyout",
       "prompt_number": 8,
       "text": [
        "array([ 225.9732401 ,  115.74763374,  163.27610621,  114.73638965,\n",
        "        120.80385422,  158.21988574,  236.08568105,  121.81509832,\n",
        "         99.56772822,  123.83758651,  204.73711411,   96.53399594,\n",
        "        154.17490936,  130.91629517,   83.3878227 ,  171.36605897,\n",
        "        137.99500384,  137.99500384,  189.56845268,   84.3990668 ])"
       ]
      }
     ],
     "prompt_number": 8
    },
    {
     "cell_type": "code",
     "collapsed": false,
     "input": [],
     "language": "python",
     "metadata": {},
     "outputs": []
    }
   ],
   "metadata": {}
  }
 ]
}