{
 "metadata": {
  "name": ""
 },
 "nbformat": 3,
 "nbformat_minor": 0,
 "worksheets": [
  {
   "cells": [
    {
     "cell_type": "code",
     "collapsed": false,
     "input": [
      "# Bayesian Linear Regression\n",
      "\n",
      "def bayesian_linear_regression(Xs, Ys, alpha, beta):\n",
      "\n",
      "    # number of parameters\n",
      "    M = Xs.shape[1]\n",
      "\n",
      "    # compute the covariance matrix:\n",
      "    # \\mathbf{S}_N^{-1} = \\alpha \\mathbf{I} + \\beta \\boldsymbol{\\Omega}^T\n",
      "    # \\boldsymbol{\\Omega}\n",
      "    cov = alpha * np.eye(M) + beta * np.dot(Xs.T, Xs)\n",
      "    # make sure the covariance matrix is symmetric\n",
      "    cov = (cov + cov.T) / 2\n",
      "    # compute the product:\n",
      "    # \\Beta \\Omega \\mathbf{t}\n",
      "    XYs = beta * np.dot(Xs.T, Ys)\n",
      "    mu = np.linalg.solve(XXs, XYs)\n",
      "\n",
      "    return mu, cov"
     ],
     "language": "python",
     "metadata": {},
     "outputs": []
    },
    {
     "cell_type": "code",
     "collapsed": false,
     "input": [
      "import numpy as np\n",
      "\n",
      "a = np.random.randn(1,10)\n",
      "b = np.random.randn(1,10)\n",
      "\n",
      "np.all(np.abs(a - b) > 0.1)"
     ],
     "language": "python",
     "metadata": {},
     "outputs": [
      {
       "metadata": {},
       "output_type": "pyout",
       "prompt_number": 3,
       "text": [
        "True"
       ]
      }
     ],
     "prompt_number": 3
    },
    {
     "cell_type": "code",
     "collapsed": false,
     "input": [],
     "language": "python",
     "metadata": {},
     "outputs": []
    }
   ],
   "metadata": {}
  }
 ]
}