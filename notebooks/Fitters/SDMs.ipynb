{
 "metadata": {
  "name": "",
  "signature": "sha256:850e16a73addf8c6b3cefe1bfc33390ef0e66fd81af4a42d8dd3b7652dd5a306"
 },
 "nbformat": 3,
 "nbformat_minor": 0,
 "worksheets": [
  {
   "cells": [
    {
     "cell_type": "code",
     "collapsed": true,
     "input": [
      "import menpo.io as pio\n",
      "\n",
      "# load training images\n",
      "training_images = []\n",
      "for i in pio.import_images('/Users/joan/PhD/DataBases/lfpw/trainset/*.png', max_images=500):\n",
      "    # crop image\n",
      "    i.crop_to_landmarks_proportion_inplace(0.5)\n",
      "    # convert it to grayscale if needed\n",
      "    if i.n_channels == 3:\n",
      "        i = i.as_greyscale(mode='luminosity')\n",
      "    # append it to the list\n",
      "    training_images.append(i)"
     ],
     "language": "python",
     "metadata": {},
     "outputs": []
    },
    {
     "cell_type": "code",
     "collapsed": false,
     "input": [
      "%matplotlib inline\n",
      "import matplotlib.pyplot as plt\n",
      "from IPython.html.widgets import interact, interactive\n",
      "\n",
      "def browse_images(images, group=None, label='all'):\n",
      "    n = len(images)\n",
      "    def view_image(i):\n",
      "        images[i].landmarks[group][label].view()\n",
      "        plt.show()\n",
      "    interact(view_image, i=(0,n-1))"
     ],
     "language": "python",
     "metadata": {},
     "outputs": []
    },
    {
     "cell_type": "code",
     "collapsed": false,
     "input": [
      "browse_images(training_images, group='PTS')"
     ],
     "language": "python",
     "metadata": {},
     "outputs": []
    },
    {
     "cell_type": "code",
     "collapsed": false,
     "input": [
      "from menpo.fitmultilevel.sdm import SDMTrainer\n",
      "from menpo.fit.regression.regressionfunctions import mlr_svd\n",
      "\n",
      "# build aam\n",
      "fitter = SDMTrainer(regression_type=mlr_svd).train(training_images, group='PTS', variance=0.7, verbose=True)"
     ],
     "language": "python",
     "metadata": {},
     "outputs": []
    },
    {
     "cell_type": "code",
     "collapsed": false,
     "input": [
      "import menpo.io as pio\n",
      "from menpo.landmark import labeller, ibug_68_trimesh\n",
      "\n",
      "# load test images\n",
      "test_images = []\n",
      "for i in pio.import_images('/data/PhD/DataBases/lfpw/testset/*.png', max_images=10):\n",
      "    # crop image\n",
      "    i.crop_to_landmarks_proportion_inplace(0.5)\n",
      "    # convert it to grayscale if needed\n",
      "    if i.n_channels == 3:\n",
      "        i = i.as_greyscale(mode='luminosity')\n",
      "    # append it to the list\n",
      "    test_images.append(i)"
     ],
     "language": "python",
     "metadata": {},
     "outputs": []
    },
    {
     "cell_type": "code",
     "collapsed": false,
     "input": [
      "browse_images(test_images, group='PTS')"
     ],
     "language": "python",
     "metadata": {},
     "outputs": []
    },
    {
     "cell_type": "code",
     "collapsed": false,
     "input": [
      "fitting_results = []\n",
      "for i in test_images[:10]:\n",
      "    gt_s = i.landmarks['PTS'].lms\n",
      "    s = fitter.perturb_shape(gt_s) \n",
      "    fr = fitter.fit(i, s, gt_shape=gt_s, verbose=True)\n",
      "    fitting_results.append(fr)"
     ],
     "language": "python",
     "metadata": {},
     "outputs": []
    },
    {
     "cell_type": "code",
     "collapsed": false,
     "input": [
      "fitting_results[0].view_final_fitting()"
     ],
     "language": "python",
     "metadata": {},
     "outputs": []
    }
   ],
   "metadata": {}
  }
 ]
}