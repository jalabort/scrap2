{
 "metadata": {
  "name": "",
  "signature": "sha256:99c45ebdf3a07ca4f797ea8f68848aba29e77c12c7be51b4e2b1a09b501fbf0e"
 },
 "nbformat": 3,
 "nbformat_minor": 0,
 "worksheets": [
  {
   "cells": [
    {
     "cell_type": "code",
     "collapsed": false,
     "input": [
      "import menpo.io as pio\n",
      "from menpo.landmark import labeller, ibug_68_trimesh, ibug_49_points\n",
      "\n",
      "# load training images\n",
      "training_images = []\n",
      "for i in pio.import_images('/Users/joan/PhD/DataBases/lfpw/trainset/*.png'):\n",
      "    # crop image\n",
      "    i.crop_to_landmarks_proportion(0.1)\n",
      "    # label it\n",
      "    labeller(i, 'PTS', ibug_68_trimesh)\n",
      "    # convert it to grayscale if needed\n",
      "    if i.n_channels == 3:\n",
      "        i = i.as_greyscale(mode='luminosity')\n",
      "    # append it to the list\n",
      "    training_images.append(i)"
     ],
     "language": "python",
     "metadata": {},
     "outputs": []
    },
    {
     "cell_type": "code",
     "collapsed": false,
     "input": [
      "%matplotlib inline\n",
      "import matplotlib.pyplot as plt\n",
      "from IPython.html.widgets import interact, interactive\n",
      "\n",
      "def browse_images(images, group=None, label='all'):\n",
      "    n = len(images)\n",
      "    def view_image(i):\n",
      "        images[i].landmarks[group][label].view()\n",
      "        plt.show()\n",
      "    interact(view_image, i=(0,n-1))"
     ],
     "language": "python",
     "metadata": {},
     "outputs": []
    },
    {
     "cell_type": "code",
     "collapsed": false,
     "input": [
      "browse_images(training_images, group='PTS')"
     ],
     "language": "python",
     "metadata": {},
     "outputs": []
    },
    {
     "cell_type": "code",
     "collapsed": false,
     "input": [
      "from menpo.fitmultilevel.sdm import SDMTrainer\n",
      "from menpo.fitmultilevel.featurefunctions import sparse_hog\n",
      "from menpo.transform import PiecewiseAffine\n",
      "\n",
      "\n",
      "# build aam\n",
      "fitter = SDMTrainer().train(training_images, group='PTS')"
     ],
     "language": "python",
     "metadata": {},
     "outputs": []
    },
    {
     "cell_type": "code",
     "collapsed": false,
     "input": [
      "import menpo.io as pio\n",
      "from menpo.landmark import labeller, ibug_68_trimesh\n",
      "\n",
      "# load test images\n",
      "test_images = []\n",
      "for i in pio.import_images('/Users/joan/PhD/DataBases/lfpw/testset/*.png', max_images=10):\n",
      "    # crop image\n",
      "    i.crop_to_landmarks_proportion(0.5)\n",
      "    # label it\n",
      "    labeller(i, 'PTS', ibug_68_trimesh)\n",
      "    # convert it to grayscale if needed\n",
      "    if i.n_channels == 3:\n",
      "        i = i.as_greyscale(mode='luminosity')\n",
      "    # append it to the list\n",
      "    test_images.append(i)"
     ],
     "language": "python",
     "metadata": {},
     "outputs": []
    },
    {
     "cell_type": "code",
     "collapsed": false,
     "input": [
      "# from ground_truth with noise\n",
      "fitting_results = []\n",
      "for i in test_images[:10]:\n",
      "    gt_s = i.landmarks['PTS'].lms\n",
      "    s = fitter.perturb_shape(gt_s)\n",
      "    fr = fitter.fit(i, s, gt_shape=gt_s, verbose=True)\n",
      "    fitting_results.append(fr)"
     ],
     "language": "python",
     "metadata": {},
     "outputs": []
    },
    {
     "cell_type": "code",
     "collapsed": false,
     "input": [
      "fitting_results[0].n_iters"
     ],
     "language": "python",
     "metadata": {},
     "outputs": []
    },
    {
     "cell_type": "code",
     "collapsed": false,
     "input": [
      "fitting_results[0].view_final_fitting()"
     ],
     "language": "python",
     "metadata": {},
     "outputs": []
    },
    {
     "cell_type": "code",
     "collapsed": false,
     "input": [
      "%%timeit\n",
      "    \n",
      "gt_s = i.landmarks['PTS'].lms\n",
      "s = fitter.obtain_shape_from_bb([[50,50], [150,150]]) \n",
      "fr = fitter.fit(i, s, gt_shape=gt_s)"
     ],
     "language": "python",
     "metadata": {},
     "outputs": []
    },
    {
     "cell_type": "code",
     "collapsed": false,
     "input": [],
     "language": "python",
     "metadata": {},
     "outputs": []
    }
   ],
   "metadata": {}
  }
 ]
}