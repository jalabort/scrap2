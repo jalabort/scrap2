{
 "metadata": {
  "name": "",
  "signature": "sha256:ee4b69106667f3cd9a9fb10656095d90e5df2b71fe4480fea10c6b5f1458eb69"
 },
 "nbformat": 3,
 "nbformat_minor": 0,
 "worksheets": [
  {
   "cells": [
    {
     "cell_type": "code",
     "collapsed": false,
     "input": [
      "import menpo.io as pio\n",
      "from menpo.landmark import labeller, ibug_68_trimesh, ibug_49_points\n",
      "from menpo.fitmultilevel.featurefunctions import sparse_hog\n",
      "\n",
      "# load training images\n",
      "training_images = []\n",
      "for i in pio.import_images('/data/PhD/DataBases/lfpw/trainset/*.png', max_images=1):\n",
      "    # crop image\n",
      "    i.crop_to_landmarks_proportion(0.5)\n",
      "    # label it\n",
      "    labeller(i, 'PTS', ibug_68_trimesh)\n",
      "    # convert it to grayscale if needed\n",
      "    if i.n_channels == 3:\n",
      "        i = i.as_greyscale(mode='luminosity')\n",
      "    # append it to the list\n",
      "    training_images.append(i)"
     ],
     "language": "python",
     "metadata": {},
     "outputs": []
    },
    {
     "cell_type": "code",
     "collapsed": false,
     "input": [
      "import numpy as np\n",
      "\n",
      "def extract_local_patches(image, shape, sampling_grid):\n",
      "    r\"\"\"\n",
      "    \"\"\"\n",
      "    max_x = image.shape[0] - 1\n",
      "    max_y = image.shape[1] - 1\n",
      "\n",
      "    patches = []\n",
      "    for point in shape.points:\n",
      "        patch_grid = (sampling_grid +\n",
      "                      np.round(point[None, None, ...]).astype(int))\n",
      "        x = patch_grid[:, :, 0]\n",
      "        y = patch_grid[:, :, 1]\n",
      "\n",
      "        # deal with boundaries\n",
      "        x[x > max_x] = max_x\n",
      "        y[y > max_y] = max_y\n",
      "        x[x < 0] = 0\n",
      "        y[y < 0] = 0\n",
      "\n",
      "        patch_data = image.pixels[x, y, :]\n",
      "        patch_img = image.__class__(patch_data)\n",
      "        patches.append(patch_img)\n",
      "\n",
      "    return patches"
     ],
     "language": "python",
     "metadata": {},
     "outputs": []
    },
    {
     "cell_type": "code",
     "collapsed": false,
     "input": [
      "from menpo.fitmultilevel.functions import build_sampling_grid\n",
      "from menpo.fitmultilevel.featurefunctions import sparse_hog, compute_features\n",
      "\n",
      "patch_shape = (16, 16)\n",
      "sampling_grid = build_sampling_grid(patch_shape)"
     ],
     "language": "python",
     "metadata": {},
     "outputs": []
    },
    {
     "cell_type": "code",
     "collapsed": false,
     "input": [
      "%%timeit\n",
      "\n",
      "patches = extract_local_patches(training_images[0], \n",
      "                                training_images[0].landmarks['PTS'].lms, \n",
      "                                sampling_grid)\n",
      "features = [compute_features(p, sparse_hog).pixels.ravel()\n",
      "                    for p in patches]\n",
      "np.hstack((np.asarray(features).ravel(), 1))"
     ],
     "language": "python",
     "metadata": {},
     "outputs": []
    },
    {
     "cell_type": "code",
     "collapsed": false,
     "input": [
      "import numpy as np\n",
      "from menpo.image.feature.features import hog\n",
      "from menpo.image import Image\n",
      "from menpo.fitmultilevel.featurefunctions import sparse_hog\n",
      "\n",
      "def sparse_hog_fast(patch):\n",
      "    return hog(patch, mode='sparse')[0]\n",
      "\n",
      "n = 36\n",
      "m = 68 * n\n",
      "\n",
      "patches = np.zeros((68, n))\n",
      "img = Image.blank((1,1))\n",
      "\n",
      "def extract_local_patches_fast(image, shape, sampling_grid):\n",
      "    r\"\"\"\n",
      "    \"\"\"\n",
      "    max_x = image.shape[0] - 1\n",
      "    max_y = image.shape[1] - 1\n",
      "    \n",
      "    pixels = image.pixels\n",
      "    \n",
      "    patch_grid = (sampling_grid[None, ...] + np.round(shape.points[:, None, None, ...]).astype(int))\n",
      "    \n",
      "    X = patch_grid[:, :, :, 0]\n",
      "    Y = patch_grid[:, :, :, 1]\n",
      "    \n",
      "    # deal with boundaries\n",
      "    X[X > max_x] = max_x\n",
      "    Y[Y > max_y] = max_y\n",
      "    X[X < 0] = 0\n",
      "    Y[Y < 0] = 0\n",
      "    \n",
      "    for j, (x, y, p) in enumerate(zip(X, Y, patches)):\n",
      "        #img.pixels = pixels[x, y, :]\n",
      "        #p = sparse_hog(img).pixels.ravel()\n",
      "        p = sparse_hog_fast(pixels[x, y, :]).ravel()\n",
      "        print j\n",
      "        \n",
      "\n",
      "    return np.hstack((patches.ravel(), 1))\n",
      "\n",
      "\n",
      "def extract_local_patches_faster(image, shape, patch_shape):\n",
      "    r\"\"\"\n",
      "    \"\"\"\n",
      "    max_x = image.shape[0] - 1\n",
      "    max_y = image.shape[1] - 1\n",
      "    \n",
      "    points = np.round(shape.points).astype(int)\n",
      "    \n",
      "    minimum = points - patch_size\n",
      "    minimum[0][minimum[0] < 0] = 0\n",
      "    maximum = points + patch_shape\n",
      "    maximum[maximum > np.array([max_x, max_y])] = np.array([max_x, max_y])\n",
      "    \n",
      "    \n",
      "    return t, u"
     ],
     "language": "python",
     "metadata": {},
     "outputs": []
    },
    {
     "cell_type": "code",
     "collapsed": false,
     "input": [
      "sl = extract_local_patches_fast(training_images[0], \n",
      "                                  training_images[0].landmarks['PTS'].lms, \n",
      "                                  sampling_grid)"
     ],
     "language": "python",
     "metadata": {},
     "outputs": []
    },
    {
     "cell_type": "code",
     "collapsed": false,
     "input": [
      "sl[0].shape"
     ],
     "language": "python",
     "metadata": {},
     "outputs": []
    },
    {
     "cell_type": "code",
     "collapsed": false,
     "input": [
      "%%timeit\n",
      "\n",
      "patches = extract_local_patches_fast(training_images[0], \n",
      "                                     training_images[0].landmarks['PTS'].lms, \n",
      "                                     sampling_grid)"
     ],
     "language": "python",
     "metadata": {},
     "outputs": []
    },
    {
     "cell_type": "code",
     "collapsed": false,
     "input": [
      "patches = extract_local_patches_fast(training_images[0], \n",
      "                                     training_images[0].landmarks['PTS'].lms, \n",
      "                                     sampling_grid)\n",
      "patches.shape"
     ],
     "language": "python",
     "metadata": {},
     "outputs": []
    },
    {
     "cell_type": "code",
     "collapsed": false,
     "input": [
      "patches[-2]"
     ],
     "language": "python",
     "metadata": {},
     "outputs": []
    },
    {
     "cell_type": "code",
     "collapsed": false,
     "input": [
      "s = np.array([20, 20]) + sampling_grid"
     ],
     "language": "python",
     "metadata": {},
     "outputs": []
    },
    {
     "cell_type": "code",
     "collapsed": false,
     "input": [
      "%%timeit\n",
      "training_images[0].pixels[s[:,:,0], s[:,:,1], :]"
     ],
     "language": "python",
     "metadata": {},
     "outputs": []
    },
    {
     "cell_type": "code",
     "collapsed": false,
     "input": [
      "img = training_images[0].pixels"
     ],
     "language": "python",
     "metadata": {},
     "outputs": []
    },
    {
     "cell_type": "code",
     "collapsed": false,
     "input": [
      "x = img[s[:,:,0], s[:,:,1], :]\n",
      "x.shape"
     ],
     "language": "python",
     "metadata": {},
     "outputs": []
    },
    {
     "cell_type": "code",
     "collapsed": false,
     "input": [
      "sl = slice(12, 28)"
     ],
     "language": "python",
     "metadata": {},
     "outputs": []
    },
    {
     "cell_type": "code",
     "collapsed": false,
     "input": [
      "img[sl, sl].shape"
     ],
     "language": "python",
     "metadata": {},
     "outputs": []
    },
    {
     "cell_type": "code",
     "collapsed": false,
     "input": [
      "%timeit img[sl, sl]"
     ],
     "language": "python",
     "metadata": {},
     "outputs": []
    },
    {
     "cell_type": "code",
     "collapsed": false,
     "input": [
      "l = [1, 2, 3, 4, 5]"
     ],
     "language": "python",
     "metadata": {},
     "outputs": []
    },
    {
     "cell_type": "code",
     "collapsed": false,
     "input": [
      "x_end = 3\n",
      "x_start = 3\n",
      "l[s_start:x]"
     ],
     "language": "python",
     "metadata": {},
     "outputs": []
    },
    {
     "cell_type": "code",
     "collapsed": false,
     "input": [
      "x = 5\n",
      "y = 4"
     ],
     "language": "python",
     "metadata": {},
     "outputs": []
    },
    {
     "cell_type": "code",
     "collapsed": false,
     "input": [
      "%%timeit\n",
      "y \n",
      "x_s = slice(x - 2, y + 2)\n",
      "y_s = slice(y - 2, y + 2)"
     ],
     "language": "python",
     "metadata": {},
     "outputs": []
    },
    {
     "cell_type": "code",
     "collapsed": false,
     "input": [
      "img[-6:5, -3:5, :].shape"
     ],
     "language": "python",
     "metadata": {},
     "outputs": []
    },
    {
     "cell_type": "code",
     "collapsed": false,
     "input": [
      "s[:,0,0]"
     ],
     "language": "python",
     "metadata": {},
     "outputs": []
    },
    {
     "cell_type": "code",
     "collapsed": false,
     "input": [
      "c = training_images[0].landmarks['PTS'].lms.points\n",
      "patch_size = 3"
     ],
     "language": "python",
     "metadata": {},
     "outputs": []
    },
    {
     "cell_type": "code",
     "collapsed": false,
     "input": [
      "c[np.any((c - patch_size) < 78, axis=1)] = [1,45]"
     ],
     "language": "python",
     "metadata": {},
     "outputs": []
    },
    {
     "cell_type": "code",
     "collapsed": false,
     "input": [
      "c"
     ],
     "language": "python",
     "metadata": {},
     "outputs": []
    },
    {
     "cell_type": "code",
     "collapsed": false,
     "input": [
      "%timeit img[...] = 0"
     ],
     "language": "python",
     "metadata": {},
     "outputs": []
    },
    {
     "cell_type": "code",
     "collapsed": false,
     "input": [
      "%%timeit \n",
      "\n",
      "a = np.zeros((68, 36))"
     ],
     "language": "python",
     "metadata": {},
     "outputs": []
    },
    {
     "cell_type": "code",
     "collapsed": false,
     "input": [
      "a = np.zeros((68, 36))"
     ],
     "language": "python",
     "metadata": {},
     "outputs": []
    },
    {
     "cell_type": "code",
     "collapsed": false,
     "input": [],
     "language": "python",
     "metadata": {},
     "outputs": []
    },
    {
     "cell_type": "code",
     "collapsed": false,
     "input": [],
     "language": "python",
     "metadata": {},
     "outputs": []
    }
   ],
   "metadata": {}
  }
 ]
}