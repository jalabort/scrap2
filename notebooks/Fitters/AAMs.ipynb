{
 "metadata": {
  "name": "",
  "signature": "sha256:de7739677d94c58fdcd400e2ae5165a463e2acfb6c254ab4867ff7c8c44fd791"
 },
 "nbformat": 3,
 "nbformat_minor": 0,
 "worksheets": [
  {
   "cells": [
    {
     "cell_type": "code",
     "collapsed": false,
     "input": [
      "import menpo.io as pio\n",
      "from menpo.landmark import labeller, ibug_68_trimesh, ibug_49_points\n",
      "\n",
      "# load training images\n",
      "training_images = []\n",
      "for i in pio.import_images('/data/PhD/DataBases/lfpw/trainset/*.png'):\n",
      "    # crop image\n",
      "    i.crop_to_landmarks_proportion(0.1)\n",
      "    # label it\n",
      "    labeller(i, 'PTS', ibug_68_trimesh)\n",
      "    # convert it to grayscale if needed\n",
      "    if i.n_channels == 3:\n",
      "        i = i.as_greyscale(mode='luminosity')\n",
      "    # append it to the list\n",
      "    training_images.append(i)"
     ],
     "language": "python",
     "metadata": {},
     "outputs": []
    },
    {
     "cell_type": "code",
     "collapsed": false,
     "input": [
      "%matplotlib inline\n",
      "import matplotlib.pyplot as plt\n",
      "from IPython.html.widgets import interact, interactive\n",
      "\n",
      "def browse_images(images, group=None, label='all'):\n",
      "    n = len(images)\n",
      "    def view_image(i):\n",
      "        images[i].landmarks[group][label].view()\n",
      "        plt.show()\n",
      "    interact(view_image, i=(0,n-1))"
     ],
     "language": "python",
     "metadata": {},
     "outputs": []
    },
    {
     "cell_type": "code",
     "collapsed": false,
     "input": [
      "browse_images(training_images, group='PTS')"
     ],
     "language": "python",
     "metadata": {},
     "outputs": []
    },
    {
     "cell_type": "code",
     "collapsed": false,
     "input": [
      "from menpo.fitmultilevel.aam import AAMBuilder\n",
      "from menpo.fitmultilevel.featurefunctions import sparse_hog\n",
      "from menpo.transform import PiecewiseAffine\n",
      "\n",
      "# options dictionary\n",
      "options = {'feature_type': [sparse_hog, sparse_hog, sparse_hog], \n",
      "           'transform': PiecewiseAffine,\n",
      "           'trilist': training_images[0].landmarks['ibug_68_trimesh'].lms.trilist,\n",
      "           'diagonal_range': 200,\n",
      "           'n_levels': 3, \n",
      "           'downscale': 1.1,\n",
      "           'scaled_levels': True,\n",
      "           'max_shape_components': None,\n",
      "           'max_appearance_components': None,\n",
      "           'boundary': 3,\n",
      "           'interpolator': 'scipy'\n",
      "           }\n",
      "\n",
      "# build aam\n",
      "aambuilder = AAMBuilder(feature_type=[sparse_hog, sparse_hog, sparse_hog], \n",
      "                        normalization_diagonal=200, downscale=1.1)\n",
      "aam = aambuilder.build(training_images, group='PTS', verbose=True)"
     ],
     "language": "python",
     "metadata": {},
     "outputs": []
    },
    {
     "cell_type": "code",
     "collapsed": false,
     "input": [
      "print aam"
     ],
     "language": "python",
     "metadata": {},
     "outputs": []
    },
    {
     "cell_type": "code",
     "collapsed": false,
     "input": [
      "def visualize_aam(aam, bounds=(-3.0, 3.0)):    \n",
      "    def view_aam(shape_pc1, shape_pc2, shape_pc3, tex_pc1, tex_pc2, tex_pc3):\n",
      "        aam.instance(shape_weights=[shape_pc1, shape_pc2, shape_pc3], \n",
      "                     appearance_weights=[tex_pc1, tex_pc2, tex_pc3],\n",
      "                     level=1).landmarks.view(channels=0)\n",
      "        plt.gcf().set_size_inches((5,5))\n",
      "        plt.show()\n",
      "    interact(view_aam, shape_pc1=bounds, shape_pc2=bounds, shape_pc3=bounds, tex_pc1=bounds, tex_pc2=bounds, tex_pc3=bounds)"
     ],
     "language": "python",
     "metadata": {},
     "outputs": []
    },
    {
     "cell_type": "code",
     "collapsed": false,
     "input": [
      "%matplotlib inline\n",
      "visualize_aam(aam)"
     ],
     "language": "python",
     "metadata": {},
     "outputs": []
    },
    {
     "cell_type": "code",
     "collapsed": false,
     "input": [
      "import menpo.io as pio\n",
      "from menpo.landmark import labeller, ibug_68_trimesh\n",
      "\n",
      "# load test images\n",
      "test_images = []\n",
      "for i in pio.import_images('/data/PhD/DataBases/lfpw/testset/*.png'):\n",
      "    # crop image\n",
      "    i.crop_to_landmarks_proportion(0.5)\n",
      "    # label it\n",
      "    labeller(i, 'PTS', ibug_68_trimesh)\n",
      "    # convert it to grayscale if needed\n",
      "    if i.n_channels == 3:\n",
      "        i = i.as_greyscale(mode='luminosity')\n",
      "    # append it to the list\n",
      "    test_images.append(i)"
     ],
     "language": "python",
     "metadata": {},
     "outputs": []
    },
    {
     "cell_type": "code",
     "collapsed": false,
     "input": [
      "browse_images(test_images, group='PTS')"
     ],
     "language": "python",
     "metadata": {},
     "outputs": []
    },
    {
     "cell_type": "code",
     "collapsed": false,
     "input": [
      "from menpo.fitmultilevel.aam import LucasKanadeAAMFitter\n",
      "                                              \n",
      "\n",
      "fitter = LucasKanadeAAMFitter(aam, n_shape=[0.8, 0.85, 0.90], n_appearance=0.50)\n",
      "print fitter"
     ],
     "language": "python",
     "metadata": {},
     "outputs": []
    },
    {
     "cell_type": "code",
     "collapsed": false,
     "input": [
      "fitting_results = []\n",
      "for j, i in enumerate(test_images):\n",
      "    gt_s = i.landmarks['PTS'].lms\n",
      "    s = fitter.perturb_shape(gt_s)\n",
      "    print 'Image: ', j\n",
      "    fr = fitter.fit(i, s, gt_shape=gt_s, verbose=True)\n",
      "    fitting_results.append(fr)"
     ],
     "language": "python",
     "metadata": {},
     "outputs": []
    },
    {
     "cell_type": "code",
     "collapsed": false,
     "input": [
      "%matplotlib inline\n",
      "import matplotlib.pyplot as plt\n",
      "from IPython.html.widgets import interact, interactive\n",
      "\n",
      "def browse_fittings(fitting_results):\n",
      "    n = len(fitting_results)\n",
      "    def view_image(i):\n",
      "        fitting_results[i].view_final_fitting()\n",
      "        plt.show()\n",
      "    interact(view_image, i=(0,n-1))"
     ],
     "language": "python",
     "metadata": {},
     "outputs": []
    },
    {
     "cell_type": "code",
     "collapsed": false,
     "input": [
      "browse_fittings(fitting_results)"
     ],
     "language": "python",
     "metadata": {},
     "outputs": []
    },
    {
     "cell_type": "code",
     "collapsed": false,
     "input": [
      "from menpo.fit.fittingresult import FittingResultList\n",
      "\n",
      "fitting_results = FittingResultList(fitting_results)\n",
      "fitting_results.plot_cumulative_error_dist(color_list=['r', 'b'], marker_list=['o', 'x'])"
     ],
     "language": "python",
     "metadata": {},
     "outputs": []
    },
    {
     "cell_type": "code",
     "collapsed": false,
     "input": [],
     "language": "python",
     "metadata": {},
     "outputs": []
    }
   ],
   "metadata": {}
  }
 ]
}