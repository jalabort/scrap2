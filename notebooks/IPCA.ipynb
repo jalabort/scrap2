{
 "metadata": {
  "name": "",
  "signature": "sha256:0cd7755915f2eeee2661775207477c6c05d6707b36ffd7d19c8ffa8f8e9a0683"
 },
 "nbformat": 3,
 "nbformat_minor": 0,
 "worksheets": [
  {
   "cells": [
    {
     "cell_type": "code",
     "collapsed": false,
     "input": [
      "%matplotlib inline\n",
      "%pylab inline"
     ],
     "language": "python",
     "metadata": {},
     "outputs": [
      {
       "output_type": "stream",
       "stream": "stdout",
       "text": [
        "Populating the interactive namespace from numpy and matplotlib\n"
       ]
      }
     ],
     "prompt_number": 1
    },
    {
     "cell_type": "heading",
     "level": 1,
     "metadata": {},
     "source": [
      "Incremental PCA"
     ]
    },
    {
     "cell_type": "code",
     "collapsed": false,
     "input": [
      "from __future__ import division\n",
      "\n",
      "# def ipca(B, U_a, l_a, n_a, m_a=None, f=1, eps=10**-10):\n",
      "#     r\"\"\"\n",
      "#     Perform Incremental PCA on the eigenvectors U_a, eigenvalues l_a and\n",
      "#     mean vector m_a (if present) given a new data matrix B.\n",
      "\n",
      "#     Parameters\n",
      "#     ----------\n",
      "#     B : (n_samples, n_dimensions) ndarray\n",
      "#         New data matrix.\n",
      "\n",
      "#     U_a : (n_components, n_dimensions) ndarray\n",
      "#         Eigenvectors to be updated.\n",
      "\n",
      "#     l_a : (n_components) ndarray\n",
      "#         Eigenvalues to be updated.\n",
      "\n",
      "#     n_a : int\n",
      "#         Total number of samples used to produce U_a, s_a and m_a.\n",
      "\n",
      "#     m_a : (n_dimensions) ndarray, optional\n",
      "#         Mean to be updated. If `None` or (n_dimensions,) ndarray filled\n",
      "#         with 0s the data matrix will not be centred.\n",
      "\n",
      "#     f : [0, 1] float, optional\n",
      "#         Forgetting factor.\n",
      "\n",
      "#     eps : float, optional\n",
      "#         Tolerance value for positive eigenvalue. Those eigenvalues smaller\n",
      "#         than the specified eps value, together with their corresponding\n",
      "#         eigenvectors, will be automatically discarded.\n",
      "\n",
      "#     Returns\n",
      "#     -------\n",
      "#     U (eigenvectors) : (n_components, n_dimensions) ndarray\n",
      "#         Updated eigenvectors.\n",
      "#     s (eigenvalues) : (n_components,) ndarray\n",
      "#         Updated positive eigenvalues.\n",
      "#     m (mean vector) : (n_dimensions,) ndarray\n",
      "#         Updated mean.\n",
      "#     \"\"\"\n",
      "#     # transpose new data and current eigenvectors to match common notation\n",
      "#     B = B.T\n",
      "#     U_a = U_a.T\n",
      "\n",
      "#     # multiply current eigenvalues by total number of samples and square\n",
      "#     # root them to obtain singular values of the original data.\n",
      "#     s_a = np.sqrt((n_a - 1) * l_a)\n",
      "\n",
      "#     # obtain number of dimensions and number of samples of new data.\n",
      "#     d, n_b = B.shape\n",
      "#     # multiply the number of samples of the original data by the forgetting\n",
      "#     # factor\n",
      "#     n_a *= f\n",
      "#     # total number of samples\n",
      "#     n = n_a + n_b\n",
      "\n",
      "#     if m_a is not None and not np.all(m_a == 0):\n",
      "#         # centred ipca; compute mean of new data\n",
      "#         m_b = np.mean(B, axis=1)\n",
      "#         # compute new mean\n",
      "#         m = (n_a / n) * m_a + (n_b / n) * m_b\n",
      "#         # centre new data\n",
      "#         B = B - m_b[..., None]\n",
      "#         # augment centred data with extra sample\n",
      "#         B = np.hstack((\n",
      "#             B, np.sqrt((n_a * n_b) / n) * (m_b - m_a)[..., None]))\n",
      "#     else:\n",
      "#         m = np.zeros(d)\n",
      "\n",
      "#     # project out current eigenspace out of data matrix\n",
      "#     PB = B - U_a.dot(U_a.T.dot(B))\n",
      "#     # orthogonalise the previous projection using QR\n",
      "#     B_tilde = np.linalg.qr(PB)[0]\n",
      "\n",
      "#     # form R matrix\n",
      "#     S = np.diag(s_a)\n",
      "#     R = np.vstack((np.hstack((f * S, U_a.T.dot(B))),\n",
      "#                    np.hstack((np.zeros((B_tilde.shape[1], S.shape[1])),\n",
      "#                               B_tilde.T.dot(PB)))))\n",
      "#     # compute SVD of R\n",
      "#     U_tilde, s_tilde, Vt_tilde = np.linalg.svd(R, full_matrices=True)\n",
      "\n",
      "#     # compute new eigenvalues\n",
      "#     l = s_tilde ** 2 / (n - 1)\n",
      "#     # keep only positive eigenvalues within tolerance\n",
      "#     l = l[l > eps]\n",
      "\n",
      "#     # compute and transpose new eigenvectors\n",
      "#     U = np.hstack((U_a, B_tilde)).dot(U_tilde)[:, :len(l)].T\n",
      "\n",
      "#     return U, l, m\n",
      "\n",
      "\n",
      "def ipca(B, U_a, l_a, n_a, m_a=None, f=1, eps=10**-10):\n",
      "    r\"\"\"\n",
      "    Perform Incremental PCA on the eigenvectors U_a, eigenvalues l_a and\n",
      "    mean vector m_a (if present) given a new data matrix B.\n",
      "\n",
      "    Parameters\n",
      "    ----------\n",
      "    B : (n_samples, n_dimensions) ndarray\n",
      "        New data matrix.\n",
      "\n",
      "    U_a : (n_components, n_dimensions) ndarray\n",
      "        Eigenvectors to be updated.\n",
      "\n",
      "    l_a : (n_components) ndarray\n",
      "        Eigenvalues to be updated.\n",
      "\n",
      "    n_a : int\n",
      "        Total number of samples used to produce U_a, s_a and m_a.\n",
      "\n",
      "    m_a : (n_dimensions) ndarray, optional\n",
      "        Mean to be updated. If `None` or (n_dimensions,) ndarray filled\n",
      "        with 0s the data matrix will not be centred.\n",
      "\n",
      "    f : [0, 1] float, optional\n",
      "        Forgetting factor.\n",
      "\n",
      "    eps : float, optional\n",
      "        Tolerance value for positive eigenvalue. Those eigenvalues smaller\n",
      "        than the specified eps value, together with their corresponding\n",
      "        eigenvectors, will be automatically discarded.\n",
      "\n",
      "    Returns\n",
      "    -------\n",
      "    U (eigenvectors) : (n_components, n_dimensions) ndarray\n",
      "        Updated eigenvectors.\n",
      "    s (eigenvalues) : (n_components,) ndarray\n",
      "        Updated positive eigenvalues.\n",
      "    m (mean vector) : (n_dimensions,) ndarray\n",
      "        Updated mean.\n",
      "    \"\"\"\n",
      "    # multiply current eigenvalues by total number of samples and square\n",
      "    # root them to obtain singular values of the original data.\n",
      "    s_a = np.sqrt((n_a - 1) * l_a)\n",
      "\n",
      "    # obtain number of dimensions and number of samples of new data.\n",
      "    n_b, d = B.shape\n",
      "    # multiply the number of samples of the original data by the forgetting\n",
      "    # factor\n",
      "    n_a *= f\n",
      "    # total number of samples\n",
      "    n = n_a + n_b\n",
      "\n",
      "    if m_a is not None and not np.all(m_a == 0):\n",
      "        # centred ipca; compute mean of new data\n",
      "        m_b = np.mean(B, axis=0)\n",
      "        # compute new mean\n",
      "        m = (n_a / n) * m_a + (n_b / n) * m_b\n",
      "        # centre new data\n",
      "        B = B - m_b\n",
      "        # augment centred data with extra sample\n",
      "        B = np.vstack((B, np.sqrt((n_a * n_b) / n) * (m_b - m_a)))\n",
      "    else:\n",
      "        m = np.zeros(d)\n",
      "\n",
      "    # project out current eigenspace out of data matrix\n",
      "    PB = B - B.dot(U_a.T).dot(U_a)\n",
      "    # orthogonalise the previous projection using QR\n",
      "    B_tilde = np.linalg.qr(PB.T)[0].T\n",
      "\n",
      "    # form R matrix\n",
      "    S_a = np.diag(s_a)\n",
      "    R = np.hstack((np.vstack((f * S_a, B.dot(U_a.T))),\n",
      "                   np.vstack((np.zeros((S_a.shape[0], B_tilde.shape[0])), \n",
      "                              PB.dot(B_tilde.T)))))\n",
      "\n",
      "    # compute SVD of R\n",
      "    U_tilde, s_tilde, Vt_tilde = np.linalg.svd(R)\n",
      "\n",
      "    # compute new eigenvalues\n",
      "    l = s_tilde ** 2 / (n - 1)\n",
      "    # keep only positive eigenvalues within tolerance\n",
      "    l = l[l > eps]\n",
      "    \n",
      "    U = Vt_tilde.dot(np.vstack((U_a, B_tilde)))[:len(l), :]\n",
      "    \n",
      "    return U, l, m"
     ],
     "language": "python",
     "metadata": {},
     "outputs": [],
     "prompt_number": 2
    },
    {
     "cell_type": "heading",
     "level": 1,
     "metadata": {},
     "source": [
      "Test"
     ]
    },
    {
     "cell_type": "code",
     "collapsed": false,
     "input": [
      "from menpo.math import pca"
     ],
     "language": "python",
     "metadata": {},
     "outputs": [],
     "prompt_number": 3
    },
    {
     "cell_type": "markdown",
     "metadata": {},
     "source": [
      "Build data matrix A:"
     ]
    },
    {
     "cell_type": "code",
     "collapsed": false,
     "input": [
      "n_a = 1000\n",
      "d = 100000\n",
      "\n",
      "A = np.random.randn(n_a, d)"
     ],
     "language": "python",
     "metadata": {},
     "outputs": [],
     "prompt_number": 4
    },
    {
     "cell_type": "code",
     "collapsed": false,
     "input": [
      "print 'Shape of A is:', A.shape"
     ],
     "language": "python",
     "metadata": {},
     "outputs": [
      {
       "output_type": "stream",
       "stream": "stdout",
       "text": [
        "Shape of A is: (1000, 100000)\n"
       ]
      }
     ],
     "prompt_number": 5
    },
    {
     "cell_type": "markdown",
     "metadata": {},
     "source": [
      "Compute batch PCA on A:"
     ]
    },
    {
     "cell_type": "code",
     "collapsed": false,
     "input": [
      "U_a, s_a, m_a = pca(A)"
     ],
     "language": "python",
     "metadata": {},
     "outputs": [],
     "prompt_number": 6
    },
    {
     "cell_type": "code",
     "collapsed": false,
     "input": [
      "print 'Shape of U_a is:', U_a.shape\n",
      "print 'Shape of s_a is:', s_a.shape\n",
      "print 'Shape of m_a is:', m_a.shape"
     ],
     "language": "python",
     "metadata": {},
     "outputs": [
      {
       "output_type": "stream",
       "stream": "stdout",
       "text": [
        "Shape of U_a is: (999, 100000)\n",
        "Shape of s_a is: (999,)\n",
        "Shape of m_a is: (100000,)\n"
       ]
      }
     ],
     "prompt_number": 7
    },
    {
     "cell_type": "markdown",
     "metadata": {},
     "source": [
      "Build new data matrix B:"
     ]
    },
    {
     "cell_type": "code",
     "collapsed": false,
     "input": [
      "n_b = 100\n",
      "\n",
      "B = np.random.randn(n_b, d)"
     ],
     "language": "python",
     "metadata": {},
     "outputs": [],
     "prompt_number": 9
    },
    {
     "cell_type": "code",
     "collapsed": false,
     "input": [
      "print 'Shape of B is:', B.shape"
     ],
     "language": "python",
     "metadata": {},
     "outputs": [
      {
       "output_type": "stream",
       "stream": "stdout",
       "text": [
        "Shape of B is: (100, 100000)\n"
       ]
      }
     ],
     "prompt_number": 10
    },
    {
     "cell_type": "markdown",
     "metadata": {},
     "source": [
      "Compute incremental PCA on B from the previous U_a, s_a and m_a:"
     ]
    },
    {
     "cell_type": "code",
     "collapsed": false,
     "input": [
      "i_U, i_s, i_m = ipca(B, U_a, s_a, n_a, m_a=m_a)"
     ],
     "language": "python",
     "metadata": {},
     "outputs": [],
     "prompt_number": 11
    },
    {
     "cell_type": "code",
     "collapsed": false,
     "input": [
      "print 'Shape of i_U is:', i_U.shape\n",
      "print 'Shape of i_s is:', i_s.shape\n",
      "print 'Shape of i_m is:', i_m.shape"
     ],
     "language": "python",
     "metadata": {},
     "outputs": [
      {
       "output_type": "stream",
       "stream": "stdout",
       "text": [
        "Shape of i_U is: (1099, 100000)\n",
        "Shape of i_s is: (1099,)\n",
        "Shape of i_m is: (100000,)\n"
       ]
      }
     ],
     "prompt_number": 12
    },
    {
     "cell_type": "markdown",
     "metadata": {},
     "source": [
      "Compute batch PCA on the concatenation of A and B:"
     ]
    },
    {
     "cell_type": "code",
     "collapsed": false,
     "input": [
      "b_U, b_s, b_m = pca(np.vstack((A, B)))"
     ],
     "language": "python",
     "metadata": {},
     "outputs": [],
     "prompt_number": 13
    },
    {
     "cell_type": "code",
     "collapsed": false,
     "input": [
      "print 'Shape of b_U is:', b_U.shape\n",
      "print 'Shape of b_s is:', b_s.shape\n",
      "print 'Shape of b_m is:', b_m.shape"
     ],
     "language": "python",
     "metadata": {},
     "outputs": [
      {
       "output_type": "stream",
       "stream": "stdout",
       "text": [
        "Shape of b_U is: (1099, 100000)\n",
        "Shape of b_s is: (1099,)\n",
        "Shape of b_m is: (100000,)\n"
       ]
      }
     ],
     "prompt_number": 14
    },
    {
     "cell_type": "markdown",
     "metadata": {},
     "source": [
      "Check the equivalence of both:"
     ]
    },
    {
     "cell_type": "code",
     "collapsed": false,
     "input": [
      "print 'Are i_U and b_U equal?', np.allclose(np.abs(i_U), np.abs(b_U))\n",
      "print 'Are i_s and b_s equal?', np.allclose(i_s, b_s)\n",
      "print 'Are i_m and b_m equal?', np.allclose(i_m, b_m)"
     ],
     "language": "python",
     "metadata": {},
     "outputs": [
      {
       "output_type": "stream",
       "stream": "stdout",
       "text": [
        "Are i_U and b_U equal? "
       ]
      },
      {
       "output_type": "stream",
       "stream": "stdout",
       "text": [
        "True\n",
        "Are i_s and b_s equal? True\n",
        "Are i_m and b_m equal? True\n"
       ]
      }
     ],
     "prompt_number": 15
    }
   ],
   "metadata": {}
  }
 ]
}