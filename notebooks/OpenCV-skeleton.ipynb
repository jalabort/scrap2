{
 "metadata": {
  "name": "",
  "signature": "sha256:9bf76d391a7a48ab8dbb1ff398a23466a74fbb069411946c2ddb54e5225b1aa2"
 },
 "nbformat": 3,
 "nbformat_minor": 0,
 "worksheets": [
  {
   "cells": [
    {
     "cell_type": "code",
     "collapsed": false,
     "input": [
      "import numpy as np\n",
      "import cv2\n",
      "\n",
      "cap = cv2.VideoCapture(0)\n",
      "face_cascade = cv2.CascadeClassifier('/usr/local/Cellar/opencv/2.4.8.2/share/OpenCV/haarcascades/haarcascade_frontalface_default.xml')\n",
      "\n",
      "while(True):\n",
      "    # capture frame\n",
      "    ret, frame = cap.read()\n",
      "\n",
      "    # convert to grayscale\n",
      "    gray = cv2.cvtColor(frame, cv2.COLOR_BGR2GRAY)\n",
      "    \n",
      "    # detect Faces\n",
      "    faces = face_cascade.detectMultiScale(gray, 1.3, 5)\n",
      "    for (x,y,w,h) in faces:\n",
      "        img = cv2.rectangle(frame,(x,y),(x+w,y+h),(255,0,0),2)\n",
      "    \n",
      "    # display frame\n",
      "    cv2.imshow('frame',frame)\n",
      "    if cv2.waitKey(1) & 0xFF == ord('q'):\n",
      "        break\n",
      "\n",
      "# release the capture\n",
      "cap.release()\n",
      "cv2.destroyAllWindows()"
     ],
     "language": "python",
     "metadata": {},
     "outputs": []
    }
   ],
   "metadata": {}
  }
 ]
}