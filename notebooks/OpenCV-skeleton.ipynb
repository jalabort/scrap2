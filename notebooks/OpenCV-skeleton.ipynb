{
 "metadata": {
  "name": "",
  "signature": "sha256:b9abcee012082e3da7b7285b3ac6ee3bc5e1e5b761524e55195dc575140a0f5c"
 },
 "nbformat": 3,
 "nbformat_minor": 0,
 "worksheets": [
  {
   "cells": [
    {
     "cell_type": "code",
     "collapsed": false,
     "input": [
      "import numpy as np\n",
      "import cv2\n",
      "\n",
      "cap = cv2.VideoCapture(0)\n",
      "face_cascade = cv2.CascadeClassifier('/Users/pts08/Downloads/haarcascade_frontalface_default.xml')\n",
      "\n",
      "scaled_width = 320\n",
      "\n",
      "while(True):\n",
      "    # capture frame\n",
      "    ret, frame = cap.read()\n",
      "\n",
      "    # convert to grayscale\n",
      "    gray = cv2.cvtColor(frame, cv2.COLOR_BGR2GRAY)\n",
      "    small_img = cv2.resize(gray, (scaled_width, scaled_width * gray.shape[0] / gray.shape[1]))\n",
      "    sf = gray.shape[1] / scaled_width\n",
      "\n",
      "    # detect Faces\n",
      "    faces = face_cascade.detectMultiScale(small_img, 1.3, 5)\n",
      "    for (x,y,w,h) in faces:\n",
      "        img = cv2.rectangle(frame,(sf * x, sf * y),\n",
      "                            (sf * (x + w),sf * (y + h)), (255, 0, 0), 2)\n",
      "    \n",
      "    # display frame\n",
      "    cv2.imshow('frame',frame)\n",
      "    if cv2.waitKey(1) & 0xFF == ord('q'):\n",
      "        break\n",
      "\n",
      "# release the capture\n",
      "cap.release()\n",
      "cv2.destroyAllWindows()"
     ],
     "language": "python",
     "metadata": {},
     "outputs": [],
     "prompt_number": 11
    },
    {
     "cell_type": "code",
     "collapsed": false,
     "input": [],
     "language": "python",
     "metadata": {},
     "outputs": []
    }
   ],
   "metadata": {}
  }
 ]
}