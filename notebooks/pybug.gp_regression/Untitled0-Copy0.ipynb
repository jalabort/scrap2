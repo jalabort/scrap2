{
 "metadata": {
  "name": "",
  "signature": "sha256:a5f1eadb017f0c4af812d7cd5cfe3e322ba4948445d822aeb719a19cf32f4556"
 },
 "nbformat": 3,
 "nbformat_minor": 0,
 "worksheets": [
  {
   "cells": [
    {
     "cell_type": "code",
     "collapsed": false,
     "input": [
      "import pybug.io as pio\n",
      "from pybug.landmark import labeller, ibug_68_trimesh\n",
      "\n",
      "training_images = []\n",
      "# load landmarked imarges\n",
      "for i in pio.import_images('/Users/joan/PhD/DataBases/lfpw/trainset/*.png',\n",
      "                     max_images=811):\n",
      "    i.crop_to_landmarks_proportion(0.3)\n",
      "    if i.n_channels == 3:\n",
      "        training_images.append(i.as_greyscale(mode='luminosity'))\n",
      "    else:\n",
      "        training_images.append(i)"
     ],
     "language": "python",
     "metadata": {},
     "outputs": []
    },
    {
     "cell_type": "code",
     "collapsed": false,
     "input": [
      "%matplotlib inline\n",
      "#visualize the first image\n",
      "training_images[0].landmarks['PTS'].view_new()"
     ],
     "language": "python",
     "metadata": {},
     "outputs": []
    },
    {
     "cell_type": "code",
     "collapsed": false,
     "input": [
      "from pybug.aam.functions import mean_pointcloud\n",
      "\n",
      "# extract original shapes\n",
      "shapes = [i.landmarks['PTS'].lms for i in training_images]\n",
      "# define reference shape\n",
      "reference_landmarks = mean_pointcloud(shapes)\n",
      "\n",
      "training_images = [i.rescale_to_reference_landmarks(reference_landmarks, group='PTS')\n",
      "          for i in training_images]\n",
      "# extract original shapes\n",
      "shapes = [i.landmarks['PTS'].lms for i in training_images]"
     ],
     "language": "python",
     "metadata": {},
     "outputs": []
    },
    {
     "cell_type": "code",
     "collapsed": false,
     "input": [
      "%matplotlib inline\n",
      "#visualize the first image\n",
      "training_images[0].landmarks['PTS'].view_new()"
     ],
     "language": "python",
     "metadata": {},
     "outputs": []
    },
    {
     "cell_type": "code",
     "collapsed": false,
     "input": [
      "from pybug.gp_regression.base import NonParametricRegressor\n",
      "\n",
      "pr = NonParametricRegressor(reference_landmarks, \n",
      "                            features_dic={'type':'hog', 'options': {'mode': 'sparse'}}, \n",
      "                            patch_size=(24, 24),\n",
      "                            noise_std=0.04,\n",
      "                            n_perturbations=10)"
     ],
     "language": "python",
     "metadata": {},
     "outputs": []
    },
    {
     "cell_type": "code",
     "collapsed": false,
     "input": [
      "pr.train_gp(training_images, shapes)"
     ],
     "language": "python",
     "metadata": {},
     "outputs": []
    },
    {
     "cell_type": "code",
     "collapsed": false,
     "input": [
      "import pybug.io as pio\n",
      "from pybug.landmark import labeller, ibug_68_points, ibug_68_trimesh\n",
      "\n",
      "test_images = []\n",
      "# load landmarked imarges\n",
      "for i in pio.import_images('/Users/joan/PhD/DataBases/lfpw/testset/*.png',\n",
      "                     max_images=224):\n",
      "    i.crop_to_landmarks_proportion(0.5)\n",
      "    if i.n_channels == 3:\n",
      "        test_images.append(i.as_greyscale(mode='luminosity'))\n",
      "    else:\n",
      "        test_images.append(i)\n",
      "                                        \n",
      "# extract original shapes\n",
      "test_shapes = [i.landmarks['PTS'].lms for i in test_images]\n",
      "\n",
      "perturbed_shapes = [pr._perturb_landmarks(s) for s in test_shapes]"
     ],
     "language": "python",
     "metadata": {},
     "outputs": []
    },
    {
     "cell_type": "code",
     "collapsed": false,
     "input": [
      "ind = 1\n",
      "fitted_shape = pr.align_gp(test_images[ind], perturbed_shapes[ind])"
     ],
     "language": "python",
     "metadata": {},
     "outputs": []
    },
    {
     "cell_type": "code",
     "collapsed": false,
     "input": [
      "ind = 89\n",
      "#test_images[ind].landmarks['fitted'] = fitted_shape\n",
      "test_images[ind].landmarks['initial'] = perturbed_shapes[ind]\n",
      "test_images[ind].landmarks['gt'] = test_shapes[ind]\n",
      "test_images[ind].landmarks['initial'].view() \n",
      "#test_images[ind].landmarks['fitted'].view_new()"
     ],
     "language": "python",
     "metadata": {},
     "outputs": []
    },
    {
     "cell_type": "code",
     "collapsed": false,
     "input": [
      "%load_ext autoreload\n",
      "%autoreload 2\n"
     ],
     "language": "python",
     "metadata": {},
     "outputs": []
    },
    {
     "cell_type": "code",
     "collapsed": false,
     "input": [
      "pr.noise_std = 0.04"
     ],
     "language": "python",
     "metadata": {},
     "outputs": []
    },
    {
     "cell_type": "code",
     "collapsed": false,
     "input": [
      "import GPy\n",
      "import numpy as np"
     ],
     "language": "python",
     "metadata": {},
     "outputs": []
    },
    {
     "cell_type": "code",
     "collapsed": false,
     "input": [
      "k = GPy.kern.rbf(np.arange(-10,10)[..., None].shape[1], variance=1., lengthscale=None,ARD=False)\n",
      "m = GPy.models.GPRegression(np.arange(-10,10)[..., None], (20*np.arange(-10,10)**3+3)[..., None],normalize_X=True, kernel=k)"
     ],
     "language": "python",
     "metadata": {},
     "outputs": []
    },
    {
     "cell_type": "code",
     "collapsed": false,
     "input": [
      "# optimize\n",
      "m.optimize('bfgs',messages=True, max_iters=100)"
     ],
     "language": "python",
     "metadata": {},
     "outputs": []
    },
    {
     "cell_type": "code",
     "collapsed": false,
     "input": [
      "mean, var, _025pm, _975pm = m.predict(np.array([-9]))"
     ],
     "language": "python",
     "metadata": {},
     "outputs": []
    },
    {
     "cell_type": "code",
     "collapsed": false,
     "input": [
      "mean"
     ],
     "language": "python",
     "metadata": {},
     "outputs": []
    },
    {
     "cell_type": "code",
     "collapsed": false,
     "input": [
      "(20*-9**3+3)"
     ],
     "language": "python",
     "metadata": {},
     "outputs": []
    },
    {
     "cell_type": "code",
     "collapsed": false,
     "input": [
      "m.plot()"
     ],
     "language": "python",
     "metadata": {},
     "outputs": []
    },
    {
     "cell_type": "code",
     "collapsed": false,
     "input": [
      "a"
     ],
     "language": "python",
     "metadata": {},
     "outputs": []
    },
    {
     "cell_type": "code",
     "collapsed": false,
     "input": [
      "np.arange(-10,10)[..., None].shape"
     ],
     "language": "python",
     "metadata": {},
     "outputs": []
    },
    {
     "cell_type": "code",
     "collapsed": false,
     "input": [
      "m.getstate()"
     ],
     "language": "python",
     "metadata": {},
     "outputs": []
    },
    {
     "cell_type": "code",
     "collapsed": false,
     "input": [],
     "language": "python",
     "metadata": {},
     "outputs": []
    }
   ],
   "metadata": {}
  }
 ]
}