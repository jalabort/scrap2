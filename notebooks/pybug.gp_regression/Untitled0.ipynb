{
 "metadata": {
  "name": "",
  "signature": "sha256:4b614d19acccee4bd36ca781b62c70c139b4b292bffc42029b2834640a40f348"
 },
 "nbformat": 3,
 "nbformat_minor": 0,
 "worksheets": [
  {
   "cells": [
    {
     "cell_type": "code",
     "collapsed": false,
     "input": [
      "import pybug.io as pio\n",
      "from pybug.landmark import labeller, ibug_68_trimesh\n",
      "\n",
      "training_images = []\n",
      "# load landmarked imarges\n",
      "for i in pio.import_images('/Users/joan/PhD/DataBases/lfpw/trainset/*.png',\n",
      "                     max_images=811):\n",
      "    i.crop_to_landmarks_proportion(0.3)\n",
      "    if i.n_channels == 3:\n",
      "        training_images.append(i.as_greyscale(mode='luminosity'))\n",
      "    else:\n",
      "        training_images.append(i)"
     ],
     "language": "python",
     "metadata": {},
     "outputs": []
    },
    {
     "cell_type": "code",
     "collapsed": false,
     "input": [
      "%matplotlib inline\n",
      "#visualize the first image\n",
      "training_images[0].landmarks['PTS'].view_new()"
     ],
     "language": "python",
     "metadata": {},
     "outputs": []
    },
    {
     "cell_type": "code",
     "collapsed": false,
     "input": [
      "from pybug.aam.functions import mean_pointcloud\n",
      "\n",
      "# extract original shapes\n",
      "shapes = [i.landmarks['PTS'].lms for i in training_images]\n",
      "# define reference shape\n",
      "reference_landmarks = mean_pointcloud(shapes)\n",
      "\n",
      "training_images = [i.rescale_to_reference_landmarks(reference_landmarks, group='PTS')\n",
      "                   for i in training_images]\n",
      "\n",
      "pyramid = [i.gaussian_pyramid() for i in training_images]\n",
      "\n",
      "training_images1 = [i.next() for i in pyramid]\n",
      "\n",
      "training_images2 = [i.next() for i in pyramid]\n",
      "\n",
      "# extract original shapes\n",
      "shapes = [i.landmarks['PTS'].lms for i in training_images2]"
     ],
     "language": "python",
     "metadata": {},
     "outputs": []
    },
    {
     "cell_type": "code",
     "collapsed": false,
     "input": [
      "%matplotlib inline\n",
      "#visualize the first image\n",
      "training_images2[0].landmarks['PTS'].view_new()\n",
      "img = training_images2[0]\n",
      "img.build_mask_around_landmarks((16,16))"
     ],
     "language": "python",
     "metadata": {},
     "outputs": []
    },
    {
     "cell_type": "code",
     "collapsed": false,
     "input": [
      "from pybug.gp_regression.base import NonParametricRegressor\n",
      "\n",
      "pr = NonParametricRegressor(reference_landmarks, \n",
      "                            features_dic={'type':'hog', 'options': {'window_step_vertical':8, 'window_step_horizontal':8}}, \n",
      "                            patch_size=(16, 16),\n",
      "                            noise_std=0.04,\n",
      "                            n_perturbations=5)"
     ],
     "language": "python",
     "metadata": {},
     "outputs": []
    },
    {
     "cell_type": "code",
     "collapsed": false,
     "input": [
      "pr.train_gp(training_images2, shapes)"
     ],
     "language": "python",
     "metadata": {},
     "outputs": []
    },
    {
     "cell_type": "code",
     "collapsed": false,
     "input": [
      "import pybug.io as pio\n",
      "from pybug.landmark import labeller, ibug_68_points, ibug_68_trimesh\n",
      "\n",
      "test_images = []\n",
      "# load landmarked imarges\n",
      "for i in pio.import_images('/Users/joan/PhD/DataBases/ibug/*.jpg',\n",
      "                     max_images=224):\n",
      "    i.crop_to_landmarks_proportion(0.3)\n",
      "    if i.n_channels == 3:\n",
      "        test_images.append(i.as_greyscale(mode='luminosity'))\n",
      "    else:\n",
      "        test_images.append(i)\n",
      "        \n",
      "test_images = [i.rescale_to_reference_landmarks(reference_landmarks, group='PTS')\n",
      "               for i in test_images]\n",
      "\n",
      "test_pyramid = [i.gaussian_pyramid() for i in test_images]\n",
      "\n",
      "test_images1 = [i.next() for i in test_pyramid]\n",
      "\n",
      "test_images2 = [i.next() for i in test_pyramid]\n",
      "        \n",
      "# extract original shapes\n",
      "test_shapes = [i.landmarks['PTS'].lms for i in test_images2]\n",
      "\n",
      "perturbed_shapes = [pr._perturb_landmarks(s) for s in test_shapes]"
     ],
     "language": "python",
     "metadata": {},
     "outputs": []
    },
    {
     "cell_type": "code",
     "collapsed": false,
     "input": [
      "ind = 89\n",
      "fitted_shape = pr.align_gp(test_images2[ind], perturbed_shapes[ind])"
     ],
     "language": "python",
     "metadata": {},
     "outputs": []
    },
    {
     "cell_type": "code",
     "collapsed": false,
     "input": [
      "test_images2[ind].landmarks['fitted'] = fitted_shape\n",
      "test_images2[ind].landmarks['initial'] = perturbed_shapes[ind]\n",
      "test_images2[ind].landmarks['gt'] = test_shapes[ind]\n",
      "test_images2[ind].landmarks['initial'].view() \n",
      "test_images2[ind].landmarks['fitted'].view_new()"
     ],
     "language": "python",
     "metadata": {},
     "outputs": []
    },
    {
     "cell_type": "code",
     "collapsed": false,
     "input": [
      "%load_ext autoreload\n",
      "%autoreload 2\n"
     ],
     "language": "python",
     "metadata": {},
     "outputs": []
    },
    {
     "cell_type": "code",
     "collapsed": false,
     "input": [
      "pr.noise_std"
     ],
     "language": "python",
     "metadata": {},
     "outputs": []
    },
    {
     "cell_type": "code",
     "collapsed": false,
     "input": [
      "import GPy\n",
      "import numpy as np"
     ],
     "language": "python",
     "metadata": {},
     "outputs": []
    },
    {
     "cell_type": "code",
     "collapsed": false,
     "input": [
      "k = GPy.kern.rbf(np.arange(-10,10)[..., None].shape[1], variance=1., lengthscale=None,ARD=False)\n",
      "m = GPy.models.GPRegression(np.arange(-10,10)[..., None], (20*np.arange(-10,10)**3+3)[..., None],normalize_X=True, kernel=k)"
     ],
     "language": "python",
     "metadata": {},
     "outputs": []
    },
    {
     "cell_type": "code",
     "collapsed": false,
     "input": [
      "# optimize\n",
      "m.optimize('bfgs',messages=True, max_iters=100)"
     ],
     "language": "python",
     "metadata": {},
     "outputs": []
    },
    {
     "cell_type": "code",
     "collapsed": false,
     "input": [
      "mean, var, _025pm, _975pm = m.predict(np.array([-9]))"
     ],
     "language": "python",
     "metadata": {},
     "outputs": []
    },
    {
     "cell_type": "code",
     "collapsed": false,
     "input": [
      "mean"
     ],
     "language": "python",
     "metadata": {},
     "outputs": []
    },
    {
     "cell_type": "code",
     "collapsed": false,
     "input": [
      "(20*-9**3+3)"
     ],
     "language": "python",
     "metadata": {},
     "outputs": []
    },
    {
     "cell_type": "code",
     "collapsed": false,
     "input": [
      "m.plot()"
     ],
     "language": "python",
     "metadata": {},
     "outputs": []
    },
    {
     "cell_type": "code",
     "collapsed": false,
     "input": [
      "a"
     ],
     "language": "python",
     "metadata": {},
     "outputs": []
    },
    {
     "cell_type": "code",
     "collapsed": false,
     "input": [
      "np.arange(-10,10)[..., None].shape"
     ],
     "language": "python",
     "metadata": {},
     "outputs": []
    },
    {
     "cell_type": "code",
     "collapsed": false,
     "input": [
      "m.getstate()"
     ],
     "language": "python",
     "metadata": {},
     "outputs": []
    },
    {
     "cell_type": "code",
     "collapsed": false,
     "input": [],
     "language": "python",
     "metadata": {},
     "outputs": []
    }
   ],
   "metadata": {}
  }
 ]
}