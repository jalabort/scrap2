{
 "metadata": {
  "name": "",
  "signature": "sha256:3a52f47a79e3ae4c6246fe292d85ed797c8c1b77251ec35faa974a94096d9b00"
 },
 "nbformat": 3,
 "nbformat_minor": 0,
 "worksheets": [
  {
   "cells": [
    {
     "cell_type": "markdown",
     "metadata": {},
     "source": [
      "Load training data:"
     ]
    },
    {
     "cell_type": "code",
     "collapsed": false,
     "input": [
      "import menpo.io as mio\n",
      "from menpo.landmark import labeller, ibug_face_66\n",
      "\n",
      "training_images = []\n",
      "for i in mio.import_images('/Users/joan/PhD/DataBases/faces/lfpw/trainset',\n",
      "                           max_images=None, verbose=True):\n",
      "    \n",
      "    i.crop_to_landmarks_proportion_inplace(0.5)\n",
      "    i = i.rescale_landmarks_to_diagonal_range(200)\n",
      "    \n",
      "    if i.n_channels == 3:\n",
      "        i = i.as_greyscale(mode='luminosity')\n",
      "    \n",
      "    training_images.append(i)"
     ],
     "language": "python",
     "metadata": {},
     "outputs": []
    },
    {
     "cell_type": "markdown",
     "metadata": {},
     "source": [
      "Set common parameters:"
     ]
    },
    {
     "cell_type": "code",
     "collapsed": false,
     "input": [
      "diagonal = 100\n",
      "scales = [1]"
     ],
     "language": "python",
     "metadata": {},
     "outputs": []
    },
    {
     "cell_type": "markdown",
     "metadata": {},
     "source": [
      "Build Global-AAMs and Parts-AAMs:"
     ]
    },
    {
     "cell_type": "code",
     "collapsed": false,
     "input": [
      "from alabortijcv2015.aam import GlobalAAMBuilder, PartsAAMBuilder\n",
      "from menpo.feature import hog, igo, no_op\n",
      "\n",
      "gaam_int = GlobalAAMBuilder(features=no_op, diagonal=diagonal, scales=scales).build(training_images, verbose=True)\n",
      "gaam_igo = GlobalAAMBuilder(features=igo, diagonal=diagonal, scales=scales).build(training_images, verbose=True)\n",
      "gaam_hog = GlobalAAMBuilder(features=hog, diagonal=diagonal, scales=scales).build(training_images, verbose=True)\n",
      "\n",
      "paam_int = PartsAAMBuilder(features=no_op, diagonal=diagonal, scales=scales).build(training_images, verbose=True)\n",
      "paam_igo = PartsAAMBuilder(features=igo, diagonal=diagonal, scales=scales).build(training_images, verbose=True)\n",
      "paam_hog = PartsAAMBuilder(features=hog, diagonal=diagonal, scales=scales).build(training_images, verbose=True)"
     ],
     "language": "python",
     "metadata": {},
     "outputs": []
    },
    {
     "cell_type": "markdown",
     "metadata": {},
     "source": [
      "Save them:"
     ]
    },
    {
     "cell_type": "code",
     "collapsed": false,
     "input": [
      "from alabortijcv2015.utils import pickle_dump\n",
      "\n",
      "pickle_dump(gaam_int, '/Users/joan/PhD/Models/gaam_int.menpo')\n",
      "pickle_dump(gaam_igo, '/Users/joan/PhD/Models/gaam_igo.menpo')\n",
      "pickle_dump(gaam_hog, '/Users/joan/PhD/Models/gaam_hog.menpo')\n",
      "\n",
      "pickle_dump(paam_int, '/Users/joan/PhD/Models/paam_int.menpo')\n",
      "pickle_dump(paam_igo, '/Users/joan/PhD/Models/paam_igo.menpo')\n",
      "pickle_dump(paam_hog, '/Users/joan/PhD/Models/paam_hog.menpo')"
     ],
     "language": "python",
     "metadata": {},
     "outputs": []
    }
   ],
   "metadata": {}
  }
 ]
}