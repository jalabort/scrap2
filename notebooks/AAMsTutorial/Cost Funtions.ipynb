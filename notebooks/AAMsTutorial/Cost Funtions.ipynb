{
 "metadata": {
  "name": "",
  "signature": "sha256:00e94d39278fc4015c09462b15f42ded71fb57ebed765af529a7c1c17018fc39"
 },
 "nbformat": 3,
 "nbformat_minor": 0,
 "worksheets": [
  {
   "cells": [
    {
     "cell_type": "markdown",
     "metadata": {},
     "source": [
      "Define functions:"
     ]
    },
    {
     "cell_type": "code",
     "collapsed": false,
     "input": [
      "import numpy as np\n",
      "from menpo.image import Image\n",
      "from alabortijcv2015.aam import GlobalAAM, PartsAAM\n",
      "from alabortijcv2015.aam.algorithm import Simultaneous, Alternating, ProjectOut, Bayesian \n",
      "\n",
      "\n",
      "# Cost functions --------------------------------------------------\n",
      "\n",
      "# ssd\n",
      "ssd_cost = lambda i, r: np.sum((i.pixels - r.pixels) ** 2)\n",
      "\n",
      "def ssd_cost2(i, r):\n",
      "    r = i.as_vector() - r.as_vector()\n",
      "    return r.dot(r)\n",
      "\n",
      "# project out\n",
      "def projected_ssd_cost(i, t, am): \n",
      "    r = i.as_vector() - t.as_vector()\n",
      "    A = am.components.T\n",
      "    return r.dot(r - A.dot(A.T.dot(r)))\n",
      "\n",
      "# bayesian\n",
      "def bayesian_ssd_cost(i, t, am):\n",
      "    r = i.as_vector() - t.as_vector()\n",
      "    A = am.components.T\n",
      "    l = am.eigenvalues\n",
      "    s2 = am.noise_variance()\n",
      "    a = 1/s2 - 1/l\n",
      "    return r.dot(1/s2 * r - A.dot((a[..., None] * A).T.dot(r)))\n",
      "    \n",
      "\n",
      "# def evaluate_cost_around_minima(fitter, img, p_min, p_indices, deltas, level=-1):\n",
      "    \n",
      "#     # extract aam and algorithm\n",
      "#     aam = fitter.dm\n",
      "#     algorithm = fitter._algorithms[level]\n",
      "    \n",
      "#     # set up warping function flag\n",
      "#     if isinstance(fitter.dm, GlobalAAM):\n",
      "#         is_global_warp = True\n",
      "#         # wire up warp funtion\n",
      "#         transform_cls = aam.transform\n",
      "#     else:\n",
      "#         is_global_warp = False\n",
      "#         # extract patch shape\n",
      "#         patch_shape = aam.patch_shape\n",
      "    \n",
      "#     # set up cost funtion flag\n",
      "#     if (isinstance(algorithm, Simultaneous) or \n",
      "#         isinstance(algorithm, Alternating)):\n",
      "#         is_ssd = True\n",
      "#         # wire up cost funtion\n",
      "#         compute_cost = ssd_cost\n",
      "#     else:\n",
      "#         is_ssd = False\n",
      "#         if isinstance(algorithm, ProjectOut) :\n",
      "#             # wire up cost funtion\n",
      "#             compute_cost = projected_ssd_cost\n",
      "#         else:\n",
      "#             # wire up cost funtion\n",
      "#             compute_cost = bayesian_ssd_cost\n",
      "        \n",
      "#     # extract transform, appearance model and reference frame\n",
      "#     transform = algorithm.transform\n",
      "#     appearance_model = algorithm.appearance_model\n",
      "#     reference_frame = appearance_model.mean()\n",
      "    \n",
      "#     # apply features to image\n",
      "#     #img = fitter.features(img)\n",
      "#     img = fitter._prepare_image(img)\n",
      "                          \n",
      "#     # initialize cost matrix \n",
      "#     n = len(deltas)\n",
      "#     cost = np.zeros((n, n))\n",
      "    \n",
      "#     # fill out cost matrix\n",
      "#     i_p0 = 0\n",
      "#     for delta_p0 in deltas:\n",
      "#         i_p1 = 0\n",
      "#         for delta_p1 in deltas:\n",
      "            \n",
      "#             # perturb shape parameters\n",
      "#             p = p_min.copy()\n",
      "#             p[p_indices[0]] += delta_p0\n",
      "#             p[p_indices[1]] += delta_p1\n",
      "#             shape = transform.from_vector(p).target\n",
      "            \n",
      "#             # warp image\n",
      "#             if is_global_warp:\n",
      "#                 t = transform_cls(reference_frame.landmarks['source'].lms, shape)\n",
      "#                 warped_img = img.warp_to_mask(reference_frame.mask, t)\n",
      "#             else:\n",
      "#                 warped_image = Image(img.extract_patches(shape, patch_shape, as_single_array=True))\n",
      "              \n",
      "#             # compute cost   \n",
      "#             if is_ssd:\n",
      "#                 # reconstruct image\n",
      "#                 rec_img = appearance_model.reconstruct(warped_img)\n",
      "#                 # compute cost\n",
      "#                 cost[i_p0, i_p1] = compute_cost(warped_img, rec_img)\n",
      "#             else:\n",
      "#                 # compute cost\n",
      "#                 cost[i_p0, i_p1] = compute_cost(warped_img, am.mean(), am)\n",
      "            \n",
      "#             # increment p1 index\n",
      "#             i_p1 += 1\n",
      "#         # increment p0 index\n",
      "#         i_p0 +=1\n",
      "        \n",
      "#     return cost\n",
      "\n",
      "\n",
      "from __future__ import division\n",
      "import matplotlib.pyplot as plt\n",
      "from matplotlib import cm\n",
      "from mpl_toolkits.mplot3d import axes3d\n",
      "\n",
      "def plot_cost_function(cost, deltas, p_min, p_indices, margin=0):\n",
      "    \n",
      "    cost = -cost\n",
      "    # grab selected parameters\n",
      "    p_min = p_min[p_indices]\n",
      "    \n",
      "    # compute true parameter values\n",
      "    p0 = deltas - p_min[0]\n",
      "    p1 = deltas - p_min[1]\n",
      "    \n",
      "    # build parameter grid\n",
      "    P0, P1 = np.meshgrid(p0, p1)\n",
      "\n",
      "    # compute figure limits\n",
      "    xlim_max = np.max(P0)\n",
      "    xlim_min = np.min(P0)\n",
      "    ylim_max = np.max(P1)\n",
      "    ylim_min = np.min(P1)\n",
      "    zlim_max = np.max(cost)\n",
      "    zlim_min = np.min(cost) - margin\n",
      "\n",
      "    # initialize 3D ploting\n",
      "    fig = plt.figure()\n",
      "    ax = fig.add_subplot(111, projection='3d')\n",
      "\n",
      "    # plot cost function\n",
      "    ax.plot_surface(P0, P1, cost, rstride=1, cstride=1, alpha=0.5, cmap=cm.jet)\n",
      "    # plot 2d cost function contour\n",
      "    cset = ax.contourf(P0, P1, cost, zdir='z', offset=zlim_min, alpha=0.5, cmap=cm.jet)\n",
      "\n",
      "    # plot projection minima\n",
      "    center = np.asarray(cost.shape) / 2\n",
      "    ax.plot3D([p_min[0], p_min[0]], \n",
      "              [p_min[1], p_min[1]],\n",
      "              [zlim_min, cost[center[0], center[1]]],\n",
      "              'bo--')\n",
      "    \n",
      "    # plot cost funtion minima\n",
      "    cost_minima = np.max(cost)\n",
      "    indices = np.hstack(np.where(cost == cost_minima))\n",
      "    p_min_cost = np.array([deltas[indices[1]], deltas[indices[0]]])\n",
      "    p_min_cost = p_min_cost - p_min\n",
      "    ax.plot3D([p_min_cost[0], p_min_cost[0]], \n",
      "              [p_min_cost[1], p_min_cost[1]],\n",
      "              [zlim_min, cost_minima],\n",
      "              'r*--')\n",
      "    \n",
      "    # set figure x,y,z labels and limits\n",
      "    ax.set_xlabel('p0')\n",
      "    ax.set_xlim(xlim_min, xlim_max)\n",
      "    ax.set_ylabel('p1')\n",
      "    ax.set_ylim(ylim_min, ylim_max)\n",
      "    ax.set_zlabel('Cost')\n",
      "    ax.set_zlim(zlim_min, zlim_max)\n",
      "    \n",
      "    return fig\n",
      "\n",
      "def shape_to_parameters(transform, shape):\n",
      "    transform.set_target(shape)\n",
      "    return transform.as_vector()\n",
      "\n",
      "def draw_optimization_path(fig, fr, p_indices, level=-1, step=1):\n",
      "    \n",
      "    # grab figure axes\n",
      "    ax = fig.axes[0]\n",
      "    zlim_min = ax.get_zlim()[0]\n",
      "    \n",
      "    # extract fitter level transform\n",
      "    transform = fr.fitter._algorithms[level].transform\n",
      "    \n",
      "    # recover optimal parameters per iteration\n",
      "    #shapes= fr.shapes()\n",
      "    #p_iter = [shape_to_parameters(transform, s) for s in shapes]\n",
      "    p_iter = np.asarray(fr.algorithm_results[level].shape_parameters)\n",
      "    \n",
      "    # recover optimal cost per iteration\n",
      "    cost_iter = fr.costs()\n",
      "\n",
      "    # draw optimization path\n",
      "    start = p_iter[0][p_indices]\n",
      "    for j, p in enumerate(p_iter[1:]):\n",
      "        p = p[p_indices]\n",
      "        # draw optimization step\n",
      "        ax.plot3D([start[0], p[0]], \n",
      "                  [start[1], p[1]], \n",
      "                  [zlim_min, zlim_min], \n",
      "                  'kx-', markersize=10)\n",
      "        ax.plot3D([start[0], p[0]], \n",
      "                  [start[1], p[1]], \n",
      "                  [-cost_iter[j], -cost_iter[j+1]], \n",
      "                  'kx-', markersize=10)\n",
      "        start = p\n",
      "    \n",
      "    return fig"
     ],
     "language": "python",
     "metadata": {},
     "outputs": [],
     "prompt_number": 2
    },
    {
     "cell_type": "code",
     "collapsed": false,
     "input": [
      "def evaluate_cost_around_minima(fitter, img, gt_shape, p_indices, deltas, level=-1):\n",
      "    \n",
      "    # extract aam and algorithm\n",
      "    aam = fitter.dm\n",
      "    algorithm = fitter._algorithms[level]\n",
      "    \n",
      "    # set up warping function flag\n",
      "    if isinstance(fitter.dm, GlobalAAM):\n",
      "        is_global_warp = True\n",
      "    else:\n",
      "        is_global_warp = False\n",
      "        # extract patch shape\n",
      "        patch_shape = aam.patch_shape\n",
      "    \n",
      "    # set up cost funtion flag\n",
      "    if (isinstance(algorithm, Simultaneous) or \n",
      "        isinstance(algorithm, Alternating)):\n",
      "        is_ssd = True\n",
      "        # wire up cost funtion\n",
      "        compute_cost = ssd_cost\n",
      "    else:\n",
      "        is_ssd = False\n",
      "        if isinstance(algorithm, ProjectOut) :\n",
      "            # wire up cost funtion\n",
      "            compute_cost = projected_ssd_cost\n",
      "        else:\n",
      "            # wire up cost funtion\n",
      "            compute_cost = bayesian_ssd_cost\n",
      "        \n",
      "    # extract transform, appearance model and reference frame\n",
      "    transform = algorithm.transform\n",
      "    appearance_model = algorithm.appearance_model\n",
      "    reference_frame = appearance_model.mean()\n",
      "    \n",
      "    # apply features to image\n",
      "    images, _, gt_shapes = fitter._prepare_image(img, gt_shape, gt_shape)\n",
      "    img = images[level]\n",
      "    gt_shape = gt_shapes[level]\n",
      "    \n",
      "    # compute minima\n",
      "    transform.set_target(images[0].landmarks['gt_shape'].lms)\n",
      "    p_min = transform.as_vector().copy()\n",
      "    p_min = np.array([ -17.36616676,  -27.1311431,  -486.7136609,  -544.86126114,  -16.73542306])\n",
      "    \n",
      "    \n",
      "    # initialize cost matrix \n",
      "    n = len(deltas)\n",
      "    cost = np.zeros((n, n))\n",
      "    \n",
      "    # fill out cost matrix\n",
      "    i_p0 = 0\n",
      "    for delta_p0 in deltas:\n",
      "        i_p1 = 0\n",
      "        for delta_p1 in deltas:\n",
      "            \n",
      "            # perturb shape parameters\n",
      "            p = p_min.copy()\n",
      "            p[p_indices] += np.array([delta_p0, delta_p1])\n",
      "            transform.from_vector_inplace(p)\n",
      "            \n",
      "            # warp image\n",
      "            if is_global_warp:\n",
      "                #t = transform_cls(reference_frame.landmarks['source'].lms, shape)\n",
      "                warped_img = img.warp_to_mask(reference_frame.mask, transform)\n",
      "            else:\n",
      "                shape = transform.target\n",
      "                warped_img = Image(img.extract_patches(shape, patch_shape, as_single_array=True))\n",
      "              \n",
      "            # compute cost   \n",
      "            if is_ssd:\n",
      "                # reconstruct image\n",
      "                rec_img = appearance_model.reconstruct(warped_img)\n",
      "                # compute cost\n",
      "                cost[i_p0, i_p1] = compute_cost(warped_img, rec_img)\n",
      "            else:\n",
      "                # compute cost\n",
      "                cost[i_p0, i_p1] = compute_cost(warped_img, appearance_model.mean(), appearance_model)\n",
      "            \n",
      "            # increment p1 index\n",
      "            i_p1 += 1\n",
      "        # increment p0 index\n",
      "        i_p0 +=1\n",
      "        \n",
      "    return cost, p_min"
     ],
     "language": "python",
     "metadata": {},
     "outputs": [],
     "prompt_number": 3
    },
    {
     "cell_type": "markdown",
     "metadata": {},
     "source": [
      "Load test images:"
     ]
    },
    {
     "cell_type": "code",
     "collapsed": false,
     "input": [
      "import menpo.io as mio\n",
      "from menpo.landmark import labeller\n",
      "\n",
      "test_images = []\n",
      "for i in mio.import_images('/Users/joan/PhD/DataBases/faces/afw',\n",
      "                           max_images=10, verbose=True):\n",
      "    \n",
      "    i.crop_to_landmarks_proportion_inplace(0.5)\n",
      "    i = i.rescale_landmarks_to_diagonal_range(200)\n",
      "    \n",
      "    if i.n_channels == 3:\n",
      "        i = i.as_greyscale(mode='luminosity')\n",
      "    \n",
      "    test_images.append(i)"
     ],
     "language": "python",
     "metadata": {},
     "outputs": [
      {
       "output_type": "stream",
       "stream": "stdout",
       "text": [
        "\r",
        "- Loading 10 assets: [==                  ] 10%"
       ]
      },
      {
       "output_type": "stream",
       "stream": "stdout",
       "text": [
        "\r",
        "- Loading 10 assets: [====                ] 20%"
       ]
      },
      {
       "output_type": "stream",
       "stream": "stdout",
       "text": [
        "\r",
        "- Loading 10 assets: [======              ] 30%"
       ]
      },
      {
       "output_type": "stream",
       "stream": "stdout",
       "text": [
        "\r",
        "- Loading 10 assets: [========            ] 40%"
       ]
      },
      {
       "output_type": "stream",
       "stream": "stdout",
       "text": [
        "\r",
        "- Loading 10 assets: [==========          ] 50%"
       ]
      },
      {
       "output_type": "stream",
       "stream": "stdout",
       "text": [
        "\r",
        "- Loading 10 assets: [============        ] 60%"
       ]
      },
      {
       "output_type": "stream",
       "stream": "stdout",
       "text": [
        "\r",
        "- Loading 10 assets: [==============      ] 70%"
       ]
      },
      {
       "output_type": "stream",
       "stream": "stdout",
       "text": [
        "\r",
        "- Loading 10 assets: [================    ] 80%"
       ]
      },
      {
       "output_type": "stream",
       "stream": "stdout",
       "text": [
        "\r",
        "- Loading 10 assets: [==================  ] 90%"
       ]
      },
      {
       "output_type": "stream",
       "stream": "stdout",
       "text": [
        "\r",
        "- Loading 10 assets: [====================] 100%"
       ]
      }
     ],
     "prompt_number": 4
    },
    {
     "cell_type": "code",
     "collapsed": false,
     "input": [
      "from alabortijcv2015.utils import pickle_load\n",
      "\n",
      "gaam_int = pickle_load('/Users/joan/PhD/Models/gaam_int.menpo')"
     ],
     "language": "python",
     "metadata": {},
     "outputs": [],
     "prompt_number": 5
    },
    {
     "cell_type": "code",
     "collapsed": false,
     "input": [
      "from alabortijcv2015.aam import StandardAAMFitter\n",
      "from alabortijcv2015.aam.algorithm import AIC, SIC, BIC\n",
      "\n",
      "gfitter_int = StandardAAMFitter(gaam_int, algorithm_cls=SIC, n_shape=[10], n_appearance=500)"
     ],
     "language": "python",
     "metadata": {},
     "outputs": [],
     "prompt_number": 6
    },
    {
     "cell_type": "code",
     "collapsed": false,
     "input": [
      "img = test_images[1]\n",
      "gt_shape = img.landmarks['PTS'].lms.copy()"
     ],
     "language": "python",
     "metadata": {},
     "outputs": [],
     "prompt_number": 7
    },
    {
     "cell_type": "code",
     "collapsed": false,
     "input": [
      "level = 0\n",
      "p_indices = [0, 1]\n",
      "\n",
      "s = img.landmarks['PTS'].lms.copy()\n",
      "gfitter_int._algorithms[level].transform.set_target(s)\n",
      "p_min = gfitter_int._algorithms[level].transform.as_vector()\n",
      "\n",
      "p_ini = p_min.copy()\n",
      "p_ini[p_indices] += np.array([50, 0])\n",
      "\n",
      "s = gfitter_int._algorithms[level].transform.from_vector(p_ini).target\n",
      "\n",
      "fr = gfitter_int.fit(img, s, gt_shape=gt_shape, max_iters=100, fixed_p=range(2))\n",
      "fr.downscale = 0"
     ],
     "language": "python",
     "metadata": {},
     "outputs": [
      {
       "output_type": "stream",
       "stream": "stdout",
       "text": [
        "r:  0.540653767679\n",
        "r2: 0.540653767679\n",
        "r:  0.541561633483\n",
        "r2: 0.525632723636\n",
        "r:  0.528984700601\n",
        "r2: 0.512696208648\n",
        "r:  0.516790531228\n",
        "r2: 0.501470846593\n",
        "r:  0.506925467878\n",
        "r2: 0.492170862901\n",
        "r:  0.499147137161\n",
        "r2: 0.484437320767\n",
        "r: "
       ]
      },
      {
       "output_type": "stream",
       "stream": "stdout",
       "text": [
        " 0.485384996856\n",
        "r2: 0.470562225236\n",
        "r:  0.4652210711\n",
        "r2: 0.450649732923\n",
        "r:  0.444963237014\n",
        "r2: 0.431114053623\n",
        "r:  0.428171687186\n",
        "r2: 0.416528508616\n",
        "r:  0.415540067018\n",
        "r2: 0.406589420869\n",
        "r:  0.404242392474\n",
        "r2: 0.397308058441\n",
        "r:  0.392217693845\n",
        "r2: 0.386998320883\n",
        "r: "
       ]
      },
      {
       "output_type": "stream",
       "stream": "stdout",
       "text": [
        " 0.381010018741\n",
        "r2: 0.377294848379\n",
        "r:  0.371734957046\n",
        "r2: 0.369116894856\n",
        "r:  0.364182871749\n",
        "r2: 0.36222760604\n",
        "r:  0.357560184364\n",
        "r2: 0.355971642785\n",
        "r:  0.351968193921\n",
        "r2: 0.350579667121\n",
        "r:  0.347090747291\n",
        "r2: 0.345770052966\n",
        "r: "
       ]
      },
      {
       "output_type": "stream",
       "stream": "stdout",
       "text": [
        " 0.34135527171\n",
        "r2: 0.340055649415\n",
        "r:  0.335646862817\n",
        "r2: 0.334449717945\n",
        "r:  0.329479292719\n",
        "r2: 0.328337255085\n",
        "r:  0.323297156462\n",
        "r2: 0.322168468798\n",
        "r:  0.315671711611\n",
        "r2: 0.314537468331\n",
        "r:  0.307791704465\n",
        "r2: 0.306616272709\n",
        "r: "
       ]
      },
      {
       "output_type": "stream",
       "stream": "stdout",
       "text": [
        " 0.299955758218\n",
        "r2: 0.298748913377\n",
        "r:  0.292091003234\n",
        "r2: 0.290783109336\n",
        "r:  0.284547114571\n",
        "r2: 0.283059576873\n",
        "r:  0.277339327957\n",
        "r2: 0.275541593026\n",
        "r:  0.270456913788\n",
        "r2: 0.268288797305\n",
        "r:  0.262286975062\n",
        "r2: 0.259699490359\n",
        "r: "
       ]
      },
      {
       "output_type": "stream",
       "stream": "stdout",
       "text": [
        " 0.254660310085\n",
        "r2: 0.251894420694\n",
        "r:  0.245880686848\n",
        "r2: 0.242906984093\n",
        "r:  0.237645687531\n",
        "r2: 0.234812375042\n",
        "r:  0.231023242023\n",
        "r2: 0.228699781551\n",
        "r:  0.227494044274\n",
        "r2: 0.225937909447\n",
        "r:  0.224837288788\n",
        "r2: 0.223900141294\n",
        "r: "
       ]
      },
      {
       "output_type": "stream",
       "stream": "stdout",
       "text": [
        " 0.223303951333\n",
        "r2: 0.22275019617\n",
        "r:  0.222277953368\n",
        "r2: 0.221970300232\n",
        "r:  0.221805387932\n",
        "r2: 0.221632276128\n",
        "r:  0.221708781601\n",
        "r2: 0.221612404736\n",
        "r:  0.221668367717\n",
        "r2: 0.221611276291\n",
        "r:  0.221679246696\n",
        "r2: 0.221643772728\n",
        "r:  0.221641546435\n",
        "r2: 0.221617624578\n",
        "r: "
       ]
      },
      {
       "output_type": "stream",
       "stream": "stdout",
       "text": [
        " 0.221637084154\n",
        "r2: 0.22161972683\n",
        "r:  0.221646609223\n",
        "r2: 0.221633986072\n",
        "r:  0.221658965658\n",
        "r2: 0.221650025712\n",
        "r:  0.221673395533\n",
        "r2: 0.221667188522\n",
        "r:  0.221692461512\n",
        "r2: 0.221688252421\n",
        "r:  0.22171091239\n",
        "r2: 0.221708112579\n",
        "r:  0.221730073501\n",
        "r2: 0.221728247372\n",
        "r: "
       ]
      },
      {
       "output_type": "stream",
       "stream": "stdout",
       "text": [
        " 0.221747399743\n",
        "r2: 0.221746218196\n",
        "r:  0.221761593395\n",
        "r2: 0.221760833807\n",
        "r:  0.221772227379\n",
        "r2: 0.221771742245\n",
        "r:  0.221780874299\n",
        "r2: 0.22178056858\n",
        "r:  0.22178805341\n",
        "r2: 0.221787861284\n",
        "r:  0.221794006334\n",
        "r2: 0.221793886074\n",
        "r:  0.221798990442\n",
        "r2: 0.22179891548\n",
        "r: "
       ]
      },
      {
       "output_type": "stream",
       "stream": "stdout",
       "text": [
        " 0.221803102172\n",
        "r2: 0.221803055635\n",
        "r:  0.221806417061\n",
        "r2: 0.221806388293\n",
        "r:  0.2218089721\n",
        "r2: 0.221808954368\n",
        "r:  0.221811029944\n",
        "r2: 0.221811019024\n",
        "r:  0.221812679718\n",
        "r2: 0.221812673017\n",
        "r:  0.22181400298\n",
        "r2: 0.221813998883\n",
        "r:  0.221815055406\n",
        "r2: 0.221815052915\n",
        "r: "
       ]
      },
      {
       "output_type": "stream",
       "stream": "stdout",
       "text": [
        " 0.221815884391\n",
        "r2: 0.221815882886\n",
        "r:  0.221816536432\n",
        "r2: 0.221816535526\n",
        "r:  0.221817048018\n",
        "r2: 0.221817047473\n",
        "r:  0.22181744848\n",
        "r2: 0.221817448154\n",
        "r:  0.221817761288\n",
        "r2: 0.221817761093\n",
        "r:  0.221818005141\n",
        "r2: 0.221818005025\n",
        "r:  0.221818194883\n",
        "r2: 0.221818194814\n",
        "r: "
       ]
      },
      {
       "output_type": "stream",
       "stream": "stdout",
       "text": [
        " 0.221818342258\n",
        "r2: 0.221818342217\n",
        "r:  0.22181845653\n",
        "r2: 0.221818456506\n",
        "r:  0.221818544989\n",
        "r2: 0.221818544975\n",
        "r:  0.221818613358\n",
        "r2: 0.22181861335\n",
        "r:  0.221818666118\n",
        "r2: 0.221818666113\n",
        "r:  0.22181870677\n",
        "r2: 0.221818706767\n",
        "r: "
       ]
      },
      {
       "output_type": "stream",
       "stream": "stdout",
       "text": [
        " 0.221818738047\n",
        "r2: 0.221818738045\n",
        "r:  0.221818762075\n",
        "r2: 0.221818762075\n",
        "r:  0.221818780509\n",
        "r2: 0.221818780508\n",
        "r:  0.221818794629\n",
        "r2: 0.221818794629\n",
        "r:  0.22181880543\n",
        "r2: 0.22181880543\n",
        "r:  0.221818813681\n",
        "r2: 0.22181881368\n",
        "r:  0.221818819973\n",
        "r2: 0.221818819973\n",
        "r:  0.221818824766\n",
        "r2: 0.221818824766\n",
        "r: "
       ]
      },
      {
       "output_type": "stream",
       "stream": "stdout",
       "text": [
        " 0.221818828411\n",
        "r2: 0.221818828411\n",
        "r:  0.221818831179\n",
        "r2: 0.221818831179\n",
        "r:  0.221818833278\n",
        "r2: 0.221818833278\n",
        "r:  0.221818834867\n",
        "r2: 0.221818834867\n",
        "r:  0.221818836068\n",
        "r2: 0.221818836068\n",
        "r:  0.221818836975\n",
        "r2: 0.221818836975\n",
        "r:  0.221818837658\n",
        "r2: 0.221818837658\n",
        "r:  0.221818838171\n",
        "r2: 0.221818838171\n",
        "r: "
       ]
      },
      {
       "output_type": "stream",
       "stream": "stdout",
       "text": [
        " 0.221818838557\n",
        "r2: 0.221818838557\n",
        "r:  0.221818838846\n",
        "r2: 0.221818838846\n",
        "r:  0.221818839062\n",
        "r2: 0.221818839062\n",
        "r:  0.221818839224\n",
        "r2: 0.221818839224\n",
        "r:  0.221818839344\n",
        "r2: 0.221818839344\n",
        "r:  0.221818839433\n",
        "r2: 0.221818839433\n",
        "r:  0.2218188395\n",
        "r2: 0.2218188395\n"
       ]
      }
     ],
     "prompt_number": 8
    },
    {
     "cell_type": "code",
     "collapsed": false,
     "input": [
      "#print p_ini[p_indices]\n",
      "print fr.algorithm_results[level].shape_parameters[0][p_indices]\n",
      "print p_min[p_indices]\n",
      "print fr.algorithm_results[level].shape_parameters[-1][p_indices]\n",
      "\n",
      "print fr.algorithm_results[level].shape_parameters[-1][2:] == fr.algorithm_results[level].shape_parameters[0][2:]"
     ],
     "language": "python",
     "metadata": {},
     "outputs": [
      {
       "output_type": "stream",
       "stream": "stdout",
       "text": [
        "[  4.15638365 -27.03432945]\n",
        "[ 227.56811423  -60.81351316]\n",
        "[-16.213343   -28.36908157]\n",
        "[ True  True  True  True  True  True  True  True  True  True  True  True]\n"
       ]
      }
     ],
     "prompt_number": 9
    },
    {
     "cell_type": "code",
     "collapsed": false,
     "input": [
      "fr.algorithm_results[level].shape_parameters[-1]"
     ],
     "language": "python",
     "metadata": {},
     "outputs": [
      {
       "metadata": {},
       "output_type": "pyout",
       "prompt_number": 10,
       "text": [
        "array([ -16.213343  ,  -28.36908157, -484.97649152, -542.91705288,\n",
        "        -16.73534058,   -7.11020401,   13.78585051,   -4.65560374,\n",
        "          3.1423847 ,    6.72596863,   -1.36068771,   -1.90238785,\n",
        "         -2.30540032,    1.43503238])"
       ]
      }
     ],
     "prompt_number": 10
    },
    {
     "cell_type": "code",
     "collapsed": false,
     "input": [
      "# extract transform, appearance model and reference frame\n",
      "transform = gfitter_int._algorithms[0].transform\n",
      "appearance_model = gfitter_int._algorithms[0].appearance_model\n",
      "reference_frame = appearance_model.mean()\n",
      "\n",
      "# apply features to image\n",
      "images_, s_, gt_shapes_ = gfitter_int._prepare_image(img, s, gt_shape)\n",
      "img_ = images_[level]\n",
      "s_ = s_[level]\n",
      "gt_shape_ = gt_shapes_[level]\n",
      "\n",
      "# perturb shape parameters\n",
      "transform.set_target(gt_shape_)\n",
      "p_min = transform.as_vector().copy()\n",
      "print transform.as_vector()\n",
      "print p_min\n",
      "p = fr.algorithm_results[level].shape_parameters[0]\n",
      "transform.from_vector_inplace(p)\n",
      "\n",
      "warped_img = img_.warp_to_mask(reference_frame.mask, transform)\n",
      "\n",
      "\n",
      "# reconstruct image\n",
      "rec_img = appearance_model.reconstruct(warped_img)\n",
      "# compute cost\n",
      "print ssd_cost(warped_img, rec_img)\n"
     ],
     "language": "python",
     "metadata": {},
     "outputs": [
      {
       "output_type": "stream",
       "stream": "stdout",
       "text": [
        "[ -18.07023489  -27.03432251 -484.97649152 -542.91705288  -16.73543504\n",
        "   -7.11027149   13.78585138   -4.65575221    3.14247875    6.72612206\n",
        "   -1.36087389   -1.90255292   -2.30580033    1.43507435]\n",
        "[ -18.07023489  -27.03432251 -484.97649152 -542.91705288  -16.73543504\n",
        "   -7.11027149   13.78585138   -4.65575221    3.14247875    6.72612206\n",
        "   -1.36087389   -1.90255292   -2.30580033    1.43507435]\n",
        "0.540653767679\n"
       ]
      }
     ],
     "prompt_number": 11
    },
    {
     "cell_type": "code",
     "collapsed": false,
     "input": [
      "warped_img.view()"
     ],
     "language": "python",
     "metadata": {},
     "outputs": [
      {
       "metadata": {},
       "output_type": "pyout",
       "prompt_number": 12,
       "text": [
        "<menpo.visualize.viewmatplotlib.MatplotlibImageViewer2d at 0x1129aaa90>"
       ]
      }
     ],
     "prompt_number": 12
    },
    {
     "cell_type": "code",
     "collapsed": false,
     "input": [
      "from menpofit.visualize import visualize_fitting_results\n",
      "\n",
      "%matplotlib inline\n",
      "visualize_fitting_results([fr])"
     ],
     "language": "python",
     "metadata": {},
     "outputs": [
      {
       "metadata": {},
       "output_type": "display_data",
       "png": "[encoded data removed]",
       "text": [
        "<matplotlib.figure.Figure at 0x115022110>"
       ]
      }
     ],
     "prompt_number": 13
    },
    {
     "cell_type": "code",
     "collapsed": false,
     "input": [
      "transform.n_parameters"
     ],
     "language": "python",
     "metadata": {},
     "outputs": [
      {
       "metadata": {},
       "output_type": "pyout",
       "prompt_number": 14,
       "text": [
        "14"
       ]
      }
     ],
     "prompt_number": 14
    },
    {
     "cell_type": "code",
     "collapsed": false,
     "input": [
      "transform.transform"
     ],
     "language": "python",
     "metadata": {},
     "outputs": [
      {
       "metadata": {},
       "output_type": "pyout",
       "prompt_number": 15,
       "text": [
        "<menpofit.transform.piecewiseaffine.DifferentiablePiecewiseAffine at 0x109338e10>"
       ]
      }
     ],
     "prompt_number": 15
    },
    {
     "cell_type": "code",
     "collapsed": false,
     "input": [
      "%matplotlib inline\n",
      "\n",
      "p_indices = [0, 1] \n",
      "deltas = np.arange(-50, 60, 1)\n",
      "\n",
      "cost, p_min = evaluate_cost_around_minima(gfitter_int, img, gt_shape, p_indices , deltas)"
     ],
     "language": "python",
     "metadata": {},
     "outputs": [
      {
       "output_type": "stream",
       "stream": "stderr",
       "text": [
        "/Users/joan/anaconda/envs/menpo/lib/python2.7/site-packages/mpl_toolkits/mplot3d/axes3d.py:1094: FutureWarning: comparison to `None` will result in an elementwise object comparison in the future.\n",
        "  if self.button_pressed in self._rotate_btn:\n"
       ]
      }
     ],
     "prompt_number": 21
    },
    {
     "cell_type": "code",
     "collapsed": false,
     "input": [
      "%matplotlib qt\n",
      "fig = plot_cost_function2(cost, deltas, p_min, p_indices)\n",
      "fig.show()"
     ],
     "language": "python",
     "metadata": {},
     "outputs": [
      {
       "output_type": "stream",
       "stream": "stdout",
       "text": [
        "[ 55.  55.]\n"
       ]
      },
      {
       "ename": "ValueError",
       "evalue": "setting an array element with a sequence.",
       "output_type": "pyerr",
       "traceback": [
        "\u001b[0;31m---------------------------------------------------------------------------\u001b[0m\n\u001b[0;31mValueError\u001b[0m                                Traceback (most recent call last)",
        "\u001b[0;32m<ipython-input-23-c60dd1026469>\u001b[0m in \u001b[0;36m<module>\u001b[0;34m()\u001b[0m\n\u001b[1;32m      1\u001b[0m \u001b[0mget_ipython\u001b[0m\u001b[0;34m(\u001b[0m\u001b[0;34m)\u001b[0m\u001b[0;34m.\u001b[0m\u001b[0mmagic\u001b[0m\u001b[0;34m(\u001b[0m\u001b[0;34mu'matplotlib qt'\u001b[0m\u001b[0;34m)\u001b[0m\u001b[0;34m\u001b[0m\u001b[0m\n\u001b[0;32m----> 2\u001b[0;31m \u001b[0mfig\u001b[0m \u001b[0;34m=\u001b[0m \u001b[0mplot_cost_function2\u001b[0m\u001b[0;34m(\u001b[0m\u001b[0mcost\u001b[0m\u001b[0;34m,\u001b[0m \u001b[0mdeltas\u001b[0m\u001b[0;34m,\u001b[0m \u001b[0mp_min\u001b[0m\u001b[0;34m,\u001b[0m \u001b[0mp_indices\u001b[0m\u001b[0;34m)\u001b[0m\u001b[0;34m\u001b[0m\u001b[0m\n\u001b[0m\u001b[1;32m      3\u001b[0m \u001b[0mfig\u001b[0m\u001b[0;34m.\u001b[0m\u001b[0mshow\u001b[0m\u001b[0;34m(\u001b[0m\u001b[0;34m)\u001b[0m\u001b[0;34m\u001b[0m\u001b[0m\n",
        "\u001b[0;32m<ipython-input-18-6709ca798215>\u001b[0m in \u001b[0;36mplot_cost_function2\u001b[0;34m(cost, deltas, p_min, margin, x_contour, y_contour)\u001b[0m\n\u001b[1;32m     41\u001b[0m               \u001b[0;34m[\u001b[0m\u001b[0;36m0\u001b[0m\u001b[0;34m,\u001b[0m \u001b[0;36m0\u001b[0m\u001b[0;34m]\u001b[0m\u001b[0;34m,\u001b[0m\u001b[0;34m\u001b[0m\u001b[0m\n\u001b[1;32m     42\u001b[0m               \u001b[0;34m[\u001b[0m\u001b[0mzlim_min\u001b[0m\u001b[0;34m,\u001b[0m \u001b[0mcost\u001b[0m\u001b[0;34m[\u001b[0m\u001b[0mcenter\u001b[0m\u001b[0;34m[\u001b[0m\u001b[0;36m0\u001b[0m\u001b[0;34m]\u001b[0m\u001b[0;34m,\u001b[0m \u001b[0mcenter\u001b[0m\u001b[0;34m[\u001b[0m\u001b[0;36m1\u001b[0m\u001b[0;34m]\u001b[0m\u001b[0;34m]\u001b[0m\u001b[0;34m]\u001b[0m\u001b[0;34m,\u001b[0m\u001b[0;34m\u001b[0m\u001b[0m\n\u001b[0;32m---> 43\u001b[0;31m               'bo--')\n\u001b[0m\u001b[1;32m     44\u001b[0m \u001b[0;34m\u001b[0m\u001b[0m\n\u001b[1;32m     45\u001b[0m     \u001b[0;31m# plot cost funtion minima\u001b[0m\u001b[0;34m\u001b[0m\u001b[0;34m\u001b[0m\u001b[0m\n",
        "\u001b[0;32m/Users/joan/anaconda/envs/menpo/lib/python2.7/site-packages/mpl_toolkits/mplot3d/axes3d.pyc\u001b[0m in \u001b[0;36mplot\u001b[0;34m(self, xs, ys, *args, **kwargs)\u001b[0m\n\u001b[1;32m   1517\u001b[0m             \u001b[0mzs\u001b[0m \u001b[0;34m=\u001b[0m \u001b[0mnp\u001b[0m\u001b[0;34m.\u001b[0m\u001b[0mones\u001b[0m\u001b[0;34m(\u001b[0m\u001b[0mlen\u001b[0m\u001b[0;34m(\u001b[0m\u001b[0mxs\u001b[0m\u001b[0;34m)\u001b[0m\u001b[0;34m)\u001b[0m \u001b[0;34m*\u001b[0m \u001b[0mzs\u001b[0m\u001b[0;34m\u001b[0m\u001b[0m\n\u001b[1;32m   1518\u001b[0m \u001b[0;34m\u001b[0m\u001b[0m\n\u001b[0;32m-> 1519\u001b[0;31m         \u001b[0mlines\u001b[0m \u001b[0;34m=\u001b[0m \u001b[0mAxes\u001b[0m\u001b[0;34m.\u001b[0m\u001b[0mplot\u001b[0m\u001b[0;34m(\u001b[0m\u001b[0mself\u001b[0m\u001b[0;34m,\u001b[0m \u001b[0mxs\u001b[0m\u001b[0;34m,\u001b[0m \u001b[0mys\u001b[0m\u001b[0;34m,\u001b[0m \u001b[0;34m*\u001b[0m\u001b[0margs\u001b[0m\u001b[0;34m[\u001b[0m\u001b[0margsi\u001b[0m\u001b[0;34m:\u001b[0m\u001b[0;34m]\u001b[0m\u001b[0;34m,\u001b[0m \u001b[0;34m**\u001b[0m\u001b[0mkwargs\u001b[0m\u001b[0;34m)\u001b[0m\u001b[0;34m\u001b[0m\u001b[0m\n\u001b[0m\u001b[1;32m   1520\u001b[0m         \u001b[0;32mfor\u001b[0m \u001b[0mline\u001b[0m \u001b[0;32min\u001b[0m \u001b[0mlines\u001b[0m\u001b[0;34m:\u001b[0m\u001b[0;34m\u001b[0m\u001b[0m\n\u001b[1;32m   1521\u001b[0m             \u001b[0mart3d\u001b[0m\u001b[0;34m.\u001b[0m\u001b[0mline_2d_to_3d\u001b[0m\u001b[0;34m(\u001b[0m\u001b[0mline\u001b[0m\u001b[0;34m,\u001b[0m \u001b[0mzs\u001b[0m\u001b[0;34m=\u001b[0m\u001b[0mzs\u001b[0m\u001b[0;34m,\u001b[0m \u001b[0mzdir\u001b[0m\u001b[0;34m=\u001b[0m\u001b[0mzdir\u001b[0m\u001b[0;34m)\u001b[0m\u001b[0;34m\u001b[0m\u001b[0m\n",
        "\u001b[0;32m/Users/joan/anaconda/envs/menpo/lib/python2.7/site-packages/matplotlib/axes/_axes.pyc\u001b[0m in \u001b[0;36mplot\u001b[0;34m(self, *args, **kwargs)\u001b[0m\n\u001b[1;32m   1373\u001b[0m \u001b[0;34m\u001b[0m\u001b[0m\n\u001b[1;32m   1374\u001b[0m         \u001b[0;32mfor\u001b[0m \u001b[0mline\u001b[0m \u001b[0;32min\u001b[0m \u001b[0mself\u001b[0m\u001b[0;34m.\u001b[0m\u001b[0m_get_lines\u001b[0m\u001b[0;34m(\u001b[0m\u001b[0;34m*\u001b[0m\u001b[0margs\u001b[0m\u001b[0;34m,\u001b[0m \u001b[0;34m**\u001b[0m\u001b[0mkwargs\u001b[0m\u001b[0;34m)\u001b[0m\u001b[0;34m:\u001b[0m\u001b[0;34m\u001b[0m\u001b[0m\n\u001b[0;32m-> 1375\u001b[0;31m             \u001b[0mself\u001b[0m\u001b[0;34m.\u001b[0m\u001b[0madd_line\u001b[0m\u001b[0;34m(\u001b[0m\u001b[0mline\u001b[0m\u001b[0;34m)\u001b[0m\u001b[0;34m\u001b[0m\u001b[0m\n\u001b[0m\u001b[1;32m   1376\u001b[0m             \u001b[0mlines\u001b[0m\u001b[0;34m.\u001b[0m\u001b[0mappend\u001b[0m\u001b[0;34m(\u001b[0m\u001b[0mline\u001b[0m\u001b[0;34m)\u001b[0m\u001b[0;34m\u001b[0m\u001b[0m\n\u001b[1;32m   1377\u001b[0m \u001b[0;34m\u001b[0m\u001b[0m\n",
        "\u001b[0;32m/Users/joan/anaconda/envs/menpo/lib/python2.7/site-packages/matplotlib/axes/_base.pyc\u001b[0m in \u001b[0;36madd_line\u001b[0;34m(self, line)\u001b[0m\n\u001b[1;32m   1484\u001b[0m             \u001b[0mline\u001b[0m\u001b[0;34m.\u001b[0m\u001b[0mset_clip_path\u001b[0m\u001b[0;34m(\u001b[0m\u001b[0mself\u001b[0m\u001b[0;34m.\u001b[0m\u001b[0mpatch\u001b[0m\u001b[0;34m)\u001b[0m\u001b[0;34m\u001b[0m\u001b[0m\n\u001b[1;32m   1485\u001b[0m \u001b[0;34m\u001b[0m\u001b[0m\n\u001b[0;32m-> 1486\u001b[0;31m         \u001b[0mself\u001b[0m\u001b[0;34m.\u001b[0m\u001b[0m_update_line_limits\u001b[0m\u001b[0;34m(\u001b[0m\u001b[0mline\u001b[0m\u001b[0;34m)\u001b[0m\u001b[0;34m\u001b[0m\u001b[0m\n\u001b[0m\u001b[1;32m   1487\u001b[0m         \u001b[0;32mif\u001b[0m \u001b[0;32mnot\u001b[0m \u001b[0mline\u001b[0m\u001b[0;34m.\u001b[0m\u001b[0mget_label\u001b[0m\u001b[0;34m(\u001b[0m\u001b[0;34m)\u001b[0m\u001b[0;34m:\u001b[0m\u001b[0;34m\u001b[0m\u001b[0m\n\u001b[1;32m   1488\u001b[0m             \u001b[0mline\u001b[0m\u001b[0;34m.\u001b[0m\u001b[0mset_label\u001b[0m\u001b[0;34m(\u001b[0m\u001b[0;34m'_line%d'\u001b[0m \u001b[0;34m%\u001b[0m \u001b[0mlen\u001b[0m\u001b[0;34m(\u001b[0m\u001b[0mself\u001b[0m\u001b[0;34m.\u001b[0m\u001b[0mlines\u001b[0m\u001b[0;34m)\u001b[0m\u001b[0;34m)\u001b[0m\u001b[0;34m\u001b[0m\u001b[0m\n",
        "\u001b[0;32m/Users/joan/anaconda/envs/menpo/lib/python2.7/site-packages/matplotlib/axes/_base.pyc\u001b[0m in \u001b[0;36m_update_line_limits\u001b[0;34m(self, line)\u001b[0m\n\u001b[1;32m   1495\u001b[0m         \u001b[0mFigures\u001b[0m \u001b[0mout\u001b[0m \u001b[0mthe\u001b[0m \u001b[0mdata\u001b[0m \u001b[0mlimit\u001b[0m \u001b[0mof\u001b[0m \u001b[0mthe\u001b[0m \u001b[0mgiven\u001b[0m \u001b[0mline\u001b[0m\u001b[0;34m,\u001b[0m \u001b[0mupdating\u001b[0m \u001b[0mself\u001b[0m\u001b[0;34m.\u001b[0m\u001b[0mdataLim\u001b[0m\u001b[0;34m.\u001b[0m\u001b[0;34m\u001b[0m\u001b[0m\n\u001b[1;32m   1496\u001b[0m         \"\"\"\n\u001b[0;32m-> 1497\u001b[0;31m         \u001b[0mpath\u001b[0m \u001b[0;34m=\u001b[0m \u001b[0mline\u001b[0m\u001b[0;34m.\u001b[0m\u001b[0mget_path\u001b[0m\u001b[0;34m(\u001b[0m\u001b[0;34m)\u001b[0m\u001b[0;34m\u001b[0m\u001b[0m\n\u001b[0m\u001b[1;32m   1498\u001b[0m         \u001b[0;32mif\u001b[0m \u001b[0mpath\u001b[0m\u001b[0;34m.\u001b[0m\u001b[0mvertices\u001b[0m\u001b[0;34m.\u001b[0m\u001b[0msize\u001b[0m \u001b[0;34m==\u001b[0m \u001b[0;36m0\u001b[0m\u001b[0;34m:\u001b[0m\u001b[0;34m\u001b[0m\u001b[0m\n\u001b[1;32m   1499\u001b[0m             \u001b[0;32mreturn\u001b[0m\u001b[0;34m\u001b[0m\u001b[0m\n",
        "\u001b[0;32m/Users/joan/anaconda/envs/menpo/lib/python2.7/site-packages/matplotlib/lines.pyc\u001b[0m in \u001b[0;36mget_path\u001b[0;34m(self)\u001b[0m\n\u001b[1;32m    869\u001b[0m         \"\"\"\n\u001b[1;32m    870\u001b[0m         \u001b[0;32mif\u001b[0m \u001b[0mself\u001b[0m\u001b[0;34m.\u001b[0m\u001b[0m_invalidy\u001b[0m \u001b[0;32mor\u001b[0m \u001b[0mself\u001b[0m\u001b[0;34m.\u001b[0m\u001b[0m_invalidx\u001b[0m\u001b[0;34m:\u001b[0m\u001b[0;34m\u001b[0m\u001b[0m\n\u001b[0;32m--> 871\u001b[0;31m             \u001b[0mself\u001b[0m\u001b[0;34m.\u001b[0m\u001b[0mrecache\u001b[0m\u001b[0;34m(\u001b[0m\u001b[0;34m)\u001b[0m\u001b[0;34m\u001b[0m\u001b[0m\n\u001b[0m\u001b[1;32m    872\u001b[0m         \u001b[0;32mreturn\u001b[0m \u001b[0mself\u001b[0m\u001b[0;34m.\u001b[0m\u001b[0m_path\u001b[0m\u001b[0;34m\u001b[0m\u001b[0m\n\u001b[1;32m    873\u001b[0m \u001b[0;34m\u001b[0m\u001b[0m\n",
        "\u001b[0;32m/Users/joan/anaconda/envs/menpo/lib/python2.7/site-packages/matplotlib/lines.pyc\u001b[0m in \u001b[0;36mrecache\u001b[0;34m(self, always)\u001b[0m\n\u001b[1;32m    579\u001b[0m                 \u001b[0my\u001b[0m \u001b[0;34m=\u001b[0m \u001b[0mma\u001b[0m\u001b[0;34m.\u001b[0m\u001b[0masarray\u001b[0m\u001b[0;34m(\u001b[0m\u001b[0myconv\u001b[0m\u001b[0;34m,\u001b[0m \u001b[0mnp\u001b[0m\u001b[0;34m.\u001b[0m\u001b[0mfloat_\u001b[0m\u001b[0;34m)\u001b[0m\u001b[0;34m\u001b[0m\u001b[0m\n\u001b[1;32m    580\u001b[0m             \u001b[0;32melse\u001b[0m\u001b[0;34m:\u001b[0m\u001b[0;34m\u001b[0m\u001b[0m\n\u001b[0;32m--> 581\u001b[0;31m                 \u001b[0my\u001b[0m \u001b[0;34m=\u001b[0m \u001b[0mnp\u001b[0m\u001b[0;34m.\u001b[0m\u001b[0masarray\u001b[0m\u001b[0;34m(\u001b[0m\u001b[0myconv\u001b[0m\u001b[0;34m,\u001b[0m \u001b[0mnp\u001b[0m\u001b[0;34m.\u001b[0m\u001b[0mfloat_\u001b[0m\u001b[0;34m)\u001b[0m\u001b[0;34m\u001b[0m\u001b[0m\n\u001b[0m\u001b[1;32m    582\u001b[0m             \u001b[0my\u001b[0m \u001b[0;34m=\u001b[0m \u001b[0my\u001b[0m\u001b[0;34m.\u001b[0m\u001b[0mravel\u001b[0m\u001b[0;34m(\u001b[0m\u001b[0;34m)\u001b[0m\u001b[0;34m\u001b[0m\u001b[0m\n\u001b[1;32m    583\u001b[0m         \u001b[0;32melse\u001b[0m\u001b[0;34m:\u001b[0m\u001b[0;34m\u001b[0m\u001b[0m\n",
        "\u001b[0;32m/Users/joan/anaconda/envs/menpo/lib/python2.7/site-packages/numpy/core/numeric.pyc\u001b[0m in \u001b[0;36masarray\u001b[0;34m(a, dtype, order)\u001b[0m\n\u001b[1;32m    460\u001b[0m \u001b[0;34m\u001b[0m\u001b[0m\n\u001b[1;32m    461\u001b[0m     \"\"\"\n\u001b[0;32m--> 462\u001b[0;31m     \u001b[0;32mreturn\u001b[0m \u001b[0marray\u001b[0m\u001b[0;34m(\u001b[0m\u001b[0ma\u001b[0m\u001b[0;34m,\u001b[0m \u001b[0mdtype\u001b[0m\u001b[0;34m,\u001b[0m \u001b[0mcopy\u001b[0m\u001b[0;34m=\u001b[0m\u001b[0mFalse\u001b[0m\u001b[0;34m,\u001b[0m \u001b[0morder\u001b[0m\u001b[0;34m=\u001b[0m\u001b[0morder\u001b[0m\u001b[0;34m)\u001b[0m\u001b[0;34m\u001b[0m\u001b[0m\n\u001b[0m\u001b[1;32m    463\u001b[0m \u001b[0;34m\u001b[0m\u001b[0m\n\u001b[1;32m    464\u001b[0m \u001b[0;32mdef\u001b[0m \u001b[0masanyarray\u001b[0m\u001b[0;34m(\u001b[0m\u001b[0ma\u001b[0m\u001b[0;34m,\u001b[0m \u001b[0mdtype\u001b[0m\u001b[0;34m=\u001b[0m\u001b[0mNone\u001b[0m\u001b[0;34m,\u001b[0m \u001b[0morder\u001b[0m\u001b[0;34m=\u001b[0m\u001b[0mNone\u001b[0m\u001b[0;34m)\u001b[0m\u001b[0;34m:\u001b[0m\u001b[0;34m\u001b[0m\u001b[0m\n",
        "\u001b[0;31mValueError\u001b[0m: setting an array element with a sequence."
       ]
      }
     ],
     "prompt_number": 23
    },
    {
     "cell_type": "code",
     "collapsed": false,
     "input": [
      "%matplotlib qt\n",
      "fig = draw_optimization_path(fig, fr, p_indices)\n",
      "fig.show()"
     ],
     "language": "python",
     "metadata": {},
     "outputs": [
      {
       "ename": "NameError",
       "evalue": "name 'fig' is not defined",
       "output_type": "pyerr",
       "traceback": [
        "\u001b[0;31m---------------------------------------------------------------------------\u001b[0m\n\u001b[0;31mNameError\u001b[0m                                 Traceback (most recent call last)",
        "\u001b[0;32m<ipython-input-24-74164a3a3e95>\u001b[0m in \u001b[0;36m<module>\u001b[0;34m()\u001b[0m\n\u001b[1;32m      1\u001b[0m \u001b[0mget_ipython\u001b[0m\u001b[0;34m(\u001b[0m\u001b[0;34m)\u001b[0m\u001b[0;34m.\u001b[0m\u001b[0mmagic\u001b[0m\u001b[0;34m(\u001b[0m\u001b[0;34mu'matplotlib qt'\u001b[0m\u001b[0;34m)\u001b[0m\u001b[0;34m\u001b[0m\u001b[0m\n\u001b[0;32m----> 2\u001b[0;31m \u001b[0mfig\u001b[0m \u001b[0;34m=\u001b[0m \u001b[0mdraw_optimization_path\u001b[0m\u001b[0;34m(\u001b[0m\u001b[0mfig\u001b[0m\u001b[0;34m,\u001b[0m \u001b[0mfr\u001b[0m\u001b[0;34m,\u001b[0m \u001b[0mp_indices\u001b[0m\u001b[0;34m)\u001b[0m\u001b[0;34m\u001b[0m\u001b[0m\n\u001b[0m\u001b[1;32m      3\u001b[0m \u001b[0mfig\u001b[0m\u001b[0;34m.\u001b[0m\u001b[0mshow\u001b[0m\u001b[0;34m(\u001b[0m\u001b[0;34m)\u001b[0m\u001b[0;34m\u001b[0m\u001b[0m\n",
        "\u001b[0;31mNameError\u001b[0m: name 'fig' is not defined"
       ]
      }
     ],
     "prompt_number": 24
    },
    {
     "cell_type": "code",
     "collapsed": false,
     "input": [
      "%debug"
     ],
     "language": "python",
     "metadata": {},
     "outputs": [
      {
       "output_type": "stream",
       "stream": "stderr",
       "text": [
        "ERROR: No traceback has been produced, nothing to debug.\n"
       ]
      }
     ],
     "prompt_number": 79
    },
    {
     "cell_type": "code",
     "collapsed": false,
     "input": [
      "import matplotlib.pyplot as plt\n",
      "\n",
      "n = cost.shape[1] / 2\n",
      "\n",
      "fig = plt.figure()\n",
      "plt.plot(deltas, cost[:, n])\n",
      "plt.show()"
     ],
     "language": "python",
     "metadata": {},
     "outputs": [],
     "prompt_number": 49
    },
    {
     "cell_type": "code",
     "collapsed": false,
     "input": [
      "np.min(cost)"
     ],
     "language": "python",
     "metadata": {},
     "outputs": [
      {
       "metadata": {},
       "output_type": "pyout",
       "prompt_number": 16,
       "text": [
        "52.432056213307099"
       ]
      }
     ],
     "prompt_number": 16
    },
    {
     "cell_type": "code",
     "collapsed": false,
     "input": [
      "%matplotlib inline"
     ],
     "language": "python",
     "metadata": {},
     "outputs": [],
     "prompt_number": 63
    },
    {
     "cell_type": "code",
     "collapsed": false,
     "input": [
      "plot_cost_function2(-cost, deltas, p_min[0:2])"
     ],
     "language": "python",
     "metadata": {},
     "outputs": [
      {
       "output_type": "stream",
       "stream": "stdout",
       "text": [
        "[ 55.  55.]\n",
        "[ 2 44]\n",
        "[ -6 -48]\n",
        "[ -6 -48]\n"
       ]
      }
     ],
     "prompt_number": 25
    },
    {
     "cell_type": "code",
     "collapsed": false,
     "input": [
      "from __future__ import division\n",
      "from matplotlib import cm\n",
      "\n",
      "\n",
      "def plot_cost_function2(cost, deltas, p_min, margin=0, x_contour=False, y_contour=False):\n",
      "\n",
      "    # compute tr=ue parameter values\n",
      "    p0 = deltas #+ p_min[0]\n",
      "    p1 = deltas #+ p_min[1]\n",
      "    \n",
      "    # build parameter grid\n",
      "    P0, P1 = np.meshgrid(p0, p1)\n",
      "\n",
      "    # compute figure limits\n",
      "    xlim_max = np.max(P0) + margin\n",
      "    xlim_min = np.min(P0) - margin\n",
      "    ylim_max = np.max(P1) + margin\n",
      "    ylim_min = np.min(P1) - margin\n",
      "    zlim_max = np.max(cost) + margin\n",
      "    zlim_min = np.min(cost) - margin\n",
      "\n",
      "    # initialize 3D ploting\n",
      "    fig = plt.figure()\n",
      "    ax = fig.add_subplot(111, projection='3d')\n",
      "\n",
      "    # plot cost function\n",
      "    ax.plot_surface(P0, P1, cost, rstride=1, cstride=1, alpha=0.5, cmap=cm.jet)\n",
      "    # plot 2d cost function contour\n",
      "    cset = ax.contourf(P0, P1, cost, zdir='z', offset=zlim_min, alpha=0.5, cmap=cm.jet)\n",
      "\n",
      "    if x_contour:\n",
      "        cset = ax.contourf(P0, P1, cost, zdir='x', offset=xlim_min, alpha=0.25, cmap=cm.jet)\n",
      "    if y_contour:\n",
      "        cset = ax.contourf(P0, P1, cost, zdir='y', offset=ylim_min, alpha=0.25, cmap=cm.jet)\n",
      "\n",
      "    # plot projection minima\n",
      "    #ax.scatter3D(p_min[0], p_min[1], zlim_min, marker='*', c='blue', s=100)\n",
      "    center = np.asarray(cost.shape) / 2\n",
      "    print center\n",
      "    ax.plot3D([0, 0], \n",
      "              [0, 0],\n",
      "              [zlim_min, cost[center[0], center[1]]],\n",
      "              'bo--')\n",
      "    \n",
      "    # plot cost funtion minima\n",
      "    cost_minima = np.max(cost)\n",
      "    indices = np.hstack(np.where(cost == cost_minima))\n",
      "    print indices\n",
      "    p_min_cost = np.array([deltas[indices[1]], deltas[indices[0]]])\n",
      "    print p_min_cost\n",
      "    p_min_cost = p_min_cost# + p_min\n",
      "    print p_min_cost\n",
      "    ax.plot3D([p_min_cost[0], p_min_cost[0]], \n",
      "              [p_min_cost[1], p_min_cost[1]],\n",
      "              [zlim_min, cost_minima],\n",
      "              'r*--')\n",
      "\n",
      "\n",
      "\n",
      "    # p = np.asarray(fr.algorithm_results[level].shape_parameters)\n",
      "\n",
      "    # start = ini - p_min[4:6]\n",
      "    # seq = p[:, 4:6] - p_min[4:6]\n",
      "\n",
      "\n",
      "    # ax.scatter3D(start[0], start[1], [-125], marker='o', c='blue', s=50)\n",
      "\n",
      "    # for j, s in enumerate(seq):\n",
      "    #     ax.plot3D([start[0], s[0]], [start[1], s[1]], [-125, -125], 'bo-')\n",
      "    #     start = s\n",
      "    \n",
      "    ax.set_xlabel('p0')\n",
      "    ax.set_xlim(xlim_min, xlim_max)\n",
      "    ax.set_ylabel('p1')\n",
      "    ax.set_ylim(ylim_min, ylim_max)\n",
      "    ax.set_zlabel('Cost')\n",
      "    ax.set_zlim(zlim_min, zlim_max)\n",
      "\n",
      "    plt.show()"
     ],
     "language": "python",
     "metadata": {},
     "outputs": [],
     "prompt_number": 18
    },
    {
     "cell_type": "code",
     "collapsed": false,
     "input": [
      "from __future__ import division\n",
      "import matplotlib.pyplot as plt\n",
      "from matplotlib import cm\n",
      "from mpl_toolkits.mplot3d import axes3d\n",
      "\n",
      "\n",
      "def plot_cost_funtion(cost, deltas, p_min, p_iter, margin=0, x_contour=False, y_contour=False):\n",
      "\n",
      "    # compute true parameter values\n",
      "    p0 = deltas + p_min[0]\n",
      "    p1 = deltas + p_min[1]\n",
      "    \n",
      "    # build parameter grid\n",
      "    P0, P1 = np.meshgrid(p0, p1)\n",
      "\n",
      "    # compute figure limits\n",
      "    xlim_max = np.max(P0) + margin\n",
      "    xlim_min = np.min(P0) - margin\n",
      "    ylim_max = np.max(P1) + margin\n",
      "    ylim_min = np.min(P1) - margin\n",
      "    zlim_max = np.max(cost) + margin\n",
      "    zlim_min = np.min(cost) - margin\n",
      "\n",
      "    # initialize 3D ploting\n",
      "    fig = plt.figure()\n",
      "    ax = fig.add_subplot(111, projection='3d')\n",
      "\n",
      "    # plot cost function\n",
      "    ax.plot_surface(P0, P1, cost, rstride=1, cstride=1, alpha=0.5, cmap=cm.jet)\n",
      "    # plot 2d cost function contour\n",
      "    cset = ax.contourf(P0, P1, cost, zdir='z', offset=zlim_min, alpha=0.5, cmap=cm.jet)\n",
      "\n",
      "    if x_contour:\n",
      "        cset = ax.contourf(P0, P1, cost, zdir='x', offset=xlim_min, alpha=0.25, cmap=cm.jet)\n",
      "    if y_contour:\n",
      "        cset = ax.contourf(P0, P1, cost, zdir='y', offset=ylim_min, alpha=0.25, cmap=cm.jet)\n",
      "\n",
      "    # plot projection minima\n",
      "    center = np.asarray(cost.shape) / 2\n",
      "    print center\n",
      "    ax.plot3D([0, 0], \n",
      "              [0, 0],\n",
      "              [zlim_min, cost[center[0], center[1]]],\n",
      "              'b*--', markersize=10)\n",
      "    \n",
      "    # plot cost funtion minima\n",
      "    cost_minima = np.max(cost)\n",
      "    indices = np.hstack(np.where(cost == cost_minima))\n",
      "    print indices\n",
      "    p_min_cost = np.array([deltas[indices[1]], deltas[indices[0]]])\n",
      "    print p_min_cost\n",
      "    p_min_cost = p_min_cost + p_min\n",
      "    print p_min_cost\n",
      "    ax.plot3D([p_min_cost[0], p_min_cost[0]], \n",
      "              [p_min_cost[1], p_min_cost[1]],\n",
      "              [zlim_min, cost_minima],\n",
      "              'go--', markersize=10)\n",
      "\n",
      "    # draw optimization path\n",
      "    start = p_iter[0]\n",
      "    for j, s in enumerate(p_iter[1:, :]):\n",
      "        # draw optimization step\n",
      "        ax.plot3D([start[0], s[0]], \n",
      "                  [start[1], s[1]], \n",
      "                  [zlim_min, zlim_min], \n",
      "                  'bx-', markersize=10)\n",
      "        start = s\n",
      "    \n",
      "    ax.set_xlabel('p0')\n",
      "    ax.set_xlim(xlim_min, xlim_max)\n",
      "    ax.set_ylabel('p1')\n",
      "    ax.set_ylim(ylim_min, ylim_max)\n",
      "    ax.set_zlabel('Cost')\n",
      "    ax.set_zlim(zlim_min, zlim_max)\n",
      "\n",
      "    plt.show()"
     ],
     "language": "python",
     "metadata": {},
     "outputs": [],
     "prompt_number": 63
    },
    {
     "cell_type": "code",
     "collapsed": false,
     "input": [
      "%matplotlib qt"
     ],
     "language": "python",
     "metadata": {},
     "outputs": [],
     "prompt_number": 64
    },
    {
     "cell_type": "code",
     "collapsed": false,
     "input": [
      "# inputs\n",
      "margin = None\n",
      "p_min_ = p_min[4:6]\n",
      "p_initial = p_perturbed[4:6]\n",
      "p_iter = np.asarray(fr.algorithm_results[-1].shape_parameters)[::, 4:6]\n",
      "\n",
      "plot_cost_funtion(-cost, delta_ps, p_min_, p_iter)"
     ],
     "language": "python",
     "metadata": {},
     "outputs": [
      {
       "output_type": "stream",
       "stream": "stdout",
       "text": [
        "[ 10.  10.]\n",
        "[10 10]\n",
        "[0 0]\n",
        "[ 0.71686173 -4.69266986]\n"
       ]
      }
     ],
     "prompt_number": 65
    },
    {
     "cell_type": "code",
     "collapsed": false,
     "input": [],
     "language": "python",
     "metadata": {},
     "outputs": [
      {
       "metadata": {},
       "output_type": "pyout",
       "prompt_number": 202,
       "text": [
        "array([], dtype=float64)"
       ]
      }
     ],
     "prompt_number": 202
    },
    {
     "cell_type": "code",
     "collapsed": false,
     "input": [
      "p_perturbed[4:6]"
     ],
     "language": "python",
     "metadata": {},
     "outputs": [
      {
       "metadata": {},
       "output_type": "pyout",
       "prompt_number": 194,
       "text": [
        "array([ 80.,  80.])"
       ]
      }
     ],
     "prompt_number": 194
    },
    {
     "cell_type": "code",
     "collapsed": false,
     "input": [
      "np.asarray(fr.algorithm_results[-1].shape_parameters)[::2, 4:6]"
     ],
     "language": "python",
     "metadata": {},
     "outputs": [
      {
       "metadata": {},
       "output_type": "pyout",
       "prompt_number": 197,
       "text": [
        "array([[ 80.00609422,  79.9965716 ],\n",
        "       [ 61.96681688,  53.33109526],\n",
        "       [ 44.06905362,  22.82361346],\n",
        "       [ 24.00908563,   3.02358483],\n",
        "       [  9.28366875,  -0.57021484],\n",
        "       [  3.21951664,  -1.25597626],\n",
        "       [  1.24203099,  -1.5791988 ],\n",
        "       [  0.64073387,  -1.72366019],\n",
        "       [  0.45573356,  -1.77833606],\n",
        "       [  0.40097129,  -1.79476348],\n",
        "       [  0.38463993,  -1.79962748]])"
       ]
      }
     ],
     "prompt_number": 197
    },
    {
     "cell_type": "code",
     "collapsed": false,
     "input": [],
     "language": "python",
     "metadata": {},
     "outputs": []
    }
   ],
   "metadata": {}
  }
 ]
}