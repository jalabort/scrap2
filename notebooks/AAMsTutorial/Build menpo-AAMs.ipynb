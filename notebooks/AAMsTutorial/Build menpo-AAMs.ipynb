{
 "metadata": {
  "name": "",
  "signature": "sha256:8d4293ffe4efb7c04d370268640a86baf2b6524be0918c26941e0abb71d38098"
 },
 "nbformat": 3,
 "nbformat_minor": 0,
 "worksheets": [
  {
   "cells": [
    {
     "cell_type": "markdown",
     "metadata": {},
     "source": [
      "Load training data:"
     ]
    },
    {
     "cell_type": "code",
     "collapsed": false,
     "input": [
      "import menpo.io as mio\n",
      "from menpo.landmark import labeller, ibug_face_66\n",
      "\n",
      "training_images = []\n",
      "for i in mio.import_images('/Users/joan/PhD/DataBases/faces/lfpw/trainset',\n",
      "                           max_images=None, verbose=True):\n",
      "    \n",
      "    i.crop_to_landmarks_proportion_inplace(0.5)\n",
      "    i = i.rescale_landmarks_to_diagonal_range(200)\n",
      "    \n",
      "    if i.n_channels == 3:\n",
      "        i = i.as_greyscale(mode='luminosity')\n",
      "    \n",
      "    training_images.append(i)"
     ],
     "language": "python",
     "metadata": {},
     "outputs": []
    },
    {
     "cell_type": "markdown",
     "metadata": {},
     "source": [
      "Set common parameters:"
     ]
    },
    {
     "cell_type": "code",
     "collapsed": false,
     "input": [
      "normalization_diagonal = 100\n",
      "n_levels = 1"
     ],
     "language": "python",
     "metadata": {},
     "outputs": []
    },
    {
     "cell_type": "markdown",
     "metadata": {},
     "source": [
      "Build AAMs:"
     ]
    },
    {
     "cell_type": "code",
     "collapsed": false,
     "input": [
      "from menpofit.aam import AAMBuilder\n",
      "from menpo.feature import no_op\n",
      "\n",
      "aam_int = AAMBuilder(features=no_op, \n",
      "                     normalization_diagonal=normalization_diagonal, \n",
      "                     n_levels=n_levels).build(training_images, verbose=True)"
     ],
     "language": "python",
     "metadata": {},
     "outputs": []
    },
    {
     "cell_type": "markdown",
     "metadata": {},
     "source": [
      "Save them:"
     ]
    },
    {
     "cell_type": "code",
     "collapsed": false,
     "input": [
      "from alabortijcv2015.utils import pickle_dump\n",
      "\n",
      "pickle_dump(aam_int, '/Users/joan/PhD/Models/aam_int.menpo')"
     ],
     "language": "python",
     "metadata": {},
     "outputs": []
    }
   ],
   "metadata": {}
  }
 ]
}