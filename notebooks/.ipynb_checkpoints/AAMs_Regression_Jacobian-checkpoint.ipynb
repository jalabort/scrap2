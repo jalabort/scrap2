{
 "metadata": {
  "name": ""
 },
 "nbformat": 3,
 "nbformat_minor": 0,
 "worksheets": [
  {
   "cells": [
    {
     "cell_type": "code",
     "collapsed": false,
     "input": [
      "import pickle\n",
      "\n",
      "# load a previously buid AAM\n",
      "obj = pickle.load(open('/Users/joan/PhD/Models/lfpw_igo', \"rb\"))\n",
      "aam = obj[\"aam\"]"
     ],
     "language": "python",
     "metadata": {},
     "outputs": [],
     "prompt_number": 2
    },
    {
     "cell_type": "code",
     "collapsed": false,
     "input": [
      "from pybug.io import auto_import\n",
      "from pybug.image import RGBImage, MaskedNDImage\n",
      "\n",
      "images = auto_import('/Users/joan/PhD/DataBases/lfpw/trainset/*.png', max_images=811)\n",
      "images = [i.as_greyscale() if type(i) is RGBImage else i for i in images]"
     ],
     "language": "python",
     "metadata": {},
     "outputs": [
      {
       "output_type": "stream",
       "stream": "stdout",
       "text": [
        "Found 811 files. (0/811) are importable\n",
        "\n"
       ]
      },
      {
       "output_type": "stream",
       "stream": "stdout",
       "text": [
        "Found 811 files. (811/811) are importable\n",
        "\r",
        "Creating importer for <pybug.io.image.PILImporter object at 0x126fcae90> (1 of 811)"
       ]
      },
      {
       "output_type": "stream",
       "stream": "stdout",
       "text": [
        "\r",
        "Creating importer for <pybug.io.image.PILImporter object at 0x126fca4d0> (2 of 811)"
       ]
      },
      {
       "output_type": "stream",
       "stream": "stdout",
       "text": [
        "\r",
        "Creating importer for <pybug.io.image.PILImporter object at 0x1275034d0> (3 of 811)"
       ]
      },
      {
       "output_type": "stream",
       "stream": "stdout",
       "text": [
        "\r",
        "Creating importer for <pybug.io.image.PILImporter object at 0x1275037d0> (4 of 811)"
       ]
      },
      {
       "output_type": "stream",
       "stream": "stdout",
       "text": [
        "\r",
        "Creating importer for <pybug.io.image.PILImporter object at 0x127503e90> (5 of 811)"
       ]
      },
      {
       "output_type": "stream",
       "stream": "stdout",
       "text": [
        "\r",
        "Creating importer for <pybug.io.image.PILImporter object at 0x127503350> (6 of 811)"
       ]
      },
      {
       "output_type": "stream",
       "stream": "stdout",
       "text": [
        "\r",
        "Creating importer for <pybug.io.image.PILImporter object at 0x127503a10> (7 of 811)"
       ]
      },
      {
       "output_type": "stream",
       "stream": "stdout",
       "text": [
        "\r",
        "Creating importer for <pybug.io.image.PILImporter object at 0x127503110> (8 of 811)"
       ]
      },
      {
       "output_type": "stream",
       "stream": "stdout",
       "text": [
        "\r",
        "Creating importer for <pybug.io.image.PILImporter object at 0x127503410> (9 of 811)"
       ]
      },
      {
       "output_type": "stream",
       "stream": "stdout",
       "text": [
        "\r",
        "Creating importer for <pybug.io.image.PILImporter object at 0x127503dd0> (10 of 811)"
       ]
      },
      {
       "output_type": "stream",
       "stream": "stdout",
       "text": [
        "\r",
        "Creating importer for <pybug.io.image.PILImporter object at 0x127503650> (11 of 811)"
       ]
      },
      {
       "output_type": "stream",
       "stream": "stdout",
       "text": [
        "\r",
        "Creating importer for <pybug.io.image.PILImporter object at 0x1275361d0> (12 of 811)"
       ]
      },
      {
       "output_type": "stream",
       "stream": "stdout",
       "text": [
        "\r",
        "Creating importer for <pybug.io.image.PILImporter object at 0x1275367d0> (13 of 811)"
       ]
      },
      {
       "output_type": "stream",
       "stream": "stdout",
       "text": [
        "\r",
        "Creating importer for <pybug.io.image.PILImporter object at 0x127536710> (14 of 811)"
       ]
      },
      {
       "output_type": "stream",
       "stream": "stdout",
       "text": [
        "\r",
        "Creating importer for <pybug.io.image.PILImporter object at 0x127536b90> (15 of 811)"
       ]
      },
      {
       "output_type": "stream",
       "stream": "stdout",
       "text": [
        "\r",
        "Creating importer for <pybug.io.image.PILImporter object at 0x127536e90> (16 of 811)"
       ]
      },
      {
       "output_type": "stream",
       "stream": "stdout",
       "text": [
        "\r",
        "Creating importer for <pybug.io.image.PILImporter object at 0x127536590> (17 of 811)"
       ]
      },
      {
       "output_type": "stream",
       "stream": "stdout",
       "text": [
        "\r",
        "Creating importer for <pybug.io.image.PILImporter object at 0x127536f50> (18 of 811)"
       ]
      },
      {
       "output_type": "stream",
       "stream": "stdout",
       "text": [
        "\r",
        "Creating importer for <pybug.io.image.PILImporter object at 0x126fb7710> (19 of 811)"
       ]
      },
      {
       "output_type": "stream",
       "stream": "stdout",
       "text": [
        "\r",
        "Creating importer for <pybug.io.image.PILImporter object at 0x126fb7ad0> (20 of 811)"
       ]
      },
      {
       "output_type": "stream",
       "stream": "stdout",
       "text": [
        "\r",
        "Creating importer for <pybug.io.image.PILImporter object at 0x126fb7110> (21 of 811)"
       ]
      },
      {
       "output_type": "stream",
       "stream": "stdout",
       "text": [
        "\r",
        "Creating importer for <pybug.io.image.PILImporter object at 0x126fb7f50> (22 of 811)"
       ]
      },
      {
       "output_type": "stream",
       "stream": "stdout",
       "text": [
        "\r",
        "Creating importer for <pybug.io.image.PILImporter object at 0x126fb74d0> (23 of 811)"
       ]
      },
      {
       "output_type": "stream",
       "stream": "stdout",
       "text": [
        "\r",
        "Creating importer for <pybug.io.image.PILImporter object at 0x126fb7a10> (24 of 811)"
       ]
      },
      {
       "output_type": "stream",
       "stream": "stdout",
       "text": [
        "\r",
        "Creating importer for <pybug.io.image.PILImporter object at 0x126fb7290> (25 of 811)"
       ]
      },
      {
       "output_type": "stream",
       "stream": "stdout",
       "text": [
        "\r",
        "Creating importer for <pybug.io.image.PILImporter object at 0x126fb77d0> (26 of 811)"
       ]
      },
      {
       "output_type": "stream",
       "stream": "stdout",
       "text": [
        "\r",
        "Creating importer for <pybug.io.image.PILImporter object at 0x126ff07d0> (27 of 811)"
       ]
      },
      {
       "output_type": "stream",
       "stream": "stdout",
       "text": [
        "\r",
        "Creating importer for <pybug.io.image.PILImporter object at 0x126ff0f50> (28 of 811)"
       ]
      },
      {
       "output_type": "stream",
       "stream": "stdout",
       "text": [
        "\r",
        "Creating importer for <pybug.io.image.PILImporter object at 0x126ff0950> (29 of 811)"
       ]
      },
      {
       "output_type": "stream",
       "stream": "stdout",
       "text": [
        "\r",
        "Creating importer for <pybug.io.image.PILImporter object at 0x126ff0590> (30 of 811)"
       ]
      },
      {
       "output_type": "stream",
       "stream": "stdout",
       "text": [
        "\r",
        "Creating importer for <pybug.io.image.PILImporter object at 0x126ff0110> (31 of 811)"
       ]
      },
      {
       "output_type": "stream",
       "stream": "stdout",
       "text": [
        "\r",
        "Creating importer for <pybug.io.image.PILImporter object at 0x126ff0050> (32 of 811)"
       ]
      },
      {
       "output_type": "stream",
       "stream": "stdout",
       "text": [
        "\r",
        "Creating importer for <pybug.io.image.PILImporter object at 0x126ff0d10> (33 of 811)"
       ]
      },
      {
       "output_type": "stream",
       "stream": "stdout",
       "text": [
        "\r",
        "Creating importer for <pybug.io.image.PILImporter object at 0x126ff0650> (34 of 811)"
       ]
      },
      {
       "output_type": "stream",
       "stream": "stdout",
       "text": [
        "\r",
        "Creating importer for <pybug.io.image.PILImporter object at 0x126ff0ad0> (35 of 811)"
       ]
      },
      {
       "output_type": "stream",
       "stream": "stdout",
       "text": [
        "\r",
        "Creating importer for <pybug.io.image.PILImporter object at 0x126ff01d0> (36 of 811)"
       ]
      },
      {
       "output_type": "stream",
       "stream": "stdout",
       "text": [
        "\r",
        "Creating importer for <pybug.io.image.PILImporter object at 0x128c3aa90> (37 of 811)"
       ]
      },
      {
       "output_type": "stream",
       "stream": "stdout",
       "text": [
        "\r",
        "Creating importer for <pybug.io.image.PILImporter object at 0x128c3a0d0> (38 of 811)"
       ]
      },
      {
       "output_type": "stream",
       "stream": "stdout",
       "text": [
        "\r",
        "Creating importer for <pybug.io.image.PILImporter object at 0x128c3a6d0> (39 of 811)"
       ]
      },
      {
       "output_type": "stream",
       "stream": "stdout",
       "text": [
        "\r",
        "Creating importer for <pybug.io.image.PILImporter object at 0x128c3a550> (40 of 811)"
       ]
      },
      {
       "output_type": "stream",
       "stream": "stdout",
       "text": [
        "\r",
        "Creating importer for <pybug.io.image.PILImporter object at 0x128c3ac10> (41 of 811)"
       ]
      },
      {
       "output_type": "stream",
       "stream": "stdout",
       "text": [
        "\r",
        "Creating importer for <pybug.io.image.PILImporter object at 0x128c3a310> (42 of 811)"
       ]
      },
      {
       "output_type": "stream",
       "stream": "stdout",
       "text": [
        "\r",
        "Creating importer for <pybug.io.image.PILImporter object at 0x128c3af10> (43 of 811)"
       ]
      },
      {
       "output_type": "stream",
       "stream": "stdout",
       "text": [
        "\r",
        "Creating importer for <pybug.io.image.PILImporter object at 0x128c3a9d0> (44 of 811)"
       ]
      },
      {
       "output_type": "stream",
       "stream": "stdout",
       "text": [
        "\r",
        "Creating importer for <pybug.io.image.PILImporter object at 0x127017c50> (45 of 811)"
       ]
      },
      {
       "output_type": "stream",
       "stream": "stdout",
       "text": [
        "\r",
        "Creating importer for <pybug.io.image.PILImporter object at 0x127017590> (46 of 811)"
       ]
      },
      {
       "output_type": "stream",
       "stream": "stdout",
       "text": [
        "\r",
        "Creating importer for <pybug.io.image.PILImporter object at 0x127017f50> (47 of 811)"
       ]
      },
      {
       "output_type": "stream",
       "stream": "stdout",
       "text": [
        "\r",
        "Creating importer for <pybug.io.image.PILImporter object at 0x127017350> (48 of 811)"
       ]
      },
      {
       "output_type": "stream",
       "stream": "stdout",
       "text": [
        "\r",
        "Creating importer for <pybug.io.image.PILImporter object at 0x127017ad0> (49 of 811)"
       ]
      },
      {
       "output_type": "stream",
       "stream": "stdout",
       "text": [
        "\r",
        "Creating importer for <pybug.io.image.PILImporter object at 0x127017950> (50 of 811)"
       ]
      },
      {
       "output_type": "stream",
       "stream": "stdout",
       "text": [
        "\r",
        "Creating importer for <pybug.io.image.PILImporter object at 0x1270174d0> (51 of 811)"
       ]
      },
      {
       "output_type": "stream",
       "stream": "stdout",
       "text": [
        "\r",
        "Creating importer for <pybug.io.image.PILImporter object at 0x127017110> (52 of 811)"
       ]
      },
      {
       "output_type": "stream",
       "stream": "stdout",
       "text": [
        "\r",
        "Creating importer for <pybug.io.image.PILImporter object at 0x127017650> (53 of 811)"
       ]
      },
      {
       "output_type": "stream",
       "stream": "stdout",
       "text": [
        "\r",
        "Creating importer for <pybug.io.image.PILImporter object at 0x12827ef50> (54 of 811)"
       ]
      },
      {
       "output_type": "stream",
       "stream": "stdout",
       "text": [
        "\r",
        "Creating importer for <pybug.io.image.PILImporter object at 0x12827e290> (55 of 811)"
       ]
      },
      {
       "output_type": "stream",
       "stream": "stdout",
       "text": [
        "\r",
        "Creating importer for <pybug.io.image.PILImporter object at 0x12827e590> (56 of 811)"
       ]
      },
      {
       "output_type": "stream",
       "stream": "stdout",
       "text": [
        "\r",
        "Creating importer for <pybug.io.image.PILImporter object at 0x12827ea10> (57 of 811)"
       ]
      },
      {
       "output_type": "stream",
       "stream": "stdout",
       "text": [
        "\r",
        "Creating importer for <pybug.io.image.PILImporter object at 0x12827eb90> (58 of 811)"
       ]
      },
      {
       "output_type": "stream",
       "stream": "stdout",
       "text": [
        "\r",
        "Creating importer for <pybug.io.image.PILImporter object at 0x12827e890> (59 of 811)"
       ]
      },
      {
       "output_type": "stream",
       "stream": "stdout",
       "text": [
        "\r",
        "Creating importer for <pybug.io.image.PILImporter object at 0x12827ed10> (60 of 811)"
       ]
      },
      {
       "output_type": "stream",
       "stream": "stdout",
       "text": [
        "\r",
        "Creating importer for <pybug.io.image.PILImporter object at 0x12827ead0> (61 of 811)"
       ]
      },
      {
       "output_type": "stream",
       "stream": "stdout",
       "text": [
        "\r",
        "Creating importer for <pybug.io.image.PILImporter object at 0x12827e410> (62 of 811)"
       ]
      },
      {
       "output_type": "stream",
       "stream": "stdout",
       "text": [
        "\r",
        "Creating importer for <pybug.io.image.PILImporter object at 0x12827e4d0> (63 of 811)"
       ]
      },
      {
       "output_type": "stream",
       "stream": "stdout",
       "text": [
        "\r",
        "Creating importer for <pybug.io.image.PILImporter object at 0x128c2d610> (64 of 811)"
       ]
      },
      {
       "output_type": "stream",
       "stream": "stdout",
       "text": [
        "\r",
        "Creating importer for <pybug.io.image.PILImporter object at 0x128c2d250> (65 of 811)"
       ]
      },
      {
       "output_type": "stream",
       "stream": "stdout",
       "text": [
        "\r",
        "Creating importer for <pybug.io.image.PILImporter object at 0x128c2dc10> (66 of 811)"
       ]
      },
      {
       "output_type": "stream",
       "stream": "stdout",
       "text": [
        "\r",
        "Creating importer for <pybug.io.image.PILImporter object at 0x128c2dcd0> (67 of 811)"
       ]
      },
      {
       "output_type": "stream",
       "stream": "stdout",
       "text": [
        "\r",
        "Creating importer for <pybug.io.image.PILImporter object at 0x128c2d490> (68 of 811)"
       ]
      },
      {
       "output_type": "stream",
       "stream": "stdout",
       "text": [
        "\r",
        "Creating importer for <pybug.io.image.PILImporter object at 0x128c2dd90> (69 of 811)"
       ]
      },
      {
       "output_type": "stream",
       "stream": "stdout",
       "text": [
        "\r",
        "Creating importer for <pybug.io.image.PILImporter object at 0x128c2d190> (70 of 811)"
       ]
      },
      {
       "output_type": "stream",
       "stream": "stdout",
       "text": [
        "\r",
        "Creating importer for <pybug.io.image.PILImporter object at 0x128c2d9d0> (71 of 811)"
       ]
      },
      {
       "output_type": "stream",
       "stream": "stdout",
       "text": [
        "\r",
        "Creating importer for <pybug.io.image.PILImporter object at 0x128c2d550> (72 of 811)"
       ]
      },
      {
       "output_type": "stream",
       "stream": "stdout",
       "text": [
        "\r",
        "Creating importer for <pybug.io.image.PILImporter object at 0x126b6f410> (73 of 811)"
       ]
      },
      {
       "output_type": "stream",
       "stream": "stdout",
       "text": [
        "\r",
        "Creating importer for <pybug.io.image.PILImporter object at 0x126b6fb90> (74 of 811)"
       ]
      },
      {
       "output_type": "stream",
       "stream": "stdout",
       "text": [
        "\r",
        "Creating importer for <pybug.io.image.PILImporter object at 0x126b6f350> (75 of 811)"
       ]
      },
      {
       "output_type": "stream",
       "stream": "stdout",
       "text": [
        "\r",
        "Creating importer for <pybug.io.image.PILImporter object at 0x126b6f7d0> (76 of 811)"
       ]
      },
      {
       "output_type": "stream",
       "stream": "stdout",
       "text": [
        "\r",
        "Creating importer for <pybug.io.image.PILImporter object at 0x126b6ff50> (77 of 811)"
       ]
      },
      {
       "output_type": "stream",
       "stream": "stdout",
       "text": [
        "\r",
        "Creating importer for <pybug.io.image.PILImporter object at 0x126b6fc50> (78 of 811)"
       ]
      },
      {
       "output_type": "stream",
       "stream": "stdout",
       "text": [
        "\r",
        "Creating importer for <pybug.io.image.PILImporter object at 0x126b6f590> (79 of 811)"
       ]
      },
      {
       "output_type": "stream",
       "stream": "stdout",
       "text": [
        "\r",
        "Creating importer for <pybug.io.image.PILImporter object at 0x126b6f050> (80 of 811)"
       ]
      },
      {
       "output_type": "stream",
       "stream": "stdout",
       "text": [
        "\r",
        "Creating importer for <pybug.io.image.PILImporter object at 0x1286cac10> (81 of 811)"
       ]
      },
      {
       "output_type": "stream",
       "stream": "stdout",
       "text": [
        "\r",
        "Creating importer for <pybug.io.image.PILImporter object at 0x1286ca9d0> (82 of 811)"
       ]
      },
      {
       "output_type": "stream",
       "stream": "stdout",
       "text": [
        "\r",
        "Creating importer for <pybug.io.image.PILImporter object at 0x1286ca490> (83 of 811)"
       ]
      },
      {
       "output_type": "stream",
       "stream": "stdout",
       "text": [
        "\r",
        "Creating importer for <pybug.io.image.PILImporter object at 0x1286cae50> (84 of 811)"
       ]
      },
      {
       "output_type": "stream",
       "stream": "stdout",
       "text": [
        "\r",
        "Creating importer for <pybug.io.image.PILImporter object at 0x1286ca910> (85 of 811)"
       ]
      },
      {
       "output_type": "stream",
       "stream": "stdout",
       "text": [
        "\r",
        "Creating importer for <pybug.io.image.PILImporter object at 0x1286ca190> (86 of 811)"
       ]
      },
      {
       "output_type": "stream",
       "stream": "stdout",
       "text": [
        "\r",
        "Creating importer for <pybug.io.image.PILImporter object at 0x1286ca610> (87 of 811)"
       ]
      },
      {
       "output_type": "stream",
       "stream": "stdout",
       "text": [
        "\r",
        "Creating importer for <pybug.io.image.PILImporter object at 0x1286caf10> (88 of 811)"
       ]
      },
      {
       "output_type": "stream",
       "stream": "stdout",
       "text": [
        "\r",
        "Creating importer for <pybug.io.image.PILImporter object at 0x1286ca0d0> (89 of 811)"
       ]
      },
      {
       "output_type": "stream",
       "stream": "stdout",
       "text": [
        "\r",
        "Creating importer for <pybug.io.image.PILImporter object at 0x1286cafd0> (90 of 811)"
       ]
      },
      {
       "output_type": "stream",
       "stream": "stdout",
       "text": [
        "\r",
        "Creating importer for <pybug.io.image.PILImporter object at 0x12870d850> (91 of 811)"
       ]
      },
      {
       "output_type": "stream",
       "stream": "stdout",
       "text": [
        "\r",
        "Creating importer for <pybug.io.image.PILImporter object at 0x12870d0d0> (92 of 811)"
       ]
      },
      {
       "output_type": "stream",
       "stream": "stdout",
       "text": [
        "\r",
        "Creating importer for <pybug.io.image.PILImporter object at 0x12870d250> (93 of 811)"
       ]
      },
      {
       "output_type": "stream",
       "stream": "stdout",
       "text": [
        "\r",
        "Creating importer for <pybug.io.image.PILImporter object at 0x12870d9d0> (94 of 811)"
       ]
      },
      {
       "output_type": "stream",
       "stream": "stdout",
       "text": [
        "\r",
        "Creating importer for <pybug.io.image.PILImporter object at 0x12870dfd0> (95 of 811)"
       ]
      },
      {
       "output_type": "stream",
       "stream": "stdout",
       "text": [
        "\r",
        "Creating importer for <pybug.io.image.PILImporter object at 0x12870d190> (96 of 811)"
       ]
      },
      {
       "output_type": "stream",
       "stream": "stdout",
       "text": [
        "\r",
        "Creating importer for <pybug.io.image.PILImporter object at 0x12870dc10> (97 of 811)"
       ]
      },
      {
       "output_type": "stream",
       "stream": "stdout",
       "text": [
        "\r",
        "Creating importer for <pybug.io.image.PILImporter object at 0x12870d910> (98 of 811)"
       ]
      },
      {
       "output_type": "stream",
       "stream": "stdout",
       "text": [
        "\r",
        "Creating importer for <pybug.io.image.PILImporter object at 0x12870d490> (99 of 811)"
       ]
      },
      {
       "output_type": "stream",
       "stream": "stdout",
       "text": [
        "\r",
        "Creating importer for <pybug.io.image.PILImporter object at 0x12870d3d0> (100 of 811)"
       ]
      },
      {
       "output_type": "stream",
       "stream": "stdout",
       "text": [
        "\r",
        "Creating importer for <pybug.io.image.PILImporter object at 0x12870d790> (101 of 811)"
       ]
      },
      {
       "output_type": "stream",
       "stream": "stdout",
       "text": [
        "\r",
        "Creating importer for <pybug.io.image.PILImporter object at 0x12870da90> (102 of 811)"
       ]
      },
      {
       "output_type": "stream",
       "stream": "stdout",
       "text": [
        "\r",
        "Creating importer for <pybug.io.image.PILImporter object at 0x126fbdd10> (103 of 811)"
       ]
      },
      {
       "output_type": "stream",
       "stream": "stdout",
       "text": [
        "\r",
        "Creating importer for <pybug.io.image.PILImporter object at 0x126fbd950> (104 of 811)"
       ]
      },
      {
       "output_type": "stream",
       "stream": "stdout",
       "text": [
        "\r",
        "Creating importer for <pybug.io.image.PILImporter object at 0x126fbdb90> (105 of 811)"
       ]
      },
      {
       "output_type": "stream",
       "stream": "stdout",
       "text": [
        "\r",
        "Creating importer for <pybug.io.image.PILImporter object at 0x126fbd050> (106 of 811)"
       ]
      },
      {
       "output_type": "stream",
       "stream": "stdout",
       "text": [
        "\r",
        "Creating importer for <pybug.io.image.PILImporter object at 0x126fbd410> (107 of 811)"
       ]
      },
      {
       "output_type": "stream",
       "stream": "stdout",
       "text": [
        "\r",
        "Creating importer for <pybug.io.image.PILImporter object at 0x126fbd4d0> (108 of 811)"
       ]
      },
      {
       "output_type": "stream",
       "stream": "stdout",
       "text": [
        "\r",
        "Creating importer for <pybug.io.image.PILImporter object at 0x126fbd110> (109 of 811)"
       ]
      },
      {
       "output_type": "stream",
       "stream": "stdout",
       "text": [
        "\r",
        "Creating importer for <pybug.io.image.PILImporter object at 0x126fbd890> (110 of 811)"
       ]
      },
      {
       "output_type": "stream",
       "stream": "stdout",
       "text": [
        "\r",
        "Creating importer for <pybug.io.image.PILImporter object at 0x126fbd710> (111 of 811)"
       ]
      },
      {
       "output_type": "stream",
       "stream": "stdout",
       "text": [
        "\r",
        "Creating importer for <pybug.io.image.PILImporter object at 0x1263891d0> (112 of 811)"
       ]
      },
      {
       "output_type": "stream",
       "stream": "stdout",
       "text": [
        "\r",
        "Creating importer for <pybug.io.image.PILImporter object at 0x126389890> (113 of 811)"
       ]
      },
      {
       "output_type": "stream",
       "stream": "stdout",
       "text": [
        "\r",
        "Creating importer for <pybug.io.image.PILImporter object at 0x1263894d0> (114 of 811)"
       ]
      },
      {
       "output_type": "stream",
       "stream": "stdout",
       "text": [
        "\r",
        "Creating importer for <pybug.io.image.PILImporter object at 0x126389c50> (115 of 811)"
       ]
      },
      {
       "output_type": "stream",
       "stream": "stdout",
       "text": [
        "\r",
        "Creating importer for <pybug.io.image.PILImporter object at 0x126389950> (116 of 811)"
       ]
      },
      {
       "output_type": "stream",
       "stream": "stdout",
       "text": [
        "\r",
        "Creating importer for <pybug.io.image.PILImporter object at 0x126389350> (117 of 811)"
       ]
      },
      {
       "output_type": "stream",
       "stream": "stdout",
       "text": [
        "\r",
        "Creating importer for <pybug.io.image.PILImporter object at 0x126389dd0> (118 of 811)"
       ]
      },
      {
       "output_type": "stream",
       "stream": "stdout",
       "text": [
        "\r",
        "Creating importer for <pybug.io.image.PILImporter object at 0x126389050> (119 of 811)"
       ]
      },
      {
       "output_type": "stream",
       "stream": "stdout",
       "text": [
        "\r",
        "Creating importer for <pybug.io.image.PILImporter object at 0x126389650> (120 of 811)"
       ]
      },
      {
       "output_type": "stream",
       "stream": "stdout",
       "text": [
        "\r",
        "Creating importer for <pybug.io.image.PILImporter object at 0x128c77250> (121 of 811)"
       ]
      },
      {
       "output_type": "stream",
       "stream": "stdout",
       "text": [
        "\r",
        "Creating importer for <pybug.io.image.PILImporter object at 0x128c77cd0> (122 of 811)"
       ]
      },
      {
       "output_type": "stream",
       "stream": "stdout",
       "text": [
        "\r",
        "Creating importer for <pybug.io.image.PILImporter object at 0x128c77a90> (123 of 811)"
       ]
      },
      {
       "output_type": "stream",
       "stream": "stdout",
       "text": [
        "\r",
        "Creating importer for <pybug.io.image.PILImporter object at 0x128c77d90> (124 of 811)"
       ]
      },
      {
       "output_type": "stream",
       "stream": "stdout",
       "text": [
        "\r",
        "Creating importer for <pybug.io.image.PILImporter object at 0x128c77910> (125 of 811)"
       ]
      },
      {
       "output_type": "stream",
       "stream": "stdout",
       "text": [
        "\r",
        "Creating importer for <pybug.io.image.PILImporter object at 0x128c77e50> (126 of 811)"
       ]
      },
      {
       "output_type": "stream",
       "stream": "stdout",
       "text": [
        "\r",
        "Creating importer for <pybug.io.image.PILImporter object at 0x128c77f90> (127 of 811)"
       ]
      },
      {
       "output_type": "stream",
       "stream": "stdout",
       "text": [
        "\r",
        "Creating importer for <pybug.io.image.PILImporter object at 0x128c77b50> (128 of 811)"
       ]
      },
      {
       "output_type": "stream",
       "stream": "stdout",
       "text": [
        "\r",
        "Creating importer for <pybug.io.image.PILImporter object at 0x128c77190> (129 of 811)"
       ]
      },
      {
       "output_type": "stream",
       "stream": "stdout",
       "text": [
        "\r",
        "Creating importer for <pybug.io.image.PILImporter object at 0x126baf890> (130 of 811)"
       ]
      },
      {
       "output_type": "stream",
       "stream": "stdout",
       "text": [
        "\r",
        "Creating importer for <pybug.io.image.PILImporter object at 0x126baf1d0> (131 of 811)"
       ]
      },
      {
       "output_type": "stream",
       "stream": "stdout",
       "text": [
        "\r",
        "Creating importer for <pybug.io.image.PILImporter object at 0x126bafd10> (132 of 811)"
       ]
      },
      {
       "output_type": "stream",
       "stream": "stdout",
       "text": [
        "\r",
        "Creating importer for <pybug.io.image.PILImporter object at 0x126baf350> (133 of 811)"
       ]
      },
      {
       "output_type": "stream",
       "stream": "stdout",
       "text": [
        "\r",
        "Creating importer for <pybug.io.image.PILImporter object at 0x126bafad0> (134 of 811)"
       ]
      },
      {
       "output_type": "stream",
       "stream": "stdout",
       "text": [
        "\r",
        "Creating importer for <pybug.io.image.PILImporter object at 0x126baf290> (135 of 811)"
       ]
      },
      {
       "output_type": "stream",
       "stream": "stdout",
       "text": [
        "\r",
        "Creating importer for <pybug.io.image.PILImporter object at 0x126baf590> (136 of 811)"
       ]
      },
      {
       "output_type": "stream",
       "stream": "stdout",
       "text": [
        "\r",
        "Creating importer for <pybug.io.image.PILImporter object at 0x126baf110> (137 of 811)"
       ]
      },
      {
       "output_type": "stream",
       "stream": "stdout",
       "text": [
        "\r",
        "Creating importer for <pybug.io.image.PILImporter object at 0x1286e5190> (138 of 811)"
       ]
      },
      {
       "output_type": "stream",
       "stream": "stdout",
       "text": [
        "\r",
        "Creating importer for <pybug.io.image.PILImporter object at 0x1286e5a90> (139 of 811)"
       ]
      },
      {
       "output_type": "stream",
       "stream": "stdout",
       "text": [
        "\r",
        "Creating importer for <pybug.io.image.PILImporter object at 0x1286e50d0> (140 of 811)"
       ]
      },
      {
       "output_type": "stream",
       "stream": "stdout",
       "text": [
        "\r",
        "Creating importer for <pybug.io.image.PILImporter object at 0x1286e5310> (141 of 811)"
       ]
      },
      {
       "output_type": "stream",
       "stream": "stdout",
       "text": [
        "\r",
        "Creating importer for <pybug.io.image.PILImporter object at 0x1286e5910> (142 of 811)"
       ]
      },
      {
       "output_type": "stream",
       "stream": "stdout",
       "text": [
        "\r",
        "Creating importer for <pybug.io.image.PILImporter object at 0x1286e5cd0> (143 of 811)"
       ]
      },
      {
       "output_type": "stream",
       "stream": "stdout",
       "text": [
        "\r",
        "Creating importer for <pybug.io.image.PILImporter object at 0x1286e5490> (144 of 811)"
       ]
      },
      {
       "output_type": "stream",
       "stream": "stdout",
       "text": [
        "\r",
        "Creating importer for <pybug.io.image.PILImporter object at 0x1286e5610> (145 of 811)"
       ]
      },
      {
       "output_type": "stream",
       "stream": "stdout",
       "text": [
        "\r",
        "Creating importer for <pybug.io.image.PILImporter object at 0x12633c710> (146 of 811)"
       ]
      },
      {
       "output_type": "stream",
       "stream": "stdout",
       "text": [
        "\r",
        "Creating importer for <pybug.io.image.PILImporter object at 0x12633cdd0> (147 of 811)"
       ]
      },
      {
       "output_type": "stream",
       "stream": "stdout",
       "text": [
        "\r",
        "Creating importer for <pybug.io.image.PILImporter object at 0x12633c350> (148 of 811)"
       ]
      },
      {
       "output_type": "stream",
       "stream": "stdout",
       "text": [
        "\r",
        "Creating importer for <pybug.io.image.PILImporter object at 0x12633cad0> (149 of 811)"
       ]
      },
      {
       "output_type": "stream",
       "stream": "stdout",
       "text": [
        "\r",
        "Creating importer for <pybug.io.image.PILImporter object at 0x12633c7d0> (150 of 811)"
       ]
      },
      {
       "output_type": "stream",
       "stream": "stdout",
       "text": [
        "\r",
        "Creating importer for <pybug.io.image.PILImporter object at 0x12633c110> (151 of 811)"
       ]
      },
      {
       "output_type": "stream",
       "stream": "stdout",
       "text": [
        "\r",
        "Creating importer for <pybug.io.image.PILImporter object at 0x12633c650> (152 of 811)"
       ]
      },
      {
       "output_type": "stream",
       "stream": "stdout",
       "text": [
        "\r",
        "Creating importer for <pybug.io.image.PILImporter object at 0x126bbcc50> (153 of 811)"
       ]
      },
      {
       "output_type": "stream",
       "stream": "stdout",
       "text": [
        "\r",
        "Creating importer for <pybug.io.image.PILImporter object at 0x126bbc590> (154 of 811)"
       ]
      },
      {
       "output_type": "stream",
       "stream": "stdout",
       "text": [
        "\r",
        "Creating importer for <pybug.io.image.PILImporter object at 0x126bbcd10> (155 of 811)"
       ]
      },
      {
       "output_type": "stream",
       "stream": "stdout",
       "text": [
        "\r",
        "Creating importer for <pybug.io.image.PILImporter object at 0x126bbc710> (156 of 811)"
       ]
      },
      {
       "output_type": "stream",
       "stream": "stdout",
       "text": [
        "\r",
        "Creating importer for <pybug.io.image.PILImporter object at 0x126bbcad0> (157 of 811)"
       ]
      },
      {
       "output_type": "stream",
       "stream": "stdout",
       "text": [
        "\r",
        "Creating importer for <pybug.io.image.PILImporter object at 0x126bbcf50> (158 of 811)"
       ]
      },
      {
       "output_type": "stream",
       "stream": "stdout",
       "text": [
        "\r",
        "Creating importer for <pybug.io.image.PILImporter object at 0x126bbce90> (159 of 811)"
       ]
      },
      {
       "output_type": "stream",
       "stream": "stdout",
       "text": [
        "\r",
        "Creating importer for <pybug.io.image.PILImporter object at 0x126bbcb90> (160 of 811)"
       ]
      },
      {
       "output_type": "stream",
       "stream": "stdout",
       "text": [
        "\r",
        "Creating importer for <pybug.io.image.PILImporter object at 0x127556890> (161 of 811)"
       ]
      },
      {
       "output_type": "stream",
       "stream": "stdout",
       "text": [
        "\r",
        "Creating importer for <pybug.io.image.PILImporter object at 0x127556e90> (162 of 811)"
       ]
      },
      {
       "output_type": "stream",
       "stream": "stdout",
       "text": [
        "\r",
        "Creating importer for <pybug.io.image.PILImporter object at 0x127556290> (163 of 811)"
       ]
      },
      {
       "output_type": "stream",
       "stream": "stdout",
       "text": [
        "\r",
        "Creating importer for <pybug.io.image.PILImporter object at 0x127556710> (164 of 811)"
       ]
      },
      {
       "output_type": "stream",
       "stream": "stdout",
       "text": [
        "\r",
        "Creating importer for <pybug.io.image.PILImporter object at 0x127556b90> (165 of 811)"
       ]
      },
      {
       "output_type": "stream",
       "stream": "stdout",
       "text": [
        "\r",
        "Creating importer for <pybug.io.image.PILImporter object at 0x1275561d0> (166 of 811)"
       ]
      },
      {
       "output_type": "stream",
       "stream": "stdout",
       "text": [
        "\r",
        "Creating importer for <pybug.io.image.PILImporter object at 0x127556a10> (167 of 811)"
       ]
      },
      {
       "output_type": "stream",
       "stream": "stdout",
       "text": [
        "\r",
        "Creating importer for <pybug.io.image.PILImporter object at 0x127556d10> (168 of 811)"
       ]
      },
      {
       "output_type": "stream",
       "stream": "stdout",
       "text": [
        "\r",
        "Creating importer for <pybug.io.image.PILImporter object at 0x1282bf1d0> (169 of 811)"
       ]
      },
      {
       "output_type": "stream",
       "stream": "stdout",
       "text": [
        "\r",
        "Creating importer for <pybug.io.image.PILImporter object at 0x1282bfa10> (170 of 811)"
       ]
      },
      {
       "output_type": "stream",
       "stream": "stdout",
       "text": [
        "\r",
        "Creating importer for <pybug.io.image.PILImporter object at 0x1282bfe90> (171 of 811)"
       ]
      },
      {
       "output_type": "stream",
       "stream": "stdout",
       "text": [
        "\r",
        "Creating importer for <pybug.io.image.PILImporter object at 0x1282bf590> (172 of 811)"
       ]
      },
      {
       "output_type": "stream",
       "stream": "stdout",
       "text": [
        "\r",
        "Creating importer for <pybug.io.image.PILImporter object at 0x1282bfad0> (173 of 811)"
       ]
      },
      {
       "output_type": "stream",
       "stream": "stdout",
       "text": [
        "\r",
        "Creating importer for <pybug.io.image.PILImporter object at 0x1282bf890> (174 of 811)"
       ]
      },
      {
       "output_type": "stream",
       "stream": "stdout",
       "text": [
        "\r",
        "Creating importer for <pybug.io.image.PILImporter object at 0x1282bff50> (175 of 811)"
       ]
      },
      {
       "output_type": "stream",
       "stream": "stdout",
       "text": [
        "\r",
        "Creating importer for <pybug.io.image.PILImporter object at 0x10dcd4050> (176 of 811)"
       ]
      },
      {
       "output_type": "stream",
       "stream": "stdout",
       "text": [
        "\r",
        "Creating importer for <pybug.io.image.PILImporter object at 0x10dcd40d0> (177 of 811)"
       ]
      },
      {
       "output_type": "stream",
       "stream": "stdout",
       "text": [
        "\r",
        "Creating importer for <pybug.io.image.PILImporter object at 0x10dcd4110> (178 of 811)"
       ]
      },
      {
       "output_type": "stream",
       "stream": "stdout",
       "text": [
        "\r",
        "Creating importer for <pybug.io.image.PILImporter object at 0x10dcd4150> (179 of 811)"
       ]
      },
      {
       "output_type": "stream",
       "stream": "stdout",
       "text": [
        "\r",
        "Creating importer for <pybug.io.image.PILImporter object at 0x10dcd4190> (180 of 811)"
       ]
      },
      {
       "output_type": "stream",
       "stream": "stdout",
       "text": [
        "\r",
        "Creating importer for <pybug.io.image.PILImporter object at 0x10dcd4090> (181 of 811)"
       ]
      },
      {
       "output_type": "stream",
       "stream": "stdout",
       "text": [
        "\r",
        "Creating importer for <pybug.io.image.PILImporter object at 0x10dcd41d0> (182 of 811)"
       ]
      },
      {
       "output_type": "stream",
       "stream": "stdout",
       "text": [
        "\r",
        "Creating importer for <pybug.io.image.PILImporter object at 0x10dcd4250> (183 of 811)"
       ]
      },
      {
       "output_type": "stream",
       "stream": "stdout",
       "text": [
        "\r",
        "Creating importer for <pybug.io.image.PILImporter object at 0x10dcd46d0> (184 of 811)"
       ]
      },
      {
       "output_type": "stream",
       "stream": "stdout",
       "text": [
        "\r",
        "Creating importer for <pybug.io.image.PILImporter object at 0x10dcd4690> (185 of 811)"
       ]
      },
      {
       "output_type": "stream",
       "stream": "stdout",
       "text": [
        "\r",
        "Creating importer for <pybug.io.image.PILImporter object at 0x10dcd4650> (186 of 811)"
       ]
      },
      {
       "output_type": "stream",
       "stream": "stdout",
       "text": [
        "\r",
        "Creating importer for <pybug.io.image.PILImporter object at 0x125e144d0> (187 of 811)"
       ]
      },
      {
       "output_type": "stream",
       "stream": "stdout",
       "text": [
        "\r",
        "Creating importer for <pybug.io.image.PILImporter object at 0x125e14f50> (188 of 811)"
       ]
      },
      {
       "output_type": "stream",
       "stream": "stdout",
       "text": [
        "\r",
        "Creating importer for <pybug.io.image.PILImporter object at 0x125e14290> (189 of 811)"
       ]
      },
      {
       "output_type": "stream",
       "stream": "stdout",
       "text": [
        "\r",
        "Creating importer for <pybug.io.image.PILImporter object at 0x125e14a10> (190 of 811)"
       ]
      },
      {
       "output_type": "stream",
       "stream": "stdout",
       "text": [
        "\r",
        "Creating importer for <pybug.io.image.PILImporter object at 0x125e14e90> (191 of 811)"
       ]
      },
      {
       "output_type": "stream",
       "stream": "stdout",
       "text": [
        "\r",
        "Creating importer for <pybug.io.image.PILImporter object at 0x125e14950> (192 of 811)"
       ]
      },
      {
       "output_type": "stream",
       "stream": "stdout",
       "text": [
        "\r",
        "Creating importer for <pybug.io.image.PILImporter object at 0x125e14ad0> (193 of 811)"
       ]
      },
      {
       "output_type": "stream",
       "stream": "stdout",
       "text": [
        "\r",
        "Creating importer for <pybug.io.image.PILImporter object at 0x125e14110> (194 of 811)"
       ]
      },
      {
       "output_type": "stream",
       "stream": "stdout",
       "text": [
        "\r",
        "Creating importer for <pybug.io.image.PILImporter object at 0x125e14650> (195 of 811)"
       ]
      },
      {
       "output_type": "stream",
       "stream": "stdout",
       "text": [
        "\r",
        "Creating importer for <pybug.io.image.PILImporter object at 0x1286dd3d0> (196 of 811)"
       ]
      },
      {
       "output_type": "stream",
       "stream": "stdout",
       "text": [
        "\r",
        "Creating importer for <pybug.io.image.PILImporter object at 0x1286ddb50> (197 of 811)"
       ]
      },
      {
       "output_type": "stream",
       "stream": "stdout",
       "text": [
        "\r",
        "Creating importer for <pybug.io.image.PILImporter object at 0x1286dd850> (198 of 811)"
       ]
      },
      {
       "output_type": "stream",
       "stream": "stdout",
       "text": [
        "\r",
        "Creating importer for <pybug.io.image.PILImporter object at 0x1286ddd90> (199 of 811)"
       ]
      },
      {
       "output_type": "stream",
       "stream": "stdout",
       "text": [
        "\r",
        "Creating importer for <pybug.io.image.PILImporter object at 0x1286dd310> (200 of 811)"
       ]
      },
      {
       "output_type": "stream",
       "stream": "stdout",
       "text": [
        "\r",
        "Creating importer for <pybug.io.image.PILImporter object at 0x1286dd0d0> (201 of 811)"
       ]
      },
      {
       "output_type": "stream",
       "stream": "stdout",
       "text": [
        "\r",
        "Creating importer for <pybug.io.image.PILImporter object at 0x1286dd910> (202 of 811)"
       ]
      },
      {
       "output_type": "stream",
       "stream": "stdout",
       "text": [
        "\r",
        "Creating importer for <pybug.io.image.PILImporter object at 0x1286dd9d0> (203 of 811)"
       ]
      },
      {
       "output_type": "stream",
       "stream": "stdout",
       "text": [
        "\r",
        "Creating importer for <pybug.io.image.PILImporter object at 0x1286dd550> (204 of 811)"
       ]
      },
      {
       "output_type": "stream",
       "stream": "stdout",
       "text": [
        "\r",
        "Creating importer for <pybug.io.image.PILImporter object at 0x1286dd190> (205 of 811)"
       ]
      },
      {
       "output_type": "stream",
       "stream": "stdout",
       "text": [
        "\r",
        "Creating importer for <pybug.io.image.PILImporter object at 0x125e01dd0> (206 of 811)"
       ]
      },
      {
       "output_type": "stream",
       "stream": "stdout",
       "text": [
        "\r",
        "Creating importer for <pybug.io.image.PILImporter object at 0x125e011d0> (207 of 811)"
       ]
      },
      {
       "output_type": "stream",
       "stream": "stdout",
       "text": [
        "\r",
        "Creating importer for <pybug.io.image.PILImporter object at 0x125e01650> (208 of 811)"
       ]
      },
      {
       "output_type": "stream",
       "stream": "stdout",
       "text": [
        "\r",
        "Creating importer for <pybug.io.image.PILImporter object at 0x125e01f50> (209 of 811)"
       ]
      },
      {
       "output_type": "stream",
       "stream": "stdout",
       "text": [
        "\r",
        "Creating importer for <pybug.io.image.PILImporter object at 0x125e01ad0> (210 of 811)"
       ]
      },
      {
       "output_type": "stream",
       "stream": "stdout",
       "text": [
        "\r",
        "Creating importer for <pybug.io.image.PILImporter object at 0x125e01410> (211 of 811)"
       ]
      },
      {
       "output_type": "stream",
       "stream": "stdout",
       "text": [
        "\r",
        "Creating importer for <pybug.io.image.PILImporter object at 0x125e01c50> (212 of 811)"
       ]
      },
      {
       "output_type": "stream",
       "stream": "stdout",
       "text": [
        "\r",
        "Creating importer for <pybug.io.image.PILImporter object at 0x125e01350> (213 of 811)"
       ]
      },
      {
       "output_type": "stream",
       "stream": "stdout",
       "text": [
        "\r",
        "Creating importer for <pybug.io.image.PILImporter object at 0x128727790> (214 of 811)"
       ]
      },
      {
       "output_type": "stream",
       "stream": "stdout",
       "text": [
        "\r",
        "Creating importer for <pybug.io.image.PILImporter object at 0x128727b50> (215 of 811)"
       ]
      },
      {
       "output_type": "stream",
       "stream": "stdout",
       "text": [
        "\r",
        "Creating importer for <pybug.io.image.PILImporter object at 0x128727c10> (216 of 811)"
       ]
      },
      {
       "output_type": "stream",
       "stream": "stdout",
       "text": [
        "\r",
        "Creating importer for <pybug.io.image.PILImporter object at 0x1287270d0> (217 of 811)"
       ]
      },
      {
       "output_type": "stream",
       "stream": "stdout",
       "text": [
        "\r",
        "Creating importer for <pybug.io.image.PILImporter object at 0x128727a90> (218 of 811)"
       ]
      },
      {
       "output_type": "stream",
       "stream": "stdout",
       "text": [
        "\r",
        "Creating importer for <pybug.io.image.PILImporter object at 0x128727e50> (219 of 811)"
       ]
      },
      {
       "output_type": "stream",
       "stream": "stdout",
       "text": [
        "\r",
        "Creating importer for <pybug.io.image.PILImporter object at 0x128727610> (220 of 811)"
       ]
      },
      {
       "output_type": "stream",
       "stream": "stdout",
       "text": [
        "\r",
        "Creating importer for <pybug.io.image.PILImporter object at 0x128727d90> (221 of 811)"
       ]
      },
      {
       "output_type": "stream",
       "stream": "stdout",
       "text": [
        "\r",
        "Creating importer for <pybug.io.image.PILImporter object at 0x128727fd0> (222 of 811)"
       ]
      },
      {
       "output_type": "stream",
       "stream": "stdout",
       "text": [
        "\r",
        "Creating importer for <pybug.io.image.PILImporter object at 0x128727250> (223 of 811)"
       ]
      },
      {
       "output_type": "stream",
       "stream": "stdout",
       "text": [
        "\r",
        "Creating importer for <pybug.io.image.PILImporter object at 0x1287276d0> (224 of 811)"
       ]
      },
      {
       "output_type": "stream",
       "stream": "stdout",
       "text": [
        "\r",
        "Creating importer for <pybug.io.image.PILImporter object at 0x128727190> (225 of 811)"
       ]
      },
      {
       "output_type": "stream",
       "stream": "stdout",
       "text": [
        "\r",
        "Creating importer for <pybug.io.image.PILImporter object at 0x1263901d0> (226 of 811)"
       ]
      },
      {
       "output_type": "stream",
       "stream": "stdout",
       "text": [
        "\r",
        "Creating importer for <pybug.io.image.PILImporter object at 0x126390ad0> (227 of 811)"
       ]
      },
      {
       "output_type": "stream",
       "stream": "stdout",
       "text": [
        "\r",
        "Creating importer for <pybug.io.image.PILImporter object at 0x126390650> (228 of 811)"
       ]
      },
      {
       "output_type": "stream",
       "stream": "stdout",
       "text": [
        "\r",
        "Creating importer for <pybug.io.image.PILImporter object at 0x1263907d0> (229 of 811)"
       ]
      },
      {
       "output_type": "stream",
       "stream": "stdout",
       "text": [
        "\r",
        "Creating importer for <pybug.io.image.PILImporter object at 0x126390e90> (230 of 811)"
       ]
      },
      {
       "output_type": "stream",
       "stream": "stdout",
       "text": [
        "\r",
        "Creating importer for <pybug.io.image.PILImporter object at 0x126390290> (231 of 811)"
       ]
      },
      {
       "output_type": "stream",
       "stream": "stdout",
       "text": [
        "\r",
        "Creating importer for <pybug.io.image.PILImporter object at 0x128c55b50> (232 of 811)"
       ]
      },
      {
       "output_type": "stream",
       "stream": "stdout",
       "text": [
        "\r",
        "Creating importer for <pybug.io.image.PILImporter object at 0x128c55fd0> (233 of 811)"
       ]
      },
      {
       "output_type": "stream",
       "stream": "stdout",
       "text": [
        "\r",
        "Creating importer for <pybug.io.image.PILImporter object at 0x128c556d0> (234 of 811)"
       ]
      },
      {
       "output_type": "stream",
       "stream": "stdout",
       "text": [
        "\r",
        "Creating importer for <pybug.io.image.PILImporter object at 0x128c55e50> (235 of 811)"
       ]
      },
      {
       "output_type": "stream",
       "stream": "stdout",
       "text": [
        "\r",
        "Creating importer for <pybug.io.image.PILImporter object at 0x128c553d0> (236 of 811)"
       ]
      },
      {
       "output_type": "stream",
       "stream": "stdout",
       "text": [
        "\r",
        "Creating importer for <pybug.io.image.PILImporter object at 0x128c55f10> (237 of 811)"
       ]
      },
      {
       "output_type": "stream",
       "stream": "stdout",
       "text": [
        "\r",
        "Creating importer for <pybug.io.image.PILImporter object at 0x128c55850> (238 of 811)"
       ]
      },
      {
       "output_type": "stream",
       "stream": "stdout",
       "text": [
        "\r",
        "Creating importer for <pybug.io.image.PILImporter object at 0x128c55cd0> (239 of 811)"
       ]
      },
      {
       "output_type": "stream",
       "stream": "stdout",
       "text": [
        "\r",
        "Creating importer for <pybug.io.image.PILImporter object at 0x128c55250> (240 of 811)"
       ]
      },
      {
       "output_type": "stream",
       "stream": "stdout",
       "text": [
        "\r",
        "Creating importer for <pybug.io.image.PILImporter object at 0x128c55310> (241 of 811)"
       ]
      },
      {
       "output_type": "stream",
       "stream": "stdout",
       "text": [
        "\r",
        "Creating importer for <pybug.io.image.PILImporter object at 0x12753c650> (242 of 811)"
       ]
      },
      {
       "output_type": "stream",
       "stream": "stdout",
       "text": [
        "\r",
        "Creating importer for <pybug.io.image.PILImporter object at 0x12753c410> (243 of 811)"
       ]
      },
      {
       "output_type": "stream",
       "stream": "stdout",
       "text": [
        "\r",
        "Creating importer for <pybug.io.image.PILImporter object at 0x12753cad0> (244 of 811)"
       ]
      },
      {
       "output_type": "stream",
       "stream": "stdout",
       "text": [
        "\r",
        "Creating importer for <pybug.io.image.PILImporter object at 0x12753cd10> (245 of 811)"
       ]
      },
      {
       "output_type": "stream",
       "stream": "stdout",
       "text": [
        "\r",
        "Creating importer for <pybug.io.image.PILImporter object at 0x12753c950> (246 of 811)"
       ]
      },
      {
       "output_type": "stream",
       "stream": "stdout",
       "text": [
        "\r",
        "Creating importer for <pybug.io.image.PILImporter object at 0x12753c110> (247 of 811)"
       ]
      },
      {
       "output_type": "stream",
       "stream": "stdout",
       "text": [
        "\r",
        "Creating importer for <pybug.io.image.PILImporter object at 0x12753ce90> (248 of 811)"
       ]
      },
      {
       "output_type": "stream",
       "stream": "stdout",
       "text": [
        "\r",
        "Creating importer for <pybug.io.image.PILImporter object at 0x12753c7d0> (249 of 811)"
       ]
      },
      {
       "output_type": "stream",
       "stream": "stdout",
       "text": [
        "\r",
        "Creating importer for <pybug.io.image.PILImporter object at 0x12753c350> (250 of 811)"
       ]
      },
      {
       "output_type": "stream",
       "stream": "stdout",
       "text": [
        "\r",
        "Creating importer for <pybug.io.image.PILImporter object at 0x12753cdd0> (251 of 811)"
       ]
      },
      {
       "output_type": "stream",
       "stream": "stdout",
       "text": [
        "\r",
        "Creating importer for <pybug.io.image.PILImporter object at 0x127563050> (252 of 811)"
       ]
      },
      {
       "output_type": "stream",
       "stream": "stdout",
       "text": [
        "\r",
        "Creating importer for <pybug.io.image.PILImporter object at 0x127563650> (253 of 811)"
       ]
      },
      {
       "output_type": "stream",
       "stream": "stdout",
       "text": [
        "\r",
        "Creating importer for <pybug.io.image.PILImporter object at 0x1275631d0> (254 of 811)"
       ]
      },
      {
       "output_type": "stream",
       "stream": "stdout",
       "text": [
        "\r",
        "Creating importer for <pybug.io.image.PILImporter object at 0x127563290> (255 of 811)"
       ]
      },
      {
       "output_type": "stream",
       "stream": "stdout",
       "text": [
        "\r",
        "Creating importer for <pybug.io.image.PILImporter object at 0x127563d10> (256 of 811)"
       ]
      },
      {
       "output_type": "stream",
       "stream": "stdout",
       "text": [
        "\r",
        "Creating importer for <pybug.io.image.PILImporter object at 0x1275634d0> (257 of 811)"
       ]
      },
      {
       "output_type": "stream",
       "stream": "stdout",
       "text": [
        "\r",
        "Creating importer for <pybug.io.image.PILImporter object at 0x127563e90> (258 of 811)"
       ]
      },
      {
       "output_type": "stream",
       "stream": "stdout",
       "text": [
        "\r",
        "Creating importer for <pybug.io.image.PILImporter object at 0x127563a10> (259 of 811)"
       ]
      },
      {
       "output_type": "stream",
       "stream": "stdout",
       "text": [
        "\r",
        "Creating importer for <pybug.io.image.PILImporter object at 0x127563590> (260 of 811)"
       ]
      },
      {
       "output_type": "stream",
       "stream": "stdout",
       "text": [
        "\r",
        "Creating importer for <pybug.io.image.PILImporter object at 0x126ba8650> (261 of 811)"
       ]
      },
      {
       "output_type": "stream",
       "stream": "stdout",
       "text": [
        "\r",
        "Creating importer for <pybug.io.image.PILImporter object at 0x126ba8290> (262 of 811)"
       ]
      },
      {
       "output_type": "stream",
       "stream": "stdout",
       "text": [
        "\r",
        "Creating importer for <pybug.io.image.PILImporter object at 0x126ba8b90> (263 of 811)"
       ]
      },
      {
       "output_type": "stream",
       "stream": "stdout",
       "text": [
        "\r",
        "Creating importer for <pybug.io.image.PILImporter object at 0x126ba8950> (264 of 811)"
       ]
      },
      {
       "output_type": "stream",
       "stream": "stdout",
       "text": [
        "\r",
        "Creating importer for <pybug.io.image.PILImporter object at 0x126ba8ad0> (265 of 811)"
       ]
      },
      {
       "output_type": "stream",
       "stream": "stdout",
       "text": [
        "\r",
        "Creating importer for <pybug.io.image.PILImporter object at 0x126ba8f50> (266 of 811)"
       ]
      },
      {
       "output_type": "stream",
       "stream": "stdout",
       "text": [
        "\r",
        "Creating importer for <pybug.io.image.PILImporter object at 0x126ba8710> (267 of 811)"
       ]
      },
      {
       "output_type": "stream",
       "stream": "stdout",
       "text": [
        "\r",
        "Creating importer for <pybug.io.image.PILImporter object at 0x126ba81d0> (268 of 811)"
       ]
      },
      {
       "output_type": "stream",
       "stream": "stdout",
       "text": [
        "\r",
        "Creating importer for <pybug.io.image.PILImporter object at 0x1263701d0> (269 of 811)"
       ]
      },
      {
       "output_type": "stream",
       "stream": "stdout",
       "text": [
        "\r",
        "Creating importer for <pybug.io.image.PILImporter object at 0x126370d10> (270 of 811)"
       ]
      },
      {
       "output_type": "stream",
       "stream": "stdout",
       "text": [
        "\r",
        "Creating importer for <pybug.io.image.PILImporter object at 0x126370890> (271 of 811)"
       ]
      },
      {
       "output_type": "stream",
       "stream": "stdout",
       "text": [
        "\r",
        "Creating importer for <pybug.io.image.PILImporter object at 0x126370410> (272 of 811)"
       ]
      },
      {
       "output_type": "stream",
       "stream": "stdout",
       "text": [
        "\r",
        "Creating importer for <pybug.io.image.PILImporter object at 0x126370f50> (273 of 811)"
       ]
      },
      {
       "output_type": "stream",
       "stream": "stdout",
       "text": [
        "\r",
        "Creating importer for <pybug.io.image.PILImporter object at 0x126370110> (274 of 811)"
       ]
      },
      {
       "output_type": "stream",
       "stream": "stdout",
       "text": [
        "\r",
        "Creating importer for <pybug.io.image.PILImporter object at 0x126370710> (275 of 811)"
       ]
      },
      {
       "output_type": "stream",
       "stream": "stdout",
       "text": [
        "\r",
        "Creating importer for <pybug.io.image.PILImporter object at 0x126370c50> (276 of 811)"
       ]
      },
      {
       "output_type": "stream",
       "stream": "stdout",
       "text": [
        "\r",
        "Creating importer for <pybug.io.image.PILImporter object at 0x1263707d0> (277 of 811)"
       ]
      },
      {
       "output_type": "stream",
       "stream": "stdout",
       "text": [
        "\r",
        "Creating importer for <pybug.io.image.PILImporter object at 0x126b75ad0> (278 of 811)"
       ]
      },
      {
       "output_type": "stream",
       "stream": "stdout",
       "text": [
        "\r",
        "Creating importer for <pybug.io.image.PILImporter object at 0x126b754d0> (279 of 811)"
       ]
      },
      {
       "output_type": "stream",
       "stream": "stdout",
       "text": [
        "\r",
        "Creating importer for <pybug.io.image.PILImporter object at 0x126b75290> (280 of 811)"
       ]
      },
      {
       "output_type": "stream",
       "stream": "stdout",
       "text": [
        "\r",
        "Creating importer for <pybug.io.image.PILImporter object at 0x126b75c50> (281 of 811)"
       ]
      },
      {
       "output_type": "stream",
       "stream": "stdout",
       "text": [
        "\r",
        "Creating importer for <pybug.io.image.PILImporter object at 0x126b75590> (282 of 811)"
       ]
      },
      {
       "output_type": "stream",
       "stream": "stdout",
       "text": [
        "\r",
        "Creating importer for <pybug.io.image.PILImporter object at 0x126b7be90> (283 of 811)"
       ]
      },
      {
       "output_type": "stream",
       "stream": "stdout",
       "text": [
        "\r",
        "Creating importer for <pybug.io.image.PILImporter object at 0x126b7b350> (284 of 811)"
       ]
      },
      {
       "output_type": "stream",
       "stream": "stdout",
       "text": [
        "\r",
        "Creating importer for <pybug.io.image.PILImporter object at 0x126b7b410> (285 of 811)"
       ]
      },
      {
       "output_type": "stream",
       "stream": "stdout",
       "text": [
        "\r",
        "Creating importer for <pybug.io.image.PILImporter object at 0x126b7bd10> (286 of 811)"
       ]
      },
      {
       "output_type": "stream",
       "stream": "stdout",
       "text": [
        "\r",
        "Creating importer for <pybug.io.image.PILImporter object at 0x126b7b890> (287 of 811)"
       ]
      },
      {
       "output_type": "stream",
       "stream": "stdout",
       "text": [
        "\r",
        "Creating importer for <pybug.io.image.PILImporter object at 0x126b7bb90> (288 of 811)"
       ]
      },
      {
       "output_type": "stream",
       "stream": "stdout",
       "text": [
        "\r",
        "Creating importer for <pybug.io.image.PILImporter object at 0x126b7b1d0> (289 of 811)"
       ]
      },
      {
       "output_type": "stream",
       "stream": "stdout",
       "text": [
        "\r",
        "Creating importer for <pybug.io.image.PILImporter object at 0x126b7b590> (290 of 811)"
       ]
      },
      {
       "output_type": "stream",
       "stream": "stdout",
       "text": [
        "\r",
        "Creating importer for <pybug.io.image.PILImporter object at 0x126b7ba10> (291 of 811)"
       ]
      },
      {
       "output_type": "stream",
       "stream": "stdout",
       "text": [
        "\r",
        "Creating importer for <pybug.io.image.PILImporter object at 0x126fdde90> (292 of 811)"
       ]
      },
      {
       "output_type": "stream",
       "stream": "stdout",
       "text": [
        "\r",
        "Creating importer for <pybug.io.image.PILImporter object at 0x126fddc50> (293 of 811)"
       ]
      },
      {
       "output_type": "stream",
       "stream": "stdout",
       "text": [
        "\r",
        "Creating importer for <pybug.io.image.PILImporter object at 0x126fdd7d0> (294 of 811)"
       ]
      },
      {
       "output_type": "stream",
       "stream": "stdout",
       "text": [
        "\r",
        "Creating importer for <pybug.io.image.PILImporter object at 0x126fdd290> (295 of 811)"
       ]
      },
      {
       "output_type": "stream",
       "stream": "stdout",
       "text": [
        "\r",
        "Creating importer for <pybug.io.image.PILImporter object at 0x126fdd710> (296 of 811)"
       ]
      },
      {
       "output_type": "stream",
       "stream": "stdout",
       "text": [
        "\r",
        "Creating importer for <pybug.io.image.PILImporter object at 0x126fdd110> (297 of 811)"
       ]
      },
      {
       "output_type": "stream",
       "stream": "stdout",
       "text": [
        "\r",
        "Creating importer for <pybug.io.image.PILImporter object at 0x126fdd950> (298 of 811)"
       ]
      },
      {
       "output_type": "stream",
       "stream": "stdout",
       "text": [
        "\r",
        "Creating importer for <pybug.io.image.PILImporter object at 0x126fdd410> (299 of 811)"
       ]
      },
      {
       "output_type": "stream",
       "stream": "stdout",
       "text": [
        "\r",
        "Creating importer for <pybug.io.image.PILImporter object at 0x126fddf50> (300 of 811)"
       ]
      },
      {
       "output_type": "stream",
       "stream": "stdout",
       "text": [
        "\r",
        "Creating importer for <pybug.io.image.PILImporter object at 0x127024110> (301 of 811)"
       ]
      },
      {
       "output_type": "stream",
       "stream": "stdout",
       "text": [
        "\r",
        "Creating importer for <pybug.io.image.PILImporter object at 0x1270247d0> (302 of 811)"
       ]
      },
      {
       "output_type": "stream",
       "stream": "stdout",
       "text": [
        "\r",
        "Creating importer for <pybug.io.image.PILImporter object at 0x127024710> (303 of 811)"
       ]
      },
      {
       "output_type": "stream",
       "stream": "stdout",
       "text": [
        "\r",
        "Creating importer for <pybug.io.image.PILImporter object at 0x127024290> (304 of 811)"
       ]
      },
      {
       "output_type": "stream",
       "stream": "stdout",
       "text": [
        "\r",
        "Creating importer for <pybug.io.image.PILImporter object at 0x127024ad0> (305 of 811)"
       ]
      },
      {
       "output_type": "stream",
       "stream": "stdout",
       "text": [
        "\r",
        "Creating importer for <pybug.io.image.PILImporter object at 0x127024a10> (306 of 811)"
       ]
      },
      {
       "output_type": "stream",
       "stream": "stdout",
       "text": [
        "\r",
        "Creating importer for <pybug.io.image.PILImporter object at 0x127024590> (307 of 811)"
       ]
      },
      {
       "output_type": "stream",
       "stream": "stdout",
       "text": [
        "\r",
        "Creating importer for <pybug.io.image.PILImporter object at 0x127024d10> (308 of 811)"
       ]
      },
      {
       "output_type": "stream",
       "stream": "stdout",
       "text": [
        "\r",
        "Creating importer for <pybug.io.image.PILImporter object at 0x127024e90> (309 of 811)"
       ]
      },
      {
       "output_type": "stream",
       "stream": "stdout",
       "text": [
        "\r",
        "Creating importer for <pybug.io.image.PILImporter object at 0x126feb110> (310 of 811)"
       ]
      },
      {
       "output_type": "stream",
       "stream": "stdout",
       "text": [
        "\r",
        "Creating importer for <pybug.io.image.PILImporter object at 0x126febf50> (311 of 811)"
       ]
      },
      {
       "output_type": "stream",
       "stream": "stdout",
       "text": [
        "\r",
        "Creating importer for <pybug.io.image.PILImporter object at 0x126feb710> (312 of 811)"
       ]
      },
      {
       "output_type": "stream",
       "stream": "stdout",
       "text": [
        "\r",
        "Creating importer for <pybug.io.image.PILImporter object at 0x126febb90> (313 of 811)"
       ]
      },
      {
       "output_type": "stream",
       "stream": "stdout",
       "text": [
        "\r",
        "Creating importer for <pybug.io.image.PILImporter object at 0x126feb290> (314 of 811)"
       ]
      },
      {
       "output_type": "stream",
       "stream": "stdout",
       "text": [
        "\r",
        "Creating importer for <pybug.io.image.PILImporter object at 0x126feb590> (315 of 811)"
       ]
      },
      {
       "output_type": "stream",
       "stream": "stdout",
       "text": [
        "\r",
        "Creating importer for <pybug.io.image.PILImporter object at 0x126feba10> (316 of 811)"
       ]
      },
      {
       "output_type": "stream",
       "stream": "stdout",
       "text": [
        "\r",
        "Creating importer for <pybug.io.image.PILImporter object at 0x126feb410> (317 of 811)"
       ]
      },
      {
       "output_type": "stream",
       "stream": "stdout",
       "text": [
        "\r",
        "Creating importer for <pybug.io.image.PILImporter object at 0x1263a3cd0> (318 of 811)"
       ]
      },
      {
       "output_type": "stream",
       "stream": "stdout",
       "text": [
        "\r",
        "Creating importer for <pybug.io.image.PILImporter object at 0x1263a3d10> (319 of 811)"
       ]
      },
      {
       "output_type": "stream",
       "stream": "stdout",
       "text": [
        "\r",
        "Creating importer for <pybug.io.image.PILImporter object at 0x1263a3d50> (320 of 811)"
       ]
      },
      {
       "output_type": "stream",
       "stream": "stdout",
       "text": [
        "\r",
        "Creating importer for <pybug.io.image.PILImporter object at 0x1263a3d90> (321 of 811)"
       ]
      },
      {
       "output_type": "stream",
       "stream": "stdout",
       "text": [
        "\r",
        "Creating importer for <pybug.io.image.PILImporter object at 0x1263a3290> (322 of 811)"
       ]
      },
      {
       "output_type": "stream",
       "stream": "stdout",
       "text": [
        "\r",
        "Creating importer for <pybug.io.image.PILImporter object at 0x1263a3710> (323 of 811)"
       ]
      },
      {
       "output_type": "stream",
       "stream": "stdout",
       "text": [
        "\r",
        "Creating importer for <pybug.io.image.PILImporter object at 0x1263a3110> (324 of 811)"
       ]
      },
      {
       "output_type": "stream",
       "stream": "stdout",
       "text": [
        "\r",
        "Creating importer for <pybug.io.image.PILImporter object at 0x1263a3950> (325 of 811)"
       ]
      },
      {
       "output_type": "stream",
       "stream": "stdout",
       "text": [
        "\r",
        "Creating importer for <pybug.io.image.PILImporter object at 0x1263a3410> (326 of 811)"
       ]
      },
      {
       "output_type": "stream",
       "stream": "stdout",
       "text": [
        "\r",
        "Creating importer for <pybug.io.image.PILImporter object at 0x1263a3b90> (327 of 811)"
       ]
      },
      {
       "output_type": "stream",
       "stream": "stdout",
       "text": [
        "\r",
        "Creating importer for <pybug.io.image.PILImporter object at 0x128c5ce50> (328 of 811)"
       ]
      },
      {
       "output_type": "stream",
       "stream": "stdout",
       "text": [
        "\r",
        "Creating importer for <pybug.io.image.PILImporter object at 0x128c5ca90> (329 of 811)"
       ]
      },
      {
       "output_type": "stream",
       "stream": "stdout",
       "text": [
        "\r",
        "Creating importer for <pybug.io.image.PILImporter object at 0x128c5c850> (330 of 811)"
       ]
      },
      {
       "output_type": "stream",
       "stream": "stdout",
       "text": [
        "\r",
        "Creating importer for <pybug.io.image.PILImporter object at 0x128c5c3d0> (331 of 811)"
       ]
      },
      {
       "output_type": "stream",
       "stream": "stdout",
       "text": [
        "\r",
        "Creating importer for <pybug.io.image.PILImporter object at 0x128c5c6d0> (332 of 811)"
       ]
      },
      {
       "output_type": "stream",
       "stream": "stdout",
       "text": [
        "\r",
        "Creating importer for <pybug.io.image.PILImporter object at 0x128c5c190> (333 of 811)"
       ]
      },
      {
       "output_type": "stream",
       "stream": "stdout",
       "text": [
        "\r",
        "Creating importer for <pybug.io.image.PILImporter object at 0x128c5ccd0> (334 of 811)"
       ]
      },
      {
       "output_type": "stream",
       "stream": "stdout",
       "text": [
        "\r",
        "Creating importer for <pybug.io.image.PILImporter object at 0x128c5c790> (335 of 811)"
       ]
      },
      {
       "output_type": "stream",
       "stream": "stdout",
       "text": [
        "\r",
        "Creating importer for <pybug.io.image.PILImporter object at 0x128c5c610> (336 of 811)"
       ]
      },
      {
       "output_type": "stream",
       "stream": "stdout",
       "text": [
        "\r",
        "Creating importer for <pybug.io.image.PILImporter object at 0x128c5cfd0> (337 of 811)"
       ]
      },
      {
       "output_type": "stream",
       "stream": "stdout",
       "text": [
        "\r",
        "Creating importer for <pybug.io.image.PILImporter object at 0x128c5c490> (338 of 811)"
       ]
      },
      {
       "output_type": "stream",
       "stream": "stdout",
       "text": [
        "\r",
        "Creating importer for <pybug.io.image.PILImporter object at 0x128c5c310> (339 of 811)"
       ]
      },
      {
       "output_type": "stream",
       "stream": "stdout",
       "text": [
        "\r",
        "Creating importer for <pybug.io.image.PILImporter object at 0x128c5cc10> (340 of 811)"
       ]
      },
      {
       "output_type": "stream",
       "stream": "stdout",
       "text": [
        "\r",
        "Creating importer for <pybug.io.image.PILImporter object at 0x12635dd10> (341 of 811)"
       ]
      },
      {
       "output_type": "stream",
       "stream": "stdout",
       "text": [
        "\r",
        "Creating importer for <pybug.io.image.PILImporter object at 0x12635d110> (342 of 811)"
       ]
      },
      {
       "output_type": "stream",
       "stream": "stdout",
       "text": [
        "\r",
        "Creating importer for <pybug.io.image.PILImporter object at 0x12635d950> (343 of 811)"
       ]
      },
      {
       "output_type": "stream",
       "stream": "stdout",
       "text": [
        "\r",
        "Creating importer for <pybug.io.image.PILImporter object at 0x12635d410> (344 of 811)"
       ]
      },
      {
       "output_type": "stream",
       "stream": "stdout",
       "text": [
        "\r",
        "Creating importer for <pybug.io.image.PILImporter object at 0x12635db90> (345 of 811)"
       ]
      },
      {
       "output_type": "stream",
       "stream": "stdout",
       "text": [
        "\r",
        "Creating importer for <pybug.io.image.PILImporter object at 0x12635d650> (346 of 811)"
       ]
      },
      {
       "output_type": "stream",
       "stream": "stdout",
       "text": [
        "\r",
        "Creating importer for <pybug.io.image.PILImporter object at 0x12635d290> (347 of 811)"
       ]
      },
      {
       "output_type": "stream",
       "stream": "stdout",
       "text": [
        "\r",
        "Creating importer for <pybug.io.image.PILImporter object at 0x12635dc50> (348 of 811)"
       ]
      },
      {
       "output_type": "stream",
       "stream": "stdout",
       "text": [
        "\r",
        "Creating importer for <pybug.io.image.PILImporter object at 0x12635d7d0> (349 of 811)"
       ]
      },
      {
       "output_type": "stream",
       "stream": "stdout",
       "text": [
        "\r",
        "Creating importer for <pybug.io.image.PILImporter object at 0x12635d710> (350 of 811)"
       ]
      },
      {
       "output_type": "stream",
       "stream": "stdout",
       "text": [
        "\r",
        "Creating importer for <pybug.io.image.PILImporter object at 0x128c62cd0> (351 of 811)"
       ]
      },
      {
       "output_type": "stream",
       "stream": "stdout",
       "text": [
        "\r",
        "Creating importer for <pybug.io.image.PILImporter object at 0x128c623d0> (352 of 811)"
       ]
      },
      {
       "output_type": "stream",
       "stream": "stdout",
       "text": [
        "\r",
        "Creating importer for <pybug.io.image.PILImporter object at 0x128c62850> (353 of 811)"
       ]
      },
      {
       "output_type": "stream",
       "stream": "stdout",
       "text": [
        "\r",
        "Creating importer for <pybug.io.image.PILImporter object at 0x128c62e50> (354 of 811)"
       ]
      },
      {
       "output_type": "stream",
       "stream": "stdout",
       "text": [
        "\r",
        "Creating importer for <pybug.io.image.PILImporter object at 0x128c62910> (355 of 811)"
       ]
      },
      {
       "output_type": "stream",
       "stream": "stdout",
       "text": [
        "\r",
        "Creating importer for <pybug.io.image.PILImporter object at 0x128c62310> (356 of 811)"
       ]
      },
      {
       "output_type": "stream",
       "stream": "stdout",
       "text": [
        "\r",
        "Creating importer for <pybug.io.image.PILImporter object at 0x128c62b50> (357 of 811)"
       ]
      },
      {
       "output_type": "stream",
       "stream": "stdout",
       "text": [
        "\r",
        "Creating importer for <pybug.io.image.PILImporter object at 0x128c62f10> (358 of 811)"
       ]
      },
      {
       "output_type": "stream",
       "stream": "stdout",
       "text": [
        "\r",
        "Creating importer for <pybug.io.image.PILImporter object at 0x128c62fd0> (359 of 811)"
       ]
      },
      {
       "output_type": "stream",
       "stream": "stdout",
       "text": [
        "\r",
        "Creating importer for <pybug.io.image.PILImporter object at 0x126b89950> (360 of 811)"
       ]
      },
      {
       "output_type": "stream",
       "stream": "stdout",
       "text": [
        "\r",
        "Creating importer for <pybug.io.image.PILImporter object at 0x126b89290> (361 of 811)"
       ]
      },
      {
       "output_type": "stream",
       "stream": "stdout",
       "text": [
        "\r",
        "Creating importer for <pybug.io.image.PILImporter object at 0x126b89710> (362 of 811)"
       ]
      },
      {
       "output_type": "stream",
       "stream": "stdout",
       "text": [
        "\r",
        "Creating importer for <pybug.io.image.PILImporter object at 0x126b89c50> (363 of 811)"
       ]
      },
      {
       "output_type": "stream",
       "stream": "stdout",
       "text": [
        "\r",
        "Creating importer for <pybug.io.image.PILImporter object at 0x126b89410> (364 of 811)"
       ]
      },
      {
       "output_type": "stream",
       "stream": "stdout",
       "text": [
        "\r",
        "Creating importer for <pybug.io.image.PILImporter object at 0x126b89d10> (365 of 811)"
       ]
      },
      {
       "output_type": "stream",
       "stream": "stdout",
       "text": [
        "\r",
        "Creating importer for <pybug.io.image.PILImporter object at 0x126b898d0> (366 of 811)"
       ]
      },
      {
       "output_type": "stream",
       "stream": "stdout",
       "text": [
        "\r",
        "Creating importer for <pybug.io.image.PILImporter object at 0x126b89910> (367 of 811)"
       ]
      },
      {
       "output_type": "stream",
       "stream": "stdout",
       "text": [
        "\r",
        "Creating importer for <pybug.io.image.PILImporter object at 0x126b89890> (368 of 811)"
       ]
      },
      {
       "output_type": "stream",
       "stream": "stdout",
       "text": [
        "\r",
        "Creating importer for <pybug.io.image.PILImporter object at 0x126b89850> (369 of 811)"
       ]
      },
      {
       "output_type": "stream",
       "stream": "stdout",
       "text": [
        "\r",
        "Creating importer for <pybug.io.image.PILImporter object at 0x126b89590> (370 of 811)"
       ]
      },
      {
       "output_type": "stream",
       "stream": "stdout",
       "text": [
        "\r",
        "Creating importer for <pybug.io.image.PILImporter object at 0x126fd6110> (371 of 811)"
       ]
      },
      {
       "output_type": "stream",
       "stream": "stdout",
       "text": [
        "\r",
        "Creating importer for <pybug.io.image.PILImporter object at 0x126fd6ad0> (372 of 811)"
       ]
      },
      {
       "output_type": "stream",
       "stream": "stdout",
       "text": [
        "\r",
        "Creating importer for <pybug.io.image.PILImporter object at 0x126fd6dd0> (373 of 811)"
       ]
      },
      {
       "output_type": "stream",
       "stream": "stdout",
       "text": [
        "\r",
        "Creating importer for <pybug.io.image.PILImporter object at 0x126fd6a10> (374 of 811)"
       ]
      },
      {
       "output_type": "stream",
       "stream": "stdout",
       "text": [
        "\r",
        "Creating importer for <pybug.io.image.PILImporter object at 0x126fd6410> (375 of 811)"
       ]
      },
      {
       "output_type": "stream",
       "stream": "stdout",
       "text": [
        "\r",
        "Creating importer for <pybug.io.image.PILImporter object at 0x126fd67d0> (376 of 811)"
       ]
      },
      {
       "output_type": "stream",
       "stream": "stdout",
       "text": [
        "\r",
        "Creating importer for <pybug.io.image.PILImporter object at 0x126fd6d10> (377 of 811)"
       ]
      },
      {
       "output_type": "stream",
       "stream": "stdout",
       "text": [
        "\r",
        "Creating importer for <pybug.io.image.PILImporter object at 0x126fd6c50> (378 of 811)"
       ]
      },
      {
       "output_type": "stream",
       "stream": "stdout",
       "text": [
        "\r",
        "Creating importer for <pybug.io.image.PILImporter object at 0x126fd6290> (379 of 811)"
       ]
      },
      {
       "output_type": "stream",
       "stream": "stdout",
       "text": [
        "\r",
        "Creating importer for <pybug.io.image.PILImporter object at 0x126fd6950> (380 of 811)"
       ]
      },
      {
       "output_type": "stream",
       "stream": "stdout",
       "text": [
        "\r",
        "Creating importer for <pybug.io.image.PILImporter object at 0x1274fc650> (381 of 811)"
       ]
      },
      {
       "output_type": "stream",
       "stream": "stdout",
       "text": [
        "\r",
        "Creating importer for <pybug.io.image.PILImporter object at 0x1274fce90> (382 of 811)"
       ]
      },
      {
       "output_type": "stream",
       "stream": "stdout",
       "text": [
        "\r",
        "Creating importer for <pybug.io.image.PILImporter object at 0x1274fcd10> (383 of 811)"
       ]
      },
      {
       "output_type": "stream",
       "stream": "stdout",
       "text": [
        "\r",
        "Creating importer for <pybug.io.image.PILImporter object at 0x1274fc350> (384 of 811)"
       ]
      },
      {
       "output_type": "stream",
       "stream": "stdout",
       "text": [
        "\r",
        "Creating importer for <pybug.io.image.PILImporter object at 0x1274fc890> (385 of 811)"
       ]
      },
      {
       "output_type": "stream",
       "stream": "stdout",
       "text": [
        "\r",
        "Creating importer for <pybug.io.image.PILImporter object at 0x1274fc7d0> (386 of 811)"
       ]
      },
      {
       "output_type": "stream",
       "stream": "stdout",
       "text": [
        "\r",
        "Creating importer for <pybug.io.image.PILImporter object at 0x1274fcad0> (387 of 811)"
       ]
      },
      {
       "output_type": "stream",
       "stream": "stdout",
       "text": [
        "\r",
        "Creating importer for <pybug.io.image.PILImporter object at 0x128c69790> (388 of 811)"
       ]
      },
      {
       "output_type": "stream",
       "stream": "stdout",
       "text": [
        "\r",
        "Creating importer for <pybug.io.image.PILImporter object at 0x128c69e50> (389 of 811)"
       ]
      },
      {
       "output_type": "stream",
       "stream": "stdout",
       "text": [
        "\r",
        "Creating importer for <pybug.io.image.PILImporter object at 0x128c69310> (390 of 811)"
       ]
      },
      {
       "output_type": "stream",
       "stream": "stdout",
       "text": [
        "\r",
        "Creating importer for <pybug.io.image.PILImporter object at 0x128c69850> (391 of 811)"
       ]
      },
      {
       "output_type": "stream",
       "stream": "stdout",
       "text": [
        "\r",
        "Creating importer for <pybug.io.image.PILImporter object at 0x128c69c10> (392 of 811)"
       ]
      },
      {
       "output_type": "stream",
       "stream": "stdout",
       "text": [
        "\r",
        "Creating importer for <pybug.io.image.PILImporter object at 0x128c69190> (393 of 811)"
       ]
      },
      {
       "output_type": "stream",
       "stream": "stdout",
       "text": [
        "\r",
        "Creating importer for <pybug.io.image.PILImporter object at 0x128c69610> (394 of 811)"
       ]
      },
      {
       "output_type": "stream",
       "stream": "stdout",
       "text": [
        "\r",
        "Creating importer for <pybug.io.image.PILImporter object at 0x128c69550> (395 of 811)"
       ]
      },
      {
       "output_type": "stream",
       "stream": "stdout",
       "text": [
        "\r",
        "Creating importer for <pybug.io.image.PILImporter object at 0x128c69cd0> (396 of 811)"
       ]
      },
      {
       "output_type": "stream",
       "stream": "stdout",
       "text": [
        "\r",
        "Creating importer for <pybug.io.image.PILImporter object at 0x128c699d0> (397 of 811)"
       ]
      },
      {
       "output_type": "stream",
       "stream": "stdout",
       "text": [
        "\r",
        "Creating importer for <pybug.io.image.PILImporter object at 0x12871ac10> (398 of 811)"
       ]
      },
      {
       "output_type": "stream",
       "stream": "stdout",
       "text": [
        "\r",
        "Creating importer for <pybug.io.image.PILImporter object at 0x12871a3d0> (399 of 811)"
       ]
      },
      {
       "output_type": "stream",
       "stream": "stdout",
       "text": [
        "\r",
        "Creating importer for <pybug.io.image.PILImporter object at 0x12871a610> (400 of 811)"
       ]
      },
      {
       "output_type": "stream",
       "stream": "stdout",
       "text": [
        "\r",
        "Creating importer for <pybug.io.image.PILImporter object at 0x12871a250> (401 of 811)"
       ]
      },
      {
       "output_type": "stream",
       "stream": "stdout",
       "text": [
        "\r",
        "Creating importer for <pybug.io.image.PILImporter object at 0x12871af10> (402 of 811)"
       ]
      },
      {
       "output_type": "stream",
       "stream": "stdout",
       "text": [
        "\r",
        "Creating importer for <pybug.io.image.PILImporter object at 0x12871a790> (403 of 811)"
       ]
      },
      {
       "output_type": "stream",
       "stream": "stdout",
       "text": [
        "\r",
        "Creating importer for <pybug.io.image.PILImporter object at 0x12871aa90> (404 of 811)"
       ]
      },
      {
       "output_type": "stream",
       "stream": "stdout",
       "text": [
        "\r",
        "Creating importer for <pybug.io.image.PILImporter object at 0x128c20910> (405 of 811)"
       ]
      },
      {
       "output_type": "stream",
       "stream": "stdout",
       "text": [
        "\r",
        "Creating importer for <pybug.io.image.PILImporter object at 0x128c206d0> (406 of 811)"
       ]
      },
      {
       "output_type": "stream",
       "stream": "stdout",
       "text": [
        "\r",
        "Creating importer for <pybug.io.image.PILImporter object at 0x128c20250> (407 of 811)"
       ]
      },
      {
       "output_type": "stream",
       "stream": "stdout",
       "text": [
        "\r",
        "Creating importer for <pybug.io.image.PILImporter object at 0x128c20d90> (408 of 811)"
       ]
      },
      {
       "output_type": "stream",
       "stream": "stdout",
       "text": [
        "\r",
        "Creating importer for <pybug.io.image.PILImporter object at 0x128c20cd0> (409 of 811)"
       ]
      },
      {
       "output_type": "stream",
       "stream": "stdout",
       "text": [
        "\r",
        "Creating importer for <pybug.io.image.PILImporter object at 0x128c20850> (410 of 811)"
       ]
      },
      {
       "output_type": "stream",
       "stream": "stdout",
       "text": [
        "\r",
        "Creating importer for <pybug.io.image.PILImporter object at 0x128c20550> (411 of 811)"
       ]
      },
      {
       "output_type": "stream",
       "stream": "stdout",
       "text": [
        "\r",
        "Creating importer for <pybug.io.image.PILImporter object at 0x128c20e50> (412 of 811)"
       ]
      },
      {
       "output_type": "stream",
       "stream": "stdout",
       "text": [
        "\r",
        "Creating importer for <pybug.io.image.PILImporter object at 0x128c209d0> (413 of 811)"
       ]
      },
      {
       "output_type": "stream",
       "stream": "stdout",
       "text": [
        "\r",
        "Creating importer for <pybug.io.image.PILImporter object at 0x128c203d0> (414 of 811)"
       ]
      },
      {
       "output_type": "stream",
       "stream": "stdout",
       "text": [
        "\r",
        "Creating importer for <pybug.io.image.PILImporter object at 0x1282c6d10> (415 of 811)"
       ]
      },
      {
       "output_type": "stream",
       "stream": "stdout",
       "text": [
        "\r",
        "Creating importer for <pybug.io.image.PILImporter object at 0x1282c6350> (416 of 811)"
       ]
      },
      {
       "output_type": "stream",
       "stream": "stdout",
       "text": [
        "\r",
        "Creating importer for <pybug.io.image.PILImporter object at 0x1282c6890> (417 of 811)"
       ]
      },
      {
       "output_type": "stream",
       "stream": "stdout",
       "text": [
        "\r",
        "Creating importer for <pybug.io.image.PILImporter object at 0x1282c6290> (418 of 811)"
       ]
      },
      {
       "output_type": "stream",
       "stream": "stdout",
       "text": [
        "\r",
        "Creating importer for <pybug.io.image.PILImporter object at 0x1282c6f50> (419 of 811)"
       ]
      },
      {
       "output_type": "stream",
       "stream": "stdout",
       "text": [
        "\r",
        "Creating importer for <pybug.io.image.PILImporter object at 0x126337f50> (420 of 811)"
       ]
      },
      {
       "output_type": "stream",
       "stream": "stdout",
       "text": [
        "\r",
        "Creating importer for <pybug.io.image.PILImporter object at 0x126337350> (421 of 811)"
       ]
      },
      {
       "output_type": "stream",
       "stream": "stdout",
       "text": [
        "\r",
        "Creating importer for <pybug.io.image.PILImporter object at 0x126337b90> (422 of 811)"
       ]
      },
      {
       "output_type": "stream",
       "stream": "stdout",
       "text": [
        "\r",
        "Creating importer for <pybug.io.image.PILImporter object at 0x126337410> (423 of 811)"
       ]
      },
      {
       "output_type": "stream",
       "stream": "stdout",
       "text": [
        "\r",
        "Creating importer for <pybug.io.image.PILImporter object at 0x126337890> (424 of 811)"
       ]
      },
      {
       "output_type": "stream",
       "stream": "stdout",
       "text": [
        "\r",
        "Creating importer for <pybug.io.image.PILImporter object at 0x126337710> (425 of 811)"
       ]
      },
      {
       "output_type": "stream",
       "stream": "stdout",
       "text": [
        "\r",
        "Creating importer for <pybug.io.image.PILImporter object at 0x1282cce90> (426 of 811)"
       ]
      },
      {
       "output_type": "stream",
       "stream": "stdout",
       "text": [
        "\r",
        "Creating importer for <pybug.io.image.PILImporter object at 0x1282ccad0> (427 of 811)"
       ]
      },
      {
       "output_type": "stream",
       "stream": "stdout",
       "text": [
        "\r",
        "Creating importer for <pybug.io.image.PILImporter object at 0x1282cc650> (428 of 811)"
       ]
      },
      {
       "output_type": "stream",
       "stream": "stdout",
       "text": [
        "\r",
        "Creating importer for <pybug.io.image.PILImporter object at 0x1282cc1d0> (429 of 811)"
       ]
      },
      {
       "output_type": "stream",
       "stream": "stdout",
       "text": [
        "\r",
        "Creating importer for <pybug.io.image.PILImporter object at 0x1282cc290> (430 of 811)"
       ]
      },
      {
       "output_type": "stream",
       "stream": "stdout",
       "text": [
        "\r",
        "Creating importer for <pybug.io.image.PILImporter object at 0x1282cc7d0> (431 of 811)"
       ]
      },
      {
       "output_type": "stream",
       "stream": "stdout",
       "text": [
        "\r",
        "Creating importer for <pybug.io.image.PILImporter object at 0x1282ccb90> (432 of 811)"
       ]
      },
      {
       "output_type": "stream",
       "stream": "stdout",
       "text": [
        "\r",
        "Creating importer for <pybug.io.image.PILImporter object at 0x1282cca10> (433 of 811)"
       ]
      },
      {
       "output_type": "stream",
       "stream": "stdout",
       "text": [
        "\r",
        "Creating importer for <pybug.io.image.PILImporter object at 0x1282ac410> (434 of 811)"
       ]
      },
      {
       "output_type": "stream",
       "stream": "stdout",
       "text": [
        "\r",
        "Creating importer for <pybug.io.image.PILImporter object at 0x1282ac7d0> (435 of 811)"
       ]
      },
      {
       "output_type": "stream",
       "stream": "stdout",
       "text": [
        "\r",
        "Creating importer for <pybug.io.image.PILImporter object at 0x1282ac290> (436 of 811)"
       ]
      },
      {
       "output_type": "stream",
       "stream": "stdout",
       "text": [
        "\r",
        "Creating importer for <pybug.io.image.PILImporter object at 0x1282ac950> (437 of 811)"
       ]
      },
      {
       "output_type": "stream",
       "stream": "stdout",
       "text": [
        "\r",
        "Creating importer for <pybug.io.image.PILImporter object at 0x1282ace90> (438 of 811)"
       ]
      },
      {
       "output_type": "stream",
       "stream": "stdout",
       "text": [
        "\r",
        "Creating importer for <pybug.io.image.PILImporter object at 0x1282ac110> (439 of 811)"
       ]
      },
      {
       "output_type": "stream",
       "stream": "stdout",
       "text": [
        "\r",
        "Creating importer for <pybug.io.image.PILImporter object at 0x1282ac590> (440 of 811)"
       ]
      },
      {
       "output_type": "stream",
       "stream": "stdout",
       "text": [
        "\r",
        "Creating importer for <pybug.io.image.PILImporter object at 0x1282acf50> (441 of 811)"
       ]
      },
      {
       "output_type": "stream",
       "stream": "stdout",
       "text": [
        "\r",
        "Creating importer for <pybug.io.image.PILImporter object at 0x1263307d0> (442 of 811)"
       ]
      },
      {
       "output_type": "stream",
       "stream": "stdout",
       "text": [
        "\r",
        "Creating importer for <pybug.io.image.PILImporter object at 0x126330110> (443 of 811)"
       ]
      },
      {
       "output_type": "stream",
       "stream": "stdout",
       "text": [
        "\r",
        "Creating importer for <pybug.io.image.PILImporter object at 0x126330590> (444 of 811)"
       ]
      },
      {
       "output_type": "stream",
       "stream": "stdout",
       "text": [
        "\r",
        "Creating importer for <pybug.io.image.PILImporter object at 0x126330d10> (445 of 811)"
       ]
      },
      {
       "output_type": "stream",
       "stream": "stdout",
       "text": [
        "\r",
        "Creating importer for <pybug.io.image.PILImporter object at 0x126330890> (446 of 811)"
       ]
      },
      {
       "output_type": "stream",
       "stream": "stdout",
       "text": [
        "\r",
        "Creating importer for <pybug.io.image.PILImporter object at 0x126330e90> (447 of 811)"
       ]
      },
      {
       "output_type": "stream",
       "stream": "stdout",
       "text": [
        "\r",
        "Creating importer for <pybug.io.image.PILImporter object at 0x126330290> (448 of 811)"
       ]
      },
      {
       "output_type": "stream",
       "stream": "stdout",
       "text": [
        "\r",
        "Creating importer for <pybug.io.image.PILImporter object at 0x127522110> (449 of 811)"
       ]
      },
      {
       "output_type": "stream",
       "stream": "stdout",
       "text": [
        "\r",
        "Creating importer for <pybug.io.image.PILImporter object at 0x127522dd0> (450 of 811)"
       ]
      },
      {
       "output_type": "stream",
       "stream": "stdout",
       "text": [
        "\r",
        "Creating importer for <pybug.io.image.PILImporter object at 0x127522410> (451 of 811)"
       ]
      },
      {
       "output_type": "stream",
       "stream": "stdout",
       "text": [
        "\r",
        "Creating importer for <pybug.io.image.PILImporter object at 0x127522d10> (452 of 811)"
       ]
      },
      {
       "output_type": "stream",
       "stream": "stdout",
       "text": [
        "\r",
        "Creating importer for <pybug.io.image.PILImporter object at 0x1275221d0> (453 of 811)"
       ]
      },
      {
       "output_type": "stream",
       "stream": "stdout",
       "text": [
        "\r",
        "Creating importer for <pybug.io.image.PILImporter object at 0x127522b90> (454 of 811)"
       ]
      },
      {
       "output_type": "stream",
       "stream": "stdout",
       "text": [
        "\r",
        "Creating importer for <pybug.io.image.PILImporter object at 0x127522890> (455 of 811)"
       ]
      },
      {
       "output_type": "stream",
       "stream": "stdout",
       "text": [
        "\r",
        "Creating importer for <pybug.io.image.PILImporter object at 0x1275227d0> (456 of 811)"
       ]
      },
      {
       "output_type": "stream",
       "stream": "stdout",
       "text": [
        "\r",
        "Creating importer for <pybug.io.image.PILImporter object at 0x127522350> (457 of 811)"
       ]
      },
      {
       "output_type": "stream",
       "stream": "stdout",
       "text": [
        "\r",
        "Creating importer for <pybug.io.image.PILImporter object at 0x126ff7410> (458 of 811)"
       ]
      },
      {
       "output_type": "stream",
       "stream": "stdout",
       "text": [
        "\r",
        "Creating importer for <pybug.io.image.PILImporter object at 0x126ff7f50> (459 of 811)"
       ]
      },
      {
       "output_type": "stream",
       "stream": "stdout",
       "text": [
        "\r",
        "Creating importer for <pybug.io.image.PILImporter object at 0x126ff7c50> (460 of 811)"
       ]
      },
      {
       "output_type": "stream",
       "stream": "stdout",
       "text": [
        "\r",
        "Creating importer for <pybug.io.image.PILImporter object at 0x126ff7710> (461 of 811)"
       ]
      },
      {
       "output_type": "stream",
       "stream": "stdout",
       "text": [
        "\r",
        "Creating importer for <pybug.io.image.PILImporter object at 0x126ff7950> (462 of 811)"
       ]
      },
      {
       "output_type": "stream",
       "stream": "stdout",
       "text": [
        "\r",
        "Creating importer for <pybug.io.image.PILImporter object at 0x126ff74d0> (463 of 811)"
       ]
      },
      {
       "output_type": "stream",
       "stream": "stdout",
       "text": [
        "\r",
        "Creating importer for <pybug.io.image.PILImporter object at 0x126ff7e90> (464 of 811)"
       ]
      },
      {
       "output_type": "stream",
       "stream": "stdout",
       "text": [
        "\r",
        "Creating importer for <pybug.io.image.PILImporter object at 0x126ff7050> (465 of 811)"
       ]
      },
      {
       "output_type": "stream",
       "stream": "stdout",
       "text": [
        "\r",
        "Creating importer for <pybug.io.image.PILImporter object at 0x1282a6950> (466 of 811)"
       ]
      },
      {
       "output_type": "stream",
       "stream": "stdout",
       "text": [
        "\r",
        "Creating importer for <pybug.io.image.PILImporter object at 0x1282a6f50> (467 of 811)"
       ]
      },
      {
       "output_type": "stream",
       "stream": "stdout",
       "text": [
        "\r",
        "Creating importer for <pybug.io.image.PILImporter object at 0x1282a6a10> (468 of 811)"
       ]
      },
      {
       "output_type": "stream",
       "stream": "stdout",
       "text": [
        "\r",
        "Creating importer for <pybug.io.image.PILImporter object at 0x1282a6410> (469 of 811)"
       ]
      },
      {
       "output_type": "stream",
       "stream": "stdout",
       "text": [
        "\r",
        "Creating importer for <pybug.io.image.PILImporter object at 0x1282a6110> (470 of 811)"
       ]
      },
      {
       "output_type": "stream",
       "stream": "stdout",
       "text": [
        "\r",
        "Creating importer for <pybug.io.image.PILImporter object at 0x1282a64d0> (471 of 811)"
       ]
      },
      {
       "output_type": "stream",
       "stream": "stdout",
       "text": [
        "\r",
        "Creating importer for <pybug.io.image.PILImporter object at 0x128c1a490> (472 of 811)"
       ]
      },
      {
       "output_type": "stream",
       "stream": "stdout",
       "text": [
        "\r",
        "Creating importer for <pybug.io.image.PILImporter object at 0x128c1a790> (473 of 811)"
       ]
      },
      {
       "output_type": "stream",
       "stream": "stdout",
       "text": [
        "\r",
        "Creating importer for <pybug.io.image.PILImporter object at 0x128c1ac10> (474 of 811)"
       ]
      },
      {
       "output_type": "stream",
       "stream": "stdout",
       "text": [
        "\r",
        "Creating importer for <pybug.io.image.PILImporter object at 0x128c1a550> (475 of 811)"
       ]
      },
      {
       "output_type": "stream",
       "stream": "stdout",
       "text": [
        "\r",
        "Creating importer for <pybug.io.image.PILImporter object at 0x128c1a250> (476 of 811)"
       ]
      },
      {
       "output_type": "stream",
       "stream": "stdout",
       "text": [
        "\r",
        "Creating importer for <pybug.io.image.PILImporter object at 0x128c1a9d0> (477 of 811)"
       ]
      },
      {
       "output_type": "stream",
       "stream": "stdout",
       "text": [
        "\r",
        "Creating importer for <pybug.io.image.PILImporter object at 0x128c1a3d0> (478 of 811)"
       ]
      },
      {
       "output_type": "stream",
       "stream": "stdout",
       "text": [
        "\r",
        "Creating importer for <pybug.io.image.PILImporter object at 0x128c1afd0> (479 of 811)"
       ]
      },
      {
       "output_type": "stream",
       "stream": "stdout",
       "text": [
        "\r",
        "Creating importer for <pybug.io.image.PILImporter object at 0x128c1a610> (480 of 811)"
       ]
      },
      {
       "output_type": "stream",
       "stream": "stdout",
       "text": [
        "\r",
        "Creating importer for <pybug.io.image.PILImporter object at 0x128c1a850> (481 of 811)"
       ]
      },
      {
       "output_type": "stream",
       "stream": "stdout",
       "text": [
        "\r",
        "Creating importer for <pybug.io.image.PILImporter object at 0x128c1a0d0> (482 of 811)"
       ]
      },
      {
       "output_type": "stream",
       "stream": "stdout",
       "text": [
        "\r",
        "Creating importer for <pybug.io.image.PILImporter object at 0x1270044d0> (483 of 811)"
       ]
      },
      {
       "output_type": "stream",
       "stream": "stdout",
       "text": [
        "\r",
        "Creating importer for <pybug.io.image.PILImporter object at 0x127004050> (484 of 811)"
       ]
      },
      {
       "output_type": "stream",
       "stream": "stdout",
       "text": [
        "\r",
        "Creating importer for <pybug.io.image.PILImporter object at 0x127004710> (485 of 811)"
       ]
      },
      {
       "output_type": "stream",
       "stream": "stdout",
       "text": [
        "\r",
        "Creating importer for <pybug.io.image.PILImporter object at 0x1270041d0> (486 of 811)"
       ]
      },
      {
       "output_type": "stream",
       "stream": "stdout",
       "text": [
        "\r",
        "Creating importer for <pybug.io.image.PILImporter object at 0x127004f50> (487 of 811)"
       ]
      },
      {
       "output_type": "stream",
       "stream": "stdout",
       "text": [
        "\r",
        "Creating importer for <pybug.io.image.PILImporter object at 0x1270047d0> (488 of 811)"
       ]
      },
      {
       "output_type": "stream",
       "stream": "stdout",
       "text": [
        "\r",
        "Creating importer for <pybug.io.image.PILImporter object at 0x127004350> (489 of 811)"
       ]
      },
      {
       "output_type": "stream",
       "stream": "stdout",
       "text": [
        "\r",
        "Creating importer for <pybug.io.image.PILImporter object at 0x127004c50> (490 of 811)"
       ]
      },
      {
       "output_type": "stream",
       "stream": "stdout",
       "text": [
        "\r",
        "Creating importer for <pybug.io.image.PILImporter object at 0x1282b2710> (491 of 811)"
       ]
      },
      {
       "output_type": "stream",
       "stream": "stdout",
       "text": [
        "\r",
        "Creating importer for <pybug.io.image.PILImporter object at 0x1282b2590> (492 of 811)"
       ]
      },
      {
       "output_type": "stream",
       "stream": "stdout",
       "text": [
        "\r",
        "Creating importer for <pybug.io.image.PILImporter object at 0x1282b2a10> (493 of 811)"
       ]
      },
      {
       "output_type": "stream",
       "stream": "stdout",
       "text": [
        "\r",
        "Creating importer for <pybug.io.image.PILImporter object at 0x1282b2650> (494 of 811)"
       ]
      },
      {
       "output_type": "stream",
       "stream": "stdout",
       "text": [
        "\r",
        "Creating importer for <pybug.io.image.PILImporter object at 0x1282b24d0> (495 of 811)"
       ]
      },
      {
       "output_type": "stream",
       "stream": "stdout",
       "text": [
        "\r",
        "Creating importer for <pybug.io.image.PILImporter object at 0x1282b21d0> (496 of 811)"
       ]
      },
      {
       "output_type": "stream",
       "stream": "stdout",
       "text": [
        "\r",
        "Creating importer for <pybug.io.image.PILImporter object at 0x1282b2ad0> (497 of 811)"
       ]
      },
      {
       "output_type": "stream",
       "stream": "stdout",
       "text": [
        "\r",
        "Creating importer for <pybug.io.image.PILImporter object at 0x1282b2950> (498 of 811)"
       ]
      },
      {
       "output_type": "stream",
       "stream": "stdout",
       "text": [
        "\r",
        "Creating importer for <pybug.io.image.PILImporter object at 0x10f99be90> (499 of 811)"
       ]
      },
      {
       "output_type": "stream",
       "stream": "stdout",
       "text": [
        "\r",
        "Creating importer for <pybug.io.image.PILImporter object at 0x10f99b890> (500 of 811)"
       ]
      },
      {
       "output_type": "stream",
       "stream": "stdout",
       "text": [
        "\r",
        "Creating importer for <pybug.io.image.PILImporter object at 0x10f99b050> (501 of 811)"
       ]
      },
      {
       "output_type": "stream",
       "stream": "stdout",
       "text": [
        "\r",
        "Creating importer for <pybug.io.image.PILImporter object at 0x10f99bc50> (502 of 811)"
       ]
      },
      {
       "output_type": "stream",
       "stream": "stdout",
       "text": [
        "\r",
        "Creating importer for <pybug.io.image.PILImporter object at 0x10f99b590> (503 of 811)"
       ]
      },
      {
       "output_type": "stream",
       "stream": "stdout",
       "text": [
        "\r",
        "Creating importer for <pybug.io.image.PILImporter object at 0x10f99b350> (504 of 811)"
       ]
      },
      {
       "output_type": "stream",
       "stream": "stdout",
       "text": [
        "\r",
        "Creating importer for <pybug.io.image.PILImporter object at 0x10f99ba10> (505 of 811)"
       ]
      },
      {
       "output_type": "stream",
       "stream": "stdout",
       "text": [
        "\r",
        "Creating importer for <pybug.io.image.PILImporter object at 0x10f99bad0> (506 of 811)"
       ]
      },
      {
       "output_type": "stream",
       "stream": "stdout",
       "text": [
        "\r",
        "Creating importer for <pybug.io.image.PILImporter object at 0x10f99bf50> (507 of 811)"
       ]
      },
      {
       "output_type": "stream",
       "stream": "stdout",
       "text": [
        "\r",
        "Creating importer for <pybug.io.image.PILImporter object at 0x128734b50> (508 of 811)"
       ]
      },
      {
       "output_type": "stream",
       "stream": "stdout",
       "text": [
        "\r",
        "Creating importer for <pybug.io.image.PILImporter object at 0x128734490> (509 of 811)"
       ]
      },
      {
       "output_type": "stream",
       "stream": "stdout",
       "text": [
        "\r",
        "Creating importer for <pybug.io.image.PILImporter object at 0x128734910> (510 of 811)"
       ]
      },
      {
       "output_type": "stream",
       "stream": "stdout",
       "text": [
        "\r",
        "Creating importer for <pybug.io.image.PILImporter object at 0x128734550> (511 of 811)"
       ]
      },
      {
       "output_type": "stream",
       "stream": "stdout",
       "text": [
        "\r",
        "Creating importer for <pybug.io.image.PILImporter object at 0x128734f10> (512 of 811)"
       ]
      },
      {
       "output_type": "stream",
       "stream": "stdout",
       "text": [
        "\r",
        "Creating importer for <pybug.io.image.PILImporter object at 0x128734790> (513 of 811)"
       ]
      },
      {
       "output_type": "stream",
       "stream": "stdout",
       "text": [
        "\r",
        "Creating importer for <pybug.io.image.PILImporter object at 0x1287346d0> (514 of 811)"
       ]
      },
      {
       "output_type": "stream",
       "stream": "stdout",
       "text": [
        "\r",
        "Creating importer for <pybug.io.image.PILImporter object at 0x128734a90> (515 of 811)"
       ]
      },
      {
       "output_type": "stream",
       "stream": "stdout",
       "text": [
        "\r",
        "Creating importer for <pybug.io.image.PILImporter object at 0x128734cd0> (516 of 811)"
       ]
      },
      {
       "output_type": "stream",
       "stream": "stdout",
       "text": [
        "\r",
        "Creating importer for <pybug.io.image.PILImporter object at 0x128734610> (517 of 811)"
       ]
      },
      {
       "output_type": "stream",
       "stream": "stdout",
       "text": [
        "\r",
        "Creating importer for <pybug.io.image.PILImporter object at 0x128734250> (518 of 811)"
       ]
      },
      {
       "output_type": "stream",
       "stream": "stdout",
       "text": [
        "\r",
        "Creating importer for <pybug.io.image.PILImporter object at 0x126350ad0> (519 of 811)"
       ]
      },
      {
       "output_type": "stream",
       "stream": "stdout",
       "text": [
        "\r",
        "Creating importer for <pybug.io.image.PILImporter object at 0x126350590> (520 of 811)"
       ]
      },
      {
       "output_type": "stream",
       "stream": "stdout",
       "text": [
        "\r",
        "Creating importer for <pybug.io.image.PILImporter object at 0x126350290> (521 of 811)"
       ]
      },
      {
       "output_type": "stream",
       "stream": "stdout",
       "text": [
        "\r",
        "Creating importer for <pybug.io.image.PILImporter object at 0x126350950> (522 of 811)"
       ]
      },
      {
       "output_type": "stream",
       "stream": "stdout",
       "text": [
        "\r",
        "Creating importer for <pybug.io.image.PILImporter object at 0x1263501d0> (523 of 811)"
       ]
      },
      {
       "output_type": "stream",
       "stream": "stdout",
       "text": [
        "\r",
        "Creating importer for <pybug.io.image.PILImporter object at 0x126350350> (524 of 811)"
       ]
      },
      {
       "output_type": "stream",
       "stream": "stdout",
       "text": [
        "\r",
        "Creating importer for <pybug.io.image.PILImporter object at 0x126350dd0> (525 of 811)"
       ]
      },
      {
       "output_type": "stream",
       "stream": "stdout",
       "text": [
        "\r",
        "Creating importer for <pybug.io.image.PILImporter object at 0x126350410> (526 of 811)"
       ]
      },
      {
       "output_type": "stream",
       "stream": "stdout",
       "text": [
        "\r",
        "Creating importer for <pybug.io.image.PILImporter object at 0x126350710> (527 of 811)"
       ]
      },
      {
       "output_type": "stream",
       "stream": "stdout",
       "text": [
        "\r",
        "Creating importer for <pybug.io.image.PILImporter object at 0x126350f50> (528 of 811)"
       ]
      },
      {
       "output_type": "stream",
       "stream": "stdout",
       "text": [
        "\r",
        "Creating importer for <pybug.io.image.PILImporter object at 0x12752fe90> (529 of 811)"
       ]
      },
      {
       "output_type": "stream",
       "stream": "stdout",
       "text": [
        "\r",
        "Creating importer for <pybug.io.image.PILImporter object at 0x12752f290> (530 of 811)"
       ]
      },
      {
       "output_type": "stream",
       "stream": "stdout",
       "text": [
        "\r",
        "Creating importer for <pybug.io.image.PILImporter object at 0x12752f890> (531 of 811)"
       ]
      },
      {
       "output_type": "stream",
       "stream": "stdout",
       "text": [
        "\r",
        "Creating importer for <pybug.io.image.PILImporter object at 0x12752f350> (532 of 811)"
       ]
      },
      {
       "output_type": "stream",
       "stream": "stdout",
       "text": [
        "\r",
        "Creating importer for <pybug.io.image.PILImporter object at 0x12752fa10> (533 of 811)"
       ]
      },
      {
       "output_type": "stream",
       "stream": "stdout",
       "text": [
        "\r",
        "Creating importer for <pybug.io.image.PILImporter object at 0x12752fd10> (534 of 811)"
       ]
      },
      {
       "output_type": "stream",
       "stream": "stdout",
       "text": [
        "\r",
        "Creating importer for <pybug.io.image.PILImporter object at 0x12752f590> (535 of 811)"
       ]
      },
      {
       "output_type": "stream",
       "stream": "stdout",
       "text": [
        "\r",
        "Creating importer for <pybug.io.image.PILImporter object at 0x12752f1d0> (536 of 811)"
       ]
      },
      {
       "output_type": "stream",
       "stream": "stdout",
       "text": [
        "\r",
        "Creating importer for <pybug.io.image.PILImporter object at 0x12752fb90> (537 of 811)"
       ]
      },
      {
       "output_type": "stream",
       "stream": "stdout",
       "text": [
        "\r",
        "Creating importer for <pybug.io.image.PILImporter object at 0x128712b50> (538 of 811)"
       ]
      },
      {
       "output_type": "stream",
       "stream": "stdout",
       "text": [
        "\r",
        "Creating importer for <pybug.io.image.PILImporter object at 0x128712550> (539 of 811)"
       ]
      },
      {
       "output_type": "stream",
       "stream": "stdout",
       "text": [
        "\r",
        "Creating importer for <pybug.io.image.PILImporter object at 0x128712f10> (540 of 811)"
       ]
      },
      {
       "output_type": "stream",
       "stream": "stdout",
       "text": [
        "\r",
        "Creating importer for <pybug.io.image.PILImporter object at 0x128712790> (541 of 811)"
       ]
      },
      {
       "output_type": "stream",
       "stream": "stdout",
       "text": [
        "\r",
        "Creating importer for <pybug.io.image.PILImporter object at 0x1287123d0> (542 of 811)"
       ]
      },
      {
       "output_type": "stream",
       "stream": "stdout",
       "text": [
        "\r",
        "Creating importer for <pybug.io.image.PILImporter object at 0x128712850> (543 of 811)"
       ]
      },
      {
       "output_type": "stream",
       "stream": "stdout",
       "text": [
        "\r",
        "Creating importer for <pybug.io.image.PILImporter object at 0x125e1b650> (544 of 811)"
       ]
      },
      {
       "output_type": "stream",
       "stream": "stdout",
       "text": [
        "\r",
        "Creating importer for <pybug.io.image.PILImporter object at 0x125e1bd10> (545 of 811)"
       ]
      },
      {
       "output_type": "stream",
       "stream": "stdout",
       "text": [
        "\r",
        "Creating importer for <pybug.io.image.PILImporter object at 0x125e1b410> (546 of 811)"
       ]
      },
      {
       "output_type": "stream",
       "stream": "stdout",
       "text": [
        "\r",
        "Creating importer for <pybug.io.image.PILImporter object at 0x125e1b950> (547 of 811)"
       ]
      },
      {
       "output_type": "stream",
       "stream": "stdout",
       "text": [
        "\r",
        "Creating importer for <pybug.io.image.PILImporter object at 0x125e1b110> (548 of 811)"
       ]
      },
      {
       "output_type": "stream",
       "stream": "stdout",
       "text": [
        "\r",
        "Creating importer for <pybug.io.image.PILImporter object at 0x125e1be90> (549 of 811)"
       ]
      },
      {
       "output_type": "stream",
       "stream": "stdout",
       "text": [
        "\r",
        "Creating importer for <pybug.io.image.PILImporter object at 0x125e1b7d0> (550 of 811)"
       ]
      },
      {
       "output_type": "stream",
       "stream": "stdout",
       "text": [
        "\r",
        "Creating importer for <pybug.io.image.PILImporter object at 0x125e1b350> (551 of 811)"
       ]
      },
      {
       "output_type": "stream",
       "stream": "stdout",
       "text": [
        "\r",
        "Creating importer for <pybug.io.image.PILImporter object at 0x127550110> (552 of 811)"
       ]
      },
      {
       "output_type": "stream",
       "stream": "stdout",
       "text": [
        "\r",
        "Creating importer for <pybug.io.image.PILImporter object at 0x127550710> (553 of 811)"
       ]
      },
      {
       "output_type": "stream",
       "stream": "stdout",
       "text": [
        "\r",
        "Creating importer for <pybug.io.image.PILImporter object at 0x127550890> (554 of 811)"
       ]
      },
      {
       "output_type": "stream",
       "stream": "stdout",
       "text": [
        "\r",
        "Creating importer for <pybug.io.image.PILImporter object at 0x127550dd0> (555 of 811)"
       ]
      },
      {
       "output_type": "stream",
       "stream": "stdout",
       "text": [
        "\r",
        "Creating importer for <pybug.io.image.PILImporter object at 0x127550410> (556 of 811)"
       ]
      },
      {
       "output_type": "stream",
       "stream": "stdout",
       "text": [
        "\r",
        "Creating importer for <pybug.io.image.PILImporter object at 0x127550a10> (557 of 811)"
       ]
      },
      {
       "output_type": "stream",
       "stream": "stdout",
       "text": [
        "\r",
        "Creating importer for <pybug.io.image.PILImporter object at 0x127550290> (558 of 811)"
       ]
      },
      {
       "output_type": "stream",
       "stream": "stdout",
       "text": [
        "\r",
        "Creating importer for <pybug.io.image.PILImporter object at 0x1286ff490> (559 of 811)"
       ]
      },
      {
       "output_type": "stream",
       "stream": "stdout",
       "text": [
        "\r",
        "Creating importer for <pybug.io.image.PILImporter object at 0x1286ff9d0> (560 of 811)"
       ]
      },
      {
       "output_type": "stream",
       "stream": "stdout",
       "text": [
        "\r",
        "Creating importer for <pybug.io.image.PILImporter object at 0x1286ffe50> (561 of 811)"
       ]
      },
      {
       "output_type": "stream",
       "stream": "stdout",
       "text": [
        "\r",
        "Creating importer for <pybug.io.image.PILImporter object at 0x1286ff790> (562 of 811)"
       ]
      },
      {
       "output_type": "stream",
       "stream": "stdout",
       "text": [
        "\r",
        "Creating importer for <pybug.io.image.PILImporter object at 0x1286ffd90> (563 of 811)"
       ]
      },
      {
       "output_type": "stream",
       "stream": "stdout",
       "text": [
        "\r",
        "Creating importer for <pybug.io.image.PILImporter object at 0x1286ff3d0> (564 of 811)"
       ]
      },
      {
       "output_type": "stream",
       "stream": "stdout",
       "text": [
        "\r",
        "Creating importer for <pybug.io.image.PILImporter object at 0x1286ff910> (565 of 811)"
       ]
      },
      {
       "output_type": "stream",
       "stream": "stdout",
       "text": [
        "\r",
        "Creating importer for <pybug.io.image.PILImporter object at 0x125e0ef50> (566 of 811)"
       ]
      },
      {
       "output_type": "stream",
       "stream": "stdout",
       "text": [
        "\r",
        "Creating importer for <pybug.io.image.PILImporter object at 0x125e0e710> (567 of 811)"
       ]
      },
      {
       "output_type": "stream",
       "stream": "stdout",
       "text": [
        "\r",
        "Creating importer for <pybug.io.image.PILImporter object at 0x125e0ec50> (568 of 811)"
       ]
      },
      {
       "output_type": "stream",
       "stream": "stdout",
       "text": [
        "\r",
        "Creating importer for <pybug.io.image.PILImporter object at 0x125e0e290> (569 of 811)"
       ]
      },
      {
       "output_type": "stream",
       "stream": "stdout",
       "text": [
        "\r",
        "Creating importer for <pybug.io.image.PILImporter object at 0x125e0edd0> (570 of 811)"
       ]
      },
      {
       "output_type": "stream",
       "stream": "stdout",
       "text": [
        "\r",
        "Creating importer for <pybug.io.image.PILImporter object at 0x125e0e050> (571 of 811)"
       ]
      },
      {
       "output_type": "stream",
       "stream": "stdout",
       "text": [
        "\r",
        "Creating importer for <pybug.io.image.PILImporter object at 0x125e0e950> (572 of 811)"
       ]
      },
      {
       "output_type": "stream",
       "stream": "stdout",
       "text": [
        "\r",
        "Creating importer for <pybug.io.image.PILImporter object at 0x125e0e410> (573 of 811)"
       ]
      },
      {
       "output_type": "stream",
       "stream": "stdout",
       "text": [
        "\r",
        "Creating importer for <pybug.io.image.PILImporter object at 0x125e0e590> (574 of 811)"
       ]
      },
      {
       "output_type": "stream",
       "stream": "stdout",
       "text": [
        "\r",
        "Creating importer for <pybug.io.image.PILImporter object at 0x126b9cad0> (575 of 811)"
       ]
      },
      {
       "output_type": "stream",
       "stream": "stdout",
       "text": [
        "\r",
        "Creating importer for <pybug.io.image.PILImporter object at 0x126b9cd10> (576 of 811)"
       ]
      },
      {
       "output_type": "stream",
       "stream": "stdout",
       "text": [
        "\r",
        "Creating importer for <pybug.io.image.PILImporter object at 0x126b9c4d0> (577 of 811)"
       ]
      },
      {
       "output_type": "stream",
       "stream": "stdout",
       "text": [
        "\r",
        "Creating importer for <pybug.io.image.PILImporter object at 0x126b9c650> (578 of 811)"
       ]
      },
      {
       "output_type": "stream",
       "stream": "stdout",
       "text": [
        "\r",
        "Creating importer for <pybug.io.image.PILImporter object at 0x126b9c1d0> (579 of 811)"
       ]
      },
      {
       "output_type": "stream",
       "stream": "stdout",
       "text": [
        "\r",
        "Creating importer for <pybug.io.image.PILImporter object at 0x126b9ca10> (580 of 811)"
       ]
      },
      {
       "output_type": "stream",
       "stream": "stdout",
       "text": [
        "\r",
        "Creating importer for <pybug.io.image.PILImporter object at 0x126b9cdd0> (581 of 811)"
       ]
      },
      {
       "output_type": "stream",
       "stream": "stdout",
       "text": [
        "\r",
        "Creating importer for <pybug.io.image.PILImporter object at 0x10f912c90> (582 of 811)"
       ]
      },
      {
       "output_type": "stream",
       "stream": "stdout",
       "text": [
        "\r",
        "Creating importer for <pybug.io.image.PILImporter object at 0x10f912b50> (583 of 811)"
       ]
      },
      {
       "output_type": "stream",
       "stream": "stdout",
       "text": [
        "\r",
        "Creating importer for <pybug.io.image.PILImporter object at 0x128c7c190> (584 of 811)"
       ]
      },
      {
       "output_type": "stream",
       "stream": "stdout",
       "text": [
        "\r",
        "Creating importer for <pybug.io.image.PILImporter object at 0x128c7c150> (585 of 811)"
       ]
      },
      {
       "output_type": "stream",
       "stream": "stdout",
       "text": [
        "\r",
        "Creating importer for <pybug.io.image.PILImporter object at 0x128c7c310> (586 of 811)"
       ]
      },
      {
       "output_type": "stream",
       "stream": "stdout",
       "text": [
        "\r",
        "Creating importer for <pybug.io.image.PILImporter object at 0x128c7c350> (587 of 811)"
       ]
      },
      {
       "output_type": "stream",
       "stream": "stdout",
       "text": [
        "\r",
        "Creating importer for <pybug.io.image.PILImporter object at 0x128c7c390> (588 of 811)"
       ]
      },
      {
       "output_type": "stream",
       "stream": "stdout",
       "text": [
        "\r",
        "Creating importer for <pybug.io.image.PILImporter object at 0x128c7c3d0> (589 of 811)"
       ]
      },
      {
       "output_type": "stream",
       "stream": "stdout",
       "text": [
        "\r",
        "Creating importer for <pybug.io.image.PILImporter object at 0x128c7c410> (590 of 811)"
       ]
      },
      {
       "output_type": "stream",
       "stream": "stdout",
       "text": [
        "\r",
        "Creating importer for <pybug.io.image.PILImporter object at 0x128c7c450> (591 of 811)"
       ]
      },
      {
       "output_type": "stream",
       "stream": "stdout",
       "text": [
        "\r",
        "Creating importer for <pybug.io.image.PILImporter object at 0x128c7c490> (592 of 811)"
       ]
      },
      {
       "output_type": "stream",
       "stream": "stdout",
       "text": [
        "\r",
        "Creating importer for <pybug.io.image.PILImporter object at 0x128c7c4d0> (593 of 811)"
       ]
      },
      {
       "output_type": "stream",
       "stream": "stdout",
       "text": [
        "\r",
        "Creating importer for <pybug.io.image.PILImporter object at 0x128c7c510> (594 of 811)"
       ]
      },
      {
       "output_type": "stream",
       "stream": "stdout",
       "text": [
        "\r",
        "Creating importer for <pybug.io.image.PILImporter object at 0x128c7c550> (595 of 811)"
       ]
      },
      {
       "output_type": "stream",
       "stream": "stdout",
       "text": [
        "\r",
        "Creating importer for <pybug.io.image.PILImporter object at 0x128c7c590> (596 of 811)"
       ]
      },
      {
       "output_type": "stream",
       "stream": "stdout",
       "text": [
        "\r",
        "Creating importer for <pybug.io.image.PILImporter object at 0x128c7c5d0> (597 of 811)"
       ]
      },
      {
       "output_type": "stream",
       "stream": "stdout",
       "text": [
        "\r",
        "Creating importer for <pybug.io.image.PILImporter object at 0x128c7c610> (598 of 811)"
       ]
      },
      {
       "output_type": "stream",
       "stream": "stdout",
       "text": [
        "\r",
        "Creating importer for <pybug.io.image.PILImporter object at 0x128c7c650> (599 of 811)"
       ]
      },
      {
       "output_type": "stream",
       "stream": "stdout",
       "text": [
        "\r",
        "Creating importer for <pybug.io.image.PILImporter object at 0x128c7c690> (600 of 811)"
       ]
      },
      {
       "output_type": "stream",
       "stream": "stdout",
       "text": [
        "\r",
        "Creating importer for <pybug.io.image.PILImporter object at 0x128c7c6d0> (601 of 811)"
       ]
      },
      {
       "output_type": "stream",
       "stream": "stdout",
       "text": [
        "\r",
        "Creating importer for <pybug.io.image.PILImporter object at 0x128c7c710> (602 of 811)"
       ]
      },
      {
       "output_type": "stream",
       "stream": "stdout",
       "text": [
        "\r",
        "Creating importer for <pybug.io.image.PILImporter object at 0x128c7c750> (603 of 811)"
       ]
      },
      {
       "output_type": "stream",
       "stream": "stdout",
       "text": [
        "\r",
        "Creating importer for <pybug.io.image.PILImporter object at 0x128c7c790> (604 of 811)"
       ]
      },
      {
       "output_type": "stream",
       "stream": "stdout",
       "text": [
        "\r",
        "Creating importer for <pybug.io.image.PILImporter object at 0x128c7c7d0> (605 of 811)"
       ]
      },
      {
       "output_type": "stream",
       "stream": "stdout",
       "text": [
        "\r",
        "Creating importer for <pybug.io.image.PILImporter object at 0x128c7c810> (606 of 811)"
       ]
      },
      {
       "output_type": "stream",
       "stream": "stdout",
       "text": [
        "\r",
        "Creating importer for <pybug.io.image.PILImporter object at 0x128c7c850> (607 of 811)"
       ]
      },
      {
       "output_type": "stream",
       "stream": "stdout",
       "text": [
        "\r",
        "Creating importer for <pybug.io.image.PILImporter object at 0x128c7c890> (608 of 811)"
       ]
      },
      {
       "output_type": "stream",
       "stream": "stdout",
       "text": [
        "\r",
        "Creating importer for <pybug.io.image.PILImporter object at 0x128c7c8d0> (609 of 811)"
       ]
      },
      {
       "output_type": "stream",
       "stream": "stdout",
       "text": [
        "\r",
        "Creating importer for <pybug.io.image.PILImporter object at 0x128c7c910> (610 of 811)"
       ]
      },
      {
       "output_type": "stream",
       "stream": "stdout",
       "text": [
        "\r",
        "Creating importer for <pybug.io.image.PILImporter object at 0x128c7c950> (611 of 811)"
       ]
      },
      {
       "output_type": "stream",
       "stream": "stdout",
       "text": [
        "\r",
        "Creating importer for <pybug.io.image.PILImporter object at 0x128c7c990> (612 of 811)"
       ]
      },
      {
       "output_type": "stream",
       "stream": "stdout",
       "text": [
        "\r",
        "Creating importer for <pybug.io.image.PILImporter object at 0x128c7c9d0> (613 of 811)"
       ]
      },
      {
       "output_type": "stream",
       "stream": "stdout",
       "text": [
        "\r",
        "Creating importer for <pybug.io.image.PILImporter object at 0x128c7ca10> (614 of 811)"
       ]
      },
      {
       "output_type": "stream",
       "stream": "stdout",
       "text": [
        "\r",
        "Creating importer for <pybug.io.image.PILImporter object at 0x128c7ca50> (615 of 811)"
       ]
      },
      {
       "output_type": "stream",
       "stream": "stdout",
       "text": [
        "\r",
        "Creating importer for <pybug.io.image.PILImporter object at 0x128c7ca90> (616 of 811)"
       ]
      },
      {
       "output_type": "stream",
       "stream": "stdout",
       "text": [
        "\r",
        "Creating importer for <pybug.io.image.PILImporter object at 0x128c7cad0> (617 of 811)"
       ]
      },
      {
       "output_type": "stream",
       "stream": "stdout",
       "text": [
        "\r",
        "Creating importer for <pybug.io.image.PILImporter object at 0x128c7cb10> (618 of 811)"
       ]
      },
      {
       "output_type": "stream",
       "stream": "stdout",
       "text": [
        "\r",
        "Creating importer for <pybug.io.image.PILImporter object at 0x128c7cb50> (619 of 811)"
       ]
      },
      {
       "output_type": "stream",
       "stream": "stdout",
       "text": [
        "\r",
        "Creating importer for <pybug.io.image.PILImporter object at 0x128c7cb90> (620 of 811)"
       ]
      },
      {
       "output_type": "stream",
       "stream": "stdout",
       "text": [
        "\r",
        "Creating importer for <pybug.io.image.PILImporter object at 0x128c7cbd0> (621 of 811)"
       ]
      },
      {
       "output_type": "stream",
       "stream": "stdout",
       "text": [
        "\r",
        "Creating importer for <pybug.io.image.PILImporter object at 0x128c7cc10> (622 of 811)"
       ]
      },
      {
       "output_type": "stream",
       "stream": "stdout",
       "text": [
        "\r",
        "Creating importer for <pybug.io.image.PILImporter object at 0x128c7cc50> (623 of 811)"
       ]
      },
      {
       "output_type": "stream",
       "stream": "stdout",
       "text": [
        "\r",
        "Creating importer for <pybug.io.image.PILImporter object at 0x128c7cc90> (624 of 811)"
       ]
      },
      {
       "output_type": "stream",
       "stream": "stdout",
       "text": [
        "\r",
        "Creating importer for <pybug.io.image.PILImporter object at 0x128c7ccd0> (625 of 811)"
       ]
      },
      {
       "output_type": "stream",
       "stream": "stdout",
       "text": [
        "\r",
        "Creating importer for <pybug.io.image.PILImporter object at 0x128c7cd10> (626 of 811)"
       ]
      },
      {
       "output_type": "stream",
       "stream": "stdout",
       "text": [
        "\r",
        "Creating importer for <pybug.io.image.PILImporter object at 0x128c7cd50> (627 of 811)"
       ]
      },
      {
       "output_type": "stream",
       "stream": "stdout",
       "text": [
        "\r",
        "Creating importer for <pybug.io.image.PILImporter object at 0x128c7cd90> (628 of 811)"
       ]
      },
      {
       "output_type": "stream",
       "stream": "stdout",
       "text": [
        "\r",
        "Creating importer for <pybug.io.image.PILImporter object at 0x128c7cdd0> (629 of 811)"
       ]
      },
      {
       "output_type": "stream",
       "stream": "stdout",
       "text": [
        "\r",
        "Creating importer for <pybug.io.image.PILImporter object at 0x128c7ce10> (630 of 811)"
       ]
      },
      {
       "output_type": "stream",
       "stream": "stdout",
       "text": [
        "\r",
        "Creating importer for <pybug.io.image.PILImporter object at 0x128c7ce50> (631 of 811)"
       ]
      },
      {
       "output_type": "stream",
       "stream": "stdout",
       "text": [
        "\r",
        "Creating importer for <pybug.io.image.PILImporter object at 0x128c7ce90> (632 of 811)"
       ]
      },
      {
       "output_type": "stream",
       "stream": "stdout",
       "text": [
        "\r",
        "Creating importer for <pybug.io.image.PILImporter object at 0x128c7ced0> (633 of 811)"
       ]
      },
      {
       "output_type": "stream",
       "stream": "stdout",
       "text": [
        "\r",
        "Creating importer for <pybug.io.image.PILImporter object at 0x128c7cf10> (634 of 811)"
       ]
      },
      {
       "output_type": "stream",
       "stream": "stdout",
       "text": [
        "\r",
        "Creating importer for <pybug.io.image.PILImporter object at 0x128c7cf50> (635 of 811)"
       ]
      },
      {
       "output_type": "stream",
       "stream": "stdout",
       "text": [
        "\r",
        "Creating importer for <pybug.io.image.PILImporter object at 0x128c7cf90> (636 of 811)"
       ]
      },
      {
       "output_type": "stream",
       "stream": "stdout",
       "text": [
        "\r",
        "Creating importer for <pybug.io.image.PILImporter object at 0x128c7cfd0> (637 of 811)"
       ]
      },
      {
       "output_type": "stream",
       "stream": "stdout",
       "text": [
        "\r",
        "Creating importer for <pybug.io.image.PILImporter object at 0x126b8b050> (638 of 811)"
       ]
      },
      {
       "output_type": "stream",
       "stream": "stdout",
       "text": [
        "\r",
        "Creating importer for <pybug.io.image.PILImporter object at 0x126b8b090> (639 of 811)"
       ]
      },
      {
       "output_type": "stream",
       "stream": "stdout",
       "text": [
        "\r",
        "Creating importer for <pybug.io.image.PILImporter object at 0x126b8b0d0> (640 of 811)"
       ]
      },
      {
       "output_type": "stream",
       "stream": "stdout",
       "text": [
        "\r",
        "Creating importer for <pybug.io.image.PILImporter object at 0x126b8b110> (641 of 811)"
       ]
      },
      {
       "output_type": "stream",
       "stream": "stdout",
       "text": [
        "\r",
        "Creating importer for <pybug.io.image.PILImporter object at 0x126b8b150> (642 of 811)"
       ]
      },
      {
       "output_type": "stream",
       "stream": "stdout",
       "text": [
        "\r",
        "Creating importer for <pybug.io.image.PILImporter object at 0x126b8b190> (643 of 811)"
       ]
      },
      {
       "output_type": "stream",
       "stream": "stdout",
       "text": [
        "\r",
        "Creating importer for <pybug.io.image.PILImporter object at 0x126b8b1d0> (644 of 811)"
       ]
      },
      {
       "output_type": "stream",
       "stream": "stdout",
       "text": [
        "\r",
        "Creating importer for <pybug.io.image.PILImporter object at 0x126b8b210> (645 of 811)"
       ]
      },
      {
       "output_type": "stream",
       "stream": "stdout",
       "text": [
        "\r",
        "Creating importer for <pybug.io.image.PILImporter object at 0x126b8b250> (646 of 811)"
       ]
      },
      {
       "output_type": "stream",
       "stream": "stdout",
       "text": [
        "\r",
        "Creating importer for <pybug.io.image.PILImporter object at 0x126b8b290> (647 of 811)"
       ]
      },
      {
       "output_type": "stream",
       "stream": "stdout",
       "text": [
        "\r",
        "Creating importer for <pybug.io.image.PILImporter object at 0x126b8b2d0> (648 of 811)"
       ]
      },
      {
       "output_type": "stream",
       "stream": "stdout",
       "text": [
        "\r",
        "Creating importer for <pybug.io.image.PILImporter object at 0x126b8b310> (649 of 811)"
       ]
      },
      {
       "output_type": "stream",
       "stream": "stdout",
       "text": [
        "\r",
        "Creating importer for <pybug.io.image.PILImporter object at 0x126b8b350> (650 of 811)"
       ]
      },
      {
       "output_type": "stream",
       "stream": "stdout",
       "text": [
        "\r",
        "Creating importer for <pybug.io.image.PILImporter object at 0x126b8b390> (651 of 811)"
       ]
      },
      {
       "output_type": "stream",
       "stream": "stdout",
       "text": [
        "\r",
        "Creating importer for <pybug.io.image.PILImporter object at 0x126b8b3d0> (652 of 811)"
       ]
      },
      {
       "output_type": "stream",
       "stream": "stdout",
       "text": [
        "\r",
        "Creating importer for <pybug.io.image.PILImporter object at 0x126b8b410> (653 of 811)"
       ]
      },
      {
       "output_type": "stream",
       "stream": "stdout",
       "text": [
        "\r",
        "Creating importer for <pybug.io.image.PILImporter object at 0x126b8b450> (654 of 811)"
       ]
      },
      {
       "output_type": "stream",
       "stream": "stdout",
       "text": [
        "\r",
        "Creating importer for <pybug.io.image.PILImporter object at 0x126b8b490> (655 of 811)"
       ]
      },
      {
       "output_type": "stream",
       "stream": "stdout",
       "text": [
        "\r",
        "Creating importer for <pybug.io.image.PILImporter object at 0x126b8b4d0> (656 of 811)"
       ]
      },
      {
       "output_type": "stream",
       "stream": "stdout",
       "text": [
        "\r",
        "Creating importer for <pybug.io.image.PILImporter object at 0x126b8b510> (657 of 811)"
       ]
      },
      {
       "output_type": "stream",
       "stream": "stdout",
       "text": [
        "\r",
        "Creating importer for <pybug.io.image.PILImporter object at 0x126b8b550> (658 of 811)"
       ]
      },
      {
       "output_type": "stream",
       "stream": "stdout",
       "text": [
        "\r",
        "Creating importer for <pybug.io.image.PILImporter object at 0x126b8b590> (659 of 811)"
       ]
      },
      {
       "output_type": "stream",
       "stream": "stdout",
       "text": [
        "\r",
        "Creating importer for <pybug.io.image.PILImporter object at 0x126b8b5d0> (660 of 811)"
       ]
      },
      {
       "output_type": "stream",
       "stream": "stdout",
       "text": [
        "\r",
        "Creating importer for <pybug.io.image.PILImporter object at 0x126b8b610> (661 of 811)"
       ]
      },
      {
       "output_type": "stream",
       "stream": "stdout",
       "text": [
        "\r",
        "Creating importer for <pybug.io.image.PILImporter object at 0x126b8b650> (662 of 811)"
       ]
      },
      {
       "output_type": "stream",
       "stream": "stdout",
       "text": [
        "\r",
        "Creating importer for <pybug.io.image.PILImporter object at 0x126b8b690> (663 of 811)"
       ]
      },
      {
       "output_type": "stream",
       "stream": "stdout",
       "text": [
        "\r",
        "Creating importer for <pybug.io.image.PILImporter object at 0x126b8b6d0> (664 of 811)"
       ]
      },
      {
       "output_type": "stream",
       "stream": "stdout",
       "text": [
        "\r",
        "Creating importer for <pybug.io.image.PILImporter object at 0x126b8b710> (665 of 811)"
       ]
      },
      {
       "output_type": "stream",
       "stream": "stdout",
       "text": [
        "\r",
        "Creating importer for <pybug.io.image.PILImporter object at 0x126b8b750> (666 of 811)"
       ]
      },
      {
       "output_type": "stream",
       "stream": "stdout",
       "text": [
        "\r",
        "Creating importer for <pybug.io.image.PILImporter object at 0x126b8b790> (667 of 811)"
       ]
      },
      {
       "output_type": "stream",
       "stream": "stdout",
       "text": [
        "\r",
        "Creating importer for <pybug.io.image.PILImporter object at 0x126b8b7d0> (668 of 811)"
       ]
      },
      {
       "output_type": "stream",
       "stream": "stdout",
       "text": [
        "\r",
        "Creating importer for <pybug.io.image.PILImporter object at 0x126b8b810> (669 of 811)"
       ]
      },
      {
       "output_type": "stream",
       "stream": "stdout",
       "text": [
        "\r",
        "Creating importer for <pybug.io.image.PILImporter object at 0x126b8b850> (670 of 811)"
       ]
      },
      {
       "output_type": "stream",
       "stream": "stdout",
       "text": [
        "\r",
        "Creating importer for <pybug.io.image.PILImporter object at 0x126b8b890> (671 of 811)"
       ]
      },
      {
       "output_type": "stream",
       "stream": "stdout",
       "text": [
        "\r",
        "Creating importer for <pybug.io.image.PILImporter object at 0x126b8b8d0> (672 of 811)"
       ]
      },
      {
       "output_type": "stream",
       "stream": "stdout",
       "text": [
        "\r",
        "Creating importer for <pybug.io.image.PILImporter object at 0x126b8b910> (673 of 811)"
       ]
      },
      {
       "output_type": "stream",
       "stream": "stdout",
       "text": [
        "\r",
        "Creating importer for <pybug.io.image.PILImporter object at 0x126b8b950> (674 of 811)"
       ]
      },
      {
       "output_type": "stream",
       "stream": "stdout",
       "text": [
        "\r",
        "Creating importer for <pybug.io.image.PILImporter object at 0x126b8b990> (675 of 811)"
       ]
      },
      {
       "output_type": "stream",
       "stream": "stdout",
       "text": [
        "\r",
        "Creating importer for <pybug.io.image.PILImporter object at 0x126b8b9d0> (676 of 811)"
       ]
      },
      {
       "output_type": "stream",
       "stream": "stdout",
       "text": [
        "\r",
        "Creating importer for <pybug.io.image.PILImporter object at 0x126b8ba10> (677 of 811)"
       ]
      },
      {
       "output_type": "stream",
       "stream": "stdout",
       "text": [
        "\r",
        "Creating importer for <pybug.io.image.PILImporter object at 0x126b8ba50> (678 of 811)"
       ]
      },
      {
       "output_type": "stream",
       "stream": "stdout",
       "text": [
        "\r",
        "Creating importer for <pybug.io.image.PILImporter object at 0x126b8ba90> (679 of 811)"
       ]
      },
      {
       "output_type": "stream",
       "stream": "stdout",
       "text": [
        "\r",
        "Creating importer for <pybug.io.image.PILImporter object at 0x126b8bad0> (680 of 811)"
       ]
      },
      {
       "output_type": "stream",
       "stream": "stdout",
       "text": [
        "\r",
        "Creating importer for <pybug.io.image.PILImporter object at 0x126b8bb10> (681 of 811)"
       ]
      },
      {
       "output_type": "stream",
       "stream": "stdout",
       "text": [
        "\r",
        "Creating importer for <pybug.io.image.PILImporter object at 0x126b8bb50> (682 of 811)"
       ]
      },
      {
       "output_type": "stream",
       "stream": "stdout",
       "text": [
        "\r",
        "Creating importer for <pybug.io.image.PILImporter object at 0x126b8bb90> (683 of 811)"
       ]
      },
      {
       "output_type": "stream",
       "stream": "stdout",
       "text": [
        "\r",
        "Creating importer for <pybug.io.image.PILImporter object at 0x126b8bbd0> (684 of 811)"
       ]
      },
      {
       "output_type": "stream",
       "stream": "stdout",
       "text": [
        "\r",
        "Creating importer for <pybug.io.image.PILImporter object at 0x126b8bc10> (685 of 811)"
       ]
      },
      {
       "output_type": "stream",
       "stream": "stdout",
       "text": [
        "\r",
        "Creating importer for <pybug.io.image.PILImporter object at 0x126b8bc50> (686 of 811)"
       ]
      },
      {
       "output_type": "stream",
       "stream": "stdout",
       "text": [
        "\r",
        "Creating importer for <pybug.io.image.PILImporter object at 0x126b8bc90> (687 of 811)"
       ]
      },
      {
       "output_type": "stream",
       "stream": "stdout",
       "text": [
        "\r",
        "Creating importer for <pybug.io.image.PILImporter object at 0x126b8bcd0> (688 of 811)"
       ]
      },
      {
       "output_type": "stream",
       "stream": "stdout",
       "text": [
        "\r",
        "Creating importer for <pybug.io.image.PILImporter object at 0x126b8bd10> (689 of 811)"
       ]
      },
      {
       "output_type": "stream",
       "stream": "stdout",
       "text": [
        "\r",
        "Creating importer for <pybug.io.image.PILImporter object at 0x126b8bd50> (690 of 811)"
       ]
      },
      {
       "output_type": "stream",
       "stream": "stdout",
       "text": [
        "\r",
        "Creating importer for <pybug.io.image.PILImporter object at 0x126b8bd90> (691 of 811)"
       ]
      },
      {
       "output_type": "stream",
       "stream": "stdout",
       "text": [
        "\r",
        "Creating importer for <pybug.io.image.PILImporter object at 0x126b8bdd0> (692 of 811)"
       ]
      },
      {
       "output_type": "stream",
       "stream": "stdout",
       "text": [
        "\r",
        "Creating importer for <pybug.io.image.PILImporter object at 0x126b8be10> (693 of 811)"
       ]
      },
      {
       "output_type": "stream",
       "stream": "stdout",
       "text": [
        "\r",
        "Creating importer for <pybug.io.image.PILImporter object at 0x126b8be50> (694 of 811)"
       ]
      },
      {
       "output_type": "stream",
       "stream": "stdout",
       "text": [
        "\r",
        "Creating importer for <pybug.io.image.PILImporter object at 0x126b8be90> (695 of 811)"
       ]
      },
      {
       "output_type": "stream",
       "stream": "stdout",
       "text": [
        "\r",
        "Creating importer for <pybug.io.image.PILImporter object at 0x126b8bed0> (696 of 811)"
       ]
      },
      {
       "output_type": "stream",
       "stream": "stdout",
       "text": [
        "\r",
        "Creating importer for <pybug.io.image.PILImporter object at 0x126b8bf10> (697 of 811)"
       ]
      },
      {
       "output_type": "stream",
       "stream": "stdout",
       "text": [
        "\r",
        "Creating importer for <pybug.io.image.PILImporter object at 0x126b8bf50> (698 of 811)"
       ]
      },
      {
       "output_type": "stream",
       "stream": "stdout",
       "text": [
        "\r",
        "Creating importer for <pybug.io.image.PILImporter object at 0x126b8bf90> (699 of 811)"
       ]
      },
      {
       "output_type": "stream",
       "stream": "stdout",
       "text": [
        "\r",
        "Creating importer for <pybug.io.image.PILImporter object at 0x126b8bfd0> (700 of 811)"
       ]
      },
      {
       "output_type": "stream",
       "stream": "stdout",
       "text": [
        "\r",
        "Creating importer for <pybug.io.image.PILImporter object at 0x126b8a050> (701 of 811)"
       ]
      },
      {
       "output_type": "stream",
       "stream": "stdout",
       "text": [
        "\r",
        "Creating importer for <pybug.io.image.PILImporter object at 0x126b8a090> (702 of 811)"
       ]
      },
      {
       "output_type": "stream",
       "stream": "stdout",
       "text": [
        "\r",
        "Creating importer for <pybug.io.image.PILImporter object at 0x126b8a0d0> (703 of 811)"
       ]
      },
      {
       "output_type": "stream",
       "stream": "stdout",
       "text": [
        "\r",
        "Creating importer for <pybug.io.image.PILImporter object at 0x126b8a110> (704 of 811)"
       ]
      },
      {
       "output_type": "stream",
       "stream": "stdout",
       "text": [
        "\r",
        "Creating importer for <pybug.io.image.PILImporter object at 0x126b8a150> (705 of 811)"
       ]
      },
      {
       "output_type": "stream",
       "stream": "stdout",
       "text": [
        "\r",
        "Creating importer for <pybug.io.image.PILImporter object at 0x126b8a190> (706 of 811)"
       ]
      },
      {
       "output_type": "stream",
       "stream": "stdout",
       "text": [
        "\r",
        "Creating importer for <pybug.io.image.PILImporter object at 0x126b8a1d0> (707 of 811)"
       ]
      },
      {
       "output_type": "stream",
       "stream": "stdout",
       "text": [
        "\r",
        "Creating importer for <pybug.io.image.PILImporter object at 0x126b8a210> (708 of 811)"
       ]
      },
      {
       "output_type": "stream",
       "stream": "stdout",
       "text": [
        "\r",
        "Creating importer for <pybug.io.image.PILImporter object at 0x126b8a250> (709 of 811)"
       ]
      },
      {
       "output_type": "stream",
       "stream": "stdout",
       "text": [
        "\r",
        "Creating importer for <pybug.io.image.PILImporter object at 0x126b8a290> (710 of 811)"
       ]
      },
      {
       "output_type": "stream",
       "stream": "stdout",
       "text": [
        "\r",
        "Creating importer for <pybug.io.image.PILImporter object at 0x126b8a2d0> (711 of 811)"
       ]
      },
      {
       "output_type": "stream",
       "stream": "stdout",
       "text": [
        "\r",
        "Creating importer for <pybug.io.image.PILImporter object at 0x126b8a310> (712 of 811)"
       ]
      },
      {
       "output_type": "stream",
       "stream": "stdout",
       "text": [
        "\r",
        "Creating importer for <pybug.io.image.PILImporter object at 0x126b8a350> (713 of 811)"
       ]
      },
      {
       "output_type": "stream",
       "stream": "stdout",
       "text": [
        "\r",
        "Creating importer for <pybug.io.image.PILImporter object at 0x126b8a390> (714 of 811)"
       ]
      },
      {
       "output_type": "stream",
       "stream": "stdout",
       "text": [
        "\r",
        "Creating importer for <pybug.io.image.PILImporter object at 0x126b8a3d0> (715 of 811)"
       ]
      },
      {
       "output_type": "stream",
       "stream": "stdout",
       "text": [
        "\r",
        "Creating importer for <pybug.io.image.PILImporter object at 0x126b8a410> (716 of 811)"
       ]
      },
      {
       "output_type": "stream",
       "stream": "stdout",
       "text": [
        "\r",
        "Creating importer for <pybug.io.image.PILImporter object at 0x126b8a450> (717 of 811)"
       ]
      },
      {
       "output_type": "stream",
       "stream": "stdout",
       "text": [
        "\r",
        "Creating importer for <pybug.io.image.PILImporter object at 0x126b8a490> (718 of 811)"
       ]
      },
      {
       "output_type": "stream",
       "stream": "stdout",
       "text": [
        "\r",
        "Creating importer for <pybug.io.image.PILImporter object at 0x126b8a4d0> (719 of 811)"
       ]
      },
      {
       "output_type": "stream",
       "stream": "stdout",
       "text": [
        "\r",
        "Creating importer for <pybug.io.image.PILImporter object at 0x126b8a510> (720 of 811)"
       ]
      },
      {
       "output_type": "stream",
       "stream": "stdout",
       "text": [
        "\r",
        "Creating importer for <pybug.io.image.PILImporter object at 0x126b8a550> (721 of 811)"
       ]
      },
      {
       "output_type": "stream",
       "stream": "stdout",
       "text": [
        "\r",
        "Creating importer for <pybug.io.image.PILImporter object at 0x126b8a590> (722 of 811)"
       ]
      },
      {
       "output_type": "stream",
       "stream": "stdout",
       "text": [
        "\r",
        "Creating importer for <pybug.io.image.PILImporter object at 0x126b8a5d0> (723 of 811)"
       ]
      },
      {
       "output_type": "stream",
       "stream": "stdout",
       "text": [
        "\r",
        "Creating importer for <pybug.io.image.PILImporter object at 0x126b8a610> (724 of 811)"
       ]
      },
      {
       "output_type": "stream",
       "stream": "stdout",
       "text": [
        "\r",
        "Creating importer for <pybug.io.image.PILImporter object at 0x126b8a650> (725 of 811)"
       ]
      },
      {
       "output_type": "stream",
       "stream": "stdout",
       "text": [
        "\r",
        "Creating importer for <pybug.io.image.PILImporter object at 0x126b8a690> (726 of 811)"
       ]
      },
      {
       "output_type": "stream",
       "stream": "stdout",
       "text": [
        "\r",
        "Creating importer for <pybug.io.image.PILImporter object at 0x126b8a6d0> (727 of 811)"
       ]
      },
      {
       "output_type": "stream",
       "stream": "stdout",
       "text": [
        "\r",
        "Creating importer for <pybug.io.image.PILImporter object at 0x126b8a710> (728 of 811)"
       ]
      },
      {
       "output_type": "stream",
       "stream": "stdout",
       "text": [
        "\r",
        "Creating importer for <pybug.io.image.PILImporter object at 0x126b8a750> (729 of 811)"
       ]
      },
      {
       "output_type": "stream",
       "stream": "stdout",
       "text": [
        "\r",
        "Creating importer for <pybug.io.image.PILImporter object at 0x126b8a790> (730 of 811)"
       ]
      },
      {
       "output_type": "stream",
       "stream": "stdout",
       "text": [
        "\r",
        "Creating importer for <pybug.io.image.PILImporter object at 0x126b8a7d0> (731 of 811)"
       ]
      },
      {
       "output_type": "stream",
       "stream": "stdout",
       "text": [
        "\r",
        "Creating importer for <pybug.io.image.PILImporter object at 0x126b8a810> (732 of 811)"
       ]
      },
      {
       "output_type": "stream",
       "stream": "stdout",
       "text": [
        "\r",
        "Creating importer for <pybug.io.image.PILImporter object at 0x126b8a850> (733 of 811)"
       ]
      },
      {
       "output_type": "stream",
       "stream": "stdout",
       "text": [
        "\r",
        "Creating importer for <pybug.io.image.PILImporter object at 0x126b8a890> (734 of 811)"
       ]
      },
      {
       "output_type": "stream",
       "stream": "stdout",
       "text": [
        "\r",
        "Creating importer for <pybug.io.image.PILImporter object at 0x126b8a8d0> (735 of 811)"
       ]
      },
      {
       "output_type": "stream",
       "stream": "stdout",
       "text": [
        "\r",
        "Creating importer for <pybug.io.image.PILImporter object at 0x126b8a910> (736 of 811)"
       ]
      },
      {
       "output_type": "stream",
       "stream": "stdout",
       "text": [
        "\r",
        "Creating importer for <pybug.io.image.PILImporter object at 0x126b8a950> (737 of 811)"
       ]
      },
      {
       "output_type": "stream",
       "stream": "stdout",
       "text": [
        "\r",
        "Creating importer for <pybug.io.image.PILImporter object at 0x126b8a990> (738 of 811)"
       ]
      },
      {
       "output_type": "stream",
       "stream": "stdout",
       "text": [
        "\r",
        "Creating importer for <pybug.io.image.PILImporter object at 0x126b8a9d0> (739 of 811)"
       ]
      },
      {
       "output_type": "stream",
       "stream": "stdout",
       "text": [
        "\r",
        "Creating importer for <pybug.io.image.PILImporter object at 0x126b8aa10> (740 of 811)"
       ]
      },
      {
       "output_type": "stream",
       "stream": "stdout",
       "text": [
        "\r",
        "Creating importer for <pybug.io.image.PILImporter object at 0x126b8aa50> (741 of 811)"
       ]
      },
      {
       "output_type": "stream",
       "stream": "stdout",
       "text": [
        "\r",
        "Creating importer for <pybug.io.image.PILImporter object at 0x126b8aa90> (742 of 811)"
       ]
      },
      {
       "output_type": "stream",
       "stream": "stdout",
       "text": [
        "\r",
        "Creating importer for <pybug.io.image.PILImporter object at 0x126b8aad0> (743 of 811)"
       ]
      },
      {
       "output_type": "stream",
       "stream": "stdout",
       "text": [
        "\r",
        "Creating importer for <pybug.io.image.PILImporter object at 0x126b8ab10> (744 of 811)"
       ]
      },
      {
       "output_type": "stream",
       "stream": "stdout",
       "text": [
        "\r",
        "Creating importer for <pybug.io.image.PILImporter object at 0x126b8ab50> (745 of 811)"
       ]
      },
      {
       "output_type": "stream",
       "stream": "stdout",
       "text": [
        "\r",
        "Creating importer for <pybug.io.image.PILImporter object at 0x126b8ab90> (746 of 811)"
       ]
      },
      {
       "output_type": "stream",
       "stream": "stdout",
       "text": [
        "\r",
        "Creating importer for <pybug.io.image.PILImporter object at 0x126b8abd0> (747 of 811)"
       ]
      },
      {
       "output_type": "stream",
       "stream": "stdout",
       "text": [
        "\r",
        "Creating importer for <pybug.io.image.PILImporter object at 0x126b8ac10> (748 of 811)"
       ]
      },
      {
       "output_type": "stream",
       "stream": "stdout",
       "text": [
        "\r",
        "Creating importer for <pybug.io.image.PILImporter object at 0x126b8ac50> (749 of 811)"
       ]
      },
      {
       "output_type": "stream",
       "stream": "stdout",
       "text": [
        "\r",
        "Creating importer for <pybug.io.image.PILImporter object at 0x126b8ac90> (750 of 811)"
       ]
      },
      {
       "output_type": "stream",
       "stream": "stdout",
       "text": [
        "\r",
        "Creating importer for <pybug.io.image.PILImporter object at 0x126b8acd0> (751 of 811)"
       ]
      },
      {
       "output_type": "stream",
       "stream": "stdout",
       "text": [
        "\r",
        "Creating importer for <pybug.io.image.PILImporter object at 0x126b8ad10> (752 of 811)"
       ]
      },
      {
       "output_type": "stream",
       "stream": "stdout",
       "text": [
        "\r",
        "Creating importer for <pybug.io.image.PILImporter object at 0x126b8ad50> (753 of 811)"
       ]
      },
      {
       "output_type": "stream",
       "stream": "stdout",
       "text": [
        "\r",
        "Creating importer for <pybug.io.image.PILImporter object at 0x126b8ad90> (754 of 811)"
       ]
      },
      {
       "output_type": "stream",
       "stream": "stdout",
       "text": [
        "\r",
        "Creating importer for <pybug.io.image.PILImporter object at 0x126b8add0> (755 of 811)"
       ]
      },
      {
       "output_type": "stream",
       "stream": "stdout",
       "text": [
        "\r",
        "Creating importer for <pybug.io.image.PILImporter object at 0x126b8ae10> (756 of 811)"
       ]
      },
      {
       "output_type": "stream",
       "stream": "stdout",
       "text": [
        "\r",
        "Creating importer for <pybug.io.image.PILImporter object at 0x126b8ae50> (757 of 811)"
       ]
      },
      {
       "output_type": "stream",
       "stream": "stdout",
       "text": [
        "\r",
        "Creating importer for <pybug.io.image.PILImporter object at 0x126b8ae90> (758 of 811)"
       ]
      },
      {
       "output_type": "stream",
       "stream": "stdout",
       "text": [
        "\r",
        "Creating importer for <pybug.io.image.PILImporter object at 0x126b8aed0> (759 of 811)"
       ]
      },
      {
       "output_type": "stream",
       "stream": "stdout",
       "text": [
        "\r",
        "Creating importer for <pybug.io.image.PILImporter object at 0x126b8af10> (760 of 811)"
       ]
      },
      {
       "output_type": "stream",
       "stream": "stdout",
       "text": [
        "\r",
        "Creating importer for <pybug.io.image.PILImporter object at 0x126b8af50> (761 of 811)"
       ]
      },
      {
       "output_type": "stream",
       "stream": "stdout",
       "text": [
        "\r",
        "Creating importer for <pybug.io.image.PILImporter object at 0x126b8af90> (762 of 811)"
       ]
      },
      {
       "output_type": "stream",
       "stream": "stdout",
       "text": [
        "\r",
        "Creating importer for <pybug.io.image.PILImporter object at 0x126b8afd0> (763 of 811)"
       ]
      },
      {
       "output_type": "stream",
       "stream": "stdout",
       "text": [
        "\r",
        "Creating importer for <pybug.io.image.PILImporter object at 0x126b5f050> (764 of 811)"
       ]
      },
      {
       "output_type": "stream",
       "stream": "stdout",
       "text": [
        "\r",
        "Creating importer for <pybug.io.image.PILImporter object at 0x126b5f090> (765 of 811)"
       ]
      },
      {
       "output_type": "stream",
       "stream": "stdout",
       "text": [
        "\r",
        "Creating importer for <pybug.io.image.PILImporter object at 0x126b5f0d0> (766 of 811)"
       ]
      },
      {
       "output_type": "stream",
       "stream": "stdout",
       "text": [
        "\r",
        "Creating importer for <pybug.io.image.PILImporter object at 0x126b5f110> (767 of 811)"
       ]
      },
      {
       "output_type": "stream",
       "stream": "stdout",
       "text": [
        "\r",
        "Creating importer for <pybug.io.image.PILImporter object at 0x126b5f150> (768 of 811)"
       ]
      },
      {
       "output_type": "stream",
       "stream": "stdout",
       "text": [
        "\r",
        "Creating importer for <pybug.io.image.PILImporter object at 0x126b5f190> (769 of 811)"
       ]
      },
      {
       "output_type": "stream",
       "stream": "stdout",
       "text": [
        "\r",
        "Creating importer for <pybug.io.image.PILImporter object at 0x126b5f1d0> (770 of 811)"
       ]
      },
      {
       "output_type": "stream",
       "stream": "stdout",
       "text": [
        "\r",
        "Creating importer for <pybug.io.image.PILImporter object at 0x126b5f210> (771 of 811)"
       ]
      },
      {
       "output_type": "stream",
       "stream": "stdout",
       "text": [
        "\r",
        "Creating importer for <pybug.io.image.PILImporter object at 0x126b5f250> (772 of 811)"
       ]
      },
      {
       "output_type": "stream",
       "stream": "stdout",
       "text": [
        "\r",
        "Creating importer for <pybug.io.image.PILImporter object at 0x126b5f290> (773 of 811)"
       ]
      },
      {
       "output_type": "stream",
       "stream": "stdout",
       "text": [
        "\r",
        "Creating importer for <pybug.io.image.PILImporter object at 0x126b5f2d0> (774 of 811)"
       ]
      },
      {
       "output_type": "stream",
       "stream": "stdout",
       "text": [
        "\r",
        "Creating importer for <pybug.io.image.PILImporter object at 0x126b5f310> (775 of 811)"
       ]
      },
      {
       "output_type": "stream",
       "stream": "stdout",
       "text": [
        "\r",
        "Creating importer for <pybug.io.image.PILImporter object at 0x126b5f350> (776 of 811)"
       ]
      },
      {
       "output_type": "stream",
       "stream": "stdout",
       "text": [
        "\r",
        "Creating importer for <pybug.io.image.PILImporter object at 0x126b5f390> (777 of 811)"
       ]
      },
      {
       "output_type": "stream",
       "stream": "stdout",
       "text": [
        "\r",
        "Creating importer for <pybug.io.image.PILImporter object at 0x126b5f3d0> (778 of 811)"
       ]
      },
      {
       "output_type": "stream",
       "stream": "stdout",
       "text": [
        "\r",
        "Creating importer for <pybug.io.image.PILImporter object at 0x126b5f410> (779 of 811)"
       ]
      },
      {
       "output_type": "stream",
       "stream": "stdout",
       "text": [
        "\r",
        "Creating importer for <pybug.io.image.PILImporter object at 0x126b5f450> (780 of 811)"
       ]
      },
      {
       "output_type": "stream",
       "stream": "stdout",
       "text": [
        "\r",
        "Creating importer for <pybug.io.image.PILImporter object at 0x126b5f490> (781 of 811)"
       ]
      },
      {
       "output_type": "stream",
       "stream": "stdout",
       "text": [
        "\r",
        "Creating importer for <pybug.io.image.PILImporter object at 0x126b5f4d0> (782 of 811)"
       ]
      },
      {
       "output_type": "stream",
       "stream": "stdout",
       "text": [
        "\r",
        "Creating importer for <pybug.io.image.PILImporter object at 0x126b5f510> (783 of 811)"
       ]
      },
      {
       "output_type": "stream",
       "stream": "stdout",
       "text": [
        "\r",
        "Creating importer for <pybug.io.image.PILImporter object at 0x126b5f550> (784 of 811)"
       ]
      },
      {
       "output_type": "stream",
       "stream": "stdout",
       "text": [
        "\r",
        "Creating importer for <pybug.io.image.PILImporter object at 0x126b5f590> (785 of 811)"
       ]
      },
      {
       "output_type": "stream",
       "stream": "stdout",
       "text": [
        "\r",
        "Creating importer for <pybug.io.image.PILImporter object at 0x126b5f5d0> (786 of 811)"
       ]
      },
      {
       "output_type": "stream",
       "stream": "stdout",
       "text": [
        "\r",
        "Creating importer for <pybug.io.image.PILImporter object at 0x126b5f610> (787 of 811)"
       ]
      },
      {
       "output_type": "stream",
       "stream": "stdout",
       "text": [
        "\r",
        "Creating importer for <pybug.io.image.PILImporter object at 0x126b5f650> (788 of 811)"
       ]
      },
      {
       "output_type": "stream",
       "stream": "stdout",
       "text": [
        "\r",
        "Creating importer for <pybug.io.image.PILImporter object at 0x126b5f690> (789 of 811)"
       ]
      },
      {
       "output_type": "stream",
       "stream": "stdout",
       "text": [
        "\r",
        "Creating importer for <pybug.io.image.PILImporter object at 0x126b5f6d0> (790 of 811)"
       ]
      },
      {
       "output_type": "stream",
       "stream": "stdout",
       "text": [
        "\r",
        "Creating importer for <pybug.io.image.PILImporter object at 0x126b5f710> (791 of 811)"
       ]
      },
      {
       "output_type": "stream",
       "stream": "stdout",
       "text": [
        "\r",
        "Creating importer for <pybug.io.image.PILImporter object at 0x126b5f750> (792 of 811)"
       ]
      },
      {
       "output_type": "stream",
       "stream": "stdout",
       "text": [
        "\r",
        "Creating importer for <pybug.io.image.PILImporter object at 0x126b5f790> (793 of 811)"
       ]
      },
      {
       "output_type": "stream",
       "stream": "stdout",
       "text": [
        "\r",
        "Creating importer for <pybug.io.image.PILImporter object at 0x126b5f7d0> (794 of 811)"
       ]
      },
      {
       "output_type": "stream",
       "stream": "stdout",
       "text": [
        "\r",
        "Creating importer for <pybug.io.image.PILImporter object at 0x126b5f810> (795 of 811)"
       ]
      },
      {
       "output_type": "stream",
       "stream": "stdout",
       "text": [
        "\r",
        "Creating importer for <pybug.io.image.PILImporter object at 0x126b5f850> (796 of 811)"
       ]
      },
      {
       "output_type": "stream",
       "stream": "stdout",
       "text": [
        "\r",
        "Creating importer for <pybug.io.image.PILImporter object at 0x126b5f890> (797 of 811)"
       ]
      },
      {
       "output_type": "stream",
       "stream": "stdout",
       "text": [
        "\r",
        "Creating importer for <pybug.io.image.PILImporter object at 0x126b5f8d0> (798 of 811)"
       ]
      },
      {
       "output_type": "stream",
       "stream": "stdout",
       "text": [
        "\r",
        "Creating importer for <pybug.io.image.PILImporter object at 0x126b5f910> (799 of 811)"
       ]
      },
      {
       "output_type": "stream",
       "stream": "stdout",
       "text": [
        "\r",
        "Creating importer for <pybug.io.image.PILImporter object at 0x126b5f950> (800 of 811)"
       ]
      },
      {
       "output_type": "stream",
       "stream": "stdout",
       "text": [
        "\r",
        "Creating importer for <pybug.io.image.PILImporter object at 0x126b5f990> (801 of 811)"
       ]
      },
      {
       "output_type": "stream",
       "stream": "stdout",
       "text": [
        "\r",
        "Creating importer for <pybug.io.image.PILImporter object at 0x126b5f9d0> (802 of 811)"
       ]
      },
      {
       "output_type": "stream",
       "stream": "stdout",
       "text": [
        "\r",
        "Creating importer for <pybug.io.image.PILImporter object at 0x126b5fa10> (803 of 811)"
       ]
      },
      {
       "output_type": "stream",
       "stream": "stdout",
       "text": [
        "\r",
        "Creating importer for <pybug.io.image.PILImporter object at 0x126b5fa50> (804 of 811)"
       ]
      },
      {
       "output_type": "stream",
       "stream": "stdout",
       "text": [
        "\r",
        "Creating importer for <pybug.io.image.PILImporter object at 0x126b5fa90> (805 of 811)"
       ]
      },
      {
       "output_type": "stream",
       "stream": "stdout",
       "text": [
        "\r",
        "Creating importer for <pybug.io.image.PILImporter object at 0x126b5fad0> (806 of 811)"
       ]
      },
      {
       "output_type": "stream",
       "stream": "stdout",
       "text": [
        "\r",
        "Creating importer for <pybug.io.image.PILImporter object at 0x126b5fb10> (807 of 811)"
       ]
      },
      {
       "output_type": "stream",
       "stream": "stdout",
       "text": [
        "\r",
        "Creating importer for <pybug.io.image.PILImporter object at 0x126b5fb50> (808 of 811)"
       ]
      },
      {
       "output_type": "stream",
       "stream": "stdout",
       "text": [
        "\r",
        "Creating importer for <pybug.io.image.PILImporter object at 0x126b5fb90> (809 of 811)"
       ]
      },
      {
       "output_type": "stream",
       "stream": "stdout",
       "text": [
        "\r",
        "Creating importer for <pybug.io.image.PILImporter object at 0x126b5fbd0> (810 of 811)"
       ]
      },
      {
       "output_type": "stream",
       "stream": "stdout",
       "text": [
        "\r",
        "Creating importer for <pybug.io.image.PILImporter object at 0x126b5fc10> (811 of 811)"
       ]
      },
      {
       "output_type": "stream",
       "stream": "stdout",
       "text": [
        "\n"
       ]
      }
     ],
     "prompt_number": 3
    },
    {
     "cell_type": "code",
     "collapsed": false,
     "input": [
      "from pybug.activeappearancemodel.builder import compute_mean_pointcloud, \\\n",
      "    rescale_to_reference_landmarks\n",
      "from pybug.activeappearancemodel.builder import gaussian_pyramid\n",
      "from pybug.activeappearancemodel.builder import compute_features\n",
      "\n",
      "group = 'PTS'\n",
      "label = 'all'\n",
      "interpolator = 'scipy'\n",
      "reference_landmarks = None\n",
      "scale = 1\n",
      "crop_boundary = 0.2\n",
      "n_levels = 3\n",
      "\n",
      "print '- Cropping images'\n",
      "# crop images around their landmarks\n",
      "for i in images:\n",
      "    i.crop_to_landmarks_proportion(crop_boundary, group=group, label=label)\n",
      "\n",
      "# TODO:\n",
      "if reference_landmarks is None:\n",
      "    print '- Compute reference shape'\n",
      "    # extract original shapes\n",
      "    shapes = [i.landmarks[group][label].lms for i in images]\n",
      "    # define reference shape\n",
      "    reference_landmarks = compute_mean_pointcloud(shapes)\n",
      "\n",
      "# TODO:\n",
      "print '- Rescaling images to reference shape'\n",
      "# rescale images so that the scale of their corresponding shapes matches\n",
      "# the scale of the reference shape\n",
      "images = [rescale_to_reference_landmarks(i, reference_landmarks, scale=scale,\n",
      "                                         group=group, label=label,\n",
      "                                         interpolator=interpolator)\n",
      "          for i in images]\n",
      "\n",
      "# TODO:\n",
      "print '- Building gaussian pyramids'\n",
      "# build gaussian pyramids\n",
      "images_pyramid = [gaussian_pyramid(i, n_levels=n_levels) for i in images]\n",
      "\n",
      "images = [i[-1] for i in images_pyramid]\n",
      "\n",
      "images = [compute_features(i, 'igo', double_angles=True) for i in images]"
     ],
     "language": "python",
     "metadata": {},
     "outputs": [
      {
       "output_type": "stream",
       "stream": "stdout",
       "text": [
        "- Cropping images\n",
        "- Compute reference shape"
       ]
      },
      {
       "output_type": "stream",
       "stream": "stdout",
       "text": [
        "\n",
        "- Rescaling images to reference shape"
       ]
      },
      {
       "output_type": "stream",
       "stream": "stdout",
       "text": [
        "\n",
        "- Building gaussian pyramids"
       ]
      },
      {
       "output_type": "stream",
       "stream": "stdout",
       "text": [
        "\n"
       ]
      }
     ],
     "prompt_number": 4
    },
    {
     "cell_type": "code",
     "collapsed": false,
     "input": [
      "from pybug.activeappearancemodel.regression import ParametricRegressor\n",
      "\n",
      "aam.initialize_lk(n_shape=[3, 6, 12], n_appearance=[250, 250, 250])\n",
      "\n",
      "pr = ParametricRegressor(aam._lk_pyramid[0].appearance_model,\n",
      "                         aam._lk_pyramid[0].transform, order=1,\n",
      "                         features='appearance',\n",
      "                         update='compositional',\n",
      "                         noise_std=0.025,\n",
      "                         n_perturbations=5)\n",
      "\n",
      "landmarks = [i.landmarks['PTS'].lms for i in images]\n",
      "features, delta_ps = pr._regression_data(images, landmarks)"
     ],
     "language": "python",
     "metadata": {},
     "outputs": [
      {
       "output_type": "stream",
       "stream": "stdout",
       "text": [
        " - 0.0 % \r",
        " - 0.0 % "
       ]
      },
      {
       "output_type": "stream",
       "stream": "stdout",
       "text": [
        "\r",
        " - 0.0 % "
       ]
      },
      {
       "output_type": "stream",
       "stream": "stdout",
       "text": [
        "\r",
        " - 0.0 % "
       ]
      },
      {
       "output_type": "stream",
       "stream": "stdout",
       "text": [
        "\r",
        " - 1.0 % "
       ]
      },
      {
       "output_type": "stream",
       "stream": "stdout",
       "text": [
        "\r",
        " - 1.0 % "
       ]
      },
      {
       "output_type": "stream",
       "stream": "stdout",
       "text": [
        "\r",
        " - 1.0 % "
       ]
      },
      {
       "output_type": "stream",
       "stream": "stdout",
       "text": [
        "\r",
        " - 1.0 % "
       ]
      },
      {
       "output_type": "stream",
       "stream": "stdout",
       "text": [
        "\r",
        " - 1.0 % "
       ]
      },
      {
       "output_type": "stream",
       "stream": "stdout",
       "text": [
        "\r",
        " - 1.0 % "
       ]
      },
      {
       "output_type": "stream",
       "stream": "stdout",
       "text": [
        "\r",
        " - 1.0 % "
       ]
      },
      {
       "output_type": "stream",
       "stream": "stdout",
       "text": [
        "\r",
        " - 1.0 % "
       ]
      },
      {
       "output_type": "stream",
       "stream": "stdout",
       "text": [
        "\r",
        " - 2.0 % "
       ]
      },
      {
       "output_type": "stream",
       "stream": "stdout",
       "text": [
        "\r",
        " - 2.0 % "
       ]
      },
      {
       "output_type": "stream",
       "stream": "stdout",
       "text": [
        "\r",
        " - 2.0 % "
       ]
      },
      {
       "output_type": "stream",
       "stream": "stdout",
       "text": [
        "\r",
        " - 2.0 % "
       ]
      },
      {
       "output_type": "stream",
       "stream": "stdout",
       "text": [
        "\r",
        " - 2.0 % "
       ]
      },
      {
       "output_type": "stream",
       "stream": "stdout",
       "text": [
        "\r",
        " - 2.0 % "
       ]
      },
      {
       "output_type": "stream",
       "stream": "stdout",
       "text": [
        "\r",
        " - 2.0 % "
       ]
      },
      {
       "output_type": "stream",
       "stream": "stdout",
       "text": [
        "\r",
        " - 2.0 % "
       ]
      },
      {
       "output_type": "stream",
       "stream": "stdout",
       "text": [
        "\r",
        " - 3.0 % "
       ]
      },
      {
       "output_type": "stream",
       "stream": "stdout",
       "text": [
        "\r",
        " - 3.0 % "
       ]
      },
      {
       "output_type": "stream",
       "stream": "stdout",
       "text": [
        "\r",
        " - 3.0 % "
       ]
      },
      {
       "output_type": "stream",
       "stream": "stdout",
       "text": [
        "\r",
        " - 3.0 % "
       ]
      },
      {
       "output_type": "stream",
       "stream": "stdout",
       "text": [
        "\r",
        " - 3.0 % "
       ]
      },
      {
       "output_type": "stream",
       "stream": "stdout",
       "text": [
        "\r",
        " - 3.0 % "
       ]
      },
      {
       "output_type": "stream",
       "stream": "stdout",
       "text": [
        "\r",
        " - 3.0 % "
       ]
      },
      {
       "output_type": "stream",
       "stream": "stdout",
       "text": [
        "\r",
        " - 3.0 % "
       ]
      },
      {
       "output_type": "stream",
       "stream": "stdout",
       "text": [
        "\r",
        " - 4.0 % "
       ]
      },
      {
       "output_type": "stream",
       "stream": "stdout",
       "text": [
        "\r",
        " - 4.0 % "
       ]
      },
      {
       "output_type": "stream",
       "stream": "stdout",
       "text": [
        "\r",
        " - 4.0 % "
       ]
      },
      {
       "output_type": "stream",
       "stream": "stdout",
       "text": [
        "\r",
        " - 4.0 % "
       ]
      },
      {
       "output_type": "stream",
       "stream": "stdout",
       "text": [
        "\r",
        " - 4.0 % "
       ]
      },
      {
       "output_type": "stream",
       "stream": "stdout",
       "text": [
        "\r",
        " - 4.0 % "
       ]
      },
      {
       "output_type": "stream",
       "stream": "stdout",
       "text": [
        "\r",
        " - 4.0 % "
       ]
      },
      {
       "output_type": "stream",
       "stream": "stdout",
       "text": [
        "\r",
        " - 4.0 % "
       ]
      },
      {
       "output_type": "stream",
       "stream": "stdout",
       "text": [
        "\r",
        " - 5.0 % "
       ]
      },
      {
       "output_type": "stream",
       "stream": "stdout",
       "text": [
        "\r",
        " - 5.0 % "
       ]
      },
      {
       "output_type": "stream",
       "stream": "stdout",
       "text": [
        "\r",
        " - 5.0 % "
       ]
      },
      {
       "output_type": "stream",
       "stream": "stdout",
       "text": [
        "\r",
        " - 5.0 % "
       ]
      },
      {
       "output_type": "stream",
       "stream": "stdout",
       "text": [
        "\r",
        " - 5.0 % "
       ]
      },
      {
       "output_type": "stream",
       "stream": "stdout",
       "text": [
        "\r",
        " - 5.0 % "
       ]
      },
      {
       "output_type": "stream",
       "stream": "stdout",
       "text": [
        "\r",
        " - 5.0 % "
       ]
      },
      {
       "output_type": "stream",
       "stream": "stdout",
       "text": [
        "\r",
        " - 5.0 % "
       ]
      },
      {
       "output_type": "stream",
       "stream": "stdout",
       "text": [
        "\r",
        " - 6.0 % "
       ]
      },
      {
       "output_type": "stream",
       "stream": "stdout",
       "text": [
        "\r",
        " - 6.0 % "
       ]
      },
      {
       "output_type": "stream",
       "stream": "stdout",
       "text": [
        "\r",
        " - 6.0 % "
       ]
      },
      {
       "output_type": "stream",
       "stream": "stdout",
       "text": [
        "\r",
        " - 6.0 % "
       ]
      },
      {
       "output_type": "stream",
       "stream": "stdout",
       "text": [
        "\r",
        " - 6.0 % "
       ]
      },
      {
       "output_type": "stream",
       "stream": "stdout",
       "text": [
        "\r",
        " - 6.0 % "
       ]
      },
      {
       "output_type": "stream",
       "stream": "stdout",
       "text": [
        "\r",
        " - 6.0 % "
       ]
      },
      {
       "output_type": "stream",
       "stream": "stdout",
       "text": [
        "\r",
        " - 6.0 % "
       ]
      },
      {
       "output_type": "stream",
       "stream": "stdout",
       "text": [
        "\r",
        " - 7.0 % "
       ]
      },
      {
       "output_type": "stream",
       "stream": "stdout",
       "text": [
        "\r",
        " - 7.0 % "
       ]
      },
      {
       "output_type": "stream",
       "stream": "stdout",
       "text": [
        "\r",
        " - 7.0 % "
       ]
      },
      {
       "output_type": "stream",
       "stream": "stdout",
       "text": [
        "\r",
        " - 7.0 % "
       ]
      },
      {
       "output_type": "stream",
       "stream": "stdout",
       "text": [
        "\r",
        " - 7.0 % "
       ]
      },
      {
       "output_type": "stream",
       "stream": "stdout",
       "text": [
        "\r",
        " - 7.0 % "
       ]
      },
      {
       "output_type": "stream",
       "stream": "stdout",
       "text": [
        "\r",
        " - 7.0 % "
       ]
      },
      {
       "output_type": "stream",
       "stream": "stdout",
       "text": [
        "\r",
        " - 7.0 % "
       ]
      },
      {
       "output_type": "stream",
       "stream": "stdout",
       "text": [
        "\r",
        " - 8.0 % "
       ]
      },
      {
       "output_type": "stream",
       "stream": "stdout",
       "text": [
        "\r",
        " - 8.0 % "
       ]
      },
      {
       "output_type": "stream",
       "stream": "stdout",
       "text": [
        "\r",
        " - 8.0 % "
       ]
      },
      {
       "output_type": "stream",
       "stream": "stdout",
       "text": [
        "\r",
        " - 8.0 % "
       ]
      },
      {
       "output_type": "stream",
       "stream": "stdout",
       "text": [
        "\r",
        " - 8.0 % "
       ]
      },
      {
       "output_type": "stream",
       "stream": "stdout",
       "text": [
        "\r",
        " - 8.0 % "
       ]
      },
      {
       "output_type": "stream",
       "stream": "stdout",
       "text": [
        "\r",
        " - 8.0 % "
       ]
      },
      {
       "output_type": "stream",
       "stream": "stdout",
       "text": [
        "\r",
        " - 8.0 % "
       ]
      },
      {
       "output_type": "stream",
       "stream": "stdout",
       "text": [
        "\r",
        " - 9.0 % "
       ]
      },
      {
       "output_type": "stream",
       "stream": "stdout",
       "text": [
        "\r",
        " - 9.0 % "
       ]
      },
      {
       "output_type": "stream",
       "stream": "stdout",
       "text": [
        "\r",
        " - 9.0 % "
       ]
      },
      {
       "output_type": "stream",
       "stream": "stdout",
       "text": [
        "\r",
        " - 9.0 % "
       ]
      },
      {
       "output_type": "stream",
       "stream": "stdout",
       "text": [
        "\r",
        " - 9.0 % "
       ]
      },
      {
       "output_type": "stream",
       "stream": "stdout",
       "text": [
        "\r",
        " - 9.0 % "
       ]
      },
      {
       "output_type": "stream",
       "stream": "stdout",
       "text": [
        "\r",
        " - 9.0 % "
       ]
      },
      {
       "output_type": "stream",
       "stream": "stdout",
       "text": [
        "\r",
        " - 9.0 % "
       ]
      },
      {
       "output_type": "stream",
       "stream": "stdout",
       "text": [
        "\r",
        " - 9.0 % "
       ]
      },
      {
       "output_type": "stream",
       "stream": "stdout",
       "text": [
        "\r",
        " - 10.0 % "
       ]
      },
      {
       "output_type": "stream",
       "stream": "stdout",
       "text": [
        "\r",
        " - 10.0 % "
       ]
      },
      {
       "output_type": "stream",
       "stream": "stdout",
       "text": [
        "\r",
        " - 10.0 % "
       ]
      },
      {
       "output_type": "stream",
       "stream": "stdout",
       "text": [
        "\r",
        " - 10.0 % "
       ]
      },
      {
       "output_type": "stream",
       "stream": "stdout",
       "text": [
        "\r",
        " - 10.0 % "
       ]
      },
      {
       "output_type": "stream",
       "stream": "stdout",
       "text": [
        "\r",
        " - 10.0 % "
       ]
      },
      {
       "output_type": "stream",
       "stream": "stdout",
       "text": [
        "\r",
        " - 10.0 % "
       ]
      },
      {
       "output_type": "stream",
       "stream": "stdout",
       "text": [
        "\r",
        " - 10.0 % "
       ]
      },
      {
       "output_type": "stream",
       "stream": "stdout",
       "text": [
        "\r",
        " - 11.0 % "
       ]
      },
      {
       "output_type": "stream",
       "stream": "stdout",
       "text": [
        "\r",
        " - 11.0 % "
       ]
      },
      {
       "output_type": "stream",
       "stream": "stdout",
       "text": [
        "\r",
        " - 11.0 % "
       ]
      },
      {
       "output_type": "stream",
       "stream": "stdout",
       "text": [
        "\r",
        " - 11.0 % "
       ]
      },
      {
       "output_type": "stream",
       "stream": "stdout",
       "text": [
        "\r",
        " - 11.0 % "
       ]
      },
      {
       "output_type": "stream",
       "stream": "stdout",
       "text": [
        "\r",
        " - 11.0 % "
       ]
      },
      {
       "output_type": "stream",
       "stream": "stdout",
       "text": [
        "\r",
        " - 11.0 % "
       ]
      },
      {
       "output_type": "stream",
       "stream": "stdout",
       "text": [
        "\r",
        " - 11.0 % "
       ]
      },
      {
       "output_type": "stream",
       "stream": "stdout",
       "text": [
        "\r",
        " - 12.0 % "
       ]
      },
      {
       "output_type": "stream",
       "stream": "stdout",
       "text": [
        "\r",
        " - 12.0 % "
       ]
      },
      {
       "output_type": "stream",
       "stream": "stdout",
       "text": [
        "\r",
        " - 12.0 % "
       ]
      },
      {
       "output_type": "stream",
       "stream": "stdout",
       "text": [
        "\r",
        " - 12.0 % "
       ]
      },
      {
       "output_type": "stream",
       "stream": "stdout",
       "text": [
        "\r",
        " - 12.0 % "
       ]
      },
      {
       "output_type": "stream",
       "stream": "stdout",
       "text": [
        "\r",
        " - 12.0 % "
       ]
      },
      {
       "output_type": "stream",
       "stream": "stdout",
       "text": [
        "\r",
        " - 12.0 % "
       ]
      },
      {
       "output_type": "stream",
       "stream": "stdout",
       "text": [
        "\r",
        " - 12.0 % "
       ]
      },
      {
       "output_type": "stream",
       "stream": "stdout",
       "text": [
        "\r",
        " - 13.0 % "
       ]
      },
      {
       "output_type": "stream",
       "stream": "stdout",
       "text": [
        "\r",
        " - 13.0 % "
       ]
      },
      {
       "output_type": "stream",
       "stream": "stdout",
       "text": [
        "\r",
        " - 13.0 % "
       ]
      },
      {
       "output_type": "stream",
       "stream": "stdout",
       "text": [
        "\r",
        " - 13.0 % "
       ]
      },
      {
       "output_type": "stream",
       "stream": "stdout",
       "text": [
        "\r",
        " - 13.0 % "
       ]
      },
      {
       "output_type": "stream",
       "stream": "stdout",
       "text": [
        "\r",
        " - 13.0 % "
       ]
      },
      {
       "output_type": "stream",
       "stream": "stdout",
       "text": [
        "\r",
        " - 13.0 % "
       ]
      },
      {
       "output_type": "stream",
       "stream": "stdout",
       "text": [
        "\r",
        " - 13.0 % "
       ]
      },
      {
       "output_type": "stream",
       "stream": "stdout",
       "text": [
        "\r",
        " - 14.0 % "
       ]
      },
      {
       "output_type": "stream",
       "stream": "stdout",
       "text": [
        "\r",
        " - 14.0 % "
       ]
      },
      {
       "output_type": "stream",
       "stream": "stdout",
       "text": [
        "\r",
        " - 14.0 % "
       ]
      },
      {
       "output_type": "stream",
       "stream": "stdout",
       "text": [
        "\r",
        " - 14.0 % "
       ]
      },
      {
       "output_type": "stream",
       "stream": "stdout",
       "text": [
        "\r",
        " - 14.0 % "
       ]
      },
      {
       "output_type": "stream",
       "stream": "stdout",
       "text": [
        "\r",
        " - 14.0 % "
       ]
      },
      {
       "output_type": "stream",
       "stream": "stdout",
       "text": [
        "\r",
        " - 14.0 % "
       ]
      },
      {
       "output_type": "stream",
       "stream": "stdout",
       "text": [
        "\r",
        " - 14.0 % "
       ]
      },
      {
       "output_type": "stream",
       "stream": "stdout",
       "text": [
        "\r",
        " - 15.0 % "
       ]
      },
      {
       "output_type": "stream",
       "stream": "stdout",
       "text": [
        "\r",
        " - 15.0 % "
       ]
      },
      {
       "output_type": "stream",
       "stream": "stdout",
       "text": [
        "\r",
        " - 15.0 % "
       ]
      },
      {
       "output_type": "stream",
       "stream": "stdout",
       "text": [
        "\r",
        " - 15.0 % "
       ]
      },
      {
       "output_type": "stream",
       "stream": "stdout",
       "text": [
        "\r",
        " - 15.0 % "
       ]
      },
      {
       "output_type": "stream",
       "stream": "stdout",
       "text": [
        "\r",
        " - 15.0 % "
       ]
      },
      {
       "output_type": "stream",
       "stream": "stdout",
       "text": [
        "\r",
        " - 15.0 % "
       ]
      },
      {
       "output_type": "stream",
       "stream": "stdout",
       "text": [
        "\r",
        " - 15.0 % "
       ]
      },
      {
       "output_type": "stream",
       "stream": "stdout",
       "text": [
        "\r",
        " - 16.0 % "
       ]
      },
      {
       "output_type": "stream",
       "stream": "stdout",
       "text": [
        "\r",
        " - 16.0 % "
       ]
      },
      {
       "output_type": "stream",
       "stream": "stdout",
       "text": [
        "\r",
        " - 16.0 % "
       ]
      },
      {
       "output_type": "stream",
       "stream": "stdout",
       "text": [
        "\r",
        " - 16.0 % "
       ]
      },
      {
       "output_type": "stream",
       "stream": "stdout",
       "text": [
        "\r",
        " - 16.0 % "
       ]
      },
      {
       "output_type": "stream",
       "stream": "stdout",
       "text": [
        "\r",
        " - 16.0 % "
       ]
      },
      {
       "output_type": "stream",
       "stream": "stdout",
       "text": [
        "\r",
        " - 16.0 % "
       ]
      },
      {
       "output_type": "stream",
       "stream": "stdout",
       "text": [
        "\r",
        " - 16.0 % "
       ]
      },
      {
       "output_type": "stream",
       "stream": "stdout",
       "text": [
        "\r",
        " - 17.0 % "
       ]
      },
      {
       "output_type": "stream",
       "stream": "stdout",
       "text": [
        "\r",
        " - 17.0 % "
       ]
      },
      {
       "output_type": "stream",
       "stream": "stdout",
       "text": [
        "\r",
        " - 17.0 % "
       ]
      },
      {
       "output_type": "stream",
       "stream": "stdout",
       "text": [
        "\r",
        " - 17.0 % "
       ]
      },
      {
       "output_type": "stream",
       "stream": "stdout",
       "text": [
        "\r",
        " - 17.0 % "
       ]
      },
      {
       "output_type": "stream",
       "stream": "stdout",
       "text": [
        "\r",
        " - 17.0 % "
       ]
      },
      {
       "output_type": "stream",
       "stream": "stdout",
       "text": [
        "\r",
        " - 17.0 % "
       ]
      },
      {
       "output_type": "stream",
       "stream": "stdout",
       "text": [
        "\r",
        " - 17.0 % "
       ]
      },
      {
       "output_type": "stream",
       "stream": "stdout",
       "text": [
        "\r",
        " - 18.0 % "
       ]
      },
      {
       "output_type": "stream",
       "stream": "stdout",
       "text": [
        "\r",
        " - 18.0 % "
       ]
      },
      {
       "output_type": "stream",
       "stream": "stdout",
       "text": [
        "\r",
        " - 18.0 % "
       ]
      },
      {
       "output_type": "stream",
       "stream": "stdout",
       "text": [
        "\r",
        " - 18.0 % "
       ]
      },
      {
       "output_type": "stream",
       "stream": "stdout",
       "text": [
        "\r",
        " - 18.0 % "
       ]
      },
      {
       "output_type": "stream",
       "stream": "stdout",
       "text": [
        "\r",
        " - 18.0 % "
       ]
      },
      {
       "output_type": "stream",
       "stream": "stdout",
       "text": [
        "\r",
        " - 18.0 % "
       ]
      },
      {
       "output_type": "stream",
       "stream": "stdout",
       "text": [
        "\r",
        " - 18.0 % "
       ]
      },
      {
       "output_type": "stream",
       "stream": "stdout",
       "text": [
        "\r",
        " - 18.0 % "
       ]
      },
      {
       "output_type": "stream",
       "stream": "stdout",
       "text": [
        "\r",
        " - 19.0 % "
       ]
      },
      {
       "output_type": "stream",
       "stream": "stdout",
       "text": [
        "\r",
        " - 19.0 % "
       ]
      },
      {
       "output_type": "stream",
       "stream": "stdout",
       "text": [
        "\r",
        " - 19.0 % "
       ]
      },
      {
       "output_type": "stream",
       "stream": "stdout",
       "text": [
        "\r",
        " - 19.0 % "
       ]
      },
      {
       "output_type": "stream",
       "stream": "stdout",
       "text": [
        "\r",
        " - 19.0 % "
       ]
      },
      {
       "output_type": "stream",
       "stream": "stdout",
       "text": [
        "\r",
        " - 19.0 % "
       ]
      },
      {
       "output_type": "stream",
       "stream": "stdout",
       "text": [
        "\r",
        " - 19.0 % "
       ]
      },
      {
       "output_type": "stream",
       "stream": "stdout",
       "text": [
        "\r",
        " - 19.0 % "
       ]
      },
      {
       "output_type": "stream",
       "stream": "stdout",
       "text": [
        "\r",
        " - 20.0 % "
       ]
      },
      {
       "output_type": "stream",
       "stream": "stdout",
       "text": [
        "\r",
        " - 20.0 % "
       ]
      },
      {
       "output_type": "stream",
       "stream": "stdout",
       "text": [
        "\r",
        " - 20.0 % "
       ]
      },
      {
       "output_type": "stream",
       "stream": "stdout",
       "text": [
        "\r",
        " - 20.0 % "
       ]
      },
      {
       "output_type": "stream",
       "stream": "stdout",
       "text": [
        "\r",
        " - 20.0 % "
       ]
      },
      {
       "output_type": "stream",
       "stream": "stdout",
       "text": [
        "\r",
        " - 20.0 % "
       ]
      },
      {
       "output_type": "stream",
       "stream": "stdout",
       "text": [
        "\r",
        " - 20.0 % "
       ]
      },
      {
       "output_type": "stream",
       "stream": "stdout",
       "text": [
        "\r",
        " - 20.0 % "
       ]
      },
      {
       "output_type": "stream",
       "stream": "stdout",
       "text": [
        "\r",
        " - 21.0 % "
       ]
      },
      {
       "output_type": "stream",
       "stream": "stdout",
       "text": [
        "\r",
        " - 21.0 % "
       ]
      },
      {
       "output_type": "stream",
       "stream": "stdout",
       "text": [
        "\r",
        " - 21.0 % "
       ]
      },
      {
       "output_type": "stream",
       "stream": "stdout",
       "text": [
        "\r",
        " - 21.0 % "
       ]
      },
      {
       "output_type": "stream",
       "stream": "stdout",
       "text": [
        "\r",
        " - 21.0 % "
       ]
      },
      {
       "output_type": "stream",
       "stream": "stdout",
       "text": [
        "\r",
        " - 21.0 % "
       ]
      },
      {
       "output_type": "stream",
       "stream": "stdout",
       "text": [
        "\r",
        " - 21.0 % "
       ]
      },
      {
       "output_type": "stream",
       "stream": "stdout",
       "text": [
        "\r",
        " - 21.0 % "
       ]
      },
      {
       "output_type": "stream",
       "stream": "stdout",
       "text": [
        "\r",
        " - 22.0 % "
       ]
      },
      {
       "output_type": "stream",
       "stream": "stdout",
       "text": [
        "\r",
        " - 22.0 % "
       ]
      },
      {
       "output_type": "stream",
       "stream": "stdout",
       "text": [
        "\r",
        " - 22.0 % "
       ]
      },
      {
       "output_type": "stream",
       "stream": "stdout",
       "text": [
        "\r",
        " - 22.0 % "
       ]
      },
      {
       "output_type": "stream",
       "stream": "stdout",
       "text": [
        "\r",
        " - 22.0 % "
       ]
      },
      {
       "output_type": "stream",
       "stream": "stdout",
       "text": [
        "\r",
        " - 22.0 % "
       ]
      },
      {
       "output_type": "stream",
       "stream": "stdout",
       "text": [
        "\r",
        " - 22.0 % "
       ]
      },
      {
       "output_type": "stream",
       "stream": "stdout",
       "text": [
        "\r",
        " - 22.0 % "
       ]
      },
      {
       "output_type": "stream",
       "stream": "stdout",
       "text": [
        "\r",
        " - 23.0 % "
       ]
      },
      {
       "output_type": "stream",
       "stream": "stdout",
       "text": [
        "\r",
        " - 23.0 % "
       ]
      },
      {
       "output_type": "stream",
       "stream": "stdout",
       "text": [
        "\r",
        " - 23.0 % "
       ]
      },
      {
       "output_type": "stream",
       "stream": "stdout",
       "text": [
        "\r",
        " - 23.0 % "
       ]
      },
      {
       "output_type": "stream",
       "stream": "stdout",
       "text": [
        "\r",
        " - 23.0 % "
       ]
      },
      {
       "output_type": "stream",
       "stream": "stdout",
       "text": [
        "\r",
        " - 23.0 % "
       ]
      },
      {
       "output_type": "stream",
       "stream": "stdout",
       "text": [
        "\r",
        " - 23.0 % "
       ]
      },
      {
       "output_type": "stream",
       "stream": "stdout",
       "text": [
        "\r",
        " - 23.0 % "
       ]
      },
      {
       "output_type": "stream",
       "stream": "stdout",
       "text": [
        "\r",
        " - 24.0 % "
       ]
      },
      {
       "output_type": "stream",
       "stream": "stdout",
       "text": [
        "\r",
        " - 24.0 % "
       ]
      },
      {
       "output_type": "stream",
       "stream": "stdout",
       "text": [
        "\r",
        " - 24.0 % "
       ]
      },
      {
       "output_type": "stream",
       "stream": "stdout",
       "text": [
        "\r",
        " - 24.0 % "
       ]
      },
      {
       "output_type": "stream",
       "stream": "stdout",
       "text": [
        "\r",
        " - 24.0 % "
       ]
      },
      {
       "output_type": "stream",
       "stream": "stdout",
       "text": [
        "\r",
        " - 24.0 % "
       ]
      },
      {
       "output_type": "stream",
       "stream": "stdout",
       "text": [
        "\r",
        " - 24.0 % "
       ]
      },
      {
       "output_type": "stream",
       "stream": "stdout",
       "text": [
        "\r",
        " - 24.0 % "
       ]
      },
      {
       "output_type": "stream",
       "stream": "stdout",
       "text": [
        "\r",
        " - 25.0 % "
       ]
      },
      {
       "output_type": "stream",
       "stream": "stdout",
       "text": [
        "\r",
        " - 25.0 % "
       ]
      },
      {
       "output_type": "stream",
       "stream": "stdout",
       "text": [
        "\r",
        " - 25.0 % "
       ]
      },
      {
       "output_type": "stream",
       "stream": "stdout",
       "text": [
        "\r",
        " - 25.0 % "
       ]
      },
      {
       "output_type": "stream",
       "stream": "stdout",
       "text": [
        "\r",
        " - 25.0 % "
       ]
      },
      {
       "output_type": "stream",
       "stream": "stdout",
       "text": [
        "\r",
        " - 25.0 % "
       ]
      },
      {
       "output_type": "stream",
       "stream": "stdout",
       "text": [
        "\r",
        " - 25.0 % "
       ]
      },
      {
       "output_type": "stream",
       "stream": "stdout",
       "text": [
        "\r",
        " - 25.0 % "
       ]
      },
      {
       "output_type": "stream",
       "stream": "stdout",
       "text": [
        "\r",
        " - 26.0 % "
       ]
      },
      {
       "output_type": "stream",
       "stream": "stdout",
       "text": [
        "\r",
        " - 26.0 % "
       ]
      },
      {
       "output_type": "stream",
       "stream": "stdout",
       "text": [
        "\r",
        " - 26.0 % "
       ]
      },
      {
       "output_type": "stream",
       "stream": "stdout",
       "text": [
        "\r",
        " - 26.0 % "
       ]
      },
      {
       "output_type": "stream",
       "stream": "stdout",
       "text": [
        "\r",
        " - 26.0 % "
       ]
      },
      {
       "output_type": "stream",
       "stream": "stdout",
       "text": [
        "\r",
        " - 26.0 % "
       ]
      },
      {
       "output_type": "stream",
       "stream": "stdout",
       "text": [
        "\r",
        " - 26.0 % "
       ]
      },
      {
       "output_type": "stream",
       "stream": "stdout",
       "text": [
        "\r",
        " - 26.0 % "
       ]
      },
      {
       "output_type": "stream",
       "stream": "stdout",
       "text": [
        "\r",
        " - 27.0 % "
       ]
      },
      {
       "output_type": "stream",
       "stream": "stdout",
       "text": [
        "\r",
        " - 27.0 % "
       ]
      },
      {
       "output_type": "stream",
       "stream": "stdout",
       "text": [
        "\r",
        " - 27.0 % "
       ]
      },
      {
       "output_type": "stream",
       "stream": "stdout",
       "text": [
        "\r",
        " - 27.0 % "
       ]
      },
      {
       "output_type": "stream",
       "stream": "stdout",
       "text": [
        "\r",
        " - 27.0 % "
       ]
      },
      {
       "output_type": "stream",
       "stream": "stdout",
       "text": [
        "\r",
        " - 27.0 % "
       ]
      },
      {
       "output_type": "stream",
       "stream": "stdout",
       "text": [
        "\r",
        " - 27.0 % "
       ]
      },
      {
       "output_type": "stream",
       "stream": "stdout",
       "text": [
        "\r",
        " - 27.0 % "
       ]
      },
      {
       "output_type": "stream",
       "stream": "stdout",
       "text": [
        "\r",
        " - 27.0 % "
       ]
      },
      {
       "output_type": "stream",
       "stream": "stdout",
       "text": [
        "\r",
        " - 28.0 % "
       ]
      },
      {
       "output_type": "stream",
       "stream": "stdout",
       "text": [
        "\r",
        " - 28.0 % "
       ]
      },
      {
       "output_type": "stream",
       "stream": "stdout",
       "text": [
        "\r",
        " - 28.0 % "
       ]
      },
      {
       "output_type": "stream",
       "stream": "stdout",
       "text": [
        "\r",
        " - 28.0 % "
       ]
      },
      {
       "output_type": "stream",
       "stream": "stdout",
       "text": [
        "\r",
        " - 28.0 % "
       ]
      },
      {
       "output_type": "stream",
       "stream": "stdout",
       "text": [
        "\r",
        " - 28.0 % "
       ]
      },
      {
       "output_type": "stream",
       "stream": "stdout",
       "text": [
        "\r",
        " - 28.0 % "
       ]
      },
      {
       "output_type": "stream",
       "stream": "stdout",
       "text": [
        "\r",
        " - 28.0 % "
       ]
      },
      {
       "output_type": "stream",
       "stream": "stdout",
       "text": [
        "\r",
        " - 29.0 % "
       ]
      },
      {
       "output_type": "stream",
       "stream": "stdout",
       "text": [
        "\r",
        " - 29.0 % "
       ]
      },
      {
       "output_type": "stream",
       "stream": "stdout",
       "text": [
        "\r",
        " - 29.0 % "
       ]
      },
      {
       "output_type": "stream",
       "stream": "stdout",
       "text": [
        "\r",
        " - 29.0 % "
       ]
      },
      {
       "output_type": "stream",
       "stream": "stdout",
       "text": [
        "\r",
        " - 29.0 % "
       ]
      },
      {
       "output_type": "stream",
       "stream": "stdout",
       "text": [
        "\r",
        " - 29.0 % "
       ]
      },
      {
       "output_type": "stream",
       "stream": "stdout",
       "text": [
        "\r",
        " - 29.0 % "
       ]
      },
      {
       "output_type": "stream",
       "stream": "stdout",
       "text": [
        "\r",
        " - 29.0 % "
       ]
      },
      {
       "output_type": "stream",
       "stream": "stdout",
       "text": [
        "\r",
        " - 30.0 % "
       ]
      },
      {
       "output_type": "stream",
       "stream": "stdout",
       "text": [
        "\r",
        " - 30.0 % "
       ]
      },
      {
       "output_type": "stream",
       "stream": "stdout",
       "text": [
        "\r",
        " - 30.0 % "
       ]
      },
      {
       "output_type": "stream",
       "stream": "stdout",
       "text": [
        "\r",
        " - 30.0 % "
       ]
      },
      {
       "output_type": "stream",
       "stream": "stdout",
       "text": [
        "\r",
        " - 30.0 % "
       ]
      },
      {
       "output_type": "stream",
       "stream": "stdout",
       "text": [
        "\r",
        " - 30.0 % "
       ]
      },
      {
       "output_type": "stream",
       "stream": "stdout",
       "text": [
        "\r",
        " - 30.0 % "
       ]
      },
      {
       "output_type": "stream",
       "stream": "stdout",
       "text": [
        "\r",
        " - 30.0 % "
       ]
      },
      {
       "output_type": "stream",
       "stream": "stdout",
       "text": [
        "\r",
        " - 31.0 % "
       ]
      },
      {
       "output_type": "stream",
       "stream": "stdout",
       "text": [
        "\r",
        " - 31.0 % "
       ]
      },
      {
       "output_type": "stream",
       "stream": "stdout",
       "text": [
        "\r",
        " - 31.0 % "
       ]
      },
      {
       "output_type": "stream",
       "stream": "stdout",
       "text": [
        "\r",
        " - 31.0 % "
       ]
      },
      {
       "output_type": "stream",
       "stream": "stdout",
       "text": [
        "\r",
        " - 31.0 % "
       ]
      },
      {
       "output_type": "stream",
       "stream": "stdout",
       "text": [
        "\r",
        " - 31.0 % "
       ]
      },
      {
       "output_type": "stream",
       "stream": "stdout",
       "text": [
        "\r",
        " - 31.0 % "
       ]
      },
      {
       "output_type": "stream",
       "stream": "stdout",
       "text": [
        "\r",
        " - 31.0 % "
       ]
      },
      {
       "output_type": "stream",
       "stream": "stdout",
       "text": [
        "\r",
        " - 32.0 % "
       ]
      },
      {
       "output_type": "stream",
       "stream": "stdout",
       "text": [
        "\r",
        " - 32.0 % "
       ]
      },
      {
       "output_type": "stream",
       "stream": "stdout",
       "text": [
        "\r",
        " - 32.0 % "
       ]
      },
      {
       "output_type": "stream",
       "stream": "stdout",
       "text": [
        "\r",
        " - 32.0 % "
       ]
      },
      {
       "output_type": "stream",
       "stream": "stdout",
       "text": [
        "\r",
        " - 32.0 % "
       ]
      },
      {
       "output_type": "stream",
       "stream": "stdout",
       "text": [
        "\r",
        " - 32.0 % "
       ]
      },
      {
       "output_type": "stream",
       "stream": "stdout",
       "text": [
        "\r",
        " - 32.0 % "
       ]
      },
      {
       "output_type": "stream",
       "stream": "stdout",
       "text": [
        "\r",
        " - 32.0 % "
       ]
      },
      {
       "output_type": "stream",
       "stream": "stdout",
       "text": [
        "\r",
        " - 33.0 % "
       ]
      },
      {
       "output_type": "stream",
       "stream": "stdout",
       "text": [
        "\r",
        " - 33.0 % "
       ]
      },
      {
       "output_type": "stream",
       "stream": "stdout",
       "text": [
        "\r",
        " - 33.0 % "
       ]
      },
      {
       "output_type": "stream",
       "stream": "stdout",
       "text": [
        "\r",
        " - 33.0 % "
       ]
      },
      {
       "output_type": "stream",
       "stream": "stdout",
       "text": [
        "\r",
        " - 33.0 % "
       ]
      },
      {
       "output_type": "stream",
       "stream": "stdout",
       "text": [
        "\r",
        " - 33.0 % "
       ]
      },
      {
       "output_type": "stream",
       "stream": "stdout",
       "text": [
        "\r",
        " - 33.0 % "
       ]
      },
      {
       "output_type": "stream",
       "stream": "stdout",
       "text": [
        "\r",
        " - 33.0 % "
       ]
      },
      {
       "output_type": "stream",
       "stream": "stdout",
       "text": [
        "\r",
        " - 34.0 % "
       ]
      },
      {
       "output_type": "stream",
       "stream": "stdout",
       "text": [
        "\r",
        " - 34.0 % "
       ]
      },
      {
       "output_type": "stream",
       "stream": "stdout",
       "text": [
        "\r",
        " - 34.0 % "
       ]
      },
      {
       "output_type": "stream",
       "stream": "stdout",
       "text": [
        "\r",
        " - 34.0 % "
       ]
      },
      {
       "output_type": "stream",
       "stream": "stdout",
       "text": [
        "\r",
        " - 34.0 % "
       ]
      },
      {
       "output_type": "stream",
       "stream": "stdout",
       "text": [
        "\r",
        " - 34.0 % "
       ]
      },
      {
       "output_type": "stream",
       "stream": "stdout",
       "text": [
        "\r",
        " - 34.0 % "
       ]
      },
      {
       "output_type": "stream",
       "stream": "stdout",
       "text": [
        "\r",
        " - 34.0 % "
       ]
      },
      {
       "output_type": "stream",
       "stream": "stdout",
       "text": [
        "\r",
        " - 35.0 % "
       ]
      },
      {
       "output_type": "stream",
       "stream": "stdout",
       "text": [
        "\r",
        " - 35.0 % "
       ]
      },
      {
       "output_type": "stream",
       "stream": "stdout",
       "text": [
        "\r",
        " - 35.0 % "
       ]
      },
      {
       "output_type": "stream",
       "stream": "stdout",
       "text": [
        "\r",
        " - 35.0 % "
       ]
      },
      {
       "output_type": "stream",
       "stream": "stdout",
       "text": [
        "\r",
        " - 35.0 % "
       ]
      },
      {
       "output_type": "stream",
       "stream": "stdout",
       "text": [
        "\r",
        " - 35.0 % "
       ]
      },
      {
       "output_type": "stream",
       "stream": "stdout",
       "text": [
        "\r",
        " - 35.0 % "
       ]
      },
      {
       "output_type": "stream",
       "stream": "stdout",
       "text": [
        "\r",
        " - 35.0 % "
       ]
      },
      {
       "output_type": "stream",
       "stream": "stdout",
       "text": [
        "\r",
        " - 36.0 % "
       ]
      },
      {
       "output_type": "stream",
       "stream": "stdout",
       "text": [
        "\r",
        " - 36.0 % "
       ]
      },
      {
       "output_type": "stream",
       "stream": "stdout",
       "text": [
        "\r",
        " - 36.0 % "
       ]
      },
      {
       "output_type": "stream",
       "stream": "stdout",
       "text": [
        "\r",
        " - 36.0 % "
       ]
      },
      {
       "output_type": "stream",
       "stream": "stdout",
       "text": [
        "\r",
        " - 36.0 % "
       ]
      },
      {
       "output_type": "stream",
       "stream": "stdout",
       "text": [
        "\r",
        " - 36.0 % "
       ]
      },
      {
       "output_type": "stream",
       "stream": "stdout",
       "text": [
        "\r",
        " - 36.0 % "
       ]
      },
      {
       "output_type": "stream",
       "stream": "stdout",
       "text": [
        "\r",
        " - 36.0 % "
       ]
      },
      {
       "output_type": "stream",
       "stream": "stdout",
       "text": [
        "\r",
        " - 36.0 % "
       ]
      },
      {
       "output_type": "stream",
       "stream": "stdout",
       "text": [
        "\r",
        " - 37.0 % "
       ]
      },
      {
       "output_type": "stream",
       "stream": "stdout",
       "text": [
        "\r",
        " - 37.0 % "
       ]
      },
      {
       "output_type": "stream",
       "stream": "stdout",
       "text": [
        "\r",
        " - 37.0 % "
       ]
      },
      {
       "output_type": "stream",
       "stream": "stdout",
       "text": [
        "\r",
        " - 37.0 % "
       ]
      },
      {
       "output_type": "stream",
       "stream": "stdout",
       "text": [
        "\r",
        " - 37.0 % "
       ]
      },
      {
       "output_type": "stream",
       "stream": "stdout",
       "text": [
        "\r",
        " - 37.0 % "
       ]
      },
      {
       "output_type": "stream",
       "stream": "stdout",
       "text": [
        "\r",
        " - 37.0 % "
       ]
      },
      {
       "output_type": "stream",
       "stream": "stdout",
       "text": [
        "\r",
        " - 37.0 % "
       ]
      },
      {
       "output_type": "stream",
       "stream": "stdout",
       "text": [
        "\r",
        " - 38.0 % "
       ]
      },
      {
       "output_type": "stream",
       "stream": "stdout",
       "text": [
        "\r",
        " - 38.0 % "
       ]
      },
      {
       "output_type": "stream",
       "stream": "stdout",
       "text": [
        "\r",
        " - 38.0 % "
       ]
      },
      {
       "output_type": "stream",
       "stream": "stdout",
       "text": [
        "\r",
        " - 38.0 % "
       ]
      },
      {
       "output_type": "stream",
       "stream": "stdout",
       "text": [
        "\r",
        " - 38.0 % "
       ]
      },
      {
       "output_type": "stream",
       "stream": "stdout",
       "text": [
        "\r",
        " - 38.0 % "
       ]
      },
      {
       "output_type": "stream",
       "stream": "stdout",
       "text": [
        "\r",
        " - 38.0 % "
       ]
      },
      {
       "output_type": "stream",
       "stream": "stdout",
       "text": [
        "\r",
        " - 38.0 % "
       ]
      },
      {
       "output_type": "stream",
       "stream": "stdout",
       "text": [
        "\r",
        " - 39.0 % "
       ]
      },
      {
       "output_type": "stream",
       "stream": "stdout",
       "text": [
        "\r",
        " - 39.0 % "
       ]
      },
      {
       "output_type": "stream",
       "stream": "stdout",
       "text": [
        "\r",
        " - 39.0 % "
       ]
      },
      {
       "output_type": "stream",
       "stream": "stdout",
       "text": [
        "\r",
        " - 39.0 % "
       ]
      },
      {
       "output_type": "stream",
       "stream": "stdout",
       "text": [
        "\r",
        " - 39.0 % "
       ]
      },
      {
       "output_type": "stream",
       "stream": "stdout",
       "text": [
        "\r",
        " - 39.0 % "
       ]
      },
      {
       "output_type": "stream",
       "stream": "stdout",
       "text": [
        "\r",
        " - 39.0 % "
       ]
      },
      {
       "output_type": "stream",
       "stream": "stdout",
       "text": [
        "\r",
        " - 39.0 % "
       ]
      },
      {
       "output_type": "stream",
       "stream": "stdout",
       "text": [
        "\r",
        " - 40.0 % "
       ]
      },
      {
       "output_type": "stream",
       "stream": "stdout",
       "text": [
        "\r",
        " - 40.0 % "
       ]
      },
      {
       "output_type": "stream",
       "stream": "stdout",
       "text": [
        "\r",
        " - 40.0 % "
       ]
      },
      {
       "output_type": "stream",
       "stream": "stdout",
       "text": [
        "\r",
        " - 40.0 % "
       ]
      },
      {
       "output_type": "stream",
       "stream": "stdout",
       "text": [
        "\r",
        " - 40.0 % "
       ]
      },
      {
       "output_type": "stream",
       "stream": "stdout",
       "text": [
        "\r",
        " - 40.0 % "
       ]
      },
      {
       "output_type": "stream",
       "stream": "stdout",
       "text": [
        "\r",
        " - 40.0 % "
       ]
      },
      {
       "output_type": "stream",
       "stream": "stdout",
       "text": [
        "\r",
        " - 40.0 % "
       ]
      },
      {
       "output_type": "stream",
       "stream": "stdout",
       "text": [
        "\r",
        " - 41.0 % "
       ]
      },
      {
       "output_type": "stream",
       "stream": "stdout",
       "text": [
        "\r",
        " - 41.0 % "
       ]
      },
      {
       "output_type": "stream",
       "stream": "stdout",
       "text": [
        "\r",
        " - 41.0 % "
       ]
      },
      {
       "output_type": "stream",
       "stream": "stdout",
       "text": [
        "\r",
        " - 41.0 % "
       ]
      },
      {
       "output_type": "stream",
       "stream": "stdout",
       "text": [
        "\r",
        " - 41.0 % "
       ]
      },
      {
       "output_type": "stream",
       "stream": "stdout",
       "text": [
        "\r",
        " - 41.0 % "
       ]
      },
      {
       "output_type": "stream",
       "stream": "stdout",
       "text": [
        "\r",
        " - 41.0 % "
       ]
      },
      {
       "output_type": "stream",
       "stream": "stdout",
       "text": [
        "\r",
        " - 41.0 % "
       ]
      },
      {
       "output_type": "stream",
       "stream": "stdout",
       "text": [
        "\r",
        " - 42.0 % "
       ]
      },
      {
       "output_type": "stream",
       "stream": "stdout",
       "text": [
        "\r",
        " - 42.0 % "
       ]
      },
      {
       "output_type": "stream",
       "stream": "stdout",
       "text": [
        "\r",
        " - 42.0 % "
       ]
      },
      {
       "output_type": "stream",
       "stream": "stdout",
       "text": [
        "\r",
        " - 42.0 % "
       ]
      },
      {
       "output_type": "stream",
       "stream": "stdout",
       "text": [
        "\r",
        " - 42.0 % "
       ]
      },
      {
       "output_type": "stream",
       "stream": "stdout",
       "text": [
        "\r",
        " - 42.0 % "
       ]
      },
      {
       "output_type": "stream",
       "stream": "stdout",
       "text": [
        "\r",
        " - 42.0 % "
       ]
      },
      {
       "output_type": "stream",
       "stream": "stdout",
       "text": [
        "\r",
        " - 42.0 % "
       ]
      },
      {
       "output_type": "stream",
       "stream": "stdout",
       "text": [
        "\r",
        " - 43.0 % "
       ]
      },
      {
       "output_type": "stream",
       "stream": "stdout",
       "text": [
        "\r",
        " - 43.0 % "
       ]
      },
      {
       "output_type": "stream",
       "stream": "stdout",
       "text": [
        "\r",
        " - 43.0 % "
       ]
      },
      {
       "output_type": "stream",
       "stream": "stdout",
       "text": [
        "\r",
        " - 43.0 % "
       ]
      },
      {
       "output_type": "stream",
       "stream": "stdout",
       "text": [
        "\r",
        " - 43.0 % "
       ]
      },
      {
       "output_type": "stream",
       "stream": "stdout",
       "text": [
        "\r",
        " - 43.0 % "
       ]
      },
      {
       "output_type": "stream",
       "stream": "stdout",
       "text": [
        "\r",
        " - 43.0 % "
       ]
      },
      {
       "output_type": "stream",
       "stream": "stdout",
       "text": [
        "\r",
        " - 43.0 % "
       ]
      },
      {
       "output_type": "stream",
       "stream": "stdout",
       "text": [
        "\r",
        " - 44.0 % "
       ]
      },
      {
       "output_type": "stream",
       "stream": "stdout",
       "text": [
        "\r",
        " - 44.0 % "
       ]
      },
      {
       "output_type": "stream",
       "stream": "stdout",
       "text": [
        "\r",
        " - 44.0 % "
       ]
      },
      {
       "output_type": "stream",
       "stream": "stdout",
       "text": [
        "\r",
        " - 44.0 % "
       ]
      },
      {
       "output_type": "stream",
       "stream": "stdout",
       "text": [
        "\r",
        " - 44.0 % "
       ]
      },
      {
       "output_type": "stream",
       "stream": "stdout",
       "text": [
        "\r",
        " - 44.0 % "
       ]
      },
      {
       "output_type": "stream",
       "stream": "stdout",
       "text": [
        "\r",
        " - 44.0 % "
       ]
      },
      {
       "output_type": "stream",
       "stream": "stdout",
       "text": [
        "\r",
        " - 44.0 % "
       ]
      },
      {
       "output_type": "stream",
       "stream": "stdout",
       "text": [
        "\r",
        " - 45.0 % "
       ]
      },
      {
       "output_type": "stream",
       "stream": "stdout",
       "text": [
        "\r",
        " - 45.0 % "
       ]
      },
      {
       "output_type": "stream",
       "stream": "stdout",
       "text": [
        "\r",
        " - 45.0 % "
       ]
      },
      {
       "output_type": "stream",
       "stream": "stdout",
       "text": [
        "\r",
        " - 45.0 % "
       ]
      },
      {
       "output_type": "stream",
       "stream": "stdout",
       "text": [
        "\r",
        " - 45.0 % "
       ]
      },
      {
       "output_type": "stream",
       "stream": "stdout",
       "text": [
        "\r",
        " - 45.0 % "
       ]
      },
      {
       "output_type": "stream",
       "stream": "stdout",
       "text": [
        "\r",
        " - 45.0 % "
       ]
      },
      {
       "output_type": "stream",
       "stream": "stdout",
       "text": [
        "\r",
        " - 45.0 % "
       ]
      },
      {
       "output_type": "stream",
       "stream": "stdout",
       "text": [
        "\r",
        " - 45.0 % "
       ]
      },
      {
       "output_type": "stream",
       "stream": "stdout",
       "text": [
        "\r",
        " - 46.0 % "
       ]
      },
      {
       "output_type": "stream",
       "stream": "stdout",
       "text": [
        "\r",
        " - 46.0 % "
       ]
      },
      {
       "output_type": "stream",
       "stream": "stdout",
       "text": [
        "\r",
        " - 46.0 % "
       ]
      },
      {
       "output_type": "stream",
       "stream": "stdout",
       "text": [
        "\r",
        " - 46.0 % "
       ]
      },
      {
       "output_type": "stream",
       "stream": "stdout",
       "text": [
        "\r",
        " - 46.0 % "
       ]
      },
      {
       "output_type": "stream",
       "stream": "stdout",
       "text": [
        "\r",
        " - 46.0 % "
       ]
      },
      {
       "output_type": "stream",
       "stream": "stdout",
       "text": [
        "\r",
        " - 46.0 % "
       ]
      },
      {
       "output_type": "stream",
       "stream": "stdout",
       "text": [
        "\r",
        " - 46.0 % "
       ]
      },
      {
       "output_type": "stream",
       "stream": "stdout",
       "text": [
        "\r",
        " - 47.0 % "
       ]
      },
      {
       "output_type": "stream",
       "stream": "stdout",
       "text": [
        "\r",
        " - 47.0 % "
       ]
      },
      {
       "output_type": "stream",
       "stream": "stdout",
       "text": [
        "\r",
        " - 47.0 % "
       ]
      },
      {
       "output_type": "stream",
       "stream": "stdout",
       "text": [
        "\r",
        " - 47.0 % "
       ]
      },
      {
       "output_type": "stream",
       "stream": "stdout",
       "text": [
        "\r",
        " - 47.0 % "
       ]
      },
      {
       "output_type": "stream",
       "stream": "stdout",
       "text": [
        "\r",
        " - 47.0 % "
       ]
      },
      {
       "output_type": "stream",
       "stream": "stdout",
       "text": [
        "\r",
        " - 47.0 % "
       ]
      },
      {
       "output_type": "stream",
       "stream": "stdout",
       "text": [
        "\r",
        " - 47.0 % "
       ]
      },
      {
       "output_type": "stream",
       "stream": "stdout",
       "text": [
        "\r",
        " - 48.0 % "
       ]
      },
      {
       "output_type": "stream",
       "stream": "stdout",
       "text": [
        "\r",
        " - 48.0 % "
       ]
      },
      {
       "output_type": "stream",
       "stream": "stdout",
       "text": [
        "\r",
        " - 48.0 % "
       ]
      },
      {
       "output_type": "stream",
       "stream": "stdout",
       "text": [
        "\r",
        " - 48.0 % "
       ]
      },
      {
       "output_type": "stream",
       "stream": "stdout",
       "text": [
        "\r",
        " - 48.0 % "
       ]
      },
      {
       "output_type": "stream",
       "stream": "stdout",
       "text": [
        "\r",
        " - 48.0 % "
       ]
      },
      {
       "output_type": "stream",
       "stream": "stdout",
       "text": [
        "\r",
        " - 48.0 % "
       ]
      },
      {
       "output_type": "stream",
       "stream": "stdout",
       "text": [
        "\r",
        " - 48.0 % "
       ]
      },
      {
       "output_type": "stream",
       "stream": "stdout",
       "text": [
        "\r",
        " - 49.0 % "
       ]
      },
      {
       "output_type": "stream",
       "stream": "stdout",
       "text": [
        "\r",
        " - 49.0 % "
       ]
      },
      {
       "output_type": "stream",
       "stream": "stdout",
       "text": [
        "\r",
        " - 49.0 % "
       ]
      },
      {
       "output_type": "stream",
       "stream": "stdout",
       "text": [
        "\r",
        " - 49.0 % "
       ]
      },
      {
       "output_type": "stream",
       "stream": "stdout",
       "text": [
        "\r",
        " - 49.0 % "
       ]
      },
      {
       "output_type": "stream",
       "stream": "stdout",
       "text": [
        "\r",
        " - 49.0 % "
       ]
      },
      {
       "output_type": "stream",
       "stream": "stdout",
       "text": [
        "\r",
        " - 49.0 % "
       ]
      },
      {
       "output_type": "stream",
       "stream": "stdout",
       "text": [
        "\r",
        " - 49.0 % "
       ]
      },
      {
       "output_type": "stream",
       "stream": "stdout",
       "text": [
        "\r",
        " - 50.0 % "
       ]
      },
      {
       "output_type": "stream",
       "stream": "stdout",
       "text": [
        "\r",
        " - 50.0 % "
       ]
      },
      {
       "output_type": "stream",
       "stream": "stdout",
       "text": [
        "\r",
        " - 50.0 % "
       ]
      },
      {
       "output_type": "stream",
       "stream": "stdout",
       "text": [
        "\r",
        " - 50.0 % "
       ]
      },
      {
       "output_type": "stream",
       "stream": "stdout",
       "text": [
        "\r",
        " - 50.0 % "
       ]
      },
      {
       "output_type": "stream",
       "stream": "stdout",
       "text": [
        "\r",
        " - 50.0 % "
       ]
      },
      {
       "output_type": "stream",
       "stream": "stdout",
       "text": [
        "\r",
        " - 50.0 % "
       ]
      },
      {
       "output_type": "stream",
       "stream": "stdout",
       "text": [
        "\r",
        " - 50.0 % "
       ]
      },
      {
       "output_type": "stream",
       "stream": "stdout",
       "text": [
        "\r",
        " - 51.0 % "
       ]
      },
      {
       "output_type": "stream",
       "stream": "stdout",
       "text": [
        "\r",
        " - 51.0 % "
       ]
      },
      {
       "output_type": "stream",
       "stream": "stdout",
       "text": [
        "\r",
        " - 51.0 % "
       ]
      },
      {
       "output_type": "stream",
       "stream": "stdout",
       "text": [
        "\r",
        " - 51.0 % "
       ]
      },
      {
       "output_type": "stream",
       "stream": "stdout",
       "text": [
        "\r",
        " - 51.0 % "
       ]
      },
      {
       "output_type": "stream",
       "stream": "stdout",
       "text": [
        "\r",
        " - 51.0 % "
       ]
      },
      {
       "output_type": "stream",
       "stream": "stdout",
       "text": [
        "\r",
        " - 51.0 % "
       ]
      },
      {
       "output_type": "stream",
       "stream": "stdout",
       "text": [
        "\r",
        " - 51.0 % "
       ]
      },
      {
       "output_type": "stream",
       "stream": "stdout",
       "text": [
        "\r",
        " - 52.0 % "
       ]
      },
      {
       "output_type": "stream",
       "stream": "stdout",
       "text": [
        "\r",
        " - 52.0 % "
       ]
      },
      {
       "output_type": "stream",
       "stream": "stdout",
       "text": [
        "\r",
        " - 52.0 % "
       ]
      },
      {
       "output_type": "stream",
       "stream": "stdout",
       "text": [
        "\r",
        " - 52.0 % "
       ]
      },
      {
       "output_type": "stream",
       "stream": "stdout",
       "text": [
        "\r",
        " - 52.0 % "
       ]
      },
      {
       "output_type": "stream",
       "stream": "stdout",
       "text": [
        "\r",
        " - 52.0 % "
       ]
      },
      {
       "output_type": "stream",
       "stream": "stdout",
       "text": [
        "\r",
        " - 52.0 % "
       ]
      },
      {
       "output_type": "stream",
       "stream": "stdout",
       "text": [
        "\r",
        " - 52.0 % "
       ]
      },
      {
       "output_type": "stream",
       "stream": "stdout",
       "text": [
        "\r",
        " - 53.0 % "
       ]
      },
      {
       "output_type": "stream",
       "stream": "stdout",
       "text": [
        "\r",
        " - 53.0 % "
       ]
      },
      {
       "output_type": "stream",
       "stream": "stdout",
       "text": [
        "\r",
        " - 53.0 % "
       ]
      },
      {
       "output_type": "stream",
       "stream": "stdout",
       "text": [
        "\r",
        " - 53.0 % "
       ]
      },
      {
       "output_type": "stream",
       "stream": "stdout",
       "text": [
        "\r",
        " - 53.0 % "
       ]
      },
      {
       "output_type": "stream",
       "stream": "stdout",
       "text": [
        "\r",
        " - 53.0 % "
       ]
      },
      {
       "output_type": "stream",
       "stream": "stdout",
       "text": [
        "\r",
        " - 53.0 % "
       ]
      },
      {
       "output_type": "stream",
       "stream": "stdout",
       "text": [
        "\r",
        " - 53.0 % "
       ]
      },
      {
       "output_type": "stream",
       "stream": "stdout",
       "text": [
        "\r",
        " - 54.0 % "
       ]
      },
      {
       "output_type": "stream",
       "stream": "stdout",
       "text": [
        "\r",
        " - 54.0 % "
       ]
      },
      {
       "output_type": "stream",
       "stream": "stdout",
       "text": [
        "\r",
        " - 54.0 % "
       ]
      },
      {
       "output_type": "stream",
       "stream": "stdout",
       "text": [
        "\r",
        " - 54.0 % "
       ]
      },
      {
       "output_type": "stream",
       "stream": "stdout",
       "text": [
        "\r",
        " - 54.0 % "
       ]
      },
      {
       "output_type": "stream",
       "stream": "stdout",
       "text": [
        "\r",
        " - 54.0 % "
       ]
      },
      {
       "output_type": "stream",
       "stream": "stdout",
       "text": [
        "\r",
        " - 54.0 % "
       ]
      },
      {
       "output_type": "stream",
       "stream": "stdout",
       "text": [
        "\r",
        " - 54.0 % "
       ]
      },
      {
       "output_type": "stream",
       "stream": "stdout",
       "text": [
        "\r",
        " - 55.0 % "
       ]
      },
      {
       "output_type": "stream",
       "stream": "stdout",
       "text": [
        "\r",
        " - 55.0 % "
       ]
      },
      {
       "output_type": "stream",
       "stream": "stdout",
       "text": [
        "\r",
        " - 55.0 % "
       ]
      },
      {
       "output_type": "stream",
       "stream": "stdout",
       "text": [
        "\r",
        " - 55.0 % "
       ]
      },
      {
       "output_type": "stream",
       "stream": "stdout",
       "text": [
        "\r",
        " - 55.0 % "
       ]
      },
      {
       "output_type": "stream",
       "stream": "stdout",
       "text": [
        "\r",
        " - 55.0 % "
       ]
      },
      {
       "output_type": "stream",
       "stream": "stdout",
       "text": [
        "\r",
        " - 55.0 % "
       ]
      },
      {
       "output_type": "stream",
       "stream": "stdout",
       "text": [
        "\r",
        " - 55.0 % "
       ]
      },
      {
       "output_type": "stream",
       "stream": "stdout",
       "text": [
        "\r",
        " - 55.0 % "
       ]
      },
      {
       "output_type": "stream",
       "stream": "stdout",
       "text": [
        "\r",
        " - 56.0 % "
       ]
      },
      {
       "output_type": "stream",
       "stream": "stdout",
       "text": [
        "\r",
        " - 56.0 % "
       ]
      },
      {
       "output_type": "stream",
       "stream": "stdout",
       "text": [
        "\r",
        " - 56.0 % "
       ]
      },
      {
       "output_type": "stream",
       "stream": "stdout",
       "text": [
        "\r",
        " - 56.0 % "
       ]
      },
      {
       "output_type": "stream",
       "stream": "stdout",
       "text": [
        "\r",
        " - 56.0 % "
       ]
      },
      {
       "output_type": "stream",
       "stream": "stdout",
       "text": [
        "\r",
        " - 56.0 % "
       ]
      },
      {
       "output_type": "stream",
       "stream": "stdout",
       "text": [
        "\r",
        " - 56.0 % "
       ]
      },
      {
       "output_type": "stream",
       "stream": "stdout",
       "text": [
        "\r",
        " - 56.0 % "
       ]
      },
      {
       "output_type": "stream",
       "stream": "stdout",
       "text": [
        "\r",
        " - 57.0 % "
       ]
      },
      {
       "output_type": "stream",
       "stream": "stdout",
       "text": [
        "\r",
        " - 57.0 % "
       ]
      },
      {
       "output_type": "stream",
       "stream": "stdout",
       "text": [
        "\r",
        " - 57.0 % "
       ]
      },
      {
       "output_type": "stream",
       "stream": "stdout",
       "text": [
        "\r",
        " - 57.0 % "
       ]
      },
      {
       "output_type": "stream",
       "stream": "stdout",
       "text": [
        "\r",
        " - 57.0 % "
       ]
      },
      {
       "output_type": "stream",
       "stream": "stdout",
       "text": [
        "\r",
        " - 57.0 % "
       ]
      },
      {
       "output_type": "stream",
       "stream": "stdout",
       "text": [
        "\r",
        " - 57.0 % "
       ]
      },
      {
       "output_type": "stream",
       "stream": "stdout",
       "text": [
        "\r",
        " - 57.0 % "
       ]
      },
      {
       "output_type": "stream",
       "stream": "stdout",
       "text": [
        "\r",
        " - 58.0 % "
       ]
      },
      {
       "output_type": "stream",
       "stream": "stdout",
       "text": [
        "\r",
        " - 58.0 % "
       ]
      },
      {
       "output_type": "stream",
       "stream": "stdout",
       "text": [
        "\r",
        " - 58.0 % "
       ]
      },
      {
       "output_type": "stream",
       "stream": "stdout",
       "text": [
        "\r",
        " - 58.0 % "
       ]
      },
      {
       "output_type": "stream",
       "stream": "stdout",
       "text": [
        "\r",
        " - 58.0 % "
       ]
      },
      {
       "output_type": "stream",
       "stream": "stdout",
       "text": [
        "\r",
        " - 58.0 % "
       ]
      },
      {
       "output_type": "stream",
       "stream": "stdout",
       "text": [
        "\r",
        " - 58.0 % "
       ]
      },
      {
       "output_type": "stream",
       "stream": "stdout",
       "text": [
        "\r",
        " - 58.0 % "
       ]
      },
      {
       "output_type": "stream",
       "stream": "stdout",
       "text": [
        "\r",
        " - 59.0 % "
       ]
      },
      {
       "output_type": "stream",
       "stream": "stdout",
       "text": [
        "\r",
        " - 59.0 % "
       ]
      },
      {
       "output_type": "stream",
       "stream": "stdout",
       "text": [
        "\r",
        " - 59.0 % "
       ]
      },
      {
       "output_type": "stream",
       "stream": "stdout",
       "text": [
        "\r",
        " - 59.0 % "
       ]
      },
      {
       "output_type": "stream",
       "stream": "stdout",
       "text": [
        "\r",
        " - 59.0 % "
       ]
      },
      {
       "output_type": "stream",
       "stream": "stdout",
       "text": [
        "\r",
        " - 59.0 % "
       ]
      },
      {
       "output_type": "stream",
       "stream": "stdout",
       "text": [
        "\r",
        " - 59.0 % "
       ]
      },
      {
       "output_type": "stream",
       "stream": "stdout",
       "text": [
        "\r",
        " - 59.0 % "
       ]
      },
      {
       "output_type": "stream",
       "stream": "stdout",
       "text": [
        "\r",
        " - 60.0 % "
       ]
      },
      {
       "output_type": "stream",
       "stream": "stdout",
       "text": [
        "\r",
        " - 60.0 % "
       ]
      },
      {
       "output_type": "stream",
       "stream": "stdout",
       "text": [
        "\r",
        " - 60.0 % "
       ]
      },
      {
       "output_type": "stream",
       "stream": "stdout",
       "text": [
        "\r",
        " - 60.0 % "
       ]
      },
      {
       "output_type": "stream",
       "stream": "stdout",
       "text": [
        "\r",
        " - 60.0 % "
       ]
      },
      {
       "output_type": "stream",
       "stream": "stdout",
       "text": [
        "\r",
        " - 60.0 % "
       ]
      },
      {
       "output_type": "stream",
       "stream": "stdout",
       "text": [
        "\r",
        " - 60.0 % "
       ]
      },
      {
       "output_type": "stream",
       "stream": "stdout",
       "text": [
        "\r",
        " - 60.0 % "
       ]
      },
      {
       "output_type": "stream",
       "stream": "stdout",
       "text": [
        "\r",
        " - 61.0 % "
       ]
      },
      {
       "output_type": "stream",
       "stream": "stdout",
       "text": [
        "\r",
        " - 61.0 % "
       ]
      },
      {
       "output_type": "stream",
       "stream": "stdout",
       "text": [
        "\r",
        " - 61.0 % "
       ]
      },
      {
       "output_type": "stream",
       "stream": "stdout",
       "text": [
        "\r",
        " - 61.0 % "
       ]
      },
      {
       "output_type": "stream",
       "stream": "stdout",
       "text": [
        "\r",
        " - 61.0 % "
       ]
      },
      {
       "output_type": "stream",
       "stream": "stdout",
       "text": [
        "\r",
        " - 61.0 % "
       ]
      },
      {
       "output_type": "stream",
       "stream": "stdout",
       "text": [
        "\r",
        " - 61.0 % "
       ]
      },
      {
       "output_type": "stream",
       "stream": "stdout",
       "text": [
        "\r",
        " - 61.0 % "
       ]
      },
      {
       "output_type": "stream",
       "stream": "stdout",
       "text": [
        "\r",
        " - 62.0 % "
       ]
      },
      {
       "output_type": "stream",
       "stream": "stdout",
       "text": [
        "\r",
        " - 62.0 % "
       ]
      },
      {
       "output_type": "stream",
       "stream": "stdout",
       "text": [
        "\r",
        " - 62.0 % "
       ]
      },
      {
       "output_type": "stream",
       "stream": "stdout",
       "text": [
        "\r",
        " - 62.0 % "
       ]
      },
      {
       "output_type": "stream",
       "stream": "stdout",
       "text": [
        "\r",
        " - 62.0 % "
       ]
      },
      {
       "output_type": "stream",
       "stream": "stdout",
       "text": [
        "\r",
        " - 62.0 % "
       ]
      },
      {
       "output_type": "stream",
       "stream": "stdout",
       "text": [
        "\r",
        " - 62.0 % "
       ]
      },
      {
       "output_type": "stream",
       "stream": "stdout",
       "text": [
        "\r",
        " - 62.0 % "
       ]
      },
      {
       "output_type": "stream",
       "stream": "stdout",
       "text": [
        "\r",
        " - 63.0 % "
       ]
      },
      {
       "output_type": "stream",
       "stream": "stdout",
       "text": [
        "\r",
        " - 63.0 % "
       ]
      },
      {
       "output_type": "stream",
       "stream": "stdout",
       "text": [
        "\r",
        " - 63.0 % "
       ]
      },
      {
       "output_type": "stream",
       "stream": "stdout",
       "text": [
        "\r",
        " - 63.0 % "
       ]
      },
      {
       "output_type": "stream",
       "stream": "stdout",
       "text": [
        "\r",
        " - 63.0 % "
       ]
      },
      {
       "output_type": "stream",
       "stream": "stdout",
       "text": [
        "\r",
        " - 63.0 % "
       ]
      },
      {
       "output_type": "stream",
       "stream": "stdout",
       "text": [
        "\r",
        " - 63.0 % "
       ]
      },
      {
       "output_type": "stream",
       "stream": "stdout",
       "text": [
        "\r",
        " - 63.0 % "
       ]
      },
      {
       "output_type": "stream",
       "stream": "stdout",
       "text": [
        "\r",
        " - 64.0 % "
       ]
      },
      {
       "output_type": "stream",
       "stream": "stdout",
       "text": [
        "\r",
        " - 64.0 % "
       ]
      },
      {
       "output_type": "stream",
       "stream": "stdout",
       "text": [
        "\r",
        " - 64.0 % "
       ]
      },
      {
       "output_type": "stream",
       "stream": "stdout",
       "text": [
        "\r",
        " - 64.0 % "
       ]
      },
      {
       "output_type": "stream",
       "stream": "stdout",
       "text": [
        "\r",
        " - 64.0 % "
       ]
      },
      {
       "output_type": "stream",
       "stream": "stdout",
       "text": [
        "\r",
        " - 64.0 % "
       ]
      },
      {
       "output_type": "stream",
       "stream": "stdout",
       "text": [
        "\r",
        " - 64.0 % "
       ]
      },
      {
       "output_type": "stream",
       "stream": "stdout",
       "text": [
        "\r",
        " - 64.0 % "
       ]
      },
      {
       "output_type": "stream",
       "stream": "stdout",
       "text": [
        "\r",
        " - 64.0 % "
       ]
      },
      {
       "output_type": "stream",
       "stream": "stdout",
       "text": [
        "\r",
        " - 65.0 % "
       ]
      },
      {
       "output_type": "stream",
       "stream": "stdout",
       "text": [
        "\r",
        " - 65.0 % "
       ]
      },
      {
       "output_type": "stream",
       "stream": "stdout",
       "text": [
        "\r",
        " - 65.0 % "
       ]
      },
      {
       "output_type": "stream",
       "stream": "stdout",
       "text": [
        "\r",
        " - 65.0 % "
       ]
      },
      {
       "output_type": "stream",
       "stream": "stdout",
       "text": [
        "\r",
        " - 65.0 % "
       ]
      },
      {
       "output_type": "stream",
       "stream": "stdout",
       "text": [
        "\r",
        " - 65.0 % "
       ]
      },
      {
       "output_type": "stream",
       "stream": "stdout",
       "text": [
        "\r",
        " - 65.0 % "
       ]
      },
      {
       "output_type": "stream",
       "stream": "stdout",
       "text": [
        "\r",
        " - 65.0 % "
       ]
      },
      {
       "output_type": "stream",
       "stream": "stdout",
       "text": [
        "\r",
        " - 66.0 % "
       ]
      },
      {
       "output_type": "stream",
       "stream": "stdout",
       "text": [
        "\r",
        " - 66.0 % "
       ]
      },
      {
       "output_type": "stream",
       "stream": "stdout",
       "text": [
        "\r",
        " - 66.0 % "
       ]
      },
      {
       "output_type": "stream",
       "stream": "stdout",
       "text": [
        "\r",
        " - 66.0 % "
       ]
      },
      {
       "output_type": "stream",
       "stream": "stdout",
       "text": [
        "\r",
        " - 66.0 % "
       ]
      },
      {
       "output_type": "stream",
       "stream": "stdout",
       "text": [
        "\r",
        " - 66.0 % "
       ]
      },
      {
       "output_type": "stream",
       "stream": "stdout",
       "text": [
        "\r",
        " - 66.0 % "
       ]
      },
      {
       "output_type": "stream",
       "stream": "stdout",
       "text": [
        "\r",
        " - 66.0 % "
       ]
      },
      {
       "output_type": "stream",
       "stream": "stdout",
       "text": [
        "\r",
        " - 67.0 % "
       ]
      },
      {
       "output_type": "stream",
       "stream": "stdout",
       "text": [
        "\r",
        " - 67.0 % "
       ]
      },
      {
       "output_type": "stream",
       "stream": "stdout",
       "text": [
        "\r",
        " - 67.0 % "
       ]
      },
      {
       "output_type": "stream",
       "stream": "stdout",
       "text": [
        "\r",
        " - 67.0 % "
       ]
      },
      {
       "output_type": "stream",
       "stream": "stdout",
       "text": [
        "\r",
        " - 67.0 % "
       ]
      },
      {
       "output_type": "stream",
       "stream": "stdout",
       "text": [
        "\r",
        " - 67.0 % "
       ]
      },
      {
       "output_type": "stream",
       "stream": "stdout",
       "text": [
        "\r",
        " - 67.0 % "
       ]
      },
      {
       "output_type": "stream",
       "stream": "stdout",
       "text": [
        "\r",
        " - 67.0 % "
       ]
      },
      {
       "output_type": "stream",
       "stream": "stdout",
       "text": [
        "\r",
        " - 68.0 % "
       ]
      },
      {
       "output_type": "stream",
       "stream": "stdout",
       "text": [
        "\r",
        " - 68.0 % "
       ]
      },
      {
       "output_type": "stream",
       "stream": "stdout",
       "text": [
        "\r",
        " - 68.0 % "
       ]
      },
      {
       "output_type": "stream",
       "stream": "stdout",
       "text": [
        "\r",
        " - 68.0 % "
       ]
      },
      {
       "output_type": "stream",
       "stream": "stdout",
       "text": [
        "\r",
        " - 68.0 % "
       ]
      },
      {
       "output_type": "stream",
       "stream": "stdout",
       "text": [
        "\r",
        " - 68.0 % "
       ]
      },
      {
       "output_type": "stream",
       "stream": "stdout",
       "text": [
        "\r",
        " - 68.0 % "
       ]
      },
      {
       "output_type": "stream",
       "stream": "stdout",
       "text": [
        "\r",
        " - 68.0 % "
       ]
      },
      {
       "output_type": "stream",
       "stream": "stdout",
       "text": [
        "\r",
        " - 69.0 % "
       ]
      },
      {
       "output_type": "stream",
       "stream": "stdout",
       "text": [
        "\r",
        " - 69.0 % "
       ]
      },
      {
       "output_type": "stream",
       "stream": "stdout",
       "text": [
        "\r",
        " - 69.0 % "
       ]
      },
      {
       "output_type": "stream",
       "stream": "stdout",
       "text": [
        "\r",
        " - 69.0 % "
       ]
      },
      {
       "output_type": "stream",
       "stream": "stdout",
       "text": [
        "\r",
        " - 69.0 % "
       ]
      },
      {
       "output_type": "stream",
       "stream": "stdout",
       "text": [
        "\r",
        " - 69.0 % "
       ]
      },
      {
       "output_type": "stream",
       "stream": "stdout",
       "text": [
        "\r",
        " - 69.0 % "
       ]
      },
      {
       "output_type": "stream",
       "stream": "stdout",
       "text": [
        "\r",
        " - 69.0 % "
       ]
      },
      {
       "output_type": "stream",
       "stream": "stdout",
       "text": [
        "\r",
        " - 70.0 % "
       ]
      },
      {
       "output_type": "stream",
       "stream": "stdout",
       "text": [
        "\r",
        " - 70.0 % "
       ]
      },
      {
       "output_type": "stream",
       "stream": "stdout",
       "text": [
        "\r",
        " - 70.0 % "
       ]
      },
      {
       "output_type": "stream",
       "stream": "stdout",
       "text": [
        "\r",
        " - 70.0 % "
       ]
      },
      {
       "output_type": "stream",
       "stream": "stdout",
       "text": [
        "\r",
        " - 70.0 % "
       ]
      },
      {
       "output_type": "stream",
       "stream": "stdout",
       "text": [
        "\r",
        " - 70.0 % "
       ]
      },
      {
       "output_type": "stream",
       "stream": "stdout",
       "text": [
        "\r",
        " - 70.0 % "
       ]
      },
      {
       "output_type": "stream",
       "stream": "stdout",
       "text": [
        "\r",
        " - 70.0 % "
       ]
      },
      {
       "output_type": "stream",
       "stream": "stdout",
       "text": [
        "\r",
        " - 71.0 % "
       ]
      },
      {
       "output_type": "stream",
       "stream": "stdout",
       "text": [
        "\r",
        " - 71.0 % "
       ]
      },
      {
       "output_type": "stream",
       "stream": "stdout",
       "text": [
        "\r",
        " - 71.0 % "
       ]
      },
      {
       "output_type": "stream",
       "stream": "stdout",
       "text": [
        "\r",
        " - 71.0 % "
       ]
      },
      {
       "output_type": "stream",
       "stream": "stdout",
       "text": [
        "\r",
        " - 71.0 % "
       ]
      },
      {
       "output_type": "stream",
       "stream": "stdout",
       "text": [
        "\r",
        " - 71.0 % "
       ]
      },
      {
       "output_type": "stream",
       "stream": "stdout",
       "text": [
        "\r",
        " - 71.0 % "
       ]
      },
      {
       "output_type": "stream",
       "stream": "stdout",
       "text": [
        "\r",
        " - 71.0 % "
       ]
      },
      {
       "output_type": "stream",
       "stream": "stdout",
       "text": [
        "\r",
        " - 72.0 % "
       ]
      },
      {
       "output_type": "stream",
       "stream": "stdout",
       "text": [
        "\r",
        " - 72.0 % "
       ]
      },
      {
       "output_type": "stream",
       "stream": "stdout",
       "text": [
        "\r",
        " - 72.0 % "
       ]
      },
      {
       "output_type": "stream",
       "stream": "stdout",
       "text": [
        "\r",
        " - 72.0 % "
       ]
      },
      {
       "output_type": "stream",
       "stream": "stdout",
       "text": [
        "\r",
        " - 72.0 % "
       ]
      },
      {
       "output_type": "stream",
       "stream": "stdout",
       "text": [
        "\r",
        " - 72.0 % "
       ]
      },
      {
       "output_type": "stream",
       "stream": "stdout",
       "text": [
        "\r",
        " - 72.0 % "
       ]
      },
      {
       "output_type": "stream",
       "stream": "stdout",
       "text": [
        "\r",
        " - 72.0 % "
       ]
      },
      {
       "output_type": "stream",
       "stream": "stdout",
       "text": [
        "\r",
        " - 73.0 % "
       ]
      },
      {
       "output_type": "stream",
       "stream": "stdout",
       "text": [
        "\r",
        " - 73.0 % "
       ]
      },
      {
       "output_type": "stream",
       "stream": "stdout",
       "text": [
        "\r",
        " - 73.0 % "
       ]
      },
      {
       "output_type": "stream",
       "stream": "stdout",
       "text": [
        "\r",
        " - 73.0 % "
       ]
      },
      {
       "output_type": "stream",
       "stream": "stdout",
       "text": [
        "\r",
        " - 73.0 % "
       ]
      },
      {
       "output_type": "stream",
       "stream": "stdout",
       "text": [
        "\r",
        " - 73.0 % "
       ]
      },
      {
       "output_type": "stream",
       "stream": "stdout",
       "text": [
        "\r",
        " - 73.0 % "
       ]
      },
      {
       "output_type": "stream",
       "stream": "stdout",
       "text": [
        "\r",
        " - 73.0 % "
       ]
      },
      {
       "output_type": "stream",
       "stream": "stdout",
       "text": [
        "\r",
        " - 73.0 % "
       ]
      },
      {
       "output_type": "stream",
       "stream": "stdout",
       "text": [
        "\r",
        " - 74.0 % "
       ]
      },
      {
       "output_type": "stream",
       "stream": "stdout",
       "text": [
        "\r",
        " - 74.0 % "
       ]
      },
      {
       "output_type": "stream",
       "stream": "stdout",
       "text": [
        "\r",
        " - 74.0 % "
       ]
      },
      {
       "output_type": "stream",
       "stream": "stdout",
       "text": [
        "\r",
        " - 74.0 % "
       ]
      },
      {
       "output_type": "stream",
       "stream": "stdout",
       "text": [
        "\r",
        " - 74.0 % "
       ]
      },
      {
       "output_type": "stream",
       "stream": "stdout",
       "text": [
        "\r",
        " - 74.0 % "
       ]
      },
      {
       "output_type": "stream",
       "stream": "stdout",
       "text": [
        "\r",
        " - 74.0 % "
       ]
      },
      {
       "output_type": "stream",
       "stream": "stdout",
       "text": [
        "\r",
        " - 74.0 % "
       ]
      },
      {
       "output_type": "stream",
       "stream": "stdout",
       "text": [
        "\r",
        " - 75.0 % "
       ]
      },
      {
       "output_type": "stream",
       "stream": "stdout",
       "text": [
        "\r",
        " - 75.0 % "
       ]
      },
      {
       "output_type": "stream",
       "stream": "stdout",
       "text": [
        "\r",
        " - 75.0 % "
       ]
      },
      {
       "output_type": "stream",
       "stream": "stdout",
       "text": [
        "\r",
        " - 75.0 % "
       ]
      },
      {
       "output_type": "stream",
       "stream": "stdout",
       "text": [
        "\r",
        " - 75.0 % "
       ]
      },
      {
       "output_type": "stream",
       "stream": "stdout",
       "text": [
        "\r",
        " - 75.0 % "
       ]
      },
      {
       "output_type": "stream",
       "stream": "stdout",
       "text": [
        "\r",
        " - 75.0 % "
       ]
      },
      {
       "output_type": "stream",
       "stream": "stdout",
       "text": [
        "\r",
        " - 75.0 % "
       ]
      },
      {
       "output_type": "stream",
       "stream": "stdout",
       "text": [
        "\r",
        " - 76.0 % "
       ]
      },
      {
       "output_type": "stream",
       "stream": "stdout",
       "text": [
        "\r",
        " - 76.0 % "
       ]
      },
      {
       "output_type": "stream",
       "stream": "stdout",
       "text": [
        "\r",
        " - 76.0 % "
       ]
      },
      {
       "output_type": "stream",
       "stream": "stdout",
       "text": [
        "\r",
        " - 76.0 % "
       ]
      },
      {
       "output_type": "stream",
       "stream": "stdout",
       "text": [
        "\r",
        " - 76.0 % "
       ]
      },
      {
       "output_type": "stream",
       "stream": "stdout",
       "text": [
        "\r",
        " - 76.0 % "
       ]
      },
      {
       "output_type": "stream",
       "stream": "stdout",
       "text": [
        "\r",
        " - 76.0 % "
       ]
      },
      {
       "output_type": "stream",
       "stream": "stdout",
       "text": [
        "\r",
        " - 76.0 % "
       ]
      },
      {
       "output_type": "stream",
       "stream": "stdout",
       "text": [
        "\r",
        " - 77.0 % "
       ]
      },
      {
       "output_type": "stream",
       "stream": "stdout",
       "text": [
        "\r",
        " - 77.0 % "
       ]
      },
      {
       "output_type": "stream",
       "stream": "stdout",
       "text": [
        "\r",
        " - 77.0 % "
       ]
      },
      {
       "output_type": "stream",
       "stream": "stdout",
       "text": [
        "\r",
        " - 77.0 % "
       ]
      },
      {
       "output_type": "stream",
       "stream": "stdout",
       "text": [
        "\r",
        " - 77.0 % "
       ]
      },
      {
       "output_type": "stream",
       "stream": "stdout",
       "text": [
        "\r",
        " - 77.0 % "
       ]
      },
      {
       "output_type": "stream",
       "stream": "stdout",
       "text": [
        "\r",
        " - 77.0 % "
       ]
      },
      {
       "output_type": "stream",
       "stream": "stdout",
       "text": [
        "\r",
        " - 77.0 % "
       ]
      },
      {
       "output_type": "stream",
       "stream": "stdout",
       "text": [
        "\r",
        " - 78.0 % "
       ]
      },
      {
       "output_type": "stream",
       "stream": "stdout",
       "text": [
        "\r",
        " - 78.0 % "
       ]
      },
      {
       "output_type": "stream",
       "stream": "stdout",
       "text": [
        "\r",
        " - 78.0 % "
       ]
      },
      {
       "output_type": "stream",
       "stream": "stdout",
       "text": [
        "\r",
        " - 78.0 % "
       ]
      },
      {
       "output_type": "stream",
       "stream": "stdout",
       "text": [
        "\r",
        " - 78.0 % "
       ]
      },
      {
       "output_type": "stream",
       "stream": "stdout",
       "text": [
        "\r",
        " - 78.0 % "
       ]
      },
      {
       "output_type": "stream",
       "stream": "stdout",
       "text": [
        "\r",
        " - 78.0 % "
       ]
      },
      {
       "output_type": "stream",
       "stream": "stdout",
       "text": [
        "\r",
        " - 78.0 % "
       ]
      },
      {
       "output_type": "stream",
       "stream": "stdout",
       "text": [
        "\r",
        " - 79.0 % "
       ]
      },
      {
       "output_type": "stream",
       "stream": "stdout",
       "text": [
        "\r",
        " - 79.0 % "
       ]
      },
      {
       "output_type": "stream",
       "stream": "stdout",
       "text": [
        "\r",
        " - 79.0 % "
       ]
      },
      {
       "output_type": "stream",
       "stream": "stdout",
       "text": [
        "\r",
        " - 79.0 % "
       ]
      },
      {
       "output_type": "stream",
       "stream": "stdout",
       "text": [
        "\r",
        " - 79.0 % "
       ]
      },
      {
       "output_type": "stream",
       "stream": "stdout",
       "text": [
        "\r",
        " - 79.0 % "
       ]
      },
      {
       "output_type": "stream",
       "stream": "stdout",
       "text": [
        "\r",
        " - 79.0 % "
       ]
      },
      {
       "output_type": "stream",
       "stream": "stdout",
       "text": [
        "\r",
        " - 79.0 % "
       ]
      },
      {
       "output_type": "stream",
       "stream": "stdout",
       "text": [
        "\r",
        " - 80.0 % "
       ]
      },
      {
       "output_type": "stream",
       "stream": "stdout",
       "text": [
        "\r",
        " - 80.0 % "
       ]
      },
      {
       "output_type": "stream",
       "stream": "stdout",
       "text": [
        "\r",
        " - 80.0 % "
       ]
      },
      {
       "output_type": "stream",
       "stream": "stdout",
       "text": [
        "\r",
        " - 80.0 % "
       ]
      },
      {
       "output_type": "stream",
       "stream": "stdout",
       "text": [
        "\r",
        " - 80.0 % "
       ]
      },
      {
       "output_type": "stream",
       "stream": "stdout",
       "text": [
        "\r",
        " - 80.0 % "
       ]
      },
      {
       "output_type": "stream",
       "stream": "stdout",
       "text": [
        "\r",
        " - 80.0 % "
       ]
      },
      {
       "output_type": "stream",
       "stream": "stdout",
       "text": [
        "\r",
        " - 80.0 % "
       ]
      },
      {
       "output_type": "stream",
       "stream": "stdout",
       "text": [
        "\r",
        " - 81.0 % "
       ]
      },
      {
       "output_type": "stream",
       "stream": "stdout",
       "text": [
        "\r",
        " - 81.0 % "
       ]
      },
      {
       "output_type": "stream",
       "stream": "stdout",
       "text": [
        "\r",
        " - 81.0 % "
       ]
      },
      {
       "output_type": "stream",
       "stream": "stdout",
       "text": [
        "\r",
        " - 81.0 % "
       ]
      },
      {
       "output_type": "stream",
       "stream": "stdout",
       "text": [
        "\r",
        " - 81.0 % "
       ]
      },
      {
       "output_type": "stream",
       "stream": "stdout",
       "text": [
        "\r",
        " - 81.0 % "
       ]
      },
      {
       "output_type": "stream",
       "stream": "stdout",
       "text": [
        "\r",
        " - 81.0 % "
       ]
      },
      {
       "output_type": "stream",
       "stream": "stdout",
       "text": [
        "\r",
        " - 81.0 % "
       ]
      },
      {
       "output_type": "stream",
       "stream": "stdout",
       "text": [
        "\r",
        " - 82.0 % "
       ]
      },
      {
       "output_type": "stream",
       "stream": "stdout",
       "text": [
        "\r",
        " - 82.0 % "
       ]
      },
      {
       "output_type": "stream",
       "stream": "stdout",
       "text": [
        "\r",
        " - 82.0 % "
       ]
      },
      {
       "output_type": "stream",
       "stream": "stdout",
       "text": [
        "\r",
        " - 82.0 % "
       ]
      },
      {
       "output_type": "stream",
       "stream": "stdout",
       "text": [
        "\r",
        " - 82.0 % "
       ]
      },
      {
       "output_type": "stream",
       "stream": "stdout",
       "text": [
        "\r",
        " - 82.0 % "
       ]
      },
      {
       "output_type": "stream",
       "stream": "stdout",
       "text": [
        "\r",
        " - 82.0 % "
       ]
      },
      {
       "output_type": "stream",
       "stream": "stdout",
       "text": [
        "\r",
        " - 82.0 % "
       ]
      },
      {
       "output_type": "stream",
       "stream": "stdout",
       "text": [
        "\r",
        " - 82.0 % "
       ]
      },
      {
       "output_type": "stream",
       "stream": "stdout",
       "text": [
        "\r",
        " - 83.0 % "
       ]
      },
      {
       "output_type": "stream",
       "stream": "stdout",
       "text": [
        "\r",
        " - 83.0 % "
       ]
      },
      {
       "output_type": "stream",
       "stream": "stdout",
       "text": [
        "\r",
        " - 83.0 % "
       ]
      },
      {
       "output_type": "stream",
       "stream": "stdout",
       "text": [
        "\r",
        " - 83.0 % "
       ]
      },
      {
       "output_type": "stream",
       "stream": "stdout",
       "text": [
        "\r",
        " - 83.0 % "
       ]
      },
      {
       "output_type": "stream",
       "stream": "stdout",
       "text": [
        "\r",
        " - 83.0 % "
       ]
      },
      {
       "output_type": "stream",
       "stream": "stdout",
       "text": [
        "\r",
        " - 83.0 % "
       ]
      },
      {
       "output_type": "stream",
       "stream": "stdout",
       "text": [
        "\r",
        " - 83.0 % "
       ]
      },
      {
       "output_type": "stream",
       "stream": "stdout",
       "text": [
        "\r",
        " - 84.0 % "
       ]
      },
      {
       "output_type": "stream",
       "stream": "stdout",
       "text": [
        "\r",
        " - 84.0 % "
       ]
      },
      {
       "output_type": "stream",
       "stream": "stdout",
       "text": [
        "\r",
        " - 84.0 % "
       ]
      },
      {
       "output_type": "stream",
       "stream": "stdout",
       "text": [
        "\r",
        " - 84.0 % "
       ]
      },
      {
       "output_type": "stream",
       "stream": "stdout",
       "text": [
        "\r",
        " - 84.0 % "
       ]
      },
      {
       "output_type": "stream",
       "stream": "stdout",
       "text": [
        "\r",
        " - 84.0 % "
       ]
      },
      {
       "output_type": "stream",
       "stream": "stdout",
       "text": [
        "\r",
        " - 84.0 % "
       ]
      },
      {
       "output_type": "stream",
       "stream": "stdout",
       "text": [
        "\r",
        " - 84.0 % "
       ]
      },
      {
       "output_type": "stream",
       "stream": "stdout",
       "text": [
        "\r",
        " - 85.0 % "
       ]
      },
      {
       "output_type": "stream",
       "stream": "stdout",
       "text": [
        "\r",
        " - 85.0 % "
       ]
      },
      {
       "output_type": "stream",
       "stream": "stdout",
       "text": [
        "\r",
        " - 85.0 % "
       ]
      },
      {
       "output_type": "stream",
       "stream": "stdout",
       "text": [
        "\r",
        " - 85.0 % "
       ]
      },
      {
       "output_type": "stream",
       "stream": "stdout",
       "text": [
        "\r",
        " - 85.0 % "
       ]
      },
      {
       "output_type": "stream",
       "stream": "stdout",
       "text": [
        "\r",
        " - 85.0 % "
       ]
      },
      {
       "output_type": "stream",
       "stream": "stdout",
       "text": [
        "\r",
        " - 85.0 % "
       ]
      },
      {
       "output_type": "stream",
       "stream": "stdout",
       "text": [
        "\r",
        " - 85.0 % "
       ]
      },
      {
       "output_type": "stream",
       "stream": "stdout",
       "text": [
        "\r",
        " - 86.0 % "
       ]
      },
      {
       "output_type": "stream",
       "stream": "stdout",
       "text": [
        "\r",
        " - 86.0 % "
       ]
      },
      {
       "output_type": "stream",
       "stream": "stdout",
       "text": [
        "\r",
        " - 86.0 % "
       ]
      },
      {
       "output_type": "stream",
       "stream": "stdout",
       "text": [
        "\r",
        " - 86.0 % "
       ]
      },
      {
       "output_type": "stream",
       "stream": "stdout",
       "text": [
        "\r",
        " - 86.0 % "
       ]
      },
      {
       "output_type": "stream",
       "stream": "stdout",
       "text": [
        "\r",
        " - 86.0 % "
       ]
      },
      {
       "output_type": "stream",
       "stream": "stdout",
       "text": [
        "\r",
        " - 86.0 % "
       ]
      },
      {
       "output_type": "stream",
       "stream": "stdout",
       "text": [
        "\r",
        " - 86.0 % "
       ]
      },
      {
       "output_type": "stream",
       "stream": "stdout",
       "text": [
        "\r",
        " - 87.0 % "
       ]
      },
      {
       "output_type": "stream",
       "stream": "stdout",
       "text": [
        "\r",
        " - 87.0 % "
       ]
      },
      {
       "output_type": "stream",
       "stream": "stdout",
       "text": [
        "\r",
        " - 87.0 % "
       ]
      },
      {
       "output_type": "stream",
       "stream": "stdout",
       "text": [
        "\r",
        " - 87.0 % "
       ]
      },
      {
       "output_type": "stream",
       "stream": "stdout",
       "text": [
        "\r",
        " - 87.0 % "
       ]
      },
      {
       "output_type": "stream",
       "stream": "stdout",
       "text": [
        "\r",
        " - 87.0 % "
       ]
      },
      {
       "output_type": "stream",
       "stream": "stdout",
       "text": [
        "\r",
        " - 87.0 % "
       ]
      },
      {
       "output_type": "stream",
       "stream": "stdout",
       "text": [
        "\r",
        " - 87.0 % "
       ]
      },
      {
       "output_type": "stream",
       "stream": "stdout",
       "text": [
        "\r",
        " - 88.0 % "
       ]
      },
      {
       "output_type": "stream",
       "stream": "stdout",
       "text": [
        "\r",
        " - 88.0 % "
       ]
      },
      {
       "output_type": "stream",
       "stream": "stdout",
       "text": [
        "\r",
        " - 88.0 % "
       ]
      },
      {
       "output_type": "stream",
       "stream": "stdout",
       "text": [
        "\r",
        " - 88.0 % "
       ]
      },
      {
       "output_type": "stream",
       "stream": "stdout",
       "text": [
        "\r",
        " - 88.0 % "
       ]
      },
      {
       "output_type": "stream",
       "stream": "stdout",
       "text": [
        "\r",
        " - 88.0 % "
       ]
      },
      {
       "output_type": "stream",
       "stream": "stdout",
       "text": [
        "\r",
        " - 88.0 % "
       ]
      },
      {
       "output_type": "stream",
       "stream": "stdout",
       "text": [
        "\r",
        " - 88.0 % "
       ]
      },
      {
       "output_type": "stream",
       "stream": "stdout",
       "text": [
        "\r",
        " - 89.0 % "
       ]
      },
      {
       "output_type": "stream",
       "stream": "stdout",
       "text": [
        "\r",
        " - 89.0 % "
       ]
      },
      {
       "output_type": "stream",
       "stream": "stdout",
       "text": [
        "\r",
        " - 89.0 % "
       ]
      },
      {
       "output_type": "stream",
       "stream": "stdout",
       "text": [
        "\r",
        " - 89.0 % "
       ]
      },
      {
       "output_type": "stream",
       "stream": "stdout",
       "text": [
        "\r",
        " - 89.0 % "
       ]
      },
      {
       "output_type": "stream",
       "stream": "stdout",
       "text": [
        "\r",
        " - 89.0 % "
       ]
      },
      {
       "output_type": "stream",
       "stream": "stdout",
       "text": [
        "\r",
        " - 89.0 % "
       ]
      },
      {
       "output_type": "stream",
       "stream": "stdout",
       "text": [
        "\r",
        " - 89.0 % "
       ]
      },
      {
       "output_type": "stream",
       "stream": "stdout",
       "text": [
        "\r",
        " - 90.0 % "
       ]
      },
      {
       "output_type": "stream",
       "stream": "stdout",
       "text": [
        "\r",
        " - 90.0 % "
       ]
      },
      {
       "output_type": "stream",
       "stream": "stdout",
       "text": [
        "\r",
        " - 90.0 % "
       ]
      },
      {
       "output_type": "stream",
       "stream": "stdout",
       "text": [
        "\r",
        " - 90.0 % "
       ]
      },
      {
       "output_type": "stream",
       "stream": "stdout",
       "text": [
        "\r",
        " - 90.0 % "
       ]
      },
      {
       "output_type": "stream",
       "stream": "stdout",
       "text": [
        "\r",
        " - 90.0 % "
       ]
      },
      {
       "output_type": "stream",
       "stream": "stdout",
       "text": [
        "\r",
        " - 90.0 % "
       ]
      },
      {
       "output_type": "stream",
       "stream": "stdout",
       "text": [
        "\r",
        " - 90.0 % "
       ]
      },
      {
       "output_type": "stream",
       "stream": "stdout",
       "text": [
        "\r",
        " - 91.0 % "
       ]
      },
      {
       "output_type": "stream",
       "stream": "stdout",
       "text": [
        "\r",
        " - 91.0 % "
       ]
      },
      {
       "output_type": "stream",
       "stream": "stdout",
       "text": [
        "\r",
        " - 91.0 % "
       ]
      },
      {
       "output_type": "stream",
       "stream": "stdout",
       "text": [
        "\r",
        " - 91.0 % "
       ]
      },
      {
       "output_type": "stream",
       "stream": "stdout",
       "text": [
        "\r",
        " - 91.0 % "
       ]
      },
      {
       "output_type": "stream",
       "stream": "stdout",
       "text": [
        "\r",
        " - 91.0 % "
       ]
      },
      {
       "output_type": "stream",
       "stream": "stdout",
       "text": [
        "\r",
        " - 91.0 % "
       ]
      },
      {
       "output_type": "stream",
       "stream": "stdout",
       "text": [
        "\r",
        " - 91.0 % "
       ]
      },
      {
       "output_type": "stream",
       "stream": "stdout",
       "text": [
        "\r",
        " - 91.0 % "
       ]
      },
      {
       "output_type": "stream",
       "stream": "stdout",
       "text": [
        "\r",
        " - 92.0 % "
       ]
      },
      {
       "output_type": "stream",
       "stream": "stdout",
       "text": [
        "\r",
        " - 92.0 % "
       ]
      },
      {
       "output_type": "stream",
       "stream": "stdout",
       "text": [
        "\r",
        " - 92.0 % "
       ]
      },
      {
       "output_type": "stream",
       "stream": "stdout",
       "text": [
        "\r",
        " - 92.0 % "
       ]
      },
      {
       "output_type": "stream",
       "stream": "stdout",
       "text": [
        "\r",
        " - 92.0 % "
       ]
      },
      {
       "output_type": "stream",
       "stream": "stdout",
       "text": [
        "\r",
        " - 92.0 % "
       ]
      },
      {
       "output_type": "stream",
       "stream": "stdout",
       "text": [
        "\r",
        " - 92.0 % "
       ]
      },
      {
       "output_type": "stream",
       "stream": "stdout",
       "text": [
        "\r",
        " - 92.0 % "
       ]
      },
      {
       "output_type": "stream",
       "stream": "stdout",
       "text": [
        "\r",
        " - 93.0 % "
       ]
      },
      {
       "output_type": "stream",
       "stream": "stdout",
       "text": [
        "\r",
        " - 93.0 % "
       ]
      },
      {
       "output_type": "stream",
       "stream": "stdout",
       "text": [
        "\r",
        " - 93.0 % "
       ]
      },
      {
       "output_type": "stream",
       "stream": "stdout",
       "text": [
        "\r",
        " - 93.0 % "
       ]
      },
      {
       "output_type": "stream",
       "stream": "stdout",
       "text": [
        "\r",
        " - 93.0 % "
       ]
      },
      {
       "output_type": "stream",
       "stream": "stdout",
       "text": [
        "\r",
        " - 93.0 % "
       ]
      },
      {
       "output_type": "stream",
       "stream": "stdout",
       "text": [
        "\r",
        " - 93.0 % "
       ]
      },
      {
       "output_type": "stream",
       "stream": "stdout",
       "text": [
        "\r",
        " - 93.0 % "
       ]
      },
      {
       "output_type": "stream",
       "stream": "stdout",
       "text": [
        "\r",
        " - 94.0 % "
       ]
      },
      {
       "output_type": "stream",
       "stream": "stdout",
       "text": [
        "\r",
        " - 94.0 % "
       ]
      },
      {
       "output_type": "stream",
       "stream": "stdout",
       "text": [
        "\r",
        " - 94.0 % "
       ]
      },
      {
       "output_type": "stream",
       "stream": "stdout",
       "text": [
        "\r",
        " - 94.0 % "
       ]
      },
      {
       "output_type": "stream",
       "stream": "stdout",
       "text": [
        "\r",
        " - 94.0 % "
       ]
      },
      {
       "output_type": "stream",
       "stream": "stdout",
       "text": [
        "\r",
        " - 94.0 % "
       ]
      },
      {
       "output_type": "stream",
       "stream": "stdout",
       "text": [
        "\r",
        " - 94.0 % "
       ]
      },
      {
       "output_type": "stream",
       "stream": "stdout",
       "text": [
        "\r",
        " - 94.0 % "
       ]
      },
      {
       "output_type": "stream",
       "stream": "stdout",
       "text": [
        "\r",
        " - 95.0 % "
       ]
      },
      {
       "output_type": "stream",
       "stream": "stdout",
       "text": [
        "\r",
        " - 95.0 % "
       ]
      },
      {
       "output_type": "stream",
       "stream": "stdout",
       "text": [
        "\r",
        " - 95.0 % "
       ]
      },
      {
       "output_type": "stream",
       "stream": "stdout",
       "text": [
        "\r",
        " - 95.0 % "
       ]
      },
      {
       "output_type": "stream",
       "stream": "stdout",
       "text": [
        "\r",
        " - 95.0 % "
       ]
      },
      {
       "output_type": "stream",
       "stream": "stdout",
       "text": [
        "\r",
        " - 95.0 % "
       ]
      },
      {
       "output_type": "stream",
       "stream": "stdout",
       "text": [
        "\r",
        " - 95.0 % "
       ]
      },
      {
       "output_type": "stream",
       "stream": "stdout",
       "text": [
        "\r",
        " - 95.0 % "
       ]
      },
      {
       "output_type": "stream",
       "stream": "stdout",
       "text": [
        "\r",
        " - 96.0 % "
       ]
      },
      {
       "output_type": "stream",
       "stream": "stdout",
       "text": [
        "\r",
        " - 96.0 % "
       ]
      },
      {
       "output_type": "stream",
       "stream": "stdout",
       "text": [
        "\r",
        " - 96.0 % "
       ]
      },
      {
       "output_type": "stream",
       "stream": "stdout",
       "text": [
        "\r",
        " - 96.0 % "
       ]
      },
      {
       "output_type": "stream",
       "stream": "stdout",
       "text": [
        "\r",
        " - 96.0 % "
       ]
      },
      {
       "output_type": "stream",
       "stream": "stdout",
       "text": [
        "\r",
        " - 96.0 % "
       ]
      },
      {
       "output_type": "stream",
       "stream": "stdout",
       "text": [
        "\r",
        " - 96.0 % "
       ]
      },
      {
       "output_type": "stream",
       "stream": "stdout",
       "text": [
        "\r",
        " - 96.0 % "
       ]
      },
      {
       "output_type": "stream",
       "stream": "stdout",
       "text": [
        "\r",
        " - 97.0 % "
       ]
      },
      {
       "output_type": "stream",
       "stream": "stdout",
       "text": [
        "\r",
        " - 97.0 % "
       ]
      },
      {
       "output_type": "stream",
       "stream": "stdout",
       "text": [
        "\r",
        " - 97.0 % "
       ]
      },
      {
       "output_type": "stream",
       "stream": "stdout",
       "text": [
        "\r",
        " - 97.0 % "
       ]
      },
      {
       "output_type": "stream",
       "stream": "stdout",
       "text": [
        "\r",
        " - 97.0 % "
       ]
      },
      {
       "output_type": "stream",
       "stream": "stdout",
       "text": [
        "\r",
        " - 97.0 % "
       ]
      },
      {
       "output_type": "stream",
       "stream": "stdout",
       "text": [
        "\r",
        " - 97.0 % "
       ]
      },
      {
       "output_type": "stream",
       "stream": "stdout",
       "text": [
        "\r",
        " - 97.0 % "
       ]
      },
      {
       "output_type": "stream",
       "stream": "stdout",
       "text": [
        "\r",
        " - 98.0 % "
       ]
      },
      {
       "output_type": "stream",
       "stream": "stdout",
       "text": [
        "\r",
        " - 98.0 % "
       ]
      },
      {
       "output_type": "stream",
       "stream": "stdout",
       "text": [
        "\r",
        " - 98.0 % "
       ]
      },
      {
       "output_type": "stream",
       "stream": "stdout",
       "text": [
        "\r",
        " - 98.0 % "
       ]
      },
      {
       "output_type": "stream",
       "stream": "stdout",
       "text": [
        "\r",
        " - 98.0 % "
       ]
      },
      {
       "output_type": "stream",
       "stream": "stdout",
       "text": [
        "\r",
        " - 98.0 % "
       ]
      },
      {
       "output_type": "stream",
       "stream": "stdout",
       "text": [
        "\r",
        " - 98.0 % "
       ]
      },
      {
       "output_type": "stream",
       "stream": "stdout",
       "text": [
        "\r",
        " - 98.0 % "
       ]
      },
      {
       "output_type": "stream",
       "stream": "stdout",
       "text": [
        "\r",
        " - 99.0 % "
       ]
      },
      {
       "output_type": "stream",
       "stream": "stdout",
       "text": [
        "\r",
        " - 99.0 % "
       ]
      },
      {
       "output_type": "stream",
       "stream": "stdout",
       "text": [
        "\r",
        " - 99.0 % "
       ]
      },
      {
       "output_type": "stream",
       "stream": "stdout",
       "text": [
        "\r",
        " - 99.0 % "
       ]
      },
      {
       "output_type": "stream",
       "stream": "stdout",
       "text": [
        "\r",
        " - 99.0 % "
       ]
      },
      {
       "output_type": "stream",
       "stream": "stdout",
       "text": [
        "\r",
        " - 99.0 % "
       ]
      },
      {
       "output_type": "stream",
       "stream": "stdout",
       "text": [
        "\r",
        " - 99.0 % "
       ]
      },
      {
       "output_type": "stream",
       "stream": "stdout",
       "text": [
        "\r",
        " - 99.0 % "
       ]
      },
      {
       "output_type": "stream",
       "stream": "stdout",
       "text": [
        "\r",
        " - 100.0 % "
       ]
      },
      {
       "output_type": "stream",
       "stream": "stdout",
       "text": [
        "\r",
        " - 100.0 % "
       ]
      },
      {
       "output_type": "stream",
       "stream": "stdout",
       "text": [
        "\r",
        " - 100.0 % "
       ]
      },
      {
       "output_type": "stream",
       "stream": "stdout",
       "text": [
        "\r",
        " - 100.0 % "
       ]
      },
      {
       "output_type": "stream",
       "stream": "stdout",
       "text": [
        "\r",
        " - 100.0 % "
       ]
      },
      {
       "output_type": "stream",
       "stream": "stdout",
       "text": [
        "\r"
       ]
      }
     ],
     "prompt_number": 5
    },
    {
     "cell_type": "code",
     "collapsed": false,
     "input": [
      "from pybug.activeappearancemodel.regression import linear_regression\n",
      "\n",
      "pr.r, pr.cov = linear_regression(delta_ps, features)\n",
      "pr.r = np.linalg.solve(np.dot(pr.r, pr.r.T), pr.r).T\n",
      "pr.r.shape"
     ],
     "language": "python",
     "metadata": {},
     "outputs": [
      {
       "metadata": {},
       "output_type": "pyout",
       "prompt_number": 8,
       "text": [
        "(91837, 7)"
       ]
      }
     ],
     "prompt_number": 8
    },
    {
     "cell_type": "code",
     "collapsed": false,
     "input": [
      "pr.r.T[:4,:4]"
     ],
     "language": "python",
     "metadata": {},
     "outputs": [
      {
       "metadata": {},
       "output_type": "pyout",
       "prompt_number": 11,
       "text": [
        "array([[-0.00012738,  0.00142115,  0.00152421, -0.0019163 ],\n",
        "       [ 0.00347246,  0.0029363 , -0.00221476, -0.00452608],\n",
        "       [ 0.00336738,  0.00143784, -0.00267678, -0.00267473],\n",
        "       [ 0.00046663, -0.00356733, -0.00272813,  0.00558024]])"
       ]
      }
     ],
     "prompt_number": 11
    },
    {
     "cell_type": "code",
     "collapsed": false,
     "input": [
      "pr.r"
     ],
     "language": "python",
     "metadata": {},
     "outputs": [
      {
       "metadata": {},
       "output_type": "pyout",
       "prompt_number": 69,
       "text": [
        "array([[  6.74475679e-02,   2.84458938e-02,  -3.58483858e-02, ...,\n",
        "         -1.62219214e-02,  -2.28272151e-02,  -1.30569144e-01],\n",
        "       [ -2.43399553e-03,  -2.92439738e-03,  -6.78882941e-05, ...,\n",
        "         -6.14480224e-05,  -4.31600733e-03,   8.44076772e-03],\n",
        "       [  2.58851422e-02,   1.30345679e-02,  -1.28110822e-02, ...,\n",
        "         -4.50421700e-03,  -7.23372752e-03,  -4.76352968e-02],\n",
        "       ..., \n",
        "       [ -1.91073009e-04,   3.97449347e-04,   5.29472175e-04, ...,\n",
        "          1.49656830e-04,   1.20519352e-04,  -1.27217279e-04],\n",
        "       [ -8.84034477e-04,  -5.59519379e-04,   7.77142146e-04, ...,\n",
        "         -2.72980575e-04,   5.28554566e-04,   3.21372455e-04],\n",
        "       [ -1.95352458e-03,  -1.10884663e-03,   1.70193834e-03, ...,\n",
        "          6.77567323e-04,  -7.02671357e-04,   1.92225057e-03]])"
       ]
      }
     ],
     "prompt_number": 69
    },
    {
     "cell_type": "code",
     "collapsed": false,
     "input": [
      "aam.appearance_model_pyramid[0].template_instance.from_vector(pr.r[:-1,6]).view()"
     ],
     "language": "python",
     "metadata": {},
     "outputs": [
      {
       "metadata": {},
       "output_type": "pyout",
       "prompt_number": 19,
       "text": [
        "<pybug.visualize.viewmatplotlib.MatplotlibImageViewer2d at 0x128707890>"
       ]
      },
      {
       "metadata": {},
       "output_type": "display_data",
       "png": "[encoded data removed]",
       "text": [
        "<matplotlib.figure.Figure at 0x127524950>"
       ]
      }
     ],
     "prompt_number": 19
    },
    {
     "cell_type": "code",
     "collapsed": false,
     "input": [
      "from pybug.io import auto_import\n",
      "from pybug.image import RGBImage, MaskedNDImage\n",
      "from pybug.activeappearancemodel.builder import gaussian_pyramid\n",
      "\n",
      "images = auto_import('/Users/joan/PhD/DataBases/lfpw/testset/*.png')\n",
      "images = [i.as_greyscale() if type(i) is RGBImage else i for i in images]\n",
      "\n",
      "\n",
      "from pybug.activeappearancemodel.builder import compute_mean_pointcloud, \\\n",
      "    rescale_to_reference_landmarks\n",
      "\n",
      "group = 'PTS'\n",
      "label = 'all'\n",
      "interpolator = 'scipy'\n",
      "reference_landmarks = None\n",
      "scale = 1\n",
      "crop_boundary = 0.2\n",
      "n_levels = 3\n",
      "\n",
      "print '- Cropping images'\n",
      "# crop images around their landmarks\n",
      "for i in images:\n",
      "    i.crop_to_landmarks_proportion(crop_boundary, group=group, label=label)\n",
      "\n",
      "reference_landmarks = aam.shape_model.mean\n",
      "\n",
      "# TODO:\n",
      "print '- Rescaling images to reference shape'\n",
      "# rescale images so that the scale of their corresponding shapes matches\n",
      "# the scale of the reference shape\n",
      "images = [rescale_to_reference_landmarks(i, reference_landmarks, scale=scale,\n",
      "                                         group=group, label=label,\n",
      "                                         interpolator=interpolator)\n",
      "          for i in images]\n",
      "\n",
      "#TODO:\n",
      "print '- Building gaussian pyramids'\n",
      "# build gaussian pyramids\n",
      "images_pyramid = [gaussian_pyramid(i, n_levels=n_levels) for i in images]\n",
      "\n",
      "images = [i[-1] for i in images_pyramid]\n",
      "\n",
      "images = [compute_features(i, 'igo', double_angles=True) for i in images]"
     ],
     "language": "python",
     "metadata": {},
     "outputs": [
      {
       "output_type": "stream",
       "stream": "stdout",
       "text": [
        "Found 224 files. (0/224) are importable\n",
        "\n"
       ]
      },
      {
       "output_type": "stream",
       "stream": "stdout",
       "text": [
        "Found 224 files. (224/224) are importable\n",
        "\r",
        "Creating importer for <pybug.io.image.PILImporter object at 0x127518d10> (1 of 224)"
       ]
      },
      {
       "output_type": "stream",
       "stream": "stdout",
       "text": [
        "\r",
        "Creating importer for <pybug.io.image.PILImporter object at 0x127eae5d0> (2 of 224)"
       ]
      },
      {
       "output_type": "stream",
       "stream": "stdout",
       "text": [
        "\r",
        "Creating importer for <pybug.io.image.PILImporter object at 0x127eae9d0> (3 of 224)"
       ]
      },
      {
       "output_type": "stream",
       "stream": "stdout",
       "text": [
        "\r",
        "Creating importer for <pybug.io.image.PILImporter object at 0x127eaeed0> (4 of 224)"
       ]
      },
      {
       "output_type": "stream",
       "stream": "stdout",
       "text": [
        "\r",
        "Creating importer for <pybug.io.image.PILImporter object at 0x127eae390> (5 of 224)"
       ]
      },
      {
       "output_type": "stream",
       "stream": "stdout",
       "text": [
        "\r",
        "Creating importer for <pybug.io.image.PILImporter object at 0x127eaef10> (6 of 224)"
       ]
      },
      {
       "output_type": "stream",
       "stream": "stdout",
       "text": [
        "\r",
        "Creating importer for <pybug.io.image.PILImporter object at 0x127e8df90> (7 of 224)"
       ]
      },
      {
       "output_type": "stream",
       "stream": "stdout",
       "text": [
        "\r",
        "Creating importer for <pybug.io.image.PILImporter object at 0x127e8d350> (8 of 224)"
       ]
      },
      {
       "output_type": "stream",
       "stream": "stdout",
       "text": [
        "\r",
        "Creating importer for <pybug.io.image.PILImporter object at 0x127e8db90> (9 of 224)"
       ]
      },
      {
       "output_type": "stream",
       "stream": "stdout",
       "text": [
        "\r",
        "Creating importer for <pybug.io.image.PILImporter object at 0x127e8db50> (10 of 224)"
       ]
      },
      {
       "output_type": "stream",
       "stream": "stdout",
       "text": [
        "\r",
        "Creating importer for <pybug.io.image.PILImporter object at 0x127e8ee90> (11 of 224)"
       ]
      },
      {
       "output_type": "stream",
       "stream": "stdout",
       "text": [
        "\r",
        "Creating importer for <pybug.io.image.PILImporter object at 0x127e8eb10> (12 of 224)"
       ]
      },
      {
       "output_type": "stream",
       "stream": "stdout",
       "text": [
        "\r",
        "Creating importer for <pybug.io.image.PILImporter object at 0x127e8ed10> (13 of 224)"
       ]
      },
      {
       "output_type": "stream",
       "stream": "stdout",
       "text": [
        "\r",
        "Creating importer for <pybug.io.image.PILImporter object at 0x127e8ed90> (14 of 224)"
       ]
      },
      {
       "output_type": "stream",
       "stream": "stdout",
       "text": [
        "\r",
        "Creating importer for <pybug.io.image.PILImporter object at 0x127e8ebd0> (15 of 224)"
       ]
      },
      {
       "output_type": "stream",
       "stream": "stdout",
       "text": [
        "\r",
        "Creating importer for <pybug.io.image.PILImporter object at 0x127e8ec10> (16 of 224)"
       ]
      },
      {
       "output_type": "stream",
       "stream": "stdout",
       "text": [
        "\r",
        "Creating importer for <pybug.io.image.PILImporter object at 0x127e8ec90> (17 of 224)"
       ]
      },
      {
       "output_type": "stream",
       "stream": "stdout",
       "text": [
        "\r",
        "Creating importer for <pybug.io.image.PILImporter object at 0x12751a110> (18 of 224)"
       ]
      },
      {
       "output_type": "stream",
       "stream": "stdout",
       "text": [
        "\r",
        "Creating importer for <pybug.io.image.PILImporter object at 0x125b64d50> (19 of 224)"
       ]
      },
      {
       "output_type": "stream",
       "stream": "stdout",
       "text": [
        "\r",
        "Creating importer for <pybug.io.image.PILImporter object at 0x1c15e3710> (20 of 224)"
       ]
      },
      {
       "output_type": "stream",
       "stream": "stdout",
       "text": [
        "\r",
        "Creating importer for <pybug.io.image.PILImporter object at 0x128721490> (21 of 224)"
       ]
      },
      {
       "output_type": "stream",
       "stream": "stdout",
       "text": [
        "\r",
        "Creating importer for <pybug.io.image.PILImporter object at 0x127eabc90> (22 of 224)"
       ]
      },
      {
       "output_type": "stream",
       "stream": "stdout",
       "text": [
        "\r",
        "Creating importer for <pybug.io.image.PILImporter object at 0x127eab790> (23 of 224)"
       ]
      },
      {
       "output_type": "stream",
       "stream": "stdout",
       "text": [
        "\r",
        "Creating importer for <pybug.io.image.PILImporter object at 0x127eabf50> (24 of 224)"
       ]
      },
      {
       "output_type": "stream",
       "stream": "stdout",
       "text": [
        "\r",
        "Creating importer for <pybug.io.image.PILImporter object at 0x127ea8ed0> (25 of 224)"
       ]
      },
      {
       "output_type": "stream",
       "stream": "stdout",
       "text": [
        "\r",
        "Creating importer for <pybug.io.image.PILImporter object at 0x127e809d0> (26 of 224)"
       ]
      },
      {
       "output_type": "stream",
       "stream": "stdout",
       "text": [
        "\r",
        "Creating importer for <pybug.io.image.PILImporter object at 0x127e80d50> (27 of 224)"
       ]
      },
      {
       "output_type": "stream",
       "stream": "stdout",
       "text": [
        "\r",
        "Creating importer for <pybug.io.image.PILImporter object at 0x128733410> (28 of 224)"
       ]
      },
      {
       "output_type": "stream",
       "stream": "stdout",
       "text": [
        "\r",
        "Creating importer for <pybug.io.image.PILImporter object at 0x128431ed0> (29 of 224)"
       ]
      },
      {
       "output_type": "stream",
       "stream": "stdout",
       "text": [
        "\r",
        "Creating importer for <pybug.io.image.PILImporter object at 0x128431e90> (30 of 224)"
       ]
      },
      {
       "output_type": "stream",
       "stream": "stdout",
       "text": [
        "\r",
        "Creating importer for <pybug.io.image.PILImporter object at 0x128431f10> (31 of 224)"
       ]
      },
      {
       "output_type": "stream",
       "stream": "stdout",
       "text": [
        "\r",
        "Creating importer for <pybug.io.image.PILImporter object at 0x128431f50> (32 of 224)"
       ]
      },
      {
       "output_type": "stream",
       "stream": "stdout",
       "text": [
        "\r",
        "Creating importer for <pybug.io.image.PILImporter object at 0x128431e10> (33 of 224)"
       ]
      },
      {
       "output_type": "stream",
       "stream": "stdout",
       "text": [
        "\r",
        "Creating importer for <pybug.io.image.PILImporter object at 0x128431e50> (34 of 224)"
       ]
      },
      {
       "output_type": "stream",
       "stream": "stdout",
       "text": [
        "\r",
        "Creating importer for <pybug.io.image.PILImporter object at 0x12843b3d0> (35 of 224)"
       ]
      },
      {
       "output_type": "stream",
       "stream": "stdout",
       "text": [
        "\r",
        "Creating importer for <pybug.io.image.PILImporter object at 0x12843b4d0> (36 of 224)"
       ]
      },
      {
       "output_type": "stream",
       "stream": "stdout",
       "text": [
        "\r",
        "Creating importer for <pybug.io.image.PILImporter object at 0x12843b7d0> (37 of 224)"
       ]
      },
      {
       "output_type": "stream",
       "stream": "stdout",
       "text": [
        "\r",
        "Creating importer for <pybug.io.image.PILImporter object at 0x12843bb10> (38 of 224)"
       ]
      },
      {
       "output_type": "stream",
       "stream": "stdout",
       "text": [
        "\r",
        "Creating importer for <pybug.io.image.PILImporter object at 0x12843bc10> (39 of 224)"
       ]
      },
      {
       "output_type": "stream",
       "stream": "stdout",
       "text": [
        "\r",
        "Creating importer for <pybug.io.image.PILImporter object at 0x12843ba10> (40 of 224)"
       ]
      },
      {
       "output_type": "stream",
       "stream": "stdout",
       "text": [
        "\r",
        "Creating importer for <pybug.io.image.PILImporter object at 0x12843be90> (41 of 224)"
       ]
      },
      {
       "output_type": "stream",
       "stream": "stdout",
       "text": [
        "\r",
        "Creating importer for <pybug.io.image.PILImporter object at 0x12843d990> (42 of 224)"
       ]
      },
      {
       "output_type": "stream",
       "stream": "stdout",
       "text": [
        "\r",
        "Creating importer for <pybug.io.image.PILImporter object at 0x12843d8d0> (43 of 224)"
       ]
      },
      {
       "output_type": "stream",
       "stream": "stdout",
       "text": [
        "\r",
        "Creating importer for <pybug.io.image.PILImporter object at 0x12843d190> (44 of 224)"
       ]
      },
      {
       "output_type": "stream",
       "stream": "stdout",
       "text": [
        "\r",
        "Creating importer for <pybug.io.image.PILImporter object at 0x12843d390> (45 of 224)"
       ]
      },
      {
       "output_type": "stream",
       "stream": "stdout",
       "text": [
        "\r",
        "Creating importer for <pybug.io.image.PILImporter object at 0x12843d590> (46 of 224)"
       ]
      },
      {
       "output_type": "stream",
       "stream": "stdout",
       "text": [
        "\r",
        "Creating importer for <pybug.io.image.PILImporter object at 0x12843d310> (47 of 224)"
       ]
      },
      {
       "output_type": "stream",
       "stream": "stdout",
       "text": [
        "\r",
        "Creating importer for <pybug.io.image.PILImporter object at 0x12843d490> (48 of 224)"
       ]
      },
      {
       "output_type": "stream",
       "stream": "stdout",
       "text": [
        "\r",
        "Creating importer for <pybug.io.image.PILImporter object at 0x12843d510> (49 of 224)"
       ]
      },
      {
       "output_type": "stream",
       "stream": "stdout",
       "text": [
        "\r",
        "Creating importer for <pybug.io.image.PILImporter object at 0x12843d610> (50 of 224)"
       ]
      },
      {
       "output_type": "stream",
       "stream": "stdout",
       "text": [
        "\r",
        "Creating importer for <pybug.io.image.PILImporter object at 0x12843dbd0> (51 of 224)"
       ]
      },
      {
       "output_type": "stream",
       "stream": "stdout",
       "text": [
        "\r",
        "Creating importer for <pybug.io.image.PILImporter object at 0x12843d350> (52 of 224)"
       ]
      },
      {
       "output_type": "stream",
       "stream": "stdout",
       "text": [
        "\r",
        "Creating importer for <pybug.io.image.PILImporter object at 0x128435550> (53 of 224)"
       ]
      },
      {
       "output_type": "stream",
       "stream": "stdout",
       "text": [
        "\r",
        "Creating importer for <pybug.io.image.PILImporter object at 0x128435350> (54 of 224)"
       ]
      },
      {
       "output_type": "stream",
       "stream": "stdout",
       "text": [
        "\r",
        "Creating importer for <pybug.io.image.PILImporter object at 0x128435b10> (55 of 224)"
       ]
      },
      {
       "output_type": "stream",
       "stream": "stdout",
       "text": [
        "\r",
        "Creating importer for <pybug.io.image.PILImporter object at 0x128435c50> (56 of 224)"
       ]
      },
      {
       "output_type": "stream",
       "stream": "stdout",
       "text": [
        "\r",
        "Creating importer for <pybug.io.image.PILImporter object at 0x128435d10> (57 of 224)"
       ]
      },
      {
       "output_type": "stream",
       "stream": "stdout",
       "text": [
        "\r",
        "Creating importer for <pybug.io.image.PILImporter object at 0x128435e50> (58 of 224)"
       ]
      },
      {
       "output_type": "stream",
       "stream": "stdout",
       "text": [
        "\r",
        "Creating importer for <pybug.io.image.PILImporter object at 0x128435ed0> (59 of 224)"
       ]
      },
      {
       "output_type": "stream",
       "stream": "stdout",
       "text": [
        "\r",
        "Creating importer for <pybug.io.image.PILImporter object at 0x128435f10> (60 of 224)"
       ]
      },
      {
       "output_type": "stream",
       "stream": "stdout",
       "text": [
        "\r",
        "Creating importer for <pybug.io.image.PILImporter object at 0x128435d50> (61 of 224)"
       ]
      },
      {
       "output_type": "stream",
       "stream": "stdout",
       "text": [
        "\r",
        "Creating importer for <pybug.io.image.PILImporter object at 0x128435dd0> (62 of 224)"
       ]
      },
      {
       "output_type": "stream",
       "stream": "stdout",
       "text": [
        "\r",
        "Creating importer for <pybug.io.image.PILImporter object at 0x128435bd0> (63 of 224)"
       ]
      },
      {
       "output_type": "stream",
       "stream": "stdout",
       "text": [
        "\r",
        "Creating importer for <pybug.io.image.PILImporter object at 0x128435c10> (64 of 224)"
       ]
      },
      {
       "output_type": "stream",
       "stream": "stdout",
       "text": [
        "\r",
        "Creating importer for <pybug.io.image.PILImporter object at 0x128435750> (65 of 224)"
       ]
      },
      {
       "output_type": "stream",
       "stream": "stdout",
       "text": [
        "\r",
        "Creating importer for <pybug.io.image.PILImporter object at 0x128435790> (66 of 224)"
       ]
      },
      {
       "output_type": "stream",
       "stream": "stdout",
       "text": [
        "\r",
        "Creating importer for <pybug.io.image.PILImporter object at 0x1284357d0> (67 of 224)"
       ]
      },
      {
       "output_type": "stream",
       "stream": "stdout",
       "text": [
        "\r",
        "Creating importer for <pybug.io.image.PILImporter object at 0x128435690> (68 of 224)"
       ]
      },
      {
       "output_type": "stream",
       "stream": "stdout",
       "text": [
        "\r",
        "Creating importer for <pybug.io.image.PILImporter object at 0x1284356d0> (69 of 224)"
       ]
      },
      {
       "output_type": "stream",
       "stream": "stdout",
       "text": [
        "\r",
        "Creating importer for <pybug.io.image.PILImporter object at 0x1284355d0> (70 of 224)"
       ]
      },
      {
       "output_type": "stream",
       "stream": "stdout",
       "text": [
        "\r",
        "Creating importer for <pybug.io.image.PILImporter object at 0x128435610> (71 of 224)"
       ]
      },
      {
       "output_type": "stream",
       "stream": "stdout",
       "text": [
        "\r",
        "Creating importer for <pybug.io.image.PILImporter object at 0x128435190> (72 of 224)"
       ]
      },
      {
       "output_type": "stream",
       "stream": "stdout",
       "text": [
        "\r",
        "Creating importer for <pybug.io.image.PILImporter object at 0x128435290> (73 of 224)"
       ]
      },
      {
       "output_type": "stream",
       "stream": "stdout",
       "text": [
        "\r",
        "Creating importer for <pybug.io.image.PILImporter object at 0x128435410> (74 of 224)"
       ]
      },
      {
       "output_type": "stream",
       "stream": "stdout",
       "text": [
        "\r",
        "Creating importer for <pybug.io.image.PILImporter object at 0x128435150> (75 of 224)"
       ]
      },
      {
       "output_type": "stream",
       "stream": "stdout",
       "text": [
        "\r",
        "Creating importer for <pybug.io.image.PILImporter object at 0x128435250> (76 of 224)"
       ]
      },
      {
       "output_type": "stream",
       "stream": "stdout",
       "text": [
        "\r",
        "Creating importer for <pybug.io.image.PILImporter object at 0x1284350d0> (77 of 224)"
       ]
      },
      {
       "output_type": "stream",
       "stream": "stdout",
       "text": [
        "\r",
        "Creating importer for <pybug.io.image.PILImporter object at 0x128435390> (78 of 224)"
       ]
      },
      {
       "output_type": "stream",
       "stream": "stdout",
       "text": [
        "\r",
        "Creating importer for <pybug.io.image.PILImporter object at 0x125b5ab10> (79 of 224)"
       ]
      },
      {
       "output_type": "stream",
       "stream": "stdout",
       "text": [
        "\r",
        "Creating importer for <pybug.io.image.PILImporter object at 0x125b5a090> (80 of 224)"
       ]
      },
      {
       "output_type": "stream",
       "stream": "stdout",
       "text": [
        "\r",
        "Creating importer for <pybug.io.image.PILImporter object at 0x125b5a7d0> (81 of 224)"
       ]
      },
      {
       "output_type": "stream",
       "stream": "stdout",
       "text": [
        "\r",
        "Creating importer for <pybug.io.image.PILImporter object at 0x125b5cb50> (82 of 224)"
       ]
      },
      {
       "output_type": "stream",
       "stream": "stdout",
       "text": [
        "\r",
        "Creating importer for <pybug.io.image.PILImporter object at 0x125b5c390> (83 of 224)"
       ]
      },
      {
       "output_type": "stream",
       "stream": "stdout",
       "text": [
        "\r",
        "Creating importer for <pybug.io.image.PILImporter object at 0x10fc7ed90> (84 of 224)"
       ]
      },
      {
       "output_type": "stream",
       "stream": "stdout",
       "text": [
        "\r",
        "Creating importer for <pybug.io.image.PILImporter object at 0x1c1317c10> (85 of 224)"
       ]
      },
      {
       "output_type": "stream",
       "stream": "stdout",
       "text": [
        "\r",
        "Creating importer for <pybug.io.image.PILImporter object at 0x1c1317b90> (86 of 224)"
       ]
      },
      {
       "output_type": "stream",
       "stream": "stdout",
       "text": [
        "\r",
        "Creating importer for <pybug.io.image.PILImporter object at 0x1c1317dd0> (87 of 224)"
       ]
      },
      {
       "output_type": "stream",
       "stream": "stdout",
       "text": [
        "\r",
        "Creating importer for <pybug.io.image.PILImporter object at 0x12843f590> (88 of 224)"
       ]
      },
      {
       "output_type": "stream",
       "stream": "stdout",
       "text": [
        "\r",
        "Creating importer for <pybug.io.image.PILImporter object at 0x12843f450> (89 of 224)"
       ]
      },
      {
       "output_type": "stream",
       "stream": "stdout",
       "text": [
        "\r",
        "Creating importer for <pybug.io.image.PILImporter object at 0x12843f310> (90 of 224)"
       ]
      },
      {
       "output_type": "stream",
       "stream": "stdout",
       "text": [
        "\r",
        "Creating importer for <pybug.io.image.PILImporter object at 0x12843f6d0> (91 of 224)"
       ]
      },
      {
       "output_type": "stream",
       "stream": "stdout",
       "text": [
        "\r",
        "Creating importer for <pybug.io.image.PILImporter object at 0x12843f9d0> (92 of 224)"
       ]
      },
      {
       "output_type": "stream",
       "stream": "stdout",
       "text": [
        "\r",
        "Creating importer for <pybug.io.image.PILImporter object at 0x12843f5d0> (93 of 224)"
       ]
      },
      {
       "output_type": "stream",
       "stream": "stdout",
       "text": [
        "\r",
        "Creating importer for <pybug.io.image.PILImporter object at 0x12843f0d0> (94 of 224)"
       ]
      },
      {
       "output_type": "stream",
       "stream": "stdout",
       "text": [
        "\r",
        "Creating importer for <pybug.io.image.PILImporter object at 0x12843f150> (95 of 224)"
       ]
      },
      {
       "output_type": "stream",
       "stream": "stdout",
       "text": [
        "\r",
        "Creating importer for <pybug.io.image.PILImporter object at 0x12843f110> (96 of 224)"
       ]
      },
      {
       "output_type": "stream",
       "stream": "stdout",
       "text": [
        "\r",
        "Creating importer for <pybug.io.image.PILImporter object at 0x12843f050> (97 of 224)"
       ]
      },
      {
       "output_type": "stream",
       "stream": "stdout",
       "text": [
        "\r",
        "Creating importer for <pybug.io.image.PILImporter object at 0x12843f690> (98 of 224)"
       ]
      },
      {
       "output_type": "stream",
       "stream": "stdout",
       "text": [
        "\r",
        "Creating importer for <pybug.io.image.PILImporter object at 0x12843f710> (99 of 224)"
       ]
      },
      {
       "output_type": "stream",
       "stream": "stdout",
       "text": [
        "\r",
        "Creating importer for <pybug.io.image.PILImporter object at 0x12843f8d0> (100 of 224)"
       ]
      },
      {
       "output_type": "stream",
       "stream": "stdout",
       "text": [
        "\r",
        "Creating importer for <pybug.io.image.PILImporter object at 0x12843f650> (101 of 224)"
       ]
      },
      {
       "output_type": "stream",
       "stream": "stdout",
       "text": [
        "\r",
        "Creating importer for <pybug.io.image.PILImporter object at 0x12843f910> (102 of 224)"
       ]
      },
      {
       "output_type": "stream",
       "stream": "stdout",
       "text": [
        "\r",
        "Creating importer for <pybug.io.image.PILImporter object at 0x12843f990> (103 of 224)"
       ]
      },
      {
       "output_type": "stream",
       "stream": "stdout",
       "text": [
        "\r",
        "Creating importer for <pybug.io.image.PILImporter object at 0x12843f750> (104 of 224)"
       ]
      },
      {
       "output_type": "stream",
       "stream": "stdout",
       "text": [
        "\r",
        "Creating importer for <pybug.io.image.PILImporter object at 0x12843f410> (105 of 224)"
       ]
      },
      {
       "output_type": "stream",
       "stream": "stdout",
       "text": [
        "\r",
        "Creating importer for <pybug.io.image.PILImporter object at 0x12843f810> (106 of 224)"
       ]
      },
      {
       "output_type": "stream",
       "stream": "stdout",
       "text": [
        "\r",
        "Creating importer for <pybug.io.image.PILImporter object at 0x12843fa10> (107 of 224)"
       ]
      },
      {
       "output_type": "stream",
       "stream": "stdout",
       "text": [
        "\r",
        "Creating importer for <pybug.io.image.PILImporter object at 0x12843fa50> (108 of 224)"
       ]
      },
      {
       "output_type": "stream",
       "stream": "stdout",
       "text": [
        "\r",
        "Creating importer for <pybug.io.image.PILImporter object at 0x12843fa90> (109 of 224)"
       ]
      },
      {
       "output_type": "stream",
       "stream": "stdout",
       "text": [
        "\r",
        "Creating importer for <pybug.io.image.PILImporter object at 0x12843fad0> (110 of 224)"
       ]
      },
      {
       "output_type": "stream",
       "stream": "stdout",
       "text": [
        "\r",
        "Creating importer for <pybug.io.image.PILImporter object at 0x12843fb10> (111 of 224)"
       ]
      },
      {
       "output_type": "stream",
       "stream": "stdout",
       "text": [
        "\r",
        "Creating importer for <pybug.io.image.PILImporter object at 0x12843fb50> (112 of 224)"
       ]
      },
      {
       "output_type": "stream",
       "stream": "stdout",
       "text": [
        "\r",
        "Creating importer for <pybug.io.image.PILImporter object at 0x12843fb90> (113 of 224)"
       ]
      },
      {
       "output_type": "stream",
       "stream": "stdout",
       "text": [
        "\r",
        "Creating importer for <pybug.io.image.PILImporter object at 0x12843fbd0> (114 of 224)"
       ]
      },
      {
       "output_type": "stream",
       "stream": "stdout",
       "text": [
        "\r",
        "Creating importer for <pybug.io.image.PILImporter object at 0x12843fc10> (115 of 224)"
       ]
      },
      {
       "output_type": "stream",
       "stream": "stdout",
       "text": [
        "\r",
        "Creating importer for <pybug.io.image.PILImporter object at 0x12843fc50> (116 of 224)"
       ]
      },
      {
       "output_type": "stream",
       "stream": "stdout",
       "text": [
        "\r",
        "Creating importer for <pybug.io.image.PILImporter object at 0x12843fc90> (117 of 224)"
       ]
      },
      {
       "output_type": "stream",
       "stream": "stdout",
       "text": [
        "\r",
        "Creating importer for <pybug.io.image.PILImporter object at 0x12843fcd0> (118 of 224)"
       ]
      },
      {
       "output_type": "stream",
       "stream": "stdout",
       "text": [
        "\r",
        "Creating importer for <pybug.io.image.PILImporter object at 0x12843fd10> (119 of 224)"
       ]
      },
      {
       "output_type": "stream",
       "stream": "stdout",
       "text": [
        "\r",
        "Creating importer for <pybug.io.image.PILImporter object at 0x12843fd50> (120 of 224)"
       ]
      },
      {
       "output_type": "stream",
       "stream": "stdout",
       "text": [
        "\r",
        "Creating importer for <pybug.io.image.PILImporter object at 0x12843fd90> (121 of 224)"
       ]
      },
      {
       "output_type": "stream",
       "stream": "stdout",
       "text": [
        "\r",
        "Creating importer for <pybug.io.image.PILImporter object at 0x12843fdd0> (122 of 224)"
       ]
      },
      {
       "output_type": "stream",
       "stream": "stdout",
       "text": [
        "\r",
        "Creating importer for <pybug.io.image.PILImporter object at 0x12843fe10> (123 of 224)"
       ]
      },
      {
       "output_type": "stream",
       "stream": "stdout",
       "text": [
        "\r",
        "Creating importer for <pybug.io.image.PILImporter object at 0x12843fe50> (124 of 224)"
       ]
      },
      {
       "output_type": "stream",
       "stream": "stdout",
       "text": [
        "\r",
        "Creating importer for <pybug.io.image.PILImporter object at 0x12843fe90> (125 of 224)"
       ]
      },
      {
       "output_type": "stream",
       "stream": "stdout",
       "text": [
        "\r",
        "Creating importer for <pybug.io.image.PILImporter object at 0x12843fed0> (126 of 224)"
       ]
      },
      {
       "output_type": "stream",
       "stream": "stdout",
       "text": [
        "\r",
        "Creating importer for <pybug.io.image.PILImporter object at 0x12843ff10> (127 of 224)"
       ]
      },
      {
       "output_type": "stream",
       "stream": "stdout",
       "text": [
        "\r",
        "Creating importer for <pybug.io.image.PILImporter object at 0x12843ff50> (128 of 224)"
       ]
      },
      {
       "output_type": "stream",
       "stream": "stdout",
       "text": [
        "\r",
        "Creating importer for <pybug.io.image.PILImporter object at 0x12843ff90> (129 of 224)"
       ]
      },
      {
       "output_type": "stream",
       "stream": "stdout",
       "text": [
        "\r",
        "Creating importer for <pybug.io.image.PILImporter object at 0x12843ffd0> (130 of 224)"
       ]
      },
      {
       "output_type": "stream",
       "stream": "stdout",
       "text": [
        "\r",
        "Creating importer for <pybug.io.image.PILImporter object at 0x128441050> (131 of 224)"
       ]
      },
      {
       "output_type": "stream",
       "stream": "stdout",
       "text": [
        "\r",
        "Creating importer for <pybug.io.image.PILImporter object at 0x128441090> (132 of 224)"
       ]
      },
      {
       "output_type": "stream",
       "stream": "stdout",
       "text": [
        "\r",
        "Creating importer for <pybug.io.image.PILImporter object at 0x1284410d0> (133 of 224)"
       ]
      },
      {
       "output_type": "stream",
       "stream": "stdout",
       "text": [
        "\r",
        "Creating importer for <pybug.io.image.PILImporter object at 0x128441110> (134 of 224)"
       ]
      },
      {
       "output_type": "stream",
       "stream": "stdout",
       "text": [
        "\r",
        "Creating importer for <pybug.io.image.PILImporter object at 0x128441150> (135 of 224)"
       ]
      },
      {
       "output_type": "stream",
       "stream": "stdout",
       "text": [
        "\r",
        "Creating importer for <pybug.io.image.PILImporter object at 0x128441190> (136 of 224)"
       ]
      },
      {
       "output_type": "stream",
       "stream": "stdout",
       "text": [
        "\r",
        "Creating importer for <pybug.io.image.PILImporter object at 0x1284411d0> (137 of 224)"
       ]
      },
      {
       "output_type": "stream",
       "stream": "stdout",
       "text": [
        "\r",
        "Creating importer for <pybug.io.image.PILImporter object at 0x128441210> (138 of 224)"
       ]
      },
      {
       "output_type": "stream",
       "stream": "stdout",
       "text": [
        "\r",
        "Creating importer for <pybug.io.image.PILImporter object at 0x128441250> (139 of 224)"
       ]
      },
      {
       "output_type": "stream",
       "stream": "stdout",
       "text": [
        "\r",
        "Creating importer for <pybug.io.image.PILImporter object at 0x128441290> (140 of 224)"
       ]
      },
      {
       "output_type": "stream",
       "stream": "stdout",
       "text": [
        "\r",
        "Creating importer for <pybug.io.image.PILImporter object at 0x1284412d0> (141 of 224)"
       ]
      },
      {
       "output_type": "stream",
       "stream": "stdout",
       "text": [
        "\r",
        "Creating importer for <pybug.io.image.PILImporter object at 0x128441310> (142 of 224)"
       ]
      },
      {
       "output_type": "stream",
       "stream": "stdout",
       "text": [
        "\r",
        "Creating importer for <pybug.io.image.PILImporter object at 0x128441350> (143 of 224)"
       ]
      },
      {
       "output_type": "stream",
       "stream": "stdout",
       "text": [
        "\r",
        "Creating importer for <pybug.io.image.PILImporter object at 0x128441390> (144 of 224)"
       ]
      },
      {
       "output_type": "stream",
       "stream": "stdout",
       "text": [
        "\r",
        "Creating importer for <pybug.io.image.PILImporter object at 0x1284413d0> (145 of 224)"
       ]
      },
      {
       "output_type": "stream",
       "stream": "stdout",
       "text": [
        "\r",
        "Creating importer for <pybug.io.image.PILImporter object at 0x128441410> (146 of 224)"
       ]
      },
      {
       "output_type": "stream",
       "stream": "stdout",
       "text": [
        "\r",
        "Creating importer for <pybug.io.image.PILImporter object at 0x128441450> (147 of 224)"
       ]
      },
      {
       "output_type": "stream",
       "stream": "stdout",
       "text": [
        "\r",
        "Creating importer for <pybug.io.image.PILImporter object at 0x128441490> (148 of 224)"
       ]
      },
      {
       "output_type": "stream",
       "stream": "stdout",
       "text": [
        "\r",
        "Creating importer for <pybug.io.image.PILImporter object at 0x1284414d0> (149 of 224)"
       ]
      },
      {
       "output_type": "stream",
       "stream": "stdout",
       "text": [
        "\r",
        "Creating importer for <pybug.io.image.PILImporter object at 0x128441510> (150 of 224)"
       ]
      },
      {
       "output_type": "stream",
       "stream": "stdout",
       "text": [
        "\r",
        "Creating importer for <pybug.io.image.PILImporter object at 0x128441550> (151 of 224)"
       ]
      },
      {
       "output_type": "stream",
       "stream": "stdout",
       "text": [
        "\r",
        "Creating importer for <pybug.io.image.PILImporter object at 0x128441590> (152 of 224)"
       ]
      },
      {
       "output_type": "stream",
       "stream": "stdout",
       "text": [
        "\r",
        "Creating importer for <pybug.io.image.PILImporter object at 0x1284415d0> (153 of 224)"
       ]
      },
      {
       "output_type": "stream",
       "stream": "stdout",
       "text": [
        "\r",
        "Creating importer for <pybug.io.image.PILImporter object at 0x128441610> (154 of 224)"
       ]
      },
      {
       "output_type": "stream",
       "stream": "stdout",
       "text": [
        "\r",
        "Creating importer for <pybug.io.image.PILImporter object at 0x128441650> (155 of 224)"
       ]
      },
      {
       "output_type": "stream",
       "stream": "stdout",
       "text": [
        "\r",
        "Creating importer for <pybug.io.image.PILImporter object at 0x128441690> (156 of 224)"
       ]
      },
      {
       "output_type": "stream",
       "stream": "stdout",
       "text": [
        "\r",
        "Creating importer for <pybug.io.image.PILImporter object at 0x1284416d0> (157 of 224)"
       ]
      },
      {
       "output_type": "stream",
       "stream": "stdout",
       "text": [
        "\r",
        "Creating importer for <pybug.io.image.PILImporter object at 0x128441710> (158 of 224)"
       ]
      },
      {
       "output_type": "stream",
       "stream": "stdout",
       "text": [
        "\r",
        "Creating importer for <pybug.io.image.PILImporter object at 0x128441750> (159 of 224)"
       ]
      },
      {
       "output_type": "stream",
       "stream": "stdout",
       "text": [
        "\r",
        "Creating importer for <pybug.io.image.PILImporter object at 0x128441790> (160 of 224)"
       ]
      },
      {
       "output_type": "stream",
       "stream": "stdout",
       "text": [
        "\r",
        "Creating importer for <pybug.io.image.PILImporter object at 0x1284417d0> (161 of 224)"
       ]
      },
      {
       "output_type": "stream",
       "stream": "stdout",
       "text": [
        "\r",
        "Creating importer for <pybug.io.image.PILImporter object at 0x128441810> (162 of 224)"
       ]
      },
      {
       "output_type": "stream",
       "stream": "stdout",
       "text": [
        "\r",
        "Creating importer for <pybug.io.image.PILImporter object at 0x128441850> (163 of 224)"
       ]
      },
      {
       "output_type": "stream",
       "stream": "stdout",
       "text": [
        "\r",
        "Creating importer for <pybug.io.image.PILImporter object at 0x128441890> (164 of 224)"
       ]
      },
      {
       "output_type": "stream",
       "stream": "stdout",
       "text": [
        "\r",
        "Creating importer for <pybug.io.image.PILImporter object at 0x1284418d0> (165 of 224)"
       ]
      },
      {
       "output_type": "stream",
       "stream": "stdout",
       "text": [
        "\r",
        "Creating importer for <pybug.io.image.PILImporter object at 0x128441910> (166 of 224)"
       ]
      },
      {
       "output_type": "stream",
       "stream": "stdout",
       "text": [
        "\r",
        "Creating importer for <pybug.io.image.PILImporter object at 0x128441950> (167 of 224)"
       ]
      },
      {
       "output_type": "stream",
       "stream": "stdout",
       "text": [
        "\r",
        "Creating importer for <pybug.io.image.PILImporter object at 0x128441990> (168 of 224)"
       ]
      },
      {
       "output_type": "stream",
       "stream": "stdout",
       "text": [
        "\r",
        "Creating importer for <pybug.io.image.PILImporter object at 0x1284419d0> (169 of 224)"
       ]
      },
      {
       "output_type": "stream",
       "stream": "stdout",
       "text": [
        "\r",
        "Creating importer for <pybug.io.image.PILImporter object at 0x128441a10> (170 of 224)"
       ]
      },
      {
       "output_type": "stream",
       "stream": "stdout",
       "text": [
        "\r",
        "Creating importer for <pybug.io.image.PILImporter object at 0x128441a50> (171 of 224)"
       ]
      },
      {
       "output_type": "stream",
       "stream": "stdout",
       "text": [
        "\r",
        "Creating importer for <pybug.io.image.PILImporter object at 0x128441a90> (172 of 224)"
       ]
      },
      {
       "output_type": "stream",
       "stream": "stdout",
       "text": [
        "\r",
        "Creating importer for <pybug.io.image.PILImporter object at 0x128441ad0> (173 of 224)"
       ]
      },
      {
       "output_type": "stream",
       "stream": "stdout",
       "text": [
        "\r",
        "Creating importer for <pybug.io.image.PILImporter object at 0x128441b10> (174 of 224)"
       ]
      },
      {
       "output_type": "stream",
       "stream": "stdout",
       "text": [
        "\r",
        "Creating importer for <pybug.io.image.PILImporter object at 0x128441b50> (175 of 224)"
       ]
      },
      {
       "output_type": "stream",
       "stream": "stdout",
       "text": [
        "\r",
        "Creating importer for <pybug.io.image.PILImporter object at 0x128441b90> (176 of 224)"
       ]
      },
      {
       "output_type": "stream",
       "stream": "stdout",
       "text": [
        "\r",
        "Creating importer for <pybug.io.image.PILImporter object at 0x128441bd0> (177 of 224)"
       ]
      },
      {
       "output_type": "stream",
       "stream": "stdout",
       "text": [
        "\r",
        "Creating importer for <pybug.io.image.PILImporter object at 0x128441c10> (178 of 224)"
       ]
      },
      {
       "output_type": "stream",
       "stream": "stdout",
       "text": [
        "\r",
        "Creating importer for <pybug.io.image.PILImporter object at 0x128441c50> (179 of 224)"
       ]
      },
      {
       "output_type": "stream",
       "stream": "stdout",
       "text": [
        "\r",
        "Creating importer for <pybug.io.image.PILImporter object at 0x128441c90> (180 of 224)"
       ]
      },
      {
       "output_type": "stream",
       "stream": "stdout",
       "text": [
        "\r",
        "Creating importer for <pybug.io.image.PILImporter object at 0x128441cd0> (181 of 224)"
       ]
      },
      {
       "output_type": "stream",
       "stream": "stdout",
       "text": [
        "\r",
        "Creating importer for <pybug.io.image.PILImporter object at 0x128441d10> (182 of 224)"
       ]
      },
      {
       "output_type": "stream",
       "stream": "stdout",
       "text": [
        "\r",
        "Creating importer for <pybug.io.image.PILImporter object at 0x128441d50> (183 of 224)"
       ]
      },
      {
       "output_type": "stream",
       "stream": "stdout",
       "text": [
        "\r",
        "Creating importer for <pybug.io.image.PILImporter object at 0x128441d90> (184 of 224)"
       ]
      },
      {
       "output_type": "stream",
       "stream": "stdout",
       "text": [
        "\r",
        "Creating importer for <pybug.io.image.PILImporter object at 0x128441dd0> (185 of 224)"
       ]
      },
      {
       "output_type": "stream",
       "stream": "stdout",
       "text": [
        "\r",
        "Creating importer for <pybug.io.image.PILImporter object at 0x128441e10> (186 of 224)"
       ]
      },
      {
       "output_type": "stream",
       "stream": "stdout",
       "text": [
        "\r",
        "Creating importer for <pybug.io.image.PILImporter object at 0x128441e50> (187 of 224)"
       ]
      },
      {
       "output_type": "stream",
       "stream": "stdout",
       "text": [
        "\r",
        "Creating importer for <pybug.io.image.PILImporter object at 0x128441e90> (188 of 224)"
       ]
      },
      {
       "output_type": "stream",
       "stream": "stdout",
       "text": [
        "\r",
        "Creating importer for <pybug.io.image.PILImporter object at 0x128441ed0> (189 of 224)"
       ]
      },
      {
       "output_type": "stream",
       "stream": "stdout",
       "text": [
        "\r",
        "Creating importer for <pybug.io.image.PILImporter object at 0x128441f10> (190 of 224)"
       ]
      },
      {
       "output_type": "stream",
       "stream": "stdout",
       "text": [
        "\r",
        "Creating importer for <pybug.io.image.PILImporter object at 0x128441f50> (191 of 224)"
       ]
      },
      {
       "output_type": "stream",
       "stream": "stdout",
       "text": [
        "\r",
        "Creating importer for <pybug.io.image.PILImporter object at 0x128441f90> (192 of 224)"
       ]
      },
      {
       "output_type": "stream",
       "stream": "stdout",
       "text": [
        "\r",
        "Creating importer for <pybug.io.image.PILImporter object at 0x128441fd0> (193 of 224)"
       ]
      },
      {
       "output_type": "stream",
       "stream": "stdout",
       "text": [
        "\r",
        "Creating importer for <pybug.io.image.PILImporter object at 0x128452050> (194 of 224)"
       ]
      },
      {
       "output_type": "stream",
       "stream": "stdout",
       "text": [
        "\r",
        "Creating importer for <pybug.io.image.PILImporter object at 0x128452090> (195 of 224)"
       ]
      },
      {
       "output_type": "stream",
       "stream": "stdout",
       "text": [
        "\r",
        "Creating importer for <pybug.io.image.PILImporter object at 0x1284520d0> (196 of 224)"
       ]
      },
      {
       "output_type": "stream",
       "stream": "stdout",
       "text": [
        "\r",
        "Creating importer for <pybug.io.image.PILImporter object at 0x128452110> (197 of 224)"
       ]
      },
      {
       "output_type": "stream",
       "stream": "stdout",
       "text": [
        "\r",
        "Creating importer for <pybug.io.image.PILImporter object at 0x128452150> (198 of 224)"
       ]
      },
      {
       "output_type": "stream",
       "stream": "stdout",
       "text": [
        "\r",
        "Creating importer for <pybug.io.image.PILImporter object at 0x128452190> (199 of 224)"
       ]
      },
      {
       "output_type": "stream",
       "stream": "stdout",
       "text": [
        "\r",
        "Creating importer for <pybug.io.image.PILImporter object at 0x1284521d0> (200 of 224)"
       ]
      },
      {
       "output_type": "stream",
       "stream": "stdout",
       "text": [
        "\r",
        "Creating importer for <pybug.io.image.PILImporter object at 0x128452210> (201 of 224)"
       ]
      },
      {
       "output_type": "stream",
       "stream": "stdout",
       "text": [
        "\r",
        "Creating importer for <pybug.io.image.PILImporter object at 0x128452250> (202 of 224)"
       ]
      },
      {
       "output_type": "stream",
       "stream": "stdout",
       "text": [
        "\r",
        "Creating importer for <pybug.io.image.PILImporter object at 0x128452290> (203 of 224)"
       ]
      },
      {
       "output_type": "stream",
       "stream": "stdout",
       "text": [
        "\r",
        "Creating importer for <pybug.io.image.PILImporter object at 0x1284522d0> (204 of 224)"
       ]
      },
      {
       "output_type": "stream",
       "stream": "stdout",
       "text": [
        "\r",
        "Creating importer for <pybug.io.image.PILImporter object at 0x128452310> (205 of 224)"
       ]
      },
      {
       "output_type": "stream",
       "stream": "stdout",
       "text": [
        "\r",
        "Creating importer for <pybug.io.image.PILImporter object at 0x128452350> (206 of 224)"
       ]
      },
      {
       "output_type": "stream",
       "stream": "stdout",
       "text": [
        "\r",
        "Creating importer for <pybug.io.image.PILImporter object at 0x128452390> (207 of 224)"
       ]
      },
      {
       "output_type": "stream",
       "stream": "stdout",
       "text": [
        "\r",
        "Creating importer for <pybug.io.image.PILImporter object at 0x1284523d0> (208 of 224)"
       ]
      },
      {
       "output_type": "stream",
       "stream": "stdout",
       "text": [
        "\r",
        "Creating importer for <pybug.io.image.PILImporter object at 0x128452410> (209 of 224)"
       ]
      },
      {
       "output_type": "stream",
       "stream": "stdout",
       "text": [
        "\r",
        "Creating importer for <pybug.io.image.PILImporter object at 0x128452450> (210 of 224)"
       ]
      },
      {
       "output_type": "stream",
       "stream": "stdout",
       "text": [
        "\r",
        "Creating importer for <pybug.io.image.PILImporter object at 0x128452490> (211 of 224)"
       ]
      },
      {
       "output_type": "stream",
       "stream": "stdout",
       "text": [
        "\r",
        "Creating importer for <pybug.io.image.PILImporter object at 0x1284524d0> (212 of 224)"
       ]
      },
      {
       "output_type": "stream",
       "stream": "stdout",
       "text": [
        "\r",
        "Creating importer for <pybug.io.image.PILImporter object at 0x128452510> (213 of 224)"
       ]
      },
      {
       "output_type": "stream",
       "stream": "stdout",
       "text": [
        "\r",
        "Creating importer for <pybug.io.image.PILImporter object at 0x128452550> (214 of 224)"
       ]
      },
      {
       "output_type": "stream",
       "stream": "stdout",
       "text": [
        "\r",
        "Creating importer for <pybug.io.image.PILImporter object at 0x128452590> (215 of 224)"
       ]
      },
      {
       "output_type": "stream",
       "stream": "stdout",
       "text": [
        "\r",
        "Creating importer for <pybug.io.image.PILImporter object at 0x1284525d0> (216 of 224)"
       ]
      },
      {
       "output_type": "stream",
       "stream": "stdout",
       "text": [
        "\r",
        "Creating importer for <pybug.io.image.PILImporter object at 0x128452610> (217 of 224)"
       ]
      },
      {
       "output_type": "stream",
       "stream": "stdout",
       "text": [
        "\r",
        "Creating importer for <pybug.io.image.PILImporter object at 0x128452650> (218 of 224)"
       ]
      },
      {
       "output_type": "stream",
       "stream": "stdout",
       "text": [
        "\r",
        "Creating importer for <pybug.io.image.PILImporter object at 0x128452690> (219 of 224)"
       ]
      },
      {
       "output_type": "stream",
       "stream": "stdout",
       "text": [
        "\r",
        "Creating importer for <pybug.io.image.PILImporter object at 0x1284526d0> (220 of 224)"
       ]
      },
      {
       "output_type": "stream",
       "stream": "stdout",
       "text": [
        "\r",
        "Creating importer for <pybug.io.image.PILImporter object at 0x128452710> (221 of 224)"
       ]
      },
      {
       "output_type": "stream",
       "stream": "stdout",
       "text": [
        "\r",
        "Creating importer for <pybug.io.image.PILImporter object at 0x128452750> (222 of 224)"
       ]
      },
      {
       "output_type": "stream",
       "stream": "stdout",
       "text": [
        "\r",
        "Creating importer for <pybug.io.image.PILImporter object at 0x128452790> (223 of 224)"
       ]
      },
      {
       "output_type": "stream",
       "stream": "stdout",
       "text": [
        "\r",
        "Creating importer for <pybug.io.image.PILImporter object at 0x1284527d0> (224 of 224)"
       ]
      },
      {
       "output_type": "stream",
       "stream": "stdout",
       "text": [
        "\n"
       ]
      },
      {
       "output_type": "stream",
       "stream": "stdout",
       "text": [
        "- Cropping images\n",
        "- Rescaling images to reference shape"
       ]
      },
      {
       "output_type": "stream",
       "stream": "stdout",
       "text": [
        "\n",
        "- Building gaussian pyramids"
       ]
      },
      {
       "output_type": "stream",
       "stream": "stdout",
       "text": [
        "\n"
       ]
      }
     ],
     "prompt_number": 20
    },
    {
     "cell_type": "code",
     "collapsed": false,
     "input": [
      "original_landmarks = [i.landmarks['PTS'].lms for i in images]\n",
      "pr.noise_std = 0.025\n",
      "perturbed_landmarks = [pr._perturb_landmarks(l) for l in original_landmarks]"
     ],
     "language": "python",
     "metadata": {},
     "outputs": [],
     "prompt_number": 34
    },
    {
     "cell_type": "code",
     "collapsed": false,
     "input": [
      "fitted_landmarks = [pr.align(i, l).target for i, l in zip(images[:2], perturbed_landmarks[:2])]"
     ],
     "language": "python",
     "metadata": {},
     "outputs": [],
     "prompt_number": 35
    },
    {
     "cell_type": "code",
     "collapsed": false,
     "input": [
      "ind=0\n",
      "images[ind].landmarks['fitted'] = fitted_landmarks[ind]\n",
      "images[ind].landmarks['fitted'].view() \n",
      "gcf().set_size_inches((10,10))"
     ],
     "language": "python",
     "metadata": {},
     "outputs": [
      {
       "metadata": {},
       "output_type": "display_data",
       "png": "[encoded data removed]",
       "text": [
        "<matplotlib.figure.Figure at 0x1c15cddd0>"
       ]
      }
     ],
     "prompt_number": 36
    },
    {
     "cell_type": "code",
     "collapsed": false,
     "input": [
      "%load_ext autoreload\n",
      "%autoreload 2"
     ],
     "language": "python",
     "metadata": {},
     "outputs": []
    },
    {
     "cell_type": "code",
     "collapsed": false,
     "input": [
      "pr.r.shape"
     ],
     "language": "python",
     "metadata": {},
     "outputs": []
    },
    {
     "cell_type": "code",
     "collapsed": false,
     "input": [
      "pr._update = pr._additive\n",
      "pr._features =pr._project_out\n",
      "aam.appearance_model_pyramid[2].template_instance.as_vector().shape"
     ],
     "language": "python",
     "metadata": {},
     "outputs": []
    },
    {
     "cell_type": "code",
     "collapsed": false,
     "input": [
      "aam.appearance_model_pyramid[2].template_instance.from_vector(pr.r[:-1,9]).view()"
     ],
     "language": "python",
     "metadata": {},
     "outputs": []
    },
    {
     "cell_type": "code",
     "collapsed": false,
     "input": [],
     "language": "python",
     "metadata": {},
     "outputs": []
    }
   ],
   "metadata": {}
  }
 ]
}