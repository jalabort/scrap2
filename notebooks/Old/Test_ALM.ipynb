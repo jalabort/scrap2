{
 "metadata": {
  "name": ""
 },
 "nbformat": 3,
 "nbformat_minor": 0,
 "worksheets": [
  {
   "cells": [
    {
     "cell_type": "code",
     "collapsed": false,
     "input": [
      "import pickle\n",
      "\n",
      "# load aam object\n",
      "name = 'aam_' + 'lfpw_' +'none'\n",
      "obj = pickle.load(open('/data/PhD/Models/' + name, \"rb\"))\n",
      "aam = obj[\"aam\"]"
     ],
     "language": "python",
     "metadata": {},
     "outputs": []
    },
    {
     "cell_type": "code",
     "collapsed": false,
     "input": [
      "from pybug.io import auto_import\n",
      "from pybug.image import RGBImage\n",
      "\n",
      "# load test images\n",
      "images = auto_import('/data/PhD/DataBases/lfpw/testset/*.png')\n",
      "# covert images to greyscale\n",
      "images = [i.as_greyscale() if type(i) is RGBImage else i for i in images]\n",
      "# crop images around their landmarks\n",
      "for i in images:\n",
      "    i.crop_to_landmarks_proportion(0.2)"
     ],
     "language": "python",
     "metadata": {},
     "outputs": []
    },
    {
     "cell_type": "code",
     "collapsed": false,
     "input": [
      "from pybug.lucaskanade.appearance.alternating import RobustAlternatingInverseCompositional, \\\n",
      "RobustAlternatingForwardCompositional\n",
      "\n",
      "# initialize Lucas-Kanade aam fitting\n",
      "aam.initialize_lk(n_shape=[3, 6, 12], n_appearance=[150, 150, 150],\n",
      "                  lk_algorithm=RobustAlternatingInverseCompositional)\n",
      "# fit test images\n",
      "fitted_transforms = aam.lk_fit_landmarked_database(\n",
      "    images[10:], runs=1, noise_std=0.05, verbose=True, view=True, max_iters=20)"
     ],
     "language": "python",
     "metadata": {},
     "outputs": []
    },
    {
     "cell_type": "code",
     "collapsed": false,
     "input": [
      "%load_ext autoreload\n",
      "%autoreload 2"
     ],
     "language": "python",
     "metadata": {},
     "outputs": []
    },
    {
     "cell_type": "code",
     "collapsed": false,
     "input": [
      "from pybug.activeappearancemodel.accuracy import plot_ced\n",
      "from pybug.transform.affine import UniformScale\n",
      "import matplotlib.pylab as plt\n",
      "\n",
      "# obtain original ground truth landmark\n",
      "original_landmarks = [i.landmarks['PTS'].lms for i in images]\n",
      "\n",
      "# obtain fitting results per multi-resolution level\n",
      "fitted_landmarks = []\n",
      "for j, ft in enumerate(fitted_transforms):\n",
      "    fl = []\n",
      "    for f in ft:\n",
      "        fl.append(UniformScale(2**j, 2).apply(f[-j].target))\n",
      "    fitted_landmarks.append(fl)\n",
      "\n",
      "# compute errors\n",
      "for fl in fitted_landmarks:\n",
      "    plot_ced(fl, original_landmarks, label='level' + j)\n",
      "    plt.show()"
     ],
     "language": "python",
     "metadata": {},
     "outputs": []
    }
   ],
   "metadata": {}
  }
 ]
}