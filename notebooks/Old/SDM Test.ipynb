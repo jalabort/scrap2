{
 "metadata": {
  "name": "",
  "signature": "sha256:75eddc333c718e96e8c882041dc5753ebc90468a8af71718fc5054e6fbc2b875"
 },
 "nbformat": 3,
 "nbformat_minor": 0,
 "worksheets": [
  {
   "cells": [
    {
     "cell_type": "code",
     "collapsed": false,
     "input": [
      "import pybug.io as pio\n",
      "from pybug.landmark import labeller, ibug_68_trimesh\n",
      "\n",
      "training_images = []\n",
      "# load landmarked imarges\n",
      "for i in pio.import_images('/data/PhD/DataBases/lfpw/trainset/*.png',\n",
      "                     max_images=1):\n",
      "    i.crop_to_landmarks_proportion(0.1)\n",
      "    if i.n_channels == 3:\n",
      "        training_images.append(i.as_greyscale(mode='luminosity'))\n",
      "    else:\n",
      "        training_images.append(i)"
     ],
     "language": "python",
     "metadata": {},
     "outputs": [],
     "prompt_number": 14
    },
    {
     "cell_type": "code",
     "collapsed": false,
     "input": [
      "import numpy as np\n",
      "\n",
      "features = np.ones(2448)\n",
      "R = np.ones((68, 2448))"
     ],
     "language": "python",
     "metadata": {},
     "outputs": [],
     "prompt_number": 15
    },
    {
     "cell_type": "code",
     "collapsed": false,
     "input": [
      "def sdm_time_test(image, R):\n",
      "    \n",
      "    img = training_images[0].features.hog(mode='sparse')\n",
      "    img.pixels.ravel()\n",
      "    features = np.ones(2448)\n",
      "\n",
      "    for _ in np.arange(0, 50):\n",
      "        np.dot(R, features)"
     ],
     "language": "python",
     "metadata": {},
     "outputs": [],
     "prompt_number": 33
    },
    {
     "cell_type": "code",
     "collapsed": false,
     "input": [
      "%timeit sdm_time_test(training_images[0], R)"
     ],
     "language": "python",
     "metadata": {},
     "outputs": [
      {
       "output_type": "stream",
       "stream": "stdout",
       "text": [
        "10 loops, best of 3: 23.7 ms per loop\n"
       ]
      }
     ],
     "prompt_number": 34
    },
    {
     "cell_type": "code",
     "collapsed": false,
     "input": [
      "\n",
      "training_images[0].features.hog?"
     ],
     "language": "python",
     "metadata": {},
     "outputs": [
      {
       "output_type": "stream",
       "stream": "stdout",
       "text": [
        "Object `features.hog` not found.\n"
       ]
      }
     ],
     "prompt_number": 28
    },
    {
     "cell_type": "code",
     "collapsed": false,
     "input": [
      "training_images[0].features.hog"
     ],
     "language": "python",
     "metadata": {},
     "outputs": []
    },
    {
     "cell_type": "code",
     "collapsed": false,
     "input": [],
     "language": "python",
     "metadata": {},
     "outputs": [],
     "prompt_number": 13
    },
    {
     "cell_type": "code",
     "collapsed": false,
     "input": [],
     "language": "python",
     "metadata": {},
     "outputs": []
    }
   ],
   "metadata": {}
  }
 ]
}