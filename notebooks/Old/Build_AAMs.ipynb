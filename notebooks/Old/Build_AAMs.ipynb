{
 "metadata": {
  "name": ""
 },
 "nbformat": 3,
 "nbformat_minor": 0,
 "worksheets": [
  {
   "cells": [
    {
     "cell_type": "code",
     "collapsed": false,
     "input": [
      "from pybug.io import auto_import\n",
      "from pybug.image import RGBImage\n",
      "from pybug.landmark import labeller, ibug_68_points, ibug_68_trimesh\n",
      "\n",
      "# load landmarked images\n",
      "images = auto_import('/Users/joan/PhD/DataBases/' + 'lfpw/trainset' + '/*.png',\n",
      "                     max_images=811)\n",
      "\n",
      "# crop images around their landmarks\n",
      "for i in images:\n",
      "    i.crop_to_landmarks_proportion(0.2) \n",
      "    \n",
      "# label images\n",
      "labeller(images, 'PTS', ibug_68_points);\n",
      "labeller(images, 'PTS', ibug_68_trimesh);\n",
      "\n",
      "# covert images to greyscale\n",
      "images = [i.as_greyscale() if type(i) is RGBImage else i for i in images]"
     ],
     "language": "python",
     "metadata": {},
     "outputs": []
    },
    {
     "cell_type": "code",
     "collapsed": false,
     "input": [
      "from pybug.activeappearancemodel.base import aam_builder\n",
      "from pybug.landmark import ibug_68_trimesh\n",
      "\n",
      "# set options\n",
      "options = {'group': 'PTS',\n",
      "           'trilist': images[0].landmarks['ibug_68_trimesh'].lms.trilist,\n",
      "           'features_dic': None,\n",
      "           'scaled_reference_frames': True,\n",
      "           'max_shape_components': 25,\n",
      "           'max_appearance_components': 500}\n",
      "# build aam\n",
      "aam = aam_builder(images, **options)"
     ],
     "language": "python",
     "metadata": {},
     "outputs": []
    },
    {
     "cell_type": "code",
     "collapsed": false,
     "input": [
      "aam.instance(np.random.randn(5), np.random.randn(5), level=2).view()"
     ],
     "language": "python",
     "metadata": {},
     "outputs": []
    },
    {
     "cell_type": "code",
     "collapsed": false,
     "input": [
      "import pickle\n",
      "\n",
      "# set name\n",
      "name = 'aam_' + 'lfpw_' + 'none'\n",
      "# save aam\n",
      "pickle.dump({'aam': aam}, open('/Users/joan/PhD/Models/' + name, 'wb'))"
     ],
     "language": "python",
     "metadata": {},
     "outputs": [],
     "prompt_number": 33
    }
   ],
   "metadata": {}
  }
 ]
}