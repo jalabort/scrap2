{
 "cells": [
  {
   "cell_type": "code",
   "execution_count": null,
   "metadata": {
    "collapsed": false
   },
   "outputs": [],
   "source": [
    "%matplotlib inline\n",
    "%pylab inline\n",
    "\n",
    "from functools import partial\n",
    "\n",
    "import menpo.io as mio\n",
    "from menpo.feature import imgfeature, fast_dsift\n",
    "\n",
    "from menpo.landmark import labeller, ibug_face_68_trimesh\n",
    "from menpo.visualize import visualize_images\n",
    "from menpofit.aam import HolisticAAM"
   ]
  },
  {
   "cell_type": "code",
   "execution_count": null,
   "metadata": {
    "collapsed": true
   },
   "outputs": [],
   "source": [
    "@imgfeature\n",
    "def fast_dsift2(image):\n",
    "    if image.n_channels == 3:\n",
    "        image = image.as_greyscale(mode='average')\n",
    "    return fast_dsift(image)"
   ]
  },
  {
   "cell_type": "code",
   "execution_count": null,
   "metadata": {
    "collapsed": true
   },
   "outputs": [],
   "source": [
    "image_folder = '/vol/atlas/databases/'\n",
    "model_folder = '/data/papers/alabort_arxiv2015_aam/experiments/'"
   ]
  },
  {
   "cell_type": "markdown",
   "metadata": {},
   "source": [
    "## Load training data"
   ]
  },
  {
   "cell_type": "code",
   "execution_count": null,
   "metadata": {
    "collapsed": false
   },
   "outputs": [],
   "source": [
    "training_images = []\n",
    "for i in mio.import_images(image_folder + 'lfpw/trainset/', \n",
    "                           verbose=True, max_images=None):\n",
    "    i = i.rescale_landmarks_to_diagonal_range(200)\n",
    "    i = i.crop_to_landmarks_proportion(0.5)\n",
    "    labeller(i, 'PTS', ibug_face_68_trimesh)\n",
    "    if i.n_channels == 3:\n",
    "        training_images.append(i)\n",
    "        \n",
    "for i in mio.import_images(image_folder + 'helen/trainset/', \n",
    "                           verbose=True, max_images=None):\n",
    "    i = i.rescale_landmarks_to_diagonal_range(200)\n",
    "    i = i.crop_to_landmarks_proportion(0.5)\n",
    "    labeller(i, 'PTS', ibug_face_68_trimesh)\n",
    "    if i.n_channels == 3:\n",
    "        training_images.append(i)"
   ]
  },
  {
   "cell_type": "code",
   "execution_count": null,
   "metadata": {
    "collapsed": false
   },
   "outputs": [],
   "source": [
    "visualize_images(training_images)"
   ]
  },
  {
   "cell_type": "markdown",
   "metadata": {},
   "source": [
    "## Build and save Active Appearance Model"
   ]
  },
  {
   "cell_type": "code",
   "execution_count": null,
   "metadata": {
    "collapsed": false
   },
   "outputs": [],
   "source": [
    "features = fast_dsift2\n",
    "diagonal = 150\n",
    "scales = (0.5, 1)\n",
    "max_shape_components= 0.9\n",
    "max_appearance_components = 0.9"
   ]
  },
  {
   "cell_type": "markdown",
   "metadata": {},
   "source": [
    "#### AAM"
   ]
  },
  {
   "cell_type": "code",
   "execution_count": null,
   "metadata": {
    "collapsed": false
   },
   "outputs": [],
   "source": [
    "aam = HolisticAAM(\n",
    "    training_images, \n",
    "    group='ibug_face_68_trimesh', \n",
    "    verbose=True,\n",
    "    features=features,\n",
    "    diagonal=diagonal,\n",
    "    scales=scales,\n",
    "    max_shape_components=max_shape_components,\n",
    "    max_appearance_components=max_appearance_components)"
   ]
  },
  {
   "cell_type": "code",
   "execution_count": null,
   "metadata": {
    "collapsed": false
   },
   "outputs": [],
   "source": [
    "mio.export_pickle(aam, model_folder + 'aam.pkl.gz', overwrite=True)"
   ]
  }
 ],
 "metadata": {
  "kernelspec": {
   "display_name": "Python 2",
   "language": "python",
   "name": "python2"
  },
  "language_info": {
   "codemirror_mode": {
    "name": "ipython",
    "version": 2
   },
   "file_extension": ".py",
   "mimetype": "text/x-python",
   "name": "python",
   "nbconvert_exporter": "python",
   "pygments_lexer": "ipython2",
   "version": "2.7.10"
  }
 },
 "nbformat": 4,
 "nbformat_minor": 0
}
