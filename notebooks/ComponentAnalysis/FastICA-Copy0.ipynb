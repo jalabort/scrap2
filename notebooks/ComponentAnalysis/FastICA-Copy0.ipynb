{
 "metadata": {
  "name": "",
  "signature": "sha256:34b5ac34f4081d4e50df915dee1a0ea770260fd72af40939c48304b0fc852776"
 },
 "nbformat": 3,
 "nbformat_minor": 0,
 "worksheets": [
  {
   "cells": [
    {
     "cell_type": "code",
     "collapsed": false,
     "input": [
      "%matplotlib inline\n",
      "%pylab inline"
     ],
     "language": "python",
     "metadata": {},
     "outputs": []
    },
    {
     "cell_type": "code",
     "collapsed": false,
     "input": [
      "import menpo.io as mio\n",
      "from menpo.landmark import labeller\n",
      "\n",
      "images = []\n",
      "for i in mio.import_images('/data/PhD/DataBases/faces/lfpw/trainset/*',\n",
      "                           max_images=100, verbose=True):\n",
      "    \n",
      "    i.crop_to_landmarks_proportion_inplace(0.5)\n",
      "    i = i.rescale_landmarks_to_diagonal_range(100)\n",
      "    \n",
      "    if i.n_channels == 3:\n",
      "        i = i.as_greyscale(mode='luminosity')\n",
      "    \n",
      "    images.append(i)"
     ],
     "language": "python",
     "metadata": {},
     "outputs": []
    },
    {
     "cell_type": "code",
     "collapsed": false,
     "input": [
      "from menpofit.aam.base import build_reference_frame\n",
      "from menpo.shape import mean_pointcloud\n",
      "from menpo.transform import PiecewiseAffine\n",
      "\n",
      "# build reference frame\n",
      "shapes = [i.landmarks['PTS'].lms for i in images]\n",
      "mean_shape = mean_pointcloud(shapes)\n",
      "reference_frame = build_reference_frame(mean_shape)\n",
      "\n",
      "# warp images\n",
      "transforms = [PiecewiseAffine(reference_frame.landmarks['source'].lms, s) for s in shapes]\n",
      "warped_images = [i.warp_to_mask(reference_frame.mask, t) for (i, t) in zip(images, transforms)]"
     ],
     "language": "python",
     "metadata": {},
     "outputs": []
    },
    {
     "cell_type": "code",
     "collapsed": false,
     "input": [
      "warped_pixels = [i.as_vector() for i in warped_images]"
     ],
     "language": "python",
     "metadata": {},
     "outputs": []
    },
    {
     "cell_type": "code",
     "collapsed": false,
     "input": [
      "exp = np.exp(-(x ** 2) / 2)\n",
      "gx = x * exp\n",
      "g_x = (1 - x ** 2) * exp"
     ],
     "language": "python",
     "metadata": {},
     "outputs": []
    },
    {
     "cell_type": "heading",
     "level": 1,
     "metadata": {},
     "source": [
      "Fast Independent Component Analysis"
     ]
    },
    {
     "cell_type": "code",
     "collapsed": false,
     "input": [
      "from __future__ import division\n",
      "from menpo.math import pca\n",
      "\n",
      "def fast_ica(X, n_components=None, max_iters=None, eps=1e-10, verbose=False): \n",
      "    \n",
      "    X = X.T\n",
      "    \n",
      "    d, n = X.shape\n",
      "    t = 1 / n\n",
      "    \n",
      "    # centre and whiten\n",
      "#     U, l, m = pca(X.T)\n",
      "#     U = U.T\n",
      "#     l *= n - 1\n",
      "#     X = X - m[..., None]\n",
      "#     X = (l**(-0.5) * U).T.dot(X)\n",
      "    \n",
      "#     d, _ = X.shape\n",
      "    \n",
      "    W = np.random.rand(d, n_components)\n",
      "    #S = W.dot(W.T)\n",
      "    #S = (S + S.T) / 2\n",
      "    #k, E = np.linalg.eigh(S)\n",
      "    #k = k[k>0]\n",
      "    #E = E[:, :len(k)]\n",
      "    \n",
      "    #W = E.dot((k**(-0.5) * E).T).dot(W)\n",
      "    \n",
      "    g = lambda x: x * np.exp(-(x ** 2) / 2) \n",
      "    dg = lambda x: (1 - x ** 2) * np.exp(-(x ** 2) / 2) \n",
      "    \n",
      "    e = inf \n",
      "    n_iters = 0\n",
      "    \n",
      "    while e > eps and n_iters != max_iters:\n",
      "        nW = t * g(W.T.dot(X)).dot(X.T) - np.mean(dg(W.T.dot(X)), axis=-1)[..., None] * (W.T)\n",
      "        nW = nW.T\n",
      "        S = nW.dot(nW.T)\n",
      "        S = (S + S.T) / 2\n",
      "        k, E = np.linalg.eigh(S)\n",
      "        k = k[k>0]\n",
      "        E = E[:, :len(k)]\n",
      "        nW = E.dot((1/np.sqrt(k) * E).T).dot(nW)\n",
      "        \n",
      "        \n",
      "        err = max(abs(abs(np.diag(np.dot(nW, W.T))) - 1))\n",
      "        #err = np.mean(abs(abs(np.sum(nW * W, axis=0)) - 1))\n",
      "        #err = np.linalg.norm(W - nW)\n",
      "        n_iters += 1\n",
      "        \n",
      "        W = nW\n",
      "        \n",
      "        if verbose:\n",
      "            print 'n_iters:', n_iters, '\\t',\n",
      "            print '||W - nW||:', np.round(err, decimals=4)\n",
      "\n",
      "    W = W.T\n",
      "\n",
      "    return m, W, (l**(-0.5) * U).T\n",
      "\n",
      "# def ppca(X, n_components=None, sigma2=0, max_iter=200, tol=1e-10, verbose=False): \n",
      "    \n",
      "#     n_samples, n_features = X.shape\n",
      "    \n",
      "#     if n_components is None:\n",
      "#         if n_samples <= n_features:\n",
      "#             n_components = n_samples - 1\n",
      "#         else:\n",
      "#             n_components = n_features - 1\n",
      "                \n",
      "#     mean_ = np.mean(X, axis=0)\n",
      "#     X -= mean_\n",
      "    \n",
      "#     I = np.eye(n_components)\n",
      "#     X2 = np.sum(np.sum(X**2, axis=1))\n",
      "#     t = n_samples * n_features\n",
      "    \n",
      "#     W = np.random.randn(n_components, n_features)\n",
      "    \n",
      "#     for i in xrange(max_iter):\n",
      "#         inv_M = np.linalg.inv(np.dot(W, W.T) + sigma2 * I)\n",
      "#         Z = inv_M.dot(np.dot(W, X.T))\n",
      "#         ZZ = sigma2 * inv_M + np.dot(Z, Z.T)\n",
      "        \n",
      "#         nW = np.linalg.solve(ZZ, np.dot(Z, X))\n",
      "#         sigma2 = ((X2 - \n",
      "#                    2 * np.sum(np.sum(Z.T.dot(nW) * X, axis=1)) +\n",
      "#                    np.trace(ZZ.dot(np.dot(nW, nW.T)))) \n",
      "#                   / t)\n",
      "        \n",
      "#         e = np.linalg.norm(W - nW)\n",
      "        \n",
      "#         if e < tol:\n",
      "#             break\n",
      "#         else:\n",
      "#             W = nW\n",
      "#             if verbose:\n",
      "#                 print 'it:', i, '\\t',\n",
      "#                 print 'norm:', np.round(e, decimals=4), '\\t',\n",
      "#                 print 'sigma2:', np.round(sigma2, decimals=4), '\\t'\n",
      "\n",
      "#     return mean_, W, Z, sigma2"
     ],
     "language": "python",
     "metadata": {},
     "outputs": []
    },
    {
     "cell_type": "heading",
     "level": 1,
     "metadata": {},
     "source": [
      "Test"
     ]
    },
    {
     "cell_type": "markdown",
     "metadata": {},
     "source": [
      "Build data matrix A:"
     ]
    },
    {
     "cell_type": "markdown",
     "metadata": {},
     "source": [
      "Compute PFA on A:"
     ]
    },
    {
     "cell_type": "code",
     "collapsed": false,
     "input": [
      "m, W, K = fast_ica(np.asarray(warped_pixels).copy(), n_components=2, max_iters=100, verbose=True)"
     ],
     "language": "python",
     "metadata": {},
     "outputs": []
    },
    {
     "cell_type": "code",
     "collapsed": false,
     "input": [
      "print 'Shape of W is:', W.shape\n",
      "print 'Shape of K is:', K.shape\n",
      "print 'Shape of m is:', m.shape"
     ],
     "language": "python",
     "metadata": {},
     "outputs": []
    },
    {
     "cell_type": "code",
     "collapsed": false,
     "input": [
      "img = warped_images[0].copy()\n",
      "\n",
      "WK = W.dot(K)\n",
      "\n",
      "img.from_vector(WK[0, :]).view()\n",
      "img.from_vector(WK[1, :]).view_new()"
     ],
     "language": "python",
     "metadata": {},
     "outputs": []
    },
    {
     "cell_type": "code",
     "collapsed": false,
     "input": [
      "ind = 0\n",
      "\n",
      "img.from_vector(WK.T.dot((np.linalg.inv(WK.dot(WK.T)))).dot(WK.dot(warped_images[ind].as_vector() - m)) + m).view()\n",
      "\n",
      "warped_images[ind].view_new()"
     ],
     "language": "python",
     "metadata": {},
     "outputs": []
    },
    {
     "cell_type": "code",
     "collapsed": false,
     "input": [
      "from sklearn.decomposition import FastICA as skl_FastICA\n",
      "\n",
      "skl_fica = skl_FastICA(n_components=5, fun='exp')\n",
      "skl_fica.fit(np.asarray(warped_pixels))"
     ],
     "language": "python",
     "metadata": {},
     "outputs": []
    },
    {
     "cell_type": "code",
     "collapsed": false,
     "input": [
      "img.from_vector(skl_fica.components_[0, :]).view()"
     ],
     "language": "python",
     "metadata": {},
     "outputs": []
    },
    {
     "cell_type": "code",
     "collapsed": false,
     "input": [
      "print 'Shape of W is:', W.shape\n",
      "print 'Shape of Z is:', Z.shape\n",
      "print 'Shape of m is:', m.shape\n",
      "print 'Shape of f is:', f.shape "
     ],
     "language": "python",
     "metadata": {},
     "outputs": []
    },
    {
     "cell_type": "code",
     "collapsed": false,
     "input": [],
     "language": "python",
     "metadata": {},
     "outputs": []
    }
   ],
   "metadata": {}
  }
 ]
}