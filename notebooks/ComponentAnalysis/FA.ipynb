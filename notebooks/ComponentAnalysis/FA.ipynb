{
 "metadata": {
  "name": "",
  "signature": "sha256:659f05dd39cecb4effec22ff25b339c809849911d5b694ad3a3384f36ffbea5d"
 },
 "nbformat": 3,
 "nbformat_minor": 0,
 "worksheets": [
  {
   "cells": [
    {
     "cell_type": "code",
     "collapsed": false,
     "input": [
      "%matplotlib inline\n",
      "%pylab inline"
     ],
     "language": "python",
     "metadata": {},
     "outputs": []
    },
    {
     "cell_type": "heading",
     "level": 1,
     "metadata": {},
     "source": [
      "Factor Analysis"
     ]
    },
    {
     "cell_type": "code",
     "collapsed": false,
     "input": [
      "from __future__ import division\n",
      "\n",
      "def fa(X, n_components=None, f=0, max_iters=None, eps=1e-10, verbose=False): \n",
      "    \n",
      "    X = X.T\n",
      "    \n",
      "    d, n = X.shape\n",
      "    \n",
      "    if n_components is None:\n",
      "        if n <= d:\n",
      "            n_components = n - 1\n",
      "        else:\n",
      "            n_components = d - 1\n",
      "                \n",
      "    m = np.mean(X, axis=1)\n",
      "    X = X - m[..., None]\n",
      "    \n",
      "    I = np.eye(n_components)\n",
      "    c = np.sum(X**2, axis=1)\n",
      "    t = 1 / n\n",
      "    \n",
      "    W = np.random.rand(d, n_components)\n",
      "    f = np.random.randn(d)\n",
      "    \n",
      "    e = inf \n",
      "    n_iters = 0\n",
      "    \n",
      "    while e > eps and n_iters != max_iters:\n",
      "        fW = (1 / f) [..., None] * W\n",
      "        G = np.linalg.inv(np.dot(W.T, fW) + I)\n",
      "        Z = G.dot(fW.T.dot(X))\n",
      "        ZZ = G + np.dot(Z, Z.T)\n",
      "        \n",
      "        nW = X.dot(Z.T).dot(np.linalg.inv(ZZ))\n",
      "        f = c - np.sum(nW * (t * X.dot(Z.T)), axis=1)\n",
      "        \n",
      "        err = np.linalg.norm(W - nW)\n",
      "        n_iters += 1\n",
      "        \n",
      "        W = nW\n",
      "        \n",
      "        if verbose:\n",
      "            print 'n_iters:', n_iters, '\\t',\n",
      "            print '||W - nW||:', np.round(err, decimals=4), '\\t',\n",
      "            print 'f:', np.round(f[0], decimals=4)\n",
      "\n",
      "    W = W.T\n",
      "\n",
      "    return m, W, Z, f\n",
      "\n",
      "# def ppca(X, n_components=None, sigma2=0, max_iter=200, tol=1e-10, verbose=False): \n",
      "    \n",
      "#     n_samples, n_features = X.shape\n",
      "    \n",
      "#     if n_components is None:\n",
      "#         if n_samples <= n_features:\n",
      "#             n_components = n_samples - 1\n",
      "#         else:\n",
      "#             n_components = n_features - 1\n",
      "                \n",
      "#     mean_ = np.mean(X, axis=0)\n",
      "#     X -= mean_\n",
      "    \n",
      "#     I = np.eye(n_components)\n",
      "#     X2 = np.sum(np.sum(X**2, axis=1))\n",
      "#     t = n_samples * n_features\n",
      "    \n",
      "#     W = np.random.randn(n_components, n_features)\n",
      "    \n",
      "#     for i in xrange(max_iter):\n",
      "#         inv_M = np.linalg.inv(np.dot(W, W.T) + sigma2 * I)\n",
      "#         Z = inv_M.dot(np.dot(W, X.T))\n",
      "#         ZZ = sigma2 * inv_M + np.dot(Z, Z.T)\n",
      "        \n",
      "#         nW = np.linalg.solve(ZZ, np.dot(Z, X))\n",
      "#         sigma2 = ((X2 - \n",
      "#                    2 * np.sum(np.sum(Z.T.dot(nW) * X, axis=1)) +\n",
      "#                    np.trace(ZZ.dot(np.dot(nW, nW.T)))) \n",
      "#                   / t)\n",
      "        \n",
      "#         e = np.linalg.norm(W - nW)\n",
      "        \n",
      "#         if e < tol:\n",
      "#             break\n",
      "#         else:\n",
      "#             W = nW\n",
      "#             if verbose:\n",
      "#                 print 'it:', i, '\\t',\n",
      "#                 print 'norm:', np.round(e, decimals=4), '\\t',\n",
      "#                 print 'sigma2:', np.round(sigma2, decimals=4), '\\t'\n",
      "\n",
      "#     return mean_, W, Z, sigma2"
     ],
     "language": "python",
     "metadata": {},
     "outputs": []
    },
    {
     "cell_type": "heading",
     "level": 1,
     "metadata": {},
     "source": [
      "Test"
     ]
    },
    {
     "cell_type": "markdown",
     "metadata": {},
     "source": [
      "Build data matrix A:"
     ]
    },
    {
     "cell_type": "code",
     "collapsed": false,
     "input": [
      "n_a = 10\n",
      "d = 10000\n",
      "\n",
      "A = np.random.randn(n_a, d)"
     ],
     "language": "python",
     "metadata": {},
     "outputs": []
    },
    {
     "cell_type": "code",
     "collapsed": false,
     "input": [
      "print 'Shape of A is:', A.shape"
     ],
     "language": "python",
     "metadata": {},
     "outputs": []
    },
    {
     "cell_type": "markdown",
     "metadata": {},
     "source": [
      "Compute PFA on A:"
     ]
    },
    {
     "cell_type": "code",
     "collapsed": false,
     "input": [
      "m, W, Z, f = fa(A, n_components=100, max_iters=10000, verbose=True)"
     ],
     "language": "python",
     "metadata": {},
     "outputs": []
    },
    {
     "cell_type": "code",
     "collapsed": false,
     "input": [
      "print 'Shape of W is:', W.shape\n",
      "print 'Shape of Z is:', Z.shape\n",
      "print 'Shape of m is:', m.shape\n",
      "print 'Shape of f is:', f.shape "
     ],
     "language": "python",
     "metadata": {},
     "outputs": []
    },
    {
     "cell_type": "code",
     "collapsed": false,
     "input": [],
     "language": "python",
     "metadata": {},
     "outputs": []
    }
   ],
   "metadata": {}
  }
 ]
}