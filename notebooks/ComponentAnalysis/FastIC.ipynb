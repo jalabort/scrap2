{
 "metadata": {
  "name": "",
  "signature": "sha256:bd49bd1a88592aa7257fb2d3b8e445c600612a3425f297bc086d3d2fd8548369"
 },
 "nbformat": 3,
 "nbformat_minor": 0,
 "worksheets": [
  {
   "cells": [
    {
     "cell_type": "code",
     "collapsed": false,
     "input": [
      "%matplotlib inline\n",
      "%pylab inline"
     ],
     "language": "python",
     "metadata": {},
     "outputs": []
    },
    {
     "cell_type": "code",
     "collapsed": false,
     "input": [
      "import menpo.io as mio\n",
      "from menpo.landmark import labeller\n",
      "\n",
      "images = []\n",
      "for i in mio.import_images('/data/PhD/DataBases/faces/lfpw/trainset/*',\n",
      "                           max_images=None, verbose=True):\n",
      "    \n",
      "    i.crop_to_landmarks_proportion_inplace(0.5)\n",
      "    i = i.rescale_landmarks_to_diagonal_range(100)\n",
      "    \n",
      "    if i.n_channels == 3:\n",
      "        i = i.as_greyscale(mode='luminosity')\n",
      "    \n",
      "    images.append(i)"
     ],
     "language": "python",
     "metadata": {},
     "outputs": []
    },
    {
     "cell_type": "code",
     "collapsed": false,
     "input": [
      "from menpofit.aam.base import build_reference_frame\n",
      "from menpo.shape import mean_pointcloud\n",
      "from menpo.transform import PiecewiseAffine\n",
      "\n",
      "# build reference frame\n",
      "shapes = [i.landmarks['PTS'].lms for i in images]\n",
      "mean_shape = mean_pointcloud(shapes)\n",
      "reference_frame = build_reference_frame(mean_shape)\n",
      "\n",
      "# warp images\n",
      "transforms = [PiecewiseAffine(reference_frame.landmarks['source'].lms, s) for s in shapes]\n",
      "warped_images = [i.warp_to_mask(reference_frame.mask, t) for (i, t) in zip(images, transforms)]"
     ],
     "language": "python",
     "metadata": {},
     "outputs": []
    },
    {
     "cell_type": "code",
     "collapsed": false,
     "input": [
      "warped_pixels = [i.as_vector() for i in warped_images]"
     ],
     "language": "python",
     "metadata": {},
     "outputs": []
    },
    {
     "cell_type": "heading",
     "level": 1,
     "metadata": {},
     "source": [
      "Fast Independent Component Analysis"
     ]
    },
    {
     "cell_type": "code",
     "collapsed": false,
     "input": [
      "from __future__ import division\n",
      "from menpo.math import pca\n",
      "    \n",
      "    \n",
      "def f_exp(u, c1=1):\n",
      "    exp = np.exp(-0.5 * c1 * (u ** 2))\n",
      "    return -(1 / c1) * exp, u * exp\n",
      "\n",
      "\n",
      "def f_logcosh(u, c1=1.5):\n",
      "    return (1 / c1) * np.log(np.cosh(c1 * u)), np.tanh(c1 * u)\n",
      "\n",
      "\n",
      "def f_poly4(u):\n",
      "    return 0.25 * u ** 4, u ** 3\n",
      "    \n",
      "    \n",
      "def whitening_transform(X, n_components=None, eps=1e-10):\n",
      "    n, d = X.shape\n",
      "    U, l, _ = pca(X, centre=False, eps=eps)\n",
      "    if n_components:\n",
      "        l = l[:n_components]\n",
      "        U = U[:n_components, :]\n",
      "    l *= n - 1\n",
      "    K = l**(-0.5) * U.T\n",
      "    return X.dot(K), K\n",
      "    \n",
      "\n",
      "def symmetric_decorrelation(X, eps=1e-10):\n",
      "    n, d = X.shape\n",
      "    U, l, _ = pca(X, centre=False, eps=eps)\n",
      "    l *= n - 1\n",
      "    return X.dot(l**(-0.5) * U.T).dot(U)\n",
      "\n",
      "\n",
      "def batch_ica(X, W, fun=f_exp, max_iters=None, eps=1e-10, verbose=False):\n",
      "    \n",
      "    n, _ = X.shape\n",
      "    t = 1 / n\n",
      "    \n",
      "    # set initial error and number of iteration\n",
      "    e = inf \n",
      "    n_iters = 0\n",
      "    \n",
      "    while e > eps and n_iters != max_iters:\n",
      "        # evaluate non-gaussianity function\n",
      "        G, dG = fun(W.dot(X.T))\n",
      "        # compute new W\n",
      "        nW = t * G.dot(X) - np.mean(dG, axis=-1)[..., None] * W\n",
      "        # decorrelate it\n",
      "        nW = symmetric_decorrelation(nW)\n",
      "        \n",
      "        # compute convergence error\n",
      "        err = max(abs(abs(np.sum(nW * W, axis=1)) - 1))\n",
      "        n_iters += 1\n",
      "        \n",
      "        # update W\n",
      "        W = nW\n",
      "        \n",
      "        if verbose:\n",
      "            print 'n_iters:', n_iters, '\\t',\n",
      "            print '||W - nW||:', np.round(err, decimals=4)\n",
      "        \n",
      "    return W\n",
      "    \n",
      "    \n",
      "def sequential_ica(X, W, fun=f_exp, max_iters=None, eps=1e-10, verbose=False):\n",
      "    \n",
      "    n, _ = X.shape\n",
      "    t = 1 / n\n",
      "    \n",
      "    for j, w in enumerate(W):\n",
      "        \n",
      "        # set initial error and number of iteration\n",
      "        e = inf \n",
      "        n_iters = 0\n",
      "    \n",
      "        while e > eps and n_iters != max_iters:\n",
      "            # evaluate non-gaussianity function\n",
      "            g, dg = fun(w.dot(X.T))\n",
      "            # compute new w\n",
      "            nw = t * g.dot(X) - np.mean(dg, axis=-1) * w\n",
      "            # decorrelate it\n",
      "            if j > 0:\n",
      "                U = W[:j, :]\n",
      "                nw -= nw.dot(U.T).dot(U)\n",
      "                #for u in U:\n",
      "                #    nw = nw - nw.dot(u.T) * u\n",
      "            \n",
      "            nw /= np.sqrt(nw.dot(nw.T))\n",
      "            \n",
      "            # compute convergence error\n",
      "            err = abs(abs(nw.dot(w.T)) - 1)\n",
      "            n_iters += 1\n",
      "\n",
      "            # update W\n",
      "            w = nw\n",
      "\n",
      "            if verbose:\n",
      "                print 'component:', j, '\\t',\n",
      "                print 'n_iters:', n_iters, '\\t',\n",
      "                print '||w - nw||:', np.round(err, decimals=4)\n",
      "                \n",
      "        W[j, :] = w\n",
      "        \n",
      "    return W\n",
      "\n",
      "\n",
      "def ica(X, algorithm=batch_ica, fun=f_exp, n_components=None, whiten=True, max_iters=None, eps=1e-10, verbose=False): \n",
      "    \n",
      "    # obtain number of dimensions and number of samples of new data.\n",
      "    n, d = X.shape\n",
      "    t = 1 / n\n",
      "    \n",
      "    # centre data\n",
      "    # m (mean vector): d\n",
      "    m = np.mean(X, axis=0)\n",
      "    # this is required if the data matrix is very large!\n",
      "    #if inplace:\n",
      "    #    X -= m\n",
      "    #else:\n",
      "    X = X - m\n",
      "    \n",
      "    #if n_components is None:\n",
      "    if n_components is None:\n",
      "        if n <= d:\n",
      "            n_components = n - 1\n",
      "        else:\n",
      "            n_components = d - 1\n",
      "    \n",
      "    # whiten data\n",
      "    if whiten:\n",
      "        X, K = whitening_transform(X, n_components=n_components)\n",
      "        _, d = X.shape\n",
      "        \n",
      "    # initialize W \n",
      "    W = np.random.randn(n_components, d)\n",
      "    W = symmetric_decorrelation(W)\n",
      "    \n",
      "    W = algorithm(X, W, fun=fun, max_iters=max_iters, eps=eps, verbose=verbose)\n",
      "\n",
      "    if whiten:\n",
      "        return m, W, K\n",
      "    else:\n",
      "        return m, W"
     ],
     "language": "python",
     "metadata": {},
     "outputs": []
    },
    {
     "cell_type": "heading",
     "level": 1,
     "metadata": {},
     "source": [
      "Test"
     ]
    },
    {
     "cell_type": "markdown",
     "metadata": {},
     "source": [
      "Build data matrix A:"
     ]
    },
    {
     "cell_type": "markdown",
     "metadata": {},
     "source": [
      "Compute PFA on A:"
     ]
    },
    {
     "cell_type": "code",
     "collapsed": false,
     "input": [
      "X = np.asarray(warped_pixels).copy()\n",
      "m, W, K = ica(X, algorithm=sequential_ica, fun=f_exp, n_components=25, whiten=True, max_iters=200, verbose=True)"
     ],
     "language": "python",
     "metadata": {},
     "outputs": []
    },
    {
     "cell_type": "code",
     "collapsed": false,
     "input": [
      "print 'Shape of W is:', W.shape\n",
      "print 'Shape of K is:', K.shape\n",
      "print 'Shape of m is:', m.shape"
     ],
     "language": "python",
     "metadata": {},
     "outputs": []
    },
    {
     "cell_type": "code",
     "collapsed": false,
     "input": [
      "img = warped_images[0].copy()\n",
      "\n",
      "WK = W.dot(K.T)\n",
      "\n",
      "img.from_vector(WK[0, :]).view()\n",
      "img.from_vector(WK[1, :]).view_new()\n",
      "img.from_vector(WK[2, :]).view_new()\n",
      "img.from_vector(WK[3, :]).view_new()\n",
      "img.from_vector(WK[4, :]).view_new()"
     ],
     "language": "python",
     "metadata": {},
     "outputs": []
    },
    {
     "cell_type": "code",
     "collapsed": false,
     "input": [
      "#img = warped_images[0].copy()\n",
      "\n",
      "#WK = np.linalg.pinv(W.dot(K.T)).T\n",
      "\n",
      "#img.from_vector(WK[0, :]).view()\n",
      "#img.from_vector(WK[1, :]).view_new()\n",
      "#img.from_vector(WK[2, :]).view_new()\n",
      "#img.from_vector(WK[3, :]).view_new()\n",
      "#img.from_vector(WK[4, :]).view_new()"
     ],
     "language": "python",
     "metadata": {},
     "outputs": []
    },
    {
     "cell_type": "code",
     "collapsed": false,
     "input": [
      "ind = 35\n",
      "\n",
      "img.from_vector(WK.T.dot((np.linalg.inv(WK.dot(WK.T))).dot(WK).dot(warped_images[ind].as_vector() - m)) + m).view()\n",
      "\n",
      "warped_images[ind].view_new()"
     ],
     "language": "python",
     "metadata": {},
     "outputs": []
    },
    {
     "cell_type": "code",
     "collapsed": false,
     "input": [
      "from sklearn.decomposition import FastICA as skl_FastICA\n",
      "\n",
      "skl_fica = skl_FastICA(n_components=5, fun='logcosh', max_iter=1000)\n",
      "skl_fica.fit(np.asarray(warped_pixels))"
     ],
     "language": "python",
     "metadata": {},
     "outputs": []
    },
    {
     "cell_type": "code",
     "collapsed": false,
     "input": [
      "img.from_vector(skl_fica.components_[0, :]).view()\n",
      "img.from_vector(skl_fica.components_[1, :]).view_new()\n",
      "img.from_vector(skl_fica.components_[2, :]).view_new()\n",
      "img.from_vector(skl_fica.components_[3, :]).view_new()\n",
      "img.from_vector(skl_fica.components_[4, :]).view_new()"
     ],
     "language": "python",
     "metadata": {},
     "outputs": []
    },
    {
     "cell_type": "code",
     "collapsed": false,
     "input": [
      "print 'Shape of W is:', W.shape\n",
      "print 'Shape of Z is:', Z.shape\n",
      "print 'Shape of m is:', m.shape\n",
      "print 'Shape of f is:', f.shape "
     ],
     "language": "python",
     "metadata": {},
     "outputs": []
    },
    {
     "cell_type": "code",
     "collapsed": false,
     "input": [],
     "language": "python",
     "metadata": {},
     "outputs": []
    }
   ],
   "metadata": {}
  }
 ]
}