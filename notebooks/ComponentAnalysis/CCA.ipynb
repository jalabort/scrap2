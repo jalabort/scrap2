{
 "cells": [
  {
   "cell_type": "code",
   "execution_count": 1,
   "metadata": {
    "collapsed": false
   },
   "outputs": [
    {
     "name": "stdout",
     "output_type": "stream",
     "text": [
      "Populating the interactive namespace from numpy and matplotlib\n"
     ]
    }
   ],
   "source": [
    "%matplotlib inline\n",
    "%pylab inline"
   ]
  },
  {
   "cell_type": "markdown",
   "metadata": {},
   "source": [
    "# Data"
   ]
  },
  {
   "cell_type": "code",
   "execution_count": 2,
   "metadata": {
    "collapsed": false
   },
   "outputs": [],
   "source": [
    "X = [[93, 74],\n",
    "     [94, 78],\n",
    "     [96, 80], \n",
    "     [101, 84],\n",
    "     [102, 85],\n",
    "     [103, 81],\n",
    "     [104, 83],\n",
    "     [106, 83],\n",
    "     [107, 82],\n",
    "     [112, 89],\n",
    "     [113, 88],\n",
    "     [114, 86],\n",
    "     [116, 90],\n",
    "     [117, 90],\n",
    "     [117, 91],\n",
    "     [119, 93],\n",
    "     [120, 89],\n",
    "     [120, 93],\n",
    "     [121, 95],\n",
    "     [123, 93],\n",
    "     [127, 96],\n",
    "     [128, 95],\n",
    "     [131, 95],\n",
    "     [135, 106]]\n",
    "     \n",
    "Y = [[98, 81],\n",
    "     [103, 84],\n",
    "     [103, 86],\n",
    "     [105, 86],\n",
    "     [109, 88],\n",
    "     [123, 92],\n",
    "     [123, 95],\n",
    "     [133, 99],\n",
    "     [133, 102],\n",
    "     [133, 102],\n",
    "     [134, 100],\n",
    "     [136, 102],\n",
    "     [137, 98],\n",
    "     [138, 99],\n",
    "     [141, 103],\n",
    "     [147, 108],\n",
    "     [149, 107],\n",
    "     [153, 107],\n",
    "     [155, 115],\n",
    "     [155, 117],\n",
    "     [158, 115],\n",
    "     [159, 118],\n",
    "     [162, 124],\n",
    "     [177, 132]]\n",
    "\n",
    "X = np.asarray(X)\n",
    "Y = np.asarray(Y)"
   ]
  },
  {
   "cell_type": "code",
   "execution_count": 3,
   "metadata": {
    "collapsed": false
   },
   "outputs": [
    {
     "name": "stdout",
     "output_type": "stream",
     "text": [
      "X shape: (24, 2)\n",
      "Y shape: (24, 2)\n"
     ]
    }
   ],
   "source": [
    "print 'X shape:', X.shape\n",
    "print 'Y shape:', Y.shape"
   ]
  },
  {
   "cell_type": "markdown",
   "metadata": {},
   "source": [
    "# Canonical Correlation Analysis"
   ]
  },
  {
   "cell_type": "code",
   "execution_count": 11,
   "metadata": {
    "collapsed": false
   },
   "outputs": [],
   "source": [
    "from __future__ import division\n",
    "\n",
    "def cca(X, Y, inplace=False, verbose=False):\n",
    "    \n",
    "    # compute means\n",
    "    print 'Computing means' if verbose else None\n",
    "    mx = np.mean(X, axis=0)\n",
    "    my = np.mean(Y, axis=0)\n",
    "    \n",
    "    # mean center views\n",
    "    print 'Centering views' if verbose else None \n",
    "    X -= mx\n",
    "    Y -= my\n",
    "    \n",
    "    # compute SVD of X\n",
    "    print 'Computing SVD of X' if verbose else None \n",
    "    Ux, Sx, Vx = np.linalg.svd(X, full_matrices=False)\n",
    "    \n",
    "    # compute SVD of Y\n",
    "    print 'Computing SVD of Y' if verbose else None \n",
    "    Uy, Sy, Vy = np.linalg.svd(Y, full_matrices=False)\n",
    "    \n",
    "    # compute cross-correlation in U-bases\n",
    "    print 'Computing cross-correlation Cxy' if verbose else None \n",
    "    Cxy = Ux.T.dot(Uy)\n",
    "    \n",
    "    # compute SVD of Cxy\n",
    "    print 'Computing SVD of Cxy' if verbose else None \n",
    "    Fx, C, Fy = np.linalg.svd(Cxy, full_matrices=False)\n",
    "    \n",
    "    print 'Computing CCA bases, Wx and Wy' if verbose else None \n",
    "    Wx = Vx.T.dot(1/Sx[..., None] * Fx) \n",
    "    Wy = Vy.T.dot(1/Sy[..., None] * Fy.T)\n",
    "    \n",
    "    return Wx, Wy, mx, my, C"
   ]
  },
  {
   "cell_type": "code",
   "execution_count": 12,
   "metadata": {
    "collapsed": false
   },
   "outputs": [
    {
     "name": "stdout",
     "output_type": "stream",
     "text": [
      "Computing means\n",
      "Centering views\n",
      "Computing SVD of X\n",
      "Computing SVD of Y\n",
      "Computing cross-correlation Cxy\n",
      "Computing SVD of Cxy\n",
      "Computing CCA bases, Wx and Wy\n"
     ]
    }
   ],
   "source": [
    "Wx, Wy, mx, my, C = cca(X, Y,inplace=False, verbose=True)"
   ]
  },
  {
   "cell_type": "code",
   "execution_count": 6,
   "metadata": {
    "collapsed": false
   },
   "outputs": [
    {
     "name": "stdout",
     "output_type": "stream",
     "text": [
      "(2, 2)\n",
      "(2, 2)\n",
      "(2,)\n",
      "(2,)\n"
     ]
    }
   ],
   "source": [
    "print Wx.shape\n",
    "print Wy.shape\n",
    "\n",
    "print mx.shape\n",
    "print my.shape"
   ]
  },
  {
   "cell_type": "code",
   "execution_count": 7,
   "metadata": {
    "collapsed": true
   },
   "outputs": [],
   "source": [
    "Zx = X.dot(Wx)\n",
    "Zy = Y.dot(Wy)"
   ]
  },
  {
   "cell_type": "code",
   "execution_count": 8,
   "metadata": {
    "collapsed": false
   },
   "outputs": [],
   "source": [
    "Z = np.hstack((Zx, Zy))"
   ]
  },
  {
   "cell_type": "code",
   "execution_count": 9,
   "metadata": {
    "collapsed": false
   },
   "outputs": [
    {
     "name": "stdout",
     "output_type": "stream",
     "text": [
      "(24, 4)\n"
     ]
    }
   ],
   "source": [
    "print Z.shape"
   ]
  },
  {
   "cell_type": "code",
   "execution_count": 10,
   "metadata": {
    "collapsed": false
   },
   "outputs": [
    {
     "name": "stdout",
     "output_type": "stream",
     "text": [
      "[[  1.00000000e+00   9.15933995e-16   9.77452923e-01   4.13558077e-15]\n",
      " [  9.15933995e-16   1.00000000e+00   8.32667268e-16   1.78899294e-01]\n",
      " [  9.77452923e-01   8.32667268e-16   1.00000000e+00   4.13558077e-15]\n",
      " [  4.13558077e-15   1.78899294e-01   4.13558077e-15   1.00000000e+00]]\n",
      "[[  1.00000000e+00   9.15933995e-16]\n",
      " [  9.15933995e-16   1.00000000e+00]]\n",
      "[[  1.00000000e+00   4.13558077e-15]\n",
      " [  4.13558077e-15   1.00000000e+00]]\n",
      "[[  9.77452923e-01   4.13558077e-15]\n",
      " [  8.32667268e-16   1.78899294e-01]]\n",
      "[[  9.77452923e-01   8.32667268e-16]\n",
      " [  4.13558077e-15   1.78899294e-01]]\n"
     ]
    }
   ],
   "source": [
    "print Z.T.dot(Z)\n",
    "print Zx.T.dot(Zx)\n",
    "print Zy.T.dot(Zy)\n",
    "print Zx.T.dot(Zy)\n",
    "print Zy.T.dot(Zx)"
   ]
  },
  {
   "cell_type": "code",
   "execution_count": 13,
   "metadata": {
    "collapsed": false
   },
   "outputs": [
    {
     "data": {
      "text/plain": [
       "array([ 0.97866164,  0.19605886])"
      ]
     },
     "execution_count": 13,
     "metadata": {},
     "output_type": "execute_result"
    }
   ],
   "source": [
    "C"
   ]
  }
 ],
 "metadata": {
  "kernelspec": {
   "display_name": "Python 2",
   "language": "python",
   "name": "python2"
  },
  "language_info": {
   "codemirror_mode": {
    "name": "ipython",
    "version": 2
   },
   "file_extension": ".py",
   "mimetype": "text/x-python",
   "name": "python",
   "nbconvert_exporter": "python",
   "pygments_lexer": "ipython2",
   "version": "2.7.10"
  }
 },
 "nbformat": 4,
 "nbformat_minor": 0
}
