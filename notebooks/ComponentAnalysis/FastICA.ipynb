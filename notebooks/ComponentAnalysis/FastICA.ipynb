{
 "metadata": {
  "name": "",
  "signature": "sha256:f91519957ca68d8e41a548fa350e0cd4900f1c43e202d61f4856e10025e0fd42"
 },
 "nbformat": 3,
 "nbformat_minor": 0,
 "worksheets": [
  {
   "cells": [
    {
     "cell_type": "code",
     "collapsed": false,
     "input": [
      "%matplotlib inline\n",
      "%pylab inline"
     ],
     "language": "python",
     "metadata": {},
     "outputs": []
    },
    {
     "cell_type": "heading",
     "level": 1,
     "metadata": {},
     "source": [
      "Fast Independent Component Analysis"
     ]
    },
    {
     "cell_type": "code",
     "collapsed": false,
     "input": [
      "from __future__ import division\n",
      "from menpo.math import pca\n",
      "\n",
      "def fast_ica(X, n_components=None, max_iters=None, eps=1e-10, verbose=False): \n",
      "    \n",
      "    X = X.T\n",
      "    \n",
      "    d, n = X.shape\n",
      "    t = 1 / n\n",
      "    \n",
      "    # centre and whiten\n",
      "    E, l, m = pca(X.T)\n",
      "    E = E.T\n",
      "    X = X - m[..., None]\n",
      "    X = (l**(-0.5) * E).dot(E.T.dot(X))\n",
      "    \n",
      "    W = np.random.randn(d, n_components)\n",
      "    E, l, _ = pca(W.T, centre=False)\n",
      "    E = E.T\n",
      "    W = (l**(-0.5) * E).dot(E.T.dot(W))\n",
      "    \n",
      "    g = lambda x: -np.e ** ((-x ** 2) / 2) \n",
      "    dg = lambda x: -x * g(x)\n",
      "    \n",
      "    e = inf \n",
      "    n_iters = 0\n",
      "    \n",
      "    while e > eps and n_iters != max_iters:\n",
      "        nW = t * g(W.T.dot(X)).dot(X.T) - t * sum(dg(W.T.dot(X)), axis=1).dot(W.T)\n",
      "        nW = nW.T\n",
      "        E, l, _ = pca(nW.T, centre=False)\n",
      "        E = E.T\n",
      "        nW = (l**(-0.5) * E).dot(E.T.dot(nW))\n",
      "        \n",
      "        err = np.mean(np.sum(W * nW, axis=0))\n",
      "        #err = np.linalg.norm(W - nW)\n",
      "        n_iters += 1\n",
      "        \n",
      "        W = nW\n",
      "        \n",
      "        if verbose:\n",
      "            print 'n_iters:', n_iters, '\\t',\n",
      "            print '||W - nW||:', np.round(err, decimals=4)\n",
      "\n",
      "    W = W.T\n",
      "\n",
      "    return m, W\n",
      "\n",
      "# def ppca(X, n_components=None, sigma2=0, max_iter=200, tol=1e-10, verbose=False): \n",
      "    \n",
      "#     n_samples, n_features = X.shape\n",
      "    \n",
      "#     if n_components is None:\n",
      "#         if n_samples <= n_features:\n",
      "#             n_components = n_samples - 1\n",
      "#         else:\n",
      "#             n_components = n_features - 1\n",
      "                \n",
      "#     mean_ = np.mean(X, axis=0)\n",
      "#     X -= mean_\n",
      "    \n",
      "#     I = np.eye(n_components)\n",
      "#     X2 = np.sum(np.sum(X**2, axis=1))\n",
      "#     t = n_samples * n_features\n",
      "    \n",
      "#     W = np.random.randn(n_components, n_features)\n",
      "    \n",
      "#     for i in xrange(max_iter):\n",
      "#         inv_M = np.linalg.inv(np.dot(W, W.T) + sigma2 * I)\n",
      "#         Z = inv_M.dot(np.dot(W, X.T))\n",
      "#         ZZ = sigma2 * inv_M + np.dot(Z, Z.T)\n",
      "        \n",
      "#         nW = np.linalg.solve(ZZ, np.dot(Z, X))\n",
      "#         sigma2 = ((X2 - \n",
      "#                    2 * np.sum(np.sum(Z.T.dot(nW) * X, axis=1)) +\n",
      "#                    np.trace(ZZ.dot(np.dot(nW, nW.T)))) \n",
      "#                   / t)\n",
      "        \n",
      "#         e = np.linalg.norm(W - nW)\n",
      "        \n",
      "#         if e < tol:\n",
      "#             break\n",
      "#         else:\n",
      "#             W = nW\n",
      "#             if verbose:\n",
      "#                 print 'it:', i, '\\t',\n",
      "#                 print 'norm:', np.round(e, decimals=4), '\\t',\n",
      "#                 print 'sigma2:', np.round(sigma2, decimals=4), '\\t'\n",
      "\n",
      "#     return mean_, W, Z, sigma2"
     ],
     "language": "python",
     "metadata": {},
     "outputs": []
    },
    {
     "cell_type": "code",
     "collapsed": false,
     "input": [
      "g = lambda x: -np.e ** ((-x ** 2) / 2) \n",
      "dg = lambda x: x * g(x)\n",
      "\n",
      "\n",
      "print dg(np.random.randn(100, 10)).shape"
     ],
     "language": "python",
     "metadata": {},
     "outputs": [
      {
       "output_type": "stream",
       "stream": "stdout",
       "text": [
        "(100, 10)\n"
       ]
      }
     ],
     "prompt_number": 184
    },
    {
     "cell_type": "heading",
     "level": 1,
     "metadata": {},
     "source": [
      "Test"
     ]
    },
    {
     "cell_type": "markdown",
     "metadata": {},
     "source": [
      "Build data matrix A:"
     ]
    },
    {
     "cell_type": "code",
     "collapsed": false,
     "input": [
      "n_a = 10\n",
      "d = 10000\n",
      "\n",
      "A = np.random.rand(n_a, d)\n",
      "\n",
      "B = np.random.rand(n_a, d)\n",
      "\n",
      "C = 200*A + 5000*B"
     ],
     "language": "python",
     "metadata": {},
     "outputs": []
    },
    {
     "cell_type": "code",
     "collapsed": false,
     "input": [
      "print 'Shape of A is:', A.shape"
     ],
     "language": "python",
     "metadata": {},
     "outputs": []
    },
    {
     "cell_type": "markdown",
     "metadata": {},
     "source": [
      "Compute PFA on A:"
     ]
    },
    {
     "cell_type": "code",
     "collapsed": false,
     "input": [
      "m, W = fast_ica(C, n_components=2, max_iters=10000, verbose=True)"
     ],
     "language": "python",
     "metadata": {},
     "outputs": []
    },
    {
     "cell_type": "code",
     "collapsed": false,
     "input": [
      "imshow(W.T.dot(W))"
     ],
     "language": "python",
     "metadata": {},
     "outputs": []
    },
    {
     "cell_type": "code",
     "collapsed": false,
     "input": [
      "%debug"
     ],
     "language": "python",
     "metadata": {},
     "outputs": []
    },
    {
     "cell_type": "code",
     "collapsed": false,
     "input": [
      "print 'Shape of W is:', W.shape\n",
      "print 'Shape of Z is:', Z.shape\n",
      "print 'Shape of m is:', m.shape\n",
      "print 'Shape of f is:', f.shape "
     ],
     "language": "python",
     "metadata": {},
     "outputs": []
    },
    {
     "cell_type": "code",
     "collapsed": false,
     "input": [],
     "language": "python",
     "metadata": {},
     "outputs": []
    }
   ],
   "metadata": {}
  }
 ]
}