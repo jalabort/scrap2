{
 "metadata": {
  "name": "",
  "signature": "sha256:0790eb55ef6a4414dccea33867b39075b70a55776f773fc2f5c42a478dc04182"
 },
 "nbformat": 3,
 "nbformat_minor": 0,
 "worksheets": [
  {
   "cells": [
    {
     "cell_type": "code",
     "collapsed": false,
     "input": [
      "%matplotlib inline\n",
      "%pylab inline"
     ],
     "language": "python",
     "metadata": {},
     "outputs": [
      {
       "output_type": "stream",
       "stream": "stdout",
       "text": [
        "Populating the interactive namespace from numpy and matplotlib\n"
       ]
      }
     ],
     "prompt_number": 1
    },
    {
     "cell_type": "heading",
     "level": 1,
     "metadata": {},
     "source": [
      "Probabilistic PCA"
     ]
    },
    {
     "cell_type": "code",
     "collapsed": false,
     "input": [
      "from __future__ import division\n",
      "\n",
      "# def ppca(X, n_components=None, sigma2=0, max_iters=None, eps=1e-10, verbose=False): \n",
      "    \n",
      "#     X = X.T\n",
      "    \n",
      "#     d, n = X.shape\n",
      "    \n",
      "#     if n_components is None:\n",
      "#         if n <= d:\n",
      "#             n_components = n - 1\n",
      "#         else:\n",
      "#             n_components = d - 1\n",
      "                \n",
      "#     m = np.mean(X, axis=1)\n",
      "#     X = X - m[..., None]\n",
      "    \n",
      "#     I = np.eye(n_components)\n",
      "#     X_norm = np.sum(X**2)\n",
      "#     t = 1 / (n * d)\n",
      "    \n",
      "#     W = np.random.rand(d, n_components)\n",
      "    \n",
      "#     e = inf \n",
      "#     n_iters = 0\n",
      "    \n",
      "#     while e > eps and n_iters != max_iters:\n",
      "#         inv_M = np.linalg.inv(np.dot(W.T, W) + sigma2 * I)\n",
      "#         Z = inv_M.dot(W.T.dot(X))\n",
      "#         ZZ = sigma2 * inv_M + np.dot(Z, Z.T)\n",
      "        \n",
      "#         nW = X.dot(Z.T).dot(np.linalg.inv(ZZ))\n",
      "#         sigma2 = t * (X_norm - \n",
      "#                       2 * np.sum(Z.T.dot(nW.T.dot(X))) +\n",
      "#                       np.trace(ZZ.dot(nW.T.dot(nW))))\n",
      "        \n",
      "#         err = np.linalg.norm(W - nW)\n",
      "#         n_iters += 1\n",
      "        \n",
      "#         W = nW\n",
      "        \n",
      "#         if verbose:\n",
      "#             print 'n_iters:', n_iters, '\\t',\n",
      "#             print '||W - nW||:', np.round(err, decimals=4), '\\t',\n",
      "#             print 'sigma2:', np.round(sigma2, decimals=4)\n",
      "\n",
      "#     W = W.T\n",
      "\n",
      "#     return m, W, Z, sigma2\n",
      "\n",
      "\n",
      "def ppca(X, n_components=None, sigma2=0, max_iters=None, eps=1e-10, verbose=False): \n",
      "    \n",
      "    n, d = X.shape\n",
      "    \n",
      "    if n_components is None:\n",
      "        if n <= d:\n",
      "            n_components = n - 1\n",
      "        else:\n",
      "            n_components = d - 1\n",
      "                \n",
      "    m = np.mean(X, axis=0)\n",
      "    X = X - m\n",
      "    \n",
      "    I = np.eye(n_components)\n",
      "    X_norm = np.sum(X**2)\n",
      "    t = 1 / (n * d)\n",
      "    \n",
      "    W = np.random.randn(n_components, d)\n",
      "    \n",
      "    err = inf \n",
      "    n_iters = 0\n",
      "    \n",
      "    while err > eps and n_iters != max_iters:\n",
      "        inv_M = np.linalg.inv(W.dot(W.T) + sigma2 * I)\n",
      "        Z = X.dot(W.T).dot(inv_M)\n",
      "        ZZ = sigma2 * inv_M + np.dot(Z.T, Z)\n",
      "        \n",
      "        nW = np.linalg.inv(ZZ).dot(Z.T.dot(X))\n",
      "        sigma2 = t * (X_norm - \n",
      "                      2 * np.sum(X.dot(nW.T).dot(Z.T)) +\n",
      "                      np.trace(ZZ.dot(nW.dot(nW.T)))) \n",
      "        \n",
      "        err = np.linalg.norm(W - nW)\n",
      "        n_iters += 1\n",
      "        \n",
      "        W = nW\n",
      "        \n",
      "        if verbose:\n",
      "            print 'n_iters:', n_iters, '\\t',\n",
      "            print '||W - nW||:', np.round(err, decimals=4), '\\t',\n",
      "            print 'sigma2:', np.round(sigma2, decimals=4)\n",
      "\n",
      "    return m, W, Z, sigma2"
     ],
     "language": "python",
     "metadata": {},
     "outputs": [],
     "prompt_number": 2
    },
    {
     "cell_type": "markdown",
     "metadata": {},
     "source": [
      "Faster versions (more memory intensive...):"
     ]
    },
    {
     "cell_type": "code",
     "collapsed": false,
     "input": [
      "from __future__ import division\n",
      "\n",
      "# def ppca2(X, n_components=None, sigma2=0, max_iters=None, eps=1e-10, verbose=False): \n",
      "    \n",
      "#     X = X.T\n",
      "    \n",
      "#     d, n = X.shape\n",
      "    \n",
      "#     if n_components is None:\n",
      "#         if n <= d:\n",
      "#             n_components = n - 1\n",
      "#         else:\n",
      "#             n_components = d - 1\n",
      "                \n",
      "#     m = np.mean(X, axis=1)\n",
      "#     X = X - m[..., None]\n",
      "    \n",
      "#     I = np.eye(n_components)\n",
      "#     X_norm = np.sum(X**2)\n",
      "#     t = 1 / (n * d)\n",
      "    \n",
      "#     W = np.random.rand(d, n_components)\n",
      "#     WW = W.T.dot(W)\n",
      "#     WX = W.T.dot(X)\n",
      "    \n",
      "#     e = inf \n",
      "#     n_iters = 0\n",
      "    \n",
      "#     while e > eps and n_iters != max_iters:\n",
      "#         inv_M = np.linalg.inv(WW + sigma2 * I)\n",
      "#         Z = inv_M.dot(WX)\n",
      "#         ZZ = sigma2 * inv_M + np.dot(Z, Z.T)\n",
      "        \n",
      "#         nW = X.dot(Z.T).dot(np.linalg.inv(ZZ))\n",
      "#         nWW = nW.T.dot(nW)\n",
      "#         nWX = nW.T.dot(X)\n",
      "#         sigma2 = t * (X_norm - \n",
      "#                       2 * np.sum(Z.T.dot(nWX)) +\n",
      "#                       np.trace(ZZ.dot(nWW)))\n",
      "        \n",
      "#         err = np.linalg.norm(W - nW)\n",
      "#         n_iters += 1\n",
      "        \n",
      "#         W = nW\n",
      "        \n",
      "#         if verbose:\n",
      "#             print 'n_iters:', n_iters, '\\t',\n",
      "#             print '||W - nW||:', np.round(err, decimals=4), '\\t',\n",
      "#             print 'sigma2:', np.round(sigma2, decimals=4)\n",
      "\n",
      "#     W = W.T\n",
      "#     WW = nW\n",
      "#     WX = nWX\n",
      "\n",
      "#     return m, W, Z, sigma2\n",
      "\n",
      "\n",
      "# def ppca(X, n_components=None, sigma2=0, max_iters=None, eps=1e-10, verbose=False): \n",
      "    \n",
      "#     n, d = X.shape\n",
      "    \n",
      "#     if n_components is None:\n",
      "#         if n <= d:\n",
      "#             n_components = n - 1\n",
      "#         else:\n",
      "#             n_components = d - 1\n",
      "                \n",
      "#     m = np.mean(X, axis=0)\n",
      "#     X = X - m\n",
      "    \n",
      "#     I = np.eye(n_components)\n",
      "#     X_norm = np.sum(X**2)\n",
      "#     t = 1 / (n * d)\n",
      "    \n",
      "#     W = np.random.randn(n_components, d)\n",
      "#     WW = W.dot(W.T)\n",
      "#     XW = X.dot(W.T)\n",
      "    \n",
      "#     e = inf \n",
      "#     n_iters = 0\n",
      "    \n",
      "#     while e > eps and n_iters != max_iters:\n",
      "#         inv_M = np.linalg.inv(WW + sigma2 * I)\n",
      "#         Z = XW.dot(inv_M)\n",
      "#         ZZ = sigma2 * inv_M + np.dot(Z.T, Z)\n",
      "        \n",
      "#         nW = np.linalg.inv(ZZ).dot(Z.T.dot(X))\n",
      "#         nWW = nW.dot(nW.T)\n",
      "#         nXW = X.dot(nW.T)\n",
      "#         sigma2 = t * (X_norm - \n",
      "#                       2 * np.sum(nXW.dot(Z.T)) +\n",
      "#                       np.trace(ZZ.dot(nWW))) \n",
      "        \n",
      "#         err = np.linalg.norm(W - nW)\n",
      "#         n_iters += 1\n",
      "        \n",
      "#         W = nW\n",
      "#         WW = nWW\n",
      "#         XW = nXW\n",
      "        \n",
      "#         if verbose:\n",
      "#             print 'n_iters:', n_iters, '\\t',\n",
      "#             print '||W - nW||:', np.round(err, decimals=4), '\\t',\n",
      "#             print 'sigma2:', np.round(sigma2, decimals=4)\n",
      "\n",
      "#     return m, W, Z, sigma2"
     ],
     "language": "python",
     "metadata": {},
     "outputs": [],
     "prompt_number": 3
    },
    {
     "cell_type": "heading",
     "level": 1,
     "metadata": {},
     "source": [
      "Test"
     ]
    },
    {
     "cell_type": "code",
     "collapsed": false,
     "input": [
      "from menpo.math import pca, eigenvalue_decomposition"
     ],
     "language": "python",
     "metadata": {},
     "outputs": [],
     "prompt_number": 4
    },
    {
     "cell_type": "markdown",
     "metadata": {},
     "source": [
      "Build data matrix A:"
     ]
    },
    {
     "cell_type": "code",
     "collapsed": false,
     "input": [
      "n_a = 100\n",
      "d = 1000\n",
      "\n",
      "A = np.random.randn(n_a, d)"
     ],
     "language": "python",
     "metadata": {},
     "outputs": [],
     "prompt_number": 5
    },
    {
     "cell_type": "code",
     "collapsed": false,
     "input": [
      "print 'Shape of A is:', A.shape"
     ],
     "language": "python",
     "metadata": {},
     "outputs": [
      {
       "output_type": "stream",
       "stream": "stdout",
       "text": [
        "Shape of A is: (100, 1000)\n"
       ]
      }
     ],
     "prompt_number": 6
    },
    {
     "cell_type": "markdown",
     "metadata": {},
     "source": [
      "Compute PCA on A:"
     ]
    },
    {
     "cell_type": "code",
     "collapsed": false,
     "input": [
      "d_U, d_l, d_m = pca(A)"
     ],
     "language": "python",
     "metadata": {},
     "outputs": [],
     "prompt_number": 7
    },
    {
     "cell_type": "code",
     "collapsed": false,
     "input": [
      "print 'Shape of d_U is:', d_U.shape\n",
      "print 'Shape of d_l is:', d_l.shape\n",
      "print 'Shape of d_m is:', d_m.shape"
     ],
     "language": "python",
     "metadata": {},
     "outputs": [
      {
       "output_type": "stream",
       "stream": "stdout",
       "text": [
        "Shape of d_U is: (99, 1000)\n",
        "Shape of d_l is: (99,)\n",
        "Shape of d_m is: (1000,)\n"
       ]
      }
     ],
     "prompt_number": 8
    },
    {
     "cell_type": "markdown",
     "metadata": {},
     "source": [
      "Compute PPCA on A:"
     ]
    },
    {
     "cell_type": "code",
     "collapsed": false,
     "input": [
      "p_m, p_W, p_Z, p_sigma2 = ppca(A, sigma2=1000, max_iters=10000, verbose=False)"
     ],
     "language": "python",
     "metadata": {},
     "outputs": [],
     "prompt_number": 9
    },
    {
     "cell_type": "code",
     "collapsed": false,
     "input": [
      "S = p_W.dot(p_W.T)\n",
      "S = (S + S.T) /2\n",
      "R, p_ll = eigenvalue_decomposition(S)\n",
      "p_l = (p_ll + p_sigma2) / (n_a - 1)\n",
      "\n",
      "p_U = 1 / np.sqrt(p_ll)[..., None] * R.T.dot(p_W)"
     ],
     "language": "python",
     "metadata": {},
     "outputs": [],
     "prompt_number": 10
    },
    {
     "cell_type": "code",
     "collapsed": false,
     "input": [
      "print 'Shape of p_U is:', p_U.shape\n",
      "print 'Shape of p_l is:', p_l.shape\n",
      "print 'Shape of p_m is:', p_m.shape"
     ],
     "language": "python",
     "metadata": {},
     "outputs": [
      {
       "output_type": "stream",
       "stream": "stdout",
       "text": [
        "Shape of p_U is: (99, 1000)\n",
        "Shape of p_l is: (99,)\n",
        "Shape of p_m is: (1000,)\n"
       ]
      }
     ],
     "prompt_number": 11
    },
    {
     "cell_type": "markdown",
     "metadata": {},
     "source": [
      "Check the equivalence of both:"
     ]
    },
    {
     "cell_type": "code",
     "collapsed": false,
     "input": [
      "print 'Are d_U and p_U equal?', np.allclose(np.abs(d_U[:99]), np.abs(p_U))\n",
      "print 'Are d_l and p_l equal?', np.allclose(d_l[:99], p_l)\n",
      "print 'Are d_m and p_m equal?', np.allclose(d_m, p_m)"
     ],
     "language": "python",
     "metadata": {},
     "outputs": [
      {
       "output_type": "stream",
       "stream": "stdout",
       "text": [
        "Are d_U and p_U equal? True\n",
        "Are d_l and p_l equal? True\n",
        "Are d_m and p_m equal? True\n"
       ]
      }
     ],
     "prompt_number": 12
    }
   ],
   "metadata": {}
  }
 ]
}