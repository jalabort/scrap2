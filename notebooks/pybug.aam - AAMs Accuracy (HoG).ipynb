{
 "metadata": {
  "name": ""
 },
 "nbformat": 3,
 "nbformat_minor": 0,
 "worksheets": [
  {
   "cells": [
    {
     "cell_type": "heading",
     "level": 1,
     "metadata": {},
     "source": [
      "Test pybug.aam.AAM fitting accuracy"
     ]
    },
    {
     "cell_type": "code",
     "collapsed": false,
     "input": [
      "import pybug.io as pio\n",
      "from pybug.landmark import labeller, ibug_68_trimesh\n",
      "\n",
      "training_images = []\n",
      "# load landmarked imarges\n",
      "for i in pio.import_images('/Users/joan/PhD/DataBases/lfpw/trainset/*.png',\n",
      "                     max_images=811):\n",
      "    i.crop_to_landmarks_proportion(0.2)\n",
      "    if i.n_channels == 3:\n",
      "        training_images.append(i.as_greyscale(mode='luminosity'))\n",
      "    else:\n",
      "        training_images.append(i)"
     ],
     "language": "python",
     "metadata": {},
     "outputs": []
    },
    {
     "cell_type": "code",
     "collapsed": false,
     "input": [
      "labeller(training_images, 'PTS', ibug_68_trimesh);"
     ],
     "language": "python",
     "metadata": {},
     "outputs": []
    },
    {
     "cell_type": "code",
     "collapsed": false,
     "input": [
      "%matplotlib inline\n",
      "#visualize the first image\n",
      "training_images[0].landmarks['PTS'].view_new()"
     ],
     "language": "python",
     "metadata": {},
     "outputs": []
    },
    {
     "cell_type": "code",
     "collapsed": false,
     "input": [
      "from pybug.aam.base import aam_builder\n",
      "from pybug.transform.piecewiseaffine import PiecewiseAffineTransform\n",
      "\n",
      "# set options\n",
      "build_options = {'group': 'PTS',  \n",
      "                 'trilist': training_images[0].landmarks['ibug_68_trimesh'].lms.trilist,\n",
      "                 'n_levels': 3,\n",
      "                 'downscale': 1.1,\n",
      "                 'features': ('hog', {'window_step_vertical':4, 'window_step_horizontal':4}),\n",
      "                 'max_shape_components': 25,\n",
      "                 'max_appearance_components': 250}\n",
      "# build aam\n",
      "aam = aam_builder(training_images, **build_options)"
     ],
     "language": "python",
     "metadata": {},
     "outputs": []
    },
    {
     "cell_type": "code",
     "collapsed": false,
     "input": [
      "import numpy as np\n",
      "\n",
      "aam.shape_model_list[0]._components = np.real(aam.shape_model_list[0]._components)\n",
      "aam.shape_model_list[1]._components = np.real(aam.shape_model_list[1]._components)\n",
      "aam.shape_model_list[2]._components = np.real(aam.shape_model_list[2]._components)\n",
      "aam.shape_model_list[0]._eigenvalues = np.real(aam.shape_model_list[0]._eigenvalues)\n",
      "aam.shape_model_list[1]._eigenvalues = np.real(aam.shape_model_list[1]._eigenvalues)\n",
      "aam.shape_model_list[2]._eigenvalues = np.real(aam.shape_model_list[2]._eigenvalues)\n",
      "\n",
      "# low resolution level\n",
      "%matplotlib qt\n",
      "aam.instance(level=0).view(channels=0) \n",
      "# middle resolution level\n",
      "#aam.instance(level=1).view_new()\n",
      "# highest resolution level\n",
      "aam.instance().view_new(channels=0)"
     ],
     "language": "python",
     "metadata": {},
     "outputs": []
    },
    {
     "cell_type": "code",
     "collapsed": false,
     "input": [
      "import pybug.io as pio\n",
      "from pybug.landmark import labeller, ibug_68_points, ibug_68_trimesh\n",
      "\n",
      "test_images = []\n",
      "# load landmarked imarges\n",
      "for i in pio.import_images('/vol/atlas/databases/lfpw/testset/*.png',\n",
      "                     max_images=224):\n",
      "    i.crop_to_landmarks_proportion(0.2)\n",
      "    if i.n_channels == 3:\n",
      "        test_images.append(i.as_greyscale(mode='luminosity'))\n",
      "    else:\n",
      "        test_images.append(i)"
     ],
     "language": "python",
     "metadata": {},
     "outputs": []
    },
    {
     "cell_type": "code",
     "collapsed": false,
     "input": [
      "from pybug.lucaskanade.appearance import AlternatingInverseCompositional\n",
      "from pybug.lucaskanade.residual import LSIntensity\n",
      "from pybug.transform.modeldriven import OrthoMDTransform\n",
      "from pybug.transform.affine import SimilarityTransform\n",
      "\n",
      "# set fitting options. As before we favour \n",
      "# clarity by explicitely stating all possible\n",
      "# options\n",
      "fitting_setting_options = \\\n",
      "    {'lk_algorithm': AlternatingInverseCompositional,\n",
      "     'residual': (LSIntensity,),\n",
      "     'transform_cls': (OrthoMDTransform, SimilarityTransform),\n",
      "     'n_shape': [3, 6, 15], \n",
      "     'n_appearance': [250, 250, 250]}\n",
      "\n",
      "# initialize Lucas-Kanade aam fitting\n",
      "aam_lk_fitter = AAMLKFitter(aam, **fitting_setting_options)"
     ],
     "language": "python",
     "metadata": {},
     "outputs": []
    },
    {
     "cell_type": "code",
     "collapsed": false,
     "input": [
      "fitting_options = {'group': 'PTS',\n",
      "                   'label': 'all',\n",
      "                   'runs': 1, \n",
      "                   'noise_std': 0.04,\n",
      "                   'max_iters': 20,\n",
      "                   'rotation': False,\n",
      "                   'verbose': True, \n",
      "                   'view': True}\n",
      "\n",
      "# fit test images\n",
      "fitting_list = aam_lk_fitter.fit_landmarked_image_list(test_images, **fitting_options)"
     ],
     "language": "python",
     "metadata": {},
     "outputs": []
    },
    {
     "cell_type": "code",
     "collapsed": false,
     "input": [
      "%matplotlib wx\n",
      "fitting_list.plot_error_dist(color='r', marker='o')"
     ],
     "language": "python",
     "metadata": {},
     "outputs": []
    },
    {
     "cell_type": "code",
     "collapsed": false,
     "input": [
      "%matplotlib inline\n",
      "fitting_list.plot_cumulative_error_dist(color='r', marker='o')"
     ],
     "language": "python",
     "metadata": {},
     "outputs": []
    },
    {
     "cell_type": "code",
     "collapsed": false,
     "input": [
      "%matplotlib wx\n",
      "aam_fitting = fitting_list[127]\n",
      "aam_fitting[0].view_warped_images()"
     ],
     "language": "python",
     "metadata": {},
     "outputs": []
    },
    {
     "cell_type": "code",
     "collapsed": false,
     "input": [
      "%matplotlib wx\n",
      "aam_fitting[0].view_final_fitting()"
     ],
     "language": "python",
     "metadata": {},
     "outputs": []
    },
    {
     "cell_type": "code",
     "collapsed": false,
     "input": [
      "%load_ext autoreload\n",
      "%autoreload 2"
     ],
     "language": "python",
     "metadata": {},
     "outputs": []
    },
    {
     "cell_type": "code",
     "collapsed": false,
     "input": [
      "breakingbad = pio.import_builtin_asset('breakingbad.jpg')\n",
      "breakingbad = breakingbad.as_greyscale(mode='luminosity')\n",
      "%matplotlib inline\n",
      "breakingbad.crop_to_landmarks_proportion(0.2, group='PTS')\n",
      "breakingbad.landmarks['PTS'].view()"
     ],
     "language": "python",
     "metadata": {},
     "outputs": []
    },
    {
     "cell_type": "code",
     "collapsed": false,
     "input": [
      "# fit test images\n",
      "fitting_list = aam.lk_fit_landmarked_image(breakingbad, **fitting_options)"
     ],
     "language": "python",
     "metadata": {},
     "outputs": []
    },
    {
     "cell_type": "code",
     "collapsed": false,
     "input": [
      "%matplotlib wx\n",
      "aam_fitting = fitting_list[0]\n",
      "aam_fitting.view_final_fitting()"
     ],
     "language": "python",
     "metadata": {},
     "outputs": []
    },
    {
     "cell_type": "code",
     "collapsed": false,
     "input": [
      "aam_fitting.view_warped_images()"
     ],
     "language": "python",
     "metadata": {},
     "outputs": []
    },
    {
     "cell_type": "code",
     "collapsed": false,
     "input": [
      "%matplotlib wx\n",
      "aam_fitting.view_final_fitting()"
     ],
     "language": "python",
     "metadata": {},
     "outputs": []
    },
    {
     "cell_type": "code",
     "collapsed": false,
     "input": [],
     "language": "python",
     "metadata": {},
     "outputs": []
    }
   ],
   "metadata": {}
  }
 ]
}