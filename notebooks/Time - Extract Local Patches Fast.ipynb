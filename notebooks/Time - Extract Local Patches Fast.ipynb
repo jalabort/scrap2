{
 "metadata": {
  "name": "",
  "signature": "sha256:531a1615f30209b4612ce3f9ebaf944373bd780f52cba099c00a0333c4b6f0ea"
 },
 "nbformat": 3,
 "nbformat_minor": 0,
 "worksheets": [
  {
   "cells": [
    {
     "cell_type": "code",
     "collapsed": false,
     "input": [
      "%matplotlib inline\n",
      "%pylab inline\n",
      "import numpy as np\n",
      "from menpo.io import import_builtin_asset\n",
      "\n",
      "img = import_builtin_asset('breakingbad.jpg')"
     ],
     "language": "python",
     "metadata": {},
     "outputs": []
    },
    {
     "cell_type": "code",
     "collapsed": false,
     "input": [
      "img.view()"
     ],
     "language": "python",
     "metadata": {},
     "outputs": []
    },
    {
     "cell_type": "code",
     "collapsed": false,
     "input": [
      "def extract_patches(image, centres, patch_shape, sample_offsets=None, out=None):\n",
      "    r\"\"\"\n",
      "    Extract square patches from an image about centres.\n",
      "\n",
      "    Parameters\n",
      "    ----------\n",
      "    image : :map:`Image`\n",
      "        The image to extract patches from\n",
      "\n",
      "    centres : :map:`PointCloud`\n",
      "        The centres around which the patches should be extracted\n",
      "\n",
      "    patch_shape : `tuple` of `ints`\n",
      "        The size of the patch in each dimension\n",
      "\n",
      "    out : `ndarray` of shape: ``n_centres, + patch_shape + n_channels,``,\n",
      "    optional\n",
      "        The output array to be assigned to. If `None`, a new numpy array\n",
      "        will be created.\n",
      "\n",
      "    Returns\n",
      "    -------\n",
      "    patches : `ndarray` of shape: ``n_centres, + patch_shape + n_channels,``\n",
      "        The patches as a single numpy array.\n",
      "    \"\"\"\n",
      "    if sample_offsets is None:\n",
      "        sample_offsets = np.array([[0, 0]])\n",
      "\n",
      "    n_centres = centres.n_points\n",
      "    n_sample_offsets = sample_offsets.shape[0]\n",
      "    n_augmented_centres = n_centres * n_sample_offsets\n",
      "\n",
      "    if out is not None:\n",
      "        patches = out\n",
      "    else:\n",
      "        patches = np.empty(\n",
      "            (n_augmented_centres,) + patch_shape + (image.n_channels,))\n",
      "\n",
      "    # 0 out the patches array\n",
      "    patches[...] = 0\n",
      "    image_size = np.array(image.shape, dtype=np.int)\n",
      "    patch_shape = np.array(patch_shape, dtype=np.int)\n",
      "\n",
      "    # augment centers with sample offsets\n",
      "    centres = np.require(\n",
      "        np.reshape(centres.points[..., None, ...] +\n",
      "                   sample_offsets, [n_augmented_centres, -1]), dtype=np.int)\n",
      "    half_patch_shape = np.require(np.floor(patch_shape / 2), dtype=np.int)\n",
      "\n",
      "    # deal with odd patch shapes\n",
      "    # - add_to_patch[axis] = 0 if patch_shape[axis] is odd\n",
      "    # - add_to_patch[axis] = 1 if patch_shape[axis] is even\n",
      "    add_to_patch = np.mod(patch_shape, 2)\n",
      "\n",
      "    # 1. compute the extents\n",
      "    c_min = centres - half_patch_shape\n",
      "    c_max = centres + half_patch_shape + add_to_patch\n",
      "    out_min_min = c_min < 0\n",
      "    out_min_max = c_min > image_size\n",
      "    out_max_min = c_max < 0\n",
      "    out_max_max = c_max > image_size\n",
      "\n",
      "    # 2. build the extraction slices\n",
      "    ext_s_min = c_min.copy()\n",
      "    ext_s_max = c_max.copy()\n",
      "    # clamp the min to 0\n",
      "    ext_s_min[out_min_min] = 0\n",
      "    ext_s_max[out_max_min] = 0\n",
      "    # clamp the max to image bounds across each dimension\n",
      "    for i in xrange(image.n_dims):\n",
      "        ext_s_max[out_max_max[:, i], i] = image_size[i] - 1\n",
      "        ext_s_min[out_min_max[:, i], i] = image_size[i] - 1\n",
      "\n",
      "    # 3. build the insertion slices\n",
      "    ins_s_min = ext_s_min - c_min\n",
      "    ins_s_max = np.maximum(ext_s_max - c_max + patch_shape, (0, 0))\n",
      "\n",
      "    for i, (e_a, e_b, i_a, i_b) in enumerate(zip(ext_s_min, ext_s_max,\n",
      "                                                 ins_s_min, ins_s_max)):\n",
      "        # build a list of insertion slices and extraction slices\n",
      "        i_slices = [slice(a, b) for a, b in zip(i_a, i_b)]\n",
      "        e_slices = [slice(a, b) for a, b in zip(e_a, e_b)]\n",
      "        # get a view onto the patch we are on\n",
      "        patch = patches[i, ...]\n",
      "        # apply the slices to map\n",
      "        patch[i_slices] = image.pixels[e_slices]\n",
      "\n",
      "    return np.reshape(patches, [n_centres, n_sample_offsets, patch_shape[0],\n",
      "                                patch_shape[1], image.n_channels])"
     ],
     "language": "python",
     "metadata": {},
     "outputs": []
    },
    {
     "cell_type": "code",
     "collapsed": false,
     "input": [
      "%timeit patches = extract_patches(img, img.landmarks['PTS'].lms, (24, 24), sample_offsets=None)"
     ],
     "language": "python",
     "metadata": {},
     "outputs": []
    },
    {
     "cell_type": "code",
     "collapsed": false,
     "input": [
      "sample_offsets = np.meshgrid(range(-2, 2, 2), range(-2, 2, 2)) \n",
      "sample_offsets = np.asarray([sample_offsets[0].flatten(), sample_offsets[1].flatten()]).T "
     ],
     "language": "python",
     "metadata": {},
     "outputs": []
    },
    {
     "cell_type": "code",
     "collapsed": false,
     "input": [
      "%timeit patches = extract_patches(img, img.landmarks['PTS'].lms, (24, 24), sample_offsets=sample_offsets)"
     ],
     "language": "python",
     "metadata": {},
     "outputs": []
    },
    {
     "cell_type": "code",
     "collapsed": false,
     "input": [
      "%load_ext cythonmagic"
     ],
     "language": "python",
     "metadata": {},
     "outputs": []
    },
    {
     "cell_type": "code",
     "collapsed": false,
     "input": [
      "%%cython\n",
      "\n",
      "import numpy as np\n",
      "cimport numpy as np\n",
      "cimport cython\n",
      "\n",
      "cpdef extract_patches_cython(image, np.ndarray[np.float64_t, ndim=2] centres, np.ndarray[long, ndim=1] patch_shape, sample_offsets=None, out=None):\n",
      "    r\"\"\"\n",
      "    Extract square patches from an image about centres.\n",
      "\n",
      "    Parameters\n",
      "    ----------\n",
      "    image : :map:`Image`\n",
      "        The image to extract patches from\n",
      "\n",
      "    centres : :map:`PointCloud`\n",
      "        The centres around which the patches should be extracted\n",
      "\n",
      "    patch_shape : `tuple` of `ints`\n",
      "        The size of the patch in each dimension\n",
      "\n",
      "    out : `ndarray` of shape: ``n_centres, + patch_shape + n_channels,``,\n",
      "    optional\n",
      "        The output array to be assigned to. If `None`, a new numpy array\n",
      "        will be created.\n",
      "\n",
      "    Returns\n",
      "    -------\n",
      "    patches : `ndarray` of shape: ``n_centres, + patch_shape + n_channels,``\n",
      "        The patches as a single numpy array.\n",
      "    \"\"\"\n",
      "    cdef np.ndarray[np.int, ndim=2] offsets\n",
      "    \n",
      "    if sample_offsets is None:\n",
      "        offsets = np.array([[0, 0]])\n",
      "    else:\n",
      "        offsets = sample_offsets\n",
      "\n",
      "    cdef np.ndarray[int, ndim=2] n_centres = centres.shape[0]\n",
      "    cdef int n_offsets = offsets.shape[0]\n",
      "    cdef int n_augmented_centres = n_centres * n_offsets\n",
      "\n",
      "    cdef np.ndarray[np.float64_t, ndim=3] patches\n",
      "    \n",
      "    if out is not None:\n",
      "        patches = out\n",
      "    else:\n",
      "        patches = np.empty(\n",
      "            (n_augmented_centres,) + patch_shape + (image.n_channels,))\n",
      "\n",
      "    # 0 out the patches array\n",
      "    patches[...] = 0\n",
      "    cdef np.ndarray[np.int, ndim=2] image_shape = np.array(image.shape, dtype=np.int)\n",
      "    #patch_shape = np.array(patch_shape, dtype=np.int)\n",
      "\n",
      "    # augment centers with sample offsets\n",
      "    centres2 = np.require(\n",
      "        np.reshape(centres[..., None, ...] +\n",
      "                   sample_offsets, [n_augmented_centres, -1]), dtype=np.int)\n",
      "    cdef np.ndarray[np.int, ndim=2] half_patch_shape = np.require(np.floor(patch_shape / 2), \n",
      "                                                                  dtype=np.int)\n",
      "\n",
      "    # deal with odd patch shapes\n",
      "    # - add_to_patch[axis] = 0 if patch_shape[axis] is odd\n",
      "    # - add_to_patch[axis] = 1 if patch_shape[axis] is even\n",
      "    cdef np.ndarray[np.int, ndim=2] add_to_patch = np.mod(patch_shape, 2)\n",
      "\n",
      "    # 1. compute the extents\n",
      "    cdef np.ndarray[np.int, ndim=2] c_min = centres2 - half_patch_shape\n",
      "    cdef np.ndarray[np.int, ndim=2] c_max = centres2 + half_patch_shape + add_to_patch\n",
      "    cdef np.ndarray[np.int, ndim=2] out_min_min = c_min < 0\n",
      "    cdef np.ndarray[np.int, ndim=2] out_min_max = c_min > image_shape\n",
      "    cdef np.ndarray[np.int, ndim=2] out_max_min = c_max < 0\n",
      "    cdef np.ndarray[np.int, ndim=2] out_max_max = c_max > image_shape\n",
      "\n",
      "    # 2. build the extraction slices\n",
      "    cdef np.ndarray[np.int, ndim=2]ext_s_min = c_min.copy()\n",
      "    cdef np.ndarray[np.int, ndim=2] ext_s_max = c_max.copy()\n",
      "    # clamp the min to 0\n",
      "    ext_s_min[out_min_min] = 0\n",
      "    ext_s_max[out_max_min] = 0\n",
      "    # clamp the max to image bounds across each dimension\n",
      "    for i in xrange(image.n_dims):\n",
      "        ext_s_max[out_max_max[:, i], i] = image_shape[i] - 1\n",
      "        ext_s_min[out_min_max[:, i], i] = image_shape[i] - 1\n",
      "\n",
      "    # 3. build the insertion slices\n",
      "    cdef np.ndarray[int, ndim=2] ins_s_min = ext_s_min - c_min\n",
      "    cdef np.ndarray[int, ndim=2] ins_s_max = np.maximum(ext_s_max - c_max + patch_shape, (0, 0))\n",
      "    \n",
      "    cdef np.ndarray[int, ndim=2] i_slices\n",
      "    cdef np.ndarray[int, ndim=2] e_slices\n",
      "    cdef np.ndarray[np.float64_t, ndim=2] patch\n",
      "\n",
      "    for i, (e_a, e_b, i_a, i_b) in enumerate(zip(ext_s_min, ext_s_max,\n",
      "                                                 ins_s_min, ins_s_max)):\n",
      "        # build a list of insertion slices and extraction slices\n",
      "        i_slices = [slice(a, b) for a, b in zip(i_a, i_b)]\n",
      "        e_slices = [slice(a, b) for a, b in zip(e_a, e_b)]\n",
      "        # get a view onto the patch we are on\n",
      "        patch = patches[i, ...]\n",
      "        # apply the slices to map\n",
      "        patch[i_slices] = image.pixels[e_slices]\n",
      "\n",
      "    return np.reshape(patches, [n_centres, n_offsets, patch_shape[0],\n",
      "                                patch_shape[1], image.n_channels])"
     ],
     "language": "python",
     "metadata": {},
     "outputs": []
    },
    {
     "cell_type": "code",
     "collapsed": false,
     "input": [
      "patches = extract_patches_cython(img, img.landmarks['PTS'].lms.points, np.array((24, 24), dtype=np.int), sample_offsets=sample_offsets)"
     ],
     "language": "python",
     "metadata": {},
     "outputs": []
    },
    {
     "cell_type": "code",
     "collapsed": false,
     "input": [
      "np.array((24, 24), dtype=np.int).shape"
     ],
     "language": "python",
     "metadata": {},
     "outputs": []
    },
    {
     "cell_type": "code",
     "collapsed": false,
     "input": [],
     "language": "python",
     "metadata": {},
     "outputs": []
    },
    {
     "cell_type": "code",
     "collapsed": false,
     "input": [],
     "language": "python",
     "metadata": {},
     "outputs": []
    },
    {
     "cell_type": "code",
     "collapsed": false,
     "input": [],
     "language": "python",
     "metadata": {},
     "outputs": []
    },
    {
     "cell_type": "code",
     "collapsed": false,
     "input": [
      "img.view()"
     ],
     "language": "python",
     "metadata": {},
     "outputs": []
    },
    {
     "cell_type": "code",
     "collapsed": false,
     "input": [
      "%timeit img.features.hog().view(channels=0)"
     ],
     "language": "python",
     "metadata": {},
     "outputs": []
    },
    {
     "cell_type": "code",
     "collapsed": false,
     "input": [],
     "language": "python",
     "metadata": {},
     "outputs": []
    },
    {
     "cell_type": "code",
     "collapsed": false,
     "input": [],
     "language": "python",
     "metadata": {},
     "outputs": []
    },
    {
     "cell_type": "code",
     "collapsed": false,
     "input": [],
     "language": "python",
     "metadata": {},
     "outputs": []
    },
    {
     "cell_type": "code",
     "collapsed": false,
     "input": [],
     "language": "python",
     "metadata": {},
     "outputs": []
    },
    {
     "cell_type": "code",
     "collapsed": false,
     "input": [
      "from menpo.fitmultilevel.functions import extract_local_patches_fast"
     ],
     "language": "python",
     "metadata": {},
     "outputs": []
    },
    {
     "cell_type": "code",
     "collapsed": false,
     "input": [
      "from menpo.io import import_builtin_asset\n",
      "\n",
      "img = import_builtin_asset('breakingbad.jpg')"
     ],
     "language": "python",
     "metadata": {},
     "outputs": []
    },
    {
     "cell_type": "code",
     "collapsed": false,
     "input": [
      "import numpy as np\n",
      "\n",
      "sample_offsets = np.array([[0, 0]])"
     ],
     "language": "python",
     "metadata": {},
     "outputs": []
    },
    {
     "cell_type": "code",
     "collapsed": false,
     "input": [
      "img.pixels = np.require(img.pixels, dtype=np.float32)"
     ],
     "language": "python",
     "metadata": {},
     "outputs": []
    },
    {
     "cell_type": "code",
     "collapsed": false,
     "input": [
      "%timeit patches = extract_local_patches_fast2(img, img.landmarks['PTS'].lms, (16, 16), sample_offsets=sample_offsets)"
     ],
     "language": "python",
     "metadata": {},
     "outputs": []
    },
    {
     "cell_type": "code",
     "collapsed": false,
     "input": [
      "%timeit patches = extract_local_patches_fast(img, img.landmarks['PTS'].lms, (16, 16))"
     ],
     "language": "python",
     "metadata": {},
     "outputs": []
    },
    {
     "cell_type": "code",
     "collapsed": false,
     "input": [
      "sample_offsets = np.meshgrid(range(-8, 8, 4), range(-8, 8, 4)) \n",
      "sample_offsets = np.asarray([sample_offsets[0].flatten(), sample_offsets[1].flatten()]).T "
     ],
     "language": "python",
     "metadata": {},
     "outputs": []
    },
    {
     "cell_type": "code",
     "collapsed": false,
     "input": [
      "%timeit patches = extract_local_patches_fast2(img, img.landmarks['PTS'].lms, (16, 16), sample_offsets=sample_offsets)"
     ],
     "language": "python",
     "metadata": {},
     "outputs": []
    },
    {
     "cell_type": "code",
     "collapsed": false,
     "input": [
      "patches = extract_local_patches_fast2(img, img.landmarks['PTS'].lms, (16, 16), sample_offsets=sample_offsets)"
     ],
     "language": "python",
     "metadata": {},
     "outputs": []
    },
    {
     "cell_type": "code",
     "collapsed": false,
     "input": [
      "import line_profiler\n",
      "import IPython\n",
      "ip = IPython.get_ipython()\n",
      "ip.define_magic('lprun', line_profiler.magic_lprun)"
     ],
     "language": "python",
     "metadata": {},
     "outputs": []
    },
    {
     "cell_type": "code",
     "collapsed": false,
     "input": [
      "%lprun -f extract_local_patches_fast2 extract_local_patches_fast2(img, img.landmarks['PTS'].lms, (16, 16), sample_offsets=sample_offsets)"
     ],
     "language": "python",
     "metadata": {},
     "outputs": []
    },
    {
     "cell_type": "code",
     "collapsed": false,
     "input": [],
     "language": "python",
     "metadata": {},
     "outputs": []
    }
   ],
   "metadata": {}
  }
 ]
}