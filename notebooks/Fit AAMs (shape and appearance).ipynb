{
 "metadata": {
  "name": ""
 },
 "nbformat": 3,
 "nbformat_minor": 0,
 "worksheets": [
  {
   "cells": [
    {
     "cell_type": "markdown",
     "metadata": {},
     "source": [
      "# AAMs for Image Alignment - shape and appearance\n",
      "\n",
      "### 1. Load the data\n",
      "\n",
      "Use the **autoimporter** to automatically load the *annotated* test images of the *Labelled Faces Parts in the Wild (LFPW)* dataset:"
     ]
    },
    {
     "cell_type": "code",
     "collapsed": false,
     "input": [
      "from pybug.io import auto_import\n",
      "from pybug.landmark.labels import (labeller, ibug_68_points, \n",
      "                                    ibug_68_contour, ibug_68_trimesh)\n",
      "from pybug.shape import PointCloud\n",
      "\n",
      "# load the training images of the LFPW database as landmarked images using the autoimporter\n",
      "images = auto_import('/vol/atlas/databases/lfpw/testset/' + '*.png')\n",
      "\n",
      "# label the landmarks using the ibug's \"standard\" 68 points mark-up\n",
      "labeller(images, 'PTS', ibug_68_points)\n",
      "labeller(images, 'PTS', ibug_68_contour)\n",
      "labeller(images, 'PTS', ibug_68_trimesh)\n",
      "\n",
      "# Extract shape data. -1 because the annotation are 1 based\n",
      "shapes = [img.landmarks['PTS'].lms for img in images]"
     ],
     "language": "python",
     "metadata": {},
     "outputs": [
      {
       "output_type": "stream",
       "stream": "stdout",
       "text": [
        "Found 224 files. (0/224) are importable\n",
        "\n"
       ]
      },
      {
       "output_type": "stream",
       "stream": "stdout",
       "text": [
        "Found 224 files. (224/224) are importable\n",
        "\r",
        "Creating importer for <pybug.io.image.PILImporter object at 0x4eb4050> (1 of 224)"
       ]
      },
      {
       "output_type": "stream",
       "stream": "stdout",
       "text": [
        "\r",
        "Creating importer for <pybug.io.image.PILImporter object at 0x4eb40d0> (2 of 224)"
       ]
      },
      {
       "output_type": "stream",
       "stream": "stdout",
       "text": [
        "\r",
        "Creating importer for <pybug.io.image.PILImporter object at 0x4eb4110> (3 of 224)"
       ]
      },
      {
       "output_type": "stream",
       "stream": "stdout",
       "text": [
        "\r",
        "Creating importer for <pybug.io.image.PILImporter object at 0x4eb4150> (4 of 224)"
       ]
      },
      {
       "output_type": "stream",
       "stream": "stdout",
       "text": [
        "\r",
        "Creating importer for <pybug.io.image.PILImporter object at 0x4eb4190> (5 of 224)"
       ]
      },
      {
       "output_type": "stream",
       "stream": "stdout",
       "text": [
        "\r",
        "Creating importer for <pybug.io.image.PILImporter object at 0x4eb41d0> (6 of 224)"
       ]
      },
      {
       "output_type": "stream",
       "stream": "stdout",
       "text": [
        "\r",
        "Creating importer for <pybug.io.image.PILImporter object at 0x4eb4210> (7 of 224)"
       ]
      },
      {
       "output_type": "stream",
       "stream": "stdout",
       "text": [
        "\r",
        "Creating importer for <pybug.io.image.PILImporter object at 0x4eb4250> (8 of 224)"
       ]
      },
      {
       "output_type": "stream",
       "stream": "stdout",
       "text": [
        "\r",
        "Creating importer for <pybug.io.image.PILImporter object at 0x4eb4290> (9 of 224)"
       ]
      },
      {
       "output_type": "stream",
       "stream": "stdout",
       "text": [
        "\r",
        "Creating importer for <pybug.io.image.PILImporter object at 0x4eb42d0> (10 of 224)"
       ]
      },
      {
       "output_type": "stream",
       "stream": "stdout",
       "text": [
        "\r",
        "Creating importer for <pybug.io.image.PILImporter object at 0x4eb4310> (11 of 224)"
       ]
      },
      {
       "output_type": "stream",
       "stream": "stdout",
       "text": [
        "\r",
        "Creating importer for <pybug.io.image.PILImporter object at 0x4eb4350> (12 of 224)"
       ]
      },
      {
       "output_type": "stream",
       "stream": "stdout",
       "text": [
        "\r",
        "Creating importer for <pybug.io.image.PILImporter object at 0x4eb4390> (13 of 224)"
       ]
      },
      {
       "output_type": "stream",
       "stream": "stdout",
       "text": [
        "\r",
        "Creating importer for <pybug.io.image.PILImporter object at 0x4eb43d0> (14 of 224)"
       ]
      },
      {
       "output_type": "stream",
       "stream": "stdout",
       "text": [
        "\r",
        "Creating importer for <pybug.io.image.PILImporter object at 0x4eb4410> (15 of 224)"
       ]
      },
      {
       "output_type": "stream",
       "stream": "stdout",
       "text": [
        "\r",
        "Creating importer for <pybug.io.image.PILImporter object at 0x4eb4450> (16 of 224)"
       ]
      },
      {
       "output_type": "stream",
       "stream": "stdout",
       "text": [
        "\r",
        "Creating importer for <pybug.io.image.PILImporter object at 0x4eb4490> (17 of 224)"
       ]
      },
      {
       "output_type": "stream",
       "stream": "stdout",
       "text": [
        "\r",
        "Creating importer for <pybug.io.image.PILImporter object at 0x4eb44d0> (18 of 224)"
       ]
      },
      {
       "output_type": "stream",
       "stream": "stdout",
       "text": [
        "\r",
        "Creating importer for <pybug.io.image.PILImporter object at 0x4eb4510> (19 of 224)"
       ]
      },
      {
       "output_type": "stream",
       "stream": "stdout",
       "text": [
        "\r",
        "Creating importer for <pybug.io.image.PILImporter object at 0x4eb4550> (20 of 224)"
       ]
      },
      {
       "output_type": "stream",
       "stream": "stdout",
       "text": [
        "\r",
        "Creating importer for <pybug.io.image.PILImporter object at 0x4eb4590> (21 of 224)"
       ]
      },
      {
       "output_type": "stream",
       "stream": "stdout",
       "text": [
        "\r",
        "Creating importer for <pybug.io.image.PILImporter object at 0x4eb45d0> (22 of 224)"
       ]
      },
      {
       "output_type": "stream",
       "stream": "stdout",
       "text": [
        "\r",
        "Creating importer for <pybug.io.image.PILImporter object at 0x4eb4610> (23 of 224)"
       ]
      },
      {
       "output_type": "stream",
       "stream": "stdout",
       "text": [
        "\r",
        "Creating importer for <pybug.io.image.PILImporter object at 0x4eb4650> (24 of 224)"
       ]
      },
      {
       "output_type": "stream",
       "stream": "stdout",
       "text": [
        "\r",
        "Creating importer for <pybug.io.image.PILImporter object at 0x4eb4690> (25 of 224)"
       ]
      },
      {
       "output_type": "stream",
       "stream": "stdout",
       "text": [
        "\r",
        "Creating importer for <pybug.io.image.PILImporter object at 0x4eb46d0> (26 of 224)"
       ]
      },
      {
       "output_type": "stream",
       "stream": "stdout",
       "text": [
        "\r",
        "Creating importer for <pybug.io.image.PILImporter object at 0x4eb4710> (27 of 224)"
       ]
      },
      {
       "output_type": "stream",
       "stream": "stdout",
       "text": [
        "\r",
        "Creating importer for <pybug.io.image.PILImporter object at 0x4eb4750> (28 of 224)"
       ]
      },
      {
       "output_type": "stream",
       "stream": "stdout",
       "text": [
        "\r",
        "Creating importer for <pybug.io.image.PILImporter object at 0x4eb4790> (29 of 224)"
       ]
      },
      {
       "output_type": "stream",
       "stream": "stdout",
       "text": [
        "\r",
        "Creating importer for <pybug.io.image.PILImporter object at 0x4eb47d0> (30 of 224)"
       ]
      },
      {
       "output_type": "stream",
       "stream": "stdout",
       "text": [
        "\r",
        "Creating importer for <pybug.io.image.PILImporter object at 0x4eb4810> (31 of 224)"
       ]
      },
      {
       "output_type": "stream",
       "stream": "stdout",
       "text": [
        "\r",
        "Creating importer for <pybug.io.image.PILImporter object at 0x4eb4850> (32 of 224)"
       ]
      },
      {
       "output_type": "stream",
       "stream": "stdout",
       "text": [
        "\r",
        "Creating importer for <pybug.io.image.PILImporter object at 0x4eb4890> (33 of 224)"
       ]
      },
      {
       "output_type": "stream",
       "stream": "stdout",
       "text": [
        "\r",
        "Creating importer for <pybug.io.image.PILImporter object at 0x4eb48d0> (34 of 224)"
       ]
      },
      {
       "output_type": "stream",
       "stream": "stdout",
       "text": [
        "\r",
        "Creating importer for <pybug.io.image.PILImporter object at 0x4eb4910> (35 of 224)"
       ]
      },
      {
       "output_type": "stream",
       "stream": "stdout",
       "text": [
        "\r",
        "Creating importer for <pybug.io.image.PILImporter object at 0x4eb4950> (36 of 224)"
       ]
      },
      {
       "output_type": "stream",
       "stream": "stdout",
       "text": [
        "\r",
        "Creating importer for <pybug.io.image.PILImporter object at 0x4eb4990> (37 of 224)"
       ]
      },
      {
       "output_type": "stream",
       "stream": "stdout",
       "text": [
        "\r",
        "Creating importer for <pybug.io.image.PILImporter object at 0x4eb49d0> (38 of 224)"
       ]
      },
      {
       "output_type": "stream",
       "stream": "stdout",
       "text": [
        "\r",
        "Creating importer for <pybug.io.image.PILImporter object at 0x4eb4a10> (39 of 224)"
       ]
      },
      {
       "output_type": "stream",
       "stream": "stdout",
       "text": [
        "\r",
        "Creating importer for <pybug.io.image.PILImporter object at 0x4eb4a50> (40 of 224)"
       ]
      },
      {
       "output_type": "stream",
       "stream": "stdout",
       "text": [
        "\r",
        "Creating importer for <pybug.io.image.PILImporter object at 0x4eb4a90> (41 of 224)"
       ]
      },
      {
       "output_type": "stream",
       "stream": "stdout",
       "text": [
        "\r",
        "Creating importer for <pybug.io.image.PILImporter object at 0x4eb4ad0> (42 of 224)"
       ]
      },
      {
       "output_type": "stream",
       "stream": "stdout",
       "text": [
        "\r",
        "Creating importer for <pybug.io.image.PILImporter object at 0x4eb4b10> (43 of 224)"
       ]
      },
      {
       "output_type": "stream",
       "stream": "stdout",
       "text": [
        "\r",
        "Creating importer for <pybug.io.image.PILImporter object at 0x4eb4b50> (44 of 224)"
       ]
      },
      {
       "output_type": "stream",
       "stream": "stdout",
       "text": [
        "\r",
        "Creating importer for <pybug.io.image.PILImporter object at 0x4eb4b90> (45 of 224)"
       ]
      },
      {
       "output_type": "stream",
       "stream": "stdout",
       "text": [
        "\r",
        "Creating importer for <pybug.io.image.PILImporter object at 0x4eb4bd0> (46 of 224)"
       ]
      },
      {
       "output_type": "stream",
       "stream": "stdout",
       "text": [
        "\r",
        "Creating importer for <pybug.io.image.PILImporter object at 0x4eb4c10> (47 of 224)"
       ]
      },
      {
       "output_type": "stream",
       "stream": "stdout",
       "text": [
        "\r",
        "Creating importer for <pybug.io.image.PILImporter object at 0x4eb4c50> (48 of 224)"
       ]
      },
      {
       "output_type": "stream",
       "stream": "stdout",
       "text": [
        "\r",
        "Creating importer for <pybug.io.image.PILImporter object at 0x4eb4c90> (49 of 224)"
       ]
      },
      {
       "output_type": "stream",
       "stream": "stdout",
       "text": [
        "\r",
        "Creating importer for <pybug.io.image.PILImporter object at 0x4eb4cd0> (50 of 224)"
       ]
      },
      {
       "output_type": "stream",
       "stream": "stdout",
       "text": [
        "\r",
        "Creating importer for <pybug.io.image.PILImporter object at 0x4eb4d10> (51 of 224)"
       ]
      },
      {
       "output_type": "stream",
       "stream": "stdout",
       "text": [
        "\r",
        "Creating importer for <pybug.io.image.PILImporter object at 0x4eb4d50> (52 of 224)"
       ]
      },
      {
       "output_type": "stream",
       "stream": "stdout",
       "text": [
        "\r",
        "Creating importer for <pybug.io.image.PILImporter object at 0x4eb4d90> (53 of 224)"
       ]
      },
      {
       "output_type": "stream",
       "stream": "stdout",
       "text": [
        "\r",
        "Creating importer for <pybug.io.image.PILImporter object at 0x4eb4dd0> (54 of 224)"
       ]
      },
      {
       "output_type": "stream",
       "stream": "stdout",
       "text": [
        "\r",
        "Creating importer for <pybug.io.image.PILImporter object at 0x4eb4e10> (55 of 224)"
       ]
      },
      {
       "output_type": "stream",
       "stream": "stdout",
       "text": [
        "\r",
        "Creating importer for <pybug.io.image.PILImporter object at 0x4eb4e50> (56 of 224)"
       ]
      },
      {
       "output_type": "stream",
       "stream": "stdout",
       "text": [
        "\r",
        "Creating importer for <pybug.io.image.PILImporter object at 0x4eb4e90> (57 of 224)"
       ]
      },
      {
       "output_type": "stream",
       "stream": "stdout",
       "text": [
        "\r",
        "Creating importer for <pybug.io.image.PILImporter object at 0x4eb4ed0> (58 of 224)"
       ]
      },
      {
       "output_type": "stream",
       "stream": "stdout",
       "text": [
        "\r",
        "Creating importer for <pybug.io.image.PILImporter object at 0x4eb4f10> (59 of 224)"
       ]
      },
      {
       "output_type": "stream",
       "stream": "stdout",
       "text": [
        "\r",
        "Creating importer for <pybug.io.image.PILImporter object at 0x4eb4f50> (60 of 224)"
       ]
      },
      {
       "output_type": "stream",
       "stream": "stdout",
       "text": [
        "\r",
        "Creating importer for <pybug.io.image.PILImporter object at 0x4eb4f90> (61 of 224)"
       ]
      },
      {
       "output_type": "stream",
       "stream": "stdout",
       "text": [
        "\r",
        "Creating importer for <pybug.io.image.PILImporter object at 0x4eb4fd0> (62 of 224)"
       ]
      },
      {
       "output_type": "stream",
       "stream": "stdout",
       "text": [
        "\r",
        "Creating importer for <pybug.io.image.PILImporter object at 0x4ebf050> (63 of 224)"
       ]
      },
      {
       "output_type": "stream",
       "stream": "stdout",
       "text": [
        "\r",
        "Creating importer for <pybug.io.image.PILImporter object at 0x4ebf090> (64 of 224)"
       ]
      },
      {
       "output_type": "stream",
       "stream": "stdout",
       "text": [
        "\r",
        "Creating importer for <pybug.io.image.PILImporter object at 0x4ebf0d0> (65 of 224)"
       ]
      },
      {
       "output_type": "stream",
       "stream": "stdout",
       "text": [
        "\r",
        "Creating importer for <pybug.io.image.PILImporter object at 0x4ebf110> (66 of 224)"
       ]
      },
      {
       "output_type": "stream",
       "stream": "stdout",
       "text": [
        "\r",
        "Creating importer for <pybug.io.image.PILImporter object at 0x4ebf150> (67 of 224)"
       ]
      },
      {
       "output_type": "stream",
       "stream": "stdout",
       "text": [
        "\r",
        "Creating importer for <pybug.io.image.PILImporter object at 0x4ebf190> (68 of 224)"
       ]
      },
      {
       "output_type": "stream",
       "stream": "stdout",
       "text": [
        "\r",
        "Creating importer for <pybug.io.image.PILImporter object at 0x4ebf1d0> (69 of 224)"
       ]
      },
      {
       "output_type": "stream",
       "stream": "stdout",
       "text": [
        "\r",
        "Creating importer for <pybug.io.image.PILImporter object at 0x4ebf210> (70 of 224)"
       ]
      },
      {
       "output_type": "stream",
       "stream": "stdout",
       "text": [
        "\r",
        "Creating importer for <pybug.io.image.PILImporter object at 0x4ebf250> (71 of 224)"
       ]
      },
      {
       "output_type": "stream",
       "stream": "stdout",
       "text": [
        "\r",
        "Creating importer for <pybug.io.image.PILImporter object at 0x4ebf290> (72 of 224)"
       ]
      },
      {
       "output_type": "stream",
       "stream": "stdout",
       "text": [
        "\r",
        "Creating importer for <pybug.io.image.PILImporter object at 0x4ebf2d0> (73 of 224)"
       ]
      },
      {
       "output_type": "stream",
       "stream": "stdout",
       "text": [
        "\r",
        "Creating importer for <pybug.io.image.PILImporter object at 0x4ebf310> (74 of 224)"
       ]
      },
      {
       "output_type": "stream",
       "stream": "stdout",
       "text": [
        "\r",
        "Creating importer for <pybug.io.image.PILImporter object at 0x4ebf350> (75 of 224)"
       ]
      },
      {
       "output_type": "stream",
       "stream": "stdout",
       "text": [
        "\r",
        "Creating importer for <pybug.io.image.PILImporter object at 0x4ebf390> (76 of 224)"
       ]
      },
      {
       "output_type": "stream",
       "stream": "stdout",
       "text": [
        "\r",
        "Creating importer for <pybug.io.image.PILImporter object at 0x4ebf3d0> (77 of 224)"
       ]
      },
      {
       "output_type": "stream",
       "stream": "stdout",
       "text": [
        "\r",
        "Creating importer for <pybug.io.image.PILImporter object at 0x4ebf410> (78 of 224)"
       ]
      },
      {
       "output_type": "stream",
       "stream": "stdout",
       "text": [
        "\r",
        "Creating importer for <pybug.io.image.PILImporter object at 0x4ebf450> (79 of 224)"
       ]
      },
      {
       "output_type": "stream",
       "stream": "stdout",
       "text": [
        "\r",
        "Creating importer for <pybug.io.image.PILImporter object at 0x4ebf490> (80 of 224)"
       ]
      },
      {
       "output_type": "stream",
       "stream": "stdout",
       "text": [
        "\r",
        "Creating importer for <pybug.io.image.PILImporter object at 0x4ebf4d0> (81 of 224)"
       ]
      },
      {
       "output_type": "stream",
       "stream": "stdout",
       "text": [
        "\r",
        "Creating importer for <pybug.io.image.PILImporter object at 0x4ebf510> (82 of 224)"
       ]
      },
      {
       "output_type": "stream",
       "stream": "stdout",
       "text": [
        "\r",
        "Creating importer for <pybug.io.image.PILImporter object at 0x4ebf550> (83 of 224)"
       ]
      },
      {
       "output_type": "stream",
       "stream": "stdout",
       "text": [
        "\r",
        "Creating importer for <pybug.io.image.PILImporter object at 0x4ebf590> (84 of 224)"
       ]
      },
      {
       "output_type": "stream",
       "stream": "stdout",
       "text": [
        "\r",
        "Creating importer for <pybug.io.image.PILImporter object at 0x4ebf5d0> (85 of 224)"
       ]
      },
      {
       "output_type": "stream",
       "stream": "stdout",
       "text": [
        "\r",
        "Creating importer for <pybug.io.image.PILImporter object at 0x4ebf610> (86 of 224)"
       ]
      },
      {
       "output_type": "stream",
       "stream": "stdout",
       "text": [
        "\r",
        "Creating importer for <pybug.io.image.PILImporter object at 0x4ebf650> (87 of 224)"
       ]
      },
      {
       "output_type": "stream",
       "stream": "stdout",
       "text": [
        "\r",
        "Creating importer for <pybug.io.image.PILImporter object at 0x4ebf690> (88 of 224)"
       ]
      },
      {
       "output_type": "stream",
       "stream": "stdout",
       "text": [
        "\r",
        "Creating importer for <pybug.io.image.PILImporter object at 0x4ebf6d0> (89 of 224)"
       ]
      },
      {
       "output_type": "stream",
       "stream": "stdout",
       "text": [
        "\r",
        "Creating importer for <pybug.io.image.PILImporter object at 0x4ebf710> (90 of 224)"
       ]
      },
      {
       "output_type": "stream",
       "stream": "stdout",
       "text": [
        "\r",
        "Creating importer for <pybug.io.image.PILImporter object at 0x4ebf750> (91 of 224)"
       ]
      },
      {
       "output_type": "stream",
       "stream": "stdout",
       "text": [
        "\r",
        "Creating importer for <pybug.io.image.PILImporter object at 0x4ebf790> (92 of 224)"
       ]
      },
      {
       "output_type": "stream",
       "stream": "stdout",
       "text": [
        "\r",
        "Creating importer for <pybug.io.image.PILImporter object at 0x4ebf7d0> (93 of 224)"
       ]
      },
      {
       "output_type": "stream",
       "stream": "stdout",
       "text": [
        "\r",
        "Creating importer for <pybug.io.image.PILImporter object at 0x4ebf810> (94 of 224)"
       ]
      },
      {
       "output_type": "stream",
       "stream": "stdout",
       "text": [
        "\r",
        "Creating importer for <pybug.io.image.PILImporter object at 0x4ebf850> (95 of 224)"
       ]
      },
      {
       "output_type": "stream",
       "stream": "stdout",
       "text": [
        "\r",
        "Creating importer for <pybug.io.image.PILImporter object at 0x4ebf890> (96 of 224)"
       ]
      },
      {
       "output_type": "stream",
       "stream": "stdout",
       "text": [
        "\r",
        "Creating importer for <pybug.io.image.PILImporter object at 0x4ebf8d0> (97 of 224)"
       ]
      },
      {
       "output_type": "stream",
       "stream": "stdout",
       "text": [
        "\r",
        "Creating importer for <pybug.io.image.PILImporter object at 0x4ebf910> (98 of 224)"
       ]
      },
      {
       "output_type": "stream",
       "stream": "stdout",
       "text": [
        "\r",
        "Creating importer for <pybug.io.image.PILImporter object at 0x4ebf950> (99 of 224)"
       ]
      },
      {
       "output_type": "stream",
       "stream": "stdout",
       "text": [
        "\r",
        "Creating importer for <pybug.io.image.PILImporter object at 0x4ebf990> (100 of 224)"
       ]
      },
      {
       "output_type": "stream",
       "stream": "stdout",
       "text": [
        "\r",
        "Creating importer for <pybug.io.image.PILImporter object at 0x4ebf9d0> (101 of 224)"
       ]
      },
      {
       "output_type": "stream",
       "stream": "stdout",
       "text": [
        "\r",
        "Creating importer for <pybug.io.image.PILImporter object at 0x4ebfa10> (102 of 224)"
       ]
      },
      {
       "output_type": "stream",
       "stream": "stdout",
       "text": [
        "\r",
        "Creating importer for <pybug.io.image.PILImporter object at 0x4ebfa50> (103 of 224)"
       ]
      },
      {
       "output_type": "stream",
       "stream": "stdout",
       "text": [
        "\r",
        "Creating importer for <pybug.io.image.PILImporter object at 0x4ebfa90> (104 of 224)"
       ]
      },
      {
       "output_type": "stream",
       "stream": "stdout",
       "text": [
        "\r",
        "Creating importer for <pybug.io.image.PILImporter object at 0x4ebfad0> (105 of 224)"
       ]
      },
      {
       "output_type": "stream",
       "stream": "stdout",
       "text": [
        "\r",
        "Creating importer for <pybug.io.image.PILImporter object at 0x4ebfb10> (106 of 224)"
       ]
      },
      {
       "output_type": "stream",
       "stream": "stdout",
       "text": [
        "\r",
        "Creating importer for <pybug.io.image.PILImporter object at 0x4ebfb50> (107 of 224)"
       ]
      },
      {
       "output_type": "stream",
       "stream": "stdout",
       "text": [
        "\r",
        "Creating importer for <pybug.io.image.PILImporter object at 0x4ebfb90> (108 of 224)"
       ]
      },
      {
       "output_type": "stream",
       "stream": "stdout",
       "text": [
        "\r",
        "Creating importer for <pybug.io.image.PILImporter object at 0x4ebfbd0> (109 of 224)"
       ]
      },
      {
       "output_type": "stream",
       "stream": "stdout",
       "text": [
        "\r",
        "Creating importer for <pybug.io.image.PILImporter object at 0x4ebfc10> (110 of 224)"
       ]
      },
      {
       "output_type": "stream",
       "stream": "stdout",
       "text": [
        "\r",
        "Creating importer for <pybug.io.image.PILImporter object at 0x4ebfc50> (111 of 224)"
       ]
      },
      {
       "output_type": "stream",
       "stream": "stdout",
       "text": [
        "\r",
        "Creating importer for <pybug.io.image.PILImporter object at 0x4ebfc90> (112 of 224)"
       ]
      },
      {
       "output_type": "stream",
       "stream": "stdout",
       "text": [
        "\r",
        "Creating importer for <pybug.io.image.PILImporter object at 0x4ebfcd0> (113 of 224)"
       ]
      },
      {
       "output_type": "stream",
       "stream": "stdout",
       "text": [
        "\r",
        "Creating importer for <pybug.io.image.PILImporter object at 0x4ebfd10> (114 of 224)"
       ]
      },
      {
       "output_type": "stream",
       "stream": "stdout",
       "text": [
        "\r",
        "Creating importer for <pybug.io.image.PILImporter object at 0x4ebfd50> (115 of 224)"
       ]
      },
      {
       "output_type": "stream",
       "stream": "stdout",
       "text": [
        "\r",
        "Creating importer for <pybug.io.image.PILImporter object at 0x4ebfd90> (116 of 224)"
       ]
      },
      {
       "output_type": "stream",
       "stream": "stdout",
       "text": [
        "\r",
        "Creating importer for <pybug.io.image.PILImporter object at 0x4ebfdd0> (117 of 224)"
       ]
      },
      {
       "output_type": "stream",
       "stream": "stdout",
       "text": [
        "\r",
        "Creating importer for <pybug.io.image.PILImporter object at 0x4ebfe10> (118 of 224)"
       ]
      },
      {
       "output_type": "stream",
       "stream": "stdout",
       "text": [
        "\r",
        "Creating importer for <pybug.io.image.PILImporter object at 0x4ebfe50> (119 of 224)"
       ]
      },
      {
       "output_type": "stream",
       "stream": "stdout",
       "text": [
        "\r",
        "Creating importer for <pybug.io.image.PILImporter object at 0x4ebfe90> (120 of 224)"
       ]
      },
      {
       "output_type": "stream",
       "stream": "stdout",
       "text": [
        "\r",
        "Creating importer for <pybug.io.image.PILImporter object at 0x4ebfed0> (121 of 224)"
       ]
      },
      {
       "output_type": "stream",
       "stream": "stdout",
       "text": [
        "\r",
        "Creating importer for <pybug.io.image.PILImporter object at 0x4ebff10> (122 of 224)"
       ]
      },
      {
       "output_type": "stream",
       "stream": "stdout",
       "text": [
        "\r",
        "Creating importer for <pybug.io.image.PILImporter object at 0x4ebff50> (123 of 224)"
       ]
      },
      {
       "output_type": "stream",
       "stream": "stdout",
       "text": [
        "\r",
        "Creating importer for <pybug.io.image.PILImporter object at 0x4ebff90> (124 of 224)"
       ]
      },
      {
       "output_type": "stream",
       "stream": "stdout",
       "text": [
        "\r",
        "Creating importer for <pybug.io.image.PILImporter object at 0x4ebffd0> (125 of 224)"
       ]
      },
      {
       "output_type": "stream",
       "stream": "stdout",
       "text": [
        "\r",
        "Creating importer for <pybug.io.image.PILImporter object at 0x4ec7050> (126 of 224)"
       ]
      },
      {
       "output_type": "stream",
       "stream": "stdout",
       "text": [
        "\r",
        "Creating importer for <pybug.io.image.PILImporter object at 0x4ec7090> (127 of 224)"
       ]
      },
      {
       "output_type": "stream",
       "stream": "stdout",
       "text": [
        "\r",
        "Creating importer for <pybug.io.image.PILImporter object at 0x4ec70d0> (128 of 224)"
       ]
      },
      {
       "output_type": "stream",
       "stream": "stdout",
       "text": [
        "\r",
        "Creating importer for <pybug.io.image.PILImporter object at 0x4ec7110> (129 of 224)"
       ]
      },
      {
       "output_type": "stream",
       "stream": "stdout",
       "text": [
        "\r",
        "Creating importer for <pybug.io.image.PILImporter object at 0x4ec7150> (130 of 224)"
       ]
      },
      {
       "output_type": "stream",
       "stream": "stdout",
       "text": [
        "\r",
        "Creating importer for <pybug.io.image.PILImporter object at 0x4ec7190> (131 of 224)"
       ]
      },
      {
       "output_type": "stream",
       "stream": "stdout",
       "text": [
        "\r",
        "Creating importer for <pybug.io.image.PILImporter object at 0x4ec71d0> (132 of 224)"
       ]
      },
      {
       "output_type": "stream",
       "stream": "stdout",
       "text": [
        "\r",
        "Creating importer for <pybug.io.image.PILImporter object at 0x4ec7210> (133 of 224)"
       ]
      },
      {
       "output_type": "stream",
       "stream": "stdout",
       "text": [
        "\r",
        "Creating importer for <pybug.io.image.PILImporter object at 0x4ec7250> (134 of 224)"
       ]
      },
      {
       "output_type": "stream",
       "stream": "stdout",
       "text": [
        "\r",
        "Creating importer for <pybug.io.image.PILImporter object at 0x4ec7290> (135 of 224)"
       ]
      },
      {
       "output_type": "stream",
       "stream": "stdout",
       "text": [
        "\r",
        "Creating importer for <pybug.io.image.PILImporter object at 0x4ec72d0> (136 of 224)"
       ]
      },
      {
       "output_type": "stream",
       "stream": "stdout",
       "text": [
        "\r",
        "Creating importer for <pybug.io.image.PILImporter object at 0x4ec7310> (137 of 224)"
       ]
      },
      {
       "output_type": "stream",
       "stream": "stdout",
       "text": [
        "\r",
        "Creating importer for <pybug.io.image.PILImporter object at 0x4ec7350> (138 of 224)"
       ]
      },
      {
       "output_type": "stream",
       "stream": "stdout",
       "text": [
        "\r",
        "Creating importer for <pybug.io.image.PILImporter object at 0x4ec7390> (139 of 224)"
       ]
      },
      {
       "output_type": "stream",
       "stream": "stdout",
       "text": [
        "\r",
        "Creating importer for <pybug.io.image.PILImporter object at 0x4ec73d0> (140 of 224)"
       ]
      },
      {
       "output_type": "stream",
       "stream": "stdout",
       "text": [
        "\r",
        "Creating importer for <pybug.io.image.PILImporter object at 0x4ec7410> (141 of 224)"
       ]
      },
      {
       "output_type": "stream",
       "stream": "stdout",
       "text": [
        "\r",
        "Creating importer for <pybug.io.image.PILImporter object at 0x4ec7450> (142 of 224)"
       ]
      },
      {
       "output_type": "stream",
       "stream": "stdout",
       "text": [
        "\r",
        "Creating importer for <pybug.io.image.PILImporter object at 0x4ec7490> (143 of 224)"
       ]
      },
      {
       "output_type": "stream",
       "stream": "stdout",
       "text": [
        "\r",
        "Creating importer for <pybug.io.image.PILImporter object at 0x4ec74d0> (144 of 224)"
       ]
      },
      {
       "output_type": "stream",
       "stream": "stdout",
       "text": [
        "\r",
        "Creating importer for <pybug.io.image.PILImporter object at 0x4ec7510> (145 of 224)"
       ]
      },
      {
       "output_type": "stream",
       "stream": "stdout",
       "text": [
        "\r",
        "Creating importer for <pybug.io.image.PILImporter object at 0x4ec7550> (146 of 224)"
       ]
      },
      {
       "output_type": "stream",
       "stream": "stdout",
       "text": [
        "\r",
        "Creating importer for <pybug.io.image.PILImporter object at 0x4ec7590> (147 of 224)"
       ]
      },
      {
       "output_type": "stream",
       "stream": "stdout",
       "text": [
        "\r",
        "Creating importer for <pybug.io.image.PILImporter object at 0x4ec75d0> (148 of 224)"
       ]
      },
      {
       "output_type": "stream",
       "stream": "stdout",
       "text": [
        "\r",
        "Creating importer for <pybug.io.image.PILImporter object at 0x4ec7610> (149 of 224)"
       ]
      },
      {
       "output_type": "stream",
       "stream": "stdout",
       "text": [
        "\r",
        "Creating importer for <pybug.io.image.PILImporter object at 0x4ec7650> (150 of 224)"
       ]
      },
      {
       "output_type": "stream",
       "stream": "stdout",
       "text": [
        "\r",
        "Creating importer for <pybug.io.image.PILImporter object at 0x4ec7690> (151 of 224)"
       ]
      },
      {
       "output_type": "stream",
       "stream": "stdout",
       "text": [
        "\r",
        "Creating importer for <pybug.io.image.PILImporter object at 0x4ec76d0> (152 of 224)"
       ]
      },
      {
       "output_type": "stream",
       "stream": "stdout",
       "text": [
        "\r",
        "Creating importer for <pybug.io.image.PILImporter object at 0x4ec7710> (153 of 224)"
       ]
      },
      {
       "output_type": "stream",
       "stream": "stdout",
       "text": [
        "\r",
        "Creating importer for <pybug.io.image.PILImporter object at 0x4ec7750> (154 of 224)"
       ]
      },
      {
       "output_type": "stream",
       "stream": "stdout",
       "text": [
        "\r",
        "Creating importer for <pybug.io.image.PILImporter object at 0x4ec7790> (155 of 224)"
       ]
      },
      {
       "output_type": "stream",
       "stream": "stdout",
       "text": [
        "\r",
        "Creating importer for <pybug.io.image.PILImporter object at 0x4ec77d0> (156 of 224)"
       ]
      },
      {
       "output_type": "stream",
       "stream": "stdout",
       "text": [
        "\r",
        "Creating importer for <pybug.io.image.PILImporter object at 0x4ec7810> (157 of 224)"
       ]
      },
      {
       "output_type": "stream",
       "stream": "stdout",
       "text": [
        "\r",
        "Creating importer for <pybug.io.image.PILImporter object at 0x4ec7850> (158 of 224)"
       ]
      },
      {
       "output_type": "stream",
       "stream": "stdout",
       "text": [
        "\r",
        "Creating importer for <pybug.io.image.PILImporter object at 0x4ec7890> (159 of 224)"
       ]
      },
      {
       "output_type": "stream",
       "stream": "stdout",
       "text": [
        "\r",
        "Creating importer for <pybug.io.image.PILImporter object at 0x4ec78d0> (160 of 224)"
       ]
      },
      {
       "output_type": "stream",
       "stream": "stdout",
       "text": [
        "\r",
        "Creating importer for <pybug.io.image.PILImporter object at 0x4ec7910> (161 of 224)"
       ]
      },
      {
       "output_type": "stream",
       "stream": "stdout",
       "text": [
        "\r",
        "Creating importer for <pybug.io.image.PILImporter object at 0x4ec7950> (162 of 224)"
       ]
      },
      {
       "output_type": "stream",
       "stream": "stdout",
       "text": [
        "\r",
        "Creating importer for <pybug.io.image.PILImporter object at 0x4ec7990> (163 of 224)"
       ]
      },
      {
       "output_type": "stream",
       "stream": "stdout",
       "text": [
        "\r",
        "Creating importer for <pybug.io.image.PILImporter object at 0x4ec79d0> (164 of 224)"
       ]
      },
      {
       "output_type": "stream",
       "stream": "stdout",
       "text": [
        "\r",
        "Creating importer for <pybug.io.image.PILImporter object at 0x4ec7a10> (165 of 224)"
       ]
      },
      {
       "output_type": "stream",
       "stream": "stdout",
       "text": [
        "\r",
        "Creating importer for <pybug.io.image.PILImporter object at 0x4ec7a50> (166 of 224)"
       ]
      },
      {
       "output_type": "stream",
       "stream": "stdout",
       "text": [
        "\r",
        "Creating importer for <pybug.io.image.PILImporter object at 0x4ec7a90> (167 of 224)"
       ]
      },
      {
       "output_type": "stream",
       "stream": "stdout",
       "text": [
        "\r",
        "Creating importer for <pybug.io.image.PILImporter object at 0x4ec7ad0> (168 of 224)"
       ]
      },
      {
       "output_type": "stream",
       "stream": "stdout",
       "text": [
        "\r",
        "Creating importer for <pybug.io.image.PILImporter object at 0x4ec7b10> (169 of 224)"
       ]
      },
      {
       "output_type": "stream",
       "stream": "stdout",
       "text": [
        "\r",
        "Creating importer for <pybug.io.image.PILImporter object at 0x4ec7b50> (170 of 224)"
       ]
      },
      {
       "output_type": "stream",
       "stream": "stdout",
       "text": [
        "\r",
        "Creating importer for <pybug.io.image.PILImporter object at 0x4ec7b90> (171 of 224)"
       ]
      },
      {
       "output_type": "stream",
       "stream": "stdout",
       "text": [
        "\r",
        "Creating importer for <pybug.io.image.PILImporter object at 0x4ec7bd0> (172 of 224)"
       ]
      },
      {
       "output_type": "stream",
       "stream": "stdout",
       "text": [
        "\r",
        "Creating importer for <pybug.io.image.PILImporter object at 0x4ec7c10> (173 of 224)"
       ]
      },
      {
       "output_type": "stream",
       "stream": "stdout",
       "text": [
        "\r",
        "Creating importer for <pybug.io.image.PILImporter object at 0x4ec7c50> (174 of 224)"
       ]
      },
      {
       "output_type": "stream",
       "stream": "stdout",
       "text": [
        "\r",
        "Creating importer for <pybug.io.image.PILImporter object at 0x4ec7c90> (175 of 224)"
       ]
      },
      {
       "output_type": "stream",
       "stream": "stdout",
       "text": [
        "\r",
        "Creating importer for <pybug.io.image.PILImporter object at 0x4ec7cd0> (176 of 224)"
       ]
      },
      {
       "output_type": "stream",
       "stream": "stdout",
       "text": [
        "\r",
        "Creating importer for <pybug.io.image.PILImporter object at 0x4ec7d10> (177 of 224)"
       ]
      },
      {
       "output_type": "stream",
       "stream": "stdout",
       "text": [
        "\r",
        "Creating importer for <pybug.io.image.PILImporter object at 0x4ec7d50> (178 of 224)"
       ]
      },
      {
       "output_type": "stream",
       "stream": "stdout",
       "text": [
        "\r",
        "Creating importer for <pybug.io.image.PILImporter object at 0x4ec7d90> (179 of 224)"
       ]
      },
      {
       "output_type": "stream",
       "stream": "stdout",
       "text": [
        "\r",
        "Creating importer for <pybug.io.image.PILImporter object at 0x4ec7dd0> (180 of 224)"
       ]
      },
      {
       "output_type": "stream",
       "stream": "stdout",
       "text": [
        "\r",
        "Creating importer for <pybug.io.image.PILImporter object at 0x4ec7e10> (181 of 224)"
       ]
      },
      {
       "output_type": "stream",
       "stream": "stdout",
       "text": [
        "\r",
        "Creating importer for <pybug.io.image.PILImporter object at 0x4ec7e50> (182 of 224)"
       ]
      },
      {
       "output_type": "stream",
       "stream": "stdout",
       "text": [
        "\r",
        "Creating importer for <pybug.io.image.PILImporter object at 0x4ec7e90> (183 of 224)"
       ]
      },
      {
       "output_type": "stream",
       "stream": "stdout",
       "text": [
        "\r",
        "Creating importer for <pybug.io.image.PILImporter object at 0x4ec7ed0> (184 of 224)"
       ]
      },
      {
       "output_type": "stream",
       "stream": "stdout",
       "text": [
        "\r",
        "Creating importer for <pybug.io.image.PILImporter object at 0x4ec7f10> (185 of 224)"
       ]
      },
      {
       "output_type": "stream",
       "stream": "stdout",
       "text": [
        "\r",
        "Creating importer for <pybug.io.image.PILImporter object at 0x4ec7f50> (186 of 224)"
       ]
      },
      {
       "output_type": "stream",
       "stream": "stdout",
       "text": [
        "\r",
        "Creating importer for <pybug.io.image.PILImporter object at 0x4ec7f90> (187 of 224)"
       ]
      },
      {
       "output_type": "stream",
       "stream": "stdout",
       "text": [
        "\r",
        "Creating importer for <pybug.io.image.PILImporter object at 0x4ec7fd0> (188 of 224)"
       ]
      },
      {
       "output_type": "stream",
       "stream": "stdout",
       "text": [
        "\r",
        "Creating importer for <pybug.io.image.PILImporter object at 0x4ecd050> (189 of 224)"
       ]
      },
      {
       "output_type": "stream",
       "stream": "stdout",
       "text": [
        "\r",
        "Creating importer for <pybug.io.image.PILImporter object at 0x4ecd090> (190 of 224)"
       ]
      },
      {
       "output_type": "stream",
       "stream": "stdout",
       "text": [
        "\r",
        "Creating importer for <pybug.io.image.PILImporter object at 0x4ecd0d0> (191 of 224)"
       ]
      },
      {
       "output_type": "stream",
       "stream": "stdout",
       "text": [
        "\r",
        "Creating importer for <pybug.io.image.PILImporter object at 0x4ecd110> (192 of 224)"
       ]
      },
      {
       "output_type": "stream",
       "stream": "stdout",
       "text": [
        "\r",
        "Creating importer for <pybug.io.image.PILImporter object at 0x4ecd150> (193 of 224)"
       ]
      },
      {
       "output_type": "stream",
       "stream": "stdout",
       "text": [
        "\r",
        "Creating importer for <pybug.io.image.PILImporter object at 0x4ecd190> (194 of 224)"
       ]
      },
      {
       "output_type": "stream",
       "stream": "stdout",
       "text": [
        "\r",
        "Creating importer for <pybug.io.image.PILImporter object at 0x4ecd1d0> (195 of 224)"
       ]
      },
      {
       "output_type": "stream",
       "stream": "stdout",
       "text": [
        "\r",
        "Creating importer for <pybug.io.image.PILImporter object at 0x4ecd210> (196 of 224)"
       ]
      },
      {
       "output_type": "stream",
       "stream": "stdout",
       "text": [
        "\r",
        "Creating importer for <pybug.io.image.PILImporter object at 0x4ecd250> (197 of 224)"
       ]
      },
      {
       "output_type": "stream",
       "stream": "stdout",
       "text": [
        "\r",
        "Creating importer for <pybug.io.image.PILImporter object at 0x4ecd290> (198 of 224)"
       ]
      },
      {
       "output_type": "stream",
       "stream": "stdout",
       "text": [
        "\r",
        "Creating importer for <pybug.io.image.PILImporter object at 0x4ecd2d0> (199 of 224)"
       ]
      },
      {
       "output_type": "stream",
       "stream": "stdout",
       "text": [
        "\r",
        "Creating importer for <pybug.io.image.PILImporter object at 0x4ecd310> (200 of 224)"
       ]
      },
      {
       "output_type": "stream",
       "stream": "stdout",
       "text": [
        "\r",
        "Creating importer for <pybug.io.image.PILImporter object at 0x4ecd350> (201 of 224)"
       ]
      },
      {
       "output_type": "stream",
       "stream": "stdout",
       "text": [
        "\r",
        "Creating importer for <pybug.io.image.PILImporter object at 0x4ecd390> (202 of 224)"
       ]
      },
      {
       "output_type": "stream",
       "stream": "stdout",
       "text": [
        "\r",
        "Creating importer for <pybug.io.image.PILImporter object at 0x4ecd3d0> (203 of 224)"
       ]
      },
      {
       "output_type": "stream",
       "stream": "stdout",
       "text": [
        "\r",
        "Creating importer for <pybug.io.image.PILImporter object at 0x4ecd410> (204 of 224)"
       ]
      },
      {
       "output_type": "stream",
       "stream": "stdout",
       "text": [
        "\r",
        "Creating importer for <pybug.io.image.PILImporter object at 0x4ecd450> (205 of 224)"
       ]
      },
      {
       "output_type": "stream",
       "stream": "stdout",
       "text": [
        "\r",
        "Creating importer for <pybug.io.image.PILImporter object at 0x4ecd490> (206 of 224)"
       ]
      },
      {
       "output_type": "stream",
       "stream": "stdout",
       "text": [
        "\r",
        "Creating importer for <pybug.io.image.PILImporter object at 0x4ecd4d0> (207 of 224)"
       ]
      },
      {
       "output_type": "stream",
       "stream": "stdout",
       "text": [
        "\r",
        "Creating importer for <pybug.io.image.PILImporter object at 0x4ecd510> (208 of 224)"
       ]
      },
      {
       "output_type": "stream",
       "stream": "stdout",
       "text": [
        "\r",
        "Creating importer for <pybug.io.image.PILImporter object at 0x4ecd550> (209 of 224)"
       ]
      },
      {
       "output_type": "stream",
       "stream": "stdout",
       "text": [
        "\r",
        "Creating importer for <pybug.io.image.PILImporter object at 0x4ecd590> (210 of 224)"
       ]
      },
      {
       "output_type": "stream",
       "stream": "stdout",
       "text": [
        "\r",
        "Creating importer for <pybug.io.image.PILImporter object at 0x4ecd5d0> (211 of 224)"
       ]
      },
      {
       "output_type": "stream",
       "stream": "stdout",
       "text": [
        "\r",
        "Creating importer for <pybug.io.image.PILImporter object at 0x4ecd610> (212 of 224)"
       ]
      },
      {
       "output_type": "stream",
       "stream": "stdout",
       "text": [
        "\r",
        "Creating importer for <pybug.io.image.PILImporter object at 0x4ecd650> (213 of 224)"
       ]
      },
      {
       "output_type": "stream",
       "stream": "stdout",
       "text": [
        "\r",
        "Creating importer for <pybug.io.image.PILImporter object at 0x4ecd690> (214 of 224)"
       ]
      },
      {
       "output_type": "stream",
       "stream": "stdout",
       "text": [
        "\r",
        "Creating importer for <pybug.io.image.PILImporter object at 0x4ecd6d0> (215 of 224)"
       ]
      },
      {
       "output_type": "stream",
       "stream": "stdout",
       "text": [
        "\r",
        "Creating importer for <pybug.io.image.PILImporter object at 0x4ecd710> (216 of 224)"
       ]
      },
      {
       "output_type": "stream",
       "stream": "stdout",
       "text": [
        "\r",
        "Creating importer for <pybug.io.image.PILImporter object at 0x4ecd750> (217 of 224)"
       ]
      },
      {
       "output_type": "stream",
       "stream": "stdout",
       "text": [
        "\r",
        "Creating importer for <pybug.io.image.PILImporter object at 0x4ecd790> (218 of 224)"
       ]
      },
      {
       "output_type": "stream",
       "stream": "stdout",
       "text": [
        "\r",
        "Creating importer for <pybug.io.image.PILImporter object at 0x4ecd7d0> (219 of 224)"
       ]
      },
      {
       "output_type": "stream",
       "stream": "stdout",
       "text": [
        "\r",
        "Creating importer for <pybug.io.image.PILImporter object at 0x4ecd810> (220 of 224)"
       ]
      },
      {
       "output_type": "stream",
       "stream": "stdout",
       "text": [
        "\r",
        "Creating importer for <pybug.io.image.PILImporter object at 0x4ecd850> (221 of 224)"
       ]
      },
      {
       "output_type": "stream",
       "stream": "stdout",
       "text": [
        "\r",
        "Creating importer for <pybug.io.image.PILImporter object at 0x4ecd890> (222 of 224)"
       ]
      },
      {
       "output_type": "stream",
       "stream": "stdout",
       "text": [
        "\r",
        "Creating importer for <pybug.io.image.PILImporter object at 0x4ecd8d0> (223 of 224)"
       ]
      },
      {
       "output_type": "stream",
       "stream": "stdout",
       "text": [
        "\r",
        "Creating importer for <pybug.io.image.PILImporter object at 0x4ecd910> (224 of 224)"
       ]
      },
      {
       "output_type": "stream",
       "stream": "stdout",
       "text": [
        "\n"
       ]
      }
     ],
     "prompt_number": 1
    },
    {
     "cell_type": "markdown",
     "metadata": {},
     "source": [
      "Use **pickle** to load a previously build *AAM*:"
     ]
    },
    {
     "cell_type": "code",
     "collapsed": false,
     "input": [
      "import pickle\n",
      "\n",
      "# load a previously buid AAM\n",
      "aam = pickle.load(open('/vol/atlas/aams/lfpw_pwa_multi', \"rb\"))\n",
      "\n",
      "reference_frame = aam[\"ref_frame_list\"][-1]\n",
      "appearance_model = aam[\"appearance_model_list\"][-1]\n",
      "shape_model = aam[\"shape_model_list\"][-1]"
     ],
     "language": "python",
     "metadata": {},
     "outputs": [],
     "prompt_number": 2
    },
    {
     "cell_type": "code",
     "collapsed": false,
     "input": [
      "appearance_model.trim_components(n_components=50)\n",
      "shape_model.trim_components(n_components=10)"
     ],
     "language": "python",
     "metadata": {},
     "outputs": [],
     "prompt_number": 3
    },
    {
     "cell_type": "markdown",
     "metadata": {},
     "source": [
      "### 2. Fit\n",
      "\n",
      "Randomly select an image to fit:"
     ]
    },
    {
     "cell_type": "code",
     "collapsed": false,
     "input": [
      "import numpy as np\n",
      "\n",
      "# select a test image at random\n",
      "ind = np.random.randint(len(images))\n",
      "test_image = images[ind].as_greyscale()\n",
      "test_shape = shapes[ind]"
     ],
     "language": "python",
     "metadata": {},
     "outputs": [],
     "prompt_number": 4
    },
    {
     "cell_type": "code",
     "collapsed": false,
     "input": [
      "from pybug.image import MaskedNDImage\n",
      "test_image2 = MaskedNDImage(test_image.pixels, mask=test_image.mask)\n",
      "test_image2.landmarks = test_image.landmarks\n",
      "test_image = test_image2"
     ],
     "language": "python",
     "metadata": {},
     "outputs": [],
     "prompt_number": 5
    },
    {
     "cell_type": "code",
     "collapsed": false,
     "input": [
      "test_image.landmarks.view()\n",
      "gcf().set_size_inches((10,10))"
     ],
     "language": "python",
     "metadata": {},
     "outputs": [],
     "prompt_number": 6
    },
    {
     "cell_type": "code",
     "collapsed": false,
     "input": [
      "test_shape.view()"
     ],
     "language": "python",
     "metadata": {},
     "outputs": [
      {
       "metadata": {},
       "output_type": "pyout",
       "prompt_number": 7,
       "text": [
        "<pybug.visualize.viewmatplotlib.MatplotlibPointCloudViewer2d at 0x48d3650>"
       ]
      }
     ],
     "prompt_number": 7
    },
    {
     "cell_type": "markdown",
     "metadata": {},
     "source": [
      "Visualize ground truth landmarks and warped appearance for the selected test image:"
     ]
    },
    {
     "cell_type": "code",
     "collapsed": false,
     "input": [
      "from pybug.transform.piecewiseaffine import PiecewiseAffineTransform\n",
      "from pybug.shape import TriMesh\n",
      "\n",
      "source = reference_frame.landmarks['ibug_68_trimesh'].lms\n",
      "\n",
      "template_pwa = PiecewiseAffineTransform(source, test_shape)\n",
      "template = test_image.warp_to(reference_frame.mask, template_pwa)\n",
      "\n",
      "test_image.landmarks[\"ground_truth\"] = test_shape\n",
      "test_image.landmarks['ground_truth'].view_new()\n",
      "gcf().set_size_inches((10,10))\n",
      "\n",
      "template.landmarks['reference'] = source\n",
      "template.landmarks['reference'].view_new()\n",
      "gcf().set_size_inches((6,6))"
     ],
     "language": "python",
     "metadata": {},
     "outputs": [],
     "prompt_number": 8
    },
    {
     "cell_type": "markdown",
     "metadata": {},
     "source": [
      "Initialize the fitting procedure by perturbing the true scale and translation parameters of the manually annotated shape:"
     ]
    },
    {
     "cell_type": "code",
     "collapsed": false,
     "input": [
      "from pybug.transform.affine import SimilarityTransform\n",
      "import numpy as np\n",
      "\n",
      "# create a transform in the model space to perturb the fitting\n",
      "model_transform = SimilarityTransform.from_vector(0.0 * np.random.randn(4)) \n",
      "#print 'pertubation of the mean:'\n",
      "#print model_transform\n",
      "\n",
      "# perturb the mean by the transform, and find the optimal (incorrect) transform from the \n",
      "# model to the ground truth test_shape\n",
      "peturbed_mean = model_transform.apply(shape_model.mean)\n",
      "# this transform is obviously non-optimal (because of the pertubation, and the error is\n",
      "# not dependent on the scale of the target, as we performed the pertubation in model space.\n",
      "initial_global_transform  = SimilarityTransform.align(peturbed_mean, test_shape)\n",
      "#print '\\ninital transform we will set:'\n",
      "#print initial_global_transform\n",
      "\n",
      "optimal_global_transform  = SimilarityTransform.align(shape_model.mean, test_shape)\n",
      "#print '\\nthe optimal transform is:'\n",
      "#print optimal_global_transform"
     ],
     "language": "python",
     "metadata": {},
     "outputs": [],
     "prompt_number": 9
    },
    {
     "cell_type": "markdown",
     "metadata": {},
     "source": [
      "Build a Model Driven Transform using the AAM's shape model and Piece Wise Affine (PWA) warps: "
     ]
    },
    {
     "cell_type": "code",
     "collapsed": false,
     "input": [
      "from pybug.transform.modeldriven import OrthoMDTransform\n",
      "from pybug.transform.affine import SimilarityTransform\n",
      "\n",
      "model_driven_transform = OrthoMDTransform(shape_model, PiecewiseAffineTransform, initial_global_transform, source=source)"
     ],
     "language": "python",
     "metadata": {},
     "outputs": [],
     "prompt_number": 10
    },
    {
     "cell_type": "code",
     "collapsed": false,
     "input": [
      "test_image.landmarks['initial'] = model_driven_transform.target\n",
      "test_image.landmarks[\"initial\"].view_new()\n",
      "gcf().set_size_inches((10,10))\n",
      "\n",
      "initial_warped_image = test_image.warp_to(template.mask, model_driven_transform)\n",
      "initial_warped_image.landmarks['reference'] =  source\n",
      "initial_warped_image.landmarks['reference'].view_new()\n",
      "gcf().set_size_inches((6,6))"
     ],
     "language": "python",
     "metadata": {},
     "outputs": [],
     "prompt_number": 11
    },
    {
     "cell_type": "markdown",
     "metadata": {},
     "source": [
      "Build three \"fitter\" objects using the three variations of the Project Out algorithm:"
     ]
    },
    {
     "cell_type": "code",
     "collapsed": false,
     "input": [
      "from pybug.lucaskanade.residual import (LSIntensity, ECC, GaborFourier, \n",
      "                                        GradientImages, GradientCorrelation)\n",
      "from pybug.lucaskanade.appearance import (AlternatingForwardAdditive, AlternatingForwardCompositional,\n",
      "                                           AlternatingInverseCompositional)\n",
      "from copy import deepcopy\n",
      "\n",
      "# standard Least Squares Residual\n",
      "residual = LSIntensity()\n",
      "\n",
      "# forward additive\n",
      "fa = AlternatingForwardAdditive(appearance_model, residual, deepcopy(model_driven_transform))\n",
      "# forward compositional\n",
      "fc = AlternatingForwardCompositional(appearance_model, residual, deepcopy(model_driven_transform))\n",
      "# inverse compositional\n",
      "ic = AlternatingInverseCompositional(appearance_model, residual, deepcopy(model_driven_transform))"
     ],
     "language": "python",
     "metadata": {},
     "outputs": [],
     "prompt_number": 12
    },
    {
     "cell_type": "markdown",
     "metadata": {},
     "source": [
      "Fit the image using all three different methods:"
     ]
    },
    {
     "cell_type": "code",
     "collapsed": false,
     "input": [
      "%prun optimal_transform_1 = fa.align(test_image, model_driven_transform.as_vector(), max_iters=50)"
     ],
     "language": "python",
     "metadata": {},
     "outputs": [
      {
       "output_type": "stream",
       "stream": "stdout",
       "text": [
        "\n"
       ]
      }
     ],
     "prompt_number": 13
    },
    {
     "cell_type": "code",
     "collapsed": false,
     "input": [
      "%prun optimal_transform_2 = fc.align(test_image, model_driven_transform.as_vector(), max_iters=50)"
     ],
     "language": "python",
     "metadata": {},
     "outputs": [
      {
       "output_type": "stream",
       "stream": "stdout",
       "text": [
        "\n"
       ]
      }
     ],
     "prompt_number": 14
    },
    {
     "cell_type": "code",
     "collapsed": false,
     "input": [
      "%prun optimal_transform_3 = ic.align(test_image, model_driven_transform.as_vector(), max_iters=50)"
     ],
     "language": "python",
     "metadata": {},
     "outputs": [
      {
       "output_type": "stream",
       "stream": "stdout",
       "text": [
        "\n"
       ]
      }
     ],
     "prompt_number": 15
    },
    {
     "cell_type": "markdown",
     "metadata": {},
     "source": [
      "Visualize the results:"
     ]
    },
    {
     "cell_type": "code",
     "collapsed": false,
     "input": [
      "fitted_appearance_1 = test_image.warp_to(template.mask, optimal_transform_1)\n",
      "fitted_appearance_2 = test_image.warp_to(template.mask, optimal_transform_2)\n",
      "fitted_appearance_3 = test_image.warp_to(template.mask, optimal_transform_3)\n",
      "\n",
      "fitted_appearance_1.landmarks['reference'] = source\n",
      "fitted_appearance_1.landmarks['reference'].view_new()\n",
      "\n",
      "fitted_appearance_2.landmarks['reference'] = source\n",
      "fitted_appearance_2.landmarks['reference'].view_new()\n",
      "\n",
      "fitted_appearance_3.landmarks['reference'] = source\n",
      "fitted_appearance_3.landmarks['reference'].view_new()"
     ],
     "language": "python",
     "metadata": {},
     "outputs": [
      {
       "metadata": {},
       "output_type": "pyout",
       "prompt_number": 41,
       "text": [
        "<pybug.visualize.viewmatplotlib.MatplotlibLandmarkViewer2dImage at 0x1f05c9b90>"
       ]
      }
     ],
     "prompt_number": 41
    },
    {
     "cell_type": "code",
     "collapsed": false,
     "input": [
      "fitted_appearance_3.landmarks['reference'] = source\n",
      "fitted_appearance_3.landmarks['reference'].view_new()"
     ],
     "language": "python",
     "metadata": {},
     "outputs": [
      {
       "metadata": {},
       "output_type": "pyout",
       "prompt_number": 44,
       "text": [
        "<pybug.visualize.viewmatplotlib.MatplotlibLandmarkViewer2dImage at 0x23139b0d0>"
       ]
      }
     ],
     "prompt_number": 44
    },
    {
     "cell_type": "code",
     "collapsed": false,
     "input": [
      "test_image.landmarks['fa'] = optimal_transform_1.target\n",
      "test_image.landmarks['fc'] = optimal_transform_2.target\n",
      "test_image.landmarks['ic'] = optimal_transform_3.target\n",
      "\n",
      "test_image.landmarks['fa'].view_new()\n",
      "\n",
      "test_image.landmarks['fc'].view_new()\n",
      "\n",
      "test_image.landmarks['ic'].view_new()"
     ],
     "language": "python",
     "metadata": {},
     "outputs": [
      {
       "metadata": {},
       "output_type": "pyout",
       "prompt_number": 17,
       "text": [
        "<pybug.visualize.viewmatplotlib.MatplotlibLandmarkViewer2dImage at 0x1ba3bed0>"
       ]
      }
     ],
     "prompt_number": 17
    },
    {
     "cell_type": "code",
     "collapsed": false,
     "input": [
      "from pybug.transform.modeldriven import GlobalMDTransform\n",
      "from pybug.transform import SimilarityTransform\n",
      "import numpy as np\n",
      "\n",
      "ini_md_trans = []\n",
      "\n",
      "for s in shapes:\n",
      "    sim_trans = SimilarityTransform.align(shape_model.mean, s)\n",
      "    ini_md_trans.append(GlobalMDTransform(shape_model, PiecewiseAffineTransform, sim_trans, source=source))"
     ],
     "language": "python",
     "metadata": {},
     "outputs": [],
     "prompt_number": 47
    },
    {
     "cell_type": "code",
     "collapsed": false,
     "input": [
      "from pybug.image import MaskedNDImage\n",
      "gs_images = [MaskedNDImage(img.as_greyscale().pixels) for img in images]"
     ],
     "language": "python",
     "metadata": {},
     "outputs": [],
     "prompt_number": 48
    },
    {
     "cell_type": "code",
     "collapsed": false,
     "input": [
      "opt_trans_alternating = [deepcopy(fc.align(img, mdtrans.as_vector(), max_iters=50)) \n",
      "                         for img, mdtrans in zip(gs_images, ini_md_trans)]"
     ],
     "language": "python",
     "metadata": {},
     "outputs": [
      {
       "ename": "LinAlgError",
       "evalue": "singular matrix",
       "output_type": "pyerr",
       "traceback": [
        "\u001b[1;31m---------------------------------------------------------------------------\u001b[0m\n\u001b[1;31mLinAlgError\u001b[0m                               Traceback (most recent call last)",
        "\u001b[1;32m<ipython-input-49-b9cf272b2b77>\u001b[0m in \u001b[0;36m<module>\u001b[1;34m()\u001b[0m\n\u001b[0;32m      1\u001b[0m opt_trans_alternating = [deepcopy(fc.align(img, mdtrans.as_vector(), max_iters=50)) \n\u001b[1;32m----> 2\u001b[1;33m                          for img, mdtrans in zip(gs_images, ini_md_trans)]\n\u001b[0m",
        "\u001b[1;32m/vol/atlas/homes/ja310/.virtualenvs/pybug/src/pybug/pybug/lucaskanade/base.pyc\u001b[0m in \u001b[0;36malign\u001b[1;34m(self, image, params, max_iters, **kwargs)\u001b[0m\n\u001b[0;32m    161\u001b[0m         \u001b[0mself\u001b[0m\u001b[1;33m.\u001b[0m\u001b[0mparameters\u001b[0m \u001b[1;33m=\u001b[0m \u001b[1;33m[\u001b[0m\u001b[0mparams\u001b[0m\u001b[1;33m]\u001b[0m\u001b[1;33m\u001b[0m\u001b[0m\n\u001b[0;32m    162\u001b[0m         \u001b[0mself\u001b[0m\u001b[1;33m.\u001b[0m\u001b[0mimage\u001b[0m \u001b[1;33m=\u001b[0m \u001b[0mimage\u001b[0m\u001b[1;33m\u001b[0m\u001b[0m\n\u001b[1;32m--> 163\u001b[1;33m         \u001b[1;32mreturn\u001b[0m \u001b[0mself\u001b[0m\u001b[1;33m.\u001b[0m\u001b[0m_align\u001b[0m\u001b[1;33m(\u001b[0m\u001b[0mmax_iters\u001b[0m\u001b[1;33m,\u001b[0m \u001b[1;33m**\u001b[0m\u001b[0mkwargs\u001b[0m\u001b[1;33m)\u001b[0m\u001b[1;33m\u001b[0m\u001b[0m\n\u001b[0m\u001b[0;32m    164\u001b[0m \u001b[1;33m\u001b[0m\u001b[0m\n\u001b[0;32m    165\u001b[0m     \u001b[1;33m@\u001b[0m\u001b[0mabc\u001b[0m\u001b[1;33m.\u001b[0m\u001b[0mabstractmethod\u001b[0m\u001b[1;33m\u001b[0m\u001b[0m\n",
        "\u001b[1;32m/vol/atlas/homes/ja310/.virtualenvs/pybug/src/pybug/pybug/lucaskanade/appearance/alternating.pyc\u001b[0m in \u001b[0;36m_align\u001b[1;34m(self, max_iters)\u001b[0m\n\u001b[0;32m     85\u001b[0m \u001b[1;33m\u001b[0m\u001b[0m\n\u001b[0;32m     86\u001b[0m             \u001b[1;31m# Compute gradient descent parameter updates\u001b[0m\u001b[1;33m\u001b[0m\u001b[1;33m\u001b[0m\u001b[0m\n\u001b[1;32m---> 87\u001b[1;33m             \u001b[0mdelta_p\u001b[0m \u001b[1;33m=\u001b[0m \u001b[0mnp\u001b[0m\u001b[1;33m.\u001b[0m\u001b[0mreal\u001b[0m\u001b[1;33m(\u001b[0m\u001b[0mself\u001b[0m\u001b[1;33m.\u001b[0m\u001b[0m_calculate_delta_p\u001b[0m\u001b[1;33m(\u001b[0m\u001b[0msd_delta_p\u001b[0m\u001b[1;33m)\u001b[0m\u001b[1;33m)\u001b[0m\u001b[1;33m\u001b[0m\u001b[0m\n\u001b[0m\u001b[0;32m     88\u001b[0m \u001b[1;33m\u001b[0m\u001b[0m\n\u001b[0;32m     89\u001b[0m             \u001b[1;31m# Update warp parameters\u001b[0m\u001b[1;33m\u001b[0m\u001b[1;33m\u001b[0m\u001b[0m\n",
        "\u001b[1;32m/vol/atlas/homes/ja310/.virtualenvs/pybug/src/pybug/pybug/lucaskanade/base.pyc\u001b[0m in \u001b[0;36m_gauss_newton_update\u001b[1;34m(self, sd_delta_p)\u001b[0m\n\u001b[0;32m    115\u001b[0m \u001b[1;33m\u001b[0m\u001b[0m\n\u001b[0;32m    116\u001b[0m     \u001b[1;32mdef\u001b[0m \u001b[0m_gauss_newton_update\u001b[0m\u001b[1;33m(\u001b[0m\u001b[0mself\u001b[0m\u001b[1;33m,\u001b[0m \u001b[0msd_delta_p\u001b[0m\u001b[1;33m)\u001b[0m\u001b[1;33m:\u001b[0m\u001b[1;33m\u001b[0m\u001b[0m\n\u001b[1;32m--> 117\u001b[1;33m         \u001b[1;32mreturn\u001b[0m \u001b[0msolve\u001b[0m\u001b[1;33m(\u001b[0m\u001b[0mself\u001b[0m\u001b[1;33m.\u001b[0m\u001b[0m_H\u001b[0m\u001b[1;33m,\u001b[0m \u001b[0msd_delta_p\u001b[0m\u001b[1;33m)\u001b[0m\u001b[1;33m\u001b[0m\u001b[0m\n\u001b[0m\u001b[0;32m    118\u001b[0m \u001b[1;33m\u001b[0m\u001b[0m\n\u001b[0;32m    119\u001b[0m     \u001b[1;32mdef\u001b[0m \u001b[0m_gauss_newton_lp_update\u001b[0m\u001b[1;33m(\u001b[0m\u001b[0mself\u001b[0m\u001b[1;33m,\u001b[0m \u001b[0msd_delta_p\u001b[0m\u001b[1;33m)\u001b[0m\u001b[1;33m:\u001b[0m\u001b[1;33m\u001b[0m\u001b[0m\n",
        "\u001b[1;32m/vol/atlas/homes/ja310/.virtualenvs/pybug/local/lib/python2.7/site-packages/scipy/linalg/basic.pyc\u001b[0m in \u001b[0;36msolve\u001b[1;34m(a, b, sym_pos, lower, overwrite_a, overwrite_b, debug, check_finite)\u001b[0m\n\u001b[0;32m     98\u001b[0m         \u001b[1;32mreturn\u001b[0m \u001b[0mx\u001b[0m\u001b[1;33m\u001b[0m\u001b[0m\n\u001b[0;32m     99\u001b[0m     \u001b[1;32mif\u001b[0m \u001b[0minfo\u001b[0m \u001b[1;33m>\u001b[0m \u001b[1;36m0\u001b[0m\u001b[1;33m:\u001b[0m\u001b[1;33m\u001b[0m\u001b[0m\n\u001b[1;32m--> 100\u001b[1;33m         \u001b[1;32mraise\u001b[0m \u001b[0mLinAlgError\u001b[0m\u001b[1;33m(\u001b[0m\u001b[1;34m\"singular matrix\"\u001b[0m\u001b[1;33m)\u001b[0m\u001b[1;33m\u001b[0m\u001b[0m\n\u001b[0m\u001b[0;32m    101\u001b[0m     raise ValueError('illegal value in %d-th argument of internal gesv|posv'\n\u001b[0;32m    102\u001b[0m                                                                     % -info)\n",
        "\u001b[1;31mLinAlgError\u001b[0m: singular matrix"
       ]
      }
     ],
     "prompt_number": 49
    },
    {
     "cell_type": "code",
     "collapsed": false,
     "input": [
      "def compute_rmse(fitted, ground_truth):\n",
      "    return np.sqrt(np.mean((fitted.flatten() - ground_truth.flatten()) ** 2))\n",
      "\n",
      "  \n",
      "def compute_p2pe(fitted, ground_truth):\n",
      "    return np.mean(np.sqrt(np.sum((fitted - ground_truth) ** 2, axis=-1)))\n",
      "\n",
      "\n",
      "def compute_rame(fitted, ground_truth):\n",
      "    face_size = mean(np.max(ground_truth, axis=0) - np.min(ground_truth, axis=0))\n",
      "    return compute_p2pe(fitted, ground_truth) / face_size\n",
      "\n",
      "\n",
      "def compute_me17(fitted, ground_truth, leye, reye):\n",
      "    return (compute_p2pe(fitted, ground_truth) / \n",
      "            compute_p2pe(leye, reye))"
     ],
     "language": "python",
     "metadata": {},
     "outputs": []
    },
    {
     "cell_type": "code",
     "collapsed": false,
     "input": [
      "shapes_alternating = [t.target for t in opt_trans_alternating]\n",
      "error = np.array([compute_rame(a.points, s.points) for a, s in zip(shapes_alternating, shapes)])"
     ],
     "language": "python",
     "metadata": {},
     "outputs": []
    },
    {
     "cell_type": "code",
     "collapsed": false,
     "input": [
      "from __future__ import division\n",
      "\n",
      "stop = 0.05\n",
      "step = 0.001\n",
      "\n",
      "xs = np.arange(0, stop, step)\n",
      "cumulative_error = np.zeros_like(xs)\n",
      "\n",
      "for i, limit in enumerate(xs):\n",
      "    cumulative_error[i] = (np.count_nonzero(error < limit) / len(images))\n",
      "\n",
      "plot(xs, cumulative_error)"
     ],
     "language": "python",
     "metadata": {},
     "outputs": [
      {
       "metadata": {},
       "output_type": "pyout",
       "prompt_number": 50,
       "text": [
        "[<matplotlib.lines.Line2D at 0x174bc14d0>]"
       ]
      }
     ],
     "prompt_number": 50
    },
    {
     "cell_type": "code",
     "collapsed": false,
     "input": [
      "(np.count_nonzero(error < 0.02) / len(images))\n"
     ],
     "language": "python",
     "metadata": {},
     "outputs": [
      {
       "metadata": {},
       "output_type": "pyout",
       "prompt_number": 33,
       "text": [
        "0.0"
       ]
      }
     ],
     "prompt_number": 33
    },
    {
     "cell_type": "code",
     "collapsed": false,
     "input": [
      "ind = 4\n",
      "images[ind].landmarks['f'] = opt_trans_alternating[ind].target\n",
      "images[ind].landmarks['f'].view()\n",
      "gcf().set_size_inches((10,10))"
     ],
     "language": "python",
     "metadata": {},
     "outputs": [],
     "prompt_number": 40
    },
    {
     "cell_type": "code",
     "collapsed": false,
     "input": [],
     "language": "python",
     "metadata": {},
     "outputs": []
    }
   ],
   "metadata": {}
  }
 ]
}