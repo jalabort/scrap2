{
 "metadata": {
  "name": "",
  "signature": "sha256:4c3b40b7112c02d7db9e7235d4416a22c0b992337eee4c1dba353c3dbaab230d"
 },
 "nbformat": 3,
 "nbformat_minor": 0,
 "worksheets": [
  {
   "cells": [
    {
     "cell_type": "code",
     "collapsed": false,
     "input": [
      "import scipy.io\n",
      "import numpy as np\n",
      "from menpo.transform import Affine\n",
      "from menpo.fit.lucaskanade.image import ImageInverseCompositional\n",
      "from menpo.image import MaskedImage, BooleanImage\n",
      "from menpo.fit.lucaskanade.residual import *\n",
      "import matplotlib.pyplot as plt\n",
      "from menpo.math.convolution import log_gabor\n",
      "from collections import OrderedDict\n",
      "\n",
      "plot_size = (6, 6)"
     ],
     "language": "python",
     "metadata": {},
     "outputs": [],
     "prompt_number": 1
    },
    {
     "cell_type": "code",
     "collapsed": false,
     "input": [
      "def compute_rms_point_error(test_pts, template_affine, M):\n",
      "    iteration_pts = M.apply(template_affine.T)\n",
      "    diff_pts = test_pts - iteration_pts\n",
      "    return np.sqrt(np.mean(diff_pts ** 2))"
     ],
     "language": "python",
     "metadata": {},
     "outputs": [],
     "prompt_number": 2
    },
    {
     "cell_type": "code",
     "collapsed": false,
     "input": [
      "import pickle\n",
      "\n",
      "H = pickle.load(open('/data/PhD/Models/ConvFilt_PCA_NonCent_4x4_10comp_4levels', 'r' ))\n",
      "H = H"
     ],
     "language": "python",
     "metadata": {},
     "outputs": [],
     "prompt_number": 3
    },
    {
     "cell_type": "code",
     "collapsed": false,
     "input": [
      "def my_test_affine(tdata, pt_offsets, alg_list, n_iters, n_freq_tests, spatial_sigma, warp, verbose):\n",
      "    # tdata has three fields:\n",
      "    #     tdata.img1      greyscale target image\n",
      "    #     tdata.img2      greyscale template image\n",
      "    #     tdata.tmplt     [x_start y_start x_end y_end] template rectangle corners\n",
      "    #\n",
      "    # pt_offsets is a N x 6 matrix of (x1, y1, x2, y2, x3, y3) deltas for each\n",
      "    # of the three affine control points. Zero mean, unit variance,\n",
      "    #     pt_offsets = np.random.rand(N, 6)\n",
      "    #\n",
      "    # alg_list is an ordered dictionary of similarity measures to use:\n",
      "    #   {'String measure name', (MeasureClass, constructor params, constructor keyword arguments)}\n",
      "    # eg.\n",
      "    #   {'LeastSquares', (LeastSquares, None, None)}\n",
      "\n",
      "    # Target affine warp control points - triangle on the rectangle\n",
      "    target_affine = np.array([[tdata.tmplt[0], tdata.tmplt[1]],\n",
      "                             [tdata.tmplt[2], tdata.tmplt[1]],\n",
      "                             [tdata.tmplt[0] + ((tdata.tmplt[2] - tdata.tmplt[0]) / 2) - 0.5, tdata.tmplt[3]]])\n",
      "\n",
      "    # Template image dimensions (formerly had +1)\n",
      "    template_width = tdata.tmplt[2] - tdata.tmplt[0]\n",
      "    template_height = tdata.tmplt[3] - tdata.tmplt[1]\n",
      "    tmplt_shape = (template_height, template_width)\n",
      "\n",
      "    # Template affine warp control points\n",
      "    template_affine = np.array([[0, 0],\n",
      "                               [template_width, 0],\n",
      "                               [template_width / 2, template_height]])\n",
      "\n",
      "    # Initial warp parameters. Unperturbed translation\n",
      "    p_init = np.zeros([3, 3])\n",
      "    p_init[0, 2] = tdata.tmplt[1] - 1\n",
      "    p_init[1, 2] = tdata.tmplt[0] - 1\n",
      "\n",
      "    # Translate by 0.5 pixels to avoid identity warp. Warping introduces a little\n",
      "    # smoothing and this avoids the case where the first iteration for a forwards\n",
      "    # algorithm is on the \"unsmoothed\" unwarped image\n",
      "    p_init[0, 2] += 0.5\n",
      "    p_init[1, 2] += 0.5\n",
      "    \n",
      "    p_init = p_init[:2, :3].flatten(order='F')\n",
      "\n",
      "    # Pick a total of n_freq_tests point offsets from pt_offsets randomly\n",
      "    ind = np.floor(pt_offsets.shape[0] * np.random.rand(n_freq_tests, 1)).astype(np.uint32)\n",
      "    ind[ind == 0] = 1\n",
      "    # Uncomment this line to randomise the noise added\n",
      "    # pt_offsets1 = pt_offsets[ind, :]\n",
      "    pt_offsets1 = pt_offsets\n",
      "\n",
      "    # Scale point offsets to have required sigma\n",
      "    pt_offsets1 = pt_offsets1 * spatial_sigma\n",
      "\n",
      "    img = MaskedImage(tdata.img1)\n",
      "    results = {}\n",
      "        \n",
      "    # Rotate points for new ordering\n",
      "    template_affine = template_affine[:, ::-1]\n",
      "    M1 = np.vstack([template_affine.T, np.ones([1, template_affine.shape[0]])]).T\n",
      "    \n",
      "    base_transform = Affine(np.eye(3))\n",
      "    \n",
      "    # Run\n",
      "    for offset_idx in xrange(n_freq_tests):\n",
      "        # Test points: apply current point offset to target points\n",
      "        test_pts = target_affine + np.reshape(pt_offsets1[offset_idx, :], [3, 2])\n",
      "        # Rotate points for new ordering\n",
      "        test_pts = test_pts[:, ::-1]\n",
      "        \n",
      "        # Solve for affine warp\n",
      "        M2 = np.vstack([test_pts.T, np.ones([1, test_pts.shape[0]])]).T\n",
      "        M = np.linalg.solve(M1, M2).T\n",
      "\n",
      "        # Warp original image to get test \"template\" image\n",
      "        tmplt = MaskedImage(tdata.img2).warp_to(BooleanImage.blank(tmplt_shape), Affine(M))\n",
      "\n",
      "        if verbose:\n",
      "            print 'Initial RMS: {0}\\n'.format(compute_rms_point_error(test_pts, template_affine.T, Affine.identity(2).from_vector(p_init)))\n",
      "\n",
      "        # Run each algorithm\n",
      "        for sim_measure in alg_list:\n",
      "            # Allow the passing of arguments in to the instantiated class\n",
      "            clz = alg_list[sim_measure][0]\n",
      "            args = alg_list[sim_measure][1]\n",
      "            kwargs = alg_list[sim_measure][2]\n",
      "\n",
      "            if not args is None and not kwargs is None:\n",
      "                metric = clz(*args, **kwargs)\n",
      "            elif not args is None:\n",
      "                metric = clz(*args)\n",
      "            elif not kwargs is None:\n",
      "                metric = clz(**kwargs)\n",
      "            else:\n",
      "                metric = clz()\n",
      "\n",
      "            fr = ImageInverseCompositional(tmplt, metric, base_transform, interpolator='scipy').fit(img, p_init, max_iters=n_iters)\n",
      "            rms_pt_error = compute_rms_point_error(test_pts, template_affine.T, fr.final_transform)\n",
      "\n",
      "            if verbose:\n",
      "                print '{0}: {1}'.format(sim_measure, rms_pt_error)\n",
      "\n",
      "            if not sim_measure in results:\n",
      "                results[sim_measure] = []\n",
      "            measure_results = results[sim_measure]\n",
      "            measure_results.append(rms_pt_error)\n",
      "            results[sim_measure] = measure_results\n",
      "            \n",
      "        if verbose:\n",
      "            print '\\n'\n",
      "\n",
      "    return results"
     ],
     "language": "python",
     "metadata": {},
     "outputs": [],
     "prompt_number": 4
    },
    {
     "cell_type": "code",
     "collapsed": false,
     "input": [
      "%matplotlib inline\n",
      "# Load datasets\n",
      "np.set_printoptions(suppress=False, linewidth=600)\n",
      "pt_offset = scipy.io.loadmat('/data/matlabdev/face_recognition_2011/data/affine_pt_offset.mat')['pt_offset']\n",
      "yale_cropped = scipy.io.loadmat('/data/matlabdev/face_recognition_2011/data/myYaleCropped.mat')\n",
      "#yale_cropped = scipy.io.loadmat('/data/matlabdev/face_recognition_2011/data/myARCropped.mat')\n",
      "\n",
      "example_imgs = yale_cropped['example_imgs']\n",
      "coords = yale_cropped['coords'][0]\n",
      "tmplts = yale_cropped['tmplts']\n",
      "\n",
      "# Pre-compute\n",
      "tmplt_height = coords[3] - coords[1]\n",
      "tmplt_width = coords[2] - coords[0]\n",
      "\n",
      "num_of_subjs = tmplts.shape[2]\n",
      "num_of_imgs_per_subj = example_imgs.shape[2] / num_of_subjs\n",
      "#num_of_subjs = 27\n",
      "#num_of_imgs_per_subj = 3\n",
      "\n",
      "# Set up experiment variables\n",
      "verbose = True\n",
      "n_iters = 30                      # Number of gradient descent iterations\n",
      "n_freq_tests = 1                  # Number of frequency of convergence tests\n",
      "max_spatial_error = 3.0           # Max location error for deciding convergence\n",
      "all_spc_sig = np.arange(1, 11, 2)   # All spatial sigmas (1,10)\n",
      "warp = 'scipy'\n",
      "# Gabor variables\n",
      "blank_image = np.ones([tmplt_height, tmplt_width])\n",
      "\n",
      "alg_list = OrderedDict([#('LSIntensity', (LSIntensity, None, None)),\n",
      "                        #('ECC', (ECC, None, None)),\n",
      "                        #'IRLS': (IRLS, None, None),\n",
      "                        ('FourierSSD', (FourierSSD, [H], None)),\n",
      "                        ('GradientImages', (GradientImages, None, None)),\n",
      "                        ('GradientCorrelation', (GradientCorrelation, None, None))])\n",
      "\n",
      "# Matrix S for Gabor-Fourier method\n",
      "# Thanks to Peter Kovesi's Gabor Filters\n",
      "# http://www.csse.uwa.edu.au/~pk/\n",
      "#S = log_gabor(blank_image, num_orientations=32, num_scales=32)[2]\n",
      "#alg_list['GaborFourier'] = (GaborFourier, [S.shape], {'filter_bank': S})\n",
      "\n",
      "results = np.zeros([num_of_subjs, num_of_imgs_per_subj, len(all_spc_sig), len(alg_list)])"
     ],
     "language": "python",
     "metadata": {},
     "outputs": [],
     "prompt_number": 5
    },
    {
     "cell_type": "code",
     "collapsed": true,
     "input": [
      "# Run experiment for each subject\n",
      "for subj in xrange(num_of_subjs):\n",
      "    print 'Subject {0} of {1}\\n'.format(subj, num_of_subjs)\n",
      "    example_imgs_per_subj = example_imgs[:, :, num_of_imgs_per_subj * subj:num_of_imgs_per_subj * (subj + 1)]\n",
      "    #example_imgs_per_subj = example_imgs[0][num_of_imgs_per_subj * subj:num_of_imgs_per_subj * (subj + 1)]\n",
      "    tmplt = np.ascontiguousarray(tmplts[:, :, subj])\n",
      "    #tmplt = np.ascontiguousarray(tmplts[0][subj])\n",
      "    \n",
      "    for subj_img in xrange(num_of_imgs_per_subj):\n",
      "        print 'Image {0} of {1}\\n'.format(subj_img, num_of_imgs_per_subj)\n",
      "        tdata = lambda x: 0\n",
      "        tdata.img1 = np.ascontiguousarray(example_imgs_per_subj[:, :, subj_img])\n",
      "        #tdata.img1 = np.ascontiguousarray(example_imgs_per_subj[subj_img])\n",
      "        tdata.img2 = tmplt\n",
      "        tdata.tmplt = coords\n",
      "        \n",
      "        # Run tests\n",
      "        for sigma_ind, current_sigma in enumerate(all_spc_sig):\n",
      "            res = my_test_affine(tdata, pt_offset, alg_list, n_iters, n_freq_tests, current_sigma, warp, verbose)\n",
      "\n",
      "            for measure_ind, sim_measure in enumerate(alg_list):\n",
      "                measure_results = res[sim_measure]\n",
      "                # Get whether or not it converges\n",
      "                n_converge = len(filter(lambda error: error < max_spatial_error, measure_results))\n",
      "                results[subj, subj_img, sigma_ind, measure_ind] = n_converge\n",
      "\n",
      "\n",
      "# Save out results just in case\n",
      "scipy.io.savemat('results.mat', {'results': results})"
     ],
     "language": "python",
     "metadata": {},
     "outputs": [
      {
       "output_type": "stream",
       "stream": "stdout",
       "text": [
        "Subject 0 of 10\n",
        "\n",
        "Image 0 of 10\n",
        "\n",
        "Initial RMS: 1.01093871328\n",
        "\n",
        "FourierSSD: 41.1697157274"
       ]
      },
      {
       "output_type": "stream",
       "stream": "stdout",
       "text": [
        "\n",
        "GradientImages: 0.865044510456"
       ]
      },
      {
       "output_type": "stream",
       "stream": "stdout",
       "text": [
        "\n",
        "GradientCorrelation: 0.836766980307"
       ]
      },
      {
       "output_type": "stream",
       "stream": "stdout",
       "text": [
        "\n",
        "\n",
        "\n",
        "Initial RMS: 2.53457091822\n",
        "\n",
        "FourierSSD: 43.4348718233"
       ]
      },
      {
       "output_type": "stream",
       "stream": "stdout",
       "text": [
        "\n",
        "GradientImages: 0.870015347237"
       ]
      },
      {
       "output_type": "stream",
       "stream": "stdout",
       "text": [
        "\n",
        "GradientCorrelation: 0.854650605211"
       ]
      },
      {
       "output_type": "stream",
       "stream": "stdout",
       "text": [
        "\n",
        "\n",
        "\n",
        "Initial RMS: 4.10597969762\n",
        "\n",
        "FourierSSD: 39.4800648838"
       ]
      },
      {
       "output_type": "stream",
       "stream": "stdout",
       "text": [
        "\n",
        "GradientImages: 1.09214668327"
       ]
      },
      {
       "output_type": "stream",
       "stream": "stdout",
       "text": [
        "\n",
        "GradientCorrelation: 0.856969931822"
       ]
      },
      {
       "output_type": "stream",
       "stream": "stdout",
       "text": [
        "\n",
        "\n",
        "\n",
        "Initial RMS: 5.68568867379\n",
        "\n",
        "FourierSSD: 36.9422813041"
       ]
      },
      {
       "output_type": "stream",
       "stream": "stdout",
       "text": [
        "\n",
        "GradientImages: 3.75926631642"
       ]
      },
      {
       "output_type": "stream",
       "stream": "stdout",
       "text": [
        "\n",
        "GradientCorrelation: 0.834696350292"
       ]
      },
      {
       "output_type": "stream",
       "stream": "stdout",
       "text": [
        "\n",
        "\n",
        "\n",
        "Initial RMS: 7.26828789974\n",
        "\n",
        "FourierSSD: 36.1306816245"
       ]
      },
      {
       "output_type": "stream",
       "stream": "stdout",
       "text": [
        "\n",
        "GradientImages: 6.86978201398"
       ]
      },
      {
       "output_type": "stream",
       "stream": "stdout",
       "text": [
        "\n",
        "GradientCorrelation: 0.849869919851"
       ]
      },
      {
       "output_type": "stream",
       "stream": "stdout",
       "text": [
        "\n",
        "\n",
        "\n",
        "Image 1 of 10\n",
        "\n",
        "Initial RMS: 1.01093871328\n",
        "\n",
        "FourierSSD: 3.65668720288"
       ]
      },
      {
       "output_type": "stream",
       "stream": "stdout",
       "text": [
        "\n",
        "GradientImages: 0.720140222473"
       ]
      },
      {
       "output_type": "stream",
       "stream": "stdout",
       "text": [
        "\n",
        "GradientCorrelation: 0.486758477022"
       ]
      },
      {
       "output_type": "stream",
       "stream": "stdout",
       "text": [
        "\n",
        "\n",
        "\n",
        "Initial RMS: 2.53457091822\n",
        "\n",
        "FourierSSD: 3.63303921258"
       ]
      },
      {
       "output_type": "stream",
       "stream": "stdout",
       "text": [
        "\n",
        "GradientImages: 0.777218618743"
       ]
      },
      {
       "output_type": "stream",
       "stream": "stdout",
       "text": [
        "\n",
        "GradientCorrelation: 0.495008551558"
       ]
      },
      {
       "output_type": "stream",
       "stream": "stdout",
       "text": [
        "\n",
        "\n",
        "\n",
        "Initial RMS: 4.10597969762\n",
        "\n",
        "FourierSSD: 3.65728952574"
       ]
      },
      {
       "output_type": "stream",
       "stream": "stdout",
       "text": [
        "\n",
        "GradientImages: 3.87508586826"
       ]
      },
      {
       "output_type": "stream",
       "stream": "stdout",
       "text": [
        "\n",
        "GradientCorrelation: 0.520512768034"
       ]
      },
      {
       "output_type": "stream",
       "stream": "stdout",
       "text": [
        "\n",
        "\n",
        "\n",
        "Initial RMS: 5.68568867379\n",
        "\n",
        "FourierSSD: 3.71824361378"
       ]
      },
      {
       "output_type": "stream",
       "stream": "stdout",
       "text": [
        "\n",
        "GradientImages: 5.92144106315"
       ]
      },
      {
       "output_type": "stream",
       "stream": "stdout",
       "text": [
        "\n",
        "GradientCorrelation: 5.14611744747"
       ]
      },
      {
       "output_type": "stream",
       "stream": "stdout",
       "text": [
        "\n",
        "\n",
        "\n",
        "Initial RMS: 7.26828789974\n",
        "\n",
        "FourierSSD: 3.75953143893"
       ]
      },
      {
       "output_type": "stream",
       "stream": "stdout",
       "text": [
        "\n",
        "GradientImages: 7.55798419259"
       ]
      },
      {
       "output_type": "stream",
       "stream": "stdout",
       "text": [
        "\n",
        "GradientCorrelation: 7.46083882047"
       ]
      },
      {
       "output_type": "stream",
       "stream": "stdout",
       "text": [
        "\n",
        "\n",
        "\n",
        "Image 2 of 10\n",
        "\n",
        "Initial RMS: 1.01093871328\n",
        "\n",
        "FourierSSD: 21.1906414991"
       ]
      },
      {
       "output_type": "stream",
       "stream": "stdout",
       "text": [
        "\n",
        "GradientImages: 0.523123851918"
       ]
      },
      {
       "output_type": "stream",
       "stream": "stdout",
       "text": [
        "\n",
        "GradientCorrelation: 0.364647427749"
       ]
      },
      {
       "output_type": "stream",
       "stream": "stdout",
       "text": [
        "\n",
        "\n",
        "\n",
        "Initial RMS: 2.53457091822\n",
        "\n",
        "FourierSSD: 25.5774487424"
       ]
      },
      {
       "output_type": "stream",
       "stream": "stdout",
       "text": [
        "\n",
        "GradientImages: 0.51064919629"
       ]
      },
      {
       "output_type": "stream",
       "stream": "stdout",
       "text": [
        "\n",
        "GradientCorrelation: 0.365867612712"
       ]
      },
      {
       "output_type": "stream",
       "stream": "stdout",
       "text": [
        "\n",
        "\n",
        "\n",
        "Initial RMS: 4.10597969762\n",
        "\n",
        "FourierSSD: 26.2585436002"
       ]
      },
      {
       "output_type": "stream",
       "stream": "stdout",
       "text": [
        "\n",
        "GradientImages: 2.13016047307"
       ]
      },
      {
       "output_type": "stream",
       "stream": "stdout",
       "text": [
        "\n",
        "GradientCorrelation: 0.344600610044"
       ]
      },
      {
       "output_type": "stream",
       "stream": "stdout",
       "text": [
        "\n",
        "\n",
        "\n",
        "Initial RMS: 5.68568867379\n",
        "\n",
        "FourierSSD: 25.0935968017"
       ]
      },
      {
       "output_type": "stream",
       "stream": "stdout",
       "text": [
        "\n",
        "GradientImages: 5.78927566544"
       ]
      },
      {
       "output_type": "stream",
       "stream": "stdout",
       "text": [
        "\n",
        "GradientCorrelation: 0.352321026071"
       ]
      },
      {
       "output_type": "stream",
       "stream": "stdout",
       "text": [
        "\n",
        "\n",
        "\n",
        "Initial RMS: 7.26828789974\n",
        "\n",
        "FourierSSD: 18.2645857637"
       ]
      },
      {
       "output_type": "stream",
       "stream": "stdout",
       "text": [
        "\n",
        "GradientImages: 8.20783375934"
       ]
      },
      {
       "output_type": "stream",
       "stream": "stdout",
       "text": [
        "\n",
        "GradientCorrelation: 1.45222133787"
       ]
      },
      {
       "output_type": "stream",
       "stream": "stdout",
       "text": [
        "\n",
        "\n",
        "\n",
        "Image 3 of 10\n",
        "\n",
        "Initial RMS: 1.01093871328\n",
        "\n",
        "FourierSSD: 56.2738366017"
       ]
      },
      {
       "output_type": "stream",
       "stream": "stdout",
       "text": [
        "\n",
        "GradientImages: 0.387646440782"
       ]
      },
      {
       "output_type": "stream",
       "stream": "stdout",
       "text": [
        "\n",
        "GradientCorrelation: 0.331904475387"
       ]
      },
      {
       "output_type": "stream",
       "stream": "stdout",
       "text": [
        "\n",
        "\n",
        "\n",
        "Initial RMS: 2.53457091822\n",
        "\n",
        "FourierSSD: 62.7999285911"
       ]
      },
      {
       "output_type": "stream",
       "stream": "stdout",
       "text": [
        "\n",
        "GradientImages: 0.365473908583"
       ]
      },
      {
       "output_type": "stream",
       "stream": "stdout",
       "text": [
        "\n",
        "GradientCorrelation: 0.274407529484"
       ]
      },
      {
       "output_type": "stream",
       "stream": "stdout",
       "text": [
        "\n",
        "\n",
        "\n",
        "Initial RMS: 4.10597969762\n",
        "\n",
        "FourierSSD: 59.4311191035"
       ]
      },
      {
       "output_type": "stream",
       "stream": "stdout",
       "text": [
        "\n",
        "GradientImages: 0.355814483256"
       ]
      },
      {
       "output_type": "stream",
       "stream": "stdout",
       "text": [
        "\n",
        "GradientCorrelation: 0.265722358337"
       ]
      },
      {
       "output_type": "stream",
       "stream": "stdout",
       "text": [
        "\n",
        "\n",
        "\n",
        "Initial RMS: 5.68568867379\n",
        "\n",
        "FourierSSD: 57.9573399164"
       ]
      },
      {
       "output_type": "stream",
       "stream": "stdout",
       "text": [
        "\n",
        "GradientImages: 3.75022856095"
       ]
      },
      {
       "output_type": "stream",
       "stream": "stdout",
       "text": [
        "\n",
        "GradientCorrelation: 0.248587046918"
       ]
      },
      {
       "output_type": "stream",
       "stream": "stdout",
       "text": [
        "\n",
        "\n",
        "\n",
        "Initial RMS: 7.26828789974\n",
        "\n",
        "FourierSSD: 50.0601737303"
       ]
      },
      {
       "output_type": "stream",
       "stream": "stdout",
       "text": [
        "\n",
        "GradientImages: 6.45065816992"
       ]
      },
      {
       "output_type": "stream",
       "stream": "stdout",
       "text": [
        "\n",
        "GradientCorrelation: 0.230181742589"
       ]
      },
      {
       "output_type": "stream",
       "stream": "stdout",
       "text": [
        "\n",
        "\n",
        "\n",
        "Image 4 of 10\n",
        "\n",
        "Initial RMS: 1.01093871328\n",
        "\n",
        "FourierSSD: 55.0560788186"
       ]
      },
      {
       "output_type": "stream",
       "stream": "stdout",
       "text": [
        "\n",
        "GradientImages: 0.502361812153"
       ]
      },
      {
       "output_type": "stream",
       "stream": "stdout",
       "text": [
        "\n",
        "GradientCorrelation: 0.336904396152"
       ]
      },
      {
       "output_type": "stream",
       "stream": "stdout",
       "text": [
        "\n",
        "\n",
        "\n",
        "Initial RMS: 2.53457091822\n",
        "\n",
        "FourierSSD: 62.048556404"
       ]
      },
      {
       "output_type": "stream",
       "stream": "stdout",
       "text": [
        "\n",
        "GradientImages: 0.497414148078"
       ]
      },
      {
       "output_type": "stream",
       "stream": "stdout",
       "text": [
        "\n",
        "GradientCorrelation: 0.334798019813"
       ]
      },
      {
       "output_type": "stream",
       "stream": "stdout",
       "text": [
        "\n",
        "\n",
        "\n",
        "Initial RMS: 4.10597969762\n",
        "\n",
        "FourierSSD: 60.5066940677"
       ]
      },
      {
       "output_type": "stream",
       "stream": "stdout",
       "text": [
        "\n",
        "GradientImages: 0.474869454427"
       ]
      },
      {
       "output_type": "stream",
       "stream": "stdout",
       "text": [
        "\n",
        "GradientCorrelation: 0.31460956133"
       ]
      },
      {
       "output_type": "stream",
       "stream": "stdout",
       "text": [
        "\n",
        "\n",
        "\n",
        "Initial RMS: 5.68568867379\n",
        "\n",
        "FourierSSD: 57.8361281632"
       ]
      },
      {
       "output_type": "stream",
       "stream": "stdout",
       "text": [
        "\n",
        "GradientImages: 4.26058565795"
       ]
      },
      {
       "output_type": "stream",
       "stream": "stdout",
       "text": [
        "\n",
        "GradientCorrelation: 0.311008125102"
       ]
      },
      {
       "output_type": "stream",
       "stream": "stdout",
       "text": [
        "\n",
        "\n",
        "\n",
        "Initial RMS: 7.26828789974\n",
        "\n",
        "FourierSSD: 51.4719535603"
       ]
      },
      {
       "output_type": "stream",
       "stream": "stdout",
       "text": [
        "\n",
        "GradientImages: 7.25913316777"
       ]
      },
      {
       "output_type": "stream",
       "stream": "stdout",
       "text": [
        "\n",
        "GradientCorrelation: 0.331097388169"
       ]
      },
      {
       "output_type": "stream",
       "stream": "stdout",
       "text": [
        "\n",
        "\n",
        "\n",
        "Image 5 of 10\n",
        "\n",
        "Initial RMS: 1.01093871328\n",
        "\n",
        "FourierSSD: 12.7891350509"
       ]
      },
      {
       "output_type": "stream",
       "stream": "stdout",
       "text": [
        "\n",
        "GradientImages: 0.695844359586"
       ]
      },
      {
       "output_type": "stream",
       "stream": "stdout",
       "text": [
        "\n",
        "GradientCorrelation: 0.508978131174"
       ]
      },
      {
       "output_type": "stream",
       "stream": "stdout",
       "text": [
        "\n",
        "\n",
        "\n",
        "Initial RMS: 2.53457091822\n",
        "\n",
        "FourierSSD: 13.7051453331"
       ]
      },
      {
       "output_type": "stream",
       "stream": "stdout",
       "text": [
        "\n",
        "GradientImages: 0.748682537134"
       ]
      },
      {
       "output_type": "stream",
       "stream": "stdout",
       "text": [
        "\n",
        "GradientCorrelation: 0.491786426742"
       ]
      },
      {
       "output_type": "stream",
       "stream": "stdout",
       "text": [
        "\n",
        "\n",
        "\n",
        "Initial RMS: 4.10597969762\n",
        "\n",
        "FourierSSD: 14.3419915564"
       ]
      },
      {
       "output_type": "stream",
       "stream": "stdout",
       "text": [
        "\n",
        "GradientImages: 2.67532893787"
       ]
      },
      {
       "output_type": "stream",
       "stream": "stdout",
       "text": [
        "\n",
        "GradientCorrelation: 0.490916218853"
       ]
      },
      {
       "output_type": "stream",
       "stream": "stdout",
       "text": [
        "\n",
        "\n",
        "\n",
        "Initial RMS: 5.68568867379\n",
        "\n",
        "FourierSSD: 14.6878889139"
       ]
      },
      {
       "output_type": "stream",
       "stream": "stdout",
       "text": [
        "\n",
        "GradientImages: 5.7299304633"
       ]
      },
      {
       "output_type": "stream",
       "stream": "stdout",
       "text": [
        "\n",
        "GradientCorrelation: 1.28556599261"
       ]
      },
      {
       "output_type": "stream",
       "stream": "stdout",
       "text": [
        "\n",
        "\n",
        "\n",
        "Initial RMS: 7.26828789974\n",
        "\n",
        "FourierSSD: 15.2683679325"
       ]
      },
      {
       "output_type": "stream",
       "stream": "stdout",
       "text": [
        "\n",
        "GradientImages: 7.16592699558"
       ]
      },
      {
       "output_type": "stream",
       "stream": "stdout",
       "text": [
        "\n",
        "GradientCorrelation: 4.80645512404"
       ]
      },
      {
       "output_type": "stream",
       "stream": "stdout",
       "text": [
        "\n",
        "\n",
        "\n",
        "Image 6 of 10\n",
        "\n",
        "Initial RMS: 1.01093871328\n",
        "\n",
        "FourierSSD: 6.23650606265"
       ]
      },
      {
       "output_type": "stream",
       "stream": "stdout",
       "text": [
        "\n",
        "GradientImages: 0.625643066103"
       ]
      },
      {
       "output_type": "stream",
       "stream": "stdout",
       "text": [
        "\n",
        "GradientCorrelation: 0.428351530959"
       ]
      },
      {
       "output_type": "stream",
       "stream": "stdout",
       "text": [
        "\n",
        "\n",
        "\n",
        "Initial RMS: 2.53457091822\n",
        "\n",
        "FourierSSD: 6.46810731697"
       ]
      },
      {
       "output_type": "stream",
       "stream": "stdout",
       "text": [
        "\n",
        "GradientImages: 0.637440999124"
       ]
      },
      {
       "output_type": "stream",
       "stream": "stdout",
       "text": [
        "\n",
        "GradientCorrelation: 0.531176484984"
       ]
      },
      {
       "output_type": "stream",
       "stream": "stdout",
       "text": [
        "\n",
        "\n",
        "\n",
        "Initial RMS: 4.10597969762\n",
        "\n",
        "FourierSSD: 6.86842075906"
       ]
      },
      {
       "output_type": "stream",
       "stream": "stdout",
       "text": [
        "\n",
        "GradientImages: 1.47439551778"
       ]
      },
      {
       "output_type": "stream",
       "stream": "stdout",
       "text": [
        "\n",
        "GradientCorrelation: 0.43007691982"
       ]
      },
      {
       "output_type": "stream",
       "stream": "stdout",
       "text": [
        "\n",
        "\n",
        "\n",
        "Initial RMS: 5.68568867379\n",
        "\n",
        "FourierSSD: 7.70339364799"
       ]
      },
      {
       "output_type": "stream",
       "stream": "stdout",
       "text": [
        "\n",
        "GradientImages: 3.44640630843"
       ]
      },
      {
       "output_type": "stream",
       "stream": "stdout",
       "text": [
        "\n",
        "GradientCorrelation: 0.447232933465"
       ]
      },
      {
       "output_type": "stream",
       "stream": "stdout",
       "text": [
        "\n",
        "\n",
        "\n",
        "Initial RMS: 7.26828789974\n",
        "\n",
        "FourierSSD: 9.1371381423"
       ]
      },
      {
       "output_type": "stream",
       "stream": "stdout",
       "text": [
        "\n",
        "GradientImages: 6.18592395452"
       ]
      },
      {
       "output_type": "stream",
       "stream": "stdout",
       "text": [
        "\n",
        "GradientCorrelation: 0.434597656999"
       ]
      },
      {
       "output_type": "stream",
       "stream": "stdout",
       "text": [
        "\n",
        "\n",
        "\n",
        "Image 7 of 10\n",
        "\n",
        "Initial RMS: 1.01093871328\n",
        "\n",
        "FourierSSD: 53.245094314"
       ]
      },
      {
       "output_type": "stream",
       "stream": "stdout",
       "text": [
        "\n",
        "GradientImages: 0.55370858794"
       ]
      },
      {
       "output_type": "stream",
       "stream": "stdout",
       "text": [
        "\n",
        "GradientCorrelation: 0.381458969216"
       ]
      },
      {
       "output_type": "stream",
       "stream": "stdout",
       "text": [
        "\n",
        "\n",
        "\n",
        "Initial RMS: 2.53457091822\n",
        "\n",
        "FourierSSD: 55.1295606767"
       ]
      },
      {
       "output_type": "stream",
       "stream": "stdout",
       "text": [
        "\n",
        "GradientImages: 0.528851770782"
       ]
      },
      {
       "output_type": "stream",
       "stream": "stdout",
       "text": [
        "\n",
        "GradientCorrelation: 0.356695549779"
       ]
      },
      {
       "output_type": "stream",
       "stream": "stdout",
       "text": [
        "\n",
        "\n",
        "\n",
        "Initial RMS: 4.10597969762\n",
        "\n",
        "FourierSSD: 53.0627312613"
       ]
      },
      {
       "output_type": "stream",
       "stream": "stdout",
       "text": [
        "\n",
        "GradientImages: 1.56916553413"
       ]
      },
      {
       "output_type": "stream",
       "stream": "stdout",
       "text": [
        "\n",
        "GradientCorrelation: 0.388500304347"
       ]
      },
      {
       "output_type": "stream",
       "stream": "stdout",
       "text": [
        "\n",
        "\n",
        "\n",
        "Initial RMS: 5.68568867379\n",
        "\n",
        "FourierSSD: 52.8821609154"
       ]
      },
      {
       "output_type": "stream",
       "stream": "stdout",
       "text": [
        "\n",
        "GradientImages: 3.46486718776"
       ]
      },
      {
       "output_type": "stream",
       "stream": "stdout",
       "text": [
        "\n",
        "GradientCorrelation: 0.377912080036"
       ]
      },
      {
       "output_type": "stream",
       "stream": "stdout",
       "text": [
        "\n",
        "\n",
        "\n",
        "Initial RMS: 7.26828789974\n",
        "\n",
        "FourierSSD: 54.0399505412"
       ]
      },
      {
       "output_type": "stream",
       "stream": "stdout",
       "text": [
        "\n",
        "GradientImages: 6.49083458194"
       ]
      },
      {
       "output_type": "stream",
       "stream": "stdout",
       "text": [
        "\n",
        "GradientCorrelation: 0.373036497293"
       ]
      },
      {
       "output_type": "stream",
       "stream": "stdout",
       "text": [
        "\n",
        "\n",
        "\n",
        "Image 8 of 10\n",
        "\n",
        "Initial RMS: 1.01093871328\n",
        "\n",
        "FourierSSD: 62.184623757"
       ]
      },
      {
       "output_type": "stream",
       "stream": "stdout",
       "text": [
        "\n",
        "GradientImages: 0.452298069456"
       ]
      },
      {
       "output_type": "stream",
       "stream": "stdout",
       "text": [
        "\n",
        "GradientCorrelation: 0.375096108221"
       ]
      },
      {
       "output_type": "stream",
       "stream": "stdout",
       "text": [
        "\n",
        "\n",
        "\n",
        "Initial RMS: 2.53457091822\n",
        "\n",
        "FourierSSD: 62.2017788504"
       ]
      },
      {
       "output_type": "stream",
       "stream": "stdout",
       "text": [
        "\n",
        "GradientImages: 0.43262766997"
       ]
      },
      {
       "output_type": "stream",
       "stream": "stdout",
       "text": [
        "\n",
        "GradientCorrelation: 0.353321475169"
       ]
      },
      {
       "output_type": "stream",
       "stream": "stdout",
       "text": [
        "\n",
        "\n",
        "\n",
        "Initial RMS: 4.10597969762\n",
        "\n",
        "FourierSSD: 59.5781343458"
       ]
      },
      {
       "output_type": "stream",
       "stream": "stdout",
       "text": [
        "\n",
        "GradientImages: 0.803806405218"
       ]
      },
      {
       "output_type": "stream",
       "stream": "stdout",
       "text": [
        "\n",
        "GradientCorrelation: 0.346543389956"
       ]
      },
      {
       "output_type": "stream",
       "stream": "stdout",
       "text": [
        "\n",
        "\n",
        "\n",
        "Initial RMS: 5.68568867379\n",
        "\n",
        "FourierSSD: 58.2161506826"
       ]
      },
      {
       "output_type": "stream",
       "stream": "stdout",
       "text": [
        "\n",
        "GradientImages: 3.45970007449"
       ]
      },
      {
       "output_type": "stream",
       "stream": "stdout",
       "text": [
        "\n",
        "GradientCorrelation: 0.339272365893"
       ]
      },
      {
       "output_type": "stream",
       "stream": "stdout",
       "text": [
        "\n",
        "\n",
        "\n",
        "Initial RMS: 7.26828789974\n",
        "\n",
        "FourierSSD: 59.5771168743"
       ]
      },
      {
       "output_type": "stream",
       "stream": "stdout",
       "text": [
        "\n",
        "GradientImages: 5.65912061435"
       ]
      },
      {
       "output_type": "stream",
       "stream": "stdout",
       "text": [
        "\n",
        "GradientCorrelation: 0.361310563017"
       ]
      },
      {
       "output_type": "stream",
       "stream": "stdout",
       "text": [
        "\n",
        "\n",
        "\n",
        "Image 9 of 10\n",
        "\n",
        "Initial RMS: 1.01093871328\n",
        "\n",
        "FourierSSD: 51.0605882567"
       ]
      },
      {
       "output_type": "stream",
       "stream": "stdout",
       "text": [
        "\n",
        "GradientImages: 0.74373254748"
       ]
      },
      {
       "output_type": "stream",
       "stream": "stdout",
       "text": [
        "\n",
        "GradientCorrelation: 0.625957554337"
       ]
      },
      {
       "output_type": "stream",
       "stream": "stdout",
       "text": [
        "\n",
        "\n",
        "\n",
        "Initial RMS: 2.53457091822\n",
        "\n",
        "FourierSSD: 50.3862146658"
       ]
      },
      {
       "output_type": "stream",
       "stream": "stdout",
       "text": [
        "\n",
        "GradientImages: 0.701241970034"
       ]
      },
      {
       "output_type": "stream",
       "stream": "stdout",
       "text": [
        "\n",
        "GradientCorrelation: 0.569546276384"
       ]
      },
      {
       "output_type": "stream",
       "stream": "stdout",
       "text": [
        "\n",
        "\n",
        "\n",
        "Initial RMS: 4.10597969762\n",
        "\n",
        "FourierSSD: 43.939811046"
       ]
      },
      {
       "output_type": "stream",
       "stream": "stdout",
       "text": [
        "\n",
        "GradientImages: 0.838964420756"
       ]
      },
      {
       "output_type": "stream",
       "stream": "stdout",
       "text": [
        "\n",
        "GradientCorrelation: 0.550725255789"
       ]
      },
      {
       "output_type": "stream",
       "stream": "stdout",
       "text": [
        "\n",
        "\n",
        "\n",
        "Initial RMS: 5.68568867379\n",
        "\n",
        "FourierSSD: 38.7051940819"
       ]
      },
      {
       "output_type": "stream",
       "stream": "stdout",
       "text": [
        "\n",
        "GradientImages: 4.60818484825"
       ]
      },
      {
       "output_type": "stream",
       "stream": "stdout",
       "text": [
        "\n",
        "GradientCorrelation: 4.64107531632"
       ]
      },
      {
       "output_type": "stream",
       "stream": "stdout",
       "text": [
        "\n",
        "\n",
        "\n",
        "Initial RMS: 7.26828789974\n",
        "\n",
        "FourierSSD: 40.8656297034"
       ]
      },
      {
       "output_type": "stream",
       "stream": "stdout",
       "text": [
        "\n",
        "GradientImages: 6.05746454548"
       ]
      },
      {
       "output_type": "stream",
       "stream": "stdout",
       "text": [
        "\n",
        "GradientCorrelation: 5.00264603531"
       ]
      },
      {
       "output_type": "stream",
       "stream": "stdout",
       "text": [
        "\n",
        "\n",
        "\n",
        "Subject 1 of 10\n",
        "\n",
        "Image 0 of 10\n",
        "\n",
        "Initial RMS: 1.01093871328\n",
        "\n",
        "FourierSSD: 44.1883901432"
       ]
      },
      {
       "output_type": "stream",
       "stream": "stdout",
       "text": [
        "\n",
        "GradientImages: 0.427913736339"
       ]
      },
      {
       "output_type": "stream",
       "stream": "stdout",
       "text": [
        "\n",
        "GradientCorrelation: 0.416336159781"
       ]
      },
      {
       "output_type": "stream",
       "stream": "stdout",
       "text": [
        "\n",
        "\n",
        "\n",
        "Initial RMS: 2.53457091822\n",
        "\n",
        "FourierSSD: 44.6743549455"
       ]
      },
      {
       "output_type": "stream",
       "stream": "stdout",
       "text": [
        "\n",
        "GradientImages: 0.424904837207"
       ]
      },
      {
       "output_type": "stream",
       "stream": "stdout",
       "text": [
        "\n",
        "GradientCorrelation: 0.411037991328"
       ]
      },
      {
       "output_type": "stream",
       "stream": "stdout",
       "text": [
        "\n",
        "\n",
        "\n",
        "Initial RMS: 4.10597969762\n",
        "\n",
        "FourierSSD: 42.7620293277"
       ]
      },
      {
       "output_type": "stream",
       "stream": "stdout",
       "text": [
        "\n",
        "GradientImages: 0.407541329435"
       ]
      },
      {
       "output_type": "stream",
       "stream": "stdout",
       "text": [
        "\n",
        "GradientCorrelation: 0.403078659847"
       ]
      },
      {
       "output_type": "stream",
       "stream": "stdout",
       "text": [
        "\n",
        "\n",
        "\n",
        "Initial RMS: 5.68568867379\n",
        "\n",
        "FourierSSD: 40.1277154995"
       ]
      },
      {
       "output_type": "stream",
       "stream": "stdout",
       "text": [
        "\n",
        "GradientImages: 0.397821729701"
       ]
      },
      {
       "output_type": "stream",
       "stream": "stdout",
       "text": [
        "\n",
        "GradientCorrelation: 0.416690470382"
       ]
      },
      {
       "output_type": "stream",
       "stream": "stdout",
       "text": [
        "\n",
        "\n",
        "\n",
        "Initial RMS: 7.26828789974\n",
        "\n",
        "FourierSSD: 35.0631907474"
       ]
      },
      {
       "output_type": "stream",
       "stream": "stdout",
       "text": [
        "\n",
        "GradientImages: 4.75656771632"
       ]
      },
      {
       "output_type": "stream",
       "stream": "stdout",
       "text": [
        "\n",
        "GradientCorrelation: 0.429106623695"
       ]
      },
      {
       "output_type": "stream",
       "stream": "stdout",
       "text": [
        "\n",
        "\n",
        "\n",
        "Image 1 of 10\n",
        "\n",
        "Initial RMS: 1.01093871328\n",
        "\n",
        "FourierSSD: 3.16373839124"
       ]
      },
      {
       "output_type": "stream",
       "stream": "stdout",
       "text": [
        "\n",
        "GradientImages: 0.569573305976"
       ]
      },
      {
       "output_type": "stream",
       "stream": "stdout",
       "text": [
        "\n",
        "GradientCorrelation: 0.641786417877"
       ]
      },
      {
       "output_type": "stream",
       "stream": "stdout",
       "text": [
        "\n",
        "\n",
        "\n",
        "Initial RMS: 2.53457091822\n",
        "\n",
        "FourierSSD: 3.03994739217"
       ]
      },
      {
       "output_type": "stream",
       "stream": "stdout",
       "text": [
        "\n",
        "GradientImages: 0.560083094133"
       ]
      },
      {
       "output_type": "stream",
       "stream": "stdout",
       "text": [
        "\n",
        "GradientCorrelation: 0.651275942727"
       ]
      },
      {
       "output_type": "stream",
       "stream": "stdout",
       "text": [
        "\n",
        "\n",
        "\n",
        "Initial RMS: 4.10597969762\n",
        "\n",
        "FourierSSD: 2.66149503786"
       ]
      },
      {
       "output_type": "stream",
       "stream": "stdout",
       "text": [
        "\n",
        "GradientImages: 0.561273058747"
       ]
      },
      {
       "output_type": "stream",
       "stream": "stdout",
       "text": [
        "\n",
        "GradientCorrelation: 0.62914841366"
       ]
      },
      {
       "output_type": "stream",
       "stream": "stdout",
       "text": [
        "\n",
        "\n",
        "\n",
        "Initial RMS: 5.68568867379\n",
        "\n",
        "FourierSSD: 2.30386145062"
       ]
      },
      {
       "output_type": "stream",
       "stream": "stdout",
       "text": [
        "\n",
        "GradientImages: 3.65742297426"
       ]
      },
      {
       "output_type": "stream",
       "stream": "stdout",
       "text": [
        "\n",
        "GradientCorrelation: 0.66538502016"
       ]
      },
      {
       "output_type": "stream",
       "stream": "stdout",
       "text": [
        "\n",
        "\n",
        "\n",
        "Initial RMS: 7.26828789974\n",
        "\n",
        "FourierSSD: 2.19942166599"
       ]
      },
      {
       "output_type": "stream",
       "stream": "stdout",
       "text": [
        "\n",
        "GradientImages: 6.85621576386"
       ]
      },
      {
       "output_type": "stream",
       "stream": "stdout",
       "text": [
        "\n",
        "GradientCorrelation: 0.747803815114"
       ]
      },
      {
       "output_type": "stream",
       "stream": "stdout",
       "text": [
        "\n",
        "\n",
        "\n",
        "Image 2 of 10\n",
        "\n",
        "Initial RMS: 1.01093871328\n",
        "\n",
        "FourierSSD: 49.2573771504"
       ]
      },
      {
       "output_type": "stream",
       "stream": "stdout",
       "text": [
        "\n",
        "GradientImages: 0.343900620746"
       ]
      },
      {
       "output_type": "stream",
       "stream": "stdout",
       "text": [
        "\n",
        "GradientCorrelation: 0.515469720374"
       ]
      },
      {
       "output_type": "stream",
       "stream": "stdout",
       "text": [
        "\n",
        "\n",
        "\n",
        "Initial RMS: 2.53457091822\n",
        "\n",
        "FourierSSD: 43.6557392521"
       ]
      },
      {
       "output_type": "stream",
       "stream": "stdout",
       "text": [
        "\n",
        "GradientImages: 0.361112899956"
       ]
      },
      {
       "output_type": "stream",
       "stream": "stdout",
       "text": [
        "\n",
        "GradientCorrelation: 0.4689722398"
       ]
      },
      {
       "output_type": "stream",
       "stream": "stdout",
       "text": [
        "\n",
        "\n",
        "\n",
        "Initial RMS: 4.10597969762\n",
        "\n",
        "FourierSSD: 40.4848635741"
       ]
      },
      {
       "output_type": "stream",
       "stream": "stdout",
       "text": [
        "\n",
        "GradientImages: 0.321979999515"
       ]
      },
      {
       "output_type": "stream",
       "stream": "stdout",
       "text": [
        "\n",
        "GradientCorrelation: 0.492075083655"
       ]
      },
      {
       "output_type": "stream",
       "stream": "stdout",
       "text": [
        "\n",
        "\n",
        "\n",
        "Initial RMS: 5.68568867379\n",
        "\n",
        "FourierSSD: 7.87710417441"
       ]
      },
      {
       "output_type": "stream",
       "stream": "stdout",
       "text": [
        "\n",
        "GradientImages: 2.59374412339"
       ]
      },
      {
       "output_type": "stream",
       "stream": "stdout",
       "text": [
        "\n",
        "GradientCorrelation: 0.510206213673"
       ]
      },
      {
       "output_type": "stream",
       "stream": "stdout",
       "text": [
        "\n",
        "\n",
        "\n",
        "Initial RMS: 7.26828789974\n",
        "\n",
        "FourierSSD: 5.31725316673"
       ]
      },
      {
       "output_type": "stream",
       "stream": "stdout",
       "text": [
        "\n",
        "GradientImages: 5.47434241833"
       ]
      },
      {
       "output_type": "stream",
       "stream": "stdout",
       "text": [
        "\n",
        "GradientCorrelation: 0.501659715269"
       ]
      },
      {
       "output_type": "stream",
       "stream": "stdout",
       "text": [
        "\n",
        "\n",
        "\n",
        "Image 3 of 10\n",
        "\n",
        "Initial RMS: 1.01093871328\n",
        "\n",
        "FourierSSD: 55.601768437"
       ]
      },
      {
       "output_type": "stream",
       "stream": "stdout",
       "text": [
        "\n",
        "GradientImages: 0.383468178062"
       ]
      },
      {
       "output_type": "stream",
       "stream": "stdout",
       "text": [
        "\n",
        "GradientCorrelation: 0.474289238504"
       ]
      },
      {
       "output_type": "stream",
       "stream": "stdout",
       "text": [
        "\n",
        "\n",
        "\n",
        "Initial RMS: 2.53457091822\n",
        "\n",
        "FourierSSD: 57.9824876806"
       ]
      },
      {
       "output_type": "stream",
       "stream": "stdout",
       "text": [
        "\n",
        "GradientImages: 0.389867749234"
       ]
      },
      {
       "output_type": "stream",
       "stream": "stdout",
       "text": [
        "\n",
        "GradientCorrelation: 0.546641083377"
       ]
      },
      {
       "output_type": "stream",
       "stream": "stdout",
       "text": [
        "\n",
        "\n",
        "\n",
        "Initial RMS: 4.10597969762\n",
        "\n",
        "FourierSSD: 57.8595299397"
       ]
      },
      {
       "output_type": "stream",
       "stream": "stdout",
       "text": [
        "\n",
        "GradientImages: 0.400307452206"
       ]
      },
      {
       "output_type": "stream",
       "stream": "stdout",
       "text": [
        "\n",
        "GradientCorrelation: 0.518977591635"
       ]
      },
      {
       "output_type": "stream",
       "stream": "stdout",
       "text": [
        "\n",
        "\n",
        "\n",
        "Initial RMS: 5.68568867379\n",
        "\n",
        "FourierSSD: 56.1832165212"
       ]
      },
      {
       "output_type": "stream",
       "stream": "stdout",
       "text": [
        "\n",
        "GradientImages: 0.651622144528"
       ]
      },
      {
       "output_type": "stream",
       "stream": "stdout",
       "text": [
        "\n",
        "GradientCorrelation: 0.43016501701"
       ]
      },
      {
       "output_type": "stream",
       "stream": "stdout",
       "text": [
        "\n",
        "\n",
        "\n",
        "Initial RMS: 7.26828789974\n",
        "\n",
        "FourierSSD: 51.9229256996"
       ]
      },
      {
       "output_type": "stream",
       "stream": "stdout",
       "text": [
        "\n",
        "GradientImages: 4.481368682"
       ]
      },
      {
       "output_type": "stream",
       "stream": "stdout",
       "text": [
        "\n",
        "GradientCorrelation: 0.484621028288"
       ]
      },
      {
       "output_type": "stream",
       "stream": "stdout",
       "text": [
        "\n",
        "\n",
        "\n",
        "Image 4 of 10\n",
        "\n",
        "Initial RMS: 1.01093871328\n",
        "\n",
        "FourierSSD: 36.1201516269"
       ]
      },
      {
       "output_type": "stream",
       "stream": "stdout",
       "text": [
        "\n",
        "GradientImages: 0.524060865727"
       ]
      },
      {
       "output_type": "stream",
       "stream": "stdout",
       "text": [
        "\n",
        "GradientCorrelation: 0.691095108361"
       ]
      },
      {
       "output_type": "stream",
       "stream": "stdout",
       "text": [
        "\n",
        "\n",
        "\n",
        "Initial RMS: 2.53457091822\n",
        "\n",
        "FourierSSD: 39.5888487588"
       ]
      },
      {
       "output_type": "stream",
       "stream": "stdout",
       "text": [
        "\n",
        "GradientImages: 0.514913745335"
       ]
      },
      {
       "output_type": "stream",
       "stream": "stdout",
       "text": [
        "\n",
        "GradientCorrelation: 0.655836292568"
       ]
      },
      {
       "output_type": "stream",
       "stream": "stdout",
       "text": [
        "\n",
        "\n",
        "\n",
        "Initial RMS: 4.10597969762\n",
        "\n",
        "FourierSSD: 40.8118354798"
       ]
      },
      {
       "output_type": "stream",
       "stream": "stdout",
       "text": [
        "\n",
        "GradientImages: 0.507912964883"
       ]
      },
      {
       "output_type": "stream",
       "stream": "stdout",
       "text": [
        "\n",
        "GradientCorrelation: 0.607525512716"
       ]
      },
      {
       "output_type": "stream",
       "stream": "stdout",
       "text": [
        "\n",
        "\n",
        "\n",
        "Initial RMS: 5.68568867379\n",
        "\n",
        "FourierSSD: 39.2804673324"
       ]
      },
      {
       "output_type": "stream",
       "stream": "stdout",
       "text": [
        "\n",
        "GradientImages: 1.98587408658"
       ]
      },
      {
       "output_type": "stream",
       "stream": "stdout",
       "text": [
        "\n",
        "GradientCorrelation: 0.582623656323"
       ]
      },
      {
       "output_type": "stream",
       "stream": "stdout",
       "text": [
        "\n",
        "\n",
        "\n",
        "Initial RMS: 7.26828789974\n",
        "\n",
        "FourierSSD: 33.4598705199"
       ]
      },
      {
       "output_type": "stream",
       "stream": "stdout",
       "text": [
        "\n",
        "GradientImages: 5.45609676766"
       ]
      },
      {
       "output_type": "stream",
       "stream": "stdout",
       "text": [
        "\n",
        "GradientCorrelation: 0.713590941065"
       ]
      },
      {
       "output_type": "stream",
       "stream": "stdout",
       "text": [
        "\n",
        "\n",
        "\n",
        "Image 5 of 10\n",
        "\n",
        "Initial RMS: 1.01093871328\n",
        "\n",
        "FourierSSD: 3.44047580092"
       ]
      },
      {
       "output_type": "stream",
       "stream": "stdout",
       "text": [
        "\n",
        "GradientImages: 0.226141366668"
       ]
      },
      {
       "output_type": "stream",
       "stream": "stdout",
       "text": [
        "\n",
        "GradientCorrelation: 0.258874659865"
       ]
      },
      {
       "output_type": "stream",
       "stream": "stdout",
       "text": [
        "\n",
        "\n",
        "\n",
        "Initial RMS: 2.53457091822\n",
        "\n",
        "FourierSSD: 3.28738275856"
       ]
      },
      {
       "output_type": "stream",
       "stream": "stdout",
       "text": [
        "\n",
        "GradientImages: 0.207727551201"
       ]
      },
      {
       "output_type": "stream",
       "stream": "stdout",
       "text": [
        "\n",
        "GradientCorrelation: 0.257596258533"
       ]
      },
      {
       "output_type": "stream",
       "stream": "stdout",
       "text": [
        "\n",
        "\n",
        "\n",
        "Initial RMS: 4.10597969762\n",
        "\n",
        "FourierSSD: 3.0752877964"
       ]
      },
      {
       "output_type": "stream",
       "stream": "stdout",
       "text": [
        "\n",
        "GradientImages: 0.222985972664"
       ]
      },
      {
       "output_type": "stream",
       "stream": "stdout",
       "text": [
        "\n",
        "GradientCorrelation: 0.254255276534"
       ]
      },
      {
       "output_type": "stream",
       "stream": "stdout",
       "text": [
        "\n",
        "\n",
        "\n",
        "Initial RMS: 5.68568867379\n",
        "\n",
        "FourierSSD: 2.91860939949"
       ]
      },
      {
       "output_type": "stream",
       "stream": "stdout",
       "text": [
        "\n",
        "GradientImages: 2.42076876007"
       ]
      },
      {
       "output_type": "stream",
       "stream": "stdout",
       "text": [
        "\n",
        "GradientCorrelation: 0.275352818981"
       ]
      },
      {
       "output_type": "stream",
       "stream": "stdout",
       "text": [
        "\n",
        "\n",
        "\n",
        "Initial RMS: 7.26828789974\n",
        "\n",
        "FourierSSD: 2.85428523284"
       ]
      },
      {
       "output_type": "stream",
       "stream": "stdout",
       "text": [
        "\n",
        "GradientImages: 7.13853060381"
       ]
      },
      {
       "output_type": "stream",
       "stream": "stdout",
       "text": [
        "\n",
        "GradientCorrelation: 2.42965868905"
       ]
      },
      {
       "output_type": "stream",
       "stream": "stdout",
       "text": [
        "\n",
        "\n",
        "\n",
        "Image 6 of 10\n",
        "\n",
        "Initial RMS: 1.01093871328\n",
        "\n",
        "FourierSSD: 3.29405043248"
       ]
      },
      {
       "output_type": "stream",
       "stream": "stdout",
       "text": [
        "\n",
        "GradientImages: 0.694117693585"
       ]
      },
      {
       "output_type": "stream",
       "stream": "stdout",
       "text": [
        "\n",
        "GradientCorrelation: 0.414685038617"
       ]
      },
      {
       "output_type": "stream",
       "stream": "stdout",
       "text": [
        "\n",
        "\n",
        "\n",
        "Initial RMS: 2.53457091822\n",
        "\n",
        "FourierSSD: 3.24549893627"
       ]
      },
      {
       "output_type": "stream",
       "stream": "stdout",
       "text": [
        "\n",
        "GradientImages: 0.735769145098"
       ]
      },
      {
       "output_type": "stream",
       "stream": "stdout",
       "text": [
        "\n",
        "GradientCorrelation: 0.458484588994"
       ]
      },
      {
       "output_type": "stream",
       "stream": "stdout",
       "text": [
        "\n",
        "\n",
        "\n",
        "Initial RMS: 4.10597969762\n",
        "\n",
        "FourierSSD: 3.23743344757"
       ]
      },
      {
       "output_type": "stream",
       "stream": "stdout",
       "text": [
        "\n",
        "GradientImages: 0.94685539292"
       ]
      },
      {
       "output_type": "stream",
       "stream": "stdout",
       "text": [
        "\n",
        "GradientCorrelation: 0.443534382892"
       ]
      },
      {
       "output_type": "stream",
       "stream": "stdout",
       "text": [
        "\n",
        "\n",
        "\n",
        "Initial RMS: 5.68568867379\n",
        "\n",
        "FourierSSD: 3.13546445915"
       ]
      },
      {
       "output_type": "stream",
       "stream": "stdout",
       "text": [
        "\n",
        "GradientImages: 1.94618534979"
       ]
      },
      {
       "output_type": "stream",
       "stream": "stdout",
       "text": [
        "\n",
        "GradientCorrelation: 0.396922697326"
       ]
      },
      {
       "output_type": "stream",
       "stream": "stdout",
       "text": [
        "\n",
        "\n",
        "\n",
        "Initial RMS: 7.26828789974\n",
        "\n",
        "FourierSSD: 3.23779924203"
       ]
      },
      {
       "output_type": "stream",
       "stream": "stdout",
       "text": [
        "\n",
        "GradientImages: 4.87199963236"
       ]
      },
      {
       "output_type": "stream",
       "stream": "stdout",
       "text": [
        "\n",
        "GradientCorrelation: 0.37611139017"
       ]
      },
      {
       "output_type": "stream",
       "stream": "stdout",
       "text": [
        "\n",
        "\n",
        "\n",
        "Image 7 of 10\n",
        "\n",
        "Initial RMS: 1.01093871328\n",
        "\n",
        "FourierSSD: 10.1738365835"
       ]
      },
      {
       "output_type": "stream",
       "stream": "stdout",
       "text": [
        "\n",
        "GradientImages: 0.901845156991"
       ]
      },
      {
       "output_type": "stream",
       "stream": "stdout",
       "text": [
        "\n",
        "GradientCorrelation: 0.925776530282"
       ]
      },
      {
       "output_type": "stream",
       "stream": "stdout",
       "text": [
        "\n",
        "\n",
        "\n",
        "Initial RMS: 2.53457091822\n",
        "\n",
        "FourierSSD: 9.60978292221"
       ]
      },
      {
       "output_type": "stream",
       "stream": "stdout",
       "text": [
        "\n",
        "GradientImages: 0.911656039702"
       ]
      },
      {
       "output_type": "stream",
       "stream": "stdout",
       "text": [
        "\n",
        "GradientCorrelation: 0.958856428091"
       ]
      },
      {
       "output_type": "stream",
       "stream": "stdout",
       "text": [
        "\n",
        "\n",
        "\n",
        "Initial RMS: 4.10597969762\n",
        "\n",
        "FourierSSD: 8.61211812715"
       ]
      },
      {
       "output_type": "stream",
       "stream": "stdout",
       "text": [
        "\n",
        "GradientImages: 1.13607007669"
       ]
      },
      {
       "output_type": "stream",
       "stream": "stdout",
       "text": [
        "\n",
        "GradientCorrelation: 0.944884328062"
       ]
      },
      {
       "output_type": "stream",
       "stream": "stdout",
       "text": [
        "\n",
        "\n",
        "\n",
        "Initial RMS: 5.68568867379\n",
        "\n",
        "FourierSSD: 8.27845026637"
       ]
      },
      {
       "output_type": "stream",
       "stream": "stdout",
       "text": [
        "\n",
        "GradientImages: 2.83631218999"
       ]
      },
      {
       "output_type": "stream",
       "stream": "stdout",
       "text": [
        "\n",
        "GradientCorrelation: 0.962534991619"
       ]
      },
      {
       "output_type": "stream",
       "stream": "stdout",
       "text": [
        "\n",
        "\n",
        "\n",
        "Initial RMS: 7.26828789974\n",
        "\n",
        "FourierSSD: 8.27544083966"
       ]
      },
      {
       "output_type": "stream",
       "stream": "stdout",
       "text": [
        "\n",
        "GradientImages: 5.34061744987"
       ]
      },
      {
       "output_type": "stream",
       "stream": "stdout",
       "text": [
        "\n",
        "GradientCorrelation: 0.964182866286"
       ]
      },
      {
       "output_type": "stream",
       "stream": "stdout",
       "text": [
        "\n",
        "\n",
        "\n",
        "Image 8 of 10\n",
        "\n",
        "Initial RMS: 1.01093871328\n",
        "\n",
        "FourierSSD: 10.0982091849"
       ]
      },
      {
       "output_type": "stream",
       "stream": "stdout",
       "text": [
        "\n",
        "GradientImages: 0.8358411217"
       ]
      },
      {
       "output_type": "stream",
       "stream": "stdout",
       "text": [
        "\n",
        "GradientCorrelation: 0.960732985016"
       ]
      },
      {
       "output_type": "stream",
       "stream": "stdout",
       "text": [
        "\n",
        "\n",
        "\n",
        "Initial RMS: 2.53457091822\n",
        "\n",
        "FourierSSD: 10.2643932641"
       ]
      },
      {
       "output_type": "stream",
       "stream": "stdout",
       "text": [
        "\n",
        "GradientImages: 0.830249395378"
       ]
      },
      {
       "output_type": "stream",
       "stream": "stdout",
       "text": [
        "\n",
        "GradientCorrelation: 0.977048677162"
       ]
      },
      {
       "output_type": "stream",
       "stream": "stdout",
       "text": [
        "\n",
        "\n",
        "\n",
        "Initial RMS: 4.10597969762\n",
        "\n",
        "FourierSSD: 10.660109355"
       ]
      },
      {
       "output_type": "stream",
       "stream": "stdout",
       "text": [
        "\n",
        "GradientImages: 1.01261036816"
       ]
      },
      {
       "output_type": "stream",
       "stream": "stdout",
       "text": [
        "\n",
        "GradientCorrelation: 0.97048875864"
       ]
      },
      {
       "output_type": "stream",
       "stream": "stdout",
       "text": [
        "\n",
        "\n",
        "\n",
        "Initial RMS: 5.68568867379\n",
        "\n",
        "FourierSSD: 10.9631838057"
       ]
      },
      {
       "output_type": "stream",
       "stream": "stdout",
       "text": [
        "\n",
        "GradientImages: 3.1995969525"
       ]
      },
      {
       "output_type": "stream",
       "stream": "stdout",
       "text": [
        "\n",
        "GradientCorrelation: 0.987376751257"
       ]
      },
      {
       "output_type": "stream",
       "stream": "stdout",
       "text": [
        "\n",
        "\n",
        "\n",
        "Initial RMS: 7.26828789974\n",
        "\n",
        "FourierSSD: 11.3824516577"
       ]
      },
      {
       "output_type": "stream",
       "stream": "stdout",
       "text": [
        "\n",
        "GradientImages: 5.26931872891"
       ]
      },
      {
       "output_type": "stream",
       "stream": "stdout",
       "text": [
        "\n",
        "GradientCorrelation: 0.987824551089"
       ]
      },
      {
       "output_type": "stream",
       "stream": "stdout",
       "text": [
        "\n",
        "\n",
        "\n",
        "Image 9 of 10\n",
        "\n",
        "Initial RMS: 1.01093871328\n",
        "\n",
        "FourierSSD: 32.6964976487"
       ]
      },
      {
       "output_type": "stream",
       "stream": "stdout",
       "text": [
        "\n",
        "GradientImages: 1.04313380043"
       ]
      },
      {
       "output_type": "stream",
       "stream": "stdout",
       "text": [
        "\n",
        "GradientCorrelation: 1.16114068393"
       ]
      },
      {
       "output_type": "stream",
       "stream": "stdout",
       "text": [
        "\n",
        "\n",
        "\n",
        "Initial RMS: 2.53457091822\n",
        "\n",
        "FourierSSD: 30.6736347839"
       ]
      },
      {
       "output_type": "stream",
       "stream": "stdout",
       "text": [
        "\n",
        "GradientImages: 1.03812875595"
       ]
      },
      {
       "output_type": "stream",
       "stream": "stdout",
       "text": [
        "\n",
        "GradientCorrelation: 1.15482888637"
       ]
      },
      {
       "output_type": "stream",
       "stream": "stdout",
       "text": [
        "\n",
        "\n",
        "\n",
        "Initial RMS: 4.10597969762\n",
        "\n",
        "FourierSSD: 19.4096541756"
       ]
      },
      {
       "output_type": "stream",
       "stream": "stdout",
       "text": [
        "\n",
        "GradientImages: 1.02399367235"
       ]
      },
      {
       "output_type": "stream",
       "stream": "stdout",
       "text": [
        "\n",
        "GradientCorrelation: 1.13211860782"
       ]
      },
      {
       "output_type": "stream",
       "stream": "stdout",
       "text": [
        "\n",
        "\n",
        "\n",
        "Initial RMS: 5.68568867379\n",
        "\n",
        "FourierSSD: 19.7716245431"
       ]
      },
      {
       "output_type": "stream",
       "stream": "stdout",
       "text": [
        "\n",
        "GradientImages: 2.33468225595"
       ]
      },
      {
       "output_type": "stream",
       "stream": "stdout",
       "text": [
        "\n",
        "GradientCorrelation: 1.13952235086"
       ]
      },
      {
       "output_type": "stream",
       "stream": "stdout",
       "text": [
        "\n",
        "\n",
        "\n",
        "Initial RMS: 7.26828789974\n",
        "\n",
        "FourierSSD: 21.9202711768"
       ]
      },
      {
       "output_type": "stream",
       "stream": "stdout",
       "text": [
        "\n",
        "GradientImages: 5.57020359523"
       ]
      },
      {
       "output_type": "stream",
       "stream": "stdout",
       "text": [
        "\n",
        "GradientCorrelation: 5.02259067655"
       ]
      },
      {
       "output_type": "stream",
       "stream": "stdout",
       "text": [
        "\n",
        "\n",
        "\n",
        "Subject 2 of 10\n",
        "\n",
        "Image 0 of 10\n",
        "\n",
        "Initial RMS: 1.01093871328\n",
        "\n",
        "FourierSSD: 39.9645028959"
       ]
      },
      {
       "output_type": "stream",
       "stream": "stdout",
       "text": [
        "\n",
        "GradientImages: 1.39808550938"
       ]
      },
      {
       "output_type": "stream",
       "stream": "stdout",
       "text": [
        "\n",
        "GradientCorrelation: 1.41368376833"
       ]
      },
      {
       "output_type": "stream",
       "stream": "stdout",
       "text": [
        "\n",
        "\n",
        "\n",
        "Initial RMS: 2.53457091822\n",
        "\n",
        "FourierSSD: 38.6179693993"
       ]
      },
      {
       "output_type": "stream",
       "stream": "stdout",
       "text": [
        "\n",
        "GradientImages: 1.38960634664"
       ]
      },
      {
       "output_type": "stream",
       "stream": "stdout",
       "text": [
        "\n",
        "GradientCorrelation: 1.39974593159"
       ]
      },
      {
       "output_type": "stream",
       "stream": "stdout",
       "text": [
        "\n",
        "\n",
        "\n",
        "Initial RMS: 4.10597969762\n",
        "\n",
        "FourierSSD: 35.6978244583"
       ]
      },
      {
       "output_type": "stream",
       "stream": "stdout",
       "text": [
        "\n",
        "GradientImages: 1.36317952739"
       ]
      },
      {
       "output_type": "stream",
       "stream": "stdout",
       "text": [
        "\n",
        "GradientCorrelation: 1.39942637763"
       ]
      },
      {
       "output_type": "stream",
       "stream": "stdout",
       "text": [
        "\n",
        "\n",
        "\n",
        "Initial RMS: 5.68568867379\n",
        "\n",
        "FourierSSD: 31.9594152035"
       ]
      },
      {
       "output_type": "stream",
       "stream": "stdout",
       "text": [
        "\n",
        "GradientImages: 4.55188513171"
       ]
      },
      {
       "output_type": "stream",
       "stream": "stdout",
       "text": [
        "\n",
        "GradientCorrelation: 1.39148402538"
       ]
      },
      {
       "output_type": "stream",
       "stream": "stdout",
       "text": [
        "\n",
        "\n",
        "\n",
        "Initial RMS: 7.26828789974\n",
        "\n",
        "FourierSSD: 28.303183921"
       ]
      },
      {
       "output_type": "stream",
       "stream": "stdout",
       "text": [
        "\n",
        "GradientImages: 6.87887266593"
       ]
      },
      {
       "output_type": "stream",
       "stream": "stdout",
       "text": [
        "\n",
        "GradientCorrelation: 1.40222518818"
       ]
      },
      {
       "output_type": "stream",
       "stream": "stdout",
       "text": [
        "\n",
        "\n",
        "\n",
        "Image 1 of 10\n",
        "\n",
        "Initial RMS: 1.01093871328\n",
        "\n",
        "FourierSSD: 7.60659026533"
       ]
      },
      {
       "output_type": "stream",
       "stream": "stdout",
       "text": [
        "\n",
        "GradientImages: 1.07269933793"
       ]
      },
      {
       "output_type": "stream",
       "stream": "stdout",
       "text": [
        "\n",
        "GradientCorrelation: 0.880348690768"
       ]
      },
      {
       "output_type": "stream",
       "stream": "stdout",
       "text": [
        "\n",
        "\n",
        "\n",
        "Initial RMS: 2.53457091822\n",
        "\n",
        "FourierSSD: 8.83866943431"
       ]
      },
      {
       "output_type": "stream",
       "stream": "stdout",
       "text": [
        "\n",
        "GradientImages: 1.06002327626"
       ]
      },
      {
       "output_type": "stream",
       "stream": "stdout",
       "text": [
        "\n",
        "GradientCorrelation: 0.88974724567"
       ]
      },
      {
       "output_type": "stream",
       "stream": "stdout",
       "text": [
        "\n",
        "\n",
        "\n",
        "Initial RMS: 4.10597969762\n",
        "\n",
        "FourierSSD: 11.2793955125"
       ]
      },
      {
       "output_type": "stream",
       "stream": "stdout",
       "text": [
        "\n",
        "GradientImages: 2.00026465952"
       ]
      },
      {
       "output_type": "stream",
       "stream": "stdout",
       "text": [
        "\n",
        "GradientCorrelation: 0.871821484691"
       ]
      },
      {
       "output_type": "stream",
       "stream": "stdout",
       "text": [
        "\n",
        "\n",
        "\n",
        "Initial RMS: 5.68568867379\n",
        "\n",
        "FourierSSD: 11.7079458252"
       ]
      },
      {
       "output_type": "stream",
       "stream": "stdout",
       "text": [
        "\n",
        "GradientImages: 4.34832056618"
       ]
      },
      {
       "output_type": "stream",
       "stream": "stdout",
       "text": [
        "\n",
        "GradientCorrelation: 0.927921148943"
       ]
      },
      {
       "output_type": "stream",
       "stream": "stdout",
       "text": [
        "\n",
        "\n",
        "\n",
        "Initial RMS: 7.26828789974\n",
        "\n",
        "FourierSSD: 9.9884378847"
       ]
      },
      {
       "output_type": "stream",
       "stream": "stdout",
       "text": [
        "\n",
        "GradientImages: 7.46521878635"
       ]
      },
      {
       "output_type": "stream",
       "stream": "stdout",
       "text": [
        "\n",
        "GradientCorrelation: 3.15558913822"
       ]
      },
      {
       "output_type": "stream",
       "stream": "stdout",
       "text": [
        "\n",
        "\n",
        "\n",
        "Image 2 of 10\n",
        "\n",
        "Initial RMS: 1.01093871328\n",
        "\n",
        "FourierSSD: 11.186459472"
       ]
      },
      {
       "output_type": "stream",
       "stream": "stdout",
       "text": [
        "\n",
        "GradientImages: 1.028236594"
       ]
      },
      {
       "output_type": "stream",
       "stream": "stdout",
       "text": [
        "\n",
        "GradientCorrelation: 0.924192163163"
       ]
      },
      {
       "output_type": "stream",
       "stream": "stdout",
       "text": [
        "\n",
        "\n",
        "\n",
        "Initial RMS: 2.53457091822\n",
        "\n",
        "FourierSSD: 13.7336774896"
       ]
      },
      {
       "output_type": "stream",
       "stream": "stdout",
       "text": [
        "\n",
        "GradientImages: 1.01903149656"
       ]
      },
      {
       "output_type": "stream",
       "stream": "stdout",
       "text": [
        "\n",
        "GradientCorrelation: 0.922154581889"
       ]
      },
      {
       "output_type": "stream",
       "stream": "stdout",
       "text": [
        "\n",
        "\n",
        "\n",
        "Initial RMS: 4.10597969762\n",
        "\n",
        "FourierSSD: 17.6208082414"
       ]
      },
      {
       "output_type": "stream",
       "stream": "stdout",
       "text": [
        "\n",
        "GradientImages: 1.00436082049"
       ]
      },
      {
       "output_type": "stream",
       "stream": "stdout",
       "text": [
        "\n",
        "GradientCorrelation: 0.921836568748"
       ]
      },
      {
       "output_type": "stream",
       "stream": "stdout",
       "text": [
        "\n",
        "\n",
        "\n",
        "Initial RMS: 5.68568867379\n",
        "\n",
        "FourierSSD: 18.1080675863"
       ]
      },
      {
       "output_type": "stream",
       "stream": "stdout",
       "text": [
        "\n",
        "GradientImages: 5.6255824919"
       ]
      },
      {
       "output_type": "stream",
       "stream": "stdout",
       "text": [
        "\n",
        "GradientCorrelation: 0.951207771521"
       ]
      },
      {
       "output_type": "stream",
       "stream": "stdout",
       "text": [
        "\n",
        "\n",
        "\n",
        "Initial RMS: 7.26828789974\n",
        "\n",
        "FourierSSD: 20.8841099033"
       ]
      },
      {
       "output_type": "stream",
       "stream": "stdout",
       "text": [
        "\n",
        "GradientImages: 8.39132294363"
       ]
      },
      {
       "output_type": "stream",
       "stream": "stdout",
       "text": [
        "\n",
        "GradientCorrelation: 0.962563110049"
       ]
      },
      {
       "output_type": "stream",
       "stream": "stdout",
       "text": [
        "\n",
        "\n",
        "\n",
        "Image 3 of 10\n",
        "\n",
        "Initial RMS: 1.01093871328\n",
        "\n",
        "FourierSSD: 37.3358457955"
       ]
      },
      {
       "output_type": "stream",
       "stream": "stdout",
       "text": [
        "\n",
        "GradientImages: 0.849079889398"
       ]
      },
      {
       "output_type": "stream",
       "stream": "stdout",
       "text": [
        "\n",
        "GradientCorrelation: 0.746004316202"
       ]
      },
      {
       "output_type": "stream",
       "stream": "stdout",
       "text": [
        "\n",
        "\n",
        "\n",
        "Initial RMS: 2.53457091822\n",
        "\n",
        "FourierSSD: 41.5337297929"
       ]
      },
      {
       "output_type": "stream",
       "stream": "stdout",
       "text": [
        "\n",
        "GradientImages: 0.877107206375"
       ]
      },
      {
       "output_type": "stream",
       "stream": "stdout",
       "text": [
        "\n",
        "GradientCorrelation: 0.718862118893"
       ]
      },
      {
       "output_type": "stream",
       "stream": "stdout",
       "text": [
        "\n",
        "\n",
        "\n",
        "Initial RMS: 4.10597969762\n",
        "\n",
        "FourierSSD: 42.648923856"
       ]
      },
      {
       "output_type": "stream",
       "stream": "stdout",
       "text": [
        "\n",
        "GradientImages: 0.881994619878"
       ]
      },
      {
       "output_type": "stream",
       "stream": "stdout",
       "text": [
        "\n",
        "GradientCorrelation: 0.734442944456"
       ]
      },
      {
       "output_type": "stream",
       "stream": "stdout",
       "text": [
        "\n",
        "\n",
        "\n",
        "Initial RMS: 5.68568867379\n",
        "\n",
        "FourierSSD: 33.5294006093"
       ]
      },
      {
       "output_type": "stream",
       "stream": "stdout",
       "text": [
        "\n",
        "GradientImages: 3.52061095749"
       ]
      },
      {
       "output_type": "stream",
       "stream": "stdout",
       "text": [
        "\n",
        "GradientCorrelation: 0.74831016036"
       ]
      },
      {
       "output_type": "stream",
       "stream": "stdout",
       "text": [
        "\n",
        "\n",
        "\n",
        "Initial RMS: 7.26828789974\n",
        "\n",
        "FourierSSD: 33.1356294978"
       ]
      },
      {
       "output_type": "stream",
       "stream": "stdout",
       "text": [
        "\n",
        "GradientImages: 7.03279382739"
       ]
      },
      {
       "output_type": "stream",
       "stream": "stdout",
       "text": [
        "\n",
        "GradientCorrelation: 0.766612596283"
       ]
      },
      {
       "output_type": "stream",
       "stream": "stdout",
       "text": [
        "\n",
        "\n",
        "\n",
        "Image 4 of 10\n",
        "\n",
        "Initial RMS: 1.01093871328\n",
        "\n",
        "FourierSSD: 45.6887073148"
       ]
      },
      {
       "output_type": "stream",
       "stream": "stdout",
       "text": [
        "\n",
        "GradientImages: 0.770425118212"
       ]
      },
      {
       "output_type": "stream",
       "stream": "stdout",
       "text": [
        "\n",
        "GradientCorrelation: 0.663156192781"
       ]
      },
      {
       "output_type": "stream",
       "stream": "stdout",
       "text": [
        "\n",
        "\n",
        "\n",
        "Initial RMS: 2.53457091822\n",
        "\n",
        "FourierSSD: 47.2949037519"
       ]
      },
      {
       "output_type": "stream",
       "stream": "stdout",
       "text": [
        "\n",
        "GradientImages: 0.776247300542"
       ]
      },
      {
       "output_type": "stream",
       "stream": "stdout",
       "text": [
        "\n",
        "GradientCorrelation: 0.659014699166"
       ]
      },
      {
       "output_type": "stream",
       "stream": "stdout",
       "text": [
        "\n",
        "\n",
        "\n",
        "Initial RMS: 4.10597969762\n",
        "\n",
        "FourierSSD: 48.1720305723"
       ]
      },
      {
       "output_type": "stream",
       "stream": "stdout",
       "text": [
        "\n",
        "GradientImages: 0.77166833998"
       ]
      },
      {
       "output_type": "stream",
       "stream": "stdout",
       "text": [
        "\n",
        "GradientCorrelation: 0.658760325213"
       ]
      },
      {
       "output_type": "stream",
       "stream": "stdout",
       "text": [
        "\n",
        "\n",
        "\n",
        "Initial RMS: 5.68568867379\n",
        "\n",
        "FourierSSD: 48.4588626626"
       ]
      },
      {
       "output_type": "stream",
       "stream": "stdout",
       "text": [
        "\n",
        "GradientImages: 3.44961950609"
       ]
      },
      {
       "output_type": "stream",
       "stream": "stdout",
       "text": [
        "\n",
        "GradientCorrelation: 0.667775055504"
       ]
      },
      {
       "output_type": "stream",
       "stream": "stdout",
       "text": [
        "\n",
        "\n",
        "\n",
        "Initial RMS: 7.26828789974\n",
        "\n",
        "FourierSSD: 45.8629736317"
       ]
      },
      {
       "output_type": "stream",
       "stream": "stdout",
       "text": [
        "\n",
        "GradientImages: 8.33735847691"
       ]
      },
      {
       "output_type": "stream",
       "stream": "stdout",
       "text": [
        "\n",
        "GradientCorrelation: 0.670659632591"
       ]
      },
      {
       "output_type": "stream",
       "stream": "stdout",
       "text": [
        "\n",
        "\n",
        "\n",
        "Image 5 of 10\n",
        "\n",
        "Initial RMS: 1.01093871328\n",
        "\n",
        "FourierSSD: 32.5310917314"
       ]
      },
      {
       "output_type": "stream",
       "stream": "stdout",
       "text": [
        "\n",
        "GradientImages: 0.933827303665"
       ]
      },
      {
       "output_type": "stream",
       "stream": "stdout",
       "text": [
        "\n",
        "GradientCorrelation: 0.818295916636"
       ]
      },
      {
       "output_type": "stream",
       "stream": "stdout",
       "text": [
        "\n",
        "\n",
        "\n",
        "Initial RMS: 2.53457091822\n",
        "\n",
        "FourierSSD: 32.662109533"
       ]
      },
      {
       "output_type": "stream",
       "stream": "stdout",
       "text": [
        "\n",
        "GradientImages: 0.929643495086"
       ]
      },
      {
       "output_type": "stream",
       "stream": "stdout",
       "text": [
        "\n",
        "GradientCorrelation: 0.745977419607"
       ]
      },
      {
       "output_type": "stream",
       "stream": "stdout",
       "text": [
        "\n",
        "\n",
        "\n",
        "Initial RMS: 4.10597969762\n",
        "\n",
        "FourierSSD: 27.7912562256"
       ]
      },
      {
       "output_type": "stream",
       "stream": "stdout",
       "text": [
        "\n",
        "GradientImages: 1.58985165615"
       ]
      },
      {
       "output_type": "stream",
       "stream": "stdout",
       "text": [
        "\n",
        "GradientCorrelation: 0.804276506888"
       ]
      },
      {
       "output_type": "stream",
       "stream": "stdout",
       "text": [
        "\n",
        "\n",
        "\n",
        "Initial RMS: 5.68568867379\n",
        "\n",
        "FourierSSD: 26.5708450672"
       ]
      },
      {
       "output_type": "stream",
       "stream": "stdout",
       "text": [
        "\n",
        "GradientImages: 5.36471016831"
       ]
      },
      {
       "output_type": "stream",
       "stream": "stdout",
       "text": [
        "\n",
        "GradientCorrelation: 3.94285290237"
       ]
      },
      {
       "output_type": "stream",
       "stream": "stdout",
       "text": [
        "\n",
        "\n",
        "\n",
        "Initial RMS: 7.26828789974\n",
        "\n",
        "FourierSSD: 23.7238301"
       ]
      },
      {
       "output_type": "stream",
       "stream": "stdout",
       "text": [
        "\n",
        "GradientImages: 6.71589175391"
       ]
      },
      {
       "output_type": "stream",
       "stream": "stdout",
       "text": [
        "\n",
        "GradientCorrelation: 4.31097605947"
       ]
      },
      {
       "output_type": "stream",
       "stream": "stdout",
       "text": [
        "\n",
        "\n",
        "\n",
        "Image 6 of 10\n",
        "\n",
        "Initial RMS: 1.01093871328\n",
        "\n",
        "FourierSSD: 40.5827281817"
       ]
      },
      {
       "output_type": "stream",
       "stream": "stdout",
       "text": [
        "\n",
        "GradientImages: 1.39012813505"
       ]
      },
      {
       "output_type": "stream",
       "stream": "stdout",
       "text": [
        "\n",
        "GradientCorrelation: 0.923296700548"
       ]
      },
      {
       "output_type": "stream",
       "stream": "stdout",
       "text": [
        "\n",
        "\n",
        "\n",
        "Initial RMS: 2.53457091822\n",
        "\n",
        "FourierSSD: 31.7846234562"
       ]
      },
      {
       "output_type": "stream",
       "stream": "stdout",
       "text": [
        "\n",
        "GradientImages: 1.5069646143"
       ]
      },
      {
       "output_type": "stream",
       "stream": "stdout",
       "text": [
        "\n",
        "GradientCorrelation: 0.878328588949"
       ]
      },
      {
       "output_type": "stream",
       "stream": "stdout",
       "text": [
        "\n",
        "\n",
        "\n",
        "Initial RMS: 4.10597969762\n",
        "\n",
        "FourierSSD: 27.2738577173"
       ]
      },
      {
       "output_type": "stream",
       "stream": "stdout",
       "text": [
        "\n",
        "GradientImages: 2.94262126013"
       ]
      },
      {
       "output_type": "stream",
       "stream": "stdout",
       "text": [
        "\n",
        "GradientCorrelation: 0.886697137109"
       ]
      },
      {
       "output_type": "stream",
       "stream": "stdout",
       "text": [
        "\n",
        "\n",
        "\n",
        "Initial RMS: 5.68568867379\n",
        "\n",
        "FourierSSD: 28.1914036166"
       ]
      },
      {
       "output_type": "stream",
       "stream": "stdout",
       "text": [
        "\n",
        "GradientImages: 4.08401436543"
       ]
      },
      {
       "output_type": "stream",
       "stream": "stdout",
       "text": [
        "\n",
        "GradientCorrelation: 0.843244011108"
       ]
      },
      {
       "output_type": "stream",
       "stream": "stdout",
       "text": [
        "\n",
        "\n",
        "\n",
        "Initial RMS: 7.26828789974\n",
        "\n",
        "FourierSSD: 19.8199531855"
       ]
      },
      {
       "output_type": "stream",
       "stream": "stdout",
       "text": [
        "\n",
        "GradientImages: 5.36925866473"
       ]
      },
      {
       "output_type": "stream",
       "stream": "stdout",
       "text": [
        "\n",
        "GradientCorrelation: 1.11765121573"
       ]
      },
      {
       "output_type": "stream",
       "stream": "stdout",
       "text": [
        "\n",
        "\n",
        "\n",
        "Image 7 of 10\n",
        "\n",
        "Initial RMS: 1.01093871328\n",
        "\n",
        "FourierSSD: 38.7182064904"
       ]
      },
      {
       "output_type": "stream",
       "stream": "stdout",
       "text": [
        "\n",
        "GradientImages: 1.30477016308"
       ]
      },
      {
       "output_type": "stream",
       "stream": "stdout",
       "text": [
        "\n",
        "GradientCorrelation: 0.910030036384"
       ]
      },
      {
       "output_type": "stream",
       "stream": "stdout",
       "text": [
        "\n",
        "\n",
        "\n",
        "Initial RMS: 2.53457091822\n",
        "\n",
        "FourierSSD: 38.4496688042"
       ]
      },
      {
       "output_type": "stream",
       "stream": "stdout",
       "text": [
        "\n",
        "GradientImages: 1.28774579499"
       ]
      },
      {
       "output_type": "stream",
       "stream": "stdout",
       "text": [
        "\n",
        "GradientCorrelation: 0.950393041573"
       ]
      },
      {
       "output_type": "stream",
       "stream": "stdout",
       "text": [
        "\n",
        "\n",
        "\n",
        "Initial RMS: 4.10597969762\n",
        "\n",
        "FourierSSD: 36.527554573"
       ]
      },
      {
       "output_type": "stream",
       "stream": "stdout",
       "text": [
        "\n",
        "GradientImages: 2.41447973318"
       ]
      },
      {
       "output_type": "stream",
       "stream": "stdout",
       "text": [
        "\n",
        "GradientCorrelation: 0.956904071269"
       ]
      },
      {
       "output_type": "stream",
       "stream": "stdout",
       "text": [
        "\n",
        "\n",
        "\n",
        "Initial RMS: 5.68568867379\n",
        "\n",
        "FourierSSD: 35.6342538093"
       ]
      },
      {
       "output_type": "stream",
       "stream": "stdout",
       "text": [
        "\n",
        "GradientImages: 3.86131954534"
       ]
      },
      {
       "output_type": "stream",
       "stream": "stdout",
       "text": [
        "\n",
        "GradientCorrelation: 0.972701502052"
       ]
      },
      {
       "output_type": "stream",
       "stream": "stdout",
       "text": [
        "\n",
        "\n",
        "\n",
        "Initial RMS: 7.26828789974\n",
        "\n",
        "FourierSSD: 26.5936167892"
       ]
      },
      {
       "output_type": "stream",
       "stream": "stdout",
       "text": [
        "\n",
        "GradientImages: 5.99830482761"
       ]
      },
      {
       "output_type": "stream",
       "stream": "stdout",
       "text": [
        "\n",
        "GradientCorrelation: 0.983809556385"
       ]
      },
      {
       "output_type": "stream",
       "stream": "stdout",
       "text": [
        "\n",
        "\n",
        "\n",
        "Image 8 of 10\n",
        "\n",
        "Initial RMS: 1.01093871328\n",
        "\n",
        "FourierSSD: 37.7040836645"
       ]
      },
      {
       "output_type": "stream",
       "stream": "stdout",
       "text": [
        "\n",
        "GradientImages: 1.22564251392"
       ]
      },
      {
       "output_type": "stream",
       "stream": "stdout",
       "text": [
        "\n",
        "GradientCorrelation: 1.13360746093"
       ]
      },
      {
       "output_type": "stream",
       "stream": "stdout",
       "text": [
        "\n",
        "\n",
        "\n",
        "Initial RMS: 2.53457091822\n",
        "\n",
        "FourierSSD: 39.0417044076"
       ]
      },
      {
       "output_type": "stream",
       "stream": "stdout",
       "text": [
        "\n",
        "GradientImages: 1.21775053655"
       ]
      },
      {
       "output_type": "stream",
       "stream": "stdout",
       "text": [
        "\n",
        "GradientCorrelation: 1.13331540257"
       ]
      },
      {
       "output_type": "stream",
       "stream": "stdout",
       "text": [
        "\n",
        "\n",
        "\n",
        "Initial RMS: 4.10597969762\n",
        "\n",
        "FourierSSD: 40.1998167811"
       ]
      },
      {
       "output_type": "stream",
       "stream": "stdout",
       "text": [
        "\n",
        "GradientImages: 1.19767356239"
       ]
      },
      {
       "output_type": "stream",
       "stream": "stdout",
       "text": [
        "\n",
        "GradientCorrelation: 1.09430370843"
       ]
      },
      {
       "output_type": "stream",
       "stream": "stdout",
       "text": [
        "\n",
        "\n",
        "\n",
        "Initial RMS: 5.68568867379\n",
        "\n",
        "FourierSSD: 40.9337185911"
       ]
      },
      {
       "output_type": "stream",
       "stream": "stdout",
       "text": [
        "\n",
        "GradientImages: 3.38812113461"
       ]
      },
      {
       "output_type": "stream",
       "stream": "stdout",
       "text": [
        "\n",
        "GradientCorrelation: 1.13057219204"
       ]
      },
      {
       "output_type": "stream",
       "stream": "stdout",
       "text": [
        "\n",
        "\n",
        "\n",
        "Initial RMS: 7.26828789974\n",
        "\n",
        "FourierSSD: 39.5484872359"
       ]
      },
      {
       "output_type": "stream",
       "stream": "stdout",
       "text": [
        "\n",
        "GradientImages: 5.60198990372"
       ]
      },
      {
       "output_type": "stream",
       "stream": "stdout",
       "text": [
        "\n",
        "GradientCorrelation: 1.07824085139"
       ]
      },
      {
       "output_type": "stream",
       "stream": "stdout",
       "text": [
        "\n",
        "\n",
        "\n",
        "Image 9 of 10\n",
        "\n",
        "Initial RMS: 1.01093871328\n",
        "\n",
        "FourierSSD: 64.9223288214"
       ]
      },
      {
       "output_type": "stream",
       "stream": "stdout",
       "text": [
        "\n",
        "GradientImages: 1.30187972215"
       ]
      },
      {
       "output_type": "stream",
       "stream": "stdout",
       "text": [
        "\n",
        "GradientCorrelation: 1.25426166218"
       ]
      },
      {
       "output_type": "stream",
       "stream": "stdout",
       "text": [
        "\n",
        "\n",
        "\n",
        "Initial RMS: 2.53457091822\n",
        "\n",
        "FourierSSD: 63.0601227024"
       ]
      },
      {
       "output_type": "stream",
       "stream": "stdout",
       "text": [
        "\n",
        "GradientImages: 1.28598214642"
       ]
      },
      {
       "output_type": "stream",
       "stream": "stdout",
       "text": [
        "\n",
        "GradientCorrelation: 1.21294182073"
       ]
      },
      {
       "output_type": "stream",
       "stream": "stdout",
       "text": [
        "\n",
        "\n",
        "\n",
        "Initial RMS: 4.10597969762\n",
        "\n",
        "FourierSSD: 56.4503097702"
       ]
      },
      {
       "output_type": "stream",
       "stream": "stdout",
       "text": [
        "\n",
        "GradientImages: 1.26467347839"
       ]
      },
      {
       "output_type": "stream",
       "stream": "stdout",
       "text": [
        "\n",
        "GradientCorrelation: 1.17718981001"
       ]
      },
      {
       "output_type": "stream",
       "stream": "stdout",
       "text": [
        "\n",
        "\n",
        "\n",
        "Initial RMS: 5.68568867379\n",
        "\n",
        "FourierSSD: 43.746384603"
       ]
      },
      {
       "output_type": "stream",
       "stream": "stdout",
       "text": [
        "\n",
        "GradientImages: 2.29237303026"
       ]
      },
      {
       "output_type": "stream",
       "stream": "stdout",
       "text": [
        "\n",
        "GradientCorrelation: 1.19400857642"
       ]
      },
      {
       "output_type": "stream",
       "stream": "stdout",
       "text": [
        "\n",
        "\n",
        "\n",
        "Initial RMS: 7.26828789974\n",
        "\n",
        "FourierSSD: 35.203010291"
       ]
      },
      {
       "output_type": "stream",
       "stream": "stdout",
       "text": [
        "\n",
        "GradientImages: 6.20353950636"
       ]
      },
      {
       "output_type": "stream",
       "stream": "stdout",
       "text": [
        "\n",
        "GradientCorrelation: 1.20107181757"
       ]
      },
      {
       "output_type": "stream",
       "stream": "stdout",
       "text": [
        "\n",
        "\n",
        "\n",
        "Subject 3 of 10\n",
        "\n",
        "Image 0 of 10\n",
        "\n",
        "Initial RMS: 1.01093871328\n",
        "\n",
        "FourierSSD: 281.040800006"
       ]
      },
      {
       "output_type": "stream",
       "stream": "stdout",
       "text": [
        "\n",
        "GradientImages: 1.62364572016"
       ]
      },
      {
       "output_type": "stream",
       "stream": "stdout",
       "text": [
        "\n",
        "GradientCorrelation: 1.64914762913"
       ]
      },
      {
       "output_type": "stream",
       "stream": "stdout",
       "text": [
        "\n",
        "\n",
        "\n",
        "Initial RMS: 2.53457091822\n",
        "\n",
        "FourierSSD: 228.865157857"
       ]
      },
      {
       "output_type": "stream",
       "stream": "stdout",
       "text": [
        "\n",
        "GradientImages: 1.61749548293"
       ]
      },
      {
       "output_type": "stream",
       "stream": "stdout",
       "text": [
        "\n",
        "GradientCorrelation: 1.62230191998"
       ]
      },
      {
       "output_type": "stream",
       "stream": "stdout",
       "text": [
        "\n",
        "\n",
        "\n",
        "Initial RMS: 4.10597969762\n",
        "\n",
        "FourierSSD: 180.156086392"
       ]
      },
      {
       "output_type": "stream",
       "stream": "stdout",
       "text": [
        "\n",
        "GradientImages: 1.60430598282"
       ]
      },
      {
       "output_type": "stream",
       "stream": "stdout",
       "text": [
        "\n",
        "GradientCorrelation: 1.60061627877"
       ]
      },
      {
       "output_type": "stream",
       "stream": "stdout",
       "text": [
        "\n",
        "\n",
        "\n",
        "Initial RMS: 5.68568867379\n",
        "\n",
        "FourierSSD: 162.029299847"
       ]
      },
      {
       "output_type": "stream",
       "stream": "stdout",
       "text": [
        "\n",
        "GradientImages: 1.60774772374"
       ]
      },
      {
       "output_type": "stream",
       "stream": "stdout",
       "text": [
        "\n",
        "GradientCorrelation: 1.63027168197"
       ]
      },
      {
       "output_type": "stream",
       "stream": "stdout",
       "text": [
        "\n",
        "\n",
        "\n",
        "Initial RMS: 7.26828789974\n",
        "\n",
        "FourierSSD: 144.948490927"
       ]
      },
      {
       "output_type": "stream",
       "stream": "stdout",
       "text": [
        "\n",
        "GradientImages: 3.69290980459"
       ]
      },
      {
       "output_type": "stream",
       "stream": "stdout",
       "text": [
        "\n",
        "GradientCorrelation: 1.64780313258"
       ]
      },
      {
       "output_type": "stream",
       "stream": "stdout",
       "text": [
        "\n",
        "\n",
        "\n",
        "Image 1 of 10\n",
        "\n",
        "Initial RMS: 1.01093871328\n",
        "\n",
        "FourierSSD: 20.3359574089"
       ]
      },
      {
       "output_type": "stream",
       "stream": "stdout",
       "text": [
        "\n",
        "GradientImages: 0.358906451914"
       ]
      },
      {
       "output_type": "stream",
       "stream": "stdout",
       "text": [
        "\n",
        "GradientCorrelation: 0.3801637877"
       ]
      },
      {
       "output_type": "stream",
       "stream": "stdout",
       "text": [
        "\n",
        "\n",
        "\n",
        "Initial RMS: 2.53457091822\n",
        "\n",
        "FourierSSD: 21.9086254121"
       ]
      },
      {
       "output_type": "stream",
       "stream": "stdout",
       "text": [
        "\n",
        "GradientImages: 0.33392429815"
       ]
      },
      {
       "output_type": "stream",
       "stream": "stdout",
       "text": [
        "\n",
        "GradientCorrelation: 0.353867934919"
       ]
      },
      {
       "output_type": "stream",
       "stream": "stdout",
       "text": [
        "\n",
        "\n",
        "\n",
        "Initial RMS: 4.10597969762\n",
        "\n",
        "FourierSSD: 22.506308164"
       ]
      },
      {
       "output_type": "stream",
       "stream": "stdout",
       "text": [
        "\n",
        "GradientImages: 3.22545128007"
       ]
      },
      {
       "output_type": "stream",
       "stream": "stdout",
       "text": [
        "\n",
        "GradientCorrelation: 0.296145320619"
       ]
      },
      {
       "output_type": "stream",
       "stream": "stdout",
       "text": [
        "\n",
        "\n",
        "\n",
        "Initial RMS: 5.68568867379\n",
        "\n",
        "FourierSSD: 21.0687285544"
       ]
      },
      {
       "output_type": "stream",
       "stream": "stdout",
       "text": [
        "\n",
        "GradientImages: 5.3058344243"
       ]
      },
      {
       "output_type": "stream",
       "stream": "stdout",
       "text": [
        "\n",
        "GradientCorrelation: 3.39342864983"
       ]
      },
      {
       "output_type": "stream",
       "stream": "stdout",
       "text": [
        "\n",
        "\n",
        "\n",
        "Initial RMS: 7.26828789974\n",
        "\n",
        "FourierSSD: 10.0325566668"
       ]
      },
      {
       "output_type": "stream",
       "stream": "stdout",
       "text": [
        "\n",
        "GradientImages: 7.26642798481"
       ]
      },
      {
       "output_type": "stream",
       "stream": "stdout",
       "text": [
        "\n",
        "GradientCorrelation: 4.20895274609"
       ]
      },
      {
       "output_type": "stream",
       "stream": "stdout",
       "text": [
        "\n",
        "\n",
        "\n",
        "Image 2 of 10\n",
        "\n",
        "Initial RMS: 1.01093871328\n",
        "\n",
        "FourierSSD: 60.819068626"
       ]
      },
      {
       "output_type": "stream",
       "stream": "stdout",
       "text": [
        "\n",
        "GradientImages: 1.16313450874"
       ]
      },
      {
       "output_type": "stream",
       "stream": "stdout",
       "text": [
        "\n",
        "GradientCorrelation: 0.915392671915"
       ]
      },
      {
       "output_type": "stream",
       "stream": "stdout",
       "text": [
        "\n",
        "\n",
        "\n",
        "Initial RMS: 2.53457091822\n",
        "\n",
        "FourierSSD: 49.0922238717"
       ]
      },
      {
       "output_type": "stream",
       "stream": "stdout",
       "text": [
        "\n",
        "GradientImages: 1.1795016661"
       ]
      },
      {
       "output_type": "stream",
       "stream": "stdout",
       "text": [
        "\n",
        "GradientCorrelation: 0.940574122433"
       ]
      },
      {
       "output_type": "stream",
       "stream": "stdout",
       "text": [
        "\n",
        "\n",
        "\n",
        "Initial RMS: 4.10597969762\n",
        "\n",
        "FourierSSD: 41.8478826287"
       ]
      },
      {
       "output_type": "stream",
       "stream": "stdout",
       "text": [
        "\n",
        "GradientImages: 1.21672706235"
       ]
      },
      {
       "output_type": "stream",
       "stream": "stdout",
       "text": [
        "\n",
        "GradientCorrelation: 0.937436587612"
       ]
      },
      {
       "output_type": "stream",
       "stream": "stdout",
       "text": [
        "\n",
        "\n",
        "\n",
        "Initial RMS: 5.68568867379\n",
        "\n",
        "FourierSSD: 56.3292560219"
       ]
      },
      {
       "output_type": "stream",
       "stream": "stdout",
       "text": [
        "\n",
        "GradientImages: 5.22817437029"
       ]
      },
      {
       "output_type": "stream",
       "stream": "stdout",
       "text": [
        "\n",
        "GradientCorrelation: 0.939309009103"
       ]
      },
      {
       "output_type": "stream",
       "stream": "stdout",
       "text": [
        "\n",
        "\n",
        "\n",
        "Initial RMS: 7.26828789974\n",
        "\n",
        "FourierSSD: 52.8327692788"
       ]
      },
      {
       "output_type": "stream",
       "stream": "stdout",
       "text": [
        "\n",
        "GradientImages: 7.17359826607"
       ]
      },
      {
       "output_type": "stream",
       "stream": "stdout",
       "text": [
        "\n",
        "GradientCorrelation: 0.883304073883"
       ]
      },
      {
       "output_type": "stream",
       "stream": "stdout",
       "text": [
        "\n",
        "\n",
        "\n",
        "Image 3 of 10\n",
        "\n",
        "Initial RMS: 1.01093871328\n",
        "\n",
        "FourierSSD: 73.0204816882"
       ]
      },
      {
       "output_type": "stream",
       "stream": "stdout",
       "text": [
        "\n",
        "GradientImages: 0.59992012102"
       ]
      },
      {
       "output_type": "stream",
       "stream": "stdout",
       "text": [
        "\n",
        "GradientCorrelation: 0.601415358955"
       ]
      },
      {
       "output_type": "stream",
       "stream": "stdout",
       "text": [
        "\n",
        "\n",
        "\n",
        "Initial RMS: 2.53457091822\n",
        "\n",
        "FourierSSD: 91.5032325653"
       ]
      },
      {
       "output_type": "stream",
       "stream": "stdout",
       "text": [
        "\n",
        "GradientImages: 0.590986442444"
       ]
      },
      {
       "output_type": "stream",
       "stream": "stdout",
       "text": [
        "\n",
        "GradientCorrelation: 0.578052643928"
       ]
      },
      {
       "output_type": "stream",
       "stream": "stdout",
       "text": [
        "\n",
        "\n",
        "\n",
        "Initial RMS: 4.10597969762\n",
        "\n",
        "FourierSSD: 89.3684593579"
       ]
      },
      {
       "output_type": "stream",
       "stream": "stdout",
       "text": [
        "\n",
        "GradientImages: 0.587916231556"
       ]
      },
      {
       "output_type": "stream",
       "stream": "stdout",
       "text": [
        "\n",
        "GradientCorrelation: 0.608384578874"
       ]
      },
      {
       "output_type": "stream",
       "stream": "stdout",
       "text": [
        "\n",
        "\n",
        "\n",
        "Initial RMS: 5.68568867379\n",
        "\n",
        "FourierSSD: 81.5701014867"
       ]
      },
      {
       "output_type": "stream",
       "stream": "stdout",
       "text": [
        "\n",
        "GradientImages: 3.52300613514"
       ]
      },
      {
       "output_type": "stream",
       "stream": "stdout",
       "text": [
        "\n",
        "GradientCorrelation: 0.588064892909"
       ]
      },
      {
       "output_type": "stream",
       "stream": "stdout",
       "text": [
        "\n",
        "\n",
        "\n",
        "Initial RMS: 7.26828789974\n",
        "\n",
        "FourierSSD: 75.2814699948"
       ]
      },
      {
       "output_type": "stream",
       "stream": "stdout",
       "text": [
        "\n",
        "GradientImages: 7.15560704475"
       ]
      },
      {
       "output_type": "stream",
       "stream": "stdout",
       "text": [
        "\n",
        "GradientCorrelation: 0.597028062293"
       ]
      },
      {
       "output_type": "stream",
       "stream": "stdout",
       "text": [
        "\n",
        "\n",
        "\n",
        "Image 4 of 10\n",
        "\n",
        "Initial RMS: 1.01093871328\n",
        "\n",
        "FourierSSD: 88.4943080976"
       ]
      },
      {
       "output_type": "stream",
       "stream": "stdout",
       "text": [
        "\n",
        "GradientImages: 0.61626597512"
       ]
      },
      {
       "output_type": "stream",
       "stream": "stdout",
       "text": [
        "\n",
        "GradientCorrelation: 0.656292347292"
       ]
      },
      {
       "output_type": "stream",
       "stream": "stdout",
       "text": [
        "\n",
        "\n",
        "\n",
        "Initial RMS: 2.53457091822\n",
        "\n",
        "FourierSSD: 104.001005125"
       ]
      },
      {
       "output_type": "stream",
       "stream": "stdout",
       "text": [
        "\n",
        "GradientImages: 0.610803927667"
       ]
      },
      {
       "output_type": "stream",
       "stream": "stdout",
       "text": [
        "\n",
        "GradientCorrelation: 0.672856607068"
       ]
      },
      {
       "output_type": "stream",
       "stream": "stdout",
       "text": [
        "\n",
        "\n",
        "\n",
        "Initial RMS: 4.10597969762\n",
        "\n",
        "FourierSSD: 103.257621919"
       ]
      },
      {
       "output_type": "stream",
       "stream": "stdout",
       "text": [
        "\n",
        "GradientImages: 0.59537200455"
       ]
      },
      {
       "output_type": "stream",
       "stream": "stdout",
       "text": [
        "\n",
        "GradientCorrelation: 0.665898137714"
       ]
      },
      {
       "output_type": "stream",
       "stream": "stdout",
       "text": [
        "\n",
        "\n",
        "\n",
        "Initial RMS: 5.68568867379\n",
        "\n",
        "FourierSSD: 96.8585969578"
       ]
      },
      {
       "output_type": "stream",
       "stream": "stdout",
       "text": [
        "\n",
        "GradientImages: 0.765367693597"
       ]
      },
      {
       "output_type": "stream",
       "stream": "stdout",
       "text": [
        "\n",
        "GradientCorrelation: 0.655753828586"
       ]
      },
      {
       "output_type": "stream",
       "stream": "stdout",
       "text": [
        "\n",
        "\n",
        "\n",
        "Initial RMS: 7.26828789974\n",
        "\n",
        "FourierSSD: 82.1259639198"
       ]
      },
      {
       "output_type": "stream",
       "stream": "stdout",
       "text": [
        "\n",
        "GradientImages: 6.80730627686"
       ]
      },
      {
       "output_type": "stream",
       "stream": "stdout",
       "text": [
        "\n",
        "GradientCorrelation: 0.672922504326"
       ]
      },
      {
       "output_type": "stream",
       "stream": "stdout",
       "text": [
        "\n",
        "\n",
        "\n",
        "Image 5 of 10\n",
        "\n",
        "Initial RMS: 1.01093871328\n",
        "\n",
        "FourierSSD: 3.15587767372"
       ]
      },
      {
       "output_type": "stream",
       "stream": "stdout",
       "text": [
        "\n",
        "GradientImages: 0.515903831418"
       ]
      },
      {
       "output_type": "stream",
       "stream": "stdout",
       "text": [
        "\n",
        "GradientCorrelation: 0.668915233247"
       ]
      },
      {
       "output_type": "stream",
       "stream": "stdout",
       "text": [
        "\n",
        "\n",
        "\n",
        "Initial RMS: 2.53457091822\n",
        "\n",
        "FourierSSD: 1.66859086248"
       ]
      },
      {
       "output_type": "stream",
       "stream": "stdout",
       "text": [
        "\n",
        "GradientImages: 0.538865523889"
       ]
      },
      {
       "output_type": "stream",
       "stream": "stdout",
       "text": [
        "\n",
        "GradientCorrelation: 0.743277325354"
       ]
      },
      {
       "output_type": "stream",
       "stream": "stdout",
       "text": [
        "\n",
        "\n",
        "\n",
        "Initial RMS: 4.10597969762\n",
        "\n",
        "FourierSSD: 2.64718852297"
       ]
      },
      {
       "output_type": "stream",
       "stream": "stdout",
       "text": [
        "\n",
        "GradientImages: 2.9201910583"
       ]
      },
      {
       "output_type": "stream",
       "stream": "stdout",
       "text": [
        "\n",
        "GradientCorrelation: 0.756458787081"
       ]
      },
      {
       "output_type": "stream",
       "stream": "stdout",
       "text": [
        "\n",
        "\n",
        "\n",
        "Initial RMS: 5.68568867379\n",
        "\n",
        "FourierSSD: 3.95004992657"
       ]
      },
      {
       "output_type": "stream",
       "stream": "stdout",
       "text": [
        "\n",
        "GradientImages: 5.69636234779"
       ]
      },
      {
       "output_type": "stream",
       "stream": "stdout",
       "text": [
        "\n",
        "GradientCorrelation: 2.77866311117"
       ]
      },
      {
       "output_type": "stream",
       "stream": "stdout",
       "text": [
        "\n",
        "\n",
        "\n",
        "Initial RMS: 7.26828789974\n",
        "\n",
        "FourierSSD: 1.71451958359"
       ]
      },
      {
       "output_type": "stream",
       "stream": "stdout",
       "text": [
        "\n",
        "GradientImages: 8.13383979272"
       ]
      },
      {
       "output_type": "stream",
       "stream": "stdout",
       "text": [
        "\n",
        "GradientCorrelation: 4.62421372904"
       ]
      },
      {
       "output_type": "stream",
       "stream": "stdout",
       "text": [
        "\n",
        "\n",
        "\n",
        "Image 6 of 10\n",
        "\n",
        "Initial RMS: 1.01093871328\n",
        "\n",
        "FourierSSD: 7.06594308942"
       ]
      },
      {
       "output_type": "stream",
       "stream": "stdout",
       "text": [
        "\n",
        "GradientImages: 0.925174257037"
       ]
      },
      {
       "output_type": "stream",
       "stream": "stdout",
       "text": [
        "\n",
        "GradientCorrelation: 0.747126404645"
       ]
      },
      {
       "output_type": "stream",
       "stream": "stdout",
       "text": [
        "\n",
        "\n",
        "\n",
        "Initial RMS: 2.53457091822\n",
        "\n",
        "FourierSSD: 7.27471821843"
       ]
      },
      {
       "output_type": "stream",
       "stream": "stdout",
       "text": [
        "\n",
        "GradientImages: 1.05051295283"
       ]
      },
      {
       "output_type": "stream",
       "stream": "stdout",
       "text": [
        "\n",
        "GradientCorrelation: 0.762324003727"
       ]
      },
      {
       "output_type": "stream",
       "stream": "stdout",
       "text": [
        "\n",
        "\n",
        "\n",
        "Initial RMS: 4.10597969762\n",
        "\n",
        "FourierSSD: 8.73449843231"
       ]
      },
      {
       "output_type": "stream",
       "stream": "stdout",
       "text": [
        "\n",
        "GradientImages: 1.30635520854"
       ]
      },
      {
       "output_type": "stream",
       "stream": "stdout",
       "text": [
        "\n",
        "GradientCorrelation: 0.79708582702"
       ]
      },
      {
       "output_type": "stream",
       "stream": "stdout",
       "text": [
        "\n",
        "\n",
        "\n",
        "Initial RMS: 5.68568867379\n",
        "\n",
        "FourierSSD: 9.65687859186"
       ]
      },
      {
       "output_type": "stream",
       "stream": "stdout",
       "text": [
        "\n",
        "GradientImages: 2.25198700527"
       ]
      },
      {
       "output_type": "stream",
       "stream": "stdout",
       "text": [
        "\n",
        "GradientCorrelation: 0.725465528031"
       ]
      },
      {
       "output_type": "stream",
       "stream": "stdout",
       "text": [
        "\n",
        "\n",
        "\n",
        "Initial RMS: 7.26828789974\n",
        "\n",
        "FourierSSD: 10.9643877637"
       ]
      },
      {
       "output_type": "stream",
       "stream": "stdout",
       "text": [
        "\n",
        "GradientImages: 5.35905236232"
       ]
      },
      {
       "output_type": "stream",
       "stream": "stdout",
       "text": [
        "\n",
        "GradientCorrelation: 0.775409086481"
       ]
      },
      {
       "output_type": "stream",
       "stream": "stdout",
       "text": [
        "\n",
        "\n",
        "\n",
        "Image 7 of 10\n",
        "\n",
        "Initial RMS: 1.01093871328\n",
        "\n",
        "FourierSSD: 26.0605741226"
       ]
      },
      {
       "output_type": "stream",
       "stream": "stdout",
       "text": [
        "\n",
        "GradientImages: 0.866593302722"
       ]
      },
      {
       "output_type": "stream",
       "stream": "stdout",
       "text": [
        "\n",
        "GradientCorrelation: 0.746533064456"
       ]
      },
      {
       "output_type": "stream",
       "stream": "stdout",
       "text": [
        "\n",
        "\n",
        "\n",
        "Initial RMS: 2.53457091822\n",
        "\n",
        "FourierSSD: 13.6465102446"
       ]
      },
      {
       "output_type": "stream",
       "stream": "stdout",
       "text": [
        "\n",
        "GradientImages: 0.87964618146"
       ]
      },
      {
       "output_type": "stream",
       "stream": "stdout",
       "text": [
        "\n",
        "GradientCorrelation: 0.769672563885"
       ]
      },
      {
       "output_type": "stream",
       "stream": "stdout",
       "text": [
        "\n",
        "\n",
        "\n",
        "Initial RMS: 4.10597969762\n",
        "\n",
        "FourierSSD: 11.502299521"
       ]
      },
      {
       "output_type": "stream",
       "stream": "stdout",
       "text": [
        "\n",
        "GradientImages: 1.3897143805"
       ]
      },
      {
       "output_type": "stream",
       "stream": "stdout",
       "text": [
        "\n",
        "GradientCorrelation: 0.756822707749"
       ]
      },
      {
       "output_type": "stream",
       "stream": "stdout",
       "text": [
        "\n",
        "\n",
        "\n",
        "Initial RMS: 5.68568867379\n",
        "\n",
        "FourierSSD: 11.1617159197"
       ]
      },
      {
       "output_type": "stream",
       "stream": "stdout",
       "text": [
        "\n",
        "GradientImages: 3.36673310704"
       ]
      },
      {
       "output_type": "stream",
       "stream": "stdout",
       "text": [
        "\n",
        "GradientCorrelation: 0.735187322059"
       ]
      },
      {
       "output_type": "stream",
       "stream": "stdout",
       "text": [
        "\n",
        "\n",
        "\n",
        "Initial RMS: 7.26828789974\n",
        "\n",
        "FourierSSD: 9.64085505721"
       ]
      },
      {
       "output_type": "stream",
       "stream": "stdout",
       "text": [
        "\n",
        "GradientImages: 5.50123240713"
       ]
      },
      {
       "output_type": "stream",
       "stream": "stdout",
       "text": [
        "\n",
        "GradientCorrelation: 0.756559327148"
       ]
      },
      {
       "output_type": "stream",
       "stream": "stdout",
       "text": [
        "\n",
        "\n",
        "\n",
        "Image 8 of 10\n",
        "\n",
        "Initial RMS: 1.01093871328\n",
        "\n",
        "FourierSSD: 29.8544111996"
       ]
      },
      {
       "output_type": "stream",
       "stream": "stdout",
       "text": [
        "\n",
        "GradientImages: 0.712585729566"
       ]
      },
      {
       "output_type": "stream",
       "stream": "stdout",
       "text": [
        "\n",
        "GradientCorrelation: 0.762286279934"
       ]
      },
      {
       "output_type": "stream",
       "stream": "stdout",
       "text": [
        "\n",
        "\n",
        "\n",
        "Initial RMS: 2.53457091822\n",
        "\n",
        "FourierSSD: 18.4149437914"
       ]
      },
      {
       "output_type": "stream",
       "stream": "stdout",
       "text": [
        "\n",
        "GradientImages: 0.71475083471"
       ]
      },
      {
       "output_type": "stream",
       "stream": "stdout",
       "text": [
        "\n",
        "GradientCorrelation: 0.745373213667"
       ]
      },
      {
       "output_type": "stream",
       "stream": "stdout",
       "text": [
        "\n",
        "\n",
        "\n",
        "Initial RMS: 4.10597969762\n",
        "\n",
        "FourierSSD: 16.3241570326"
       ]
      },
      {
       "output_type": "stream",
       "stream": "stdout",
       "text": [
        "\n",
        "GradientImages: 0.841966706914"
       ]
      },
      {
       "output_type": "stream",
       "stream": "stdout",
       "text": [
        "\n",
        "GradientCorrelation: 0.805563565004"
       ]
      },
      {
       "output_type": "stream",
       "stream": "stdout",
       "text": [
        "\n",
        "\n",
        "\n",
        "Initial RMS: 5.68568867379\n",
        "\n",
        "FourierSSD: 16.5503213911"
       ]
      },
      {
       "output_type": "stream",
       "stream": "stdout",
       "text": [
        "\n",
        "GradientImages: 2.5363049566"
       ]
      },
      {
       "output_type": "stream",
       "stream": "stdout",
       "text": [
        "\n",
        "GradientCorrelation: 0.772285778117"
       ]
      },
      {
       "output_type": "stream",
       "stream": "stdout",
       "text": [
        "\n",
        "\n",
        "\n",
        "Initial RMS: 7.26828789974\n",
        "\n",
        "FourierSSD: 17.5418665669"
       ]
      },
      {
       "output_type": "stream",
       "stream": "stdout",
       "text": [
        "\n",
        "GradientImages: 5.37186977747"
       ]
      },
      {
       "output_type": "stream",
       "stream": "stdout",
       "text": [
        "\n",
        "GradientCorrelation: 0.740780147324"
       ]
      },
      {
       "output_type": "stream",
       "stream": "stdout",
       "text": [
        "\n",
        "\n",
        "\n",
        "Image 9 of 10\n",
        "\n",
        "Initial RMS: 1.01093871328\n",
        "\n",
        "FourierSSD: 38.9088745326"
       ]
      },
      {
       "output_type": "stream",
       "stream": "stdout",
       "text": [
        "\n",
        "GradientImages: 0.600467720219"
       ]
      },
      {
       "output_type": "stream",
       "stream": "stdout",
       "text": [
        "\n",
        "GradientCorrelation: 0.665863031804"
       ]
      },
      {
       "output_type": "stream",
       "stream": "stdout",
       "text": [
        "\n",
        "\n",
        "\n",
        "Initial RMS: 2.53457091822\n",
        "\n",
        "FourierSSD: 29.1827724863"
       ]
      },
      {
       "output_type": "stream",
       "stream": "stdout",
       "text": [
        "\n",
        "GradientImages: 0.630533094285"
       ]
      },
      {
       "output_type": "stream",
       "stream": "stdout",
       "text": [
        "\n",
        "GradientCorrelation: 0.671517553271"
       ]
      },
      {
       "output_type": "stream",
       "stream": "stdout",
       "text": [
        "\n",
        "\n",
        "\n",
        "Initial RMS: 4.10597969762\n",
        "\n",
        "FourierSSD: 27.4578689815"
       ]
      },
      {
       "output_type": "stream",
       "stream": "stdout",
       "text": [
        "\n",
        "GradientImages: 1.72420524596"
       ]
      },
      {
       "output_type": "stream",
       "stream": "stdout",
       "text": [
        "\n",
        "GradientCorrelation: 0.751378383966"
       ]
      },
      {
       "output_type": "stream",
       "stream": "stdout",
       "text": [
        "\n",
        "\n",
        "\n",
        "Initial RMS: 5.68568867379\n",
        "\n",
        "FourierSSD: 28.0499398169"
       ]
      },
      {
       "output_type": "stream",
       "stream": "stdout",
       "text": [
        "\n",
        "GradientImages: 3.86957478671"
       ]
      },
      {
       "output_type": "stream",
       "stream": "stdout",
       "text": [
        "\n",
        "GradientCorrelation: 2.49824925286"
       ]
      },
      {
       "output_type": "stream",
       "stream": "stdout",
       "text": [
        "\n",
        "\n",
        "\n",
        "Initial RMS: 7.26828789974\n",
        "\n",
        "FourierSSD: 24.9471720657"
       ]
      },
      {
       "output_type": "stream",
       "stream": "stdout",
       "text": [
        "\n",
        "GradientImages: 5.33084470563"
       ]
      },
      {
       "output_type": "stream",
       "stream": "stdout",
       "text": [
        "\n",
        "GradientCorrelation: 2.76509908659"
       ]
      },
      {
       "output_type": "stream",
       "stream": "stdout",
       "text": [
        "\n",
        "\n",
        "\n",
        "Subject 4 of 10\n",
        "\n",
        "Image 0 of 10\n",
        "\n",
        "Initial RMS: 1.01093871328\n",
        "\n",
        "FourierSSD: 37.4998825349"
       ]
      },
      {
       "output_type": "stream",
       "stream": "stdout",
       "text": [
        "\n",
        "GradientImages: 1.27523965126"
       ]
      },
      {
       "output_type": "stream",
       "stream": "stdout",
       "text": [
        "\n",
        "GradientCorrelation: 1.22131462319"
       ]
      },
      {
       "output_type": "stream",
       "stream": "stdout",
       "text": [
        "\n",
        "\n",
        "\n",
        "Initial RMS: 2.53457091822\n",
        "\n",
        "FourierSSD: 37.411564458"
       ]
      },
      {
       "output_type": "stream",
       "stream": "stdout",
       "text": [
        "\n",
        "GradientImages: 1.27821346347"
       ]
      },
      {
       "output_type": "stream",
       "stream": "stdout",
       "text": [
        "\n",
        "GradientCorrelation: 1.30265131506"
       ]
      },
      {
       "output_type": "stream",
       "stream": "stdout",
       "text": [
        "\n",
        "\n",
        "\n",
        "Initial RMS: 4.10597969762\n",
        "\n",
        "FourierSSD: 37.9647775304"
       ]
      },
      {
       "output_type": "stream",
       "stream": "stdout",
       "text": [
        "\n",
        "GradientImages: 1.27121726757"
       ]
      },
      {
       "output_type": "stream",
       "stream": "stdout",
       "text": [
        "\n",
        "GradientCorrelation: 1.23723474341"
       ]
      },
      {
       "output_type": "stream",
       "stream": "stdout",
       "text": [
        "\n",
        "\n",
        "\n",
        "Initial RMS: 5.68568867379\n",
        "\n",
        "FourierSSD: 39.0382390175"
       ]
      },
      {
       "output_type": "stream",
       "stream": "stdout",
       "text": [
        "\n",
        "GradientImages: 2.49372882884"
       ]
      },
      {
       "output_type": "stream",
       "stream": "stdout",
       "text": [
        "\n",
        "GradientCorrelation: 1.24004646513"
       ]
      },
      {
       "output_type": "stream",
       "stream": "stdout",
       "text": [
        "\n",
        "\n",
        "\n",
        "Initial RMS: 7.26828789974\n",
        "\n",
        "FourierSSD: 40.5975280022"
       ]
      },
      {
       "output_type": "stream",
       "stream": "stdout",
       "text": [
        "\n",
        "GradientImages: 7.15043900942"
       ]
      },
      {
       "output_type": "stream",
       "stream": "stdout",
       "text": [
        "\n",
        "GradientCorrelation: 1.23232345109"
       ]
      },
      {
       "output_type": "stream",
       "stream": "stdout",
       "text": [
        "\n",
        "\n",
        "\n",
        "Image 1 of 10\n",
        "\n",
        "Initial RMS: 1.01093871328\n",
        "\n",
        "FourierSSD: 21.2498806754"
       ]
      },
      {
       "output_type": "stream",
       "stream": "stdout",
       "text": [
        "\n",
        "GradientImages: 0.657030445705"
       ]
      },
      {
       "output_type": "stream",
       "stream": "stdout",
       "text": [
        "\n",
        "GradientCorrelation: 0.604722105312"
       ]
      },
      {
       "output_type": "stream",
       "stream": "stdout",
       "text": [
        "\n",
        "\n",
        "\n",
        "Initial RMS: 2.53457091822\n",
        "\n",
        "FourierSSD: 21.6604856798"
       ]
      },
      {
       "output_type": "stream",
       "stream": "stdout",
       "text": [
        "\n",
        "GradientImages: 0.655226027408"
       ]
      },
      {
       "output_type": "stream",
       "stream": "stdout",
       "text": [
        "\n",
        "GradientCorrelation: 0.584698865317"
       ]
      },
      {
       "output_type": "stream",
       "stream": "stdout",
       "text": [
        "\n",
        "\n",
        "\n",
        "Initial RMS: 4.10597969762\n",
        "\n",
        "FourierSSD: 22.3062119616"
       ]
      },
      {
       "output_type": "stream",
       "stream": "stdout",
       "text": [
        "\n",
        "GradientImages: 0.643475007255"
       ]
      },
      {
       "output_type": "stream",
       "stream": "stdout",
       "text": [
        "\n",
        "GradientCorrelation: 0.592525119983"
       ]
      },
      {
       "output_type": "stream",
       "stream": "stdout",
       "text": [
        "\n",
        "\n",
        "\n",
        "Initial RMS: 5.68568867379\n",
        "\n",
        "FourierSSD: 22.8800595611"
       ]
      },
      {
       "output_type": "stream",
       "stream": "stdout",
       "text": [
        "\n",
        "GradientImages: 4.27678628922"
       ]
      },
      {
       "output_type": "stream",
       "stream": "stdout",
       "text": [
        "\n",
        "GradientCorrelation: 0.569688093191"
       ]
      },
      {
       "output_type": "stream",
       "stream": "stdout",
       "text": [
        "\n",
        "\n",
        "\n",
        "Initial RMS: 7.26828789974\n",
        "\n",
        "FourierSSD: 23.5742963296"
       ]
      },
      {
       "output_type": "stream",
       "stream": "stdout",
       "text": [
        "\n",
        "GradientImages: 6.99655377611"
       ]
      },
      {
       "output_type": "stream",
       "stream": "stdout",
       "text": [
        "\n",
        "GradientCorrelation: 0.593545699551"
       ]
      },
      {
       "output_type": "stream",
       "stream": "stdout",
       "text": [
        "\n",
        "\n",
        "\n",
        "Image 2 of 10\n",
        "\n",
        "Initial RMS: 1.01093871328\n",
        "\n",
        "FourierSSD: 4.11977294181"
       ]
      },
      {
       "output_type": "stream",
       "stream": "stdout",
       "text": [
        "\n",
        "GradientImages: 0.501634574322"
       ]
      },
      {
       "output_type": "stream",
       "stream": "stdout",
       "text": [
        "\n",
        "GradientCorrelation: 0.432953948333"
       ]
      },
      {
       "output_type": "stream",
       "stream": "stdout",
       "text": [
        "\n",
        "\n",
        "\n",
        "Initial RMS: 2.53457091822\n",
        "\n",
        "FourierSSD: 4.46919876054"
       ]
      },
      {
       "output_type": "stream",
       "stream": "stdout",
       "text": [
        "\n",
        "GradientImages: 0.523634228301"
       ]
      },
      {
       "output_type": "stream",
       "stream": "stdout",
       "text": [
        "\n",
        "GradientCorrelation: 0.450556995216"
       ]
      },
      {
       "output_type": "stream",
       "stream": "stdout",
       "text": [
        "\n",
        "\n",
        "\n",
        "Initial RMS: 4.10597969762\n",
        "\n",
        "FourierSSD: 5.21280574309"
       ]
      },
      {
       "output_type": "stream",
       "stream": "stdout",
       "text": [
        "\n",
        "GradientImages: 0.560391670956"
       ]
      },
      {
       "output_type": "stream",
       "stream": "stdout",
       "text": [
        "\n",
        "GradientCorrelation: 0.390027502424"
       ]
      },
      {
       "output_type": "stream",
       "stream": "stdout",
       "text": [
        "\n",
        "\n",
        "\n",
        "Initial RMS: 5.68568867379\n",
        "\n",
        "FourierSSD: 7.96059527608"
       ]
      },
      {
       "output_type": "stream",
       "stream": "stdout",
       "text": [
        "\n",
        "GradientImages: 2.74159512476"
       ]
      },
      {
       "output_type": "stream",
       "stream": "stdout",
       "text": [
        "\n",
        "GradientCorrelation: 0.339218975064"
       ]
      },
      {
       "output_type": "stream",
       "stream": "stdout",
       "text": [
        "\n",
        "\n",
        "\n",
        "Initial RMS: 7.26828789974\n",
        "\n",
        "FourierSSD: 10.787726483"
       ]
      },
      {
       "output_type": "stream",
       "stream": "stdout",
       "text": [
        "\n",
        "GradientImages: 7.61875317119"
       ]
      },
      {
       "output_type": "stream",
       "stream": "stdout",
       "text": [
        "\n",
        "GradientCorrelation: 0.333442113687"
       ]
      },
      {
       "output_type": "stream",
       "stream": "stdout",
       "text": [
        "\n",
        "\n",
        "\n",
        "Image 3 of 10\n",
        "\n",
        "Initial RMS: 1.01093871328\n",
        "\n",
        "FourierSSD: 29.6056437666"
       ]
      },
      {
       "output_type": "stream",
       "stream": "stdout",
       "text": [
        "\n",
        "GradientImages: 0.643578832673"
       ]
      },
      {
       "output_type": "stream",
       "stream": "stdout",
       "text": [
        "\n",
        "GradientCorrelation: 0.62707042013"
       ]
      },
      {
       "output_type": "stream",
       "stream": "stdout",
       "text": [
        "\n",
        "\n",
        "\n",
        "Initial RMS: 2.53457091822\n",
        "\n",
        "FourierSSD: 29.1043074461"
       ]
      },
      {
       "output_type": "stream",
       "stream": "stdout",
       "text": [
        "\n",
        "GradientImages: 0.671828808543"
       ]
      },
      {
       "output_type": "stream",
       "stream": "stdout",
       "text": [
        "\n",
        "GradientCorrelation: 0.657024289267"
       ]
      },
      {
       "output_type": "stream",
       "stream": "stdout",
       "text": [
        "\n",
        "\n",
        "\n",
        "Initial RMS: 4.10597969762\n",
        "\n",
        "FourierSSD: 30.2349607587"
       ]
      },
      {
       "output_type": "stream",
       "stream": "stdout",
       "text": [
        "\n",
        "GradientImages: 0.673638255851"
       ]
      },
      {
       "output_type": "stream",
       "stream": "stdout",
       "text": [
        "\n",
        "GradientCorrelation: 0.643351685367"
       ]
      },
      {
       "output_type": "stream",
       "stream": "stdout",
       "text": [
        "\n",
        "\n",
        "\n",
        "Initial RMS: 5.68568867379\n",
        "\n",
        "FourierSSD: 30.725702212"
       ]
      },
      {
       "output_type": "stream",
       "stream": "stdout",
       "text": [
        "\n",
        "GradientImages: 0.664614590026"
       ]
      },
      {
       "output_type": "stream",
       "stream": "stdout",
       "text": [
        "\n",
        "GradientCorrelation: 0.618313243881"
       ]
      },
      {
       "output_type": "stream",
       "stream": "stdout",
       "text": [
        "\n",
        "\n",
        "\n",
        "Initial RMS: 7.26828789974\n",
        "\n",
        "FourierSSD: 32.6208047525"
       ]
      },
      {
       "output_type": "stream",
       "stream": "stdout",
       "text": [
        "\n",
        "GradientImages: 6.29633610571"
       ]
      },
      {
       "output_type": "stream",
       "stream": "stdout",
       "text": [
        "\n",
        "GradientCorrelation: 0.657026281607"
       ]
      },
      {
       "output_type": "stream",
       "stream": "stdout",
       "text": [
        "\n",
        "\n",
        "\n",
        "Image 4 of 10\n",
        "\n",
        "Initial RMS: 1.01093871328\n",
        "\n",
        "FourierSSD: 21.7326756592"
       ]
      },
      {
       "output_type": "stream",
       "stream": "stdout",
       "text": [
        "\n",
        "GradientImages: 0.600247233715"
       ]
      },
      {
       "output_type": "stream",
       "stream": "stdout",
       "text": [
        "\n",
        "GradientCorrelation: 0.765642645793"
       ]
      },
      {
       "output_type": "stream",
       "stream": "stdout",
       "text": [
        "\n",
        "\n",
        "\n",
        "Initial RMS: 2.53457091822\n",
        "\n",
        "FourierSSD: 22.2265088746"
       ]
      },
      {
       "output_type": "stream",
       "stream": "stdout",
       "text": [
        "\n",
        "GradientImages: 0.618803926181"
       ]
      },
      {
       "output_type": "stream",
       "stream": "stdout",
       "text": [
        "\n",
        "GradientCorrelation: 0.850909687502"
       ]
      },
      {
       "output_type": "stream",
       "stream": "stdout",
       "text": [
        "\n",
        "\n",
        "\n",
        "Initial RMS: 4.10597969762\n",
        "\n",
        "FourierSSD: 23.0362817769"
       ]
      },
      {
       "output_type": "stream",
       "stream": "stdout",
       "text": [
        "\n",
        "GradientImages: 0.615329926456"
       ]
      },
      {
       "output_type": "stream",
       "stream": "stdout",
       "text": [
        "\n",
        "GradientCorrelation: 0.764687287309"
       ]
      },
      {
       "output_type": "stream",
       "stream": "stdout",
       "text": [
        "\n",
        "\n",
        "\n",
        "Initial RMS: 5.68568867379\n",
        "\n",
        "FourierSSD: 24.8058836931"
       ]
      },
      {
       "output_type": "stream",
       "stream": "stdout",
       "text": [
        "\n",
        "GradientImages: 0.593149964439"
       ]
      },
      {
       "output_type": "stream",
       "stream": "stdout",
       "text": [
        "\n",
        "GradientCorrelation: 0.706455757617"
       ]
      },
      {
       "output_type": "stream",
       "stream": "stdout",
       "text": [
        "\n",
        "\n",
        "\n",
        "Initial RMS: 7.26828789974\n",
        "\n",
        "FourierSSD: 25.8622322626"
       ]
      },
      {
       "output_type": "stream",
       "stream": "stdout",
       "text": [
        "\n",
        "GradientImages: 5.74559911368"
       ]
      },
      {
       "output_type": "stream",
       "stream": "stdout",
       "text": [
        "\n",
        "GradientCorrelation: 0.659004888636"
       ]
      },
      {
       "output_type": "stream",
       "stream": "stdout",
       "text": [
        "\n",
        "\n",
        "\n",
        "Image 5 of 10\n",
        "\n",
        "Initial RMS: 1.01093871328\n",
        "\n",
        "FourierSSD: 28.2751910118"
       ]
      },
      {
       "output_type": "stream",
       "stream": "stdout",
       "text": [
        "\n",
        "GradientImages: 1.11583622056"
       ]
      },
      {
       "output_type": "stream",
       "stream": "stdout",
       "text": [
        "\n",
        "GradientCorrelation: 1.02678236873"
       ]
      },
      {
       "output_type": "stream",
       "stream": "stdout",
       "text": [
        "\n",
        "\n",
        "\n",
        "Initial RMS: 2.53457091822\n",
        "\n",
        "FourierSSD: 28.6162549442"
       ]
      },
      {
       "output_type": "stream",
       "stream": "stdout",
       "text": [
        "\n",
        "GradientImages: 1.11124010815"
       ]
      },
      {
       "output_type": "stream",
       "stream": "stdout",
       "text": [
        "\n",
        "GradientCorrelation: 0.965292636785"
       ]
      },
      {
       "output_type": "stream",
       "stream": "stdout",
       "text": [
        "\n",
        "\n",
        "\n",
        "Initial RMS: 4.10597969762\n",
        "\n",
        "FourierSSD: 29.8537111699"
       ]
      },
      {
       "output_type": "stream",
       "stream": "stdout",
       "text": [
        "\n",
        "GradientImages: 1.0634702841"
       ]
      },
      {
       "output_type": "stream",
       "stream": "stdout",
       "text": [
        "\n",
        "GradientCorrelation: 0.873472122516"
       ]
      },
      {
       "output_type": "stream",
       "stream": "stdout",
       "text": [
        "\n",
        "\n",
        "\n",
        "Initial RMS: 5.68568867379\n",
        "\n",
        "FourierSSD: 31.7596565721"
       ]
      },
      {
       "output_type": "stream",
       "stream": "stdout",
       "text": [
        "\n",
        "GradientImages: 2.18578768752"
       ]
      },
      {
       "output_type": "stream",
       "stream": "stdout",
       "text": [
        "\n",
        "GradientCorrelation: 0.842620044655"
       ]
      },
      {
       "output_type": "stream",
       "stream": "stdout",
       "text": [
        "\n",
        "\n",
        "\n",
        "Initial RMS: 7.26828789974\n",
        "\n",
        "FourierSSD: 33.8583523748"
       ]
      },
      {
       "output_type": "stream",
       "stream": "stdout",
       "text": [
        "\n",
        "GradientImages: 5.88431257828"
       ]
      },
      {
       "output_type": "stream",
       "stream": "stdout",
       "text": [
        "\n",
        "GradientCorrelation: 0.858352233714"
       ]
      },
      {
       "output_type": "stream",
       "stream": "stdout",
       "text": [
        "\n",
        "\n",
        "\n",
        "Image 6 of 10\n",
        "\n",
        "Initial RMS: 1.01093871328\n",
        "\n",
        "FourierSSD: 2.623776049"
       ]
      },
      {
       "output_type": "stream",
       "stream": "stdout",
       "text": [
        "\n",
        "GradientImages: 1.31723138452"
       ]
      },
      {
       "output_type": "stream",
       "stream": "stdout",
       "text": [
        "\n",
        "GradientCorrelation: 0.811732668506"
       ]
      },
      {
       "output_type": "stream",
       "stream": "stdout",
       "text": [
        "\n",
        "\n",
        "\n",
        "Initial RMS: 2.53457091822\n",
        "\n",
        "FourierSSD: 2.79553911837"
       ]
      },
      {
       "output_type": "stream",
       "stream": "stdout",
       "text": [
        "\n",
        "GradientImages: 1.56257284119"
       ]
      },
      {
       "output_type": "stream",
       "stream": "stdout",
       "text": [
        "\n",
        "GradientCorrelation: 0.841902810399"
       ]
      },
      {
       "output_type": "stream",
       "stream": "stdout",
       "text": [
        "\n",
        "\n",
        "\n",
        "Initial RMS: 4.10597969762\n",
        "\n",
        "FourierSSD: 3.13741508168"
       ]
      },
      {
       "output_type": "stream",
       "stream": "stdout",
       "text": [
        "\n",
        "GradientImages: 2.05576417749"
       ]
      },
      {
       "output_type": "stream",
       "stream": "stdout",
       "text": [
        "\n",
        "GradientCorrelation: 2.16623915512"
       ]
      },
      {
       "output_type": "stream",
       "stream": "stdout",
       "text": [
        "\n",
        "\n",
        "\n",
        "Initial RMS: 5.68568867379\n",
        "\n",
        "FourierSSD: 3.72685130023"
       ]
      },
      {
       "output_type": "stream",
       "stream": "stdout",
       "text": [
        "\n",
        "GradientImages: 3.20014313523"
       ]
      },
      {
       "output_type": "stream",
       "stream": "stdout",
       "text": [
        "\n",
        "GradientCorrelation: 3.23430686309"
       ]
      },
      {
       "output_type": "stream",
       "stream": "stdout",
       "text": [
        "\n",
        "\n",
        "\n",
        "Initial RMS: 7.26828789974\n",
        "\n",
        "FourierSSD: 8.20307794696"
       ]
      },
      {
       "output_type": "stream",
       "stream": "stdout",
       "text": [
        "\n",
        "GradientImages: 5.1624667001"
       ]
      },
      {
       "output_type": "stream",
       "stream": "stdout",
       "text": [
        "\n",
        "GradientCorrelation: 3.06579002365"
       ]
      },
      {
       "output_type": "stream",
       "stream": "stdout",
       "text": [
        "\n",
        "\n",
        "\n",
        "Image 7 of 10\n",
        "\n",
        "Initial RMS: 1.01093871328\n",
        "\n",
        "FourierSSD: 5.27245986291"
       ]
      },
      {
       "output_type": "stream",
       "stream": "stdout",
       "text": [
        "\n",
        "GradientImages: 1.01901635999"
       ]
      },
      {
       "output_type": "stream",
       "stream": "stdout",
       "text": [
        "\n",
        "GradientCorrelation: 0.254189682129"
       ]
      },
      {
       "output_type": "stream",
       "stream": "stdout",
       "text": [
        "\n",
        "\n",
        "\n",
        "Initial RMS: 2.53457091822\n",
        "\n",
        "FourierSSD: 6.60782928292"
       ]
      },
      {
       "output_type": "stream",
       "stream": "stdout",
       "text": [
        "\n",
        "GradientImages: 1.31118612993"
       ]
      },
      {
       "output_type": "stream",
       "stream": "stdout",
       "text": [
        "\n",
        "GradientCorrelation: 0.270033498375"
       ]
      },
      {
       "output_type": "stream",
       "stream": "stdout",
       "text": [
        "\n",
        "\n",
        "\n",
        "Initial RMS: 4.10597969762\n",
        "\n",
        "FourierSSD: 9.37002370663"
       ]
      },
      {
       "output_type": "stream",
       "stream": "stdout",
       "text": [
        "\n",
        "GradientImages: 2.22992217001"
       ]
      },
      {
       "output_type": "stream",
       "stream": "stdout",
       "text": [
        "\n",
        "GradientCorrelation: 0.289148928108"
       ]
      },
      {
       "output_type": "stream",
       "stream": "stdout",
       "text": [
        "\n",
        "\n",
        "\n",
        "Initial RMS: 5.68568867379\n",
        "\n",
        "FourierSSD: 12.6485138585"
       ]
      },
      {
       "output_type": "stream",
       "stream": "stdout",
       "text": [
        "\n",
        "GradientImages: 3.82886323592"
       ]
      },
      {
       "output_type": "stream",
       "stream": "stdout",
       "text": [
        "\n",
        "GradientCorrelation: 1.72792065752"
       ]
      },
      {
       "output_type": "stream",
       "stream": "stdout",
       "text": [
        "\n",
        "\n",
        "\n",
        "Initial RMS: 7.26828789974\n",
        "\n",
        "FourierSSD: 15.694678018"
       ]
      },
      {
       "output_type": "stream",
       "stream": "stdout",
       "text": [
        "\n",
        "GradientImages: 5.79069481057"
       ]
      },
      {
       "output_type": "stream",
       "stream": "stdout",
       "text": [
        "\n",
        "GradientCorrelation: 2.29644361599"
       ]
      },
      {
       "output_type": "stream",
       "stream": "stdout",
       "text": [
        "\n",
        "\n",
        "\n",
        "Image 8 of 10\n",
        "\n",
        "Initial RMS: 1.01093871328\n",
        "\n",
        "FourierSSD: 9.42582602012"
       ]
      },
      {
       "output_type": "stream",
       "stream": "stdout",
       "text": [
        "\n",
        "GradientImages: 0.492395908767"
       ]
      },
      {
       "output_type": "stream",
       "stream": "stdout",
       "text": [
        "\n",
        "GradientCorrelation: 0.350725119478"
       ]
      },
      {
       "output_type": "stream",
       "stream": "stdout",
       "text": [
        "\n",
        "\n",
        "\n",
        "Initial RMS: 2.53457091822\n",
        "\n",
        "FourierSSD: 10.6220441712"
       ]
      },
      {
       "output_type": "stream",
       "stream": "stdout",
       "text": [
        "\n",
        "GradientImages: 0.68809659708"
       ]
      },
      {
       "output_type": "stream",
       "stream": "stdout",
       "text": [
        "\n",
        "GradientCorrelation: 0.304045432843"
       ]
      },
      {
       "output_type": "stream",
       "stream": "stdout",
       "text": [
        "\n",
        "\n",
        "\n",
        "Initial RMS: 4.10597969762\n",
        "\n",
        "FourierSSD: 12.8006352111"
       ]
      },
      {
       "output_type": "stream",
       "stream": "stdout",
       "text": [
        "\n",
        "GradientImages: 1.51642000934"
       ]
      },
      {
       "output_type": "stream",
       "stream": "stdout",
       "text": [
        "\n",
        "GradientCorrelation: 0.364140725569"
       ]
      },
      {
       "output_type": "stream",
       "stream": "stdout",
       "text": [
        "\n",
        "\n",
        "\n",
        "Initial RMS: 5.68568867379\n",
        "\n",
        "FourierSSD: 15.9020278209"
       ]
      },
      {
       "output_type": "stream",
       "stream": "stdout",
       "text": [
        "\n",
        "GradientImages: 2.75602558238"
       ]
      },
      {
       "output_type": "stream",
       "stream": "stdout",
       "text": [
        "\n",
        "GradientCorrelation: 0.366788667614"
       ]
      },
      {
       "output_type": "stream",
       "stream": "stdout",
       "text": [
        "\n",
        "\n",
        "\n",
        "Initial RMS: 7.26828789974\n",
        "\n",
        "FourierSSD: 18.416626479"
       ]
      },
      {
       "output_type": "stream",
       "stream": "stdout",
       "text": [
        "\n",
        "GradientImages: 4.92093793364"
       ]
      },
      {
       "output_type": "stream",
       "stream": "stdout",
       "text": [
        "\n",
        "GradientCorrelation: 0.664661943459"
       ]
      },
      {
       "output_type": "stream",
       "stream": "stdout",
       "text": [
        "\n",
        "\n",
        "\n",
        "Image 9 of 10\n",
        "\n",
        "Initial RMS: 1.01093871328\n",
        "\n",
        "FourierSSD: 34.7235119681"
       ]
      },
      {
       "output_type": "stream",
       "stream": "stdout",
       "text": [
        "\n",
        "GradientImages: 0.696538737938"
       ]
      },
      {
       "output_type": "stream",
       "stream": "stdout",
       "text": [
        "\n",
        "GradientCorrelation: 0.650550217033"
       ]
      },
      {
       "output_type": "stream",
       "stream": "stdout",
       "text": [
        "\n",
        "\n",
        "\n",
        "Initial RMS: 2.53457091822\n",
        "\n",
        "FourierSSD: 35.3145400528"
       ]
      },
      {
       "output_type": "stream",
       "stream": "stdout",
       "text": [
        "\n",
        "GradientImages: 0.709796560552"
       ]
      },
      {
       "output_type": "stream",
       "stream": "stdout",
       "text": [
        "\n",
        "GradientCorrelation: 0.710131853279"
       ]
      },
      {
       "output_type": "stream",
       "stream": "stdout",
       "text": [
        "\n",
        "\n",
        "\n",
        "Initial RMS: 4.10597969762\n",
        "\n",
        "FourierSSD: 37.0886208441"
       ]
      },
      {
       "output_type": "stream",
       "stream": "stdout",
       "text": [
        "\n",
        "GradientImages: 0.742641712995"
       ]
      },
      {
       "output_type": "stream",
       "stream": "stdout",
       "text": [
        "\n",
        "GradientCorrelation: 0.675617616856"
       ]
      },
      {
       "output_type": "stream",
       "stream": "stdout",
       "text": [
        "\n",
        "\n",
        "\n",
        "Initial RMS: 5.68568867379\n",
        "\n",
        "FourierSSD: 38.5027023788"
       ]
      },
      {
       "output_type": "stream",
       "stream": "stdout",
       "text": [
        "\n",
        "GradientImages: 2.86128910928"
       ]
      },
      {
       "output_type": "stream",
       "stream": "stdout",
       "text": [
        "\n",
        "GradientCorrelation: 0.662623215593"
       ]
      },
      {
       "output_type": "stream",
       "stream": "stdout",
       "text": [
        "\n",
        "\n",
        "\n",
        "Initial RMS: 7.26828789974\n",
        "\n",
        "FourierSSD: 40.3612719892"
       ]
      },
      {
       "output_type": "stream",
       "stream": "stdout",
       "text": [
        "\n",
        "GradientImages: 4.80338627661"
       ]
      },
      {
       "output_type": "stream",
       "stream": "stdout",
       "text": [
        "\n",
        "GradientCorrelation: 0.764130206693"
       ]
      },
      {
       "output_type": "stream",
       "stream": "stdout",
       "text": [
        "\n",
        "\n",
        "\n",
        "Subject 5 of 10\n",
        "\n",
        "Image 0 of 10\n",
        "\n",
        "Initial RMS: 1.01093871328\n",
        "\n",
        "FourierSSD: 20.9525094574"
       ]
      },
      {
       "output_type": "stream",
       "stream": "stdout",
       "text": [
        "\n",
        "GradientImages: 0.55596803315"
       ]
      },
      {
       "output_type": "stream",
       "stream": "stdout",
       "text": [
        "\n",
        "GradientCorrelation: 0.457181379428"
       ]
      },
      {
       "output_type": "stream",
       "stream": "stdout",
       "text": [
        "\n",
        "\n",
        "\n",
        "Initial RMS: 2.53457091822\n",
        "\n",
        "FourierSSD: 25.5523232057"
       ]
      },
      {
       "output_type": "stream",
       "stream": "stdout",
       "text": [
        "\n",
        "GradientImages: 0.600518374935"
       ]
      },
      {
       "output_type": "stream",
       "stream": "stdout",
       "text": [
        "\n",
        "GradientCorrelation: 0.473841661745"
       ]
      },
      {
       "output_type": "stream",
       "stream": "stdout",
       "text": [
        "\n",
        "\n",
        "\n",
        "Initial RMS: 4.10597969762\n",
        "\n",
        "FourierSSD: 27.9705125976"
       ]
      },
      {
       "output_type": "stream",
       "stream": "stdout",
       "text": [
        "\n",
        "GradientImages: 0.612355959825"
       ]
      },
      {
       "output_type": "stream",
       "stream": "stdout",
       "text": [
        "\n",
        "GradientCorrelation: 0.47499948492"
       ]
      },
      {
       "output_type": "stream",
       "stream": "stdout",
       "text": [
        "\n",
        "\n",
        "\n",
        "Initial RMS: 5.68568867379\n",
        "\n",
        "FourierSSD: 29.1415955164"
       ]
      },
      {
       "output_type": "stream",
       "stream": "stdout",
       "text": [
        "\n",
        "GradientImages: 0.73966725509"
       ]
      },
      {
       "output_type": "stream",
       "stream": "stdout",
       "text": [
        "\n",
        "GradientCorrelation: 0.457436076474"
       ]
      },
      {
       "output_type": "stream",
       "stream": "stdout",
       "text": [
        "\n",
        "\n",
        "\n",
        "Initial RMS: 7.26828789974\n",
        "\n",
        "FourierSSD: 26.7222631854"
       ]
      },
      {
       "output_type": "stream",
       "stream": "stdout",
       "text": [
        "\n",
        "GradientImages: 3.23630824469"
       ]
      },
      {
       "output_type": "stream",
       "stream": "stdout",
       "text": [
        "\n",
        "GradientCorrelation: 0.44988463744"
       ]
      },
      {
       "output_type": "stream",
       "stream": "stdout",
       "text": [
        "\n",
        "\n",
        "\n",
        "Image 1 of 10\n",
        "\n",
        "Initial RMS: 1.01093871328\n",
        "\n",
        "FourierSSD: 3.11810320236"
       ]
      },
      {
       "output_type": "stream",
       "stream": "stdout",
       "text": [
        "\n",
        "GradientImages: 1.18746855657"
       ]
      },
      {
       "output_type": "stream",
       "stream": "stdout",
       "text": [
        "\n",
        "GradientCorrelation: 1.12440333248"
       ]
      },
      {
       "output_type": "stream",
       "stream": "stdout",
       "text": [
        "\n",
        "\n",
        "\n",
        "Initial RMS: 2.53457091822\n",
        "\n",
        "FourierSSD: 3.74230857447"
       ]
      },
      {
       "output_type": "stream",
       "stream": "stdout",
       "text": [
        "\n",
        "GradientImages: 1.22477651127"
       ]
      },
      {
       "output_type": "stream",
       "stream": "stdout",
       "text": [
        "\n",
        "GradientCorrelation: 1.12786196369"
       ]
      },
      {
       "output_type": "stream",
       "stream": "stdout",
       "text": [
        "\n",
        "\n",
        "\n",
        "Initial RMS: 4.10597969762\n",
        "\n",
        "FourierSSD: 4.39082697193"
       ]
      },
      {
       "output_type": "stream",
       "stream": "stdout",
       "text": [
        "\n",
        "GradientImages: 1.35653399513"
       ]
      },
      {
       "output_type": "stream",
       "stream": "stdout",
       "text": [
        "\n",
        "GradientCorrelation: 1.15319824521"
       ]
      },
      {
       "output_type": "stream",
       "stream": "stdout",
       "text": [
        "\n",
        "\n",
        "\n",
        "Initial RMS: 5.68568867379\n",
        "\n",
        "FourierSSD: 6.71367195313"
       ]
      },
      {
       "output_type": "stream",
       "stream": "stdout",
       "text": [
        "\n",
        "GradientImages: 2.29041938299"
       ]
      },
      {
       "output_type": "stream",
       "stream": "stdout",
       "text": [
        "\n",
        "GradientCorrelation: 1.15493256607"
       ]
      },
      {
       "output_type": "stream",
       "stream": "stdout",
       "text": [
        "\n",
        "\n",
        "\n",
        "Initial RMS: 7.26828789974\n",
        "\n",
        "FourierSSD: 5.10854074703"
       ]
      },
      {
       "output_type": "stream",
       "stream": "stdout",
       "text": [
        "\n",
        "GradientImages: 4.32554051074"
       ]
      },
      {
       "output_type": "stream",
       "stream": "stdout",
       "text": [
        "\n",
        "GradientCorrelation: 1.15516808601"
       ]
      },
      {
       "output_type": "stream",
       "stream": "stdout",
       "text": [
        "\n",
        "\n",
        "\n",
        "Image 2 of 10\n",
        "\n",
        "Initial RMS: 1.01093871328\n",
        "\n",
        "FourierSSD: 2.30673860392"
       ]
      },
      {
       "output_type": "stream",
       "stream": "stdout",
       "text": [
        "\n",
        "GradientImages: 2.19853761339"
       ]
      },
      {
       "output_type": "stream",
       "stream": "stdout",
       "text": [
        "\n",
        "GradientCorrelation: 2.1387867079"
       ]
      },
      {
       "output_type": "stream",
       "stream": "stdout",
       "text": [
        "\n",
        "\n",
        "\n",
        "Initial RMS: 2.53457091822\n",
        "\n",
        "FourierSSD: 2.27535252381"
       ]
      },
      {
       "output_type": "stream",
       "stream": "stdout",
       "text": [
        "\n",
        "GradientImages: 2.19817531639"
       ]
      },
      {
       "output_type": "stream",
       "stream": "stdout",
       "text": [
        "\n",
        "GradientCorrelation: 2.14125484114"
       ]
      },
      {
       "output_type": "stream",
       "stream": "stdout",
       "text": [
        "\n",
        "\n",
        "\n",
        "Initial RMS: 4.10597969762\n",
        "\n",
        "FourierSSD: 2.57958718657"
       ]
      },
      {
       "output_type": "stream",
       "stream": "stdout",
       "text": [
        "\n",
        "GradientImages: 2.20266863629"
       ]
      },
      {
       "output_type": "stream",
       "stream": "stdout",
       "text": [
        "\n",
        "GradientCorrelation: 2.17093147397"
       ]
      },
      {
       "output_type": "stream",
       "stream": "stdout",
       "text": [
        "\n",
        "\n",
        "\n",
        "Initial RMS: 5.68568867379\n",
        "\n",
        "FourierSSD: 3.4653394332"
       ]
      },
      {
       "output_type": "stream",
       "stream": "stdout",
       "text": [
        "\n",
        "GradientImages: 3.12431695258"
       ]
      },
      {
       "output_type": "stream",
       "stream": "stdout",
       "text": [
        "\n",
        "GradientCorrelation: 2.1687759843"
       ]
      },
      {
       "output_type": "stream",
       "stream": "stdout",
       "text": [
        "\n",
        "\n",
        "\n",
        "Initial RMS: 7.26828789974\n",
        "\n",
        "FourierSSD: 3.28570577483"
       ]
      },
      {
       "output_type": "stream",
       "stream": "stdout",
       "text": [
        "\n",
        "GradientImages: 6.09303969609"
       ]
      },
      {
       "output_type": "stream",
       "stream": "stdout",
       "text": [
        "\n",
        "GradientCorrelation: 2.12412507163"
       ]
      },
      {
       "output_type": "stream",
       "stream": "stdout",
       "text": [
        "\n",
        "\n",
        "\n",
        "Image 3 of 10\n",
        "\n",
        "Initial RMS: 1.01093871328\n",
        "\n",
        "FourierSSD: 8.81431553047"
       ]
      },
      {
       "output_type": "stream",
       "stream": "stdout",
       "text": [
        "\n",
        "GradientImages: 0.501077944884"
       ]
      },
      {
       "output_type": "stream",
       "stream": "stdout",
       "text": [
        "\n",
        "GradientCorrelation: 0.513323909598"
       ]
      },
      {
       "output_type": "stream",
       "stream": "stdout",
       "text": [
        "\n",
        "\n",
        "\n",
        "Initial RMS: 2.53457091822\n",
        "\n",
        "FourierSSD: 8.38297349064"
       ]
      },
      {
       "output_type": "stream",
       "stream": "stdout",
       "text": [
        "\n",
        "GradientImages: 0.482521062751"
       ]
      },
      {
       "output_type": "stream",
       "stream": "stdout",
       "text": [
        "\n",
        "GradientCorrelation: 0.492021327276"
       ]
      },
      {
       "output_type": "stream",
       "stream": "stdout",
       "text": [
        "\n",
        "\n",
        "\n",
        "Initial RMS: 4.10597969762\n",
        "\n",
        "FourierSSD: 8.69628803693"
       ]
      },
      {
       "output_type": "stream",
       "stream": "stdout",
       "text": [
        "\n",
        "GradientImages: 0.477543971833"
       ]
      },
      {
       "output_type": "stream",
       "stream": "stdout",
       "text": [
        "\n",
        "GradientCorrelation: 0.474086643346"
       ]
      },
      {
       "output_type": "stream",
       "stream": "stdout",
       "text": [
        "\n",
        "\n",
        "\n",
        "Initial RMS: 5.68568867379\n",
        "\n",
        "FourierSSD: 10.7509290927"
       ]
      },
      {
       "output_type": "stream",
       "stream": "stdout",
       "text": [
        "\n",
        "GradientImages: 0.480413349316"
       ]
      },
      {
       "output_type": "stream",
       "stream": "stdout",
       "text": [
        "\n",
        "GradientCorrelation: 0.451291998562"
       ]
      },
      {
       "output_type": "stream",
       "stream": "stdout",
       "text": [
        "\n",
        "\n",
        "\n",
        "Initial RMS: 7.26828789974\n",
        "\n",
        "FourierSSD: 11.7374226884"
       ]
      },
      {
       "output_type": "stream",
       "stream": "stdout",
       "text": [
        "\n",
        "GradientImages: 6.75025713746"
       ]
      },
      {
       "output_type": "stream",
       "stream": "stdout",
       "text": [
        "\n",
        "GradientCorrelation: 0.474672228825"
       ]
      },
      {
       "output_type": "stream",
       "stream": "stdout",
       "text": [
        "\n",
        "\n",
        "\n",
        "Image 4 of 10\n",
        "\n",
        "Initial RMS: 1.01093871328\n",
        "\n",
        "FourierSSD: 23.4805394386"
       ]
      },
      {
       "output_type": "stream",
       "stream": "stdout",
       "text": [
        "\n",
        "GradientImages: 0.444804089951"
       ]
      },
      {
       "output_type": "stream",
       "stream": "stdout",
       "text": [
        "\n",
        "GradientCorrelation: 0.398236766427"
       ]
      },
      {
       "output_type": "stream",
       "stream": "stdout",
       "text": [
        "\n",
        "\n",
        "\n",
        "Initial RMS: 2.53457091822\n",
        "\n",
        "FourierSSD: 22.2568549337"
       ]
      },
      {
       "output_type": "stream",
       "stream": "stdout",
       "text": [
        "\n",
        "GradientImages: 0.402013212541"
       ]
      },
      {
       "output_type": "stream",
       "stream": "stdout",
       "text": [
        "\n",
        "GradientCorrelation: 0.385752093142"
       ]
      },
      {
       "output_type": "stream",
       "stream": "stdout",
       "text": [
        "\n",
        "\n",
        "\n",
        "Initial RMS: 4.10597969762\n",
        "\n",
        "FourierSSD: 22.4664129388"
       ]
      },
      {
       "output_type": "stream",
       "stream": "stdout",
       "text": [
        "\n",
        "GradientImages: 0.398917828562"
       ]
      },
      {
       "output_type": "stream",
       "stream": "stdout",
       "text": [
        "\n",
        "GradientCorrelation: 0.382926471194"
       ]
      },
      {
       "output_type": "stream",
       "stream": "stdout",
       "text": [
        "\n",
        "\n",
        "\n",
        "Initial RMS: 5.68568867379\n",
        "\n",
        "FourierSSD: 20.9699491489"
       ]
      },
      {
       "output_type": "stream",
       "stream": "stdout",
       "text": [
        "\n",
        "GradientImages: 0.387375772916"
       ]
      },
      {
       "output_type": "stream",
       "stream": "stdout",
       "text": [
        "\n",
        "GradientCorrelation: 0.36792498923"
       ]
      },
      {
       "output_type": "stream",
       "stream": "stdout",
       "text": [
        "\n",
        "\n",
        "\n",
        "Initial RMS: 7.26828789974\n",
        "\n",
        "FourierSSD: 13.6622470395"
       ]
      },
      {
       "output_type": "stream",
       "stream": "stdout",
       "text": [
        "\n",
        "GradientImages: 6.9661970465"
       ]
      },
      {
       "output_type": "stream",
       "stream": "stdout",
       "text": [
        "\n",
        "GradientCorrelation: 0.341074687211"
       ]
      },
      {
       "output_type": "stream",
       "stream": "stdout",
       "text": [
        "\n",
        "\n",
        "\n",
        "Image 5 of 10\n",
        "\n",
        "Initial RMS: 1.01093871328\n",
        "\n",
        "FourierSSD: 3.26913174621"
       ]
      },
      {
       "output_type": "stream",
       "stream": "stdout",
       "text": [
        "\n",
        "GradientImages: 0.962079530277"
       ]
      },
      {
       "output_type": "stream",
       "stream": "stdout",
       "text": [
        "\n",
        "GradientCorrelation: 0.497666198053"
       ]
      },
      {
       "output_type": "stream",
       "stream": "stdout",
       "text": [
        "\n",
        "\n",
        "\n",
        "Initial RMS: 2.53457091822\n",
        "\n",
        "FourierSSD: 3.06315701034"
       ]
      },
      {
       "output_type": "stream",
       "stream": "stdout",
       "text": [
        "\n",
        "GradientImages: 1.19476848664"
       ]
      },
      {
       "output_type": "stream",
       "stream": "stdout",
       "text": [
        "\n",
        "GradientCorrelation: 0.591186167078"
       ]
      },
      {
       "output_type": "stream",
       "stream": "stdout",
       "text": [
        "\n",
        "\n",
        "\n",
        "Initial RMS: 4.10597969762\n",
        "\n",
        "FourierSSD: 3.42685923277"
       ]
      },
      {
       "output_type": "stream",
       "stream": "stdout",
       "text": [
        "\n",
        "GradientImages: 1.92501255076"
       ]
      },
      {
       "output_type": "stream",
       "stream": "stdout",
       "text": [
        "\n",
        "GradientCorrelation: 0.588755622477"
       ]
      },
      {
       "output_type": "stream",
       "stream": "stdout",
       "text": [
        "\n",
        "\n",
        "\n",
        "Initial RMS: 5.68568867379\n",
        "\n",
        "FourierSSD: 4.45256944803"
       ]
      },
      {
       "output_type": "stream",
       "stream": "stdout",
       "text": [
        "\n",
        "GradientImages: 3.24001521269"
       ]
      },
      {
       "output_type": "stream",
       "stream": "stdout",
       "text": [
        "\n",
        "GradientCorrelation: 0.668527836519"
       ]
      },
      {
       "output_type": "stream",
       "stream": "stdout",
       "text": [
        "\n",
        "\n",
        "\n",
        "Initial RMS: 7.26828789974\n",
        "\n",
        "FourierSSD: 4.79800313399"
       ]
      },
      {
       "output_type": "stream",
       "stream": "stdout",
       "text": [
        "\n",
        "GradientImages: 5.44915759168"
       ]
      },
      {
       "output_type": "stream",
       "stream": "stdout",
       "text": [
        "\n",
        "GradientCorrelation: 1.59443283174"
       ]
      },
      {
       "output_type": "stream",
       "stream": "stdout",
       "text": [
        "\n",
        "\n",
        "\n",
        "Image 6 of 10\n",
        "\n",
        "Initial RMS: 1.01093871328\n",
        "\n",
        "FourierSSD: 5.43685557615"
       ]
      },
      {
       "output_type": "stream",
       "stream": "stdout",
       "text": [
        "\n",
        "GradientImages: 1.31370716685"
       ]
      },
      {
       "output_type": "stream",
       "stream": "stdout",
       "text": [
        "\n",
        "GradientCorrelation: 0.870724357351"
       ]
      },
      {
       "output_type": "stream",
       "stream": "stdout",
       "text": [
        "\n",
        "\n",
        "\n",
        "Initial RMS: 2.53457091822\n",
        "\n",
        "FourierSSD: 4.88227268903"
       ]
      },
      {
       "output_type": "stream",
       "stream": "stdout",
       "text": [
        "\n",
        "GradientImages: 1.4638388548"
       ]
      },
      {
       "output_type": "stream",
       "stream": "stdout",
       "text": [
        "\n",
        "GradientCorrelation: 0.890444581172"
       ]
      },
      {
       "output_type": "stream",
       "stream": "stdout",
       "text": [
        "\n",
        "\n",
        "\n",
        "Initial RMS: 4.10597969762\n",
        "\n",
        "FourierSSD: 4.71158122697"
       ]
      },
      {
       "output_type": "stream",
       "stream": "stdout",
       "text": [
        "\n",
        "GradientImages: 1.65161251605"
       ]
      },
      {
       "output_type": "stream",
       "stream": "stdout",
       "text": [
        "\n",
        "GradientCorrelation: 0.794291217046"
       ]
      },
      {
       "output_type": "stream",
       "stream": "stdout",
       "text": [
        "\n",
        "\n",
        "\n",
        "Initial RMS: 5.68568867379\n",
        "\n",
        "FourierSSD: 5.04862898466"
       ]
      },
      {
       "output_type": "stream",
       "stream": "stdout",
       "text": [
        "\n",
        "GradientImages: 2.48344416796"
       ]
      },
      {
       "output_type": "stream",
       "stream": "stdout",
       "text": [
        "\n",
        "GradientCorrelation: 0.781001878657"
       ]
      },
      {
       "output_type": "stream",
       "stream": "stdout",
       "text": [
        "\n",
        "\n",
        "\n",
        "Initial RMS: 7.26828789974\n",
        "\n",
        "FourierSSD: 4.80905048286"
       ]
      },
      {
       "output_type": "stream",
       "stream": "stdout",
       "text": [
        "\n",
        "GradientImages: 4.77565256001"
       ]
      },
      {
       "output_type": "stream",
       "stream": "stdout",
       "text": [
        "\n",
        "GradientCorrelation: 0.706023281217"
       ]
      },
      {
       "output_type": "stream",
       "stream": "stdout",
       "text": [
        "\n",
        "\n",
        "\n",
        "Image 7 of 10\n",
        "\n",
        "Initial RMS: 1.01093871328\n",
        "\n",
        "FourierSSD: 5.77189963417"
       ]
      },
      {
       "output_type": "stream",
       "stream": "stdout",
       "text": [
        "\n",
        "GradientImages: 1.01882369128"
       ]
      },
      {
       "output_type": "stream",
       "stream": "stdout",
       "text": [
        "\n",
        "GradientCorrelation: 0.820556396971"
       ]
      },
      {
       "output_type": "stream",
       "stream": "stdout",
       "text": [
        "\n",
        "\n",
        "\n",
        "Initial RMS: 2.53457091822\n",
        "\n",
        "FourierSSD: 6.6127739652"
       ]
      },
      {
       "output_type": "stream",
       "stream": "stdout",
       "text": [
        "\n",
        "GradientImages: 1.1188004753"
       ]
      },
      {
       "output_type": "stream",
       "stream": "stdout",
       "text": [
        "\n",
        "GradientCorrelation: 0.729276790281"
       ]
      },
      {
       "output_type": "stream",
       "stream": "stdout",
       "text": [
        "\n",
        "\n",
        "\n",
        "Initial RMS: 4.10597969762\n",
        "\n",
        "FourierSSD: 7.56592353479"
       ]
      },
      {
       "output_type": "stream",
       "stream": "stdout",
       "text": [
        "\n",
        "GradientImages: 1.26706419453"
       ]
      },
      {
       "output_type": "stream",
       "stream": "stdout",
       "text": [
        "\n",
        "GradientCorrelation: 0.740401400286"
       ]
      },
      {
       "output_type": "stream",
       "stream": "stdout",
       "text": [
        "\n",
        "\n",
        "\n",
        "Initial RMS: 5.68568867379\n",
        "\n",
        "FourierSSD: 8.62000490585"
       ]
      },
      {
       "output_type": "stream",
       "stream": "stdout",
       "text": [
        "\n",
        "GradientImages: 2.36958621661"
       ]
      },
      {
       "output_type": "stream",
       "stream": "stdout",
       "text": [
        "\n",
        "GradientCorrelation: 0.752351847409"
       ]
      },
      {
       "output_type": "stream",
       "stream": "stdout",
       "text": [
        "\n",
        "\n",
        "\n",
        "Initial RMS: 7.26828789974\n",
        "\n",
        "FourierSSD: 8.89826955979"
       ]
      },
      {
       "output_type": "stream",
       "stream": "stdout",
       "text": [
        "\n",
        "GradientImages: 6.1403414271"
       ]
      },
      {
       "output_type": "stream",
       "stream": "stdout",
       "text": [
        "\n",
        "GradientCorrelation: 0.749233089224"
       ]
      },
      {
       "output_type": "stream",
       "stream": "stdout",
       "text": [
        "\n",
        "\n",
        "\n",
        "Image 8 of 10\n",
        "\n",
        "Initial RMS: 1.01093871328\n",
        "\n",
        "FourierSSD: 8.03271613991"
       ]
      },
      {
       "output_type": "stream",
       "stream": "stdout",
       "text": [
        "\n",
        "GradientImages: 0.809456173085"
       ]
      },
      {
       "output_type": "stream",
       "stream": "stdout",
       "text": [
        "\n",
        "GradientCorrelation: 0.71122907693"
       ]
      },
      {
       "output_type": "stream",
       "stream": "stdout",
       "text": [
        "\n",
        "\n",
        "\n",
        "Initial RMS: 2.53457091822\n",
        "\n",
        "FourierSSD: 8.36461347855"
       ]
      },
      {
       "output_type": "stream",
       "stream": "stdout",
       "text": [
        "\n",
        "GradientImages: 0.847743483399"
       ]
      },
      {
       "output_type": "stream",
       "stream": "stdout",
       "text": [
        "\n",
        "GradientCorrelation: 0.728546080176"
       ]
      },
      {
       "output_type": "stream",
       "stream": "stdout",
       "text": [
        "\n",
        "\n",
        "\n",
        "Initial RMS: 4.10597969762\n",
        "\n",
        "FourierSSD: 8.49697457398"
       ]
      },
      {
       "output_type": "stream",
       "stream": "stdout",
       "text": [
        "\n",
        "GradientImages: 0.840032384068"
       ]
      },
      {
       "output_type": "stream",
       "stream": "stdout",
       "text": [
        "\n",
        "GradientCorrelation: 0.694047085477"
       ]
      },
      {
       "output_type": "stream",
       "stream": "stdout",
       "text": [
        "\n",
        "\n",
        "\n",
        "Initial RMS: 5.68568867379\n",
        "\n",
        "FourierSSD: 9.56983450114"
       ]
      },
      {
       "output_type": "stream",
       "stream": "stdout",
       "text": [
        "\n",
        "GradientImages: 1.41398476609"
       ]
      },
      {
       "output_type": "stream",
       "stream": "stdout",
       "text": [
        "\n",
        "GradientCorrelation: 0.717352151984"
       ]
      },
      {
       "output_type": "stream",
       "stream": "stdout",
       "text": [
        "\n",
        "\n",
        "\n",
        "Initial RMS: 7.26828789974\n",
        "\n",
        "FourierSSD: 9.88413286094"
       ]
      },
      {
       "output_type": "stream",
       "stream": "stdout",
       "text": [
        "\n",
        "GradientImages: 5.44377346358"
       ]
      },
      {
       "output_type": "stream",
       "stream": "stdout",
       "text": [
        "\n",
        "GradientCorrelation: 0.711068140089"
       ]
      },
      {
       "output_type": "stream",
       "stream": "stdout",
       "text": [
        "\n",
        "\n",
        "\n",
        "Image 9 of 10\n",
        "\n",
        "Initial RMS: 1.01093871328\n",
        "\n",
        "FourierSSD: 4.69953675087"
       ]
      },
      {
       "output_type": "stream",
       "stream": "stdout",
       "text": [
        "\n",
        "GradientImages: 0.970636390979"
       ]
      },
      {
       "output_type": "stream",
       "stream": "stdout",
       "text": [
        "\n",
        "GradientCorrelation: 0.871790076995"
       ]
      },
      {
       "output_type": "stream",
       "stream": "stdout",
       "text": [
        "\n",
        "\n",
        "\n",
        "Initial RMS: 2.53457091822\n",
        "\n",
        "FourierSSD: 14.0939637745"
       ]
      },
      {
       "output_type": "stream",
       "stream": "stdout",
       "text": [
        "\n",
        "GradientImages: 0.984535301236"
       ]
      },
      {
       "output_type": "stream",
       "stream": "stdout",
       "text": [
        "\n",
        "GradientCorrelation: 0.845418571593"
       ]
      },
      {
       "output_type": "stream",
       "stream": "stdout",
       "text": [
        "\n",
        "\n",
        "\n",
        "Initial RMS: 4.10597969762\n",
        "\n",
        "FourierSSD: 20.6424946094"
       ]
      },
      {
       "output_type": "stream",
       "stream": "stdout",
       "text": [
        "\n",
        "GradientImages: 0.986907142671"
       ]
      },
      {
       "output_type": "stream",
       "stream": "stdout",
       "text": [
        "\n",
        "GradientCorrelation: 0.823618496028"
       ]
      },
      {
       "output_type": "stream",
       "stream": "stdout",
       "text": [
        "\n",
        "\n",
        "\n",
        "Initial RMS: 5.68568867379\n",
        "\n",
        "FourierSSD: 22.2898460115"
       ]
      },
      {
       "output_type": "stream",
       "stream": "stdout",
       "text": [
        "\n",
        "GradientImages: 1.51214543217"
       ]
      },
      {
       "output_type": "stream",
       "stream": "stdout",
       "text": [
        "\n",
        "GradientCorrelation: 0.861091719106"
       ]
      },
      {
       "output_type": "stream",
       "stream": "stdout",
       "text": [
        "\n",
        "\n",
        "\n",
        "Initial RMS: 7.26828789974\n",
        "\n",
        "FourierSSD: 21.9799936746"
       ]
      },
      {
       "output_type": "stream",
       "stream": "stdout",
       "text": [
        "\n",
        "GradientImages: 3.893383261"
       ]
      },
      {
       "output_type": "stream",
       "stream": "stdout",
       "text": [
        "\n",
        "GradientCorrelation: 0.825878597376"
       ]
      },
      {
       "output_type": "stream",
       "stream": "stdout",
       "text": [
        "\n",
        "\n",
        "\n",
        "Subject 6 of 10\n",
        "\n",
        "Image 0 of 10\n",
        "\n",
        "Initial RMS: 1.01093871328\n",
        "\n",
        "FourierSSD: 18.3209180375"
       ]
      },
      {
       "output_type": "stream",
       "stream": "stdout",
       "text": [
        "\n",
        "GradientImages: 1.32544580412"
       ]
      },
      {
       "output_type": "stream",
       "stream": "stdout",
       "text": [
        "\n",
        "GradientCorrelation: 1.35065038668"
       ]
      },
      {
       "output_type": "stream",
       "stream": "stdout",
       "text": [
        "\n",
        "\n",
        "\n",
        "Initial RMS: 2.53457091822\n",
        "\n",
        "FourierSSD: 17.3603122999"
       ]
      },
      {
       "output_type": "stream",
       "stream": "stdout",
       "text": [
        "\n",
        "GradientImages: 1.33252058078"
       ]
      },
      {
       "output_type": "stream",
       "stream": "stdout",
       "text": [
        "\n",
        "GradientCorrelation: 1.38762133436"
       ]
      },
      {
       "output_type": "stream",
       "stream": "stdout",
       "text": [
        "\n",
        "\n",
        "\n",
        "Initial RMS: 4.10597969762\n",
        "\n",
        "FourierSSD: 23.5082990816"
       ]
      },
      {
       "output_type": "stream",
       "stream": "stdout",
       "text": [
        "\n",
        "GradientImages: 1.51755763817"
       ]
      },
      {
       "output_type": "stream",
       "stream": "stdout",
       "text": [
        "\n",
        "GradientCorrelation: 1.35429174628"
       ]
      },
      {
       "output_type": "stream",
       "stream": "stdout",
       "text": [
        "\n",
        "\n",
        "\n",
        "Initial RMS: 5.68568867379\n",
        "\n",
        "FourierSSD: 25.3325540565"
       ]
      },
      {
       "output_type": "stream",
       "stream": "stdout",
       "text": [
        "\n",
        "GradientImages: 3.78802946138"
       ]
      },
      {
       "output_type": "stream",
       "stream": "stdout",
       "text": [
        "\n",
        "GradientCorrelation: 1.4014315443"
       ]
      },
      {
       "output_type": "stream",
       "stream": "stdout",
       "text": [
        "\n",
        "\n",
        "\n",
        "Initial RMS: 7.26828789974\n",
        "\n",
        "FourierSSD: 27.5263600769"
       ]
      },
      {
       "output_type": "stream",
       "stream": "stdout",
       "text": [
        "\n",
        "GradientImages: 7.71205981796"
       ]
      },
      {
       "output_type": "stream",
       "stream": "stdout",
       "text": [
        "\n",
        "GradientCorrelation: 5.35137201903"
       ]
      },
      {
       "output_type": "stream",
       "stream": "stdout",
       "text": [
        "\n",
        "\n",
        "\n",
        "Image 1 of 10\n",
        "\n",
        "Initial RMS: 1.01093871328\n",
        "\n",
        "FourierSSD: 5.62648561523"
       ]
      },
      {
       "output_type": "stream",
       "stream": "stdout",
       "text": [
        "\n",
        "GradientImages: 0.713268997584"
       ]
      },
      {
       "output_type": "stream",
       "stream": "stdout",
       "text": [
        "\n",
        "GradientCorrelation: 0.663298238411"
       ]
      },
      {
       "output_type": "stream",
       "stream": "stdout",
       "text": [
        "\n",
        "\n",
        "\n",
        "Initial RMS: 2.53457091822\n",
        "\n",
        "FourierSSD: 5.49543377639"
       ]
      },
      {
       "output_type": "stream",
       "stream": "stdout",
       "text": [
        "\n",
        "GradientImages: 0.724586863545"
       ]
      },
      {
       "output_type": "stream",
       "stream": "stdout",
       "text": [
        "\n",
        "GradientCorrelation: 0.668692283634"
       ]
      },
      {
       "output_type": "stream",
       "stream": "stdout",
       "text": [
        "\n",
        "\n",
        "\n",
        "Initial RMS: 4.10597969762\n",
        "\n",
        "FourierSSD: 5.84336974907"
       ]
      },
      {
       "output_type": "stream",
       "stream": "stdout",
       "text": [
        "\n",
        "GradientImages: 3.8534237855"
       ]
      },
      {
       "output_type": "stream",
       "stream": "stdout",
       "text": [
        "\n",
        "GradientCorrelation: 0.670342404842"
       ]
      },
      {
       "output_type": "stream",
       "stream": "stdout",
       "text": [
        "\n",
        "\n",
        "\n",
        "Initial RMS: 5.68568867379\n",
        "\n",
        "FourierSSD: 5.43860308824"
       ]
      },
      {
       "output_type": "stream",
       "stream": "stdout",
       "text": [
        "\n",
        "GradientImages: 5.54356454196"
       ]
      },
      {
       "output_type": "stream",
       "stream": "stdout",
       "text": [
        "\n",
        "GradientCorrelation: 0.682438367583"
       ]
      },
      {
       "output_type": "stream",
       "stream": "stdout",
       "text": [
        "\n",
        "\n",
        "\n",
        "Initial RMS: 7.26828789974\n",
        "\n",
        "FourierSSD: 5.30885415584"
       ]
      },
      {
       "output_type": "stream",
       "stream": "stdout",
       "text": [
        "\n",
        "GradientImages: 6.77419903767"
       ]
      },
      {
       "output_type": "stream",
       "stream": "stdout",
       "text": [
        "\n",
        "GradientCorrelation: 3.62580042465"
       ]
      },
      {
       "output_type": "stream",
       "stream": "stdout",
       "text": [
        "\n",
        "\n",
        "\n",
        "Image 2 of 10\n",
        "\n",
        "Initial RMS: 1.01093871328\n",
        "\n",
        "FourierSSD: 4.51254780602"
       ]
      },
      {
       "output_type": "stream",
       "stream": "stdout",
       "text": [
        "\n",
        "GradientImages: 0.763374178888"
       ]
      },
      {
       "output_type": "stream",
       "stream": "stdout",
       "text": [
        "\n",
        "GradientCorrelation: 0.817943938575"
       ]
      },
      {
       "output_type": "stream",
       "stream": "stdout",
       "text": [
        "\n",
        "\n",
        "\n",
        "Initial RMS: 2.53457091822\n",
        "\n",
        "FourierSSD: 3.1630925173"
       ]
      },
      {
       "output_type": "stream",
       "stream": "stdout",
       "text": [
        "\n",
        "GradientImages: 0.757450059413"
       ]
      },
      {
       "output_type": "stream",
       "stream": "stdout",
       "text": [
        "\n",
        "GradientCorrelation: 0.808162704467"
       ]
      },
      {
       "output_type": "stream",
       "stream": "stdout",
       "text": [
        "\n",
        "\n",
        "\n",
        "Initial RMS: 4.10597969762\n",
        "\n",
        "FourierSSD: 3.04872885029"
       ]
      },
      {
       "output_type": "stream",
       "stream": "stdout",
       "text": [
        "\n",
        "GradientImages: 0.774113343157"
       ]
      },
      {
       "output_type": "stream",
       "stream": "stdout",
       "text": [
        "\n",
        "GradientCorrelation: 0.809112027195"
       ]
      },
      {
       "output_type": "stream",
       "stream": "stdout",
       "text": [
        "\n",
        "\n",
        "\n",
        "Initial RMS: 5.68568867379\n",
        "\n",
        "FourierSSD: 3.87957022876"
       ]
      },
      {
       "output_type": "stream",
       "stream": "stdout",
       "text": [
        "\n",
        "GradientImages: 4.48448406922"
       ]
      },
      {
       "output_type": "stream",
       "stream": "stdout",
       "text": [
        "\n",
        "GradientCorrelation: 0.85780592977"
       ]
      },
      {
       "output_type": "stream",
       "stream": "stdout",
       "text": [
        "\n",
        "\n",
        "\n",
        "Initial RMS: 7.26828789974\n",
        "\n",
        "FourierSSD: 7.16755781941"
       ]
      },
      {
       "output_type": "stream",
       "stream": "stdout",
       "text": [
        "\n",
        "GradientImages: 6.13680954868"
       ]
      },
      {
       "output_type": "stream",
       "stream": "stdout",
       "text": [
        "\n",
        "GradientCorrelation: 0.839109002128"
       ]
      },
      {
       "output_type": "stream",
       "stream": "stdout",
       "text": [
        "\n",
        "\n",
        "\n",
        "Image 3 of 10\n",
        "\n",
        "Initial RMS: 1.01093871328\n",
        "\n",
        "FourierSSD: 26.5609640698"
       ]
      },
      {
       "output_type": "stream",
       "stream": "stdout",
       "text": [
        "\n",
        "GradientImages: 0.892603688312"
       ]
      },
      {
       "output_type": "stream",
       "stream": "stdout",
       "text": [
        "\n",
        "GradientCorrelation: 0.87592157515"
       ]
      },
      {
       "output_type": "stream",
       "stream": "stdout",
       "text": [
        "\n",
        "\n",
        "\n",
        "Initial RMS: 2.53457091822\n",
        "\n",
        "FourierSSD: 18.2697724734"
       ]
      },
      {
       "output_type": "stream",
       "stream": "stdout",
       "text": [
        "\n",
        "GradientImages: 0.890417054053"
       ]
      },
      {
       "output_type": "stream",
       "stream": "stdout",
       "text": [
        "\n",
        "GradientCorrelation: 0.822362297356"
       ]
      },
      {
       "output_type": "stream",
       "stream": "stdout",
       "text": [
        "\n",
        "\n",
        "\n",
        "Initial RMS: 4.10597969762\n",
        "\n",
        "FourierSSD: 14.0750136072"
       ]
      },
      {
       "output_type": "stream",
       "stream": "stdout",
       "text": [
        "\n",
        "GradientImages: 0.850244008608"
       ]
      },
      {
       "output_type": "stream",
       "stream": "stdout",
       "text": [
        "\n",
        "GradientCorrelation: 0.809847175918"
       ]
      },
      {
       "output_type": "stream",
       "stream": "stdout",
       "text": [
        "\n",
        "\n",
        "\n",
        "Initial RMS: 5.68568867379\n",
        "\n",
        "FourierSSD: 13.1782660459"
       ]
      },
      {
       "output_type": "stream",
       "stream": "stdout",
       "text": [
        "\n",
        "GradientImages: 5.93830504527"
       ]
      },
      {
       "output_type": "stream",
       "stream": "stdout",
       "text": [
        "\n",
        "GradientCorrelation: 0.783192987704"
       ]
      },
      {
       "output_type": "stream",
       "stream": "stdout",
       "text": [
        "\n",
        "\n",
        "\n",
        "Initial RMS: 7.26828789974\n",
        "\n",
        "FourierSSD: 15.7265523603"
       ]
      },
      {
       "output_type": "stream",
       "stream": "stdout",
       "text": [
        "\n",
        "GradientImages: 6.85591000908"
       ]
      },
      {
       "output_type": "stream",
       "stream": "stdout",
       "text": [
        "\n",
        "GradientCorrelation: 0.898185230052"
       ]
      },
      {
       "output_type": "stream",
       "stream": "stdout",
       "text": [
        "\n",
        "\n",
        "\n",
        "Image 4 of 10\n",
        "\n",
        "Initial RMS: 1.01093871328\n",
        "\n",
        "FourierSSD: 30.1498380175"
       ]
      },
      {
       "output_type": "stream",
       "stream": "stdout",
       "text": [
        "\n",
        "GradientImages: 1.00791201046"
       ]
      },
      {
       "output_type": "stream",
       "stream": "stdout",
       "text": [
        "\n",
        "GradientCorrelation: 1.20180694071"
       ]
      },
      {
       "output_type": "stream",
       "stream": "stdout",
       "text": [
        "\n",
        "\n",
        "\n",
        "Initial RMS: 2.53457091822\n",
        "\n",
        "FourierSSD: 29.1168474952"
       ]
      },
      {
       "output_type": "stream",
       "stream": "stdout",
       "text": [
        "\n",
        "GradientImages: 1.00523521658"
       ]
      },
      {
       "output_type": "stream",
       "stream": "stdout",
       "text": [
        "\n",
        "GradientCorrelation: 1.17415132812"
       ]
      },
      {
       "output_type": "stream",
       "stream": "stdout",
       "text": [
        "\n",
        "\n",
        "\n",
        "Initial RMS: 4.10597969762\n",
        "\n",
        "FourierSSD: 27.7908613735"
       ]
      },
      {
       "output_type": "stream",
       "stream": "stdout",
       "text": [
        "\n",
        "GradientImages: 0.990308503379"
       ]
      },
      {
       "output_type": "stream",
       "stream": "stdout",
       "text": [
        "\n",
        "GradientCorrelation: 1.03464351108"
       ]
      },
      {
       "output_type": "stream",
       "stream": "stdout",
       "text": [
        "\n",
        "\n",
        "\n",
        "Initial RMS: 5.68568867379\n",
        "\n",
        "FourierSSD: 28.5869126866"
       ]
      },
      {
       "output_type": "stream",
       "stream": "stdout",
       "text": [
        "\n",
        "GradientImages: 2.89378575391"
       ]
      },
      {
       "output_type": "stream",
       "stream": "stdout",
       "text": [
        "\n",
        "GradientCorrelation: 0.993195609812"
       ]
      },
      {
       "output_type": "stream",
       "stream": "stdout",
       "text": [
        "\n",
        "\n",
        "\n",
        "Initial RMS: 7.26828789974\n",
        "\n",
        "FourierSSD: 28.4102676842"
       ]
      },
      {
       "output_type": "stream",
       "stream": "stdout",
       "text": [
        "\n",
        "GradientImages: 8.10011497012"
       ]
      },
      {
       "output_type": "stream",
       "stream": "stdout",
       "text": [
        "\n",
        "GradientCorrelation: 1.04387770627"
       ]
      },
      {
       "output_type": "stream",
       "stream": "stdout",
       "text": [
        "\n",
        "\n",
        "\n",
        "Image 5 of 10\n",
        "\n",
        "Initial RMS: 1.01093871328\n",
        "\n",
        "FourierSSD: 3.0941708126"
       ]
      },
      {
       "output_type": "stream",
       "stream": "stdout",
       "text": [
        "\n",
        "GradientImages: 1.21204354946"
       ]
      },
      {
       "output_type": "stream",
       "stream": "stdout",
       "text": [
        "\n",
        "GradientCorrelation: 1.12566114192"
       ]
      },
      {
       "output_type": "stream",
       "stream": "stdout",
       "text": [
        "\n",
        "\n",
        "\n",
        "Initial RMS: 2.53457091822\n",
        "\n",
        "FourierSSD: 5.5341131458"
       ]
      },
      {
       "output_type": "stream",
       "stream": "stdout",
       "text": [
        "\n",
        "GradientImages: 1.24264229436"
       ]
      },
      {
       "output_type": "stream",
       "stream": "stdout",
       "text": [
        "\n",
        "GradientCorrelation: 1.12219070311"
       ]
      },
      {
       "output_type": "stream",
       "stream": "stdout",
       "text": [
        "\n",
        "\n",
        "\n",
        "Initial RMS: 4.10597969762\n",
        "\n",
        "FourierSSD: 10.3791358158"
       ]
      },
      {
       "output_type": "stream",
       "stream": "stdout",
       "text": [
        "\n",
        "GradientImages: 3.55887524677"
       ]
      },
      {
       "output_type": "stream",
       "stream": "stdout",
       "text": [
        "\n",
        "GradientCorrelation: 1.12242703777"
       ]
      },
      {
       "output_type": "stream",
       "stream": "stdout",
       "text": [
        "\n",
        "\n",
        "\n",
        "Initial RMS: 5.68568867379\n",
        "\n",
        "FourierSSD: 12.5862888363"
       ]
      },
      {
       "output_type": "stream",
       "stream": "stdout",
       "text": [
        "\n",
        "GradientImages: 5.42894351654"
       ]
      },
      {
       "output_type": "stream",
       "stream": "stdout",
       "text": [
        "\n",
        "GradientCorrelation: 1.67844265874"
       ]
      },
      {
       "output_type": "stream",
       "stream": "stdout",
       "text": [
        "\n",
        "\n",
        "\n",
        "Initial RMS: 7.26828789974\n",
        "\n",
        "FourierSSD: 15.0009205341"
       ]
      },
      {
       "output_type": "stream",
       "stream": "stdout",
       "text": [
        "\n",
        "GradientImages: 7.47143380784"
       ]
      },
      {
       "output_type": "stream",
       "stream": "stdout",
       "text": [
        "\n",
        "GradientCorrelation: 5.3897785278"
       ]
      },
      {
       "output_type": "stream",
       "stream": "stdout",
       "text": [
        "\n",
        "\n",
        "\n",
        "Image 6 of 10\n",
        "\n",
        "Initial RMS: 1.01093871328\n",
        "\n",
        "FourierSSD: 14.068801864"
       ]
      },
      {
       "output_type": "stream",
       "stream": "stdout",
       "text": [
        "\n",
        "GradientImages: 0.57060057154"
       ]
      },
      {
       "output_type": "stream",
       "stream": "stdout",
       "text": [
        "\n",
        "GradientCorrelation: 0.399818598395"
       ]
      },
      {
       "output_type": "stream",
       "stream": "stdout",
       "text": [
        "\n",
        "\n",
        "\n",
        "Initial RMS: 2.53457091822\n",
        "\n",
        "FourierSSD: 14.3490125777"
       ]
      },
      {
       "output_type": "stream",
       "stream": "stdout",
       "text": [
        "\n",
        "GradientImages: 0.659033070897"
       ]
      },
      {
       "output_type": "stream",
       "stream": "stdout",
       "text": [
        "\n",
        "GradientCorrelation: 0.430286477358"
       ]
      },
      {
       "output_type": "stream",
       "stream": "stdout",
       "text": [
        "\n",
        "\n",
        "\n",
        "Initial RMS: 4.10597969762\n",
        "\n",
        "FourierSSD: 18.9654248117"
       ]
      },
      {
       "output_type": "stream",
       "stream": "stdout",
       "text": [
        "\n",
        "GradientImages: 2.32605894751"
       ]
      },
      {
       "output_type": "stream",
       "stream": "stdout",
       "text": [
        "\n",
        "GradientCorrelation: 0.424731585766"
       ]
      },
      {
       "output_type": "stream",
       "stream": "stdout",
       "text": [
        "\n",
        "\n",
        "\n",
        "Initial RMS: 5.68568867379\n",
        "\n",
        "FourierSSD: 19.9333860912"
       ]
      },
      {
       "output_type": "stream",
       "stream": "stdout",
       "text": [
        "\n",
        "GradientImages: 5.61452644668"
       ]
      },
      {
       "output_type": "stream",
       "stream": "stdout",
       "text": [
        "\n",
        "GradientCorrelation: 3.0246411437"
       ]
      },
      {
       "output_type": "stream",
       "stream": "stdout",
       "text": [
        "\n",
        "\n",
        "\n",
        "Initial RMS: 7.26828789974\n",
        "\n",
        "FourierSSD: 21.9191203098"
       ]
      },
      {
       "output_type": "stream",
       "stream": "stdout",
       "text": [
        "\n",
        "GradientImages: 6.47975150129"
       ]
      },
      {
       "output_type": "stream",
       "stream": "stdout",
       "text": [
        "\n",
        "GradientCorrelation: 3.20440637753"
       ]
      },
      {
       "output_type": "stream",
       "stream": "stdout",
       "text": [
        "\n",
        "\n",
        "\n",
        "Image 7 of 10\n",
        "\n",
        "Initial RMS: 1.01093871328\n",
        "\n",
        "FourierSSD: 12.6159442391"
       ]
      },
      {
       "output_type": "stream",
       "stream": "stdout",
       "text": [
        "\n",
        "GradientImages: 0.465912021816"
       ]
      },
      {
       "output_type": "stream",
       "stream": "stdout",
       "text": [
        "\n",
        "GradientCorrelation: 0.528533179916"
       ]
      },
      {
       "output_type": "stream",
       "stream": "stdout",
       "text": [
        "\n",
        "\n",
        "\n",
        "Initial RMS: 2.53457091822\n",
        "\n",
        "FourierSSD: 13.2782724842"
       ]
      },
      {
       "output_type": "stream",
       "stream": "stdout",
       "text": [
        "\n",
        "GradientImages: 0.460171032233"
       ]
      },
      {
       "output_type": "stream",
       "stream": "stdout",
       "text": [
        "\n",
        "GradientCorrelation: 0.464352201739"
       ]
      },
      {
       "output_type": "stream",
       "stream": "stdout",
       "text": [
        "\n",
        "\n",
        "\n",
        "Initial RMS: 4.10597969762\n",
        "\n",
        "FourierSSD: 22.6216951127"
       ]
      },
      {
       "output_type": "stream",
       "stream": "stdout",
       "text": [
        "\n",
        "GradientImages: 1.77776624611"
       ]
      },
      {
       "output_type": "stream",
       "stream": "stdout",
       "text": [
        "\n",
        "GradientCorrelation: 0.486640840253"
       ]
      },
      {
       "output_type": "stream",
       "stream": "stdout",
       "text": [
        "\n",
        "\n",
        "\n",
        "Initial RMS: 5.68568867379\n",
        "\n",
        "FourierSSD: 23.2097033339"
       ]
      },
      {
       "output_type": "stream",
       "stream": "stdout",
       "text": [
        "\n",
        "GradientImages: 3.81331323373"
       ]
      },
      {
       "output_type": "stream",
       "stream": "stdout",
       "text": [
        "\n",
        "GradientCorrelation: 0.502528614146"
       ]
      },
      {
       "output_type": "stream",
       "stream": "stdout",
       "text": [
        "\n",
        "\n",
        "\n",
        "Initial RMS: 7.26828789974\n",
        "\n",
        "FourierSSD: 26.4726586885"
       ]
      },
      {
       "output_type": "stream",
       "stream": "stdout",
       "text": [
        "\n",
        "GradientImages: 6.89987766296"
       ]
      },
      {
       "output_type": "stream",
       "stream": "stdout",
       "text": [
        "\n",
        "GradientCorrelation: 2.13673551902"
       ]
      },
      {
       "output_type": "stream",
       "stream": "stdout",
       "text": [
        "\n",
        "\n",
        "\n",
        "Image 8 of 10\n",
        "\n",
        "Initial RMS: 1.01093871328\n",
        "\n",
        "FourierSSD: 17.3651327438"
       ]
      },
      {
       "output_type": "stream",
       "stream": "stdout",
       "text": [
        "\n",
        "GradientImages: 0.298313730831"
       ]
      },
      {
       "output_type": "stream",
       "stream": "stdout",
       "text": [
        "\n",
        "GradientCorrelation: 0.312689042671"
       ]
      },
      {
       "output_type": "stream",
       "stream": "stdout",
       "text": [
        "\n",
        "\n",
        "\n",
        "Initial RMS: 2.53457091822\n",
        "\n",
        "FourierSSD: 21.4735315684"
       ]
      },
      {
       "output_type": "stream",
       "stream": "stdout",
       "text": [
        "\n",
        "GradientImages: 0.277265631645"
       ]
      },
      {
       "output_type": "stream",
       "stream": "stdout",
       "text": [
        "\n",
        "GradientCorrelation: 0.306759752315"
       ]
      },
      {
       "output_type": "stream",
       "stream": "stdout",
       "text": [
        "\n",
        "\n",
        "\n",
        "Initial RMS: 4.10597969762\n",
        "\n",
        "FourierSSD: 19.66410209"
       ]
      },
      {
       "output_type": "stream",
       "stream": "stdout",
       "text": [
        "\n",
        "GradientImages: 1.79567002124"
       ]
      },
      {
       "output_type": "stream",
       "stream": "stdout",
       "text": [
        "\n",
        "GradientCorrelation: 0.293611398583"
       ]
      },
      {
       "output_type": "stream",
       "stream": "stdout",
       "text": [
        "\n",
        "\n",
        "\n",
        "Initial RMS: 5.68568867379\n",
        "\n",
        "FourierSSD: 21.9922714629"
       ]
      },
      {
       "output_type": "stream",
       "stream": "stdout",
       "text": [
        "\n",
        "GradientImages: 3.52549285211"
       ]
      },
      {
       "output_type": "stream",
       "stream": "stdout",
       "text": [
        "\n",
        "GradientCorrelation: 0.361789075889"
       ]
      },
      {
       "output_type": "stream",
       "stream": "stdout",
       "text": [
        "\n",
        "\n",
        "\n",
        "Initial RMS: 7.26828789974\n",
        "\n",
        "FourierSSD: 25.8590236142"
       ]
      },
      {
       "output_type": "stream",
       "stream": "stdout",
       "text": [
        "\n",
        "GradientImages: 5.73168300247"
       ]
      },
      {
       "output_type": "stream",
       "stream": "stdout",
       "text": [
        "\n",
        "GradientCorrelation: 2.02206324573"
       ]
      },
      {
       "output_type": "stream",
       "stream": "stdout",
       "text": [
        "\n",
        "\n",
        "\n",
        "Image 9 of 10\n",
        "\n",
        "Initial RMS: 1.01093871328\n",
        "\n",
        "FourierSSD: 9.6977398616"
       ]
      },
      {
       "output_type": "stream",
       "stream": "stdout",
       "text": [
        "\n",
        "GradientImages: 0.429712528674"
       ]
      },
      {
       "output_type": "stream",
       "stream": "stdout",
       "text": [
        "\n",
        "GradientCorrelation: 0.398455608549"
       ]
      },
      {
       "output_type": "stream",
       "stream": "stdout",
       "text": [
        "\n",
        "\n",
        "\n",
        "Initial RMS: 2.53457091822\n",
        "\n",
        "FourierSSD: 15.9554757892"
       ]
      },
      {
       "output_type": "stream",
       "stream": "stdout",
       "text": [
        "\n",
        "GradientImages: 0.43304065976"
       ]
      },
      {
       "output_type": "stream",
       "stream": "stdout",
       "text": [
        "\n",
        "GradientCorrelation: 0.382228954196"
       ]
      },
      {
       "output_type": "stream",
       "stream": "stdout",
       "text": [
        "\n",
        "\n",
        "\n",
        "Initial RMS: 4.10597969762\n",
        "\n",
        "FourierSSD: 22.5695445845"
       ]
      },
      {
       "output_type": "stream",
       "stream": "stdout",
       "text": [
        "\n",
        "GradientImages: 1.27172275838"
       ]
      },
      {
       "output_type": "stream",
       "stream": "stdout",
       "text": [
        "\n",
        "GradientCorrelation: 0.383295063488"
       ]
      },
      {
       "output_type": "stream",
       "stream": "stdout",
       "text": [
        "\n",
        "\n",
        "\n",
        "Initial RMS: 5.68568867379\n",
        "\n",
        "FourierSSD: 24.8924700488"
       ]
      },
      {
       "output_type": "stream",
       "stream": "stdout",
       "text": [
        "\n",
        "GradientImages: 3.76564487213"
       ]
      },
      {
       "output_type": "stream",
       "stream": "stdout",
       "text": [
        "\n",
        "GradientCorrelation: 0.40813538764"
       ]
      },
      {
       "output_type": "stream",
       "stream": "stdout",
       "text": [
        "\n",
        "\n",
        "\n",
        "Initial RMS: 7.26828789974\n",
        "\n",
        "FourierSSD: 29.1887364875"
       ]
      },
      {
       "output_type": "stream",
       "stream": "stdout",
       "text": [
        "\n",
        "GradientImages: 6.33088472017"
       ]
      },
      {
       "output_type": "stream",
       "stream": "stdout",
       "text": [
        "\n",
        "GradientCorrelation: 6.9108307496"
       ]
      },
      {
       "output_type": "stream",
       "stream": "stdout",
       "text": [
        "\n",
        "\n",
        "\n",
        "Subject 7 of 10\n",
        "\n",
        "Image 0 of 10\n",
        "\n",
        "Initial RMS: 1.01093871328\n",
        "\n",
        "FourierSSD: 19.418013996"
       ]
      },
      {
       "output_type": "stream",
       "stream": "stdout",
       "text": [
        "\n",
        "GradientImages: 0.810334517458"
       ]
      },
      {
       "output_type": "stream",
       "stream": "stdout",
       "text": [
        "\n",
        "GradientCorrelation: 0.833707026751"
       ]
      },
      {
       "output_type": "stream",
       "stream": "stdout",
       "text": [
        "\n",
        "\n",
        "\n",
        "Initial RMS: 2.53457091822\n",
        "\n",
        "FourierSSD: 20.5987409467"
       ]
      },
      {
       "output_type": "stream",
       "stream": "stdout",
       "text": [
        "\n",
        "GradientImages: 0.815684295311"
       ]
      },
      {
       "output_type": "stream",
       "stream": "stdout",
       "text": [
        "\n",
        "GradientCorrelation: 0.844949755085"
       ]
      },
      {
       "output_type": "stream",
       "stream": "stdout",
       "text": [
        "\n",
        "\n",
        "\n",
        "Initial RMS: 4.10597969762\n",
        "\n",
        "FourierSSD: 21.4955167564"
       ]
      },
      {
       "output_type": "stream",
       "stream": "stdout",
       "text": [
        "\n",
        "GradientImages: 0.812737965785"
       ]
      },
      {
       "output_type": "stream",
       "stream": "stdout",
       "text": [
        "\n",
        "GradientCorrelation: 0.842838769662"
       ]
      },
      {
       "output_type": "stream",
       "stream": "stdout",
       "text": [
        "\n",
        "\n",
        "\n",
        "Initial RMS: 5.68568867379\n",
        "\n",
        "FourierSSD: 23.0532269498"
       ]
      },
      {
       "output_type": "stream",
       "stream": "stdout",
       "text": [
        "\n",
        "GradientImages: 2.29506782067"
       ]
      },
      {
       "output_type": "stream",
       "stream": "stdout",
       "text": [
        "\n",
        "GradientCorrelation: 0.818452941183"
       ]
      },
      {
       "output_type": "stream",
       "stream": "stdout",
       "text": [
        "\n",
        "\n",
        "\n",
        "Initial RMS: 7.26828789974\n",
        "\n",
        "FourierSSD: 25.3409965467"
       ]
      },
      {
       "output_type": "stream",
       "stream": "stdout",
       "text": [
        "\n",
        "GradientImages: 6.31352975001"
       ]
      },
      {
       "output_type": "stream",
       "stream": "stdout",
       "text": [
        "\n",
        "GradientCorrelation: 0.824179837969"
       ]
      },
      {
       "output_type": "stream",
       "stream": "stdout",
       "text": [
        "\n",
        "\n",
        "\n",
        "Image 1 of 10\n",
        "\n",
        "Initial RMS: 1.01093871328\n",
        "\n",
        "FourierSSD: 3.15969122642"
       ]
      },
      {
       "output_type": "stream",
       "stream": "stdout",
       "text": [
        "\n",
        "GradientImages: 0.286156058526"
       ]
      },
      {
       "output_type": "stream",
       "stream": "stdout",
       "text": [
        "\n",
        "GradientCorrelation: 0.280314626206"
       ]
      },
      {
       "output_type": "stream",
       "stream": "stdout",
       "text": [
        "\n",
        "\n",
        "\n",
        "Initial RMS: 2.53457091822\n",
        "\n",
        "FourierSSD: 2.99692538751"
       ]
      },
      {
       "output_type": "stream",
       "stream": "stdout",
       "text": [
        "\n",
        "GradientImages: 0.296402937229"
       ]
      },
      {
       "output_type": "stream",
       "stream": "stdout",
       "text": [
        "\n",
        "GradientCorrelation: 0.274897038495"
       ]
      },
      {
       "output_type": "stream",
       "stream": "stdout",
       "text": [
        "\n",
        "\n",
        "\n",
        "Initial RMS: 4.10597969762\n",
        "\n",
        "FourierSSD: 2.8062212343"
       ]
      },
      {
       "output_type": "stream",
       "stream": "stdout",
       "text": [
        "\n",
        "GradientImages: 0.381805699967"
       ]
      },
      {
       "output_type": "stream",
       "stream": "stdout",
       "text": [
        "\n",
        "GradientCorrelation: 0.256885422884"
       ]
      },
      {
       "output_type": "stream",
       "stream": "stdout",
       "text": [
        "\n",
        "\n",
        "\n",
        "Initial RMS: 5.68568867379\n",
        "\n",
        "FourierSSD: 2.83136136438"
       ]
      },
      {
       "output_type": "stream",
       "stream": "stdout",
       "text": [
        "\n",
        "GradientImages: 3.33468080806"
       ]
      },
      {
       "output_type": "stream",
       "stream": "stdout",
       "text": [
        "\n",
        "GradientCorrelation: 0.271874188403"
       ]
      },
      {
       "output_type": "stream",
       "stream": "stdout",
       "text": [
        "\n",
        "\n",
        "\n",
        "Initial RMS: 7.26828789974\n",
        "\n",
        "FourierSSD: 2.87126286191"
       ]
      },
      {
       "output_type": "stream",
       "stream": "stdout",
       "text": [
        "\n",
        "GradientImages: 7.44589421869"
       ]
      },
      {
       "output_type": "stream",
       "stream": "stdout",
       "text": [
        "\n",
        "GradientCorrelation: 1.14872514459"
       ]
      },
      {
       "output_type": "stream",
       "stream": "stdout",
       "text": [
        "\n",
        "\n",
        "\n",
        "Image 2 of 10\n",
        "\n",
        "Initial RMS: 1.01093871328\n",
        "\n",
        "FourierSSD: 9.67682389696"
       ]
      },
      {
       "output_type": "stream",
       "stream": "stdout",
       "text": [
        "\n",
        "GradientImages: 0.680935185987"
       ]
      },
      {
       "output_type": "stream",
       "stream": "stdout",
       "text": [
        "\n",
        "GradientCorrelation: 0.469264772165"
       ]
      },
      {
       "output_type": "stream",
       "stream": "stdout",
       "text": [
        "\n",
        "\n",
        "\n",
        "Initial RMS: 2.53457091822\n",
        "\n",
        "FourierSSD: 9.00364873092"
       ]
      },
      {
       "output_type": "stream",
       "stream": "stdout",
       "text": [
        "\n",
        "GradientImages: 0.696261138276"
       ]
      },
      {
       "output_type": "stream",
       "stream": "stdout",
       "text": [
        "\n",
        "GradientCorrelation: 0.466661781443"
       ]
      },
      {
       "output_type": "stream",
       "stream": "stdout",
       "text": [
        "\n",
        "\n",
        "\n",
        "Initial RMS: 4.10597969762\n",
        "\n",
        "FourierSSD: 8.45742895167"
       ]
      },
      {
       "output_type": "stream",
       "stream": "stdout",
       "text": [
        "\n",
        "GradientImages: 0.710667746021"
       ]
      },
      {
       "output_type": "stream",
       "stream": "stdout",
       "text": [
        "\n",
        "GradientCorrelation: 0.467952804431"
       ]
      },
      {
       "output_type": "stream",
       "stream": "stdout",
       "text": [
        "\n",
        "\n",
        "\n",
        "Initial RMS: 5.68568867379\n",
        "\n",
        "FourierSSD: 8.6636931076"
       ]
      },
      {
       "output_type": "stream",
       "stream": "stdout",
       "text": [
        "\n",
        "GradientImages: 2.86284621917"
       ]
      },
      {
       "output_type": "stream",
       "stream": "stdout",
       "text": [
        "\n",
        "GradientCorrelation: 0.471785206182"
       ]
      },
      {
       "output_type": "stream",
       "stream": "stdout",
       "text": [
        "\n",
        "\n",
        "\n",
        "Initial RMS: 7.26828789974\n",
        "\n",
        "FourierSSD: 8.32532104914"
       ]
      },
      {
       "output_type": "stream",
       "stream": "stdout",
       "text": [
        "\n",
        "GradientImages: 7.64969512649"
       ]
      },
      {
       "output_type": "stream",
       "stream": "stdout",
       "text": [
        "\n",
        "GradientCorrelation: 0.458055714415"
       ]
      },
      {
       "output_type": "stream",
       "stream": "stdout",
       "text": [
        "\n",
        "\n",
        "\n",
        "Image 3 of 10\n",
        "\n",
        "Initial RMS: 1.01093871328\n",
        "\n",
        "FourierSSD: 22.3866398241"
       ]
      },
      {
       "output_type": "stream",
       "stream": "stdout",
       "text": [
        "\n",
        "GradientImages: 0.69606912039"
       ]
      },
      {
       "output_type": "stream",
       "stream": "stdout",
       "text": [
        "\n",
        "GradientCorrelation: 0.618043415078"
       ]
      },
      {
       "output_type": "stream",
       "stream": "stdout",
       "text": [
        "\n",
        "\n",
        "\n",
        "Initial RMS: 2.53457091822\n",
        "\n",
        "FourierSSD: 23.249570355"
       ]
      },
      {
       "output_type": "stream",
       "stream": "stdout",
       "text": [
        "\n",
        "GradientImages: 0.661014975486"
       ]
      },
      {
       "output_type": "stream",
       "stream": "stdout",
       "text": [
        "\n",
        "GradientCorrelation: 0.602168653248"
       ]
      },
      {
       "output_type": "stream",
       "stream": "stdout",
       "text": [
        "\n",
        "\n",
        "\n",
        "Initial RMS: 4.10597969762\n",
        "\n",
        "FourierSSD: 25.1081617272"
       ]
      },
      {
       "output_type": "stream",
       "stream": "stdout",
       "text": [
        "\n",
        "GradientImages: 0.626860393957"
       ]
      },
      {
       "output_type": "stream",
       "stream": "stdout",
       "text": [
        "\n",
        "GradientCorrelation: 0.560428025786"
       ]
      },
      {
       "output_type": "stream",
       "stream": "stdout",
       "text": [
        "\n",
        "\n",
        "\n",
        "Initial RMS: 5.68568867379\n",
        "\n",
        "FourierSSD: 27.723786197"
       ]
      },
      {
       "output_type": "stream",
       "stream": "stdout",
       "text": [
        "\n",
        "GradientImages: 2.04370989662"
       ]
      },
      {
       "output_type": "stream",
       "stream": "stdout",
       "text": [
        "\n",
        "GradientCorrelation: 0.577507180183"
       ]
      },
      {
       "output_type": "stream",
       "stream": "stdout",
       "text": [
        "\n",
        "\n",
        "\n",
        "Initial RMS: 7.26828789974\n",
        "\n",
        "FourierSSD: 27.0977526982"
       ]
      },
      {
       "output_type": "stream",
       "stream": "stdout",
       "text": [
        "\n",
        "GradientImages: 6.61628938686"
       ]
      },
      {
       "output_type": "stream",
       "stream": "stdout",
       "text": [
        "\n",
        "GradientCorrelation: 0.553871456075"
       ]
      },
      {
       "output_type": "stream",
       "stream": "stdout",
       "text": [
        "\n",
        "\n",
        "\n",
        "Image 4 of 10\n",
        "\n",
        "Initial RMS: 1.01093871328\n",
        "\n",
        "FourierSSD: 29.9440810933"
       ]
      },
      {
       "output_type": "stream",
       "stream": "stdout",
       "text": [
        "\n",
        "GradientImages: 0.571878427642"
       ]
      },
      {
       "output_type": "stream",
       "stream": "stdout",
       "text": [
        "\n",
        "GradientCorrelation: 0.577110639277"
       ]
      },
      {
       "output_type": "stream",
       "stream": "stdout",
       "text": [
        "\n",
        "\n",
        "\n",
        "Initial RMS: 2.53457091822\n",
        "\n",
        "FourierSSD: 31.3997193027"
       ]
      },
      {
       "output_type": "stream",
       "stream": "stdout",
       "text": [
        "\n",
        "GradientImages: 0.529889940216"
       ]
      },
      {
       "output_type": "stream",
       "stream": "stdout",
       "text": [
        "\n",
        "GradientCorrelation: 0.540472098758"
       ]
      },
      {
       "output_type": "stream",
       "stream": "stdout",
       "text": [
        "\n",
        "\n",
        "\n",
        "Initial RMS: 4.10597969762\n",
        "\n",
        "FourierSSD: 31.5574059048"
       ]
      },
      {
       "output_type": "stream",
       "stream": "stdout",
       "text": [
        "\n",
        "GradientImages: 0.507668609357"
       ]
      },
      {
       "output_type": "stream",
       "stream": "stdout",
       "text": [
        "\n",
        "GradientCorrelation: 0.544058672626"
       ]
      },
      {
       "output_type": "stream",
       "stream": "stdout",
       "text": [
        "\n",
        "\n",
        "\n",
        "Initial RMS: 5.68568867379\n",
        "\n",
        "FourierSSD: 29.748466538"
       ]
      },
      {
       "output_type": "stream",
       "stream": "stdout",
       "text": [
        "\n",
        "GradientImages: 3.23253669107"
       ]
      },
      {
       "output_type": "stream",
       "stream": "stdout",
       "text": [
        "\n",
        "GradientCorrelation: 0.532218293849"
       ]
      },
      {
       "output_type": "stream",
       "stream": "stdout",
       "text": [
        "\n",
        "\n",
        "\n",
        "Initial RMS: 7.26828789974\n",
        "\n",
        "FourierSSD: 30.8732760094"
       ]
      },
      {
       "output_type": "stream",
       "stream": "stdout",
       "text": [
        "\n",
        "GradientImages: 8.1588629353"
       ]
      },
      {
       "output_type": "stream",
       "stream": "stdout",
       "text": [
        "\n",
        "GradientCorrelation: 0.53879933513"
       ]
      },
      {
       "output_type": "stream",
       "stream": "stdout",
       "text": [
        "\n",
        "\n",
        "\n",
        "Image 5 of 10\n",
        "\n",
        "Initial RMS: 1.01093871328\n",
        "\n",
        "FourierSSD: 5.67331364827"
       ]
      },
      {
       "output_type": "stream",
       "stream": "stdout",
       "text": [
        "\n",
        "GradientImages: 0.518794726607"
       ]
      },
      {
       "output_type": "stream",
       "stream": "stdout",
       "text": [
        "\n",
        "GradientCorrelation: 0.468488005562"
       ]
      },
      {
       "output_type": "stream",
       "stream": "stdout",
       "text": [
        "\n",
        "\n",
        "\n",
        "Initial RMS: 2.53457091822\n",
        "\n",
        "FourierSSD: 5.56769887767"
       ]
      },
      {
       "output_type": "stream",
       "stream": "stdout",
       "text": [
        "\n",
        "GradientImages: 0.538018608537"
       ]
      },
      {
       "output_type": "stream",
       "stream": "stdout",
       "text": [
        "\n",
        "GradientCorrelation: 0.488622735689"
       ]
      },
      {
       "output_type": "stream",
       "stream": "stdout",
       "text": [
        "\n",
        "\n",
        "\n",
        "Initial RMS: 4.10597969762\n",
        "\n",
        "FourierSSD: 5.82981375833"
       ]
      },
      {
       "output_type": "stream",
       "stream": "stdout",
       "text": [
        "\n",
        "GradientImages: 1.85137615859"
       ]
      },
      {
       "output_type": "stream",
       "stream": "stdout",
       "text": [
        "\n",
        "GradientCorrelation: 0.475938133216"
       ]
      },
      {
       "output_type": "stream",
       "stream": "stdout",
       "text": [
        "\n",
        "\n",
        "\n",
        "Initial RMS: 5.68568867379\n",
        "\n",
        "FourierSSD: 7.13915782083"
       ]
      },
      {
       "output_type": "stream",
       "stream": "stdout",
       "text": [
        "\n",
        "GradientImages: 4.28942823102"
       ]
      },
      {
       "output_type": "stream",
       "stream": "stdout",
       "text": [
        "\n",
        "GradientCorrelation: 0.448537921887"
       ]
      },
      {
       "output_type": "stream",
       "stream": "stdout",
       "text": [
        "\n",
        "\n",
        "\n",
        "Initial RMS: 7.26828789974\n",
        "\n",
        "FourierSSD: 8.17777442684"
       ]
      },
      {
       "output_type": "stream",
       "stream": "stdout",
       "text": [
        "\n",
        "GradientImages: 5.98390239972"
       ]
      },
      {
       "output_type": "stream",
       "stream": "stdout",
       "text": [
        "\n",
        "GradientCorrelation: 2.79842613549"
       ]
      },
      {
       "output_type": "stream",
       "stream": "stdout",
       "text": [
        "\n",
        "\n",
        "\n",
        "Image 6 of 10\n",
        "\n",
        "Initial RMS: 1.01093871328\n",
        "\n",
        "FourierSSD: 10.0748821948"
       ]
      },
      {
       "output_type": "stream",
       "stream": "stdout",
       "text": [
        "\n",
        "GradientImages: 1.46596511509"
       ]
      },
      {
       "output_type": "stream",
       "stream": "stdout",
       "text": [
        "\n",
        "GradientCorrelation: 0.450807377405"
       ]
      },
      {
       "output_type": "stream",
       "stream": "stdout",
       "text": [
        "\n",
        "\n",
        "\n",
        "Initial RMS: 2.53457091822\n",
        "\n",
        "FourierSSD: 8.41454337296"
       ]
      },
      {
       "output_type": "stream",
       "stream": "stdout",
       "text": [
        "\n",
        "GradientImages: 1.97300338163"
       ]
      },
      {
       "output_type": "stream",
       "stream": "stdout",
       "text": [
        "\n",
        "GradientCorrelation: 0.444865415846"
       ]
      },
      {
       "output_type": "stream",
       "stream": "stdout",
       "text": [
        "\n",
        "\n",
        "\n",
        "Initial RMS: 4.10597969762\n",
        "\n",
        "FourierSSD: 7.5655402833"
       ]
      },
      {
       "output_type": "stream",
       "stream": "stdout",
       "text": [
        "\n",
        "GradientImages: 3.00312211585"
       ]
      },
      {
       "output_type": "stream",
       "stream": "stdout",
       "text": [
        "\n",
        "GradientCorrelation: 0.431778488024"
       ]
      },
      {
       "output_type": "stream",
       "stream": "stdout",
       "text": [
        "\n",
        "\n",
        "\n",
        "Initial RMS: 5.68568867379\n",
        "\n",
        "FourierSSD: 8.37022176228"
       ]
      },
      {
       "output_type": "stream",
       "stream": "stdout",
       "text": [
        "\n",
        "GradientImages: 4.06649472748"
       ]
      },
      {
       "output_type": "stream",
       "stream": "stdout",
       "text": [
        "\n",
        "GradientCorrelation: 2.91298670622"
       ]
      },
      {
       "output_type": "stream",
       "stream": "stdout",
       "text": [
        "\n",
        "\n",
        "\n",
        "Initial RMS: 7.26828789974\n",
        "\n",
        "FourierSSD: 7.83212609518"
       ]
      },
      {
       "output_type": "stream",
       "stream": "stdout",
       "text": [
        "\n",
        "GradientImages: 5.26719385826"
       ]
      },
      {
       "output_type": "stream",
       "stream": "stdout",
       "text": [
        "\n",
        "GradientCorrelation: 3.1694036045"
       ]
      },
      {
       "output_type": "stream",
       "stream": "stdout",
       "text": [
        "\n",
        "\n",
        "\n",
        "Image 7 of 10\n",
        "\n",
        "Initial RMS: 1.01093871328\n",
        "\n",
        "FourierSSD: 16.7093871885"
       ]
      },
      {
       "output_type": "stream",
       "stream": "stdout",
       "text": [
        "\n",
        "GradientImages: 0.861915753387"
       ]
      },
      {
       "output_type": "stream",
       "stream": "stdout",
       "text": [
        "\n",
        "GradientCorrelation: 0.331027222037"
       ]
      },
      {
       "output_type": "stream",
       "stream": "stdout",
       "text": [
        "\n",
        "\n",
        "\n",
        "Initial RMS: 2.53457091822\n",
        "\n",
        "FourierSSD: 18.4750260719"
       ]
      },
      {
       "output_type": "stream",
       "stream": "stdout",
       "text": [
        "\n",
        "GradientImages: 1.61734816908"
       ]
      },
      {
       "output_type": "stream",
       "stream": "stdout",
       "text": [
        "\n",
        "GradientCorrelation: 0.332781586687"
       ]
      },
      {
       "output_type": "stream",
       "stream": "stdout",
       "text": [
        "\n",
        "\n",
        "\n",
        "Initial RMS: 4.10597969762\n",
        "\n",
        "FourierSSD: 19.2518185574"
       ]
      },
      {
       "output_type": "stream",
       "stream": "stdout",
       "text": [
        "\n",
        "GradientImages: 2.97910890777"
       ]
      },
      {
       "output_type": "stream",
       "stream": "stdout",
       "text": [
        "\n",
        "GradientCorrelation: 0.320359100603"
       ]
      },
      {
       "output_type": "stream",
       "stream": "stdout",
       "text": [
        "\n",
        "\n",
        "\n",
        "Initial RMS: 5.68568867379\n",
        "\n",
        "FourierSSD: 21.0490794837"
       ]
      },
      {
       "output_type": "stream",
       "stream": "stdout",
       "text": [
        "\n",
        "GradientImages: 3.9084206707"
       ]
      },
      {
       "output_type": "stream",
       "stream": "stdout",
       "text": [
        "\n",
        "GradientCorrelation: 0.453038975229"
       ]
      },
      {
       "output_type": "stream",
       "stream": "stdout",
       "text": [
        "\n",
        "\n",
        "\n",
        "Initial RMS: 7.26828789974\n",
        "\n",
        "FourierSSD: 22.6676610544"
       ]
      },
      {
       "output_type": "stream",
       "stream": "stdout",
       "text": [
        "\n",
        "GradientImages: 5.48265553929"
       ]
      },
      {
       "output_type": "stream",
       "stream": "stdout",
       "text": [
        "\n",
        "GradientCorrelation: 2.49675947653"
       ]
      },
      {
       "output_type": "stream",
       "stream": "stdout",
       "text": [
        "\n",
        "\n",
        "\n",
        "Image 8 of 10\n",
        "\n",
        "Initial RMS: 1.01093871328\n",
        "\n",
        "FourierSSD: 21.8304285283"
       ]
      },
      {
       "output_type": "stream",
       "stream": "stdout",
       "text": [
        "\n",
        "GradientImages: 0.482399487509"
       ]
      },
      {
       "output_type": "stream",
       "stream": "stdout",
       "text": [
        "\n",
        "GradientCorrelation: 0.313933048641"
       ]
      },
      {
       "output_type": "stream",
       "stream": "stdout",
       "text": [
        "\n",
        "\n",
        "\n",
        "Initial RMS: 2.53457091822\n",
        "\n",
        "FourierSSD: 22.5190239624"
       ]
      },
      {
       "output_type": "stream",
       "stream": "stdout",
       "text": [
        "\n",
        "GradientImages: 0.502245861398"
       ]
      },
      {
       "output_type": "stream",
       "stream": "stdout",
       "text": [
        "\n",
        "GradientCorrelation: 0.328562464488"
       ]
      },
      {
       "output_type": "stream",
       "stream": "stdout",
       "text": [
        "\n",
        "\n",
        "\n",
        "Initial RMS: 4.10597969762\n",
        "\n",
        "FourierSSD: 23.0647237475"
       ]
      },
      {
       "output_type": "stream",
       "stream": "stdout",
       "text": [
        "\n",
        "GradientImages: 1.92831806519"
       ]
      },
      {
       "output_type": "stream",
       "stream": "stdout",
       "text": [
        "\n",
        "GradientCorrelation: 0.322887419315"
       ]
      },
      {
       "output_type": "stream",
       "stream": "stdout",
       "text": [
        "\n",
        "\n",
        "\n",
        "Initial RMS: 5.68568867379\n",
        "\n",
        "FourierSSD: 24.6848917742"
       ]
      },
      {
       "output_type": "stream",
       "stream": "stdout",
       "text": [
        "\n",
        "GradientImages: 3.77301146226"
       ]
      },
      {
       "output_type": "stream",
       "stream": "stdout",
       "text": [
        "\n",
        "GradientCorrelation: 0.289598182627"
       ]
      },
      {
       "output_type": "stream",
       "stream": "stdout",
       "text": [
        "\n",
        "\n",
        "\n",
        "Initial RMS: 7.26828789974\n",
        "\n",
        "FourierSSD: 26.5488932601"
       ]
      },
      {
       "output_type": "stream",
       "stream": "stdout",
       "text": [
        "\n",
        "GradientImages: 5.47650152876"
       ]
      },
      {
       "output_type": "stream",
       "stream": "stdout",
       "text": [
        "\n",
        "GradientCorrelation: 0.277626822677"
       ]
      },
      {
       "output_type": "stream",
       "stream": "stdout",
       "text": [
        "\n",
        "\n",
        "\n",
        "Image 9 of 10\n",
        "\n",
        "Initial RMS: 1.01093871328\n",
        "\n",
        "FourierSSD: 24.6625579812"
       ]
      },
      {
       "output_type": "stream",
       "stream": "stdout",
       "text": [
        "\n",
        "GradientImages: 0.315248674375"
       ]
      },
      {
       "output_type": "stream",
       "stream": "stdout",
       "text": [
        "\n",
        "GradientCorrelation: 0.300580209391"
       ]
      },
      {
       "output_type": "stream",
       "stream": "stdout",
       "text": [
        "\n",
        "\n",
        "\n",
        "Initial RMS: 2.53457091822\n",
        "\n",
        "FourierSSD: 26.418047256"
       ]
      },
      {
       "output_type": "stream",
       "stream": "stdout",
       "text": [
        "\n",
        "GradientImages: 0.316486716365"
       ]
      },
      {
       "output_type": "stream",
       "stream": "stdout",
       "text": [
        "\n",
        "GradientCorrelation: 0.300725269205"
       ]
      },
      {
       "output_type": "stream",
       "stream": "stdout",
       "text": [
        "\n",
        "\n",
        "\n",
        "Initial RMS: 4.10597969762\n",
        "\n",
        "FourierSSD: 27.9495657394"
       ]
      },
      {
       "output_type": "stream",
       "stream": "stdout",
       "text": [
        "\n",
        "GradientImages: 1.63920260388"
       ]
      },
      {
       "output_type": "stream",
       "stream": "stdout",
       "text": [
        "\n",
        "GradientCorrelation: 0.296984038678"
       ]
      },
      {
       "output_type": "stream",
       "stream": "stdout",
       "text": [
        "\n",
        "\n",
        "\n",
        "Initial RMS: 5.68568867379\n",
        "\n",
        "FourierSSD: 30.3344358929"
       ]
      },
      {
       "output_type": "stream",
       "stream": "stdout",
       "text": [
        "\n",
        "GradientImages: 3.33727158275"
       ]
      },
      {
       "output_type": "stream",
       "stream": "stdout",
       "text": [
        "\n",
        "GradientCorrelation: 0.326637818477"
       ]
      },
      {
       "output_type": "stream",
       "stream": "stdout",
       "text": [
        "\n",
        "\n",
        "\n",
        "Initial RMS: 7.26828789974\n",
        "\n",
        "FourierSSD: 32.2163428539"
       ]
      },
      {
       "output_type": "stream",
       "stream": "stdout",
       "text": [
        "\n",
        "GradientImages: 5.05691450147"
       ]
      },
      {
       "output_type": "stream",
       "stream": "stdout",
       "text": [
        "\n",
        "GradientCorrelation: 2.27676293304"
       ]
      },
      {
       "output_type": "stream",
       "stream": "stdout",
       "text": [
        "\n",
        "\n",
        "\n",
        "Subject 8 of 10\n",
        "\n",
        "Image 0 of 10\n",
        "\n",
        "Initial RMS: 1.01093871328\n",
        "\n",
        "FourierSSD: 29.6759451519"
       ]
      },
      {
       "output_type": "stream",
       "stream": "stdout",
       "text": [
        "\n",
        "GradientImages: 0.439188934368"
       ]
      },
      {
       "output_type": "stream",
       "stream": "stdout",
       "text": [
        "\n",
        "GradientCorrelation: 0.41711599046"
       ]
      },
      {
       "output_type": "stream",
       "stream": "stdout",
       "text": [
        "\n",
        "\n",
        "\n",
        "Initial RMS: 2.53457091822\n",
        "\n",
        "FourierSSD: 28.0967715583"
       ]
      },
      {
       "output_type": "stream",
       "stream": "stdout",
       "text": [
        "\n",
        "GradientImages: 0.431670960356"
       ]
      },
      {
       "output_type": "stream",
       "stream": "stdout",
       "text": [
        "\n",
        "GradientCorrelation: 0.406124341612"
       ]
      },
      {
       "output_type": "stream",
       "stream": "stdout",
       "text": [
        "\n",
        "\n",
        "\n",
        "Initial RMS: 4.10597969762\n",
        "\n",
        "FourierSSD: 24.5231460093"
       ]
      },
      {
       "output_type": "stream",
       "stream": "stdout",
       "text": [
        "\n",
        "GradientImages: 0.436094952018"
       ]
      },
      {
       "output_type": "stream",
       "stream": "stdout",
       "text": [
        "\n",
        "GradientCorrelation: 0.405780309423"
       ]
      },
      {
       "output_type": "stream",
       "stream": "stdout",
       "text": [
        "\n",
        "\n",
        "\n",
        "Initial RMS: 5.68568867379\n",
        "\n",
        "FourierSSD: 16.8440486413"
       ]
      },
      {
       "output_type": "stream",
       "stream": "stdout",
       "text": [
        "\n",
        "GradientImages: 0.785654355978"
       ]
      },
      {
       "output_type": "stream",
       "stream": "stdout",
       "text": [
        "\n",
        "GradientCorrelation: 0.413202788197"
       ]
      },
      {
       "output_type": "stream",
       "stream": "stdout",
       "text": [
        "\n",
        "\n",
        "\n",
        "Initial RMS: 7.26828789974\n",
        "\n",
        "FourierSSD: 16.6661598566"
       ]
      },
      {
       "output_type": "stream",
       "stream": "stdout",
       "text": [
        "\n",
        "GradientImages: 5.50992296855"
       ]
      },
      {
       "output_type": "stream",
       "stream": "stdout",
       "text": [
        "\n",
        "GradientCorrelation: 0.408743710602"
       ]
      },
      {
       "output_type": "stream",
       "stream": "stdout",
       "text": [
        "\n",
        "\n",
        "\n",
        "Image 1 of 10\n",
        "\n",
        "Initial RMS: 1.01093871328\n",
        "\n",
        "FourierSSD: 1.68062663107"
       ]
      },
      {
       "output_type": "stream",
       "stream": "stdout",
       "text": [
        "\n",
        "GradientImages: 0.318115628218"
       ]
      },
      {
       "output_type": "stream",
       "stream": "stdout",
       "text": [
        "\n",
        "GradientCorrelation: 0.265624735243"
       ]
      },
      {
       "output_type": "stream",
       "stream": "stdout",
       "text": [
        "\n",
        "\n",
        "\n",
        "Initial RMS: 2.53457091822\n",
        "\n",
        "FourierSSD: 1.74430798334"
       ]
      },
      {
       "output_type": "stream",
       "stream": "stdout",
       "text": [
        "\n",
        "GradientImages: 0.320708273486"
       ]
      },
      {
       "output_type": "stream",
       "stream": "stdout",
       "text": [
        "\n",
        "GradientCorrelation: 0.281767665557"
       ]
      },
      {
       "output_type": "stream",
       "stream": "stdout",
       "text": [
        "\n",
        "\n",
        "\n",
        "Initial RMS: 4.10597969762\n",
        "\n",
        "FourierSSD: 2.14416746854"
       ]
      },
      {
       "output_type": "stream",
       "stream": "stdout",
       "text": [
        "\n",
        "GradientImages: 0.327748704959"
       ]
      },
      {
       "output_type": "stream",
       "stream": "stdout",
       "text": [
        "\n",
        "GradientCorrelation: 0.269668205536"
       ]
      },
      {
       "output_type": "stream",
       "stream": "stdout",
       "text": [
        "\n",
        "\n",
        "\n",
        "Initial RMS: 5.68568867379\n",
        "\n",
        "FourierSSD: 2.84252133602"
       ]
      },
      {
       "output_type": "stream",
       "stream": "stdout",
       "text": [
        "\n",
        "GradientImages: 0.36503283639"
       ]
      },
      {
       "output_type": "stream",
       "stream": "stdout",
       "text": [
        "\n",
        "GradientCorrelation: 0.260555481559"
       ]
      },
      {
       "output_type": "stream",
       "stream": "stdout",
       "text": [
        "\n",
        "\n",
        "\n",
        "Initial RMS: 7.26828789974\n",
        "\n",
        "FourierSSD: 3.86957420359"
       ]
      },
      {
       "output_type": "stream",
       "stream": "stdout",
       "text": [
        "\n",
        "GradientImages: 3.8368943461"
       ]
      },
      {
       "output_type": "stream",
       "stream": "stdout",
       "text": [
        "\n",
        "GradientCorrelation: 0.252074014358"
       ]
      },
      {
       "output_type": "stream",
       "stream": "stdout",
       "text": [
        "\n",
        "\n",
        "\n",
        "Image 2 of 10\n",
        "\n",
        "Initial RMS: 1.01093871328\n",
        "\n",
        "FourierSSD: 7.81803117354"
       ]
      },
      {
       "output_type": "stream",
       "stream": "stdout",
       "text": [
        "\n",
        "GradientImages: 0.336572166798"
       ]
      },
      {
       "output_type": "stream",
       "stream": "stdout",
       "text": [
        "\n",
        "GradientCorrelation: 0.235402695633"
       ]
      },
      {
       "output_type": "stream",
       "stream": "stdout",
       "text": [
        "\n",
        "\n",
        "\n",
        "Initial RMS: 2.53457091822\n",
        "\n",
        "FourierSSD: 8.72770966028"
       ]
      },
      {
       "output_type": "stream",
       "stream": "stdout",
       "text": [
        "\n",
        "GradientImages: 0.3344285949"
       ]
      },
      {
       "output_type": "stream",
       "stream": "stdout",
       "text": [
        "\n",
        "GradientCorrelation: 0.215096070084"
       ]
      },
      {
       "output_type": "stream",
       "stream": "stdout",
       "text": [
        "\n",
        "\n",
        "\n",
        "Initial RMS: 4.10597969762\n",
        "\n",
        "FourierSSD: 9.81545594102"
       ]
      },
      {
       "output_type": "stream",
       "stream": "stdout",
       "text": [
        "\n",
        "GradientImages: 0.329404438414"
       ]
      },
      {
       "output_type": "stream",
       "stream": "stdout",
       "text": [
        "\n",
        "GradientCorrelation: 0.213103526577"
       ]
      },
      {
       "output_type": "stream",
       "stream": "stdout",
       "text": [
        "\n",
        "\n",
        "\n",
        "Initial RMS: 5.68568867379\n",
        "\n",
        "FourierSSD: 10.0441339077"
       ]
      },
      {
       "output_type": "stream",
       "stream": "stdout",
       "text": [
        "\n",
        "GradientImages: 0.327520162975"
       ]
      },
      {
       "output_type": "stream",
       "stream": "stdout",
       "text": [
        "\n",
        "GradientCorrelation: 0.199737158563"
       ]
      },
      {
       "output_type": "stream",
       "stream": "stdout",
       "text": [
        "\n",
        "\n",
        "\n",
        "Initial RMS: 7.26828789974\n",
        "\n",
        "FourierSSD: 7.37477402175"
       ]
      },
      {
       "output_type": "stream",
       "stream": "stdout",
       "text": [
        "\n",
        "GradientImages: 5.19663094853"
       ]
      },
      {
       "output_type": "stream",
       "stream": "stdout",
       "text": [
        "\n",
        "GradientCorrelation: 0.218611305757"
       ]
      },
      {
       "output_type": "stream",
       "stream": "stdout",
       "text": [
        "\n",
        "\n",
        "\n",
        "Image 3 of 10\n",
        "\n",
        "Initial RMS: 1.01093871328\n",
        "\n",
        "FourierSSD: 7.77748422624"
       ]
      },
      {
       "output_type": "stream",
       "stream": "stdout",
       "text": [
        "\n",
        "GradientImages: 0.158786680005"
       ]
      },
      {
       "output_type": "stream",
       "stream": "stdout",
       "text": [
        "\n",
        "GradientCorrelation: 0.10554994686"
       ]
      },
      {
       "output_type": "stream",
       "stream": "stdout",
       "text": [
        "\n",
        "\n",
        "\n",
        "Initial RMS: 2.53457091822\n",
        "\n",
        "FourierSSD: 9.62888405925"
       ]
      },
      {
       "output_type": "stream",
       "stream": "stdout",
       "text": [
        "\n",
        "GradientImages: 0.162641975274"
       ]
      },
      {
       "output_type": "stream",
       "stream": "stdout",
       "text": [
        "\n",
        "GradientCorrelation: 0.105992596185"
       ]
      },
      {
       "output_type": "stream",
       "stream": "stdout",
       "text": [
        "\n",
        "\n",
        "\n",
        "Initial RMS: 4.10597969762\n",
        "\n",
        "FourierSSD: 11.8242796064"
       ]
      },
      {
       "output_type": "stream",
       "stream": "stdout",
       "text": [
        "\n",
        "GradientImages: 0.164794471787"
       ]
      },
      {
       "output_type": "stream",
       "stream": "stdout",
       "text": [
        "\n",
        "GradientCorrelation: 0.109088059644"
       ]
      },
      {
       "output_type": "stream",
       "stream": "stdout",
       "text": [
        "\n",
        "\n",
        "\n",
        "Initial RMS: 5.68568867379\n",
        "\n",
        "FourierSSD: 14.3370752626"
       ]
      },
      {
       "output_type": "stream",
       "stream": "stdout",
       "text": [
        "\n",
        "GradientImages: 0.144104370255"
       ]
      },
      {
       "output_type": "stream",
       "stream": "stdout",
       "text": [
        "\n",
        "GradientCorrelation: 0.127353939166"
       ]
      },
      {
       "output_type": "stream",
       "stream": "stdout",
       "text": [
        "\n",
        "\n",
        "\n",
        "Initial RMS: 7.26828789974\n",
        "\n",
        "FourierSSD: 11.4618852408"
       ]
      },
      {
       "output_type": "stream",
       "stream": "stdout",
       "text": [
        "\n",
        "GradientImages: 2.80525078371"
       ]
      },
      {
       "output_type": "stream",
       "stream": "stdout",
       "text": [
        "\n",
        "GradientCorrelation: 0.114154883851"
       ]
      },
      {
       "output_type": "stream",
       "stream": "stdout",
       "text": [
        "\n",
        "\n",
        "\n",
        "Image 4 of 10\n",
        "\n",
        "Initial RMS: 1.01093871328\n",
        "\n",
        "FourierSSD: 17.2560495431"
       ]
      },
      {
       "output_type": "stream",
       "stream": "stdout",
       "text": [
        "\n",
        "GradientImages: 0.214376304171"
       ]
      },
      {
       "output_type": "stream",
       "stream": "stdout",
       "text": [
        "\n",
        "GradientCorrelation: 0.16318693938"
       ]
      },
      {
       "output_type": "stream",
       "stream": "stdout",
       "text": [
        "\n",
        "\n",
        "\n",
        "Initial RMS: 2.53457091822\n",
        "\n",
        "FourierSSD: 16.3500131373"
       ]
      },
      {
       "output_type": "stream",
       "stream": "stdout",
       "text": [
        "\n",
        "GradientImages: 0.22803475372"
       ]
      },
      {
       "output_type": "stream",
       "stream": "stdout",
       "text": [
        "\n",
        "GradientCorrelation: 0.169333716383"
       ]
      },
      {
       "output_type": "stream",
       "stream": "stdout",
       "text": [
        "\n",
        "\n",
        "\n",
        "Initial RMS: 4.10597969762\n",
        "\n",
        "FourierSSD: 16.8195728545"
       ]
      },
      {
       "output_type": "stream",
       "stream": "stdout",
       "text": [
        "\n",
        "GradientImages: 0.231419190275"
       ]
      },
      {
       "output_type": "stream",
       "stream": "stdout",
       "text": [
        "\n",
        "GradientCorrelation: 0.134902859821"
       ]
      },
      {
       "output_type": "stream",
       "stream": "stdout",
       "text": [
        "\n",
        "\n",
        "\n",
        "Initial RMS: 5.68568867379\n",
        "\n",
        "FourierSSD: 24.296535228"
       ]
      },
      {
       "output_type": "stream",
       "stream": "stdout",
       "text": [
        "\n",
        "GradientImages: 0.233461593534"
       ]
      },
      {
       "output_type": "stream",
       "stream": "stdout",
       "text": [
        "\n",
        "GradientCorrelation: 0.120309879353"
       ]
      },
      {
       "output_type": "stream",
       "stream": "stdout",
       "text": [
        "\n",
        "\n",
        "\n",
        "Initial RMS: 7.26828789974\n",
        "\n",
        "FourierSSD: 29.5595016224"
       ]
      },
      {
       "output_type": "stream",
       "stream": "stdout",
       "text": [
        "\n",
        "GradientImages: 5.79086776009"
       ]
      },
      {
       "output_type": "stream",
       "stream": "stdout",
       "text": [
        "\n",
        "GradientCorrelation: 0.180997505879"
       ]
      },
      {
       "output_type": "stream",
       "stream": "stdout",
       "text": [
        "\n",
        "\n",
        "\n",
        "Image 5 of 10\n",
        "\n",
        "Initial RMS: 1.01093871328\n",
        "\n",
        "FourierSSD: 3.55183038524"
       ]
      },
      {
       "output_type": "stream",
       "stream": "stdout",
       "text": [
        "\n",
        "GradientImages: 0.443636589159"
       ]
      },
      {
       "output_type": "stream",
       "stream": "stdout",
       "text": [
        "\n",
        "GradientCorrelation: 0.367433384196"
       ]
      },
      {
       "output_type": "stream",
       "stream": "stdout",
       "text": [
        "\n",
        "\n",
        "\n",
        "Initial RMS: 2.53457091822\n",
        "\n",
        "FourierSSD: 3.57508400895"
       ]
      },
      {
       "output_type": "stream",
       "stream": "stdout",
       "text": [
        "\n",
        "GradientImages: 0.461998923105"
       ]
      },
      {
       "output_type": "stream",
       "stream": "stdout",
       "text": [
        "\n",
        "GradientCorrelation: 0.366436626151"
       ]
      },
      {
       "output_type": "stream",
       "stream": "stdout",
       "text": [
        "\n",
        "\n",
        "\n",
        "Initial RMS: 4.10597969762\n",
        "\n",
        "FourierSSD: 3.45610989402"
       ]
      },
      {
       "output_type": "stream",
       "stream": "stdout",
       "text": [
        "\n",
        "GradientImages: 0.486375711253"
       ]
      },
      {
       "output_type": "stream",
       "stream": "stdout",
       "text": [
        "\n",
        "GradientCorrelation: 0.403154625516"
       ]
      },
      {
       "output_type": "stream",
       "stream": "stdout",
       "text": [
        "\n",
        "\n",
        "\n",
        "Initial RMS: 5.68568867379\n",
        "\n",
        "FourierSSD: 2.68637733331"
       ]
      },
      {
       "output_type": "stream",
       "stream": "stdout",
       "text": [
        "\n",
        "GradientImages: 2.39418685656"
       ]
      },
      {
       "output_type": "stream",
       "stream": "stdout",
       "text": [
        "\n",
        "GradientCorrelation: 0.346387091195"
       ]
      },
      {
       "output_type": "stream",
       "stream": "stdout",
       "text": [
        "\n",
        "\n",
        "\n",
        "Initial RMS: 7.26828789974\n",
        "\n",
        "FourierSSD: 7.85972890051"
       ]
      },
      {
       "output_type": "stream",
       "stream": "stdout",
       "text": [
        "\n",
        "GradientImages: 6.15565579132"
       ]
      },
      {
       "output_type": "stream",
       "stream": "stdout",
       "text": [
        "\n",
        "GradientCorrelation: 2.34793657912"
       ]
      },
      {
       "output_type": "stream",
       "stream": "stdout",
       "text": [
        "\n",
        "\n",
        "\n",
        "Image 6 of 10\n",
        "\n",
        "Initial RMS: 1.01093871328\n",
        "\n",
        "FourierSSD: 3.71691225651"
       ]
      },
      {
       "output_type": "stream",
       "stream": "stdout",
       "text": [
        "\n",
        "GradientImages: 0.434035506878"
       ]
      },
      {
       "output_type": "stream",
       "stream": "stdout",
       "text": [
        "\n",
        "GradientCorrelation: 0.436014696775"
       ]
      },
      {
       "output_type": "stream",
       "stream": "stdout",
       "text": [
        "\n",
        "\n",
        "\n",
        "Initial RMS: 2.53457091822\n",
        "\n",
        "FourierSSD: 3.9420318286"
       ]
      },
      {
       "output_type": "stream",
       "stream": "stdout",
       "text": [
        "\n",
        "GradientImages: 0.462849945227"
       ]
      },
      {
       "output_type": "stream",
       "stream": "stdout",
       "text": [
        "\n",
        "GradientCorrelation: 0.508138128291"
       ]
      },
      {
       "output_type": "stream",
       "stream": "stdout",
       "text": [
        "\n",
        "\n",
        "\n",
        "Initial RMS: 4.10597969762\n",
        "\n",
        "FourierSSD: 3.90782187243"
       ]
      },
      {
       "output_type": "stream",
       "stream": "stdout",
       "text": [
        "\n",
        "GradientImages: 0.510490113758"
       ]
      },
      {
       "output_type": "stream",
       "stream": "stdout",
       "text": [
        "\n",
        "GradientCorrelation: 0.494246902868"
       ]
      },
      {
       "output_type": "stream",
       "stream": "stdout",
       "text": [
        "\n",
        "\n",
        "\n",
        "Initial RMS: 5.68568867379\n",
        "\n",
        "FourierSSD: 3.3044874521"
       ]
      },
      {
       "output_type": "stream",
       "stream": "stdout",
       "text": [
        "\n",
        "GradientImages: 2.07300344145"
       ]
      },
      {
       "output_type": "stream",
       "stream": "stdout",
       "text": [
        "\n",
        "GradientCorrelation: 0.463224197801"
       ]
      },
      {
       "output_type": "stream",
       "stream": "stdout",
       "text": [
        "\n",
        "\n",
        "\n",
        "Initial RMS: 7.26828789974\n",
        "\n",
        "FourierSSD: 5.76307677633"
       ]
      },
      {
       "output_type": "stream",
       "stream": "stdout",
       "text": [
        "\n",
        "GradientImages: 6.18841371924"
       ]
      },
      {
       "output_type": "stream",
       "stream": "stdout",
       "text": [
        "\n",
        "GradientCorrelation: 0.450112734488"
       ]
      },
      {
       "output_type": "stream",
       "stream": "stdout",
       "text": [
        "\n",
        "\n",
        "\n",
        "Image 7 of 10\n",
        "\n",
        "Initial RMS: 1.01093871328\n",
        "\n",
        "FourierSSD: 7.68146608538"
       ]
      },
      {
       "output_type": "stream",
       "stream": "stdout",
       "text": [
        "\n",
        "GradientImages: 0.647626434627"
       ]
      },
      {
       "output_type": "stream",
       "stream": "stdout",
       "text": [
        "\n",
        "GradientCorrelation: 0.424987919143"
       ]
      },
      {
       "output_type": "stream",
       "stream": "stdout",
       "text": [
        "\n",
        "\n",
        "\n",
        "Initial RMS: 2.53457091822\n",
        "\n",
        "FourierSSD: 9.08954382183"
       ]
      },
      {
       "output_type": "stream",
       "stream": "stdout",
       "text": [
        "\n",
        "GradientImages: 0.668573971005"
       ]
      },
      {
       "output_type": "stream",
       "stream": "stdout",
       "text": [
        "\n",
        "GradientCorrelation: 0.525038031416"
       ]
      },
      {
       "output_type": "stream",
       "stream": "stdout",
       "text": [
        "\n",
        "\n",
        "\n",
        "Initial RMS: 4.10597969762\n",
        "\n",
        "FourierSSD: 9.16291087998"
       ]
      },
      {
       "output_type": "stream",
       "stream": "stdout",
       "text": [
        "\n",
        "GradientImages: 1.28935324994"
       ]
      },
      {
       "output_type": "stream",
       "stream": "stdout",
       "text": [
        "\n",
        "GradientCorrelation: 0.454898449839"
       ]
      },
      {
       "output_type": "stream",
       "stream": "stdout",
       "text": [
        "\n",
        "\n",
        "\n",
        "Initial RMS: 5.68568867379\n",
        "\n",
        "FourierSSD: 5.97358146337"
       ]
      },
      {
       "output_type": "stream",
       "stream": "stdout",
       "text": [
        "\n",
        "GradientImages: 2.64247961033"
       ]
      },
      {
       "output_type": "stream",
       "stream": "stdout",
       "text": [
        "\n",
        "GradientCorrelation: 0.53233984786"
       ]
      },
      {
       "output_type": "stream",
       "stream": "stdout",
       "text": [
        "\n",
        "\n",
        "\n",
        "Initial RMS: 7.26828789974\n",
        "\n",
        "FourierSSD: 16.1008476225"
       ]
      },
      {
       "output_type": "stream",
       "stream": "stdout",
       "text": [
        "\n",
        "GradientImages: 5.50961262409"
       ]
      },
      {
       "output_type": "stream",
       "stream": "stdout",
       "text": [
        "\n",
        "GradientCorrelation: 0.530880366025"
       ]
      },
      {
       "output_type": "stream",
       "stream": "stdout",
       "text": [
        "\n",
        "\n",
        "\n",
        "Image 8 of 10\n",
        "\n",
        "Initial RMS: 1.01093871328\n",
        "\n",
        "FourierSSD: 6.27192722803"
       ]
      },
      {
       "output_type": "stream",
       "stream": "stdout",
       "text": [
        "\n",
        "GradientImages: 0.46095189141"
       ]
      },
      {
       "output_type": "stream",
       "stream": "stdout",
       "text": [
        "\n",
        "GradientCorrelation: 0.344812583185"
       ]
      },
      {
       "output_type": "stream",
       "stream": "stdout",
       "text": [
        "\n",
        "\n",
        "\n",
        "Initial RMS: 2.53457091822\n",
        "\n",
        "FourierSSD: 8.32037925923"
       ]
      },
      {
       "output_type": "stream",
       "stream": "stdout",
       "text": [
        "\n",
        "GradientImages: 0.473176993761"
       ]
      },
      {
       "output_type": "stream",
       "stream": "stdout",
       "text": [
        "\n",
        "GradientCorrelation: 0.392833516938"
       ]
      },
      {
       "output_type": "stream",
       "stream": "stdout",
       "text": [
        "\n",
        "\n",
        "\n",
        "Initial RMS: 4.10597969762\n",
        "\n",
        "FourierSSD: 8.56488569067"
       ]
      },
      {
       "output_type": "stream",
       "stream": "stdout",
       "text": [
        "\n",
        "GradientImages: 0.509797651265"
       ]
      },
      {
       "output_type": "stream",
       "stream": "stdout",
       "text": [
        "\n",
        "GradientCorrelation: 0.446131741946"
       ]
      },
      {
       "output_type": "stream",
       "stream": "stdout",
       "text": [
        "\n",
        "\n",
        "\n",
        "Initial RMS: 5.68568867379\n",
        "\n",
        "FourierSSD: 7.12596223436"
       ]
      },
      {
       "output_type": "stream",
       "stream": "stdout",
       "text": [
        "\n",
        "GradientImages: 1.76036173315"
       ]
      },
      {
       "output_type": "stream",
       "stream": "stdout",
       "text": [
        "\n",
        "GradientCorrelation: 0.376148598158"
       ]
      },
      {
       "output_type": "stream",
       "stream": "stdout",
       "text": [
        "\n",
        "\n",
        "\n",
        "Initial RMS: 7.26828789974\n",
        "\n",
        "FourierSSD: 10.1610616713"
       ]
      },
      {
       "output_type": "stream",
       "stream": "stdout",
       "text": [
        "\n",
        "GradientImages: 4.82203671996"
       ]
      },
      {
       "output_type": "stream",
       "stream": "stdout",
       "text": [
        "\n",
        "GradientCorrelation: 0.358063231743"
       ]
      },
      {
       "output_type": "stream",
       "stream": "stdout",
       "text": [
        "\n",
        "\n",
        "\n",
        "Image 9 of 10\n",
        "\n",
        "Initial RMS: 1.01093871328\n",
        "\n",
        "FourierSSD: 21.9309774447"
       ]
      },
      {
       "output_type": "stream",
       "stream": "stdout",
       "text": [
        "\n",
        "GradientImages: 0.441821079566"
       ]
      },
      {
       "output_type": "stream",
       "stream": "stdout",
       "text": [
        "\n",
        "GradientCorrelation: 0.391668611468"
       ]
      },
      {
       "output_type": "stream",
       "stream": "stdout",
       "text": [
        "\n",
        "\n",
        "\n",
        "Initial RMS: 2.53457091822\n",
        "\n",
        "FourierSSD: 24.0918102367"
       ]
      },
      {
       "output_type": "stream",
       "stream": "stdout",
       "text": [
        "\n",
        "GradientImages: 0.445364770993"
       ]
      },
      {
       "output_type": "stream",
       "stream": "stdout",
       "text": [
        "\n",
        "GradientCorrelation: 0.351204342445"
       ]
      },
      {
       "output_type": "stream",
       "stream": "stdout",
       "text": [
        "\n",
        "\n",
        "\n",
        "Initial RMS: 4.10597969762\n",
        "\n",
        "FourierSSD: 23.8848170774"
       ]
      },
      {
       "output_type": "stream",
       "stream": "stdout",
       "text": [
        "\n",
        "GradientImages: 0.45031447305"
       ]
      },
      {
       "output_type": "stream",
       "stream": "stdout",
       "text": [
        "\n",
        "GradientCorrelation: 0.357834617653"
       ]
      },
      {
       "output_type": "stream",
       "stream": "stdout",
       "text": [
        "\n",
        "\n",
        "\n",
        "Initial RMS: 5.68568867379\n",
        "\n",
        "FourierSSD: 17.2138185954"
       ]
      },
      {
       "output_type": "stream",
       "stream": "stdout",
       "text": [
        "\n",
        "GradientImages: 0.468910755854"
       ]
      },
      {
       "output_type": "stream",
       "stream": "stdout",
       "text": [
        "\n",
        "GradientCorrelation: 0.368272991751"
       ]
      },
      {
       "output_type": "stream",
       "stream": "stdout",
       "text": [
        "\n",
        "\n",
        "\n",
        "Initial RMS: 7.26828789974\n",
        "\n",
        "FourierSSD: 13.5209848877"
       ]
      },
      {
       "output_type": "stream",
       "stream": "stdout",
       "text": [
        "\n",
        "GradientImages: 3.71768529492"
       ]
      },
      {
       "output_type": "stream",
       "stream": "stdout",
       "text": [
        "\n",
        "GradientCorrelation: 0.370078217025"
       ]
      },
      {
       "output_type": "stream",
       "stream": "stdout",
       "text": [
        "\n",
        "\n",
        "\n",
        "Subject 9 of 10\n",
        "\n",
        "Image 0 of 10\n",
        "\n",
        "Initial RMS: 1.01093871328\n",
        "\n",
        "FourierSSD: 56.0213484067"
       ]
      },
      {
       "output_type": "stream",
       "stream": "stdout",
       "text": [
        "\n",
        "GradientImages: 0.447849809189"
       ]
      },
      {
       "output_type": "stream",
       "stream": "stdout",
       "text": [
        "\n",
        "GradientCorrelation: 0.472801719653"
       ]
      },
      {
       "output_type": "stream",
       "stream": "stdout",
       "text": [
        "\n",
        "\n",
        "\n",
        "Initial RMS: 2.53457091822\n",
        "\n",
        "FourierSSD: 55.1121694016"
       ]
      },
      {
       "output_type": "stream",
       "stream": "stdout",
       "text": [
        "\n",
        "GradientImages: 0.452513941033"
       ]
      },
      {
       "output_type": "stream",
       "stream": "stdout",
       "text": [
        "\n",
        "GradientCorrelation: 0.46298819876"
       ]
      },
      {
       "output_type": "stream",
       "stream": "stdout",
       "text": [
        "\n",
        "\n",
        "\n",
        "Initial RMS: 4.10597969762\n",
        "\n",
        "FourierSSD: 52.0712475922"
       ]
      },
      {
       "output_type": "stream",
       "stream": "stdout",
       "text": [
        "\n",
        "GradientImages: 0.448229035277"
       ]
      },
      {
       "output_type": "stream",
       "stream": "stdout",
       "text": [
        "\n",
        "GradientCorrelation: 0.464654094504"
       ]
      },
      {
       "output_type": "stream",
       "stream": "stdout",
       "text": [
        "\n",
        "\n",
        "\n",
        "Initial RMS: 5.68568867379\n",
        "\n",
        "FourierSSD: 51.8608470503"
       ]
      },
      {
       "output_type": "stream",
       "stream": "stdout",
       "text": [
        "\n",
        "GradientImages: 1.51677385957"
       ]
      },
      {
       "output_type": "stream",
       "stream": "stdout",
       "text": [
        "\n",
        "GradientCorrelation: 0.50264952873"
       ]
      },
      {
       "output_type": "stream",
       "stream": "stdout",
       "text": [
        "\n",
        "\n",
        "\n",
        "Initial RMS: 7.26828789974\n",
        "\n",
        "FourierSSD: 53.398075056"
       ]
      },
      {
       "output_type": "stream",
       "stream": "stdout",
       "text": [
        "\n",
        "GradientImages: 5.83464380418"
       ]
      },
      {
       "output_type": "stream",
       "stream": "stdout",
       "text": [
        "\n",
        "GradientCorrelation: 0.476154223009"
       ]
      },
      {
       "output_type": "stream",
       "stream": "stdout",
       "text": [
        "\n",
        "\n",
        "\n",
        "Image 1 of 10\n",
        "\n",
        "Initial RMS: 1.01093871328\n",
        "\n",
        "FourierSSD: 5.75663178131"
       ]
      },
      {
       "output_type": "stream",
       "stream": "stdout",
       "text": [
        "\n",
        "GradientImages: 0.870488916124"
       ]
      },
      {
       "output_type": "stream",
       "stream": "stdout",
       "text": [
        "\n",
        "GradientCorrelation: 1.04740550685"
       ]
      },
      {
       "output_type": "stream",
       "stream": "stdout",
       "text": [
        "\n",
        "\n",
        "\n",
        "Initial RMS: 2.53457091822\n",
        "\n",
        "FourierSSD: 5.8443883415"
       ]
      },
      {
       "output_type": "stream",
       "stream": "stdout",
       "text": [
        "\n",
        "GradientImages: 0.881444242627"
       ]
      },
      {
       "output_type": "stream",
       "stream": "stdout",
       "text": [
        "\n",
        "GradientCorrelation: 0.974341849736"
       ]
      },
      {
       "output_type": "stream",
       "stream": "stdout",
       "text": [
        "\n",
        "\n",
        "\n",
        "Initial RMS: 4.10597969762\n",
        "\n",
        "FourierSSD: 6.15654360932"
       ]
      },
      {
       "output_type": "stream",
       "stream": "stdout",
       "text": [
        "\n",
        "GradientImages: 0.864713601575"
       ]
      },
      {
       "output_type": "stream",
       "stream": "stdout",
       "text": [
        "\n",
        "GradientCorrelation: 0.994153500937"
       ]
      },
      {
       "output_type": "stream",
       "stream": "stdout",
       "text": [
        "\n",
        "\n",
        "\n",
        "Initial RMS: 5.68568867379\n",
        "\n",
        "FourierSSD: 8.94580683571"
       ]
      },
      {
       "output_type": "stream",
       "stream": "stdout",
       "text": [
        "\n",
        "GradientImages: 5.05495476472"
       ]
      },
      {
       "output_type": "stream",
       "stream": "stdout",
       "text": [
        "\n",
        "GradientCorrelation: 1.00819043691"
       ]
      },
      {
       "output_type": "stream",
       "stream": "stdout",
       "text": [
        "\n",
        "\n",
        "\n",
        "Initial RMS: 7.26828789974\n",
        "\n",
        "FourierSSD: 10.75801559"
       ]
      },
      {
       "output_type": "stream",
       "stream": "stdout",
       "text": [
        "\n",
        "GradientImages: 6.40744041021"
       ]
      },
      {
       "output_type": "stream",
       "stream": "stdout",
       "text": [
        "\n",
        "GradientCorrelation: 0.952688190316"
       ]
      },
      {
       "output_type": "stream",
       "stream": "stdout",
       "text": [
        "\n",
        "\n",
        "\n",
        "Image 2 of 10\n",
        "\n",
        "Initial RMS: 1.01093871328\n",
        "\n",
        "FourierSSD: 4.8586848434"
       ]
      },
      {
       "output_type": "stream",
       "stream": "stdout",
       "text": [
        "\n",
        "GradientImages: 0.835604243376"
       ]
      },
      {
       "output_type": "stream",
       "stream": "stdout",
       "text": [
        "\n",
        "GradientCorrelation: 1.3319815185"
       ]
      },
      {
       "output_type": "stream",
       "stream": "stdout",
       "text": [
        "\n",
        "\n",
        "\n",
        "Initial RMS: 2.53457091822\n",
        "\n",
        "FourierSSD: 4.0140918593"
       ]
      },
      {
       "output_type": "stream",
       "stream": "stdout",
       "text": [
        "\n",
        "GradientImages: 0.85077339424"
       ]
      },
      {
       "output_type": "stream",
       "stream": "stdout",
       "text": [
        "\n",
        "GradientCorrelation: 1.23581080911"
       ]
      },
      {
       "output_type": "stream",
       "stream": "stdout",
       "text": [
        "\n",
        "\n",
        "\n",
        "Initial RMS: 4.10597969762\n",
        "\n",
        "FourierSSD: 3.13116337021"
       ]
      },
      {
       "output_type": "stream",
       "stream": "stdout",
       "text": [
        "\n",
        "GradientImages: 0.767974392443"
       ]
      },
      {
       "output_type": "stream",
       "stream": "stdout",
       "text": [
        "\n",
        "GradientCorrelation: 1.24321541596"
       ]
      },
      {
       "output_type": "stream",
       "stream": "stdout",
       "text": [
        "\n",
        "\n",
        "\n",
        "Initial RMS: 5.68568867379\n",
        "\n",
        "FourierSSD: 4.02354760632"
       ]
      },
      {
       "output_type": "stream",
       "stream": "stdout",
       "text": [
        "\n",
        "GradientImages: 4.584913115"
       ]
      },
      {
       "output_type": "stream",
       "stream": "stdout",
       "text": [
        "\n",
        "GradientCorrelation: 1.25432144086"
       ]
      },
      {
       "output_type": "stream",
       "stream": "stdout",
       "text": [
        "\n",
        "\n",
        "\n",
        "Initial RMS: 7.26828789974\n",
        "\n",
        "FourierSSD: 5.23919337355"
       ]
      },
      {
       "output_type": "stream",
       "stream": "stdout",
       "text": [
        "\n",
        "GradientImages: 7.62008869088"
       ]
      },
      {
       "output_type": "stream",
       "stream": "stdout",
       "text": [
        "\n",
        "GradientCorrelation: 1.27235850157"
       ]
      },
      {
       "output_type": "stream",
       "stream": "stdout",
       "text": [
        "\n",
        "\n",
        "\n",
        "Image 3 of 10\n",
        "\n",
        "Initial RMS: 1.01093871328\n",
        "\n",
        "FourierSSD: 26.3916864282"
       ]
      },
      {
       "output_type": "stream",
       "stream": "stdout",
       "text": [
        "\n",
        "GradientImages: 0.51077870683"
       ]
      },
      {
       "output_type": "stream",
       "stream": "stdout",
       "text": [
        "\n",
        "GradientCorrelation: 0.421403777839"
       ]
      },
      {
       "output_type": "stream",
       "stream": "stdout",
       "text": [
        "\n",
        "\n",
        "\n",
        "Initial RMS: 2.53457091822\n",
        "\n",
        "FourierSSD: 27.746503888"
       ]
      },
      {
       "output_type": "stream",
       "stream": "stdout",
       "text": [
        "\n",
        "GradientImages: 0.515199114991"
       ]
      },
      {
       "output_type": "stream",
       "stream": "stdout",
       "text": [
        "\n",
        "GradientCorrelation: 0.434554560414"
       ]
      },
      {
       "output_type": "stream",
       "stream": "stdout",
       "text": [
        "\n",
        "\n",
        "\n",
        "Initial RMS: 4.10597969762\n",
        "\n",
        "FourierSSD: 34.6316123629"
       ]
      },
      {
       "output_type": "stream",
       "stream": "stdout",
       "text": [
        "\n",
        "GradientImages: 0.500294633907"
       ]
      },
      {
       "output_type": "stream",
       "stream": "stdout",
       "text": [
        "\n",
        "GradientCorrelation: 0.410646702285"
       ]
      },
      {
       "output_type": "stream",
       "stream": "stdout",
       "text": [
        "\n",
        "\n",
        "\n",
        "Initial RMS: 5.68568867379\n",
        "\n",
        "FourierSSD: 42.7283909384"
       ]
      },
      {
       "output_type": "stream",
       "stream": "stdout",
       "text": [
        "\n",
        "GradientImages: 3.04659075278"
       ]
      },
      {
       "output_type": "stream",
       "stream": "stdout",
       "text": [
        "\n",
        "GradientCorrelation: 0.453491432417"
       ]
      },
      {
       "output_type": "stream",
       "stream": "stdout",
       "text": [
        "\n",
        "\n",
        "\n",
        "Initial RMS: 7.26828789974\n",
        "\n",
        "FourierSSD: 47.9492109012"
       ]
      },
      {
       "output_type": "stream",
       "stream": "stdout",
       "text": [
        "\n",
        "GradientImages: 6.78692607153"
       ]
      },
      {
       "output_type": "stream",
       "stream": "stdout",
       "text": [
        "\n",
        "GradientCorrelation: 0.421560526014"
       ]
      },
      {
       "output_type": "stream",
       "stream": "stdout",
       "text": [
        "\n",
        "\n",
        "\n",
        "Image 4 of 10\n",
        "\n",
        "Initial RMS: 1.01093871328\n",
        "\n",
        "FourierSSD: 42.8713750605"
       ]
      },
      {
       "output_type": "stream",
       "stream": "stdout",
       "text": [
        "\n",
        "GradientImages: 0.657111608875"
       ]
      },
      {
       "output_type": "stream",
       "stream": "stdout",
       "text": [
        "\n",
        "GradientCorrelation: 0.509404336689"
       ]
      },
      {
       "output_type": "stream",
       "stream": "stdout",
       "text": [
        "\n",
        "\n",
        "\n",
        "Initial RMS: 2.53457091822\n",
        "\n",
        "FourierSSD: 45.6914263507"
       ]
      },
      {
       "output_type": "stream",
       "stream": "stdout",
       "text": [
        "\n",
        "GradientImages: 0.617814133558"
       ]
      },
      {
       "output_type": "stream",
       "stream": "stdout",
       "text": [
        "\n",
        "GradientCorrelation: 0.53213113935"
       ]
      },
      {
       "output_type": "stream",
       "stream": "stdout",
       "text": [
        "\n",
        "\n",
        "\n",
        "Initial RMS: 4.10597969762\n",
        "\n",
        "FourierSSD: 48.6369225212"
       ]
      },
      {
       "output_type": "stream",
       "stream": "stdout",
       "text": [
        "\n",
        "GradientImages: 0.63005513195"
       ]
      },
      {
       "output_type": "stream",
       "stream": "stdout",
       "text": [
        "\n",
        "GradientCorrelation: 0.518930705834"
       ]
      },
      {
       "output_type": "stream",
       "stream": "stdout",
       "text": [
        "\n",
        "\n",
        "\n",
        "Initial RMS: 5.68568867379\n",
        "\n",
        "FourierSSD: 49.5485743573"
       ]
      },
      {
       "output_type": "stream",
       "stream": "stdout",
       "text": [
        "\n",
        "GradientImages: 3.13770618303"
       ]
      },
      {
       "output_type": "stream",
       "stream": "stdout",
       "text": [
        "\n",
        "GradientCorrelation: 0.52358415539"
       ]
      },
      {
       "output_type": "stream",
       "stream": "stdout",
       "text": [
        "\n",
        "\n",
        "\n",
        "Initial RMS: 7.26828789974\n",
        "\n",
        "FourierSSD: 50.7325128661"
       ]
      },
      {
       "output_type": "stream",
       "stream": "stdout",
       "text": [
        "\n",
        "GradientImages: 6.90929324728"
       ]
      },
      {
       "output_type": "stream",
       "stream": "stdout",
       "text": [
        "\n",
        "GradientCorrelation: 0.471418199163"
       ]
      },
      {
       "output_type": "stream",
       "stream": "stdout",
       "text": [
        "\n",
        "\n",
        "\n",
        "Image 5 of 10\n",
        "\n",
        "Initial RMS: 1.01093871328\n",
        "\n",
        "FourierSSD: 8.45436470484"
       ]
      },
      {
       "output_type": "stream",
       "stream": "stdout",
       "text": [
        "\n",
        "GradientImages: 0.802912555859"
       ]
      },
      {
       "output_type": "stream",
       "stream": "stdout",
       "text": [
        "\n",
        "GradientCorrelation: 0.786302400123"
       ]
      },
      {
       "output_type": "stream",
       "stream": "stdout",
       "text": [
        "\n",
        "\n",
        "\n",
        "Initial RMS: 2.53457091822\n",
        "\n",
        "FourierSSD: 8.47853680084"
       ]
      },
      {
       "output_type": "stream",
       "stream": "stdout",
       "text": [
        "\n",
        "GradientImages: 0.805108451551"
       ]
      },
      {
       "output_type": "stream",
       "stream": "stdout",
       "text": [
        "\n",
        "GradientCorrelation: 0.783564556348"
       ]
      },
      {
       "output_type": "stream",
       "stream": "stdout",
       "text": [
        "\n",
        "\n",
        "\n",
        "Initial RMS: 4.10597969762\n",
        "\n",
        "FourierSSD: 7.92169874198"
       ]
      },
      {
       "output_type": "stream",
       "stream": "stdout",
       "text": [
        "\n",
        "GradientImages: 1.59955970433"
       ]
      },
      {
       "output_type": "stream",
       "stream": "stdout",
       "text": [
        "\n",
        "GradientCorrelation: 0.764994930925"
       ]
      },
      {
       "output_type": "stream",
       "stream": "stdout",
       "text": [
        "\n",
        "\n",
        "\n",
        "Initial RMS: 5.68568867379\n",
        "\n",
        "FourierSSD: 8.06672099095"
       ]
      },
      {
       "output_type": "stream",
       "stream": "stdout",
       "text": [
        "\n",
        "GradientImages: 4.66503056347"
       ]
      },
      {
       "output_type": "stream",
       "stream": "stdout",
       "text": [
        "\n",
        "GradientCorrelation: 0.792451795771"
       ]
      },
      {
       "output_type": "stream",
       "stream": "stdout",
       "text": [
        "\n",
        "\n",
        "\n",
        "Initial RMS: 7.26828789974\n",
        "\n",
        "FourierSSD: 12.6191093934"
       ]
      },
      {
       "output_type": "stream",
       "stream": "stdout",
       "text": [
        "\n",
        "GradientImages: 7.34380483639"
       ]
      },
      {
       "output_type": "stream",
       "stream": "stdout",
       "text": [
        "\n",
        "GradientCorrelation: 5.20878051812"
       ]
      },
      {
       "output_type": "stream",
       "stream": "stdout",
       "text": [
        "\n",
        "\n",
        "\n",
        "Image 6 of 10\n",
        "\n",
        "Initial RMS: 1.01093871328\n",
        "\n",
        "FourierSSD: 2.73147278289"
       ]
      },
      {
       "output_type": "stream",
       "stream": "stdout",
       "text": [
        "\n",
        "GradientImages: 1.03232454793"
       ]
      },
      {
       "output_type": "stream",
       "stream": "stdout",
       "text": [
        "\n",
        "GradientCorrelation: 0.342902689047"
       ]
      },
      {
       "output_type": "stream",
       "stream": "stdout",
       "text": [
        "\n",
        "\n",
        "\n",
        "Initial RMS: 2.53457091822\n",
        "\n",
        "FourierSSD: 2.78756954565"
       ]
      },
      {
       "output_type": "stream",
       "stream": "stdout",
       "text": [
        "\n",
        "GradientImages: 1.04919055906"
       ]
      },
      {
       "output_type": "stream",
       "stream": "stdout",
       "text": [
        "\n",
        "GradientCorrelation: 0.305487124474"
       ]
      },
      {
       "output_type": "stream",
       "stream": "stdout",
       "text": [
        "\n",
        "\n",
        "\n",
        "Initial RMS: 4.10597969762\n",
        "\n",
        "FourierSSD: 3.05543919815"
       ]
      },
      {
       "output_type": "stream",
       "stream": "stdout",
       "text": [
        "\n",
        "GradientImages: 2.20003625229"
       ]
      },
      {
       "output_type": "stream",
       "stream": "stdout",
       "text": [
        "\n",
        "GradientCorrelation: 0.306599548644"
       ]
      },
      {
       "output_type": "stream",
       "stream": "stdout",
       "text": [
        "\n",
        "\n",
        "\n",
        "Initial RMS: 5.68568867379\n",
        "\n",
        "FourierSSD: 4.45566485036"
       ]
      },
      {
       "output_type": "stream",
       "stream": "stdout",
       "text": [
        "\n",
        "GradientImages: 3.46358120551"
       ]
      },
      {
       "output_type": "stream",
       "stream": "stdout",
       "text": [
        "\n",
        "GradientCorrelation: 0.380686184042"
       ]
      },
      {
       "output_type": "stream",
       "stream": "stdout",
       "text": [
        "\n",
        "\n",
        "\n",
        "Initial RMS: 7.26828789974\n",
        "\n",
        "FourierSSD: 13.1202968859"
       ]
      },
      {
       "output_type": "stream",
       "stream": "stdout",
       "text": [
        "\n",
        "GradientImages: 5.34362966338"
       ]
      },
      {
       "output_type": "stream",
       "stream": "stdout",
       "text": [
        "\n",
        "GradientCorrelation: 0.366048847894"
       ]
      },
      {
       "output_type": "stream",
       "stream": "stdout",
       "text": [
        "\n",
        "\n",
        "\n",
        "Image 7 of 10\n",
        "\n",
        "Initial RMS: 1.01093871328\n",
        "\n",
        "FourierSSD: 24.1587426876"
       ]
      },
      {
       "output_type": "stream",
       "stream": "stdout",
       "text": [
        "\n",
        "GradientImages: 0.776292057376"
       ]
      },
      {
       "output_type": "stream",
       "stream": "stdout",
       "text": [
        "\n",
        "GradientCorrelation: 0.379701233218"
       ]
      },
      {
       "output_type": "stream",
       "stream": "stdout",
       "text": [
        "\n",
        "\n",
        "\n",
        "Initial RMS: 2.53457091822\n",
        "\n",
        "FourierSSD: 12.8147589775"
       ]
      },
      {
       "output_type": "stream",
       "stream": "stdout",
       "text": [
        "\n",
        "GradientImages: 0.908750780515"
       ]
      },
      {
       "output_type": "stream",
       "stream": "stdout",
       "text": [
        "\n",
        "GradientCorrelation: 0.42425134736"
       ]
      },
      {
       "output_type": "stream",
       "stream": "stdout",
       "text": [
        "\n",
        "\n",
        "\n",
        "Initial RMS: 4.10597969762\n",
        "\n",
        "FourierSSD: 11.6729462139"
       ]
      },
      {
       "output_type": "stream",
       "stream": "stdout",
       "text": [
        "\n",
        "GradientImages: 2.60602560028"
       ]
      },
      {
       "output_type": "stream",
       "stream": "stdout",
       "text": [
        "\n",
        "GradientCorrelation: 0.457960255487"
       ]
      },
      {
       "output_type": "stream",
       "stream": "stdout",
       "text": [
        "\n",
        "\n",
        "\n",
        "Initial RMS: 5.68568867379\n",
        "\n",
        "FourierSSD: 13.9292704746"
       ]
      },
      {
       "output_type": "stream",
       "stream": "stdout",
       "text": [
        "\n",
        "GradientImages: 4.02061978106"
       ]
      },
      {
       "output_type": "stream",
       "stream": "stdout",
       "text": [
        "\n",
        "GradientCorrelation: 0.468612459653"
       ]
      },
      {
       "output_type": "stream",
       "stream": "stdout",
       "text": [
        "\n",
        "\n",
        "\n",
        "Initial RMS: 7.26828789974\n",
        "\n",
        "FourierSSD: 22.3761755483"
       ]
      },
      {
       "output_type": "stream",
       "stream": "stdout",
       "text": [
        "\n",
        "GradientImages: 5.83760406192"
       ]
      },
      {
       "output_type": "stream",
       "stream": "stdout",
       "text": [
        "\n",
        "GradientCorrelation: 0.47705439126"
       ]
      },
      {
       "output_type": "stream",
       "stream": "stdout",
       "text": [
        "\n",
        "\n",
        "\n",
        "Image 8 of 10\n",
        "\n",
        "Initial RMS: 1.01093871328\n",
        "\n",
        "FourierSSD: 19.7164438468"
       ]
      },
      {
       "output_type": "stream",
       "stream": "stdout",
       "text": [
        "\n",
        "GradientImages: 0.493814740499"
       ]
      },
      {
       "output_type": "stream",
       "stream": "stdout",
       "text": [
        "\n",
        "GradientCorrelation: 0.410239116769"
       ]
      },
      {
       "output_type": "stream",
       "stream": "stdout",
       "text": [
        "\n",
        "\n",
        "\n",
        "Initial RMS: 2.53457091822\n",
        "\n",
        "FourierSSD: 13.2870401202"
       ]
      },
      {
       "output_type": "stream",
       "stream": "stdout",
       "text": [
        "\n",
        "GradientImages: 0.488323106183"
       ]
      },
      {
       "output_type": "stream",
       "stream": "stdout",
       "text": [
        "\n",
        "GradientCorrelation: 0.41182644893"
       ]
      },
      {
       "output_type": "stream",
       "stream": "stdout",
       "text": [
        "\n",
        "\n",
        "\n",
        "Initial RMS: 4.10597969762\n",
        "\n",
        "FourierSSD: 13.2080132933"
       ]
      },
      {
       "output_type": "stream",
       "stream": "stdout",
       "text": [
        "\n",
        "GradientImages: 1.34111809819"
       ]
      },
      {
       "output_type": "stream",
       "stream": "stdout",
       "text": [
        "\n",
        "GradientCorrelation: 0.438526810434"
       ]
      },
      {
       "output_type": "stream",
       "stream": "stdout",
       "text": [
        "\n",
        "\n",
        "\n",
        "Initial RMS: 5.68568867379\n",
        "\n",
        "FourierSSD: 17.0138761336"
       ]
      },
      {
       "output_type": "stream",
       "stream": "stdout",
       "text": [
        "\n",
        "GradientImages: 3.74120190984"
       ]
      },
      {
       "output_type": "stream",
       "stream": "stdout",
       "text": [
        "\n",
        "GradientCorrelation: 0.458491597172"
       ]
      },
      {
       "output_type": "stream",
       "stream": "stdout",
       "text": [
        "\n",
        "\n",
        "\n",
        "Initial RMS: 7.26828789974\n",
        "\n",
        "FourierSSD: 23.1642904328"
       ]
      },
      {
       "output_type": "stream",
       "stream": "stdout",
       "text": [
        "\n",
        "GradientImages: 5.56721071544"
       ]
      },
      {
       "output_type": "stream",
       "stream": "stdout",
       "text": [
        "\n",
        "GradientCorrelation: 0.477659692322"
       ]
      },
      {
       "output_type": "stream",
       "stream": "stdout",
       "text": [
        "\n",
        "\n",
        "\n",
        "Image 9 of 10\n",
        "\n",
        "Initial RMS: 1.01093871328\n",
        "\n",
        "FourierSSD: 22.0706102952"
       ]
      },
      {
       "output_type": "stream",
       "stream": "stdout",
       "text": [
        "\n",
        "GradientImages: 0.542122052472"
       ]
      },
      {
       "output_type": "stream",
       "stream": "stdout",
       "text": [
        "\n",
        "GradientCorrelation: 0.496520827393"
       ]
      },
      {
       "output_type": "stream",
       "stream": "stdout",
       "text": [
        "\n",
        "\n",
        "\n",
        "Initial RMS: 2.53457091822\n",
        "\n",
        "FourierSSD: 25.0407747749"
       ]
      },
      {
       "output_type": "stream",
       "stream": "stdout",
       "text": [
        "\n",
        "GradientImages: 0.548556311602"
       ]
      },
      {
       "output_type": "stream",
       "stream": "stdout",
       "text": [
        "\n",
        "GradientCorrelation: 0.524104968981"
       ]
      },
      {
       "output_type": "stream",
       "stream": "stdout",
       "text": [
        "\n",
        "\n",
        "\n",
        "Initial RMS: 4.10597969762\n",
        "\n",
        "FourierSSD: 32.0026490025"
       ]
      },
      {
       "output_type": "stream",
       "stream": "stdout",
       "text": [
        "\n",
        "GradientImages: 2.43144563922"
       ]
      },
      {
       "output_type": "stream",
       "stream": "stdout",
       "text": [
        "\n",
        "GradientCorrelation: 0.524758808223"
       ]
      },
      {
       "output_type": "stream",
       "stream": "stdout",
       "text": [
        "\n",
        "\n",
        "\n",
        "Initial RMS: 5.68568867379\n",
        "\n",
        "FourierSSD: 39.5769459571"
       ]
      },
      {
       "output_type": "stream",
       "stream": "stdout",
       "text": [
        "\n",
        "GradientImages: 3.75695319665"
       ]
      },
      {
       "output_type": "stream",
       "stream": "stdout",
       "text": [
        "\n",
        "GradientCorrelation: 2.16230555068"
       ]
      },
      {
       "output_type": "stream",
       "stream": "stdout",
       "text": [
        "\n",
        "\n",
        "\n",
        "Initial RMS: 7.26828789974\n",
        "\n",
        "FourierSSD: 45.7435871238"
       ]
      },
      {
       "output_type": "stream",
       "stream": "stdout",
       "text": [
        "\n",
        "GradientImages: 5.72868928766"
       ]
      },
      {
       "output_type": "stream",
       "stream": "stdout",
       "text": [
        "\n",
        "GradientCorrelation: 3.03680374369"
       ]
      },
      {
       "output_type": "stream",
       "stream": "stdout",
       "text": [
        "\n",
        "\n",
        "\n"
       ]
      }
     ],
     "prompt_number": 6
    },
    {
     "cell_type": "code",
     "collapsed": false,
     "input": [
      "# Plot results\n",
      "mean_results = np.mean(np.mean(results, 1), 0) / float(n_freq_tests)\n",
      "\n",
      "\n",
      "line_styles = ['k--D', 'y:^', 'r:*', 'g:^', 'b-s', 'c--o']\n",
      "lines = []\n",
      "for i in xrange(mean_results.shape[1]):\n",
      "    lines.append(all_spc_sig)\n",
      "    lines.append(mean_results[:, i])\n",
      "    lines.append(line_styles[i])\n",
      "\n",
      "p = plt.plot(*lines)\n",
      "\n",
      "legend_labels = [a for a in alg_list.keys()]\n",
      "plt.yticks(np.linspace(0, 1, 11))\n",
      "plt.xticks(all_spc_sig)\n",
      "plt.ylabel('Frequency of Convergence')\n",
      "plt.xlabel('Point Standard Deviation')\n",
      "plt.legend(p, legend_labels, bbox_to_anchor=(1.05, 1), loc=2, borderaxespad=0.)\n",
      "plt.title('Yale: with Smoothing')\n",
      "plt.gcf().set_size_inches(plot_size)"
     ],
     "language": "python",
     "metadata": {},
     "outputs": [
      {
       "metadata": {},
       "output_type": "display_data",
       "png": "[encoded data removed]",
       "text": [
        "<matplotlib.figure.Figure at 0x7f81ea41b5d0>"
       ]
      }
     ],
     "prompt_number": 7
    },
    {
     "cell_type": "code",
     "collapsed": false,
     "input": [
      "best is /data/PhD/Models/ConvFilt_PCA_NonCent_4x4_8comp_4levels"
     ],
     "language": "python",
     "metadata": {},
     "outputs": []
    }
   ],
   "metadata": {}
  }
 ]
}