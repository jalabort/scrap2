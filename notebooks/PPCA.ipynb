{
 "metadata": {
  "name": "",
  "signature": "sha256:a0980eebe045bc14584c8b6a207a3d9826ca03281fe393e92b46574514933645"
 },
 "nbformat": 3,
 "nbformat_minor": 0,
 "worksheets": [
  {
   "cells": [
    {
     "cell_type": "code",
     "collapsed": false,
     "input": [
      "%matplotlib inline\n",
      "%pylab inline"
     ],
     "language": "python",
     "metadata": {},
     "outputs": [
      {
       "output_type": "stream",
       "stream": "stdout",
       "text": [
        "Populating the interactive namespace from numpy and matplotlib\n"
       ]
      }
     ],
     "prompt_number": 1
    },
    {
     "cell_type": "heading",
     "level": 1,
     "metadata": {},
     "source": [
      "Probabilistic PCA"
     ]
    },
    {
     "cell_type": "code",
     "collapsed": false,
     "input": [
      "from __future__ import division\n",
      "\n",
      "def ppca(X, n_components=None, sigma2=0, max_iter=200, tol=1e-10, verbose=False): \n",
      "    \n",
      "    n_samples, n_features = X.shape\n",
      "    \n",
      "    if n_components is None:\n",
      "        if n_samples <= n_features:\n",
      "            n_components = n_samples - 1\n",
      "        else:\n",
      "            n_components = n_features - 1\n",
      "                \n",
      "    mean_ = np.mean(X, axis=0)\n",
      "    X -= mean_\n",
      "    \n",
      "    I = np.eye(n_components)\n",
      "    X2 = np.sum(np.sum(X**2, axis=1))\n",
      "    t = n_samples * n_features\n",
      "    \n",
      "    W = np.random.randn(n_components, n_features)\n",
      "    \n",
      "    for i in xrange(max_iter):\n",
      "        inv_M = np.linalg.inv(np.dot(W, W.T) + sigma2 * I)\n",
      "        Z = inv_M.dot(np.dot(W, X.T))\n",
      "        ZZ = sigma2 * inv_M + np.dot(Z, Z.T)\n",
      "        \n",
      "        nW = np.linalg.solve(ZZ, np.dot(Z, X))\n",
      "        sigma2 = ((X2 - \n",
      "                   2 * np.sum(np.sum(Z.T.dot(nW) * X, axis=1)) +\n",
      "                   np.trace(ZZ.dot(np.dot(nW, nW.T)))) \n",
      "                  / t)\n",
      "        \n",
      "        e = np.linalg.norm(W - nW)\n",
      "        \n",
      "        if e < tol:\n",
      "            break\n",
      "        else:\n",
      "            W = nW\n",
      "            if verbose:\n",
      "                print 'it:', i, '\\t',\n",
      "                print 'norm:', np.round(e, decimals=4), '\\t',\n",
      "                print 'sigma2:', np.round(sigma2, decimals=4), '\\t'\n",
      "\n",
      "    return mean_, W, Z, sigma2"
     ],
     "language": "python",
     "metadata": {},
     "outputs": [],
     "prompt_number": 270
    },
    {
     "cell_type": "heading",
     "level": 1,
     "metadata": {},
     "source": [
      "Test"
     ]
    },
    {
     "cell_type": "code",
     "collapsed": false,
     "input": [
      "from menpo.math import pca, eigenvalue_decomposition"
     ],
     "language": "python",
     "metadata": {},
     "outputs": [],
     "prompt_number": 271
    },
    {
     "cell_type": "markdown",
     "metadata": {},
     "source": [
      "Build data matrix A:"
     ]
    },
    {
     "cell_type": "code",
     "collapsed": false,
     "input": [
      "n_a = 100\n",
      "d = 1000\n",
      "\n",
      "A = np.random.randn(n_a, d)"
     ],
     "language": "python",
     "metadata": {},
     "outputs": [],
     "prompt_number": 347
    },
    {
     "cell_type": "code",
     "collapsed": false,
     "input": [
      "print 'Shape of A is:', A.shape"
     ],
     "language": "python",
     "metadata": {},
     "outputs": [
      {
       "output_type": "stream",
       "stream": "stdout",
       "text": [
        "Shape of A is: (100, 1000)\n"
       ]
      }
     ],
     "prompt_number": 348
    },
    {
     "cell_type": "markdown",
     "metadata": {},
     "source": [
      "Compute PCA on A:"
     ]
    },
    {
     "cell_type": "code",
     "collapsed": false,
     "input": [
      "d_U, d_l, d_m = pca(A)"
     ],
     "language": "python",
     "metadata": {},
     "outputs": [],
     "prompt_number": 349
    },
    {
     "cell_type": "code",
     "collapsed": false,
     "input": [
      "print 'Shape of d_U is:', d_U.shape\n",
      "print 'Shape of d_s is:', d_s.shape\n",
      "print 'Shape of d_m is:', d_m.shape"
     ],
     "language": "python",
     "metadata": {},
     "outputs": [
      {
       "output_type": "stream",
       "stream": "stdout",
       "text": [
        "Shape of d_U is: (99, 1000)\n",
        "Shape of d_s is: (99,)\n",
        "Shape of d_m is: (1000,)\n"
       ]
      }
     ],
     "prompt_number": 350
    },
    {
     "cell_type": "markdown",
     "metadata": {},
     "source": [
      "Compute PPCA on A:"
     ]
    },
    {
     "cell_type": "code",
     "collapsed": false,
     "input": [
      "p_m, p_W, p_Z, p_sigma2 = ppca(A, n_components=50, verbose=True)"
     ],
     "language": "python",
     "metadata": {},
     "outputs": [
      {
       "output_type": "stream",
       "stream": "stdout",
       "text": [
        "it: 0 \tnorm: 993.6559 \tsigma2: 0.464 \t\n",
        "it: 1 \tnorm: 191.3649 \tsigma2: 0.4245 \t\n",
        "it: 2 \tnorm: 148.4621 \tsigma2: 0.3996 \t\n",
        "it: 3 \tnorm: 113.8841 \tsigma2: 0.3852 \t\n",
        "it: 4 \tnorm: 88.9802 \tsigma2: 0.3765 \t\n",
        "it: 5 \tnorm: 70.8603 \tsigma2: 0.3711 \t\n",
        "it: 6 \tnorm: 57.5232 \tsigma2: 0.3676 \t\n",
        "it: 7 \tnorm: 47.6574 \tsigma2: 0.3653 \t\n",
        "it: 8 \tnorm: 40.2504 \tsigma2: 0.3637 \t\n",
        "it: 9 \tnorm: 34.5488 \tsigma2: 0.3625 \t\n",
        "it: 10 \tnorm: 30.0323 \tsigma2: 0.3617 \t\n",
        "it:"
       ]
      },
      {
       "output_type": "stream",
       "stream": "stdout",
       "text": [
        " 11 \tnorm: 26.3625 \tsigma2: 0.361 \t\n",
        "it: 12 \tnorm: 23.326 \tsigma2: 0.3605 \t\n",
        "it: 13 \tnorm: 20.7862 \tsigma2: 0.3601 \t\n",
        "it: 14 \tnorm: 18.648 \tsigma2: 0.3598 \t\n",
        "it: 15 \tnorm: 16.8387 \tsigma2: 0.3596 \t\n",
        "it: 16 \tnorm: 15.2982 \tsigma2: 0.3594 \t\n",
        "it: 17 \tnorm: 13.9768 \tsigma2: 0.3592 \t\n",
        "it: 18 \tnorm: 12.8332 \tsigma2: 0.3591 \t\n",
        "it: 19 \tnorm: 11.8345 \tsigma2: 0.359 \t\n",
        "it:"
       ]
      },
      {
       "output_type": "stream",
       "stream": "stdout",
       "text": [
        " 20 \tnorm: 10.9549 \tsigma2: 0.3589 \t\n",
        "it: 21 \tnorm: 10.1746 \tsigma2: 0.3588 \t\n",
        "it: 22 \tnorm: 9.4787 \tsigma2: 0.3587 \t\n",
        "it: 23 \tnorm: 8.8558 \tsigma2: 0.3586 \t\n",
        "it: 24 \tnorm: 8.2972 \tsigma2: 0.3586 \t\n",
        "it: 25 \tnorm: 7.7963 \tsigma2: 0.3585 \t\n",
        "it: 26 \tnorm: 7.3475 \tsigma2: 0.3585 \t\n",
        "it: 27 \tnorm: 6.9462 \tsigma2: 0.3584 \t\n",
        "it: 28 \tnorm: 6.5886 \tsigma2: 0.3584 \t\n",
        "it: 29 \tnorm: 6.2714 \tsigma2: 0.3584 \t\n",
        "it:"
       ]
      },
      {
       "output_type": "stream",
       "stream": "stdout",
       "text": [
        " 30 \tnorm: 5.9914 \tsigma2: 0.3584 \t\n",
        "it: 31 \tnorm: 5.7458 \tsigma2: 0.3583 \t\n",
        "it: 32 \tnorm: 5.532 \tsigma2: 0.3583 \t\n",
        "it: 33 \tnorm: 5.3477 \tsigma2: 0.3583 \t\n",
        "it: 34 \tnorm: 5.1903 \tsigma2: 0.3583 \t\n",
        "it: 35 \tnorm: 5.0579 \tsigma2: 0.3583 \t\n",
        "it: 36 \tnorm: 4.9481 \tsigma2: 0.3582 \t\n",
        "it: 37 \tnorm: 4.8589 \tsigma2: 0.3582 \t\n",
        "it:"
       ]
      },
      {
       "output_type": "stream",
       "stream": "stdout",
       "text": [
        " 38 \tnorm: 4.7884 \tsigma2: 0.3582 \t\n",
        "it: 39 \tnorm: 4.7345 \tsigma2: 0.3582 \t\n",
        "it: 40 \tnorm: 4.6955 \tsigma2: 0.3582 \t\n",
        "it: 41 \tnorm: 4.6695 \tsigma2: 0.3582 \t\n",
        "it: 42 \tnorm: 4.6547 \tsigma2: 0.3582 \t\n",
        "it: 43 \tnorm: 4.6495 \tsigma2: 0.3582 \t\n",
        "it: 44 \tnorm: 4.6523 \tsigma2: 0.3581 \t\n",
        "it:"
       ]
      },
      {
       "output_type": "stream",
       "stream": "stdout",
       "text": [
        " 45 \tnorm: 4.6616 \tsigma2: 0.3581 \t\n",
        "it: 46 \tnorm: 4.676 \tsigma2: 0.3581 \t\n",
        "it: 47 \tnorm: 4.694 \tsigma2: 0.3581 \t\n",
        "it: 48 \tnorm: 4.7144 \tsigma2: 0.3581 \t\n",
        "it: 49 \tnorm: 4.7361 \tsigma2: 0.3581 \t\n",
        "it: 50 \tnorm: 4.7579 \tsigma2: 0.3581 \t\n",
        "it: 51 \tnorm: 4.7788 \tsigma2: 0.3581 \t\n",
        "it: 52 \tnorm: 4.7978 \tsigma2: 0.3581 \t\n",
        "it: 53 \tnorm: 4.8142 \tsigma2: 0.358 \t\n",
        "it:"
       ]
      },
      {
       "output_type": "stream",
       "stream": "stdout",
       "text": [
        " 54 \tnorm: 4.8271 \tsigma2: 0.358 \t\n",
        "it: 55 \tnorm: 4.836 \tsigma2: 0.358 \t\n",
        "it: 56 \tnorm: 4.8401 \tsigma2: 0.358 \t\n",
        "it: 57 \tnorm: 4.8392 \tsigma2: 0.358 \t\n",
        "it: 58 \tnorm: 4.8326 \tsigma2: 0.358 \t\n",
        "it: 59 \tnorm: 4.8202 \tsigma2: 0.358 \t\n",
        "it: 60 \tnorm: 4.8018 \tsigma2: 0.358 \t\n",
        "it: 61 \tnorm: 4.7772 \tsigma2: 0.358 \t\n",
        "it: 62 \tnorm: 4.7463 \tsigma2: 0.358 \t\n",
        "it:"
       ]
      },
      {
       "output_type": "stream",
       "stream": "stdout",
       "text": [
        " 63 \tnorm: 4.7092 \tsigma2: 0.3579 \t\n",
        "it: 64 \tnorm: 4.666 \tsigma2: 0.3579 \t\n",
        "it: 65 \tnorm: 4.6169 \tsigma2: 0.3579 \t\n",
        "it: 66 \tnorm: 4.5621 \tsigma2: 0.3579 \t\n",
        "it: 67 \tnorm: 4.502 \tsigma2: 0.3579 \t\n",
        "it: 68 \tnorm: 4.4367 \tsigma2: 0.3579 \t\n",
        "it: 69 \tnorm: 4.3667 \tsigma2: 0.3579 \t\n",
        "it: 70 \tnorm: 4.2924 \tsigma2: 0.3579 \t\n",
        "it: 71 \tnorm: 4.2142 \tsigma2: 0.3579 \t\n",
        "it:"
       ]
      },
      {
       "output_type": "stream",
       "stream": "stdout",
       "text": [
        " 72 \tnorm: 4.1325 \tsigma2: 0.3579 \t\n",
        "it: 73 \tnorm: 4.0478 \tsigma2: 0.3579 \t\n",
        "it: 74 \tnorm: 3.9605 \tsigma2: 0.3579 \t\n",
        "it: 75 \tnorm: 3.871 \tsigma2: 0.3579 \t\n",
        "it: 76 \tnorm: 3.7798 \tsigma2: 0.3578 \t\n",
        "it: 77 \tnorm: 3.6872 \tsigma2: 0.3578 \t\n",
        "it: 78 \tnorm: 3.5936 \tsigma2: 0.3578 \t\n",
        "it:"
       ]
      },
      {
       "output_type": "stream",
       "stream": "stdout",
       "text": [
        " 79 \tnorm: 3.4994 \tsigma2: 0.3578 \t\n",
        "it: 80 \tnorm: 3.405 \tsigma2: 0.3578 \t\n",
        "it: 81 \tnorm: 3.3106 \tsigma2: 0.3578 \t\n",
        "it: 82 \tnorm: 3.2166 \tsigma2: 0.3578 \t\n",
        "it: 83 \tnorm: 3.1232 \tsigma2: 0.3578 \t\n",
        "it: 84 \tnorm: 3.0306 \tsigma2: 0.3578 \t\n",
        "it: 85 \tnorm: 2.9392 \tsigma2: 0.3578 \t\n",
        "it: 86 \tnorm: 2.849 \tsigma2: 0.3578 \t\n",
        "it:"
       ]
      },
      {
       "output_type": "stream",
       "stream": "stdout",
       "text": [
        " 87 \tnorm: 2.7602 \tsigma2: 0.3578 \t\n",
        "it: 88 \tnorm: 2.673 \tsigma2: 0.3578 \t\n",
        "it: 89 \tnorm: 2.5875 \tsigma2: 0.3578 \t\n",
        "it: 90 \tnorm: 2.5038 \tsigma2: 0.3578 \t\n",
        "it: 91 \tnorm: 2.422 \tsigma2: 0.3578 \t\n",
        "it: 92 \tnorm: 2.3421 \tsigma2: 0.3578 \t\n",
        "it: 93 \tnorm: 2.2643 \tsigma2: 0.3578 \t\n",
        "it:"
       ]
      },
      {
       "output_type": "stream",
       "stream": "stdout",
       "text": [
        " 94 \tnorm: 2.1886 \tsigma2: 0.3578 \t\n",
        "it: 95 \tnorm: 2.1149 \tsigma2: 0.3578 \t\n",
        "it: 96 \tnorm: 2.0433 \tsigma2: 0.3578 \t\n",
        "it: 97 \tnorm: 1.9739 \tsigma2: 0.3578 \t\n",
        "it: 98 \tnorm: 1.9065 \tsigma2: 0.3578 \t\n",
        "it: 99 \tnorm: 1.8413 \tsigma2: 0.3578 \t\n",
        "it: 100 \tnorm: 1.7781 \tsigma2: 0.3578 \t\n",
        "it: 101 \tnorm: 1.717 \tsigma2: 0.3578 \t\n",
        "it: 102 \tnorm: 1.6579 \tsigma2: 0.3578 \t\n",
        "it: 103 \tnorm: 1.6008 \tsigma2: 0.3578 \t\n",
        "it: 104 \tnorm: 1.5456 \tsigma2: 0.3578 \t\n",
        "it:"
       ]
      },
      {
       "output_type": "stream",
       "stream": "stdout",
       "text": [
        " 105 \tnorm: 1.4924 \tsigma2: 0.3578 \t\n",
        "it: 106 \tnorm: 1.4411 \tsigma2: 0.3578 \t\n",
        "it: 107 \tnorm: 1.3916 \tsigma2: 0.3578 \t\n",
        "it: 108 \tnorm: 1.3439 \tsigma2: 0.3578 \t\n",
        "it: 109 \tnorm: 1.2979 \tsigma2: 0.3578 \t\n",
        "it:"
       ]
      },
      {
       "output_type": "stream",
       "stream": "stdout",
       "text": [
        " 110 \tnorm: 1.2536 \tsigma2: 0.3578 \t\n",
        "it: 111 \tnorm: 1.211 \tsigma2: 0.3578 \t\n",
        "it: 112 \tnorm: 1.17 \tsigma2: 0.3578 \t\n",
        "it: 113 \tnorm: 1.1306 \tsigma2: 0.3578 \t\n",
        "it: 114 \tnorm: 1.0926 \tsigma2: 0.3578 \t\n",
        "it: 115 \tnorm: 1.0561 \tsigma2: 0.3578 \t\n",
        "it: 116 \tnorm: 1.0211 \tsigma2: 0.3578 \t\n",
        "it: 117 \tnorm: 0.9874 \tsigma2: 0.3578 \t\n",
        "it:"
       ]
      },
      {
       "output_type": "stream",
       "stream": "stdout",
       "text": [
        " 118 \tnorm: 0.955 \tsigma2: 0.3578 \t\n",
        "it: 119 \tnorm: 0.924 \tsigma2: 0.3578 \t\n",
        "it: 120 \tnorm: 0.8941 \tsigma2: 0.3578 \t\n",
        "it: 121 \tnorm: 0.8655 \tsigma2: 0.3578 \t\n",
        "it: 122 \tnorm: 0.8381 \tsigma2: 0.3578 \t\n",
        "it: 123 \tnorm: 0.8117 \tsigma2: 0.3578 \t\n",
        "it: 124 \tnorm: 0.7865 \tsigma2: 0.3578 \t\n",
        "it: 125 \tnorm: 0.7623 \tsigma2: 0.3578 \t\n",
        "it: 126 \tnorm: 0.739 \tsigma2: 0.3578 \t\n",
        "it:"
       ]
      },
      {
       "output_type": "stream",
       "stream": "stdout",
       "text": [
        " 127 \tnorm: 0.7168 \tsigma2: 0.3578 \t\n",
        "it: 128 \tnorm: 0.6955 \tsigma2: 0.3578 \t\n",
        "it: 129 \tnorm: 0.6752 \tsigma2: 0.3578 \t\n",
        "it: 130 \tnorm: 0.6556 \tsigma2: 0.3578 \t\n",
        "it: 131 \tnorm: 0.637 \tsigma2: 0.3578 \t\n",
        "it:"
       ]
      },
      {
       "output_type": "stream",
       "stream": "stdout",
       "text": [
        " 132 \tnorm: 0.6191 \tsigma2: 0.3578 \t\n",
        "it: 133 \tnorm: 0.6021 \tsigma2: 0.3578 \t\n",
        "it: 134 \tnorm: 0.5858 \tsigma2: 0.3578 \t\n",
        "it: 135 \tnorm: 0.5702 \tsigma2: 0.3578 \t\n",
        "it: 136 \tnorm: 0.5553 \tsigma2: 0.3578 \t\n",
        "it: 137 \tnorm: 0.5411 \tsigma2: 0.3578 \t\n",
        "it: 138 \tnorm: 0.5275 \tsigma2: 0.3578 \t\n",
        "it: 139 \tnorm: 0.5146 \tsigma2: 0.3578 \t\n",
        "it: 140 \tnorm: 0.5023 \tsigma2: 0.3578 \t\n",
        "it: 141 \tnorm: 0.4905 \tsigma2: 0.3578 \t\n",
        "it: 142 \tnorm: 0.4793 \tsigma2: 0.3578 \t\n",
        "it:"
       ]
      },
      {
       "output_type": "stream",
       "stream": "stdout",
       "text": [
        " 143 \tnorm: 0.4687 \tsigma2: 0.3578 \t\n",
        "it: 144 \tnorm: 0.4585 \tsigma2: 0.3578 \t\n",
        "it: 145 \tnorm: 0.4489 \tsigma2: 0.3578 \t\n",
        "it: 146 \tnorm: 0.4397 \tsigma2: 0.3578 \t\n",
        "it: 147 \tnorm: 0.431 \tsigma2: 0.3578 \t\n",
        "it: 148 \tnorm: 0.4227 \tsigma2: 0.3578 \t\n",
        "it: 149 \tnorm: 0.4148 \tsigma2: 0.3578 \t\n",
        "it: 150 \tnorm: 0.4073 \tsigma2: 0.3578 \t\n",
        "it: 151 \tnorm: 0.4002 \tsigma2: 0.3578 \t\n",
        "it: 152 \tnorm: 0.3935 \tsigma2: 0.3578 \t\n",
        "it: 153 \tnorm: 0.3871 \tsigma2: 0.3578 \t\n",
        "it: 154 \tnorm: 0.3811 \tsigma2: 0.3578 \t\n",
        "it: 155 \tnorm: 0.3754 \tsigma2: 0.3578 \t\n",
        "it: 156 \tnorm: 0.3699 \tsigma2: 0.3578 \t\n",
        "it: 157 \tnorm: 0.3648 \tsigma2: 0.3578 \t\n",
        "it: 158 \tnorm: 0.3599 \tsigma2: 0.3578 \t\n",
        "it: 159 \tnorm: 0.3553 \tsigma2: 0.3578 \t\n",
        "it: 160 \tnorm: 0.351 \tsigma2: 0.3578 \t\n",
        "it:"
       ]
      },
      {
       "output_type": "stream",
       "stream": "stdout",
       "text": [
        " 161 \tnorm: 0.3469 \tsigma2: 0.3578 \t\n",
        "it: 162 \tnorm: 0.343 \tsigma2: 0.3578 \t\n",
        "it: 163 \tnorm: 0.3393 \tsigma2: 0.3578 \t\n",
        "it: 164 \tnorm: 0.3359 \tsigma2: 0.3578 \t\n",
        "it: 165 \tnorm: 0.3326 \tsigma2: 0.3578 \t\n",
        "it: 166 \tnorm: 0.3295 \tsigma2: 0.3578 \t\n",
        "it: 167 \tnorm: 0.3266 \tsigma2: 0.3578 \t\n",
        "it: 168 \tnorm: 0.3238 \tsigma2: 0.3578 \t\n",
        "it: 169 \tnorm: 0.3212 \tsigma2: 0.3578 \t\n",
        "it: 170 \tnorm: 0.3188 \tsigma2: 0.3578 \t\n",
        "it: 171 \tnorm: 0.3165 \tsigma2: 0.3578 \t\n",
        "it: 172 \tnorm: 0.3143 \tsigma2: 0.3578 \t\n",
        "it: 173 \tnorm: 0.3122 \tsigma2: 0.3578 \t\n",
        "it: 174 \tnorm: 0.3103 \tsigma2: 0.3578 \t\n",
        "it: 175 \tnorm: 0.3084 \tsigma2: 0.3578 \t\n",
        "it: 176 \tnorm: 0.3067 \tsigma2: 0.3578 \t\n",
        "it: 177 \tnorm: 0.3051 \tsigma2: 0.3578 \t\n",
        "it:"
       ]
      },
      {
       "output_type": "stream",
       "stream": "stdout",
       "text": [
        " 178 \tnorm: 0.3035 \tsigma2: 0.3578 \t\n",
        "it: 179 \tnorm: 0.3021 \tsigma2: 0.3578 \t\n",
        "it: 180 \tnorm: 0.3007 \tsigma2: 0.3578 \t\n",
        "it: 181 \tnorm: 0.2994 \tsigma2: 0.3578 \t\n",
        "it: 182 \tnorm: 0.2982 \tsigma2: 0.3578 \t\n",
        "it: 183 \tnorm: 0.297 \tsigma2: 0.3578 \t\n",
        "it: 184 \tnorm: 0.2959 \tsigma2: 0.3578 \t\n",
        "it: 185 \tnorm: 0.2949 \tsigma2: 0.3578 \t\n",
        "it: 186 \tnorm: 0.2939 \tsigma2: 0.3578 \t\n",
        "it: 187 \tnorm: 0.293 \tsigma2: 0.3578 \t\n",
        "it: 188 \tnorm: 0.2921 \tsigma2: 0.3578 \t\n",
        "it: 189 \tnorm: 0.2913 \tsigma2: 0.3578 \t\n",
        "it: 190 \tnorm: 0.2905 \tsigma2: 0.3578 \t\n",
        "it: 191 \tnorm: 0.2898 \tsigma2: 0.3578 \t\n",
        "it: 192 \tnorm: 0.2891 \tsigma2: 0.3578 \t\n",
        "it: 193 \tnorm: 0.2884 \tsigma2: 0.3578 \t\n",
        "it: 194 \tnorm: 0.2878 \tsigma2: 0.3578 \t\n",
        "it: 195 \tnorm: 0.2872 \tsigma2: 0.3578 \t\n",
        "it: 196 \tnorm: 0.2866 \tsigma2: 0.3578 \t\n",
        "it: 197 \tnorm: 0.2861 \tsigma2: 0.3578 \t\n",
        "it:"
       ]
      },
      {
       "output_type": "stream",
       "stream": "stdout",
       "text": [
        " 198 \tnorm: 0.2856 \tsigma2: 0.3578 \t\n",
        "it: 199 \tnorm: 0.2851 \tsigma2: 0.3578 \t\n"
       ]
      }
     ],
     "prompt_number": 351
    },
    {
     "cell_type": "code",
     "collapsed": false,
     "input": [
      "S = p_W.dot(p_W.T)\n",
      "S = (S + S.T) /2\n",
      "R, p_ll = eigenvalue_decomposition(S)\n",
      "p_l = p_ll + p_sigma2\n",
      "\n",
      "p_U = np.diag(1 / np.sqrt(p_ll)).dot(R.T.dot(p_W))"
     ],
     "language": "python",
     "metadata": {},
     "outputs": [],
     "prompt_number": 352
    },
    {
     "cell_type": "code",
     "collapsed": false,
     "input": [
      "imshow(R.dot(R.T))"
     ],
     "language": "python",
     "metadata": {},
     "outputs": [
      {
       "metadata": {},
       "output_type": "pyout",
       "prompt_number": 353,
       "text": [
        "<matplotlib.image.AxesImage at 0x7fc6a702dd90>"
       ]
      },
      {
       "metadata": {},
       "output_type": "display_data",
       "png": "[encoded data removed]",
       "text": [
        "<matplotlib.figure.Figure at 0x7fc6a7044c50>"
       ]
      }
     ],
     "prompt_number": 353
    },
    {
     "cell_type": "code",
     "collapsed": false,
     "input": [
      "print 'Shape of p_U is:', p_U.shape\n",
      "print 'Shape of p_l is:', p_l.shape\n",
      "print 'Shape of p_m is:', p_m.shape"
     ],
     "language": "python",
     "metadata": {},
     "outputs": [
      {
       "output_type": "stream",
       "stream": "stdout",
       "text": [
        "Shape of p_U is: (50, 1000)\n",
        "Shape of p_l is: (50,)\n",
        "Shape of p_m is: (1000,)\n"
       ]
      }
     ],
     "prompt_number": 354
    },
    {
     "cell_type": "markdown",
     "metadata": {},
     "source": [
      "Check the equivalence of both:"
     ]
    },
    {
     "cell_type": "code",
     "collapsed": false,
     "input": [
      "print 'Are d_l and p_l equal?', np.allclose(d_U, p_U)\n",
      "print 'Are d_l and p_l equal?', np.allclose(d_l, p_l)\n",
      "print 'Are d_m and p_m equal?', np.allclose(d_m, p_m)"
     ],
     "language": "python",
     "metadata": {},
     "outputs": [
      {
       "output_type": "stream",
       "stream": "stdout",
       "text": [
        "Are d_l and p_l equal?"
       ]
      },
      {
       "ename": "ValueError",
       "evalue": "operands could not be broadcast together with shapes (99,1000) (50,1000) ",
       "output_type": "pyerr",
       "traceback": [
        "\u001b[1;31m---------------------------------------------------------------------------\u001b[0m\n\u001b[1;31mValueError\u001b[0m                                Traceback (most recent call last)",
        "\u001b[1;32m<ipython-input-355-5692c33b8e27>\u001b[0m in \u001b[0;36m<module>\u001b[1;34m()\u001b[0m\n\u001b[1;32m----> 1\u001b[1;33m \u001b[1;32mprint\u001b[0m \u001b[1;34m'Are d_l and p_l equal?'\u001b[0m\u001b[1;33m,\u001b[0m \u001b[0mnp\u001b[0m\u001b[1;33m.\u001b[0m\u001b[0mallclose\u001b[0m\u001b[1;33m(\u001b[0m\u001b[0md_U\u001b[0m\u001b[1;33m,\u001b[0m \u001b[0mp_U\u001b[0m\u001b[1;33m)\u001b[0m\u001b[1;33m\u001b[0m\u001b[0m\n\u001b[0m\u001b[0;32m      2\u001b[0m \u001b[1;32mprint\u001b[0m \u001b[1;34m'Are d_l and p_l equal?'\u001b[0m\u001b[1;33m,\u001b[0m \u001b[0mnp\u001b[0m\u001b[1;33m.\u001b[0m\u001b[0mallclose\u001b[0m\u001b[1;33m(\u001b[0m\u001b[0md_l\u001b[0m\u001b[1;33m,\u001b[0m \u001b[0mp_l\u001b[0m\u001b[1;33m)\u001b[0m\u001b[1;33m\u001b[0m\u001b[0m\n\u001b[0;32m      3\u001b[0m \u001b[1;32mprint\u001b[0m \u001b[1;34m'Are d_m and p_m equal?'\u001b[0m\u001b[1;33m,\u001b[0m \u001b[0mnp\u001b[0m\u001b[1;33m.\u001b[0m\u001b[0mallclose\u001b[0m\u001b[1;33m(\u001b[0m\u001b[0md_m\u001b[0m\u001b[1;33m,\u001b[0m \u001b[0mp_m\u001b[0m\u001b[1;33m)\u001b[0m\u001b[1;33m\u001b[0m\u001b[0m\n",
        "\u001b[1;32m/data/installed/anaconda/envs/menpo/lib/python2.7/site-packages/numpy/core/numeric.pyc\u001b[0m in \u001b[0;36mallclose\u001b[1;34m(a, b, rtol, atol)\u001b[0m\n\u001b[0;32m   2232\u001b[0m     \u001b[1;31m# ignore invalid fpe's\u001b[0m\u001b[1;33m\u001b[0m\u001b[1;33m\u001b[0m\u001b[0m\n\u001b[0;32m   2233\u001b[0m     \u001b[1;32mwith\u001b[0m \u001b[0merrstate\u001b[0m\u001b[1;33m(\u001b[0m\u001b[0minvalid\u001b[0m\u001b[1;33m=\u001b[0m\u001b[1;34m'ignore'\u001b[0m\u001b[1;33m)\u001b[0m\u001b[1;33m:\u001b[0m\u001b[1;33m\u001b[0m\u001b[0m\n\u001b[1;32m-> 2234\u001b[1;33m         \u001b[0mr\u001b[0m \u001b[1;33m=\u001b[0m \u001b[0mall\u001b[0m\u001b[1;33m(\u001b[0m\u001b[0mless_equal\u001b[0m\u001b[1;33m(\u001b[0m\u001b[0mabs\u001b[0m\u001b[1;33m(\u001b[0m\u001b[0mx\u001b[0m \u001b[1;33m-\u001b[0m \u001b[0my\u001b[0m\u001b[1;33m)\u001b[0m\u001b[1;33m,\u001b[0m \u001b[0matol\u001b[0m \u001b[1;33m+\u001b[0m \u001b[0mrtol\u001b[0m \u001b[1;33m*\u001b[0m \u001b[0mabs\u001b[0m\u001b[1;33m(\u001b[0m\u001b[0my\u001b[0m\u001b[1;33m)\u001b[0m\u001b[1;33m)\u001b[0m\u001b[1;33m)\u001b[0m\u001b[1;33m\u001b[0m\u001b[0m\n\u001b[0m\u001b[0;32m   2235\u001b[0m \u001b[1;33m\u001b[0m\u001b[0m\n\u001b[0;32m   2236\u001b[0m     \u001b[1;32mreturn\u001b[0m \u001b[0mr\u001b[0m\u001b[1;33m\u001b[0m\u001b[0m\n",
        "\u001b[1;31mValueError\u001b[0m: operands could not be broadcast together with shapes (99,1000) (50,1000) "
       ]
      }
     ],
     "prompt_number": 355
    },
    {
     "cell_type": "code",
     "collapsed": false,
     "input": [
      "imshow(p_U.dot(p_U.T))"
     ],
     "language": "python",
     "metadata": {},
     "outputs": [
      {
       "metadata": {},
       "output_type": "pyout",
       "prompt_number": 356,
       "text": [
        "<matplotlib.image.AxesImage at 0x7fc6a6f52dd0>"
       ]
      },
      {
       "output_type": "stream",
       "stream": "stdout",
       "text": [
        "\n"
       ]
      },
      {
       "metadata": {},
       "output_type": "display_data",
       "png": "[encoded data removed]",
       "text": [
        "<matplotlib.figure.Figure at 0x7fc6a6fc9590>"
       ]
      }
     ],
     "prompt_number": 356
    },
    {
     "cell_type": "code",
     "collapsed": false,
     "input": [
      "p_U"
     ],
     "language": "python",
     "metadata": {},
     "outputs": [
      {
       "metadata": {},
       "output_type": "pyout",
       "prompt_number": 357,
       "text": [
        "array([[ 0.01195393, -0.03122753,  0.06945406, ..., -0.00092244,\n",
        "        -0.02393825,  0.0232757 ],\n",
        "       [-0.00371067, -0.00524509, -0.06647171, ...,  0.00811372,\n",
        "         0.0169402 , -0.06984008],\n",
        "       [ 0.04494905,  0.03670847,  0.00413988, ...,  0.04429931,\n",
        "         0.01266018, -0.02371748],\n",
        "       ..., \n",
        "       [ 0.00399331,  0.0899123 , -0.0319718 , ...,  0.01954453,\n",
        "        -0.01342462, -0.0443901 ],\n",
        "       [-0.00028638, -0.03501196,  0.07020173, ..., -0.02048373,\n",
        "         0.00552288, -0.04591436],\n",
        "       [-0.04482604,  0.00880338, -0.02050367, ...,  0.00336664,\n",
        "         0.00197027,  0.00013523]])"
       ]
      }
     ],
     "prompt_number": 357
    },
    {
     "cell_type": "code",
     "collapsed": false,
     "input": [
      "d_U[:10, :]"
     ],
     "language": "python",
     "metadata": {},
     "outputs": [
      {
       "metadata": {},
       "output_type": "pyout",
       "prompt_number": 358,
       "text": [
        "array([[ 0.04251585,  0.07270123, -0.01998743, ...,  0.01269973,\n",
        "        -0.04058452, -0.01882379],\n",
        "       [-0.01110129, -0.03728404,  0.02131064, ..., -0.01848803,\n",
        "        -0.03325375, -0.05415383],\n",
        "       [ 0.00764611, -0.02227752, -0.02967025, ..., -0.03281607,\n",
        "         0.04159736,  0.01075211],\n",
        "       ..., \n",
        "       [ 0.00383337,  0.04914765, -0.00162683, ..., -0.0022833 ,\n",
        "        -0.00528686,  0.00637839],\n",
        "       [ 0.02889677, -0.00689486,  0.0591377 , ..., -0.03389012,\n",
        "        -0.00348085, -0.01033478],\n",
        "       [-0.01393994,  0.05598623, -0.00406541, ..., -0.01559063,\n",
        "        -0.0533476 ,  0.01016811]])"
       ]
      }
     ],
     "prompt_number": 358
    },
    {
     "cell_type": "code",
     "collapsed": false,
     "input": [],
     "language": "python",
     "metadata": {},
     "outputs": [],
     "prompt_number": 358
    },
    {
     "cell_type": "code",
     "collapsed": false,
     "input": [],
     "language": "python",
     "metadata": {},
     "outputs": []
    },
    {
     "cell_type": "code",
     "collapsed": false,
     "input": [],
     "language": "python",
     "metadata": {},
     "outputs": []
    },
    {
     "cell_type": "code",
     "collapsed": false,
     "input": [],
     "language": "python",
     "metadata": {},
     "outputs": []
    },
    {
     "cell_type": "code",
     "collapsed": false,
     "input": [],
     "language": "python",
     "metadata": {},
     "outputs": []
    },
    {
     "cell_type": "code",
     "collapsed": false,
     "input": [],
     "language": "python",
     "metadata": {},
     "outputs": []
    },
    {
     "cell_type": "code",
     "collapsed": false,
     "input": [],
     "language": "python",
     "metadata": {},
     "outputs": []
    },
    {
     "cell_type": "code",
     "collapsed": false,
     "input": [],
     "language": "python",
     "metadata": {},
     "outputs": []
    },
    {
     "cell_type": "code",
     "collapsed": false,
     "input": [],
     "language": "python",
     "metadata": {},
     "outputs": []
    },
    {
     "cell_type": "code",
     "collapsed": false,
     "input": [],
     "language": "python",
     "metadata": {},
     "outputs": []
    },
    {
     "cell_type": "code",
     "collapsed": false,
     "input": [],
     "language": "python",
     "metadata": {},
     "outputs": []
    },
    {
     "cell_type": "code",
     "collapsed": false,
     "input": [],
     "language": "python",
     "metadata": {},
     "outputs": []
    },
    {
     "cell_type": "code",
     "collapsed": false,
     "input": [],
     "language": "python",
     "metadata": {},
     "outputs": []
    },
    {
     "cell_type": "code",
     "collapsed": false,
     "input": [],
     "language": "python",
     "metadata": {},
     "outputs": []
    },
    {
     "cell_type": "code",
     "collapsed": false,
     "input": [],
     "language": "python",
     "metadata": {},
     "outputs": []
    }
   ],
   "metadata": {}
  }
 ]
}