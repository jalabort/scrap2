{
 "metadata": {
  "name": "",
  "signature": "sha256:276ab9693d73c136e911d4e5404f6443f3e0578d1e7a8d7e9ae069c9e52b1f6a"
 },
 "nbformat": 3,
 "nbformat_minor": 0,
 "worksheets": [
  {
   "cells": [
    {
     "cell_type": "heading",
     "level": 2,
     "metadata": {},
     "source": [
      "Line profiler"
     ]
    },
    {
     "cell_type": "code",
     "collapsed": false,
     "input": [
      "import line_profiler\n",
      "import IPython\n",
      "\n",
      "ip = IPython.get_ipython()\n",
      "ip.define_magic('lprun', line_profiler.magic_lprun)"
     ],
     "language": "python",
     "metadata": {},
     "outputs": []
    },
    {
     "cell_type": "code",
     "collapsed": false,
     "input": [
      "import numpy as np\n",
      "from menpo.image import Image\n",
      "\n",
      "img = Image(np.random.randn(100, 100))\n",
      "%lprun -f Image.resize img.resize((10,10))"
     ],
     "language": "python",
     "metadata": {},
     "outputs": []
    },
    {
     "cell_type": "heading",
     "level": 2,
     "metadata": {},
     "source": [
      "Memory profiler"
     ]
    },
    {
     "cell_type": "code",
     "collapsed": false,
     "input": [
      "import memory_profiler\n",
      "import IPython\n",
      "\n",
      "ip = IPython.get_ipython()\n",
      "ip.define_magic('mprun', memory_profiler.magic_mprun)"
     ],
     "language": "python",
     "metadata": {},
     "outputs": []
    },
    {
     "cell_type": "code",
     "collapsed": false,
     "input": [
      "import numpy as np\n",
      "from menpo.image import Image\n",
      "\n",
      "img = Image(np.random.randn(100, 100))\n",
      "%mprun -f Image.resize img.resize((10,10))"
     ],
     "language": "python",
     "metadata": {},
     "outputs": []
    }
   ],
   "metadata": {}
  }
 ]
}