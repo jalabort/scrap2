{
 "metadata": {
  "name": "",
  "signature": "sha256:f338817ec3ba9c63eb7d1c8281898a5cdd6b3f9dcc6f1a0edfea4c8fc45c5180"
 },
 "nbformat": 3,
 "nbformat_minor": 0,
 "worksheets": [
  {
   "cells": [
    {
     "cell_type": "code",
     "collapsed": false,
     "input": [
      "import pybug.io as pio\n",
      "from pybug.landmark import labeller, ibug_68_points, ibug_68_trimesh\n",
      "\n",
      "training_images = []\n",
      "# load landmarked imarges\n",
      "for i in pio.import_images('/data/PhD/DataBases/lfpw/trainset/*.png', max_images=811):\n",
      "    i.crop_to_landmarks_proportion(0.2)\n",
      "    if i.n_channels == 3:\n",
      "        training_images.append(i.as_greyscale(mode='luminosity'))\n",
      "    else:\n",
      "        training_images.append(i)"
     ],
     "language": "python",
     "metadata": {},
     "outputs": []
    },
    {
     "cell_type": "code",
     "collapsed": false,
     "input": [
      "# visualize the first image\n",
      "%matplotlib inline\n",
      "training_images[0].landmarks['PTS'].view()"
     ],
     "language": "python",
     "metadata": {},
     "outputs": []
    },
    {
     "cell_type": "code",
     "collapsed": false,
     "input": [
      "image = training_images[0]\n",
      "\n",
      "def hog_closure(image):\n",
      "    return image.features.hog(cell_size=4, window_step_horizontal=1, window_step_vertical=1)\n",
      "\n",
      "%matplotlib inline\n",
      "hog_closure(training_images[0]).view(channels=0)"
     ],
     "language": "python",
     "metadata": {},
     "outputs": []
    },
    {
     "cell_type": "code",
     "collapsed": false,
     "input": [
      "from sklearn import svm\n",
      "from sklearn import linear_model \n",
      "from pybug.asm.base import asm_builder\n",
      "\n",
      "def classifier_closure(X, y):\n",
      "    clf1 = svm.LinearSVC(class_weight='auto')\n",
      "    clf1.fit(X, y)\n",
      "    y_pred = clf1.decision_function(X)\n",
      "    clf2 = linear_model.LogisticRegression(class_weight='auto')\n",
      "    clf2.fit(y_pred[..., None], y)\n",
      "    return clf1, clf2\n",
      "\n",
      "# build aam\n",
      "asm = asm_builder(training_images, group='PTS', patch_size=(16, 16), n_levels=3,\n",
      "                  feature_type=hog_closure, classifier_type=classifier_closure,\n",
      "                  max_shape_components=25)"
     ],
     "language": "python",
     "metadata": {},
     "outputs": []
    },
    {
     "cell_type": "code",
     "collapsed": false,
     "input": [
      "from pybug.aam.base import aam_builder\n",
      "from pybug.transform.piecewiseaffine import PiecewiseAffineTransform\n",
      "from pybug.image import Image\n",
      "\n",
      "# label images\n",
      "labeller(training_images, 'PTS', ibug_68_trimesh);\n",
      "\n",
      "def rm_closure(image, level):\n",
      "    image = hog_closure(image)\n",
      "    image_pixels = np.reshape(image.pixels, (-1, image.n_channels))\n",
      "    response_image = np.zeros((image.shape[0], image.shape[1],\n",
      "                               target.n_points))\n",
      "    for j, c in enumerate(asm.classifiers[:-1-j]):\n",
      "        response_pixels = c[0].decision_function(image_pixels)\n",
      "        response_image[:, :, j] = np.reshape(c[1].predict_proba(\n",
      "            response_pixels[..., None])[:, 1], image.shape)\n",
      "    return Image(image_data=response_image)\n",
      "\n",
      "# build aam\n",
      "aam = aam_builder(training_images, \n",
      "                  group='PTS', \n",
      "                  trilist=training_images[0].landmarks['ibug_68_trimesh'].lms.trilist, \n",
      "                  n_levels=3, \n",
      "                  downscale=2, \n",
      "                  feature_type=hog_closure, \n",
      "                  max_shape_components=25, \n",
      "                  max_appearance_components=250)"
     ],
     "language": "python",
     "metadata": {},
     "outputs": []
    },
    {
     "cell_type": "code",
     "collapsed": false,
     "input": [
      "breakingbad = pio.import_builtin_asset('breakingbad.jpg')\n",
      "breakingbad = breakingbad.as_greyscale(mode='luminosity')\n",
      "breakingbad.crop_to_landmarks_proportion(0.3, group='PTS')\n",
      "\n",
      "%matplotlib inline\n",
      "breakingbad.landmarks['PTS'].view()"
     ],
     "language": "python",
     "metadata": {},
     "outputs": []
    },
    {
     "cell_type": "code",
     "collapsed": false,
     "input": [
      "from pybug.aam.fitter import LucasKanadeAAMFitter\n",
      "from pybug.lucaskanade import ProjectOutInverseCompositional\n",
      "\n",
      "# initialize Lucas-Kanade aam fitting\n",
      "lk_aam_fitter = LucasKanadeAAMFitter(aam, lk_algorithm=ProjectOutInverseCompositional,\n",
      "                                     n_shape=[3, 6, 12], \n",
      "                                     n_appearance=20)"
     ],
     "language": "python",
     "metadata": {},
     "outputs": []
    },
    {
     "cell_type": "code",
     "collapsed": false,
     "input": [
      "# fit test images\n",
      "aam_fitting = lk_aam_fitter.fit_image(breakingbad, \n",
      "                                      max_iters=50)"
     ],
     "language": "python",
     "metadata": {},
     "outputs": []
    },
    {
     "cell_type": "code",
     "collapsed": false,
     "input": [
      "%load_ext autoreload\n",
      "%autoreload 2"
     ],
     "language": "python",
     "metadata": {},
     "outputs": []
    },
    {
     "cell_type": "code",
     "collapsed": false,
     "input": [
      "%debug"
     ],
     "language": "python",
     "metadata": {},
     "outputs": []
    },
    {
     "cell_type": "code",
     "collapsed": false,
     "input": [
      "%matplotlib inline\n",
      "aam_fitting.view_final_fitting()"
     ],
     "language": "python",
     "metadata": {},
     "outputs": []
    },
    {
     "cell_type": "code",
     "collapsed": false,
     "input": [],
     "language": "python",
     "metadata": {},
     "outputs": []
    },
    {
     "cell_type": "code",
     "collapsed": false,
     "input": [
      "%matplotlib inline\n",
      "aam_fitting.plot_error(color_list=['b'], marker_list=['*'])"
     ],
     "language": "python",
     "metadata": {},
     "outputs": []
    },
    {
     "cell_type": "code",
     "collapsed": false,
     "input": [
      "%matplotlib wx\n",
      "aam_fitting.view_final_fitting()"
     ],
     "language": "python",
     "metadata": {},
     "outputs": []
    },
    {
     "cell_type": "code",
     "collapsed": false,
     "input": [],
     "language": "python",
     "metadata": {},
     "outputs": []
    },
    {
     "cell_type": "code",
     "collapsed": false,
     "input": [],
     "language": "python",
     "metadata": {},
     "outputs": []
    }
   ],
   "metadata": {}
  }
 ]
}