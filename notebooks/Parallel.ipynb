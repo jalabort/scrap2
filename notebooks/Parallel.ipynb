{
 "metadata": {
  "name": ""
 },
 "nbformat": 3,
 "nbformat_minor": 0,
 "worksheets": [
  {
   "cells": [
    {
     "cell_type": "code",
     "collapsed": false,
     "input": [
      "from pybug.io import auto_import\n",
      "\n",
      "# load the training images of the LFPW database as landmarked images using the autoimporter\n",
      "images = auto_import('/vol/atlas/databases/lfpw/testset/' + '*.png', max_images=10)\n",
      "\n",
      "\n",
      "\n",
      "from pybug.transform.affine import Translation\n",
      "\n",
      "# extract shape data. -1 because the annotation are 1 based\n",
      "translation = Translation(np.array([-1, -1]))\n",
      "for img in images:\n",
      "    translation.apply_inplace(img.landmarks['PTS'].lms)\n",
      "\n",
      "\n",
      "\n",
      "from pybug.landmark.labels import labeller, ibug_68_points\n",
      "\n",
      "# label the landmarks using the ibug's \"standard\" 68 points mark-up\n",
      "labeller(images, 'PTS', ibug_68_points);\n",
      "\n",
      "\n",
      "\n",
      "import pickle\n",
      "\n",
      "# load a previously buid AAM\n",
      "aam = pickle.load(open('/vol/atlas/aams/lfpw_pwa_multi', \"rb\"))\n",
      "\n",
      "ref_frame_list = aam[\"ref_frame_list\"]\n",
      "appearance_model_list = aam[\"appearance_model_list\"]\n",
      "shape_model_list = aam[\"shape_model_list\"]"
     ],
     "language": "python",
     "metadata": {},
     "outputs": [
      {
       "output_type": "stream",
       "stream": "stdout",
       "text": [
        "Found 224 files. (0/224) are importable\n",
        "\n"
       ]
      },
      {
       "output_type": "stream",
       "stream": "stdout",
       "text": [
        "Found 224 files. (224/224) are importable\n",
        "\r",
        "Creating importer for <pybug.io.image.PILImporter object at 0x2a77ad0> (1 of 10)"
       ]
      },
      {
       "output_type": "stream",
       "stream": "stdout",
       "text": [
        "\r",
        "Creating importer for <pybug.io.image.PILImporter object at 0x2f32890> (2 of 10)"
       ]
      },
      {
       "output_type": "stream",
       "stream": "stdout",
       "text": [
        "\r",
        "Creating importer for <pybug.io.image.PILImporter object at 0x2f328d0> (3 of 10)"
       ]
      },
      {
       "output_type": "stream",
       "stream": "stdout",
       "text": [
        "\r",
        "Creating importer for <pybug.io.image.PILImporter object at 0x2f32910> (4 of 10)"
       ]
      },
      {
       "output_type": "stream",
       "stream": "stdout",
       "text": [
        "\r",
        "Creating importer for <pybug.io.image.PILImporter object at 0x2f32950> (5 of 10)"
       ]
      },
      {
       "output_type": "stream",
       "stream": "stdout",
       "text": [
        "\r",
        "Creating importer for <pybug.io.image.PILImporter object at 0x2f32990> (6 of 10)"
       ]
      },
      {
       "output_type": "stream",
       "stream": "stdout",
       "text": [
        "\r",
        "Creating importer for <pybug.io.image.PILImporter object at 0x2f329d0> (7 of 10)"
       ]
      },
      {
       "output_type": "stream",
       "stream": "stdout",
       "text": [
        "\r",
        "Creating importer for <pybug.io.image.PILImporter object at 0x2f32a10> (8 of 10)"
       ]
      },
      {
       "output_type": "stream",
       "stream": "stdout",
       "text": [
        "\r",
        "Creating importer for <pybug.io.image.PILImporter object at 0x2f32a50> (9 of 10)"
       ]
      },
      {
       "output_type": "stream",
       "stream": "stdout",
       "text": [
        "\r",
        "Creating importer for <pybug.io.image.PILImporter object at 0x2f32a90> (10 of 10)"
       ]
      },
      {
       "output_type": "stream",
       "stream": "stdout",
       "text": [
        "\n"
       ]
      }
     ],
     "prompt_number": 1
    },
    {
     "cell_type": "code",
     "collapsed": false,
     "input": [
      "from pybug.transform.modeldriven import GlobalMDTransform\n",
      "from pybug.transform.affine import SimilarityTransform\n",
      "from pybug.transform.piecewiseaffine import PiecewiseAffineTransform\n",
      "\n",
      "source_1 = ref_frame_list[0].landmarks['ibug_68_trimesh'].lms\n",
      "source_2 = ref_frame_list[1].landmarks['ibug_68_trimesh'].lms\n",
      "source_3 = ref_frame_list[2].landmarks['ibug_68_trimesh'].lms\n",
      "\n",
      "dummy_similarity_transform = SimilarityTransform.from_vector(np.array([0, 0, 0, 0]))\n",
      "global_transform = dummy_similarity_transform\n",
      "\n",
      "md_transform_list = []\n",
      "for sm, rf in zip(shape_model_list, ref_frame_list):\n",
      "    md_transform_list.append(GlobalMDTransform(sm,\n",
      "                                               PiecewiseAffineTransform,\n",
      "                                               source=rf.landmarks['ibug_68_trimesh'].lms, \n",
      "                                               global_transform=global_transform))\n",
      "\n",
      "\n",
      "\n",
      "from copy import deepcopy\n",
      "from pybug.lucaskanade.residual import LSIntensity\n",
      "from pybug.lucaskanade.appearance import (AlternatingForwardAdditive, \n",
      "                                          AlternatingForwardCompositional,\n",
      "                                          AlternatingInverseCompositional)\n",
      "\n",
      "# standard Least Squares Residual\n",
      "residual = LSIntensity()\n",
      "\n",
      "# forward additive\n",
      "fa_single = AlternatingForwardAdditive([appearance_model_list[-1]], \n",
      "                                        residual, \n",
      "                                        [deepcopy(md_transform_list[-1])])\n",
      "# forwad compositional\n",
      "fc_single = AlternatingForwardCompositional([appearance_model_list[-1]], \n",
      "                                            residual, \n",
      "                                            [deepcopy(md_transform_list[-1])])\n",
      "# inverse compositional\n",
      "ic_single = AlternatingInverseCompositional([appearance_model_list[-1]], \n",
      "                                            residual, \n",
      "                                            [deepcopy(md_transform_list[-1])])\n",
      "\n",
      "\n",
      "# forward additive\n",
      "fa_multi = AlternatingForwardAdditive(appearance_model_list, \n",
      "                                residual, \n",
      "                                deepcopy(md_transform_list))\n",
      "# forwad compositional\n",
      "fc_multi = AlternatingForwardCompositional(appearance_model_list, \n",
      "                                     residual, \n",
      "                                     deepcopy(md_transform_list))\n",
      "# inverse compositional\n",
      "ic_multi = AlternatingInverseCompositional(appearance_model_list, \n",
      "                                     residual, \n",
      "                                     deepcopy(md_transform_list))"
     ],
     "language": "python",
     "metadata": {},
     "outputs": [],
     "prompt_number": 2
    },
    {
     "cell_type": "code",
     "collapsed": false,
     "input": [
      "level = 2\n",
      "noise_scale =  0.01\n",
      "\n",
      "global_transform_list = []\n",
      "for img in images:\n",
      "    global_transform = SimilarityTransform.align(shape_model_list[level].mean, img.landmarks['PTS'].lms)\n",
      "    global_trans_params = global_transform.as_vector()\n",
      "    # kill rotation\n",
      "    global_trans_params[1] = 0\n",
      "    # add Gaussian noise\n",
      "    global_trans_params += noise_scale * np.random.randn(4)\n",
      "    global_transform_list.append(global_transform.from_vector(global_trans_params))\n",
      "\n",
      "\n",
      "ini_md_trans = [GlobalMDTransform(shape_model_list[level], \n",
      "                                  PiecewiseAffineTransform, \n",
      "                                  source=ref_frame_list[level].landmarks['PTS'].lms, \n",
      "                                  global_transform=gt)\n",
      "                for gt in global_transform_list]"
     ],
     "language": "python",
     "metadata": {},
     "outputs": [],
     "prompt_number": 3
    },
    {
     "cell_type": "code",
     "collapsed": false,
     "input": [
      "from pybug.image import MaskedNDImage\n",
      "\n",
      "gs_images = [img.as_greyscale() for img in images]\n",
      "nd_images = [MaskedNDImage(img.pixels, mask=img.mask) for img in gs_images]\n",
      "\n",
      "shapes = [img.landmarks['PTS'].lms for img in images]"
     ],
     "language": "python",
     "metadata": {},
     "outputs": [],
     "prompt_number": 4
    },
    {
     "cell_type": "code",
     "collapsed": false,
     "input": [
      "from IPython.parallel import Client\n",
      "\n",
      "c = Client()\n",
      "dview = c[:]"
     ],
     "language": "python",
     "metadata": {},
     "outputs": [],
     "prompt_number": 5
    },
    {
     "cell_type": "code",
     "collapsed": false,
     "input": [
      "from copy import deepcopy\n",
      "\n",
      "def lk_parallel_align(transform, image):\n",
      "    print 'aligning with {} and {}'.format(transform, image)\n",
      "    return ic_multi.align(image,transform)"
     ],
     "language": "python",
     "metadata": {},
     "outputs": [],
     "prompt_number": 14
    },
    {
     "cell_type": "code",
     "collapsed": false,
     "input": [
      "ic_multi."
     ],
     "language": "python",
     "metadata": {},
     "outputs": [
      {
       "metadata": {},
       "output_type": "pyout",
       "prompt_number": 11,
       "text": [
        "<pybug.lucaskanade.appearance.alternating.AlternatingInverseCompositional at 0x220a9950>"
       ]
      }
     ],
     "prompt_number": 11
    },
    {
     "cell_type": "code",
     "collapsed": false,
     "input": [
      "lk_result = dview.map(lk_parallel_align, ini_md_trans, nd_images)"
     ],
     "language": "python",
     "metadata": {},
     "outputs": [],
     "prompt_number": 15
    },
    {
     "cell_type": "code",
     "collapsed": false,
     "input": [
      "lk_result.get()"
     ],
     "language": "python",
     "metadata": {},
     "outputs": [
      {
       "ename": "CompositeError",
       "evalue": "one or more exceptions from call to method: lk_parallel_align\n[0:apply]: AttributeError: 'AlternatingForwardCompositional' object has no attribute '_calculate_delta_p'\n[1:apply]: AttributeError: 'AlternatingForwardCompositional' object has no attribute '_calculate_delta_p'\n[2:apply]: AttributeError: 'AlternatingForwardCompositional' object has no attribute '_calculate_delta_p'\n[3:apply]: AttributeError: 'AlternatingForwardCompositional' object has no attribute '_calculate_delta_p'\n.... 2 more exceptions ...",
       "output_type": "pyerr",
       "traceback": [
        "[0:apply]: ",
        "\u001b[1;31m---------------------------------------------------------------------------\u001b[0m",
        "\u001b[1;31mAttributeError\u001b[0m                            Traceback (most recent call last)\u001b[1;32m<string>\u001b[0m in \u001b[0;36m<module>\u001b[1;34m()\u001b[0m",
        "\u001b[1;32m<ipython-input-14-4dc9e7d852d4>\u001b[0m in \u001b[0;36mlk_parallel_align\u001b[1;34m(transform, image)\u001b[0m",
        "\u001b[1;32m/vol/atlas/homes/ja310/.virtualenvs/pybug/src/pybug/pybug/lucaskanade/appearance/base.pyc\u001b[0m in \u001b[0;36malign\u001b[1;34m(self, image, initial_transform, max_iters, **kwargs)\u001b[0m",
        "\u001b[0;32m     41\u001b[0m             \u001b[0mself\u001b[0m\u001b[1;33m.\u001b[0m\u001b[0mimage\u001b[0m \u001b[1;33m=\u001b[0m \u001b[0mimage\u001b[0m\u001b[1;33m\u001b[0m\u001b[0m",
        "\u001b[0;32m     42\u001b[0m             \u001b[1;31m# Align\u001b[0m\u001b[1;33m\u001b[0m\u001b[1;33m\u001b[0m\u001b[0m",
        "\u001b[1;32m---> 43\u001b[1;33m             \u001b[0moptimal_transform\u001b[0m \u001b[1;33m=\u001b[0m \u001b[0mself\u001b[0m\u001b[1;33m.\u001b[0m\u001b[0m_align\u001b[0m\u001b[1;33m(\u001b[0m\u001b[0mmax_iters_level\u001b[0m\u001b[1;33m*\u001b[0m\u001b[1;33m(\u001b[0m\u001b[0mi\u001b[0m\u001b[1;33m+\u001b[0m\u001b[1;36m1\u001b[0m\u001b[1;33m)\u001b[0m\u001b[1;33m,\u001b[0m \u001b[1;33m**\u001b[0m\u001b[0mkwargs\u001b[0m\u001b[1;33m)\u001b[0m\u001b[1;33m\u001b[0m\u001b[0m",
        "\u001b[0m\u001b[0;32m     44\u001b[0m \u001b[1;33m\u001b[0m\u001b[0m",
        "\u001b[0;32m     45\u001b[0m         \u001b[1;32mreturn\u001b[0m \u001b[0moptimal_transform\u001b[0m\u001b[1;33m\u001b[0m\u001b[0m",
        "\u001b[1;32m/vol/atlas/homes/ja310/.virtualenvs/pybug/src/pybug/pybug/lucaskanade/appearance/alternating.pyc\u001b[0m in \u001b[0;36m_align\u001b[1;34m(self, max_iters)\u001b[0m",
        "\u001b[0;32m     84\u001b[0m \u001b[1;33m\u001b[0m\u001b[0m",
        "\u001b[0;32m     85\u001b[0m             \u001b[1;31m# Compute gradient descent parameter updates\u001b[0m\u001b[1;33m\u001b[0m\u001b[1;33m\u001b[0m\u001b[0m",
        "\u001b[1;32m---> 86\u001b[1;33m             \u001b[0mdelta_p\u001b[0m \u001b[1;33m=\u001b[0m \u001b[0mnp\u001b[0m\u001b[1;33m.\u001b[0m\u001b[0mreal\u001b[0m\u001b[1;33m(\u001b[0m\u001b[0mself\u001b[0m\u001b[1;33m.\u001b[0m\u001b[0m_calculate_delta_p\u001b[0m\u001b[1;33m(\u001b[0m\u001b[0msd_delta_p\u001b[0m\u001b[1;33m)\u001b[0m\u001b[1;33m)\u001b[0m\u001b[1;33m\u001b[0m\u001b[0m",
        "\u001b[0m\u001b[0;32m     87\u001b[0m \u001b[1;33m\u001b[0m\u001b[0m",
        "\u001b[0;32m     88\u001b[0m             \u001b[1;31m# Update warp parameters\u001b[0m\u001b[1;33m\u001b[0m\u001b[1;33m\u001b[0m\u001b[0m",
        "\u001b[1;31mAttributeError\u001b[0m: 'AlternatingForwardCompositional' object has no attribute '_calculate_delta_p'",
        "",
        "[1:apply]: ",
        "\u001b[1;31m---------------------------------------------------------------------------\u001b[0m",
        "\u001b[1;31mAttributeError\u001b[0m                            Traceback (most recent call last)\u001b[1;32m<string>\u001b[0m in \u001b[0;36m<module>\u001b[1;34m()\u001b[0m",
        "\u001b[1;32m<ipython-input-14-4dc9e7d852d4>\u001b[0m in \u001b[0;36mlk_parallel_align\u001b[1;34m(transform, image)\u001b[0m",
        "\u001b[1;32m/vol/atlas/homes/ja310/.virtualenvs/pybug/src/pybug/pybug/lucaskanade/appearance/base.pyc\u001b[0m in \u001b[0;36malign\u001b[1;34m(self, image, initial_transform, max_iters, **kwargs)\u001b[0m",
        "\u001b[0;32m     41\u001b[0m             \u001b[0mself\u001b[0m\u001b[1;33m.\u001b[0m\u001b[0mimage\u001b[0m \u001b[1;33m=\u001b[0m \u001b[0mimage\u001b[0m\u001b[1;33m\u001b[0m\u001b[0m",
        "\u001b[0;32m     42\u001b[0m             \u001b[1;31m# Align\u001b[0m\u001b[1;33m\u001b[0m\u001b[1;33m\u001b[0m\u001b[0m",
        "\u001b[1;32m---> 43\u001b[1;33m             \u001b[0moptimal_transform\u001b[0m \u001b[1;33m=\u001b[0m \u001b[0mself\u001b[0m\u001b[1;33m.\u001b[0m\u001b[0m_align\u001b[0m\u001b[1;33m(\u001b[0m\u001b[0mmax_iters_level\u001b[0m\u001b[1;33m*\u001b[0m\u001b[1;33m(\u001b[0m\u001b[0mi\u001b[0m\u001b[1;33m+\u001b[0m\u001b[1;36m1\u001b[0m\u001b[1;33m)\u001b[0m\u001b[1;33m,\u001b[0m \u001b[1;33m**\u001b[0m\u001b[0mkwargs\u001b[0m\u001b[1;33m)\u001b[0m\u001b[1;33m\u001b[0m\u001b[0m",
        "\u001b[0m\u001b[0;32m     44\u001b[0m \u001b[1;33m\u001b[0m\u001b[0m",
        "\u001b[0;32m     45\u001b[0m         \u001b[1;32mreturn\u001b[0m \u001b[0moptimal_transform\u001b[0m\u001b[1;33m\u001b[0m\u001b[0m",
        "\u001b[1;32m/vol/atlas/homes/ja310/.virtualenvs/pybug/src/pybug/pybug/lucaskanade/appearance/alternating.pyc\u001b[0m in \u001b[0;36m_align\u001b[1;34m(self, max_iters)\u001b[0m",
        "\u001b[0;32m     84\u001b[0m \u001b[1;33m\u001b[0m\u001b[0m",
        "\u001b[0;32m     85\u001b[0m             \u001b[1;31m# Compute gradient descent parameter updates\u001b[0m\u001b[1;33m\u001b[0m\u001b[1;33m\u001b[0m\u001b[0m",
        "\u001b[1;32m---> 86\u001b[1;33m             \u001b[0mdelta_p\u001b[0m \u001b[1;33m=\u001b[0m \u001b[0mnp\u001b[0m\u001b[1;33m.\u001b[0m\u001b[0mreal\u001b[0m\u001b[1;33m(\u001b[0m\u001b[0mself\u001b[0m\u001b[1;33m.\u001b[0m\u001b[0m_calculate_delta_p\u001b[0m\u001b[1;33m(\u001b[0m\u001b[0msd_delta_p\u001b[0m\u001b[1;33m)\u001b[0m\u001b[1;33m)\u001b[0m\u001b[1;33m\u001b[0m\u001b[0m",
        "\u001b[0m\u001b[0;32m     87\u001b[0m \u001b[1;33m\u001b[0m\u001b[0m",
        "\u001b[0;32m     88\u001b[0m             \u001b[1;31m# Update warp parameters\u001b[0m\u001b[1;33m\u001b[0m\u001b[1;33m\u001b[0m\u001b[0m",
        "\u001b[1;31mAttributeError\u001b[0m: 'AlternatingForwardCompositional' object has no attribute '_calculate_delta_p'",
        "",
        "[2:apply]: ",
        "\u001b[1;31m---------------------------------------------------------------------------\u001b[0m",
        "\u001b[1;31mAttributeError\u001b[0m                            Traceback (most recent call last)\u001b[1;32m<string>\u001b[0m in \u001b[0;36m<module>\u001b[1;34m()\u001b[0m",
        "\u001b[1;32m<ipython-input-14-4dc9e7d852d4>\u001b[0m in \u001b[0;36mlk_parallel_align\u001b[1;34m(transform, image)\u001b[0m",
        "\u001b[1;32m/vol/atlas/homes/ja310/.virtualenvs/pybug/src/pybug/pybug/lucaskanade/appearance/base.pyc\u001b[0m in \u001b[0;36malign\u001b[1;34m(self, image, initial_transform, max_iters, **kwargs)\u001b[0m",
        "\u001b[0;32m     41\u001b[0m             \u001b[0mself\u001b[0m\u001b[1;33m.\u001b[0m\u001b[0mimage\u001b[0m \u001b[1;33m=\u001b[0m \u001b[0mimage\u001b[0m\u001b[1;33m\u001b[0m\u001b[0m",
        "\u001b[0;32m     42\u001b[0m             \u001b[1;31m# Align\u001b[0m\u001b[1;33m\u001b[0m\u001b[1;33m\u001b[0m\u001b[0m",
        "\u001b[1;32m---> 43\u001b[1;33m             \u001b[0moptimal_transform\u001b[0m \u001b[1;33m=\u001b[0m \u001b[0mself\u001b[0m\u001b[1;33m.\u001b[0m\u001b[0m_align\u001b[0m\u001b[1;33m(\u001b[0m\u001b[0mmax_iters_level\u001b[0m\u001b[1;33m*\u001b[0m\u001b[1;33m(\u001b[0m\u001b[0mi\u001b[0m\u001b[1;33m+\u001b[0m\u001b[1;36m1\u001b[0m\u001b[1;33m)\u001b[0m\u001b[1;33m,\u001b[0m \u001b[1;33m**\u001b[0m\u001b[0mkwargs\u001b[0m\u001b[1;33m)\u001b[0m\u001b[1;33m\u001b[0m\u001b[0m",
        "\u001b[0m\u001b[0;32m     44\u001b[0m \u001b[1;33m\u001b[0m\u001b[0m",
        "\u001b[0;32m     45\u001b[0m         \u001b[1;32mreturn\u001b[0m \u001b[0moptimal_transform\u001b[0m\u001b[1;33m\u001b[0m\u001b[0m",
        "\u001b[1;32m/vol/atlas/homes/ja310/.virtualenvs/pybug/src/pybug/pybug/lucaskanade/appearance/alternating.pyc\u001b[0m in \u001b[0;36m_align\u001b[1;34m(self, max_iters)\u001b[0m",
        "\u001b[0;32m     84\u001b[0m \u001b[1;33m\u001b[0m\u001b[0m",
        "\u001b[0;32m     85\u001b[0m             \u001b[1;31m# Compute gradient descent parameter updates\u001b[0m\u001b[1;33m\u001b[0m\u001b[1;33m\u001b[0m\u001b[0m",
        "\u001b[1;32m---> 86\u001b[1;33m             \u001b[0mdelta_p\u001b[0m \u001b[1;33m=\u001b[0m \u001b[0mnp\u001b[0m\u001b[1;33m.\u001b[0m\u001b[0mreal\u001b[0m\u001b[1;33m(\u001b[0m\u001b[0mself\u001b[0m\u001b[1;33m.\u001b[0m\u001b[0m_calculate_delta_p\u001b[0m\u001b[1;33m(\u001b[0m\u001b[0msd_delta_p\u001b[0m\u001b[1;33m)\u001b[0m\u001b[1;33m)\u001b[0m\u001b[1;33m\u001b[0m\u001b[0m",
        "\u001b[0m\u001b[0;32m     87\u001b[0m \u001b[1;33m\u001b[0m\u001b[0m",
        "\u001b[0;32m     88\u001b[0m             \u001b[1;31m# Update warp parameters\u001b[0m\u001b[1;33m\u001b[0m\u001b[1;33m\u001b[0m\u001b[0m",
        "\u001b[1;31mAttributeError\u001b[0m: 'AlternatingForwardCompositional' object has no attribute '_calculate_delta_p'",
        "",
        "[3:apply]: ",
        "\u001b[1;31m---------------------------------------------------------------------------\u001b[0m",
        "\u001b[1;31mAttributeError\u001b[0m                            Traceback (most recent call last)\u001b[1;32m<string>\u001b[0m in \u001b[0;36m<module>\u001b[1;34m()\u001b[0m",
        "\u001b[1;32m<ipython-input-14-4dc9e7d852d4>\u001b[0m in \u001b[0;36mlk_parallel_align\u001b[1;34m(transform, image)\u001b[0m",
        "\u001b[1;32m/vol/atlas/homes/ja310/.virtualenvs/pybug/src/pybug/pybug/lucaskanade/appearance/base.pyc\u001b[0m in \u001b[0;36malign\u001b[1;34m(self, image, initial_transform, max_iters, **kwargs)\u001b[0m",
        "\u001b[0;32m     41\u001b[0m             \u001b[0mself\u001b[0m\u001b[1;33m.\u001b[0m\u001b[0mimage\u001b[0m \u001b[1;33m=\u001b[0m \u001b[0mimage\u001b[0m\u001b[1;33m\u001b[0m\u001b[0m",
        "\u001b[0;32m     42\u001b[0m             \u001b[1;31m# Align\u001b[0m\u001b[1;33m\u001b[0m\u001b[1;33m\u001b[0m\u001b[0m",
        "\u001b[1;32m---> 43\u001b[1;33m             \u001b[0moptimal_transform\u001b[0m \u001b[1;33m=\u001b[0m \u001b[0mself\u001b[0m\u001b[1;33m.\u001b[0m\u001b[0m_align\u001b[0m\u001b[1;33m(\u001b[0m\u001b[0mmax_iters_level\u001b[0m\u001b[1;33m*\u001b[0m\u001b[1;33m(\u001b[0m\u001b[0mi\u001b[0m\u001b[1;33m+\u001b[0m\u001b[1;36m1\u001b[0m\u001b[1;33m)\u001b[0m\u001b[1;33m,\u001b[0m \u001b[1;33m**\u001b[0m\u001b[0mkwargs\u001b[0m\u001b[1;33m)\u001b[0m\u001b[1;33m\u001b[0m\u001b[0m",
        "\u001b[0m\u001b[0;32m     44\u001b[0m \u001b[1;33m\u001b[0m\u001b[0m",
        "\u001b[0;32m     45\u001b[0m         \u001b[1;32mreturn\u001b[0m \u001b[0moptimal_transform\u001b[0m\u001b[1;33m\u001b[0m\u001b[0m",
        "\u001b[1;32m/vol/atlas/homes/ja310/.virtualenvs/pybug/src/pybug/pybug/lucaskanade/appearance/alternating.pyc\u001b[0m in \u001b[0;36m_align\u001b[1;34m(self, max_iters)\u001b[0m",
        "\u001b[0;32m     84\u001b[0m \u001b[1;33m\u001b[0m\u001b[0m",
        "\u001b[0;32m     85\u001b[0m             \u001b[1;31m# Compute gradient descent parameter updates\u001b[0m\u001b[1;33m\u001b[0m\u001b[1;33m\u001b[0m\u001b[0m",
        "\u001b[1;32m---> 86\u001b[1;33m             \u001b[0mdelta_p\u001b[0m \u001b[1;33m=\u001b[0m \u001b[0mnp\u001b[0m\u001b[1;33m.\u001b[0m\u001b[0mreal\u001b[0m\u001b[1;33m(\u001b[0m\u001b[0mself\u001b[0m\u001b[1;33m.\u001b[0m\u001b[0m_calculate_delta_p\u001b[0m\u001b[1;33m(\u001b[0m\u001b[0msd_delta_p\u001b[0m\u001b[1;33m)\u001b[0m\u001b[1;33m)\u001b[0m\u001b[1;33m\u001b[0m\u001b[0m",
        "\u001b[0m\u001b[0;32m     87\u001b[0m \u001b[1;33m\u001b[0m\u001b[0m",
        "\u001b[0;32m     88\u001b[0m             \u001b[1;31m# Update warp parameters\u001b[0m\u001b[1;33m\u001b[0m\u001b[1;33m\u001b[0m\u001b[0m",
        "\u001b[1;31mAttributeError\u001b[0m: 'AlternatingForwardCompositional' object has no attribute '_calculate_delta_p'",
        "",
        "... 2 more exceptions ..."
       ]
      }
     ],
     "prompt_number": 17
    },
    {
     "cell_type": "code",
     "collapsed": false,
     "input": [
      "answer = result.g"
     ],
     "language": "python",
     "metadata": {},
     "outputs": [
      {
       "ename": "CompositeError",
       "evalue": "one or more exceptions from call to method: lk_parallel_align\n[0:apply]: AttributeError: 'MaskedNDImage' object has no attribute 'target'\n[1:apply]: AttributeError: 'MaskedNDImage' object has no attribute 'target'\n[2:apply]: AttributeError: 'MaskedNDImage' object has no attribute 'target'\n[3:apply]: AttributeError: 'MaskedNDImage' object has no attribute 'target'\n.... 2 more exceptions ...",
       "output_type": "pyerr",
       "traceback": [
        "[0:apply]: ",
        "\u001b[1;31m---------------------------------------------------------------------------\u001b[0m",
        "\u001b[1;31mAttributeError\u001b[0m                            Traceback (most recent call last)\u001b[1;32m<string>\u001b[0m in \u001b[0;36m<module>\u001b[1;34m()\u001b[0m",
        "\u001b[1;32m<ipython-input-6-1d106c10761c>\u001b[0m in \u001b[0;36mlk_parallel_align\u001b[1;34m(transform, image)\u001b[0m",
        "\u001b[1;32m/vol/atlas/homes/ja310/.virtualenvs/pybug/src/pybug/pybug/lucaskanade/appearance/base.pyc\u001b[0m in \u001b[0;36malign\u001b[1;34m(self, image, initial_transform, max_iters, **kwargs)\u001b[0m",
        "\u001b[0;32m     33\u001b[0m         \u001b[1;32mfor\u001b[0m \u001b[0mi\u001b[0m \u001b[1;32min\u001b[0m \u001b[0mnp\u001b[0m\u001b[1;33m.\u001b[0m\u001b[0marange\u001b[0m\u001b[1;33m(\u001b[0m\u001b[0mself\u001b[0m\u001b[1;33m.\u001b[0m\u001b[0mn_levels\u001b[0m\u001b[1;33m)\u001b[0m\u001b[1;33m:\u001b[0m\u001b[1;33m\u001b[0m\u001b[0m",
        "\u001b[0;32m     34\u001b[0m             \u001b[0mself\u001b[0m\u001b[1;33m.\u001b[0m\u001b[0mtransform\u001b[0m \u001b[1;33m=\u001b[0m \u001b[0mself\u001b[0m\u001b[1;33m.\u001b[0m\u001b[0mtransform_list\u001b[0m\u001b[1;33m[\u001b[0m\u001b[0mi\u001b[0m\u001b[1;33m]\u001b[0m\u001b[1;33m\u001b[0m\u001b[0m",
        "\u001b[1;32m---> 35\u001b[1;33m             \u001b[0mself\u001b[0m\u001b[1;33m.\u001b[0m\u001b[0mtransform\u001b[0m\u001b[1;33m.\u001b[0m\u001b[0mtarget\u001b[0m \u001b[1;33m=\u001b[0m \u001b[0moptimal_transform\u001b[0m\u001b[1;33m.\u001b[0m\u001b[0mtarget\u001b[0m\u001b[1;33m\u001b[0m\u001b[0m",
        "\u001b[0m\u001b[0;32m     36\u001b[0m             \u001b[0mself\u001b[0m\u001b[1;33m.\u001b[0m\u001b[0mappearance_model\u001b[0m \u001b[1;33m=\u001b[0m \u001b[0mself\u001b[0m\u001b[1;33m.\u001b[0m\u001b[0mappearance_model_list\u001b[0m\u001b[1;33m[\u001b[0m\u001b[0mi\u001b[0m\u001b[1;33m]\u001b[0m\u001b[1;33m\u001b[0m\u001b[0m",
        "\u001b[0;32m     37\u001b[0m             \u001b[0mself\u001b[0m\u001b[1;33m.\u001b[0m\u001b[0mtemplate\u001b[0m \u001b[1;33m=\u001b[0m \u001b[0mself\u001b[0m\u001b[1;33m.\u001b[0m\u001b[0mappearance_model\u001b[0m\u001b[1;33m.\u001b[0m\u001b[0mmean\u001b[0m\u001b[1;33m\u001b[0m\u001b[0m",
        "\u001b[1;31mAttributeError\u001b[0m: 'MaskedNDImage' object has no attribute 'target'",
        "",
        "[1:apply]: ",
        "\u001b[1;31m---------------------------------------------------------------------------\u001b[0m",
        "\u001b[1;31mAttributeError\u001b[0m                            Traceback (most recent call last)\u001b[1;32m<string>\u001b[0m in \u001b[0;36m<module>\u001b[1;34m()\u001b[0m",
        "\u001b[1;32m<ipython-input-6-1d106c10761c>\u001b[0m in \u001b[0;36mlk_parallel_align\u001b[1;34m(transform, image)\u001b[0m",
        "\u001b[1;32m/vol/atlas/homes/ja310/.virtualenvs/pybug/src/pybug/pybug/lucaskanade/appearance/base.pyc\u001b[0m in \u001b[0;36malign\u001b[1;34m(self, image, initial_transform, max_iters, **kwargs)\u001b[0m",
        "\u001b[0;32m     33\u001b[0m         \u001b[1;32mfor\u001b[0m \u001b[0mi\u001b[0m \u001b[1;32min\u001b[0m \u001b[0mnp\u001b[0m\u001b[1;33m.\u001b[0m\u001b[0marange\u001b[0m\u001b[1;33m(\u001b[0m\u001b[0mself\u001b[0m\u001b[1;33m.\u001b[0m\u001b[0mn_levels\u001b[0m\u001b[1;33m)\u001b[0m\u001b[1;33m:\u001b[0m\u001b[1;33m\u001b[0m\u001b[0m",
        "\u001b[0;32m     34\u001b[0m             \u001b[0mself\u001b[0m\u001b[1;33m.\u001b[0m\u001b[0mtransform\u001b[0m \u001b[1;33m=\u001b[0m \u001b[0mself\u001b[0m\u001b[1;33m.\u001b[0m\u001b[0mtransform_list\u001b[0m\u001b[1;33m[\u001b[0m\u001b[0mi\u001b[0m\u001b[1;33m]\u001b[0m\u001b[1;33m\u001b[0m\u001b[0m",
        "\u001b[1;32m---> 35\u001b[1;33m             \u001b[0mself\u001b[0m\u001b[1;33m.\u001b[0m\u001b[0mtransform\u001b[0m\u001b[1;33m.\u001b[0m\u001b[0mtarget\u001b[0m \u001b[1;33m=\u001b[0m \u001b[0moptimal_transform\u001b[0m\u001b[1;33m.\u001b[0m\u001b[0mtarget\u001b[0m\u001b[1;33m\u001b[0m\u001b[0m",
        "\u001b[0m\u001b[0;32m     36\u001b[0m             \u001b[0mself\u001b[0m\u001b[1;33m.\u001b[0m\u001b[0mappearance_model\u001b[0m \u001b[1;33m=\u001b[0m \u001b[0mself\u001b[0m\u001b[1;33m.\u001b[0m\u001b[0mappearance_model_list\u001b[0m\u001b[1;33m[\u001b[0m\u001b[0mi\u001b[0m\u001b[1;33m]\u001b[0m\u001b[1;33m\u001b[0m\u001b[0m",
        "\u001b[0;32m     37\u001b[0m             \u001b[0mself\u001b[0m\u001b[1;33m.\u001b[0m\u001b[0mtemplate\u001b[0m \u001b[1;33m=\u001b[0m \u001b[0mself\u001b[0m\u001b[1;33m.\u001b[0m\u001b[0mappearance_model\u001b[0m\u001b[1;33m.\u001b[0m\u001b[0mmean\u001b[0m\u001b[1;33m\u001b[0m\u001b[0m",
        "\u001b[1;31mAttributeError\u001b[0m: 'MaskedNDImage' object has no attribute 'target'",
        "",
        "[2:apply]: ",
        "\u001b[1;31m---------------------------------------------------------------------------\u001b[0m",
        "\u001b[1;31mAttributeError\u001b[0m                            Traceback (most recent call last)\u001b[1;32m<string>\u001b[0m in \u001b[0;36m<module>\u001b[1;34m()\u001b[0m",
        "\u001b[1;32m<ipython-input-6-1d106c10761c>\u001b[0m in \u001b[0;36mlk_parallel_align\u001b[1;34m(transform, image)\u001b[0m",
        "\u001b[1;32m/vol/atlas/homes/ja310/.virtualenvs/pybug/src/pybug/pybug/lucaskanade/appearance/base.pyc\u001b[0m in \u001b[0;36malign\u001b[1;34m(self, image, initial_transform, max_iters, **kwargs)\u001b[0m",
        "\u001b[0;32m     33\u001b[0m         \u001b[1;32mfor\u001b[0m \u001b[0mi\u001b[0m \u001b[1;32min\u001b[0m \u001b[0mnp\u001b[0m\u001b[1;33m.\u001b[0m\u001b[0marange\u001b[0m\u001b[1;33m(\u001b[0m\u001b[0mself\u001b[0m\u001b[1;33m.\u001b[0m\u001b[0mn_levels\u001b[0m\u001b[1;33m)\u001b[0m\u001b[1;33m:\u001b[0m\u001b[1;33m\u001b[0m\u001b[0m",
        "\u001b[0;32m     34\u001b[0m             \u001b[0mself\u001b[0m\u001b[1;33m.\u001b[0m\u001b[0mtransform\u001b[0m \u001b[1;33m=\u001b[0m \u001b[0mself\u001b[0m\u001b[1;33m.\u001b[0m\u001b[0mtransform_list\u001b[0m\u001b[1;33m[\u001b[0m\u001b[0mi\u001b[0m\u001b[1;33m]\u001b[0m\u001b[1;33m\u001b[0m\u001b[0m",
        "\u001b[1;32m---> 35\u001b[1;33m             \u001b[0mself\u001b[0m\u001b[1;33m.\u001b[0m\u001b[0mtransform\u001b[0m\u001b[1;33m.\u001b[0m\u001b[0mtarget\u001b[0m \u001b[1;33m=\u001b[0m \u001b[0moptimal_transform\u001b[0m\u001b[1;33m.\u001b[0m\u001b[0mtarget\u001b[0m\u001b[1;33m\u001b[0m\u001b[0m",
        "\u001b[0m\u001b[0;32m     36\u001b[0m             \u001b[0mself\u001b[0m\u001b[1;33m.\u001b[0m\u001b[0mappearance_model\u001b[0m \u001b[1;33m=\u001b[0m \u001b[0mself\u001b[0m\u001b[1;33m.\u001b[0m\u001b[0mappearance_model_list\u001b[0m\u001b[1;33m[\u001b[0m\u001b[0mi\u001b[0m\u001b[1;33m]\u001b[0m\u001b[1;33m\u001b[0m\u001b[0m",
        "\u001b[0;32m     37\u001b[0m             \u001b[0mself\u001b[0m\u001b[1;33m.\u001b[0m\u001b[0mtemplate\u001b[0m \u001b[1;33m=\u001b[0m \u001b[0mself\u001b[0m\u001b[1;33m.\u001b[0m\u001b[0mappearance_model\u001b[0m\u001b[1;33m.\u001b[0m\u001b[0mmean\u001b[0m\u001b[1;33m\u001b[0m\u001b[0m",
        "\u001b[1;31mAttributeError\u001b[0m: 'MaskedNDImage' object has no attribute 'target'",
        "",
        "[3:apply]: ",
        "\u001b[1;31m---------------------------------------------------------------------------\u001b[0m",
        "\u001b[1;31mAttributeError\u001b[0m                            Traceback (most recent call last)\u001b[1;32m<string>\u001b[0m in \u001b[0;36m<module>\u001b[1;34m()\u001b[0m",
        "\u001b[1;32m<ipython-input-6-1d106c10761c>\u001b[0m in \u001b[0;36mlk_parallel_align\u001b[1;34m(transform, image)\u001b[0m",
        "\u001b[1;32m/vol/atlas/homes/ja310/.virtualenvs/pybug/src/pybug/pybug/lucaskanade/appearance/base.pyc\u001b[0m in \u001b[0;36malign\u001b[1;34m(self, image, initial_transform, max_iters, **kwargs)\u001b[0m",
        "\u001b[0;32m     33\u001b[0m         \u001b[1;32mfor\u001b[0m \u001b[0mi\u001b[0m \u001b[1;32min\u001b[0m \u001b[0mnp\u001b[0m\u001b[1;33m.\u001b[0m\u001b[0marange\u001b[0m\u001b[1;33m(\u001b[0m\u001b[0mself\u001b[0m\u001b[1;33m.\u001b[0m\u001b[0mn_levels\u001b[0m\u001b[1;33m)\u001b[0m\u001b[1;33m:\u001b[0m\u001b[1;33m\u001b[0m\u001b[0m",
        "\u001b[0;32m     34\u001b[0m             \u001b[0mself\u001b[0m\u001b[1;33m.\u001b[0m\u001b[0mtransform\u001b[0m \u001b[1;33m=\u001b[0m \u001b[0mself\u001b[0m\u001b[1;33m.\u001b[0m\u001b[0mtransform_list\u001b[0m\u001b[1;33m[\u001b[0m\u001b[0mi\u001b[0m\u001b[1;33m]\u001b[0m\u001b[1;33m\u001b[0m\u001b[0m",
        "\u001b[1;32m---> 35\u001b[1;33m             \u001b[0mself\u001b[0m\u001b[1;33m.\u001b[0m\u001b[0mtransform\u001b[0m\u001b[1;33m.\u001b[0m\u001b[0mtarget\u001b[0m \u001b[1;33m=\u001b[0m \u001b[0moptimal_transform\u001b[0m\u001b[1;33m.\u001b[0m\u001b[0mtarget\u001b[0m\u001b[1;33m\u001b[0m\u001b[0m",
        "\u001b[0m\u001b[0;32m     36\u001b[0m             \u001b[0mself\u001b[0m\u001b[1;33m.\u001b[0m\u001b[0mappearance_model\u001b[0m \u001b[1;33m=\u001b[0m \u001b[0mself\u001b[0m\u001b[1;33m.\u001b[0m\u001b[0mappearance_model_list\u001b[0m\u001b[1;33m[\u001b[0m\u001b[0mi\u001b[0m\u001b[1;33m]\u001b[0m\u001b[1;33m\u001b[0m\u001b[0m",
        "\u001b[0;32m     37\u001b[0m             \u001b[0mself\u001b[0m\u001b[1;33m.\u001b[0m\u001b[0mtemplate\u001b[0m \u001b[1;33m=\u001b[0m \u001b[0mself\u001b[0m\u001b[1;33m.\u001b[0m\u001b[0mappearance_model\u001b[0m\u001b[1;33m.\u001b[0m\u001b[0mmean\u001b[0m\u001b[1;33m\u001b[0m\u001b[0m",
        "\u001b[1;31mAttributeError\u001b[0m: 'MaskedNDImage' object has no attribute 'target'",
        "",
        "... 2 more exceptions ..."
       ]
      }
     ],
     "prompt_number": 13
    },
    {
     "cell_type": "code",
     "collapsed": false,
     "input": [
      "dview['ic_multi'] = fc_multi"
     ],
     "language": "python",
     "metadata": {},
     "outputs": [
      {
       "metadata": {},
       "output_type": "pyout",
       "prompt_number": 8,
       "text": [
        "[<pybug.lucaskanade.appearance.alternating.AlternatingForwardCompositional at 0x3582810>,\n",
        " <pybug.lucaskanade.appearance.alternating.AlternatingForwardCompositional at 0x1b6e3b10>,\n",
        " <pybug.lucaskanade.appearance.alternating.AlternatingForwardCompositional at 0x1ebd9b50>,\n",
        " <pybug.lucaskanade.appearance.alternating.AlternatingForwardCompositional at 0x850aa90>,\n",
        " <pybug.lucaskanade.appearance.alternating.AlternatingForwardCompositional at 0x76bcad0>,\n",
        " <pybug.lucaskanade.appearance.alternating.AlternatingForwardCompositional at 0x115f1d90>]"
       ]
      }
     ],
     "prompt_number": 8
    },
    {
     "cell_type": "code",
     "collapsed": false,
     "input": [
      "deepcopy(ic_single)"
     ],
     "language": "python",
     "metadata": {},
     "outputs": [
      {
       "metadata": {},
       "output_type": "pyout",
       "prompt_number": 20,
       "text": [
        "<pybug.lucaskanade.appearance.alternating.AlternatingInverseCompositional at 0x68d0dd0>"
       ]
      }
     ],
     "prompt_number": 20
    },
    {
     "cell_type": "code",
     "collapsed": false,
     "input": [],
     "language": "python",
     "metadata": {},
     "outputs": [],
     "prompt_number": 8
    },
    {
     "cell_type": "code",
     "collapsed": false,
     "input": [
      "a.get()"
     ],
     "language": "python",
     "metadata": {},
     "outputs": [
      {
       "ename": "CompositeError",
       "evalue": "one or more exceptions from call to method: lk_parallel_align\n[0:apply]: NameError: global name 'ic_multi' is not defined\n[1:apply]: NameError: global name 'ic_multi' is not defined\n[2:apply]: NameError: global name 'ic_multi' is not defined\n[3:apply]: NameError: global name 'ic_multi' is not defined\n.... 2 more exceptions ...",
       "output_type": "pyerr",
       "traceback": [
        "[0:apply]: ",
        "\u001b[1;31m---------------------------------------------------------------------------\u001b[0m",
        "\u001b[1;31mNameError\u001b[0m                                 Traceback (most recent call last)\u001b[1;32m<string>\u001b[0m in \u001b[0;36m<module>\u001b[1;34m()\u001b[0m",
        "\u001b[1;32m<ipython-input-7-1d106c10761c>\u001b[0m in \u001b[0;36mlk_parallel_align\u001b[1;34m(transform, image)\u001b[0m",
        "\u001b[1;31mNameError\u001b[0m: global name 'ic_multi' is not defined",
        "",
        "[1:apply]: ",
        "\u001b[1;31m---------------------------------------------------------------------------\u001b[0m",
        "\u001b[1;31mNameError\u001b[0m                                 Traceback (most recent call last)\u001b[1;32m<string>\u001b[0m in \u001b[0;36m<module>\u001b[1;34m()\u001b[0m",
        "\u001b[1;32m<ipython-input-7-1d106c10761c>\u001b[0m in \u001b[0;36mlk_parallel_align\u001b[1;34m(transform, image)\u001b[0m",
        "\u001b[1;31mNameError\u001b[0m: global name 'ic_multi' is not defined",
        "",
        "[2:apply]: ",
        "\u001b[1;31m---------------------------------------------------------------------------\u001b[0m",
        "\u001b[1;31mNameError\u001b[0m                                 Traceback (most recent call last)\u001b[1;32m<string>\u001b[0m in \u001b[0;36m<module>\u001b[1;34m()\u001b[0m",
        "\u001b[1;32m<ipython-input-7-1d106c10761c>\u001b[0m in \u001b[0;36mlk_parallel_align\u001b[1;34m(transform, image)\u001b[0m",
        "\u001b[1;31mNameError\u001b[0m: global name 'ic_multi' is not defined",
        "",
        "[3:apply]: ",
        "\u001b[1;31m---------------------------------------------------------------------------\u001b[0m",
        "\u001b[1;31mNameError\u001b[0m                                 Traceback (most recent call last)\u001b[1;32m<string>\u001b[0m in \u001b[0;36m<module>\u001b[1;34m()\u001b[0m",
        "\u001b[1;32m<ipython-input-7-1d106c10761c>\u001b[0m in \u001b[0;36mlk_parallel_align\u001b[1;34m(transform, image)\u001b[0m",
        "\u001b[1;31mNameError\u001b[0m: global name 'ic_multi' is not defined",
        "",
        "... 2 more exceptions ..."
       ]
      }
     ],
     "prompt_number": 9
    },
    {
     "cell_type": "code",
     "collapsed": false,
     "input": [
      "ic_multi.align(nd_images[0],ini_md_trans[0])"
     ],
     "language": "python",
     "metadata": {},
     "outputs": []
    },
    {
     "cell_type": "code",
     "collapsed": false,
     "input": [
      "def _pickle_method(method):\n",
      "    func_name = method.im_func.__name__\n",
      "    obj = method.im_self\n",
      "    cls = method.im_class\n",
      "    return _unpickle_method, (func_name, obj, cls)\n",
      "\n",
      "def _unpickle_method(func_name, obj, cls):\n",
      "    for cls in cls.mro():\n",
      "        try:\n",
      "            func = cls.__dict__[func_name]\n",
      "        except KeyError:\n",
      "            pass\n",
      "        else:\n",
      "            break\n",
      "    return func.__get__(obj, cls)\n",
      "\n",
      "import copy_reg\n",
      "import types\n",
      "copy_reg.pickle(types.MethodType, _pickle_method, _unpickle_method)"
     ],
     "language": "python",
     "metadata": {},
     "outputs": [],
     "prompt_number": 36
    },
    {
     "cell_type": "code",
     "collapsed": false,
     "input": [
      "a, b = _pickle_method(ic_multi.align)"
     ],
     "language": "python",
     "metadata": {},
     "outputs": [],
     "prompt_number": 23
    },
    {
     "cell_type": "code",
     "collapsed": false,
     "input": [
      "types.MethodType"
     ],
     "language": "python",
     "metadata": {},
     "outputs": [
      {
       "metadata": {},
       "output_type": "pyout",
       "prompt_number": 28,
       "text": [
        "instancemethod"
       ]
      }
     ],
     "prompt_number": 28
    },
    {
     "cell_type": "code",
     "collapsed": false,
     "input": [
      "b"
     ],
     "language": "python",
     "metadata": {},
     "outputs": [
      {
       "metadata": {},
       "output_type": "pyout",
       "prompt_number": 29,
       "text": [
        "('align',\n",
        " <pybug.lucaskanade.appearance.alternating.AlternatingInverseCompositional at 0xe0db810>,\n",
        " pybug.lucaskanade.appearance.alternating.AlternatingInverseCompositional)"
       ]
      }
     ],
     "prompt_number": 29
    },
    {
     "cell_type": "code",
     "collapsed": false,
     "input": [
      "b[2].mro()"
     ],
     "language": "python",
     "metadata": {},
     "outputs": [
      {
       "metadata": {},
       "output_type": "pyout",
       "prompt_number": 31,
       "text": [
        "[pybug.lucaskanade.appearance.alternating.AlternatingInverseCompositional,\n",
        " pybug.lucaskanade.appearance.base.AppearanceLucasKanade,\n",
        " pybug.lucaskanade.base.LucasKanade,\n",
        " object]"
       ]
      }
     ],
     "prompt_number": 31
    },
    {
     "cell_type": "code",
     "collapsed": false,
     "input": [],
     "language": "python",
     "metadata": {},
     "outputs": [
      {
       "ename": "IndexError",
       "evalue": "list index out of range",
       "output_type": "pyerr",
       "traceback": [
        "\u001b[1;31m---------------------------------------------------------------------------\u001b[0m\n\u001b[1;31mIndexError\u001b[0m                                Traceback (most recent call last)",
        "\u001b[1;32m<ipython-input-38-d139541a4d4b>\u001b[0m in \u001b[0;36m<module>\u001b[1;34m()\u001b[0m\n\u001b[1;32m----> 1\u001b[1;33m \u001b[0mcanned\u001b[0m \u001b[1;33m=\u001b[0m \u001b[0mpickle\u001b[0m\u001b[1;33m.\u001b[0m\u001b[0mloads\u001b[0m\u001b[1;33m(\u001b[0m\u001b[1;34m'lala'\u001b[0m\u001b[1;33m)\u001b[0m\u001b[1;33m\u001b[0m\u001b[0m\n\u001b[0m",
        "\u001b[1;32m/usr/lib/python2.7/pickle.pyc\u001b[0m in \u001b[0;36mloads\u001b[1;34m(str)\u001b[0m\n\u001b[0;32m   1380\u001b[0m \u001b[1;32mdef\u001b[0m \u001b[0mloads\u001b[0m\u001b[1;33m(\u001b[0m\u001b[0mstr\u001b[0m\u001b[1;33m)\u001b[0m\u001b[1;33m:\u001b[0m\u001b[1;33m\u001b[0m\u001b[0m\n\u001b[0;32m   1381\u001b[0m     \u001b[0mfile\u001b[0m \u001b[1;33m=\u001b[0m \u001b[0mStringIO\u001b[0m\u001b[1;33m(\u001b[0m\u001b[0mstr\u001b[0m\u001b[1;33m)\u001b[0m\u001b[1;33m\u001b[0m\u001b[0m\n\u001b[1;32m-> 1382\u001b[1;33m     \u001b[1;32mreturn\u001b[0m \u001b[0mUnpickler\u001b[0m\u001b[1;33m(\u001b[0m\u001b[0mfile\u001b[0m\u001b[1;33m)\u001b[0m\u001b[1;33m.\u001b[0m\u001b[0mload\u001b[0m\u001b[1;33m(\u001b[0m\u001b[1;33m)\u001b[0m\u001b[1;33m\u001b[0m\u001b[0m\n\u001b[0m\u001b[0;32m   1383\u001b[0m \u001b[1;33m\u001b[0m\u001b[0m\n\u001b[0;32m   1384\u001b[0m \u001b[1;31m# Doctest\u001b[0m\u001b[1;33m\u001b[0m\u001b[1;33m\u001b[0m\u001b[0m\n",
        "\u001b[1;32m/usr/lib/python2.7/pickle.pyc\u001b[0m in \u001b[0;36mload\u001b[1;34m(self)\u001b[0m\n\u001b[0;32m    856\u001b[0m             \u001b[1;32mwhile\u001b[0m \u001b[1;36m1\u001b[0m\u001b[1;33m:\u001b[0m\u001b[1;33m\u001b[0m\u001b[0m\n\u001b[0;32m    857\u001b[0m                 \u001b[0mkey\u001b[0m \u001b[1;33m=\u001b[0m \u001b[0mread\u001b[0m\u001b[1;33m(\u001b[0m\u001b[1;36m1\u001b[0m\u001b[1;33m)\u001b[0m\u001b[1;33m\u001b[0m\u001b[0m\n\u001b[1;32m--> 858\u001b[1;33m                 \u001b[0mdispatch\u001b[0m\u001b[1;33m[\u001b[0m\u001b[0mkey\u001b[0m\u001b[1;33m]\u001b[0m\u001b[1;33m(\u001b[0m\u001b[0mself\u001b[0m\u001b[1;33m)\u001b[0m\u001b[1;33m\u001b[0m\u001b[0m\n\u001b[0m\u001b[0;32m    859\u001b[0m         \u001b[1;32mexcept\u001b[0m \u001b[0m_Stop\u001b[0m\u001b[1;33m,\u001b[0m \u001b[0mstopinst\u001b[0m\u001b[1;33m:\u001b[0m\u001b[1;33m\u001b[0m\u001b[0m\n\u001b[0;32m    860\u001b[0m             \u001b[1;32mreturn\u001b[0m \u001b[0mstopinst\u001b[0m\u001b[1;33m.\u001b[0m\u001b[0mvalue\u001b[0m\u001b[1;33m\u001b[0m\u001b[0m\n",
        "\u001b[1;32m/usr/lib/python2.7/pickle.pyc\u001b[0m in \u001b[0;36mload_list\u001b[1;34m(self)\u001b[0m\n\u001b[0;32m   1021\u001b[0m \u001b[1;33m\u001b[0m\u001b[0m\n\u001b[0;32m   1022\u001b[0m     \u001b[1;32mdef\u001b[0m \u001b[0mload_list\u001b[0m\u001b[1;33m(\u001b[0m\u001b[0mself\u001b[0m\u001b[1;33m)\u001b[0m\u001b[1;33m:\u001b[0m\u001b[1;33m\u001b[0m\u001b[0m\n\u001b[1;32m-> 1023\u001b[1;33m         \u001b[0mk\u001b[0m \u001b[1;33m=\u001b[0m \u001b[0mself\u001b[0m\u001b[1;33m.\u001b[0m\u001b[0mmarker\u001b[0m\u001b[1;33m(\u001b[0m\u001b[1;33m)\u001b[0m\u001b[1;33m\u001b[0m\u001b[0m\n\u001b[0m\u001b[0;32m   1024\u001b[0m         \u001b[0mself\u001b[0m\u001b[1;33m.\u001b[0m\u001b[0mstack\u001b[0m\u001b[1;33m[\u001b[0m\u001b[0mk\u001b[0m\u001b[1;33m:\u001b[0m\u001b[1;33m]\u001b[0m \u001b[1;33m=\u001b[0m \u001b[1;33m[\u001b[0m\u001b[0mself\u001b[0m\u001b[1;33m.\u001b[0m\u001b[0mstack\u001b[0m\u001b[1;33m[\u001b[0m\u001b[0mk\u001b[0m\u001b[1;33m+\u001b[0m\u001b[1;36m1\u001b[0m\u001b[1;33m:\u001b[0m\u001b[1;33m]\u001b[0m\u001b[1;33m]\u001b[0m\u001b[1;33m\u001b[0m\u001b[0m\n\u001b[0;32m   1025\u001b[0m     \u001b[0mdispatch\u001b[0m\u001b[1;33m[\u001b[0m\u001b[0mLIST\u001b[0m\u001b[1;33m]\u001b[0m \u001b[1;33m=\u001b[0m \u001b[0mload_list\u001b[0m\u001b[1;33m\u001b[0m\u001b[0m\n",
        "\u001b[1;32m/usr/lib/python2.7/pickle.pyc\u001b[0m in \u001b[0;36mmarker\u001b[1;34m(self)\u001b[0m\n\u001b[0;32m    872\u001b[0m         \u001b[0mmark\u001b[0m \u001b[1;33m=\u001b[0m \u001b[0mself\u001b[0m\u001b[1;33m.\u001b[0m\u001b[0mmark\u001b[0m\u001b[1;33m\u001b[0m\u001b[0m\n\u001b[0;32m    873\u001b[0m         \u001b[0mk\u001b[0m \u001b[1;33m=\u001b[0m \u001b[0mlen\u001b[0m\u001b[1;33m(\u001b[0m\u001b[0mstack\u001b[0m\u001b[1;33m)\u001b[0m\u001b[1;33m-\u001b[0m\u001b[1;36m1\u001b[0m\u001b[1;33m\u001b[0m\u001b[0m\n\u001b[1;32m--> 874\u001b[1;33m         \u001b[1;32mwhile\u001b[0m \u001b[0mstack\u001b[0m\u001b[1;33m[\u001b[0m\u001b[0mk\u001b[0m\u001b[1;33m]\u001b[0m \u001b[1;32mis\u001b[0m \u001b[1;32mnot\u001b[0m \u001b[0mmark\u001b[0m\u001b[1;33m:\u001b[0m \u001b[0mk\u001b[0m \u001b[1;33m=\u001b[0m \u001b[0mk\u001b[0m\u001b[1;33m-\u001b[0m\u001b[1;36m1\u001b[0m\u001b[1;33m\u001b[0m\u001b[0m\n\u001b[0m\u001b[0;32m    875\u001b[0m         \u001b[1;32mreturn\u001b[0m \u001b[0mk\u001b[0m\u001b[1;33m\u001b[0m\u001b[0m\n\u001b[0;32m    876\u001b[0m \u001b[1;33m\u001b[0m\u001b[0m\n",
        "\u001b[1;31mIndexError\u001b[0m: list index out of range"
       ]
      }
     ],
     "prompt_number": 38
    },
    {
     "cell_type": "code",
     "collapsed": false,
     "input": [
      "from IPython import parallel\n",
      "\n",
      "def MyClass():\n",
      "    def my_method(x,y):\n",
      "        return x+y\n",
      "    \n",
      "my_object = MyClass()\n",
      "\n",
      "@parallel.require(MyClass)\n",
      "def evaluate(x, my_object):\n",
      "    return my_object.my_method(x)"
     ],
     "language": "python",
     "metadata": {},
     "outputs": [],
     "prompt_number": 45
    },
    {
     "cell_type": "code",
     "collapsed": false,
     "input": [
      "%px (evaluate, 2, 3, my_object)"
     ],
     "language": "python",
     "metadata": {},
     "outputs": [
      {
       "ename": "CompositeError",
       "evalue": "one or more exceptions from call to method: execute\n[0:execute]: NameError: name 'evaluate' is not defined\n[1:execute]: NameError: name 'evaluate' is not defined\n[2:execute]: NameError: name 'evaluate' is not defined\n[3:execute]: NameError: name 'evaluate' is not defined\n.... 2 more exceptions ...",
       "output_type": "pyerr",
       "traceback": [
        "[0:execute]: ",
        "\u001b[1;31m---------------------------------------------------------------------------\u001b[0m",
        "\u001b[1;31mNameError\u001b[0m                                 Traceback (most recent call last)\u001b[1;32m<ipython-input-1-48a033b49eba>\u001b[0m in \u001b[0;36m<module>\u001b[1;34m()\u001b[0m",
        "\u001b[1;32m----> 1\u001b[1;33m \u001b[1;33m(\u001b[0m\u001b[0mevaluate\u001b[0m\u001b[1;33m,\u001b[0m \u001b[1;36m2\u001b[0m\u001b[1;33m,\u001b[0m \u001b[1;36m3\u001b[0m\u001b[1;33m,\u001b[0m \u001b[0mmy_object\u001b[0m\u001b[1;33m)\u001b[0m\u001b[1;33m\u001b[0m\u001b[0m",
        "\u001b[0m\u001b[1;31mNameError\u001b[0m: name 'evaluate' is not defined",
        "",
        "[1:execute]: ",
        "\u001b[1;31m---------------------------------------------------------------------------\u001b[0m",
        "\u001b[1;31mNameError\u001b[0m                                 Traceback (most recent call last)\u001b[1;32m<ipython-input-1-48a033b49eba>\u001b[0m in \u001b[0;36m<module>\u001b[1;34m()\u001b[0m",
        "\u001b[1;32m----> 1\u001b[1;33m \u001b[1;33m(\u001b[0m\u001b[0mevaluate\u001b[0m\u001b[1;33m,\u001b[0m \u001b[1;36m2\u001b[0m\u001b[1;33m,\u001b[0m \u001b[1;36m3\u001b[0m\u001b[1;33m,\u001b[0m \u001b[0mmy_object\u001b[0m\u001b[1;33m)\u001b[0m\u001b[1;33m\u001b[0m\u001b[0m",
        "\u001b[0m\u001b[1;31mNameError\u001b[0m: name 'evaluate' is not defined",
        "",
        "[2:execute]: ",
        "\u001b[1;31m---------------------------------------------------------------------------\u001b[0m",
        "\u001b[1;31mNameError\u001b[0m                                 Traceback (most recent call last)\u001b[1;32m<ipython-input-1-48a033b49eba>\u001b[0m in \u001b[0;36m<module>\u001b[1;34m()\u001b[0m",
        "\u001b[1;32m----> 1\u001b[1;33m \u001b[1;33m(\u001b[0m\u001b[0mevaluate\u001b[0m\u001b[1;33m,\u001b[0m \u001b[1;36m2\u001b[0m\u001b[1;33m,\u001b[0m \u001b[1;36m3\u001b[0m\u001b[1;33m,\u001b[0m \u001b[0mmy_object\u001b[0m\u001b[1;33m)\u001b[0m\u001b[1;33m\u001b[0m\u001b[0m",
        "\u001b[0m\u001b[1;31mNameError\u001b[0m: name 'evaluate' is not defined",
        "",
        "[3:execute]: ",
        "\u001b[1;31m---------------------------------------------------------------------------\u001b[0m",
        "\u001b[1;31mNameError\u001b[0m                                 Traceback (most recent call last)\u001b[1;32m<ipython-input-1-48a033b49eba>\u001b[0m in \u001b[0;36m<module>\u001b[1;34m()\u001b[0m",
        "\u001b[1;32m----> 1\u001b[1;33m \u001b[1;33m(\u001b[0m\u001b[0mevaluate\u001b[0m\u001b[1;33m,\u001b[0m \u001b[1;36m2\u001b[0m\u001b[1;33m,\u001b[0m \u001b[1;36m3\u001b[0m\u001b[1;33m,\u001b[0m \u001b[0mmy_object\u001b[0m\u001b[1;33m)\u001b[0m\u001b[1;33m\u001b[0m\u001b[0m",
        "\u001b[0m\u001b[1;31mNameError\u001b[0m: name 'evaluate' is not defined",
        "",
        "... 2 more exceptions ..."
       ]
      }
     ],
     "prompt_number": 48
    },
    {
     "cell_type": "code",
     "collapsed": false,
     "input": [],
     "language": "python",
     "metadata": {},
     "outputs": []
    }
   ],
   "metadata": {}
  }
 ]
}