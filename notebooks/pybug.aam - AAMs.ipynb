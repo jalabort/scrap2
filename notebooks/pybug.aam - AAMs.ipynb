{
 "metadata": {
  "name": ""
 },
 "nbformat": 3,
 "nbformat_minor": 0,
 "worksheets": [
  {
   "cells": [
    {
     "cell_type": "heading",
     "level": 1,
     "metadata": {},
     "source": [
      "Active Appearance Model (AAMs)"
     ]
    },
    {
     "cell_type": "heading",
     "level": 2,
     "metadata": {},
     "source": [
      "Introduction"
     ]
    },
    {
     "cell_type": "markdown",
     "metadata": {},
     "source": [
      "Needs to be edit:\n",
      "\n",
      "- General explanation about AAMs\n",
      "- Summarize what can we expect from the `pybug.aam` package"
     ]
    },
    {
     "cell_type": "heading",
     "level": 2,
     "metadata": {},
     "source": [
      "Build a simple AAM"
     ]
    },
    {
     "cell_type": "markdown",
     "metadata": {},
     "source": [
      "We start by loading the set of landmarked image that we will be use to build the AAM; in this case, the LFPW training set. Note that the images are rescaled, in order to save valuable valuable memory space, and converted to grayscale."
     ]
    },
    {
     "cell_type": "code",
     "collapsed": false,
     "input": [
      "import pybug.io as pio\n",
      "from pybug.landmark import labeller, ibug_68_points, ibug_68_trimesh\n",
      "\n",
      "images = []\n",
      "# load landmarked imarges\n",
      "for i in pio.import_images('/vol/atlas/databases/lfpw/trainset/*.png',\n",
      "                     max_images=811):\n",
      "    i.crop_to_landmarks_proportion(0.2)\n",
      "    if i.n_channels == 3:\n",
      "        images.append(i.as_greyscale(mode='luminosity'))\n",
      "    else:\n",
      "        images.append(i)"
     ],
     "language": "python",
     "metadata": {},
     "outputs": []
    },
    {
     "cell_type": "code",
     "collapsed": false,
     "input": [
      "%matplotlib inline\n",
      "#visualize the first image\n",
      "images[0].landmarks['PTS'].view()"
     ],
     "language": "python",
     "metadata": {},
     "outputs": []
    },
    {
     "cell_type": "markdown",
     "metadata": {},
     "source": [
      "Next we will use the `aambuilder` function to build an AAM using the previous images. Most of the time, in order to do that we will need to define a dictionary whose fields specify the type of AAM that will be built. In this first example, there is no real need to explicitely define the entire dictionary, since we will be using the a fairly standard setting, however, for the sake of clarity we will define such dictionary explicitely stating all possible options."
     ]
    },
    {
     "cell_type": "code",
     "collapsed": false,
     "input": [
      "from pybug.aam.base import aam_builder\n",
      "from pybug.transform.piecewiseaffine import PiecewiseAffineTransform\n",
      "\n",
      "# set options. Most options are set to their default \n",
      "# values. Obviously, it is in not required to set all \n",
      "# the options to their default values but this is \n",
      "# done here in favour of clarity\n",
      "build_options = {'group': 'PTS', \n",
      "                 'label': 'all',\n",
      "                 'interpolator': 'scipy',\n",
      "                 'reference_shape': None,\n",
      "                 'scale': 1,\n",
      "                 'boundary': 3,\n",
      "                 'transform_cls': PiecewiseAffineTransform,\n",
      "                 'trilist': None,\n",
      "                 'patch_size': None,\n",
      "                 'n_levels': 1, \n",
      "                 'downscale': 2,\n",
      "                 'scaled_reference_frames': False,\n",
      "                 'features': None,\n",
      "                 'max_shape_components': 25,\n",
      "                 'max_appearance_components': 250}\n",
      "# build aam\n",
      "aam = aam_builder(images, **build_options)"
     ],
     "language": "python",
     "metadata": {},
     "outputs": []
    },
    {
     "cell_type": "markdown",
     "metadata": {},
     "source": [
      "The returned AAM object allows us to, for example, generate random AAM instances. Note that we can also specify particular shape and appearance parameters values from which to generate the instance. \n",
      "\n",
      "Notes: \n",
      "\n",
      "- In the final verison of this PR one should be able to also print the AAM object."
     ]
    },
    {
     "cell_type": "code",
     "collapsed": false,
     "input": [
      "import numpy as np\n",
      "# For some currently unknown reason sometimes \n",
      "# the components of the shape model are complex\n",
      "# (although the imaginary part is 0...). Until \n",
      "# this looked up and understood, it is safer to \n",
      "# always manually convert them to be real. \n",
      "# This issue should be solved before the PR \n",
      "# goes through.  \n",
      "aam.shape_model_pyramid[0]._components = np.real(aam.shape_model_pyramid[0]._components)"
     ],
     "language": "python",
     "metadata": {},
     "outputs": []
    },
    {
     "cell_type": "code",
     "collapsed": false,
     "input": [
      "%matplotlib inline\n",
      "# random instance\n",
      "aam.instance().view() \n",
      "# handpicked intance\n",
      "aam.instance(shape_weights=[1,2,3], \n",
      "             appearance_weights=[1,2,3,4,5]).view_new()"
     ],
     "language": "python",
     "metadata": {},
     "outputs": []
    },
    {
     "cell_type": "markdown",
     "metadata": {},
     "source": [
      "As with any other python object we can also save the AAM for later use using `pickle`."
     ]
    },
    {
     "cell_type": "code",
     "collapsed": false,
     "input": [
      "import pickle\n",
      "\n",
      "# set path\n",
      "path =  '/data/PhD/Models/'\n",
      "# set name\n",
      "name = 'aam_' + 'lfpw_' + 'default'\n",
      "\n",
      "# save aam\n",
      "pickle.dump({'aam': aam}, open(path + name, 'wb'))"
     ],
     "language": "python",
     "metadata": {},
     "outputs": []
    },
    {
     "cell_type": "markdown",
     "metadata": {},
     "source": [
      "And load it back."
     ]
    },
    {
     "cell_type": "code",
     "collapsed": false,
     "input": [
      "import pickle\n",
      "\n",
      "# set path\n",
      "path =  '/data/PhD/Models/'\n",
      "# set name\n",
      "name = 'aam_' + 'lfpw_' + 'default'\n",
      "\n",
      "# load aam\n",
      "obj = pickle.load(open(path + name, \"rb\"))\n",
      "aam = obj['aam']"
     ],
     "language": "python",
     "metadata": {},
     "outputs": []
    },
    {
     "cell_type": "heading",
     "level": 2,
     "metadata": {},
     "source": [
      "Fit a simple AAM "
     ]
    },
    {
     "cell_type": "markdown",
     "metadata": {},
     "source": [
      "More importantly, we can now fit the AAM object to a novel image using all the methods in the `pybug.lucaskanade` package. We will start by loading the novel image (i.e. and image that was not used for building the AAM), for example, the BreakingBad image in the PyBug's data folder. Note that the current implementation requires the image to be greyscale (because the AAM was built using greayscale images) in order to be fitted. Finally, we also crop the BreakindBad image to make the landmarks easily visible to the user. "
     ]
    },
    {
     "cell_type": "code",
     "collapsed": false,
     "input": [
      "breakingbad = pio.import_builtin_asset('breakingbad.jpg')\n",
      "breakingbad = breakingbad.as_greyscale(mode='luminosity')"
     ],
     "language": "python",
     "metadata": {},
     "outputs": []
    },
    {
     "cell_type": "code",
     "collapsed": false,
     "input": [
      "%matplotlib inline\n",
      "breakingbad.landmarks['PTS'].view()"
     ],
     "language": "python",
     "metadata": {},
     "outputs": []
    },
    {
     "cell_type": "code",
     "collapsed": false,
     "input": [
      "%matplotlib inline\n",
      "breakingbad.crop_to_landmarks_proportion(0.2, group='PTS')\n",
      "breakingbad.landmarks['PTS'].view()"
     ],
     "language": "python",
     "metadata": {},
     "outputs": []
    },
    {
     "cell_type": "markdown",
     "metadata": {},
     "source": [
      "Next, we will need to initialize the AAM Lucas-Kanade fitting procedure. We can do this using the method `initialize_lk`. This method will allow us to set different options regarding the fitting procedure, from the specific algorithm to be used to the number of components that will be optimize. Although in this example we will only use the default fitting setting, for the sake of clarity, we will define an explicit dictionary containing all the options."
     ]
    },
    {
     "cell_type": "code",
     "collapsed": false,
     "input": [
      "from pybug.lucaskanade.appearance import AlternatingInverseCompositional\n",
      "from pybug.lucaskanade.residual import LSIntensity\n",
      "from pybug.transform.modeldriven import OrthoMDTransform\n",
      "from pybug.transform.affine import SimilarityTransform\n",
      "\n",
      "# set fitting options. As before we favour \n",
      "# clarity by explicitely stating all possible\n",
      "# options\n",
      "fitting_setting_options = \\\n",
      "    {'lk_algorithm': AlternatingInverseCompositional,\n",
      "     'residual': (LSIntensity,),\n",
      "     'transform_cls': (OrthoMDTransform, SimilarityTransform),\n",
      "     'n_shape':[3, 6, 12], \n",
      "     'n_appearance':[100, 100, 100]}\n",
      "\n",
      "# initialize Lucas-Kanade aam fitting\n",
      "aam.initialize_lk(**fitting_setting_options)"
     ],
     "language": "python",
     "metadata": {},
     "outputs": []
    },
    {
     "cell_type": "markdown",
     "metadata": {},
     "source": [
      "We can now attempt to fit the greayscale version of the BreakingBad image using the method `lk_fit_landmarked_image` in the AAM object. Again, in order to favor clarity, an explicit dictionary will be used to set this method's options (do not worry, there will not be more explicit dictionaries)."
     ]
    },
    {
     "cell_type": "code",
     "collapsed": false,
     "input": [
      "fitting_options = {'group': 'PTS',\n",
      "                   'label': 'all',\n",
      "                   'runs': 3, \n",
      "                   'noise_std': 0.01,\n",
      "                   'max_iters': 60,\n",
      "                   'rotation': False,\n",
      "                   'verbose': True, \n",
      "                   'view': True}\n",
      "\n",
      "# fit test images\n",
      "fitted_transforms = aam.lk_fit_landmarked_image(\n",
      "    breakingbad, **fitting_options)"
     ],
     "language": "python",
     "metadata": {},
     "outputs": []
    },
    {
     "cell_type": "markdown",
     "metadata": {},
     "source": [
      "Not surprisingly the alignment did not quite work. Do not worry! This was just the most basic AAM we could build ;-)"
     ]
    },
    {
     "cell_type": "heading",
     "level": 2,
     "metadata": {},
     "source": [
      "Building more powerful AAMs for Facial Alignment"
     ]
    },
    {
     "cell_type": "markdown",
     "metadata": {},
     "source": [
      "The `ammbuilder` function allows us to automatically build many different types of AAMs by simply by specifying the right options. \n",
      "\n",
      "For example, using the same LFPW training data and fitting options as before we can build and fit:\n",
      "\n",
      "- AAMs using TPS warps:"
     ]
    },
    {
     "cell_type": "code",
     "collapsed": false,
     "input": [
      "# delete previous aam in order to save \n",
      "# valuable memory space\n",
      "del aam"
     ],
     "language": "python",
     "metadata": {},
     "outputs": []
    },
    {
     "cell_type": "code",
     "collapsed": false,
     "input": [
      "from pybug.transform.tps import TPS\n",
      "\n",
      "# set options\n",
      "build_options = {'group': 'PTS', \n",
      "                 'transform_cls': TPS,\n",
      "                 'n_levels': 1, \n",
      "                 'max_shape_components': 25,\n",
      "                 'max_appearance_components':250}\n",
      "# build aam\n",
      "aam = aam_builder(images, **build_options)"
     ],
     "language": "python",
     "metadata": {},
     "outputs": []
    },
    {
     "cell_type": "code",
     "collapsed": false,
     "input": [
      "aam.shape_model_pyramid[0]._components = np.real(aam.shape_model_pyramid[0]._components)\n",
      "\n",
      "# random instance\n",
      "aam.instance().view() "
     ],
     "language": "python",
     "metadata": {},
     "outputs": []
    },
    {
     "cell_type": "code",
     "collapsed": false,
     "input": [
      "# initialize Lucas-Kanade aam fitting\n",
      "aam.initialize_lk(**fitting_setting_options)"
     ],
     "language": "python",
     "metadata": {},
     "outputs": []
    },
    {
     "cell_type": "code",
     "collapsed": false,
     "input": [
      "# fit test images\n",
      "fitted_transforms = aam.lk_fit_landmarked_image(\n",
      "    breakingbad, **fitting_options)"
     ],
     "language": "python",
     "metadata": {},
     "outputs": []
    },
    {
     "cell_type": "markdown",
     "metadata": {},
     "source": [
      "- Multi-resolution AAMs with constant reference frames:"
     ]
    },
    {
     "cell_type": "code",
     "collapsed": false,
     "input": [
      "# delete previous aam\n",
      "del aam"
     ],
     "language": "python",
     "metadata": {},
     "outputs": []
    },
    {
     "cell_type": "code",
     "collapsed": false,
     "input": [
      "from pybug.transform.tps import TPS\n",
      "\n",
      "# set options\n",
      "build_options = {'group': 'PTS',  \n",
      "                 'n_levels': 3,\n",
      "                 'max_shape_components': 25,\n",
      "                 'max_appearance_components': 250}\n",
      "# build aam\n",
      "aam = aam_builder(images, **build_options)"
     ],
     "language": "python",
     "metadata": {},
     "outputs": []
    },
    {
     "cell_type": "code",
     "collapsed": false,
     "input": [
      "aam.shape_model_pyramid[0]._components = np.real(aam.shape_model_pyramid[0]._components)\n",
      "aam.shape_model_pyramid[1]._components = np.real(aam.shape_model_pyramid[1]._components)\n",
      "aam.shape_model_pyramid[2]._components = np.real(aam.shape_model_pyramid[2]._components)\n",
      "\n",
      "# low resolution level\n",
      "subplot(1,3,1)\n",
      "aam.instance(level=0).view() \n",
      "# middle resolution level\n",
      "subplot(1,3,2)\n",
      "aam.instance(level=1).view()\n",
      "# highest resolution level\n",
      "subplot(1,3,3)\n",
      "aam.instance().view()"
     ],
     "language": "python",
     "metadata": {},
     "outputs": []
    },
    {
     "cell_type": "code",
     "collapsed": false,
     "input": [
      "# initialize Lucas-Kanade aam fitting\n",
      "aam.initialize_lk(**fitting_setting_options) "
     ],
     "language": "python",
     "metadata": {},
     "outputs": []
    },
    {
     "cell_type": "code",
     "collapsed": false,
     "input": [
      "# set options\n",
      "fitting_options = {'group': 'PTS',\n",
      "                   'runs': 3, \n",
      "                   'noise_std': 0.0,\n",
      "                   'view': True}\n",
      "\n",
      "# fit test images\n",
      "fitted_transforms = aam.lk_fit_landmarked_image(\n",
      "    breakingbad, **fitting_options)"
     ],
     "language": "python",
     "metadata": {},
     "outputs": []
    },
    {
     "cell_type": "markdown",
     "metadata": {},
     "source": [
      "- Multi-resolution AAMs with scaled reference frames:"
     ]
    },
    {
     "cell_type": "code",
     "collapsed": false,
     "input": [
      "# delete previous aam\n",
      "del aam"
     ],
     "language": "python",
     "metadata": {},
     "outputs": []
    },
    {
     "cell_type": "code",
     "collapsed": false,
     "input": [
      "from pybug.transform.tps import TPS\n",
      "\n",
      "# set options\n",
      "build_options = {'group': 'PTS',  \n",
      "                 'n_levels': 3,\n",
      "                 'scaled_reference_frames': True,\n",
      "                 'max_shape_components': 25,\n",
      "                 'max_appearance_components': 250}\n",
      "# build aam\n",
      "aam = aam_builder(images, **build_options)"
     ],
     "language": "python",
     "metadata": {},
     "outputs": []
    },
    {
     "cell_type": "code",
     "collapsed": false,
     "input": [
      "aam.shape_model_pyramid[0]._components = np.real(aam.shape_model_pyramid[0]._components)\n",
      "aam.shape_model_pyramid[1]._components = np.real(aam.shape_model_pyramid[1]._components)\n",
      "aam.shape_model_pyramid[2]._components = np.real(aam.shape_model_pyramid[2]._components)\n",
      "\n",
      "# low resolution level\n",
      "subplot(1,3,1)\n",
      "aam.instance(level=0).view() \n",
      "# middle resolution level\n",
      "subplot(1,3,2)\n",
      "aam.instance(level=1).view()\n",
      "# highest resolution level\n",
      "subplot(1,3,3)\n",
      "aam.instance().view()"
     ],
     "language": "python",
     "metadata": {},
     "outputs": []
    },
    {
     "cell_type": "code",
     "collapsed": false,
     "input": [
      "# initialize Lucas-Kanade aam fitting\n",
      "aam.initialize_lk(**fitting_setting_options) "
     ],
     "language": "python",
     "metadata": {},
     "outputs": []
    },
    {
     "cell_type": "code",
     "collapsed": false,
     "input": [
      "# fit test images\n",
      "fitted_transforms = aam.lk_fit_landmarked_image(\n",
      "    breakingbad, **fitting_options)"
     ],
     "language": "python",
     "metadata": {},
     "outputs": []
    },
    {
     "cell_type": "markdown",
     "metadata": {},
     "source": [
      "- Multi-resolution Patch-based AAMs with scaled reference frames:"
     ]
    },
    {
     "cell_type": "code",
     "collapsed": false,
     "input": [
      "# delete previous aam\n",
      "del aam"
     ],
     "language": "python",
     "metadata": {},
     "outputs": []
    },
    {
     "cell_type": "code",
     "collapsed": false,
     "input": [
      "from pybug.transform.tps import TPS\n",
      "\n",
      "# delete previous aam in order to save \n",
      "# valuable memory space\n",
      "%del aam\n",
      "\n",
      "# set options\n",
      "build_options = {'group': 'PTS', \n",
      "                 'patch_size': (24, 24),\n",
      "                 'n_levels': 2,\n",
      "                 'max_shape_components': 25,\n",
      "                 'max_appearance_components': 250}\n",
      "# build aam\n",
      "aam = aam_builder(images, **build_options)"
     ],
     "language": "python",
     "metadata": {},
     "outputs": []
    },
    {
     "cell_type": "code",
     "collapsed": false,
     "input": [
      "aam.shape_model_pyramid[0]._components = np.real(aam.shape_model_pyramid[0]._components)\n",
      "aam.shape_model_pyramid[1]._components = np.real(aam.shape_model_pyramid[1]._components)\n",
      "aam.shape_model_pyramid[2]._components = np.real(aam.shape_model_pyramid[2]._components)\n",
      "\n",
      "# low resolution level\n",
      "subplot(1,3,1)\n",
      "aam.instance(level=0).view() \n",
      "# middle resolution level\n",
      "subplot(1,3,2)\n",
      "aam.instance(level=1).view()\n",
      "# highest resolution level\n",
      "subplot(1,3,3)\n",
      "aam.instance().view()"
     ],
     "language": "python",
     "metadata": {},
     "outputs": []
    },
    {
     "cell_type": "code",
     "collapsed": false,
     "input": [
      "# initialize Lucas-Kanade aam fitting\n",
      "aam.initialize_lk(**fitting_setting_options) "
     ],
     "language": "python",
     "metadata": {},
     "outputs": []
    },
    {
     "cell_type": "code",
     "collapsed": false,
     "input": [
      "# fit test images\n",
      "fitted_transforms = aam.lk_fit_landmarked_image(\n",
      "    breakingbad, **fitting_options)"
     ],
     "language": "python",
     "metadata": {},
     "outputs": []
    },
    {
     "cell_type": "code",
     "collapsed": false,
     "input": [
      "%load_ext autoreload\n",
      "%autoreload 2"
     ],
     "language": "python",
     "metadata": {},
     "outputs": []
    }
   ],
   "metadata": {}
  }
 ]
}