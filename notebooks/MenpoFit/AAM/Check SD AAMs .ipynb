{
 "cells": [
  {
   "cell_type": "code",
   "execution_count": null,
   "metadata": {
    "collapsed": false
   },
   "outputs": [],
   "source": [
    "%matplotlib inline\n",
    "%pylab inline\n",
    "\n",
    "import menpo.io as mio\n",
    "from menpo.feature import fast_dsift, no_op, dsift, sparse_hog\n",
    "from menpo.landmark import labeller, ibug_face_66\n",
    "from menpo.visualize import visualize_images\n",
    "\n",
    "from menpofit.aam import (\n",
    "    AAMBuilder, PatchAAMBuilder, LinearAAMBuilder, LinearPatchAAMBuilder, PartsAAMBuilder,\n",
    "    SupervisedDescentAAMFitter,\n",
    "    ProjectOutNewton, ProjectOutGaussNewton)\n",
    "\n",
    "from menpofit.visualize import visualize_aam, visualize_fitting_result"
   ]
  },
  {
   "cell_type": "markdown",
   "metadata": {},
   "source": [
    "## Load training data"
   ]
  },
  {
   "cell_type": "code",
   "execution_count": null,
   "metadata": {
    "collapsed": false
   },
   "outputs": [],
   "source": [
    "training_images = []\n",
    "for i in mio.import_images('/vol/atlas/databases/lfpw/trainset/',  \n",
    "                           verbose=True, max_images=None):\n",
    "    print i\n",
    "    i.rescale_landmarks_to_diagonal_range(200)\n",
    "    i = i.crop_to_landmarks_proportion(0.5)\n",
    "    labeller(i, 'PTS', ibug_face_66)\n",
    "    if i.n_channels == 3:\n",
    "        i = i.as_greyscale(mode='average')\n",
    "    training_images.append(i)"
   ]
  },
  {
   "cell_type": "code",
   "execution_count": null,
   "metadata": {
    "collapsed": false
   },
   "outputs": [],
   "source": [
    "visualize_images(training_images)"
   ]
  },
  {
   "cell_type": "markdown",
   "metadata": {},
   "source": [
    "## Load test data"
   ]
  },
  {
   "cell_type": "code",
   "execution_count": null,
   "metadata": {
    "collapsed": false
   },
   "outputs": [],
   "source": [
    "test_images = []\n",
    "for i in mio.import_images('/vol/atlas/databases/lfpw/testset/', \n",
    "                           verbose=True, max_images=None):    \n",
    "    i.rescale_landmarks_to_diagonal_range(200)\n",
    "    i.crop_to_landmarks_proportion_inplace(0.5)\n",
    "    labeller(i, 'PTS', ibug_face_66)\n",
    "    if i.n_channels == 3:\n",
    "        i = i.as_greyscale(mode='average')\n",
    "    test_images.append(i)"
   ]
  },
  {
   "cell_type": "code",
   "execution_count": null,
   "metadata": {
    "collapsed": false
   },
   "outputs": [],
   "source": [
    "visualize_images(test_images)"
   ]
  },
  {
   "cell_type": "markdown",
   "metadata": {},
   "source": [
    "## Build Active Appearance Models"
   ]
  },
  {
   "cell_type": "code",
   "execution_count": null,
   "metadata": {
    "collapsed": true
   },
   "outputs": [],
   "source": [
    "features = fast_dsift\n",
    "diagonal = 200\n",
    "scales = (1, .5)\n",
    "scale_shapes = False\n",
    "scale_features = True\n",
    "max_shape_components= 25\n",
    "max_appearance_components = None\n",
    "\n",
    "patch_shape = (17, 17)\n",
    "\n",
    "normalize_parts = no_op"
   ]
  },
  {
   "cell_type": "markdown",
   "metadata": {},
   "source": [
    "#### AAM"
   ]
  },
  {
   "cell_type": "code",
   "execution_count": null,
   "metadata": {
    "collapsed": false
   },
   "outputs": [],
   "source": [
    "# aam_builder = AAMBuilder(\n",
    "#     features=features,\n",
    "#     diagonal=diagonal, \n",
    "#     scales=scales, \n",
    "#     scale_shapes=scale_shapes,\n",
    "#     scale_features=scale_features,\n",
    "#     max_shape_components=max_shape_components,\n",
    "#     max_appearance_components=max_appearance_components)\n",
    "\n",
    "# aam = aam_builder.build(\n",
    "#     training_images, \n",
    "#     group='ibug_face_66', \n",
    "#     verbose=True)"
   ]
  },
  {
   "cell_type": "markdown",
   "metadata": {},
   "source": [
    "#### Patch based AAM"
   ]
  },
  {
   "cell_type": "code",
   "execution_count": null,
   "metadata": {
    "collapsed": false
   },
   "outputs": [],
   "source": [
    "# patch_aam_builder = PatchAAMBuilder(\n",
    "#     patch_shape=patch_shape,\n",
    "#     features=features,\n",
    "#     diagonal=diagonal, \n",
    "#     scales=scales, \n",
    "#     scale_shapes=scale_shapes,\n",
    "#     scale_features=scale_features,\n",
    "#     max_shape_components=max_shape_components,\n",
    "#     max_appearance_components=max_appearance_components)\n",
    "\n",
    "# patch_aam = patch_aam_builder.build(\n",
    "#     training_images, \n",
    "#     group='ibug_face_66', \n",
    "#     verbose=True)"
   ]
  },
  {
   "cell_type": "markdown",
   "metadata": {},
   "source": [
    "#### Linear AAM"
   ]
  },
  {
   "cell_type": "code",
   "execution_count": null,
   "metadata": {
    "collapsed": false
   },
   "outputs": [],
   "source": [
    "# linear_aam_builder = LinearAAMBuilder(\n",
    "#     features=features,\n",
    "#     diagonal=diagonal, \n",
    "#     scales=scales, \n",
    "#     scale_shapes=scale_shapes,\n",
    "#     scale_features=scale_features,\n",
    "#     max_shape_components=max_shape_components,\n",
    "#     max_appearance_components=max_appearance_components)\n",
    "\n",
    "# linear_aam = linear_aam_builder.build(\n",
    "#     training_images, \n",
    "#     group='ibug_face_66', \n",
    "#     verbose=True)"
   ]
  },
  {
   "cell_type": "markdown",
   "metadata": {},
   "source": [
    "#### Linear Patch based AAM"
   ]
  },
  {
   "cell_type": "code",
   "execution_count": null,
   "metadata": {
    "collapsed": false
   },
   "outputs": [],
   "source": [
    "# linear_patch_aam_builder = LinearPatchAAMBuilder(\n",
    "#     patch_shape=patch_shape,\n",
    "#     features=features,\n",
    "#     diagonal=diagonal, \n",
    "#     scales=scales, \n",
    "#     scale_shapes=scale_shapes,\n",
    "#     scale_features=scale_features,\n",
    "#     max_shape_components=max_shape_components,\n",
    "#     max_appearance_components=max_appearance_components)\n",
    "\n",
    "# linear_patch_aam = linear_patch_aam_builder.build(\n",
    "#     training_images, \n",
    "#     group='ibug_face_66', \n",
    "#     verbose=True)"
   ]
  },
  {
   "cell_type": "markdown",
   "metadata": {},
   "source": [
    "#### Parts based AAM"
   ]
  },
  {
   "cell_type": "code",
   "execution_count": null,
   "metadata": {
    "collapsed": false
   },
   "outputs": [],
   "source": [
    "parts_aam_builder = PartsAAMBuilder(\n",
    "    patch_shape=patch_shape, \n",
    "    features=features,\n",
    "    normalize_parts=normalize_parts,\n",
    "    diagonal=diagonal, \n",
    "    scales=scales, \n",
    "    scale_shapes=scale_shapes,\n",
    "    scale_features=scale_features,\n",
    "    max_shape_components=max_shape_components,\n",
    "    max_appearance_components=max_appearance_components)\n",
    "\n",
    "parts_aam = parts_aam_builder.build(\n",
    "    training_images, \n",
    "    group='ibug_face_66', \n",
    "    verbose=True)"
   ]
  },
  {
   "cell_type": "markdown",
   "metadata": {},
   "source": [
    "## Fit Active Appearance Models"
   ]
  },
  {
   "cell_type": "code",
   "execution_count": null,
   "metadata": {
    "collapsed": false
   },
   "outputs": [],
   "source": [
    "sd_algorithm_cls = ProjectOutGaussNewton\n",
    "n_shape = [5, 15]\n",
    "n_appearance = [50, 100]\n",
    "n_perturbations = 10\n",
    "noise_std = 0.05\n",
    "sampling_step = [8, 8]\n",
    "\n",
    "max_iters = [5, 3]\n",
    "gamma = 1000000\n",
    "psi = 1000"
   ]
  },
  {
   "cell_type": "code",
   "execution_count": null,
   "metadata": {
    "collapsed": false
   },
   "outputs": [],
   "source": [
    "sampling_mask = parts_mask = np.require(np.zeros(patch_shape, dtype=np.bool))\n",
    "sampling_mask[2::4, 2::4] = True\n",
    "imshow(sampling_mask)\n",
    "\n",
    "sampling_masks = [sampling_mask]"
   ]
  },
  {
   "cell_type": "code",
   "execution_count": null,
   "metadata": {
    "collapsed": false
   },
   "outputs": [],
   "source": [
    "sampling_mask = parts_mask = np.require(np.zeros(patch_shape, dtype=np.bool))\n",
    "sampling_mask[5:12:2, 5:12:2] = True\n",
    "imshow(sampling_mask)\n",
    "sampling_masks.append(sampling_mask)"
   ]
  },
  {
   "cell_type": "markdown",
   "metadata": {},
   "source": [
    "#### AAM Fitter"
   ]
  },
  {
   "cell_type": "code",
   "execution_count": null,
   "metadata": {
    "collapsed": false
   },
   "outputs": [],
   "source": [
    "# aam_fitter = CRAAMFitter(\n",
    "#     aam, \n",
    "#     cr_algorithm_cls=cr_algorithm_cls, \n",
    "#     n_shape=n_shape, \n",
    "#     n_appearance=n_appearance,\n",
    "#     n_perturbations=n_perturbations,\n",
    "#     max_iters=max_iters,\n",
    "#     sampling=sampling_step)\n",
    "\n",
    "# aam_fitter.train(\n",
    "#     training_images, \n",
    "#     group='ibug_face_66', \n",
    "#     gamma=gamma,\n",
    "#     verbose=True)"
   ]
  },
  {
   "cell_type": "markdown",
   "metadata": {},
   "source": [
    "#### Patch based AAM Fitter"
   ]
  },
  {
   "cell_type": "code",
   "execution_count": null,
   "metadata": {
    "collapsed": false
   },
   "outputs": [],
   "source": [
    "# patch_aam_fitter = CRAAMFitter(\n",
    "#     patch_aam, \n",
    "#     cr_algorithm_cls=cr_algorithm_cls, \n",
    "#     n_shape=n_shape, \n",
    "#     n_appearance=n_appearance,\n",
    "#     n_perturbations=n_perturbations,\n",
    "#     max_iters=max_iters,\n",
    "#     sampling=sampling_step)\n",
    "\n",
    "# patch_aam_fitter.train(\n",
    "#     training_images, \n",
    "#     group='ibug_face_66', \n",
    "#     gamma=gamma,\n",
    "#     verbose=True)"
   ]
  },
  {
   "cell_type": "markdown",
   "metadata": {},
   "source": [
    "#### Linear AAM Fitter"
   ]
  },
  {
   "cell_type": "code",
   "execution_count": null,
   "metadata": {
    "collapsed": false
   },
   "outputs": [],
   "source": [
    "# linear_aam_fitter = CRAAMFitter(\n",
    "#     linear_aam, \n",
    "#     cr_algorithm_cls=cr_algorithm_cls, \n",
    "#     n_shape=n_shape, \n",
    "#     n_appearance=n_appearance,\n",
    "#     n_perturbations=n_perturbations,\n",
    "#     max_iters=max_iters,\n",
    "#     sampling=sampling_step)\n",
    "\n",
    "# linear_aam_fitter.train(\n",
    "#     training_images, \n",
    "#     group='ibug_face_66', \n",
    "#     gamma=gamma,\n",
    "#     verbose=True)"
   ]
  },
  {
   "cell_type": "markdown",
   "metadata": {},
   "source": [
    "#### Linear Patch based AAM Fitter"
   ]
  },
  {
   "cell_type": "code",
   "execution_count": null,
   "metadata": {
    "collapsed": false
   },
   "outputs": [],
   "source": [
    "# linear_patch_aam_fitter = CRAAMFitter(\n",
    "#     linear_patch_aam, \n",
    "#     cr_algorithm_cls=cr_algorithm_cls, \n",
    "#     n_shape=n_shape, \n",
    "#     n_appearance=n_appearance,\n",
    "#     n_perturbations=n_perturbations,\n",
    "#     max_iters=max_iters,\n",
    "#     sampling=sampling_step)\n",
    "\n",
    "# linear_patch_aam_fitter.train(\n",
    "#     training_images, \n",
    "#     group='ibug_face_66', \n",
    "#     gamma=gamma,\n",
    "#     verbose=True)"
   ]
  },
  {
   "cell_type": "markdown",
   "metadata": {},
   "source": [
    "#### Parts based AAM Fitter"
   ]
  },
  {
   "cell_type": "code",
   "execution_count": null,
   "metadata": {
    "collapsed": false
   },
   "outputs": [],
   "source": [
    "parts_aam_fitter = SupervisedDescentAAMFitter(\n",
    "    parts_aam, \n",
    "    sd_algorithm_cls=sd_algorithm_cls, \n",
    "    n_shape=n_shape, \n",
    "    n_appearance=n_appearance,\n",
    "    n_perturbations=n_perturbations,\n",
    "    noise_std=noise_std,\n",
    "    max_iters=max_iters,\n",
    "    sampling=sampling_masks)\n",
    "\n",
    "parts_aam_fitter.train(\n",
    "    training_images, \n",
    "    group='ibug_face_66', \n",
    "    gamma=gamma,\n",
    "    #psi=psi,\n",
    "    dtype=np.float32,\n",
    "    verbose=True)"
   ]
  },
  {
   "cell_type": "markdown",
   "metadata": {},
   "source": [
    "#### Fitting loop"
   ]
  },
  {
   "cell_type": "code",
   "execution_count": null,
   "metadata": {
    "collapsed": false
   },
   "outputs": [],
   "source": [
    "np.random.seed(seed=0)\n",
    "\n",
    "fitters = [#aam_fitter,\n",
    "           #patch_aam_fitter,\n",
    "           #linear_aam_fitter,\n",
    "           #linear_patch_aam_fitter,\n",
    "           parts_aam_fitter]\n",
    "\n",
    "fitters_results =  [[]]\n",
    "\n",
    "for j, i in enumerate(test_images):\n",
    "    \n",
    "    gt_s = i.landmarks['ibug_face_66'].lms\n",
    "    s = fitters[0].noisy_shape_from_shape(gt_s, noise_std=0.05)\n",
    "\n",
    "    for k, fitter in enumerate(fitters):\n",
    "        \n",
    "        fr = fitter.fit(i, s, gt_shape=gt_s)\n",
    "        fr.downscale = 0.5   \n",
    "        fitters_results[k].append(fr)\n",
    "    \n",
    "        print 'Image: ', j\n",
    "        print fr"
   ]
  },
  {
   "cell_type": "markdown",
   "metadata": {},
   "source": [
    "## Visualize Results"
   ]
  },
  {
   "cell_type": "code",
   "execution_count": null,
   "metadata": {
    "collapsed": false
   },
   "outputs": [],
   "source": [
    "visualize_fitting_result(fitters_results[0])"
   ]
  }
 ],
 "metadata": {
  "kernelspec": {
   "display_name": "Python 2",
   "language": "python",
   "name": "python2"
  },
  "language_info": {
   "codemirror_mode": {
    "name": "ipython",
    "version": 2
   },
   "file_extension": ".py",
   "mimetype": "text/x-python",
   "name": "python",
   "nbconvert_exporter": "python",
   "pygments_lexer": "ipython2",
   "version": "2.7.10"
  }
 },
 "nbformat": 4,
 "nbformat_minor": 0
}
