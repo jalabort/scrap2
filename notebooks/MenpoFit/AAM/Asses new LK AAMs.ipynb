{
 "cells": [
  {
   "cell_type": "code",
   "execution_count": null,
   "metadata": {
    "collapsed": false
   },
   "outputs": [],
   "source": [
    "%matplotlib inline\n",
    "%pylab inline\n",
    "\n",
    "import menpo.io as mio\n",
    "from menpo.feature import fast_dsift, no_op, hog, dsift\n",
    "\n",
    "from menpo.landmark import labeller, ibug_face_66\n",
    "from menpo.visualize import visualize_images\n",
    "\n",
    "from menpofit.aam import (\n",
    "    AAMBuilder, PatchAAMBuilder, LinearAAMBuilder, LinearPatchAAMBuilder, PartsAAMBuilder,\n",
    "    LucasKanadeAAMFitter,\n",
    "    WibergInverseCompositional, \n",
    "    ProjectOutInverseCompositional,\n",
    "    AlternatingInverseCompositional,\n",
    "    ModifiedAlternatingInverseCompositional,\n",
    "    SimultaneousInverseCompositional,\n",
    "    holistic_sampling_from_step)\n",
    "from menpofit.visualize import visualize_fitting_result, plot_ced"
   ]
  },
  {
   "cell_type": "markdown",
   "metadata": {},
   "source": [
    "## Load training data"
   ]
  },
  {
   "cell_type": "code",
   "execution_count": null,
   "metadata": {
    "collapsed": false
   },
   "outputs": [],
   "source": [
    "training_images = []\n",
    "for i in mio.import_images('/vol/atlas/databases/lfpw/trainset/', \n",
    "                           verbose=True, max_images=25):\n",
    "    i.rescale_landmarks_to_diagonal_range(200)\n",
    "    i = i.crop_to_landmarks_proportion(0.5)\n",
    "    labeller(i, 'PTS', ibug_face_66)\n",
    "    if i.n_channels == 3:\n",
    "        i = i.as_greyscale(mode='average')\n",
    "    training_images.append(i)"
   ]
  },
  {
   "cell_type": "markdown",
   "metadata": {},
   "source": [
    "## Load test data"
   ]
  },
  {
   "cell_type": "code",
   "execution_count": null,
   "metadata": {
    "collapsed": false
   },
   "outputs": [],
   "source": [
    "test_images = []\n",
    "for i in mio.import_images('/vol/atlas/databases/lfpw/testset/', \n",
    "                           verbose=True, max_images=25):    \n",
    "    i.rescale_landmarks_to_diagonal_range(200)\n",
    "    i = i.crop_to_landmarks_proportion(0.5)\n",
    "    labeller(i, 'PTS', ibug_face_66)\n",
    "    if i.n_channels == 3:\n",
    "        i = i.as_greyscale(mode='average')\n",
    "    test_images.append(i)"
   ]
  },
  {
   "cell_type": "code",
   "execution_count": null,
   "metadata": {
    "collapsed": false
   },
   "outputs": [],
   "source": [
    "visualize_images(test_images)"
   ]
  },
  {
   "cell_type": "markdown",
   "metadata": {},
   "source": [
    "## Build Active Appearance Models"
   ]
  },
  {
   "cell_type": "code",
   "execution_count": null,
   "metadata": {
    "collapsed": false
   },
   "outputs": [],
   "source": [
    "features = fast_dsift\n",
    "diagonal = 100\n",
    "scales = (1, .5)\n",
    "scale_shapes = False\n",
    "scale_features = True\n",
    "max_shape_components= 25\n",
    "max_appearance_components = 200"
   ]
  },
  {
   "cell_type": "markdown",
   "metadata": {},
   "source": [
    "#### AAM"
   ]
  },
  {
   "cell_type": "code",
   "execution_count": null,
   "metadata": {
    "collapsed": false
   },
   "outputs": [],
   "source": [
    "aam_builder = AAMBuilder(\n",
    "    features=features,\n",
    "    diagonal=diagonal, \n",
    "    scales=scales, \n",
    "    scale_shapes=scale_shapes,\n",
    "    scale_features=scale_features,\n",
    "    max_shape_components=max_shape_components,\n",
    "    max_appearance_components=max_appearance_components)\n",
    "\n",
    "aam_batch = aam_builder.build(\n",
    "    training_images, \n",
    "    group='ibug_face_66', \n",
    "    verbose=True)"
   ]
  },
  {
   "cell_type": "code",
   "execution_count": null,
   "metadata": {
    "collapsed": false
   },
   "outputs": [],
   "source": [
    "aam_incremental = aam_builder.build_incrementally(\n",
    "    training_images, \n",
    "    group='ibug_face_66',\n",
    "    batch_size=500,\n",
    "    verbose=True)"
   ]
  },
  {
   "cell_type": "code",
   "execution_count": null,
   "metadata": {
    "collapsed": false
   },
   "outputs": [],
   "source": [
    "aam_batch.appearance_models[0].mean().view()"
   ]
  },
  {
   "cell_type": "code",
   "execution_count": null,
   "metadata": {
    "collapsed": false
   },
   "outputs": [],
   "source": [
    "aam_incremental.appearance_models[0].mean().view()"
   ]
  },
  {
   "cell_type": "markdown",
   "metadata": {},
   "source": [
    "## Fit Active Appearance Models"
   ]
  },
  {
   "cell_type": "markdown",
   "metadata": {},
   "source": [
    "#### AAM Fitters at different sampling rates"
   ]
  },
  {
   "cell_type": "code",
   "execution_count": null,
   "metadata": {
    "collapsed": false
   },
   "outputs": [],
   "source": [
    "aam = aam_batch"
   ]
  },
  {
   "cell_type": "code",
   "execution_count": null,
   "metadata": {
    "collapsed": false
   },
   "outputs": [],
   "source": [
    "lk_algorithm_cls = WibergInverseCompositional\n",
    "n_shape = [5, 15]\n",
    "n_appearance = [50, 100]"
   ]
  },
  {
   "cell_type": "code",
   "execution_count": null,
   "metadata": {
    "collapsed": false
   },
   "outputs": [],
   "source": [
    "sampling_2, mask_2 = holistic_sampling_from_step(aam, step=2)\n",
    "sampling_4, mask_4 = holistic_sampling_from_step(aam, step=4)\n",
    "sampling_8, mask_8 = holistic_sampling_from_step(aam, step=8)"
   ]
  },
  {
   "cell_type": "code",
   "execution_count": null,
   "metadata": {
    "collapsed": false
   },
   "outputs": [],
   "source": [
    "mask_2.view()"
   ]
  },
  {
   "cell_type": "code",
   "execution_count": null,
   "metadata": {
    "collapsed": false
   },
   "outputs": [],
   "source": [
    "mask_4.view()"
   ]
  },
  {
   "cell_type": "code",
   "execution_count": null,
   "metadata": {
    "collapsed": false
   },
   "outputs": [],
   "source": [
    "mask_8.view()"
   ]
  },
  {
   "cell_type": "code",
   "execution_count": null,
   "metadata": {
    "collapsed": false
   },
   "outputs": [],
   "source": [
    "aam_fitter_1 = LucasKanadeAAMFitter(\n",
    "    aam, \n",
    "    lk_algorithm_cls=lk_algorithm_cls, \n",
    "    n_shape=n_shape, \n",
    "    n_appearance=n_appearance)"
   ]
  },
  {
   "cell_type": "code",
   "execution_count": null,
   "metadata": {
    "collapsed": false
   },
   "outputs": [],
   "source": [
    "aam_fitter_2 = LucasKanadeAAMFitter(\n",
    "    aam, \n",
    "    lk_algorithm_cls=lk_algorithm_cls, \n",
    "    n_shape=n_shape, \n",
    "    n_appearance=n_appearance,\n",
    "    sampling=sampling_2)"
   ]
  },
  {
   "cell_type": "code",
   "execution_count": null,
   "metadata": {
    "collapsed": true
   },
   "outputs": [],
   "source": [
    "aam_fitter_4 = LucasKanadeAAMFitter(\n",
    "    aam, \n",
    "    lk_algorithm_cls=lk_algorithm_cls, \n",
    "    n_shape=n_shape, \n",
    "    n_appearance=n_appearance,\n",
    "    sampling=sampling_4)"
   ]
  },
  {
   "cell_type": "code",
   "execution_count": null,
   "metadata": {
    "collapsed": true
   },
   "outputs": [],
   "source": [
    "aam_fitter_8 = LucasKanadeAAMFitter(\n",
    "    aam, \n",
    "    lk_algorithm_cls=lk_algorithm_cls, \n",
    "    n_shape=n_shape, \n",
    "    n_appearance=n_appearance,\n",
    "    sampling=sampling_8)"
   ]
  },
  {
   "cell_type": "markdown",
   "metadata": {},
   "source": [
    "#### Fitting loop"
   ]
  },
  {
   "cell_type": "code",
   "execution_count": null,
   "metadata": {
    "collapsed": false
   },
   "outputs": [],
   "source": [
    "fitters = [aam_fitter_1,\n",
    "           aam_fitter_2,\n",
    "           aam_fitter_4,\n",
    "           aam_fitter_8]\n",
    "           \n",
    "fitters_results = []\n",
    "\n",
    "for j, i in enumerate(test_images[:]):\n",
    "    \n",
    "    gt_s = i.landmarks['ibug_face_66'].lms\n",
    "    np.random.seed(2)\n",
    "    s = fitters[0].noisy_shape_from_shape(gt_s, noise_std=0.0)\n",
    "\n",
    "    for fitter in fitters:\n",
    "        \n",
    "        fr = fitter.fit(i, s, gt_shape=gt_s, max_iters=20) \n",
    "        fr.downscale = 0.5\n",
    "        fitters_results.append(fr)\n",
    "    \n",
    "        print 'Image: ', j\n",
    "        print fr"
   ]
  },
  {
   "cell_type": "markdown",
   "metadata": {},
   "source": [
    "##  Results"
   ]
  },
  {
   "cell_type": "code",
   "execution_count": null,
   "metadata": {
    "collapsed": true
   },
   "outputs": [],
   "source": [
    "initial_errors = [fr.initial_error() for fr in fitters_results[::4]]\n",
    "\n",
    "final_errors_1 = [fr.final_error() for fr in fitters_results[::4]]\n",
    "final_errors_2 = [fr.final_error() for fr in fitters_results[1::4]]\n",
    "final_errors_4 = [fr.final_error() for fr in fitters_results[2::4]]\n",
    "final_errors_8 = [fr.final_error() for fr in fitters_results[3::4]]\n",
    "\n",
    "errors = [initial_errors, final_errors_1, final_errors_2, final_errors_4, final_errors_8]"
   ]
  },
  {
   "cell_type": "code",
   "execution_count": null,
   "metadata": {
    "collapsed": false
   },
   "outputs": [],
   "source": [
    "plot_ced(errors, legend_entries=['ini', '1', '2', '4', '8'])"
   ]
  },
  {
   "cell_type": "code",
   "execution_count": null,
   "metadata": {
    "collapsed": false
   },
   "outputs": [],
   "source": [
    "print 'ini:', np.mean(initial_errors), 'std_1:', np.std(initial_errors), 'median:', np.median(initial_errors) \n",
    "print 'mean_1:', np.mean(final_errors_1), 'std_1:', np.std(final_errors_1), 'median:', np.median(final_errors_1) \n",
    "print 'mean_2:', np.mean(final_errors_2), 'std_2:', np.std(final_errors_2), 'median:', np.median(final_errors_2) \n",
    "print 'mean_4:', np.mean(final_errors_4), 'std_4:', np.std(final_errors_4), 'median:', np.median(final_errors_4) \n",
    "print 'mean_8:', np.mean(final_errors_8), 'std_8:', np.std(final_errors_8), 'median:', np.median(final_errors_8) "
   ]
  },
  {
   "cell_type": "code",
   "execution_count": null,
   "metadata": {
    "collapsed": false
   },
   "outputs": [],
   "source": [
    "from scipy import stats  \n",
    "\n",
    "# ANOVA test\n",
    "f_val, p_val1 = stats.f_oneway(final_errors_1, final_errors_2, \n",
    "                              final_errors_4, final_errors_8)  \n",
    "\n",
    "# Kruskal-Wallis H-test\n",
    "h_stat, p_val2 = stats.kruskal(final_errors_1, final_errors_2, \n",
    "                             final_errors_4, final_errors_8)\n",
    "\n",
    "print \"One-way ANOVA,\", \"\\tp-value:\", p_val1, \"f-value:\", f_val\n",
    "print \"Kruskal-Wallis,\" \"\\tp-value:\", p_val2, \"h-stat:\", h_stat  "
   ]
  },
  {
   "cell_type": "code",
   "execution_count": null,
   "metadata": {
    "collapsed": false
   },
   "outputs": [],
   "source": [
    "visualize_fitting_result(fitters_results[::4])"
   ]
  },
  {
   "cell_type": "code",
   "execution_count": null,
   "metadata": {
    "collapsed": false
   },
   "outputs": [],
   "source": [
    "visualize_fitting_result(fitters_results[1::4])"
   ]
  },
  {
   "cell_type": "code",
   "execution_count": null,
   "metadata": {
    "collapsed": false
   },
   "outputs": [],
   "source": [
    "visualize_fitting_result(fitters_results[2::4])"
   ]
  },
  {
   "cell_type": "code",
   "execution_count": null,
   "metadata": {
    "collapsed": false
   },
   "outputs": [],
   "source": [
    "visualize_fitting_result(fitters_results[3::4])"
   ]
  },
  {
   "cell_type": "code",
   "execution_count": null,
   "metadata": {
    "collapsed": false
   },
   "outputs": [],
   "source": [
    "%timeit -n 25 fr = aam_fitter_1.fit(i, s, gt_shape=gt_s, max_iters=20) \n",
    "%timeit -n 25 fr = aam_fitter_2.fit(i, s, gt_shape=gt_s, max_iters=20) \n",
    "%timeit -n 25 fr = aam_fitter_4.fit(i, s, gt_shape=gt_s, max_iters=20) \n",
    "%timeit -n 25 fr = aam_fitter_8.fit(i, s, gt_shape=gt_s, max_iters=20) "
   ]
  }
 ],
 "metadata": {
  "kernelspec": {
   "display_name": "Python 2",
   "language": "python",
   "name": "python2"
  },
  "language_info": {
   "codemirror_mode": {
    "name": "ipython",
    "version": 2
   },
   "file_extension": ".py",
   "mimetype": "text/x-python",
   "name": "python",
   "nbconvert_exporter": "python",
   "pygments_lexer": "ipython2",
   "version": "2.7.10"
  }
 },
 "nbformat": 4,
 "nbformat_minor": 0
}
