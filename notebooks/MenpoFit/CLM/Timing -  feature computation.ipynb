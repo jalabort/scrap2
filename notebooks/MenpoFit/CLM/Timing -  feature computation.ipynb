{
 "cells": [
  {
   "cell_type": "code",
   "execution_count": null,
   "metadata": {
    "collapsed": false
   },
   "outputs": [],
   "source": [
    "%matplotlib inline\n",
    "%pylab inline\n",
    "\n",
    "import menpo.io as mio\n",
    "from menpo.feature import fast_dsift, dsift, sparse_hog\n",
    "from menpo.landmark import labeller, ibug_face_66\n",
    "from menpo.visualize import visualize_images"
   ]
  },
  {
   "cell_type": "markdown",
   "metadata": {},
   "source": [
    "## Create data"
   ]
  },
  {
   "cell_type": "code",
   "execution_count": null,
   "metadata": {
    "collapsed": false
   },
   "outputs": [],
   "source": [
    "for image in mio.import_images('/vol/atlas/databases/lfpw/trainset/', \n",
    "                           verbose=True, max_images=1):\n",
    "    image = image.crop_to_landmarks_proportion(0.5)\n",
    "    image = image.rescale_landmarks_to_diagonal_range(200)\n",
    "    labeller(image, 'PTS', ibug_face_66)"
   ]
  },
  {
   "cell_type": "code",
   "execution_count": null,
   "metadata": {
    "collapsed": false
   },
   "outputs": [],
   "source": [
    "visualize_images(image)"
   ]
  },
  {
   "cell_type": "markdown",
   "metadata": {},
   "source": [
    "## Feature computation and patch extraction"
   ]
  },
  {
   "cell_type": "code",
   "execution_count": null,
   "metadata": {
    "collapsed": true
   },
   "outputs": [],
   "source": [
    "feature_callable = fast_dsift\n",
    "\n",
    "n_iterations = 10\n",
    "\n",
    "group = 'ibug_face_66'\n",
    "patch_size = (17, 17)"
   ]
  },
  {
   "cell_type": "markdown",
   "metadata": {},
   "source": [
    "Compute features over the whole image and extract patches from the resulting feature image:"
   ]
  },
  {
   "cell_type": "code",
   "execution_count": null,
   "metadata": {
    "collapsed": false
   },
   "outputs": [],
   "source": [
    "%%timeit \n",
    "\n",
    "feature_image = feature_callable(image)\n",
    "\n",
    "for _ in range(n_iterations):\n",
    "    feature_patches = feature_image.extract_patches_around_landmarks(\n",
    "        group=group, patch_size=patch_size, as_single_array=True)"
   ]
  },
  {
   "cell_type": "markdown",
   "metadata": {},
   "source": [
    "Extract patches drom the original image and compute features over each patch:"
   ]
  },
  {
   "cell_type": "code",
   "execution_count": null,
   "metadata": {
    "collapsed": false
   },
   "outputs": [],
   "source": [
    "%%timeit\n",
    "\n",
    "feature_image = fast_dsift(image)\n",
    "\n",
    "for _ in range(n_iterations):\n",
    "    patches = image.extract_patches_around_landmarks(\n",
    "        group=group, patch_size=patch_size, as_single_array=True)\n",
    "    feature_patches = []\n",
    "    for p in patches[:, 0, ...]:\n",
    "        fp = feature_callable(p)\n",
    "        feature_patches.append(fp)\n",
    "    feature_patches = np.asarray(feature_patches)"
   ]
  }
 ],
 "metadata": {
  "kernelspec": {
   "display_name": "Python 2",
   "language": "python",
   "name": "python2"
  },
  "language_info": {
   "codemirror_mode": {
    "name": "ipython",
    "version": 2
   },
   "file_extension": ".py",
   "mimetype": "text/x-python",
   "name": "python",
   "nbconvert_exporter": "python",
   "pygments_lexer": "ipython2",
   "version": "2.7.10"
  }
 },
 "nbformat": 4,
 "nbformat_minor": 0
}
