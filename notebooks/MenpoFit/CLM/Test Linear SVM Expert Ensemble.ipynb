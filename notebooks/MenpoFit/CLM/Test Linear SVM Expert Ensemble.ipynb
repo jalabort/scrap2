{
 "cells": [
  {
   "cell_type": "code",
   "execution_count": null,
   "metadata": {
    "collapsed": false
   },
   "outputs": [],
   "source": [
    "%matplotlib inline\n",
    "%pylab inline\n",
    "\n",
    "import menpo.io as mio\n",
    "from menpo.feature import no_op, fast_dsift\n",
    "from menpo.landmark import labeller, ibug_face_66\n",
    "from menpo.visualize import visualize_images\n",
    "from menpo.image import Image"
   ]
  },
  {
   "cell_type": "markdown",
   "metadata": {},
   "source": [
    "## Load images"
   ]
  },
  {
   "cell_type": "code",
   "execution_count": null,
   "metadata": {
    "collapsed": false
   },
   "outputs": [],
   "source": [
    "images = []\n",
    "for i in mio.import_images('/vol/atlas/databases/lfpw/trainset/', \n",
    "                           verbose=True, max_images=10):\n",
    "    if i.n_channels == 3:\n",
    "        i = i.crop_to_landmarks_proportion(0.8)\n",
    "        i = i.rescale_landmarks_to_diagonal_range(200)\n",
    "        labeller(i, 'PTS', ibug_face_66)\n",
    "        images.append(i)"
   ]
  },
  {
   "cell_type": "code",
   "execution_count": null,
   "metadata": {
    "collapsed": false
   },
   "outputs": [],
   "source": [
    "visualize_images(images)"
   ]
  },
  {
   "cell_type": "code",
   "execution_count": null,
   "metadata": {
    "collapsed": true
   },
   "outputs": [],
   "source": [
    "shapes = [i.landmarks['ibug_face_66'].lms for i in images]"
   ]
  },
  {
   "cell_type": "code",
   "execution_count": null,
   "metadata": {
    "collapsed": false
   },
   "outputs": [],
   "source": [
    "from menpo.shape import PointCloud\n",
    "\n",
    "landmarks = [PointCloud(s.points[40:42,:])  for s in shapes]"
   ]
  },
  {
   "cell_type": "code",
   "execution_count": null,
   "metadata": {
    "collapsed": false
   },
   "outputs": [],
   "source": [
    "from menpofit.clm.patch_experts import LinearSVMExpertEnsemble\n",
    "from menpo.shape import PointCloud\n",
    "\n",
    "cfee = LinearSVMExpertEnsemble(\n",
    "    images, \n",
    "    landmarks, \n",
    "    verbose=True,\n",
    "    positive_neighbourhood=(5, 5),\n",
    "    patch_size=(33, 33),\n",
    "    context_size=(33, 33),\n",
    "    negative_step=(3, 3),\n",
    "    sample_offsets=None)"
   ]
  },
  {
   "cell_type": "code",
   "execution_count": null,
   "metadata": {
    "collapsed": false
   },
   "outputs": [],
   "source": [
    "visualize_images(cfee.spatial_filter_images)"
   ]
  },
  {
   "cell_type": "code",
   "execution_count": null,
   "metadata": {
    "collapsed": false
   },
   "outputs": [],
   "source": [
    "responses = []\n",
    "for (image, landmark) in zip(images, landmarks):\n",
    "    a = cfee.predict_normalise(image, landmark)[1]\n",
    "    response = Image(a)\n",
    "    responses.append(response)\n",
    "    \n",
    "visualize_images(responses)"
   ]
  }
 ],
 "metadata": {
  "kernelspec": {
   "display_name": "Python 2",
   "language": "python",
   "name": "python2"
  },
  "language_info": {
   "codemirror_mode": {
    "name": "ipython",
    "version": 2
   },
   "file_extension": ".py",
   "mimetype": "text/x-python",
   "name": "python",
   "nbconvert_exporter": "python",
   "pygments_lexer": "ipython2",
   "version": "2.7.10"
  }
 },
 "nbformat": 4,
 "nbformat_minor": 0
}
