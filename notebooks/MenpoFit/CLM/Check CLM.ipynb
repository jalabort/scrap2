{
 "cells": [
  {
   "cell_type": "code",
   "execution_count": null,
   "metadata": {
    "collapsed": false
   },
   "outputs": [],
   "source": [
    "%matplotlib inline\n",
    "%pylab inline\n",
    "\n",
    "import menpo.io as mio\n",
    "from menpo.feature import no_op, sparse_hog\n",
    "from menpo.landmark import labeller, ibug_face_66, ibug_face_49\n",
    "from menpo.visualize import visualize_images, print_dynamic\n",
    "\n",
    "from menpofit.fitter import noisy_shape_from_shape\n",
    "from menpofit.sdm import (\n",
    "    SupervisedDescentFitter, \n",
    "    Newton, GaussNewton)\n",
    "from menpofit.visualize import visualize_fitting_result, plot_ced"
   ]
  },
  {
   "cell_type": "markdown",
   "metadata": {},
   "source": [
    "## Load training data"
   ]
  },
  {
   "cell_type": "code",
   "execution_count": null,
   "metadata": {
    "collapsed": false
   },
   "outputs": [],
   "source": [
    "training_images = []\n",
    "for i in mio.import_images('/vol/atlas/databases/lfpw/trainset/', \n",
    "                           verbose=True, max_images=10, normalise=True):\n",
    "    i = i.crop_to_landmarks_proportion(0.5)\n",
    "    i = i.rescale_landmarks_to_diagonal_range(200)\n",
    "    i.pixels = i.pixels.astype(uint8)\n",
    "    labeller(i, 'PTS', ibug_face_66)\n",
    "    training_images.append(i)\n",
    "    \n",
    "# for i in mio.import_images('/vol/atlas/databases/helen/trainset/', \n",
    "#                            verbose=True, max_images=None, normalise=None):\n",
    "#     i = i.crop_to_landmarks_proportion(0.5)\n",
    "#     i = i.rescale_landmarks_to_diagonal_range(200)\n",
    "#     i.pixels = i.pixels.astype(uint8)\n",
    "#     labeller(i, 'PTS', ibug_face_66)\n",
    "#     training_images.append(i)"
   ]
  },
  {
   "cell_type": "code",
   "execution_count": null,
   "metadata": {
    "collapsed": false
   },
   "outputs": [],
   "source": [
    "visualize_images(training_images)"
   ]
  },
  {
   "cell_type": "code",
   "execution_count": null,
   "metadata": {
    "collapsed": false
   },
   "outputs": [],
   "source": [
    "i = i.rescale_landmarks_to_diagonal_range(100, 'PTS')"
   ]
  },
  {
   "cell_type": "code",
   "execution_count": null,
   "metadata": {
    "collapsed": false
   },
   "outputs": [],
   "source": [
    "%%timeit\n",
    "\n",
    "i.extract_patches(\n",
    "    PointCloud([[0.0, 0.0]]), \n",
    "    patch_size=(17, 17),\n",
    "    as_single_array=True,\n",
    "    sample_offsets=PointCloud(np.require(i.indices(),dtype=np.float64)))"
   ]
  },
  {
   "cell_type": "markdown",
   "metadata": {},
   "source": [
    "## Load test data"
   ]
  },
  {
   "cell_type": "code",
   "execution_count": null,
   "metadata": {
    "collapsed": false
   },
   "outputs": [],
   "source": [
    "test_images = []\n",
    "for i in mio.import_images('/vol/atlas/databases/lfpw/testset/', \n",
    "                           verbose=True, max_images=None, normalise=None):    \n",
    "    i = i.crop_to_landmarks_proportion(0.5)\n",
    "    labeller(i, 'PTS', ibug_face_66)\n",
    "    test_images.append(i)"
   ]
  },
  {
   "cell_type": "code",
   "execution_count": null,
   "metadata": {
    "collapsed": false
   },
   "outputs": [],
   "source": [
    "visualize_images(test_images)"
   ]
  },
  {
   "cell_type": "markdown",
   "metadata": {},
   "source": [
    "## Train Supervised Fitter"
   ]
  },
  {
   "cell_type": "code",
   "execution_count": null,
   "metadata": {
    "collapsed": false
   },
   "outputs": [],
   "source": [
    "sd_algorithm_cls = Newton\n",
    "features = [sparse_hog]\n",
    "patch_shape = (17, 17)\n",
    "diagonal = 200\n",
    "scales = (1, .5)\n",
    "iterations = 4\n",
    "n_perturbations = 10\n",
    "\n",
    "group = 'ibug_face_66'\n",
    "verbose = True\n",
    "l = 0"
   ]
  },
  {
   "cell_type": "code",
   "execution_count": null,
   "metadata": {
    "collapsed": false
   },
   "outputs": [],
   "source": [
    "sd_fitter_batch = SupervisedDescentFitter(\n",
    "    sd_algorithm_cls=sd_algorithm_cls,\n",
    "    features=features,\n",
    "    patch_shape=patch_shape,\n",
    "    diagonal=diagonal, \n",
    "    scales=scales,\n",
    "    iterations=iterations,\n",
    "    n_perturbations=n_perturbations)\n",
    "    \n",
    "sd_fitter_batch.train(\n",
    "    training_images,\n",
    "    group=group,\n",
    "    verbose=verbose,\n",
    "    l=l)"
   ]
  },
  {
   "cell_type": "code",
   "execution_count": null,
   "metadata": {
    "collapsed": false
   },
   "outputs": [],
   "source": [
    "sd_fitter_incremental = SupervisedDescentFitter(\n",
    "    sd_algorithm_cls=sd_algorithm_cls,\n",
    "    features=features,\n",
    "    patch_shape=patch_shape,\n",
    "    diagonal=diagonal, \n",
    "    scales=scales,\n",
    "    iterations=iterations,\n",
    "    n_perturbations=n_perturbations)\n",
    "    \n",
    "sd_fitter_incremental.train_incrementally(    \n",
    "    training_images,\n",
    "    batch_size=300,\n",
    "    group=group,\n",
    "    verbose=verbose,\n",
    "    l=l)"
   ]
  },
  {
   "cell_type": "markdown",
   "metadata": {},
   "source": [
    "#### Fitting loop"
   ]
  },
  {
   "cell_type": "code",
   "execution_count": null,
   "metadata": {
    "collapsed": false
   },
   "outputs": [],
   "source": [
    "fitters = [sd_fitter_batch, sd_fitter_incremental]\n",
    "\n",
    "fitters_results = []\n",
    "\n",
    "for j, i in enumerate(test_images):\n",
    "    \n",
    "    #np.random.seed(j)\n",
    "    gt_s = i.landmarks['ibug_face_66'].lms\n",
    "    s = fitters[0].perturb_from_shape(gt_s, noise_std=0.05)\n",
    "\n",
    "    for fitter in fitters:\n",
    "        \n",
    "        fr = fitter.fit(i, s, gt_shape=gt_s) \n",
    "        fr.downscale = 0.5\n",
    "        fitters_results.append(fr)\n",
    "    \n",
    "        print 'Image: ', j\n",
    "        print fr"
   ]
  },
  {
   "cell_type": "markdown",
   "metadata": {},
   "source": [
    "## Results"
   ]
  },
  {
   "cell_type": "code",
   "execution_count": null,
   "metadata": {
    "collapsed": true
   },
   "outputs": [],
   "source": [
    "initial_errors = [fr.initial_error() for fr in fitters_results[::2]]\n",
    "\n",
    "final_errors_1 = [fr.final_error() for fr in fitters_results[::2]]\n",
    "final_errors_2 = [fr.final_error() for fr in fitters_results[1::2]]"
   ]
  },
  {
   "cell_type": "code",
   "execution_count": null,
   "metadata": {
    "collapsed": false
   },
   "outputs": [],
   "source": [
    "print 'ini:', np.mean(initial_errors), 'std_1:', np.std(initial_errors), 'median:', np.median(initial_errors) \n",
    "print 'mean_1:', np.mean(final_errors_1), 'std_1:', np.std(final_errors_1), 'median:', np.median(final_errors_1) \n",
    "print 'mean_2:', np.mean(final_errors_2), 'std_2:', np.std(final_errors_2), 'median:', np.median(final_errors_2) "
   ]
  },
  {
   "cell_type": "code",
   "execution_count": null,
   "metadata": {
    "collapsed": true
   },
   "outputs": [],
   "source": [
    "errors = [initial_errors, final_errors_1, final_errors_2]"
   ]
  },
  {
   "cell_type": "code",
   "execution_count": null,
   "metadata": {
    "collapsed": false
   },
   "outputs": [],
   "source": [
    "plot_ced(errors, legend_entries=['ini', '1', '2'])"
   ]
  },
  {
   "cell_type": "code",
   "execution_count": null,
   "metadata": {
    "collapsed": false
   },
   "outputs": [],
   "source": [
    "visualize_fitting_result(fitters_results[::2])"
   ]
  },
  {
   "cell_type": "code",
   "execution_count": null,
   "metadata": {
    "collapsed": false
   },
   "outputs": [],
   "source": [
    "visualize_fitting_result(fitters_results[1::2])"
   ]
  },
  {
   "cell_type": "markdown",
   "metadata": {},
   "source": [
    "## Timing"
   ]
  },
  {
   "cell_type": "code",
   "execution_count": null,
   "metadata": {
    "collapsed": false
   },
   "outputs": [],
   "source": [
    "%timeit -n 25 fr = sd_fitter_batch.fit(i, s, gt_shape=gt_s) \n",
    "%timeit -n 25 fr = sd_fitter_incremental.fit(i, s, gt_shape=gt_s) "
   ]
  },
  {
   "cell_type": "code",
   "execution_count": null,
   "metadata": {
    "collapsed": true
   },
   "outputs": [],
   "source": [
    "import line_profiler\n",
    "import IPython\n",
    "\n",
    "ip = IPython.get_ipython()\n",
    "ip.define_magic('lprun', line_profiler.magic_lprun)"
   ]
  },
  {
   "cell_type": "code",
   "execution_count": null,
   "metadata": {
    "collapsed": false
   },
   "outputs": [],
   "source": [
    "%lprun -f Newton.run fitter.fit(i, s, gt_shape=gt_s)"
   ]
  }
 ],
 "metadata": {
  "kernelspec": {
   "display_name": "Python 2",
   "language": "python",
   "name": "python2"
  },
  "language_info": {
   "codemirror_mode": {
    "name": "ipython",
    "version": 2
   },
   "file_extension": ".py",
   "mimetype": "text/x-python",
   "name": "python",
   "nbconvert_exporter": "python",
   "pygments_lexer": "ipython2",
   "version": "2.7.10"
  }
 },
 "nbformat": 4,
 "nbformat_minor": 0
}
