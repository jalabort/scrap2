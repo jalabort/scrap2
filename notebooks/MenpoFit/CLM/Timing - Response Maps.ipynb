{
 "cells": [
  {
   "cell_type": "code",
   "execution_count": null,
   "metadata": {
    "collapsed": false
   },
   "outputs": [],
   "source": [
    "%matplotlib inline\n",
    "%pylab inline\n",
    "\n",
    "import menpo.io as mio\n",
    "from menpo.feature import fast_dsift, dsift, sparse_hog\n",
    "from menpo.landmark import labeller, ibug_face_66\n",
    "from menpo.visualize import visualize_images"
   ]
  },
  {
   "cell_type": "markdown",
   "metadata": {},
   "source": [
    "## Create data"
   ]
  },
  {
   "cell_type": "code",
   "execution_count": null,
   "metadata": {
    "collapsed": false
   },
   "outputs": [],
   "source": [
    "for image in mio.import_images('/vol/atlas/databases/lfpw/trainset/', \n",
    "                           verbose=True, max_images=1):\n",
    "    image = image.crop_to_landmarks_proportion(0.5)\n",
    "    image = image.rescale_landmarks_to_diagonal_range(200)\n",
    "    labeller(image, 'PTS', ibug_face_66)"
   ]
  },
  {
   "cell_type": "code",
   "execution_count": null,
   "metadata": {
    "collapsed": false
   },
   "outputs": [],
   "source": [
    "visualize_images(image)"
   ]
  },
  {
   "cell_type": "markdown",
   "metadata": {},
   "source": [
    "## Feature computation and patch extraction"
   ]
  },
  {
   "cell_type": "code",
   "execution_count": null,
   "metadata": {
    "collapsed": true
   },
   "outputs": [],
   "source": [
    "feature_callable = sparse_hog\n",
    "\n",
    "n_iterations = 10\n",
    "\n",
    "group = 'ibug_face_66'\n",
    "patch_size = (17, 17)"
   ]
  },
  {
   "cell_type": "markdown",
   "metadata": {},
   "source": [
    "Compute features over the whole image and extract patches from the resulting feature image:"
   ]
  },
  {
   "cell_type": "code",
   "execution_count": null,
   "metadata": {
    "collapsed": false
   },
   "outputs": [],
   "source": [
    "%%timeit \n",
    "\n",
    "feature_image = feature_callable(image)\n",
    "\n",
    "for _ in range(n_iterations):\n",
    "    feature_patches = feature_image.extract_patches_around_landmarks(\n",
    "        group=group, patch_size=patch_size, as_single_array=True)"
   ]
  },
  {
   "cell_type": "markdown",
   "metadata": {},
   "source": [
    "Extract patches drom the original image and compute features over each patch:"
   ]
  },
  {
   "cell_type": "code",
   "execution_count": null,
   "metadata": {
    "collapsed": false
   },
   "outputs": [],
   "source": [
    "%%timeit\n",
    "\n",
    "feature_image = fast_dsift(image)\n",
    "\n",
    "for _ in range(n_iterations):\n",
    "    patches = image.extract_patches_around_landmarks(\n",
    "        group=group, patch_size=patch_size, as_single_array=True)\n",
    "    feature_patches = []\n",
    "    for p in patches[:, 0, ...]:\n",
    "        fp = feature_callable(p)\n",
    "        feature_patches.append(fp)\n",
    "    feature_patches = np.asarray(feature_patches)"
   ]
  },
  {
   "cell_type": "markdown",
   "metadata": {},
   "source": [
    "## Response map computation"
   ]
  },
  {
   "cell_type": "code",
   "execution_count": null,
   "metadata": {
    "collapsed": false
   },
   "outputs": [],
   "source": [
    "from pyfftw.interfaces.numpy_fft import fft2 as fft2w, ifft2 as ifft2w\n",
    "import numpy as np\n",
    "from numpy.fft import ifft2, fft2\n"
   ]
  },
  {
   "cell_type": "code",
   "execution_count": null,
   "metadata": {
    "collapsed": false
   },
   "outputs": [],
   "source": [
    "#i = feature_callable(image).pixels\n",
    "x = np.random.randn(68, 8, 16, 16)\n",
    "f = np.random.randn(68, 8, 16, 16)"
   ]
  },
  {
   "cell_type": "code",
   "execution_count": null,
   "metadata": {
    "collapsed": false
   },
   "outputs": [],
   "source": [
    "%%timeit\n",
    "\n",
    "r = np.real(ifft2(fft2(x) * f))"
   ]
  },
  {
   "cell_type": "code",
   "execution_count": null,
   "metadata": {
    "collapsed": false
   },
   "outputs": [],
   "source": [
    "%%timeit\n",
    "\n",
    "r = np.real(ifft2w(fft2w(x) * f))"
   ]
  },
  {
   "cell_type": "code",
   "execution_count": null,
   "metadata": {
    "collapsed": true
   },
   "outputs": [],
   "source": [
    "i = np.random.randn(8, 128, 128).astype(np.float32)\n",
    "f = np.random.randn(66, 8, 128, 128).astype(np.float32)"
   ]
  },
  {
   "cell_type": "code",
   "execution_count": null,
   "metadata": {
    "collapsed": false
   },
   "outputs": [],
   "source": [
    "%%timeit\n",
    "\n",
    "ifft2(np.sum(fft2(i) * f, axis=1))"
   ]
  },
  {
   "cell_type": "code",
   "execution_count": null,
   "metadata": {
    "collapsed": false
   },
   "outputs": [],
   "source": [
    "%%timeit\n",
    "\n",
    "for c in i:\n",
    "    convolve2d(c, f[0][0], mode='same')"
   ]
  }
 ],
 "metadata": {
  "kernelspec": {
   "display_name": "Python 2",
   "language": "python",
   "name": "python2"
  },
  "language_info": {
   "codemirror_mode": {
    "name": "ipython",
    "version": 2
   },
   "file_extension": ".py",
   "mimetype": "text/x-python",
   "name": "python",
   "nbconvert_exporter": "python",
   "pygments_lexer": "ipython2",
   "version": "2.7.10"
  }
 },
 "nbformat": 4,
 "nbformat_minor": 0
}
