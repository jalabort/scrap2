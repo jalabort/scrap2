{
 "cells": [
  {
   "cell_type": "code",
   "execution_count": null,
   "metadata": {
    "collapsed": false
   },
   "outputs": [],
   "source": [
    "%matplotlib inline\n",
    "%pylab inline\n",
    "\n",
    "import menpo.io as mio\n",
    "from menpo.feature import fast_dsift, no_op\n",
    "from menpo.landmark import labeller, ibug_face_66\n",
    "from menpo.visualize import visualize_images\n",
    "\n",
    "from menpofit.lk import (\n",
    "    LucasKanadeFitter,\n",
    "    ForwardAdditive, ForwardCompositional, InverseCompositional,\n",
    "    SSD, FourierSSD, ECC, GradientImages, GradientCorrelation)\n",
    "from menpofit.transform import DifferentiableAlignmentAffine\n",
    "from menpofit.visualize import visualize_fitting_result"
   ]
  },
  {
   "cell_type": "code",
   "execution_count": null,
   "metadata": {
    "collapsed": true
   },
   "outputs": [],
   "source": [
    "import IPython.display as ipydisplay\n",
    "from menpo.visualize.viewmatplotlib import sample_colours_from_colourmap\n",
    "from menpofit.fittingresult import plot_cumulative_error_distribution"
   ]
  },
  {
   "cell_type": "markdown",
   "metadata": {},
   "source": [
    "## Load data"
   ]
  },
  {
   "cell_type": "code",
   "execution_count": null,
   "metadata": {
    "collapsed": false
   },
   "outputs": [],
   "source": [
    "images = []\n",
    "for i in mio.import_images('/vol/atlas/databases/lfpw/trainset/', \n",
    "                           verbose=True, max_images=5):\n",
    "    labeller(i, 'PTS', ibug_face_66)\n",
    "    i.crop_to_landmarks_proportion(0.5, group='PTS')\n",
    "    i.landmarks['bounding_box'] = i.landmarks['PTS'].lms.bounding_box()\n",
    "    if i.n_channels == 3:\n",
    "        i = i.as_greyscale(mode='average')\n",
    "    images.append(i)"
   ]
  },
  {
   "cell_type": "code",
   "execution_count": null,
   "metadata": {
    "collapsed": true
   },
   "outputs": [],
   "source": [
    "template = images[0]\n",
    "test_images = images"
   ]
  },
  {
   "cell_type": "code",
   "execution_count": null,
   "metadata": {
    "collapsed": false
   },
   "outputs": [],
   "source": [
    "visualize_images(template)"
   ]
  },
  {
   "cell_type": "code",
   "execution_count": null,
   "metadata": {
    "collapsed": false
   },
   "outputs": [],
   "source": [
    "visualize_images(test_images)"
   ]
  },
  {
   "cell_type": "markdown",
   "metadata": {},
   "source": [
    "## Build LK Fitter"
   ]
  },
  {
   "cell_type": "code",
   "execution_count": null,
   "metadata": {
    "collapsed": false
   },
   "outputs": [],
   "source": [
    "lk_fitter = LucasKanadeFitter(\n",
    "    template=template,\n",
    "    group='bounding_box',\n",
    "    features=no_op,\n",
    "    transform_cls=DifferentiableAlignmentAffine,\n",
    "    diagonal=100, \n",
    "    scales=(1, 0.5), \n",
    "    scale_features=True,\n",
    "    algorithm_cls=InverseCompositional,\n",
    "    residual_cls=GradientCorrelation)"
   ]
  },
  {
   "cell_type": "markdown",
   "metadata": {},
   "source": [
    "## Fit LK Fitter"
   ]
  },
  {
   "cell_type": "code",
   "execution_count": null,
   "metadata": {
    "collapsed": false
   },
   "outputs": [],
   "source": [
    "np.random.seed(seed=1)\n",
    "\n",
    "fitter_results = []\n",
    "\n",
    "for j, i in enumerate(test_images):\n",
    "    \n",
    "    gt_s = i.landmarks['bounding_box'].lms\n",
    "    s = lk_fitter.noisy_shape_from_shape(gt_s, noise_std=0.04)\n",
    "    \n",
    "    fr = lk_fitter.fit(i, s, gt_shape=gt_s, max_iters=20) \n",
    "    fr.downscale = 0.5\n",
    "    fitter_results.append(fr)\n",
    "    \n",
    "    print 'Image: ', j\n",
    "    print fr"
   ]
  },
  {
   "cell_type": "markdown",
   "metadata": {},
   "source": [
    "## Visualize Results"
   ]
  },
  {
   "cell_type": "code",
   "execution_count": null,
   "metadata": {
    "collapsed": false
   },
   "outputs": [],
   "source": [
    "visualize_fitting_result(fitter_results)"
   ]
  }
 ],
 "metadata": {
  "kernelspec": {
   "display_name": "Python 2",
   "language": "python",
   "name": "python2"
  },
  "language_info": {
   "codemirror_mode": {
    "name": "ipython",
    "version": 2
   },
   "file_extension": ".py",
   "mimetype": "text/x-python",
   "name": "python",
   "nbconvert_exporter": "python",
   "pygments_lexer": "ipython2",
   "version": "2.7.10"
  }
 },
 "nbformat": 4,
 "nbformat_minor": 0
}
