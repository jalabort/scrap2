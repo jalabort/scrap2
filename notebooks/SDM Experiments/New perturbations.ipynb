{
 "cells": [
  {
   "cell_type": "code",
   "execution_count": null,
   "metadata": {
    "collapsed": false
   },
   "outputs": [],
   "source": [
    "%matplotlib inline\n",
    "%pylab inline\n",
    "\n",
    "import menpo.io as mio\n",
    "from menpo.transform import (\n",
    "    AlignmentSimilarity, scale_about_centre, rotate_ccw_about_centre, Translation)\n",
    "from menpo.shape import PointCloud\n",
    "from menpo.landmark import labeller, ibug_face_66\n",
    "from menpo.visualize import visualize_images, print_dynamic\n",
    "\n",
    "from menpofit.builder import compute_reference_shape"
   ]
  },
  {
   "cell_type": "markdown",
   "metadata": {},
   "source": [
    "Define perturbation function:"
   ]
  },
  {
   "cell_type": "code",
   "execution_count": null,
   "metadata": {
    "collapsed": true
   },
   "outputs": [],
   "source": [
    "def noisy_similarity_alignment(source, target, noise_type='uniform', \n",
    "                               noise_percentage=0.1, rotation=False):\n",
    "    r\"\"\"\n",
    "    \"\"\"\n",
    "    if isinstance(noise_percentage, float):\n",
    "        noise_percentage= [noise_percentage] * 3\n",
    "    elif len(noise_percentage) == 1:\n",
    "        noise_percentage *= 3\n",
    "\n",
    "    similarity_transform = AlignmentSimilarity(source, target, rotation=rotation)\n",
    "    pc = similarity_transform.apply(source)\n",
    "    \n",
    "    if noise_type is 'normal':\n",
    "        #\n",
    "        scale = noise_percentage[0] * (0.5 / 3) * np.asscalar(np.random.randn(1))\n",
    "        #\n",
    "        rotation = noise_percentage[1] * (180 / 3) * np.asscalar(np.random.randn(1))\n",
    "        #\n",
    "        translation = noise_percentage[2] * (target.range() / 3) * np.random.randn(2) \n",
    "        pc = scale_about_centre(pc, 1 + scale).apply(pc)\n",
    "        pc = rotate_ccw_about_centre(pc, rotation).apply(pc)\n",
    "        pc = Translation(translation, source.n_dims).apply(pc)\n",
    "    elif noise_type is 'uniform':\n",
    "        #\n",
    "        scale = noise_percentage[0] * 0.5 * (2 * np.asscalar(np.random.randn(1)) - 1)\n",
    "        #\n",
    "        rotation = noise_percentage[1] * 180 * (2 * np.asscalar(np.random.rand(1)) - 1)\n",
    "        #\n",
    "        translation = noise_percentage[2] * target.range() * (2 * np.random.rand(2) - 1)\n",
    "        pc = scale_about_centre(pc, 1. + scale).apply(pc)\n",
    "        pc = rotate_ccw_about_centre(pc, rotation).apply(pc)\n",
    "        pc = Translation(translation, source.n_dims).apply(pc)\n",
    "        \n",
    "    return pc"
   ]
  },
  {
   "cell_type": "markdown",
   "metadata": {},
   "source": [
    "Load a bunch of shapes:"
   ]
  },
  {
   "cell_type": "code",
   "execution_count": null,
   "metadata": {
    "collapsed": false
   },
   "outputs": [],
   "source": [
    "shapes = []\n",
    "for lg in mio.import_landmark_files('/vol/atlas/databases/lfpw/trainset/*.pts', \n",
    "                                   verbose=True):\n",
    "    s = lg['all']\n",
    "    shapes.append(s)"
   ]
  },
  {
   "cell_type": "markdown",
   "metadata": {},
   "source": [
    "Compute a possible reference shape:"
   ]
  },
  {
   "cell_type": "code",
   "execution_count": null,
   "metadata": {
    "collapsed": true
   },
   "outputs": [],
   "source": [
    "source = compute_reference_shape(shapes, normalization_diagonal=200)"
   ]
  },
  {
   "cell_type": "markdown",
   "metadata": {},
   "source": [
    "Load an image:"
   ]
  },
  {
   "cell_type": "code",
   "execution_count": null,
   "metadata": {
    "collapsed": false
   },
   "outputs": [],
   "source": [
    "i = mio.import_image('/vol/atlas/databases/lfpw/trainset/image_0001.png')"
   ]
  },
  {
   "cell_type": "markdown",
   "metadata": {},
   "source": [
    "Set the parameters of the perturbation function:"
   ]
  },
  {
   "cell_type": "code",
   "execution_count": null,
   "metadata": {
    "collapsed": true
   },
   "outputs": [],
   "source": [
    "noise_percentage = 0.1\n",
    "n_perturbations = 100"
   ]
  },
  {
   "cell_type": "markdown",
   "metadata": {},
   "source": [
    "Generate perturbations using normal noise:"
   ]
  },
  {
   "cell_type": "code",
   "execution_count": null,
   "metadata": {
    "collapsed": false
   },
   "outputs": [],
   "source": [
    "target = i.landmarks['PTS'].lms\n",
    "for j in range(n_perturbations):\n",
    "    noisy_target = noisy_similarity_alignment(\n",
    "        source, target, noise_type='normal',\n",
    "        noise_percentage=noise_percentage)\n",
    "    i.landmarks['noisy_normal_' + str(j)] = noisy_target\n",
    "    if j == 0:\n",
    "        centres = noisy_target.centre()\n",
    "    else:\n",
    "        centres = np.vstack((centres, noisy_target.centre())) \n",
    "i.landmarks['centres_normal'] = PointCloud(centres)"
   ]
  },
  {
   "cell_type": "code",
   "execution_count": null,
   "metadata": {
    "collapsed": false
   },
   "outputs": [],
   "source": [
    "i.view_widget()"
   ]
  },
  {
   "cell_type": "markdown",
   "metadata": {},
   "source": [
    "Generate perturbations using uniform noise:"
   ]
  },
  {
   "cell_type": "code",
   "execution_count": null,
   "metadata": {
    "collapsed": false
   },
   "outputs": [],
   "source": [
    "i2 = i.copy()\n",
    "\n",
    "target = i2.landmarks['PTS'].lms\n",
    "for j in range(n_perturbations):\n",
    "    noisy_target = noisy_similarity_alignment(\n",
    "        source, target, noise_type='uniform',\n",
    "        noise_percentage=noise_percentage)\n",
    "    i2.landmarks['noisy_uniform_' + str(j)] = noisy_target\n",
    "    if j == 0:\n",
    "        centres = noisy_target.centre()\n",
    "    else:\n",
    "        centres = np.vstack((centres, noisy_target.centre())) \n",
    "i2.landmarks['centres_uniform'] = PointCloud(centres)"
   ]
  },
  {
   "cell_type": "code",
   "execution_count": null,
   "metadata": {
    "collapsed": false
   },
   "outputs": [],
   "source": [
    "i2.view_widget()"
   ]
  },
  {
   "cell_type": "markdown",
   "metadata": {},
   "source": [
    "Compare the centres of the shapes perturbed using both methods:"
   ]
  },
  {
   "cell_type": "code",
   "execution_count": null,
   "metadata": {
    "collapsed": false
   },
   "outputs": [],
   "source": [
    "i.view_landmarks(group='centres_normal', marker_size=1)"
   ]
  },
  {
   "cell_type": "code",
   "execution_count": null,
   "metadata": {
    "collapsed": false
   },
   "outputs": [],
   "source": [
    "i2.view_landmarks(group='centres_uniform', marker_size=1)"
   ]
  }
 ],
 "metadata": {
  "kernelspec": {
   "display_name": "Python 2",
   "language": "python",
   "name": "python2"
  },
  "language_info": {
   "codemirror_mode": {
    "name": "ipython",
    "version": 2
   },
   "file_extension": ".py",
   "mimetype": "text/x-python",
   "name": "python",
   "nbconvert_exporter": "python",
   "pygments_lexer": "ipython2",
   "version": "2.7.10"
  }
 },
 "nbformat": 4,
 "nbformat_minor": 0
}
