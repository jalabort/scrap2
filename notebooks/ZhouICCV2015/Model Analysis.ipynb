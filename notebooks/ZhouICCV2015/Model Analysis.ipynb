{
 "cells": [
  {
   "cell_type": "code",
   "execution_count": null,
   "metadata": {
    "collapsed": true
   },
   "outputs": [],
   "source": [
    "%matplotlib inline\n",
    "\n",
    "import numpy as np\n",
    "import matplotlib.pyplot as plt\n",
    "import pickle\n",
    "\n",
    "from menpo.shape import PointCloud, TriMesh\n",
    "from menpo.transform import PiecewiseAffine\n",
    "\n",
    "from menpofit.deformationfield.fitter import LinearWarp\n",
    "from menpofit.fittingresult import compute_error, compute_cumulative_error"
   ]
  },
  {
   "cell_type": "markdown",
   "metadata": {},
   "source": [
    "# Model Analysis"
   ]
  },
  {
   "cell_type": "markdown",
   "metadata": {},
   "source": [
    "Load model:"
   ]
  },
  {
   "cell_type": "code",
   "execution_count": null,
   "metadata": {
    "collapsed": false
   },
   "outputs": [],
   "source": [
    "model, transforms, rf, dense_shapes = pickle.load(open('/data/PhD/Models/zhouiccv2015/ear_model.pkl'))"
   ]
  },
  {
   "cell_type": "markdown",
   "metadata": {},
   "source": [
    "Visualize model mean:"
   ]
  },
  {
   "cell_type": "code",
   "execution_count": null,
   "metadata": {
    "collapsed": false
   },
   "outputs": [],
   "source": [
    "model.mean().view_widget()"
   ]
  },
  {
   "cell_type": "markdown",
   "metadata": {},
   "source": [
    "Print model and visualize its eigenspectrum:"
   ]
  },
  {
   "cell_type": "code",
   "execution_count": null,
   "metadata": {
    "collapsed": false
   },
   "outputs": [],
   "source": [
    "# set # of active components to toal number of components\n",
    "model.n_active_components = model.n_components\n",
    "\n",
    "model.plot_eigenvalues_cumulative_ratio()\n",
    "\n",
    "print model"
   ]
  },
  {
   "cell_type": "markdown",
   "metadata": {},
   "source": [
    "Visualize dense shape:"
   ]
  },
  {
   "cell_type": "code",
   "execution_count": null,
   "metadata": {
    "collapsed": false
   },
   "outputs": [],
   "source": [
    "from menpo.visualize import visualize_pointclouds\n",
    "\n",
    "visualize_pointclouds(dense_shapes)"
   ]
  },
  {
   "cell_type": "markdown",
   "metadata": {},
   "source": [
    "Obtain sparse shapes from dense ones:"
   ]
  },
  {
   "cell_type": "code",
   "execution_count": null,
   "metadata": {
    "collapsed": false
   },
   "outputs": [],
   "source": [
    "# set number of landmarks\n",
    "n_landmarks = 55\n",
    "\n",
    "sparse_shapes = [PointCloud(ds.points[:n_landmarks]) for ds in dense_shapes]"
   ]
  },
  {
   "cell_type": "markdown",
   "metadata": {},
   "source": [
    "Visualize sparse shapes:"
   ]
  },
  {
   "cell_type": "code",
   "execution_count": null,
   "metadata": {
    "collapsed": false
   },
   "outputs": [],
   "source": [
    "visualize_pointclouds(sparse_shapes)"
   ]
  },
  {
   "cell_type": "markdown",
   "metadata": {},
   "source": [
    "Obtain and visualize sparse landmarks on the reference frame:"
   ]
  },
  {
   "cell_type": "code",
   "execution_count": null,
   "metadata": {
    "collapsed": false
   },
   "outputs": [],
   "source": [
    "sparse_rf = PointCloud(rf.points[:n_landmarks])\n",
    "\n",
    "sparse_rf.view()"
   ]
  },
  {
   "cell_type": "markdown",
   "metadata": {},
   "source": [
    "Build PieceWiseAffine warp shapes:"
   ]
  },
  {
   "cell_type": "code",
   "execution_count": null,
   "metadata": {
    "collapsed": false
   },
   "outputs": [],
   "source": [
    "warp_shapes = [PiecewiseAffine(sparse_rf, ss).apply(rf) for ss in sparse_shapes]"
   ]
  },
  {
   "cell_type": "markdown",
   "metadata": {},
   "source": [
    "(This is the triangulation being used)"
   ]
  },
  {
   "cell_type": "code",
   "execution_count": null,
   "metadata": {
    "collapsed": false
   },
   "outputs": [],
   "source": [
    "TriMesh(sparse_rf.points).view()"
   ]
  },
  {
   "cell_type": "markdown",
   "metadata": {},
   "source": [
    "Visualize warp shapes:"
   ]
  },
  {
   "cell_type": "code",
   "execution_count": null,
   "metadata": {
    "collapsed": false
   },
   "outputs": [],
   "source": [
    "visualize_pointclouds(warp_shapes)"
   ]
  },
  {
   "cell_type": "markdown",
   "metadata": {},
   "source": [
    "How many components capture 95% of the model's variance?"
   ]
  },
  {
   "cell_type": "code",
   "execution_count": null,
   "metadata": {
    "collapsed": false
   },
   "outputs": [],
   "source": [
    "model.n_active_components = 0.95\n",
    "\n",
    "print \"{} components capture 95% of the model's variance.\".format(model.n_active_components)"
   ]
  },
  {
   "cell_type": "markdown",
   "metadata": {},
   "source": [
    "Build LinearWarp warp transform:"
   ]
  },
  {
   "cell_type": "code",
   "execution_count": null,
   "metadata": {
    "collapsed": false
   },
   "outputs": [],
   "source": [
    "lw = LinearWarp(model, [], n_landmarks=n_landmarks)"
   ]
  },
  {
   "cell_type": "markdown",
   "metadata": {},
   "source": [
    "Reconstruct dense shapes using the dense model (via the LinearWarp):"
   ]
  },
  {
   "cell_type": "code",
   "execution_count": null,
   "metadata": {
    "collapsed": false
   },
   "outputs": [],
   "source": [
    "variance_list = np.arange(0.1, 1.1, 0.1)\n",
    "\n",
    "dense_weights = []\n",
    "dense_reconstructions = []\n",
    "dense_errors = []\n",
    "for n in variance_list:\n",
    "    lw.model.n_active_components = n\n",
    "    dws = []\n",
    "    drs = []\n",
    "    des = []\n",
    "    for ds in dense_shapes:\n",
    "        # dense target\n",
    "        lw.set_target(ds)\n",
    "        dt = lw.target\n",
    "        dw = lw.as_vector()\n",
    "        de = compute_error(ds, dt)\n",
    "        dws.append(dw)\n",
    "        drs.append(dt)\n",
    "        des.append(de)\n",
    "    dense_weights.append(dws)\n",
    "    dense_reconstructions.append(drs)\n",
    "    dense_errors.append(des)"
   ]
  },
  {
   "cell_type": "markdown",
   "metadata": {},
   "source": [
    "Reconstruct sparse shapes and warp shapes using the dense model (also via the LinearWarp):"
   ]
  },
  {
   "cell_type": "code",
   "execution_count": null,
   "metadata": {
    "collapsed": false
   },
   "outputs": [],
   "source": [
    "variance_list = np.arange(0.1, 1.1, 0.1)\n",
    "\n",
    "sparse_weights = []\n",
    "sparse_reconstructions = []\n",
    "sparse_errors = []\n",
    "warp_reconstructions = []\n",
    "warp_errors = []\n",
    "for n in variance_list:\n",
    "    lw.model.n_active_components = n\n",
    "    sws = []\n",
    "    srs = []\n",
    "    ses = []\n",
    "    wrs = []\n",
    "    wes = []\n",
    "    for ss, ws in zip(sparse_shapes, warp_shapes):\n",
    "        # sparse target\n",
    "        lw.set_target(ss)\n",
    "        st = lw.sparse_target\n",
    "        sw = lw.as_vector()\n",
    "        se = compute_error(ss, st)\n",
    "        # piece-wise affine warp\n",
    "        wr = PiecewiseAffine(sparse_rf, st).apply(rf)\n",
    "        we = compute_error(ws, ww)\n",
    "        # add to lists\n",
    "        sws.append(sw)\n",
    "        srs.append(st)\n",
    "        ses.append(se)\n",
    "        wrs.append(wr)\n",
    "        wes.append(we)\n",
    "    # add to lists\n",
    "    sparse_weights.append(sws)\n",
    "    sparse_reconstructions.append(srs)\n",
    "    sparse_errors.append(ses)\n",
    "    warp_reconstructions.append(wrs)\n",
    "    warp_errors.append(wes)"
   ]
  },
  {
   "cell_type": "markdown",
   "metadata": {},
   "source": [
    "Plot dense shape reconstruction error:"
   ]
  },
  {
   "cell_type": "code",
   "execution_count": null,
   "metadata": {
    "collapsed": false
   },
   "outputs": [],
   "source": [
    "# define sensible range for the error\n",
    "x_axis = np.arange(0.0, 0.05, 0.0001)\n",
    "\n",
    "dense_cerrors = [compute_cumulative_error(e, x_axis=x_axis) for e in dense_errors]"
   ]
  },
  {
   "cell_type": "code",
   "execution_count": null,
   "metadata": {
    "collapsed": false
   },
   "outputs": [],
   "source": [
    "legend =  [str(100 * j) for j in variance_list]\n",
    "\n",
    "f = plt.figure()\n",
    "plt.plot(x_axis, np.asarray(dense_cerrors).T)\n",
    "plt.legend(legend, title='Model Variance')\n",
    "plt.title('Dense Reconstruction Error')\n",
    "f.set_size_inches((12, 6))"
   ]
  },
  {
   "cell_type": "markdown",
   "metadata": {},
   "source": [
    "Plot warp shapes reconstruction error:"
   ]
  },
  {
   "cell_type": "code",
   "execution_count": null,
   "metadata": {
    "collapsed": false
   },
   "outputs": [],
   "source": [
    "# define sensible range for the error\n",
    "x_axis = np.arange(0.0, 0.05, 0.0001)\n",
    "\n",
    "warp_cerrors = [compute_cumulative_error(e, x_axis=x_axis) for e in warpe_errors]"
   ]
  },
  {
   "cell_type": "code",
   "execution_count": null,
   "metadata": {
    "collapsed": false
   },
   "outputs": [],
   "source": [
    "legend =  [str(100 * j) for j in variance_list]\n",
    "\n",
    "f = plt.figure()\n",
    "plt.plot(x_axis, np.asarray(sparse_cerrors).T)\n",
    "plt.legend(legend, title='Model Variance')\n",
    "plt.title('Sparse Reconstruction Error')\n",
    "f.set_size_inches((12, 6))"
   ]
  },
  {
   "cell_type": "markdown",
   "metadata": {},
   "source": [
    "Plot sparse shapes reconstruction error:"
   ]
  },
  {
   "cell_type": "code",
   "execution_count": null,
   "metadata": {
    "collapsed": true
   },
   "outputs": [],
   "source": [
    "# define sensible range for the error\n",
    "x_axis = np.arange(0.0, 0.05, 0.0001)\n",
    "\n",
    "sparse_cerrors = [compute_cumulative_error(e, x_axis=x_axis) for e in sparse_errors]"
   ]
  },
  {
   "cell_type": "code",
   "execution_count": null,
   "metadata": {
    "collapsed": false
   },
   "outputs": [],
   "source": [
    "legend =  [str(100 * j) for j in variance_list]\n",
    "\n",
    "f = plt.figure()\n",
    "plt.plot(x_axis, np.asarray(warp_cerrors).T)\n",
    "plt.legend(legend, title='Model Variance')\n",
    "plt.title('Sparse Reconstruction Error')\n",
    "f.set_size_inches((12, 6))"
   ]
  },
  {
   "cell_type": "markdown",
   "metadata": {},
   "source": [
    "Visualize dense reconstructions:"
   ]
  },
  {
   "cell_type": "code",
   "execution_count": null,
   "metadata": {
    "collapsed": false
   },
   "outputs": [],
   "source": [
    "from menpo.visualize import visualize_pointclouds\n",
    "\n",
    "visualize_pointclouds(dense_reconstructions[-1])"
   ]
  },
  {
   "cell_type": "markdown",
   "metadata": {},
   "source": [
    "Visualize warp reconstructions:"
   ]
  },
  {
   "cell_type": "code",
   "execution_count": null,
   "metadata": {
    "collapsed": false
   },
   "outputs": [],
   "source": [
    "from menpo.visualize import visualize_pointclouds\n",
    "\n",
    "visualize_pointclouds(warp_reconstructions[-1])"
   ]
  },
  {
   "cell_type": "markdown",
   "metadata": {},
   "source": [
    "Visualize sparse reconstructions:"
   ]
  },
  {
   "cell_type": "code",
   "execution_count": null,
   "metadata": {
    "collapsed": false
   },
   "outputs": [],
   "source": [
    "from menpo.visualize import visualize_pointclouds\n",
    "\n",
    "visualize_pointclouds(sparse_reconstructions[-1])"
   ]
  },
  {
   "cell_type": "markdown",
   "metadata": {},
   "source": [
    "Explore model's parameter space:"
   ]
  },
  {
   "cell_type": "code",
   "execution_count": null,
   "metadata": {
    "collapsed": false
   },
   "outputs": [],
   "source": [
    "c1 = 5\n",
    "c2 = 6\n",
    "\n",
    "dws = np.asarray(dense_weights[-2])\n",
    "sws = np.asarray(sparse_weights[-2])\n",
    "\n",
    "dx = dws[:, c1]\n",
    "dy = dws[:, c2]\n",
    "\n",
    "sx = sws[:, c1]\n",
    "sy = sws[:, c2]\n",
    "\n",
    "\n",
    "plt.figure()\n",
    "plt.title('Dense Components')\n",
    "plt.scatter(dx, dy)\n",
    "\n",
    "plt.figure()\n",
    "plt.title('Sparse Components')\n",
    "plt.scatter(sx, sy)"
   ]
  }
 ],
 "metadata": {
  "kernelspec": {
   "display_name": "Python 2",
   "language": "python",
   "name": "python2"
  },
  "language_info": {
   "codemirror_mode": {
    "name": "ipython",
    "version": 2
   },
   "file_extension": ".py",
   "mimetype": "text/x-python",
   "name": "python",
   "nbconvert_exporter": "python",
   "pygments_lexer": "ipython2",
   "version": "2.7.9"
  }
 },
 "nbformat": 4,
 "nbformat_minor": 0
}
