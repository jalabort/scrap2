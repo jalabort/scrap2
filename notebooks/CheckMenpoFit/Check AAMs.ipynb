{
 "cells": [
  {
   "cell_type": "code",
   "execution_count": null,
   "metadata": {
    "collapsed": false
   },
   "outputs": [],
   "source": [
    "%matplotlib inline\n",
    "%pylab inline\n",
    "\n",
    "import menpo.io as mio\n",
    "from menpo.feature import fast_dsift, no_op\n",
    "from menpo.landmark import labeller, ibug_face_66\n",
    "from menpo.visualize import visualize_images\n",
    "\n",
    "from menpofit.aam import (\n",
    "    AAMBuilder, PatchAAMBuilder, LinearAAMBuilder, LinearPatchAAMBuilder, PartsAAMBuilder,\n",
    "    LKAAMFitter,\n",
    "    PIC, SIC, AIC, MAIC, WIC)\n",
    "from menpofit.visualize import visualize_aam"
   ]
  },
  {
   "cell_type": "markdown",
   "metadata": {},
   "source": [
    "## Load training data"
   ]
  },
  {
   "cell_type": "code",
   "execution_count": null,
   "metadata": {
    "collapsed": false
   },
   "outputs": [],
   "source": [
    "training_images = []\n",
    "for i in mio.import_images('/vol/atlas/databases/lfpw/trainset/', \n",
    "                           verbose=True, max_images=50):\n",
    "    labeller(i, 'PTS', ibug_face_66)\n",
    "    i.crop_to_landmarks_proportion_inplace(0.5, group='PTS')\n",
    "    if i.n_channels == 3:\n",
    "        i = i.as_greyscale(mode='average')\n",
    "    training_images.append(i)"
   ]
  },
  {
   "cell_type": "code",
   "execution_count": null,
   "metadata": {
    "collapsed": false
   },
   "outputs": [],
   "source": [
    "visualize_images(training_images)"
   ]
  },
  {
   "cell_type": "markdown",
   "metadata": {},
   "source": [
    "## Load test data"
   ]
  },
  {
   "cell_type": "code",
   "execution_count": null,
   "metadata": {
    "collapsed": false
   },
   "outputs": [],
   "source": [
    "test_images = []\n",
    "for i in mio.import_images('/vol/atlas/databases/lfpw/testset/', \n",
    "                           verbose=True, max_images=10):    \n",
    "    i.rescale_landmarks_to_diagonal_range(200)\n",
    "    i.crop_to_landmarks_proportion_inplace(0.5)\n",
    "    labeller(i, 'PTS', ibug_face_66)\n",
    "    if i.n_channels == 3:\n",
    "        i = i.as_greyscale(mode='average')\n",
    "    test_images.append(i)"
   ]
  },
  {
   "cell_type": "code",
   "execution_count": null,
   "metadata": {
    "collapsed": false
   },
   "outputs": [],
   "source": [
    "visualize_images(test_images)"
   ]
  },
  {
   "cell_type": "markdown",
   "metadata": {},
   "source": [
    "## Build Active Appearance Models"
   ]
  },
  {
   "cell_type": "code",
   "execution_count": null,
   "metadata": {
    "collapsed": true
   },
   "outputs": [],
   "source": [
    "features = fast_dsift\n",
    "diagonal = 100\n",
    "scales = (1, .5)\n",
    "scale_shapes = False\n",
    "scale_features = True\n",
    "max_shape_components= 25\n",
    "max_appearance_components = 200\n",
    "\n",
    "patch_shape = (17, 17)\n",
    "\n",
    "normalize_parts = no_op"
   ]
  },
  {
   "cell_type": "markdown",
   "metadata": {},
   "source": [
    "#### AAM"
   ]
  },
  {
   "cell_type": "code",
   "execution_count": null,
   "metadata": {
    "collapsed": false
   },
   "outputs": [],
   "source": [
    "aam_builder = AAMBuilder(\n",
    "    features=features,\n",
    "    diagonal=diagonal, \n",
    "    scales=scales, \n",
    "    scale_shapes=scale_shapes,\n",
    "    scale_features=scale_features,\n",
    "    max_shape_components=max_shape_components,\n",
    "    max_appearance_components=max_appearance_components)\n",
    "\n",
    "aam = aam_builder.build(\n",
    "    training_images, \n",
    "    group='ibug_face_66', \n",
    "    verbose=True)"
   ]
  },
  {
   "cell_type": "markdown",
   "metadata": {},
   "source": [
    "#### Patch based AAM"
   ]
  },
  {
   "cell_type": "code",
   "execution_count": null,
   "metadata": {
    "collapsed": false
   },
   "outputs": [],
   "source": [
    "patch_aam_builder = PatchAAMBuilder(\n",
    "    patch_shape=patch_shape,\n",
    "    features=features,\n",
    "    diagonal=diagonal, \n",
    "    scales=scales, \n",
    "    scale_shapes=scale_shapes,\n",
    "    scale_features=scale_features,\n",
    "    max_shape_components=max_shape_components,\n",
    "    max_appearance_components=max_appearance_components)\n",
    "\n",
    "patch_aam = patch_aam_builder.build(\n",
    "    training_images, \n",
    "    group='ibug_face_66', \n",
    "    verbose=True)"
   ]
  },
  {
   "cell_type": "markdown",
   "metadata": {},
   "source": [
    "#### Linear AAM"
   ]
  },
  {
   "cell_type": "code",
   "execution_count": null,
   "metadata": {
    "collapsed": false
   },
   "outputs": [],
   "source": [
    "linear_aam_builder = LinearAAMBuilder(\n",
    "    features=features,\n",
    "    diagonal=diagonal, \n",
    "    scales=scales, \n",
    "    scale_shapes=scale_shapes,\n",
    "    scale_features=scale_features,\n",
    "    max_shape_components=max_shape_components,\n",
    "    max_appearance_components=max_appearance_components)\n",
    "\n",
    "linear_aam = linear_aam_builder.build(\n",
    "    training_images, \n",
    "    group='ibug_face_66', \n",
    "    verbose=True)"
   ]
  },
  {
   "cell_type": "markdown",
   "metadata": {},
   "source": [
    "#### Linear Patch based AAM"
   ]
  },
  {
   "cell_type": "code",
   "execution_count": null,
   "metadata": {
    "collapsed": false
   },
   "outputs": [],
   "source": [
    "linear_patch_aam_builder = LinearPatchAAMBuilder(\n",
    "    patch_shape=patch_shape,\n",
    "    features=features,\n",
    "    diagonal=diagonal, \n",
    "    scales=scales, \n",
    "    scale_shapes=scale_shapes,\n",
    "    scale_features=scale_features,\n",
    "    max_shape_components=max_shape_components,\n",
    "    max_appearance_components=max_appearance_components)\n",
    "\n",
    "linear_patch_aam = linear_patch_aam_builder.build(\n",
    "    training_images, \n",
    "    group='ibug_face_66', \n",
    "    verbose=True)"
   ]
  },
  {
   "cell_type": "markdown",
   "metadata": {},
   "source": [
    "#### Parts based AAM"
   ]
  },
  {
   "cell_type": "code",
   "execution_count": null,
   "metadata": {
    "collapsed": false
   },
   "outputs": [],
   "source": [
    "parts_aam_builder = PartsAAMBuilder(\n",
    "    patch_shape=patch_shape, \n",
    "    features=features,\n",
    "    normalize_parts=normalize_parts,\n",
    "    diagonal=diagonal, \n",
    "    scales=scales, \n",
    "    scale_shapes=scale_shapes,\n",
    "    scale_features=scale_features,\n",
    "    max_shape_components=max_shape_components,\n",
    "    max_appearance_components=max_appearance_components)\n",
    "\n",
    "parts_aam = parts_aam_builder.build(\n",
    "    training_images, \n",
    "    group='ibug_face_66', \n",
    "    verbose=True)"
   ]
  },
  {
   "cell_type": "markdown",
   "metadata": {},
   "source": [
    "## Fit Active Appearance Models"
   ]
  },
  {
   "cell_type": "code",
   "execution_count": null,
   "metadata": {
    "collapsed": false
   },
   "outputs": [],
   "source": [
    "algorithm_cls = AIC\n",
    "\n",
    "sampling_step = 8"
   ]
  },
  {
   "cell_type": "markdown",
   "metadata": {},
   "source": [
    "#### AAM Fitter"
   ]
  },
  {
   "cell_type": "code",
   "execution_count": null,
   "metadata": {
    "collapsed": false
   },
   "outputs": [],
   "source": [
    "aam_fitter = LKAAMFitter(\n",
    "    aam, \n",
    "    algorithm_cls=algorithm_cls, \n",
    "    n_shape=[3, 12], \n",
    "    n_appearance=[25, 50],\n",
    "    sampling=sampling_step)"
   ]
  },
  {
   "cell_type": "markdown",
   "metadata": {},
   "source": [
    "#### Patch based AAM Fitter"
   ]
  },
  {
   "cell_type": "code",
   "execution_count": null,
   "metadata": {
    "collapsed": false
   },
   "outputs": [],
   "source": [
    "patch_aam_fitter = LKAAMFitter(\n",
    "    patch_aam, \n",
    "    algorithm_cls=algorithm_cls, \n",
    "    n_shape=[3, 12], \n",
    "    n_appearance=[25, 50],\n",
    "    sampling=sampling_step)"
   ]
  },
  {
   "cell_type": "markdown",
   "metadata": {},
   "source": [
    "#### Linear AAM Fitter"
   ]
  },
  {
   "cell_type": "code",
   "execution_count": null,
   "metadata": {
    "collapsed": false
   },
   "outputs": [],
   "source": [
    "linear_aam_fitter = LKAAMFitter(\n",
    "    linear_aam, \n",
    "    algorithm_cls=algorithm_cls, \n",
    "    n_shape=[3, 12], \n",
    "    n_appearance=[25, 50],\n",
    "    sampling=sampling_step)"
   ]
  },
  {
   "cell_type": "markdown",
   "metadata": {},
   "source": [
    "#### Linear Patch based AAM Fitter"
   ]
  },
  {
   "cell_type": "code",
   "execution_count": null,
   "metadata": {
    "collapsed": false
   },
   "outputs": [],
   "source": [
    "linear_patch_aam_fitter = LKAAMFitter(\n",
    "    linear_patch_aam, \n",
    "    algorithm_cls=algorithm_cls, \n",
    "    n_shape=[3, 12], \n",
    "    n_appearance=[25, 50],\n",
    "    sampling=sampling_step)"
   ]
  },
  {
   "cell_type": "markdown",
   "metadata": {},
   "source": [
    "#### Parts based AAM Fitter"
   ]
  },
  {
   "cell_type": "code",
   "execution_count": null,
   "metadata": {
    "collapsed": false
   },
   "outputs": [],
   "source": [
    "sampling_mask = parts_mask = np.require(np.zeros(patch_shape, dtype=np.bool))\n",
    "sampling_mask[2::4, 2::4] = True\n",
    "\n",
    "imshow(sampling_mask)"
   ]
  },
  {
   "cell_type": "code",
   "execution_count": null,
   "metadata": {
    "collapsed": false,
    "scrolled": true
   },
   "outputs": [],
   "source": [
    "parts_aam_fitter = LKAAMFitter(\n",
    "    parts_aam, \n",
    "    algorithm_cls=algorithm_cls, \n",
    "    n_shape=[3, 12], \n",
    "    n_appearance=[25, 50],\n",
    "    sampling=sampling_mask)"
   ]
  },
  {
   "cell_type": "markdown",
   "metadata": {},
   "source": [
    "#### Fitting loop"
   ]
  },
  {
   "cell_type": "code",
   "execution_count": null,
   "metadata": {
    "collapsed": false
   },
   "outputs": [],
   "source": [
    "#np.random.seed(seed=1)\n",
    "\n",
    "fitters = [aam_fitter,\n",
    "           patch_aam_fitter,\n",
    "           linear_aam_fitter,\n",
    "           linear_patch_aam_fitter,\n",
    "           parts_aam_fitter]\n",
    "\n",
    "fitters_results = [[]] * len(fitters)\n",
    "\n",
    "for j, i in enumerate(test_images):\n",
    "    \n",
    "    gt_s = i.landmarks['ibug_face_66'].lms\n",
    "    s = fitters[0].perturb_shape(gt_s, noise_std=20)\n",
    "\n",
    "    for k, fitter in enumerate(fitters):\n",
    "        \n",
    "        fr = fitter.fit(i, s, gt_shape=gt_s, max_iters=20) \n",
    "        fitters_results[k].append(fr)\n",
    "    \n",
    "        print 'Image: ', j\n",
    "        print fr"
   ]
  },
  {
   "cell_type": "markdown",
   "metadata": {},
   "source": [
    "## Visualize Results"
   ]
  },
  {
   "cell_type": "code",
   "execution_count": null,
   "metadata": {
    "collapsed": false
   },
   "outputs": [],
   "source": [
    "fitted_images = [fr.fitted_image for frs in fitters_results for fr in frs]"
   ]
  },
  {
   "cell_type": "code",
   "execution_count": null,
   "metadata": {
    "collapsed": false
   },
   "outputs": [],
   "source": [
    "visualize_images(fitted_images)"
   ]
  }
 ],
 "metadata": {
  "kernelspec": {
   "display_name": "Python 2",
   "language": "python",
   "name": "python2"
  },
  "language_info": {
   "codemirror_mode": {
    "name": "ipython",
    "version": 2
   },
   "file_extension": ".py",
   "mimetype": "text/x-python",
   "name": "python",
   "nbconvert_exporter": "python",
   "pygments_lexer": "ipython2",
   "version": "2.7.9"
  }
 },
 "nbformat": 4,
 "nbformat_minor": 0
}
