{
 "cells": [
  {
   "cell_type": "code",
   "execution_count": null,
   "metadata": {
    "collapsed": false
   },
   "outputs": [],
   "source": [
    "%matplotlib inline\n",
    "%pylab inline\n",
    "\n",
    "import menpo.io as mio\n",
    "from menpo.feature import fast_dsift, no_op, dsift, hog, sparse_hog\n",
    "from menpo.landmark import labeller, ibug_face_66\n",
    "from menpo.visualize import visualize_images\n",
    "\n",
    "from menpofit.sdm import CRFitter, SN, SGN\n",
    "from menpofit.visualize import visualize_fitting_result"
   ]
  },
  {
   "cell_type": "markdown",
   "metadata": {},
   "source": [
    "## Load training data"
   ]
  },
  {
   "cell_type": "code",
   "execution_count": null,
   "metadata": {
    "collapsed": false
   },
   "outputs": [],
   "source": [
    "training_images = []\n",
    "for i in mio.import_images('/vol/atlas/databases/lfpw/trainset/', \n",
    "                           verbose=True, max_images=None):\n",
    "    labeller(i, 'PTS', ibug_face_66)\n",
    "    i.crop_to_landmarks_proportion_inplace(0.1, group='PTS')\n",
    "    if i.n_channels == 3:\n",
    "        i = i.as_greyscale(mode='average')\n",
    "    training_images.append(i)"
   ]
  },
  {
   "cell_type": "code",
   "execution_count": null,
   "metadata": {
    "collapsed": false
   },
   "outputs": [],
   "source": [
    "visualize_images(training_images)"
   ]
  },
  {
   "cell_type": "markdown",
   "metadata": {},
   "source": [
    "## Load test data"
   ]
  },
  {
   "cell_type": "code",
   "execution_count": null,
   "metadata": {
    "collapsed": false
   },
   "outputs": [],
   "source": [
    "test_images = []\n",
    "for i in mio.import_images('/vol/atlas/databases/lfpw/testset/', \n",
    "                           verbose=True, max_images=None):    \n",
    "    i.rescale_landmarks_to_diagonal_range(200)\n",
    "    i.crop_to_landmarks_proportion_inplace(0.5)\n",
    "    labeller(i, 'PTS', ibug_face_66)\n",
    "    if i.n_channels == 3:\n",
    "        i = i.as_greyscale(mode='average')\n",
    "    test_images.append(i)"
   ]
  },
  {
   "cell_type": "code",
   "execution_count": null,
   "metadata": {
    "collapsed": false
   },
   "outputs": [],
   "source": [
    "visualize_images(test_images)"
   ]
  },
  {
   "cell_type": "markdown",
   "metadata": {},
   "source": [
    "## Train Supervised Fitter"
   ]
  },
  {
   "cell_type": "code",
   "execution_count": null,
   "metadata": {
    "collapsed": false
   },
   "outputs": [],
   "source": [
    "cr_algorithm_cls = SN\n",
    "features = [sparse_hog, sparse_hog]\n",
    "patch_shape = (17, 17)\n",
    "diagonal = 100\n",
    "scales = (1, .5)\n",
    "iterations = 10\n",
    "\n",
    "group = 'ibug_face_66'\n",
    "verbose = True\n",
    "gamma = 10000"
   ]
  },
  {
   "cell_type": "code",
   "execution_count": null,
   "metadata": {
    "collapsed": false
   },
   "outputs": [],
   "source": [
    "cr_fitter = CRFitter(\n",
    "    cr_algorithm_cls=cr_algorithm_cls,\n",
    "    features=features,\n",
    "    patch_shape=patch_shape,\n",
    "    diagonal=diagonal, \n",
    "    scales=scales,\n",
    "    iterations=iterations)\n",
    "    \n",
    "cr_fitter.train(    \n",
    "    training_images,\n",
    "    group=group,\n",
    "    verbose=verbose,\n",
    "    gamma=gamma)"
   ]
  },
  {
   "cell_type": "markdown",
   "metadata": {},
   "source": [
    "#### Fitting loop"
   ]
  },
  {
   "cell_type": "code",
   "execution_count": null,
   "metadata": {
    "collapsed": false
   },
   "outputs": [],
   "source": [
    "fitters = [cr_fitter]\n",
    "\n",
    "fitters_results = []\n",
    "\n",
    "for j, i in enumerate(test_images):\n",
    "    \n",
    "    gt_s = i.landmarks['ibug_face_66'].lms\n",
    "    s = fitters[0].noisy_shape_from_shape(gt_s, noise_std=0.04)\n",
    "\n",
    "    for fitter in fitters:\n",
    "        \n",
    "        fr = fitter.fit(i, s, gt_shape=gt_s) \n",
    "        fr.downscale = 0.5\n",
    "        fitters_results.append(fr)\n",
    "    \n",
    "        print 'Image: ', j\n",
    "        print fr"
   ]
  },
  {
   "cell_type": "markdown",
   "metadata": {},
   "source": [
    "## Visualize Results"
   ]
  },
  {
   "cell_type": "code",
   "execution_count": null,
   "metadata": {
    "collapsed": true
   },
   "outputs": [],
   "source": [
    "visualize_fitting_result(fitters_results)"
   ]
  },
  {
   "cell_type": "code",
   "execution_count": null,
   "metadata": {
    "collapsed": false
   },
   "outputs": [],
   "source": [
    "visualize_fitting_result(fitters_results)"
   ]
  }
 ],
 "metadata": {
  "kernelspec": {
   "display_name": "Python 2",
   "language": "python",
   "name": "python2"
  },
  "language_info": {
   "codemirror_mode": {
    "name": "ipython",
    "version": 2
   },
   "file_extension": ".py",
   "mimetype": "text/x-python",
   "name": "python",
   "nbconvert_exporter": "python",
   "pygments_lexer": "ipython2",
   "version": "2.7.9"
  }
 },
 "nbformat": 4,
 "nbformat_minor": 0
}
