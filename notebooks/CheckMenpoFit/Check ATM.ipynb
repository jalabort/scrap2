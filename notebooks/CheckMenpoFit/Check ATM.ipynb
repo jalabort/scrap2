{
 "cells": [
  {
   "cell_type": "code",
   "execution_count": null,
   "metadata": {
    "collapsed": false
   },
   "outputs": [],
   "source": [
    "%matplotlib inline\n",
    "%pylab inline\n",
    "\n",
    "import menpo.io as mio\n",
    "from menpo.feature import fast_dsift, no_op\n",
    "from menpo.landmark import labeller, ibug_face_66\n",
    "from menpo.visualize import visualize_images\n",
    "\n",
    "from menpofit.atm import (\n",
    "    ATMBuilder, PatchATMBuilder, LinearATMBuilder, LinearPatchATMBuilder, PartsATMBuilder,\n",
    "    LKATMFitter, \n",
    "    FC, IC)\n",
    "from menpofit.transform import DifferentiableAlignmentAffine\n",
    "from menpofit.visualize import visualize_fitting_result"
   ]
  },
  {
   "cell_type": "markdown",
   "metadata": {},
   "source": [
    "## Load data"
   ]
  },
  {
   "cell_type": "code",
   "execution_count": null,
   "metadata": {
    "collapsed": false
   },
   "outputs": [],
   "source": [
    "images = []\n",
    "for i in mio.import_images('/vol/atlas/databases/lfpw/trainset/', \n",
    "                           verbose=True, max_images=100):\n",
    "    labeller(i, 'PTS', ibug_face_66)\n",
    "    i.crop_to_landmarks_proportion(0.5, group='PTS')\n",
    "    if i.n_channels == 3:\n",
    "        i = i.as_greyscale(mode='average')\n",
    "    images.append(i)"
   ]
  },
  {
   "cell_type": "code",
   "execution_count": null,
   "metadata": {
    "collapsed": true
   },
   "outputs": [],
   "source": [
    "template = images[0]\n",
    "shapes = [i.landmarks['ibug_face_66'].lms for i in images]\n",
    "test_images = images[:5]"
   ]
  },
  {
   "cell_type": "code",
   "execution_count": null,
   "metadata": {
    "collapsed": false
   },
   "outputs": [],
   "source": [
    "visualize_images(template)"
   ]
  },
  {
   "cell_type": "code",
   "execution_count": null,
   "metadata": {
    "collapsed": false
   },
   "outputs": [],
   "source": [
    "visualize_images(test_images)"
   ]
  },
  {
   "cell_type": "markdown",
   "metadata": {},
   "source": [
    "## Build Active Template Models"
   ]
  },
  {
   "cell_type": "code",
   "execution_count": null,
   "metadata": {
    "collapsed": false
   },
   "outputs": [],
   "source": [
    "features = fast_dsift\n",
    "diagonal = 100\n",
    "scales = (1, .5)\n",
    "scale_shapes = False\n",
    "scale_features = True\n",
    "max_shape_components= 25\n",
    "\n",
    "patch_shape = (17, 17)\n",
    "\n",
    "normalize_parts = no_op"
   ]
  },
  {
   "cell_type": "markdown",
   "metadata": {},
   "source": [
    "#### ATM"
   ]
  },
  {
   "cell_type": "code",
   "execution_count": null,
   "metadata": {
    "collapsed": false
   },
   "outputs": [],
   "source": [
    "atm_builder = ATMBuilder(\n",
    "    features=features,\n",
    "    diagonal=diagonal, \n",
    "    scales=scales, \n",
    "    scale_shapes=scale_shapes,\n",
    "    scale_features=scale_features,\n",
    "    max_shape_components=max_shape_components)\n",
    "\n",
    "atm = atm_builder.build(\n",
    "    shapes,\n",
    "    template, \n",
    "    group='ibug_face_66', \n",
    "    verbose=True)"
   ]
  },
  {
   "cell_type": "markdown",
   "metadata": {},
   "source": [
    "#### Patch based ATM"
   ]
  },
  {
   "cell_type": "code",
   "execution_count": null,
   "metadata": {
    "collapsed": false
   },
   "outputs": [],
   "source": [
    "patch_atm_builder = PatchATMBuilder(\n",
    "    patch_shape=patch_shape,\n",
    "    features=features,\n",
    "    diagonal=diagonal, \n",
    "    scales=scales, \n",
    "    scale_shapes=scale_shapes,\n",
    "    scale_features=scale_features,\n",
    "    max_shape_components=max_shape_components)\n",
    "\n",
    "patch_atm = patch_atm_builder.build(\n",
    "    shapes,\n",
    "    template, \n",
    "    group='ibug_face_66', \n",
    "    verbose=True)"
   ]
  },
  {
   "cell_type": "markdown",
   "metadata": {},
   "source": [
    "#### Linear ATM"
   ]
  },
  {
   "cell_type": "code",
   "execution_count": null,
   "metadata": {
    "collapsed": false
   },
   "outputs": [],
   "source": [
    "linear_atm_builder = LinearATMBuilder(\n",
    "    features=features,\n",
    "    diagonal=diagonal, \n",
    "    scales=scales, \n",
    "    scale_shapes=scale_shapes,\n",
    "    scale_features=scale_features,\n",
    "    max_shape_components=max_shape_components)\n",
    "\n",
    "linear_atm = linear_atm_builder.build(\n",
    "    shapes,\n",
    "    template, \n",
    "    group='ibug_face_66', \n",
    "    verbose=True)"
   ]
  },
  {
   "cell_type": "markdown",
   "metadata": {},
   "source": [
    "#### Linear Patch based ATM"
   ]
  },
  {
   "cell_type": "code",
   "execution_count": null,
   "metadata": {
    "collapsed": false
   },
   "outputs": [],
   "source": [
    "linear_patch_atm_builder = LinearPatchATMBuilder(\n",
    "    patch_shape=patch_shape,\n",
    "    features=features,\n",
    "    diagonal=diagonal, \n",
    "    scales=scales, \n",
    "    scale_shapes=scale_shapes,\n",
    "    scale_features=scale_features,\n",
    "    max_shape_components=max_shape_components)\n",
    "\n",
    "linear_patch_atm = linear_patch_atm_builder.build(\n",
    "    shapes,\n",
    "    template, \n",
    "    group='ibug_face_66', \n",
    "    verbose=True)"
   ]
  },
  {
   "cell_type": "markdown",
   "metadata": {},
   "source": [
    "#### Parts based ATM"
   ]
  },
  {
   "cell_type": "code",
   "execution_count": null,
   "metadata": {
    "collapsed": false
   },
   "outputs": [],
   "source": [
    "parts_atm_builder = PartsATMBuilder(\n",
    "    patch_shape=patch_shape, \n",
    "    features=features,\n",
    "    normalize_parts=normalize_parts,\n",
    "    diagonal=diagonal, \n",
    "    scales=scales, \n",
    "    scale_shapes=scale_shapes,\n",
    "    scale_features=scale_features,\n",
    "    max_shape_components=max_shape_components)\n",
    "\n",
    "parts_atm = parts_atm_builder.build(\n",
    "    shapes,\n",
    "    template, \n",
    "    group='ibug_face_66', \n",
    "    verbose=True)"
   ]
  },
  {
   "cell_type": "markdown",
   "metadata": {},
   "source": [
    "## Fit Active Template Models"
   ]
  },
  {
   "cell_type": "code",
   "execution_count": null,
   "metadata": {
    "collapsed": true
   },
   "outputs": [],
   "source": [
    "algorithm_cls = IC\n",
    "sampling_step = 8"
   ]
  },
  {
   "cell_type": "markdown",
   "metadata": {},
   "source": [
    "#### ATM Fitter"
   ]
  },
  {
   "cell_type": "code",
   "execution_count": null,
   "metadata": {
    "collapsed": false
   },
   "outputs": [],
   "source": [
    "atm_fitter = LKATMFitter(\n",
    "    atm, \n",
    "    algorithm_cls=algorithm_cls, \n",
    "    n_shape=[3, 12],\n",
    "    sampling=sampling_step)"
   ]
  },
  {
   "cell_type": "markdown",
   "metadata": {},
   "source": [
    "#### Patch based ATM Fitter"
   ]
  },
  {
   "cell_type": "code",
   "execution_count": null,
   "metadata": {
    "collapsed": false
   },
   "outputs": [],
   "source": [
    "patch_atm_fitter = LKATMFitter(\n",
    "    patch_atm, \n",
    "    algorithm_cls=algorithm_cls, \n",
    "    n_shape=[3, 12],\n",
    "    sampling=sampling_step)"
   ]
  },
  {
   "cell_type": "markdown",
   "metadata": {},
   "source": [
    "#### Linear ATM Fitter"
   ]
  },
  {
   "cell_type": "code",
   "execution_count": null,
   "metadata": {
    "collapsed": true
   },
   "outputs": [],
   "source": [
    "linear_atm_fitter = LKATMFitter(\n",
    "    linear_atm, \n",
    "    algorithm_cls=algorithm_cls, \n",
    "    n_shape=[3, 12],\n",
    "    sampling=sampling_step)"
   ]
  },
  {
   "cell_type": "markdown",
   "metadata": {},
   "source": [
    "#### Linear Patch ATM Fitter"
   ]
  },
  {
   "cell_type": "code",
   "execution_count": null,
   "metadata": {
    "collapsed": true
   },
   "outputs": [],
   "source": [
    "linear_patch_atm_fitter = LKATMFitter(\n",
    "    linear_patch_atm, \n",
    "    algorithm_cls=algorithm_cls, \n",
    "    n_shape=[3, 12],\n",
    "    sampling=sampling_step)"
   ]
  },
  {
   "cell_type": "markdown",
   "metadata": {},
   "source": [
    "#### Parts based ATM Fitter"
   ]
  },
  {
   "cell_type": "code",
   "execution_count": null,
   "metadata": {
    "collapsed": false
   },
   "outputs": [],
   "source": [
    "sampling_mask = parts_mask = np.require(np.zeros(patch_shape, dtype=np.bool))\n",
    "sampling_mask[2::3, 2::3] = True\n",
    "\n",
    "imshow(sampling_mask)"
   ]
  },
  {
   "cell_type": "code",
   "execution_count": null,
   "metadata": {
    "collapsed": false
   },
   "outputs": [],
   "source": [
    "parts_atm_fitter = LKATMFitter(\n",
    "    parts_atm, \n",
    "    algorithm_cls=algorithm_cls, \n",
    "    n_shape=[3, 12],\n",
    "    sampling=sampling_mask)"
   ]
  },
  {
   "cell_type": "markdown",
   "metadata": {},
   "source": [
    "#### Fitting loop"
   ]
  },
  {
   "cell_type": "code",
   "execution_count": null,
   "metadata": {
    "collapsed": false
   },
   "outputs": [],
   "source": [
    "fitters = [atm_fitter,\n",
    "           patch_atm_fitter,\n",
    "           linear_atm_fitter,\n",
    "           linear_patch_atm_fitter,\n",
    "           parts_atm_fitter]\n",
    "\n",
    "fitters_results = []\n",
    "\n",
    "for j, i in enumerate(test_images):\n",
    "    \n",
    "    gt_s = i.landmarks['ibug_face_66'].lms\n",
    "    s = fitters[0].noisy_shape_from_shape(gt_s, noise_std=0.04)\n",
    "\n",
    "    for fitter in fitters:\n",
    "        \n",
    "        fr = fitter.fit(i, s, gt_shape=gt_s, max_iters=20) \n",
    "        fr.downscale = 0.5\n",
    "        fitters_results.append(fr)\n",
    "    \n",
    "        print 'Image: ', j\n",
    "        print fr"
   ]
  },
  {
   "cell_type": "markdown",
   "metadata": {},
   "source": [
    "## Visualize Results"
   ]
  },
  {
   "cell_type": "code",
   "execution_count": null,
   "metadata": {
    "collapsed": false
   },
   "outputs": [],
   "source": [
    "visualize_fitting_result(fitters_results)"
   ]
  }
 ],
 "metadata": {
  "kernelspec": {
   "display_name": "Python 2",
   "language": "python",
   "name": "python2"
  },
  "language_info": {
   "codemirror_mode": {
    "name": "ipython",
    "version": 2
   },
   "file_extension": ".py",
   "mimetype": "text/x-python",
   "name": "python",
   "nbconvert_exporter": "python",
   "pygments_lexer": "ipython2",
   "version": "2.7.9"
  }
 },
 "nbformat": 4,
 "nbformat_minor": 0
}
