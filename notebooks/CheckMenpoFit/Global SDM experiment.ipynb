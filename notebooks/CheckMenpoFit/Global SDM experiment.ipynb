{
 "cells": [
  {
   "cell_type": "code",
   "execution_count": null,
   "metadata": {
    "collapsed": false
   },
   "outputs": [],
   "source": [
    "%matplotlib inline\n",
    "%pylab inline\n",
    "\n",
    "import menpo.io as mio\n",
    "from menpo.model import PCAModel\n",
    "from menpo.shape import PointCloud, mean_pointcloud\n",
    "from menpo.transform import AlignmentSimilarity\n",
    "from menpo.feature import fast_dsift, no_op, dsift, hog, sparse_hog\n",
    "from menpo.landmark import labeller, ibug_face_66, ibug_face_49\n",
    "from menpo.visualize import visualize_images, visualize_pointclouds\n",
    "\n",
    "from menpofit.builder import build_shape_model\n",
    "from menpofit.fitter import noisy_align\n",
    "from menpofit.visualize import visualize_shape_model\n",
    "\n",
    "from menpofit.sdm.algorithm import compute_patch_features"
   ]
  },
  {
   "cell_type": "code",
   "execution_count": null,
   "metadata": {
    "collapsed": false
   },
   "outputs": [],
   "source": [
    "def perturb_shapes_using_shape_model(shapes, sm, n_perturbations, rigid_noise=0.05, \n",
    "                                     non_rigid_noise=0.01):\n",
    "    perturbed_shapes = []\n",
    "    delta_shapes = []\n",
    "    for s in shapes:\n",
    "        for _ in range(n_perturbations):\n",
    "            p_s = perturb_shape_using_shape_model(s, sm, rigid_noise=rigid_noise, \n",
    "                                                  non_rigid_noise=non_rigid_noise)\n",
    "            perturbed_shapes.append(p_s)\n",
    "            delta_shapes.append(PointCloud(s.points - p_s.points))\n",
    "        \n",
    "    return perturbed_shapes, delta_shapes\n",
    "\n",
    "def perturb_shape_using_shape_model(shape, sm, rigid_noise=0.04, non_rigid_noise=0.04):\n",
    "    aligned_shape = AlignmentSimilarity(shape, sm.mean()).apply(shape)\n",
    "    \n",
    "    shape_parameters = sm.project(aligned_shape)\n",
    "    shape_parameters += (non_rigid_noise * sm.eigenvalues**0.5 * \n",
    "                         np.random.randn(len(shape_parameters)))\n",
    "    perturbed_shape = sm.instance(shape_parameters)\n",
    "    \n",
    "    return noisy_align(AlignmentSimilarity, perturbed_shape.bounding_box(), \n",
    "                       shape.bounding_box(), noise_std=rigid_noise, \n",
    "                       rotation=False).apply(perturbed_shape)    "
   ]
  },
  {
   "cell_type": "code",
   "execution_count": null,
   "metadata": {
    "collapsed": false
   },
   "outputs": [],
   "source": [
    "training_images = []\n",
    "for i in mio.import_images('/vol/atlas/databases/lfpw/trainset/', \n",
    "                           verbose=True, max_images=100):\n",
    "    i.rescale_landmarks_to_diagonal_range(100)\n",
    "    i.crop_to_landmarks_proportion_inplace(0.5)\n",
    "    labeller(i, 'PTS', ibug_face_66)\n",
    "    labeller(i, 'PTS', ibug_face_49)\n",
    "    if i.n_channels == 3:\n",
    "        i = i.as_greyscale(mode='average')\n",
    "    training_images.append(i)"
   ]
  },
  {
   "cell_type": "code",
   "execution_count": null,
   "metadata": {
    "collapsed": false
   },
   "outputs": [],
   "source": [
    "# extract shapes\n",
    "shapes = [i.landmarks['ibug_face_49'].lms for i in training_images]\n",
    "\n",
    "m = mean_pointcloud(shapes)"
   ]
  },
  {
   "cell_type": "code",
   "execution_count": null,
   "metadata": {
    "collapsed": false
   },
   "outputs": [],
   "source": [
    "l = [i.align_to_reference_shape(m, group='ibug_face_49') for i in training_images]"
   ]
  },
  {
   "cell_type": "code",
   "execution_count": null,
   "metadata": {
    "collapsed": false
   },
   "outputs": [],
   "source": [
    "visualize_images(l)"
   ]
  },
  {
   "cell_type": "code",
   "execution_count": null,
   "metadata": {
    "collapsed": false
   },
   "outputs": [],
   "source": [
    "visualize_images(training_images)"
   ]
  },
  {
   "cell_type": "code",
   "execution_count": null,
   "metadata": {
    "collapsed": false
   },
   "outputs": [],
   "source": [
    "# extract shapes\n",
    "shapes = [i.landmarks['ibug_face_49'].lms for i in training_images]\n",
    "\n",
    "# build shape model\n",
    "sm = build_shape_model(shapes)"
   ]
  },
  {
   "cell_type": "code",
   "execution_count": null,
   "metadata": {
    "collapsed": true
   },
   "outputs": [],
   "source": [
    "n_perturbations = 10\n",
    "rigid_noise = 0.02\n",
    "non_rigid_noise = None\n",
    "patch_shape = (17, 17)\n",
    "features_callable = fast_dsift"
   ]
  },
  {
   "cell_type": "code",
   "execution_count": null,
   "metadata": {
    "collapsed": false
   },
   "outputs": [],
   "source": [
    "features = []\n",
    "for (s, i) in zip(shapes, training_images):\n",
    "    features.append(compute_patch_features(i, s, patch_shape, features_callable))\n",
    "\n",
    "f_mean = np.mean(features, axis=0)"
   ]
  },
  {
   "cell_type": "code",
   "execution_count": null,
   "metadata": {
    "collapsed": false
   },
   "outputs": [],
   "source": [
    "augmented_training_images = []\n",
    "perturbed_shapes = []\n",
    "delta_shapes = []\n",
    "delta_features = []\n",
    "\n",
    "for (s, i) in zip(shapes, training_images):\n",
    "    #f = compute_patch_features(i, s, patch_shape, features_callable)\n",
    "    \n",
    "    for _ in range(n_perturbations):\n",
    "        if non_rigid_noise is not None:\n",
    "            p_s = perturb_shape_using_shape_model(s, sm, rigid_noise=rigid_noise, \n",
    "                                                  non_rigid_noise=non_rigid_noise)\n",
    "        else:\n",
    "            p_s = noisy_align(AlignmentSimilarity, sm.mean(), \n",
    "                              s, noise_std=rigid_noise, \n",
    "                              rotation=True).apply(sm.mean())    \n",
    "        perturbed_shapes.append(p_s)\n",
    "        \n",
    "        delta_shapes.append(s.from_vector(s.points - p_s.points))\n",
    "        \n",
    "        p_f = compute_patch_features(i, p_s, patch_shape, features_callable)\n",
    "        delta_features.append(PointCloud(f_mean.ravel() - p_f.ravel()))\n",
    "        \n",
    "        \n",
    "        img = i.copy()\n",
    "        img.landmarks['perturbed'] = p_s\n",
    "        augmented_training_images.append(img)"
   ]
  },
  {
   "cell_type": "code",
   "execution_count": null,
   "metadata": {
    "collapsed": false
   },
   "outputs": [],
   "source": [
    "# build delta shape model\n",
    "delta_sm = PCAModel(delta_shapes)\n",
    "\n",
    "# build delta features model\n",
    "delta_fm = PCAModel(delta_features)"
   ]
  },
  {
   "cell_type": "code",
   "execution_count": null,
   "metadata": {
    "collapsed": false
   },
   "outputs": [],
   "source": [
    "visualize_shape_model(delta_sm)"
   ]
  },
  {
   "cell_type": "code",
   "execution_count": null,
   "metadata": {
    "collapsed": false
   },
   "outputs": [],
   "source": [
    "visualize_images(augmented_training_images)"
   ]
  },
  {
   "cell_type": "code",
   "execution_count": null,
   "metadata": {
    "collapsed": false
   },
   "outputs": [],
   "source": [
    "delta_shape_params = []\n",
    "for d_s in delta_shapes:\n",
    "    delta_shape_params.append(delta_sm.project(d_s))\n",
    "    \n",
    "delta_shape_params = np.asarray(delta_shape_params)"
   ]
  },
  {
   "cell_type": "code",
   "execution_count": null,
   "metadata": {
    "collapsed": false
   },
   "outputs": [],
   "source": [
    "scatter(delta_shape_params[:, 0], delta_shape_params[:, 1])"
   ]
  },
  {
   "cell_type": "code",
   "execution_count": null,
   "metadata": {
    "collapsed": false
   },
   "outputs": [],
   "source": [
    "delta_features_params = []\n",
    "for d_f in delta_features:\n",
    "    delta_features_params.append(delta_fm.project(d_f))\n",
    "    \n",
    "delta_features_params = np.asarray(delta_features_params)"
   ]
  },
  {
   "cell_type": "code",
   "execution_count": null,
   "metadata": {
    "collapsed": false
   },
   "outputs": [],
   "source": [
    "scatter(delta_features_params[:, 0], delta_features_params[:, 1])"
   ]
  },
  {
   "cell_type": "code",
   "execution_count": null,
   "metadata": {
    "collapsed": false
   },
   "outputs": [],
   "source": [
    "quad_images = [[], [], [], [], [], [], [], []]\n",
    "quad_deltas = [[], [], [], [], [], [], [], []]\n",
    "quad_shapes = [[], [], [], [], [], [], [], []]\n",
    "\n",
    "for (d_p, d_f, d_s, i) in zip(delta_shape_params, delta_features_params, delta_shapes, augmented_training_images):\n",
    "    if d_p[0] >= 0:\n",
    "        if d_p[1] >= 0:\n",
    "            if d_p[2] >= 0:\n",
    "                quad_images[0].append(i)\n",
    "                quad_deltas[0].append(d_p)\n",
    "                quad_shapes[0].append(d_s)\n",
    "            else:\n",
    "                quad_images[1].append(i)\n",
    "                quad_deltas[1].append(d_p)\n",
    "                quad_shapes[1].append(d_s)\n",
    "        else:\n",
    "            if d_p[2] >= 0:\n",
    "                quad_images[2].append(i)\n",
    "                quad_deltas[2].append(d_p)\n",
    "                quad_shapes[2].append(d_s)\n",
    "            else:\n",
    "                quad_images[3].append(i)\n",
    "                quad_deltas[3].append(d_p)\n",
    "                quad_shapes[3].append(d_s)\n",
    "    else:\n",
    "        if d_p[1] >= 0:\n",
    "            if d_p[2] >= 0:\n",
    "                quad_images[4].append(i)\n",
    "                quad_deltas[4].append(d_p)\n",
    "                quad_shapes[4].append(d_s)\n",
    "            else:\n",
    "                quad_images[5].append(i)\n",
    "                quad_deltas[5].append(d_p)\n",
    "                quad_shapes[5].append(d_s)\n",
    "        else:\n",
    "            if d_p[2] >= 0:\n",
    "                quad_images[6].append(i)\n",
    "                quad_deltas[6].append(d_p)\n",
    "                quad_shapes[6].append(d_s)\n",
    "            else:\n",
    "                quad_images[7].append(i)\n",
    "                quad_deltas[7].append(d_p)\n",
    "                quad_shapes[7].append(d_s)"
   ]
  },
  {
   "cell_type": "code",
   "execution_count": null,
   "metadata": {
    "collapsed": false
   },
   "outputs": [],
   "source": [
    "quad_images = [[], [], [], []]\n",
    "quad_deltas = [[], [], [], []]\n",
    "quad_shapes = [[], [], [], []]\n",
    "\n",
    "count = 0\n",
    "for (d_p, d_s, i) in zip(delta_shape_params, delta_shapes, augmented_training_images):\n",
    "    if d_p[0] >= 0:\n",
    "        if d_p[1] >= 0:\n",
    "            quad_images[0].append(i)\n",
    "            quad_deltas[0].append(d_p)\n",
    "            quad_shapes[0].append(d_s)\n",
    "        else:\n",
    "            quad_images[1].append(i)\n",
    "            quad_deltas[1].append(d_p)\n",
    "            quad_shapes[1].append(d_s)\n",
    "    else:\n",
    "        if d_p[1] >= 0:\n",
    "            quad_images[2].append(i)\n",
    "            quad_deltas[2].append(d_p)\n",
    "            quad_shapes[2].append(d_s)\n",
    "        else:\n",
    "            quad_images[3].append(i)\n",
    "            quad_deltas[3].append(d_p)\n",
    "            quad_shapes[3].append(d_s)\n",
    "    count +=1"
   ]
  },
  {
   "cell_type": "code",
   "execution_count": null,
   "metadata": {
    "collapsed": false
   },
   "outputs": [],
   "source": [
    "print len(augmented_training_images)\n",
    "print len(delta_shapes)"
   ]
  },
  {
   "cell_type": "code",
   "execution_count": null,
   "metadata": {
    "collapsed": false
   },
   "outputs": [],
   "source": [
    "visualize_images(quad_images[3])"
   ]
  },
  {
   "cell_type": "code",
   "execution_count": null,
   "metadata": {
    "collapsed": false
   },
   "outputs": [],
   "source": [
    "print '1st quadrant:', len(quad_deltas[0]) \n",
    "print '2nd quadrant:', len(quad_deltas[1]) \n",
    "print '3rd quadrant:', len(quad_deltas[2]) \n",
    "print '4th quadrant:', len(quad_deltas[3]) \n",
    "# print '5th quadrant:', len(quad_deltas[4]) \n",
    "# print '6th quadrant:', len(quad_deltas[5]) \n",
    "# print '7th quadrant:', len(quad_deltas[6]) \n",
    "# print '8th quadrant:', len(quad_deltas[7]) "
   ]
  },
  {
   "cell_type": "code",
   "execution_count": null,
   "metadata": {
    "collapsed": false
   },
   "outputs": [],
   "source": [
    "mean_pointcloud(quad_shapes[0]).view(marker_face_colour='b')\n",
    "mean_pointcloud(quad_shapes[1]).view(marker_face_colour='r')\n",
    "mean_pointcloud(quad_shapes[2]).view(marker_face_colour='g')\n",
    "mean_pointcloud(quad_shapes[3]).view(marker_face_colour='y')\n",
    "# mean_pointcloud(quad_shapes[4]).view(marker_face_colour='m')\n",
    "# mean_pointcloud(quad_shapes[5]).view(marker_face_colour='c')\n",
    "# mean_pointcloud(quad_shapes[6]).view(marker_face_colour='k')\n",
    "# mean_pointcloud(quad_shapes[7]).view(marker_face_colour='w')"
   ]
  },
  {
   "cell_type": "code",
   "execution_count": null,
   "metadata": {
    "collapsed": false
   },
   "outputs": [],
   "source": [
    "colours = ['b','r','g','y','m','c','k','w']\n",
    "\n",
    "figure(figsize=(16, 12))\n",
    "for (delta_s, c) in zip(quad_shapes, colours):\n",
    "    for s in delta_s:\n",
    "        p = np.mean(s.points, axis=0)\n",
    "        scatter(p[0], p[1], color=c, alpha=0.5,  edgecolor='k')"
   ]
  },
  {
   "cell_type": "code",
   "execution_count": null,
   "metadata": {
    "collapsed": true
   },
   "outputs": [],
   "source": []
  },
  {
   "cell_type": "code",
   "execution_count": null,
   "metadata": {
    "collapsed": true
   },
   "outputs": [],
   "source": []
  },
  {
   "cell_type": "code",
   "execution_count": null,
   "metadata": {
    "collapsed": true
   },
   "outputs": [],
   "source": []
  },
  {
   "cell_type": "code",
   "execution_count": null,
   "metadata": {
    "collapsed": true
   },
   "outputs": [],
   "source": []
  },
  {
   "cell_type": "code",
   "execution_count": null,
   "metadata": {
    "collapsed": true
   },
   "outputs": [],
   "source": []
  },
  {
   "cell_type": "code",
   "execution_count": null,
   "metadata": {
    "collapsed": false
   },
   "outputs": [],
   "source": [
    "# generate perturbations\n",
    "perturb_shapes, delta_shapes = perturb_shapes_using_shape_model(shapes, sm, 25)"
   ]
  },
  {
   "cell_type": "code",
   "execution_count": null,
   "metadata": {
    "collapsed": true
   },
   "outputs": [],
   "source": [
    "# build delta shape model\n",
    "delta_sm = build_shape_model(delta_shapes)"
   ]
  },
  {
   "cell_type": "code",
   "execution_count": null,
   "metadata": {
    "collapsed": false
   },
   "outputs": [],
   "source": [
    "delta_sm.instance([0.5]).view()"
   ]
  },
  {
   "cell_type": "code",
   "execution_count": null,
   "metadata": {
    "collapsed": true
   },
   "outputs": [],
   "source": [
    "shape_params = []\n",
    "delta_shape_params = []\n",
    "for p_s, d_s in zip(perturb_shapes, delta_shapes):\n",
    "    shape_params.append(sm.project(p_s)[:2])\n",
    "    delta_shape_params.append(delta_sm.project(d_s)[:2])"
   ]
  },
  {
   "cell_type": "code",
   "execution_count": null,
   "metadata": {
    "collapsed": false
   },
   "outputs": [],
   "source": [
    "first_quad = []\n",
    "second_quad = []\n",
    "\n",
    "for (d_p, p_s) in zip(delta_shape_params, delta_shapes):\n",
    "    if d_p[0] >= 0:\n",
    "        first_quad.append(PointCloud(p_s.points + sm.mean().points))\n",
    "    else:\n",
    "        second_quad.append(PointCloud(p_s.points + sm.mean().points))"
   ]
  },
  {
   "cell_type": "code",
   "execution_count": null,
   "metadata": {
    "collapsed": false
   },
   "outputs": [],
   "source": [
    "visualize_pointclouds(second_quad)"
   ]
  },
  {
   "cell_type": "code",
   "execution_count": null,
   "metadata": {
    "collapsed": true
   },
   "outputs": [],
   "source": []
  }
 ],
 "metadata": {
  "kernelspec": {
   "display_name": "Python 2",
   "language": "python",
   "name": "python2"
  },
  "language_info": {
   "codemirror_mode": {
    "name": "ipython",
    "version": 2
   },
   "file_extension": ".py",
   "mimetype": "text/x-python",
   "name": "python",
   "nbconvert_exporter": "python",
   "pygments_lexer": "ipython2",
   "version": "2.7.9"
  }
 },
 "nbformat": 4,
 "nbformat_minor": 0
}
